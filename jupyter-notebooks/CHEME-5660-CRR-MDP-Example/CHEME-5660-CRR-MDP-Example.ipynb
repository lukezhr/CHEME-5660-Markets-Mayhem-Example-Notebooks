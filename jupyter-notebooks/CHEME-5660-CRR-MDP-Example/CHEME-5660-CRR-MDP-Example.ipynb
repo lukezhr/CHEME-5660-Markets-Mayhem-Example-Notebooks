{
 "cells": [
  {
   "cell_type": "markdown",
   "id": "2e878f70-1970-40a8-9c58-7bec2baa9b27",
   "metadata": {},
   "source": [
    "# CHEME 5660 Binomial Lattice Markov Decision Process Example"
   ]
  },
  {
   "cell_type": "markdown",
   "id": "f732c79e-b42f-47a5-b7ca-4112c30e62f9",
   "metadata": {},
   "source": [
    "## Introduction\n",
    "Let's formulate a Markov decision process to manage my holdings of the equity `XYZ` where the agent uses a Binomial lattice model as it's internal model for how the share price of `XYZ` could change over time.\n",
    "\n",
    "### Binomial lattice model\n",
    "A binomial lattice model assumes that each discrete time increment, the state of the system, e.g., the share price of equity, the spot rate, etc., can either increase by a factor $u$ with probability $p$ or decrease by a factor $d$ with probability $(1-p)$. Different models can be developed for the specific values of the tuple $(u,d,p)$. One particular model is the Cox, Ross, and Rubinstein (CRR) model:\n",
    "\n",
    "* [Cox, J. C.; Ross, S. A.; Rubinstein, M. (1979). \"Option pricing: A simplified approach\". Journal of Financial Economics. 7 (3): 229. CiteSeerX 10.1.1.379.7582. doi:10.1016/0304-405X(79)90015-1](https://www.sciencedirect.com/science/article/pii/0304405X79900151?via%3Dihub)\n",
    "\n",
    "#### Cox, Ross and Rubinstein (CRR) model\n",
    "The [CRR binomial lattice model](https://en.wikipedia.org/wiki/Binomial_options_pricing_model) was initially developed for options pricing in 1979. However, one of the critical aspects of estimating an option’s price is calculating the underlying asset’s share price. Thus, let's use the [CRR model](https://en.wikipedia.org/wiki/Binomial_options_pricing_model) to compute the share price of a stock, Advanced Micro Devices, Inc, with the ticker symbol [AMD](https://finance.yahoo.com/quote/AMD?.tsrc=applewf). In the [CRR model](https://en.wikipedia.org/wiki/Binomial_options_pricing_model) model, the `up` and `down` moves are symmetric:\n",
    "\n",
    "$$ud = 1$$\n",
    "\n",
    "where the magnitude of an `up` move $u$ is given by:\n",
    "\n",
    "$$u = \\exp(\\sigma\\sqrt{\\Delta{T}})$$\n",
    "\n",
    "The quantity $\\sigma$ denotes a _volatility parameter_, and $\\Delta{T}$ represents the time step. The probability $p$ of an `up` move in a [CRR model](https://en.wikipedia.org/wiki/Binomial_options_pricing_model) is given by:\n",
    "\n",
    "$$p = \\frac{\\exp(\\mu\\Delta{T}) - d}{u - d}$$\n",
    "\n",
    "where $\\mu$ denotes a _return parameter_. In the [CRR model](https://en.wikipedia.org/wiki/Binomial_options_pricing_model) model paradigm, the return parameter $\\mu$ and the volatility parameter $\\sigma$\n",
    "\n",
    "### Markov decision process\n",
    "A Markov decision process is the tuple $\\left(\\mathcal{S}, \\mathcal{A}, R_{a}\\left(s, s^{\\prime}\\right), T_{a}\\left(s,s^{\\prime}\\right), \\gamma\\right)$ where:\n",
    "\n",
    "* The state space $\\mathcal{S}$ is the set of all possible states $s$ that a system can exist in\n",
    "* The action space $\\mathcal{A}$ is the set of all possible actions $a$ that are available to the agent, where $\\mathcal{A}_{s} \\subseteq \\mathcal{A}$ is the subset of the action space $\\mathcal{A}$ that is accessible from state $s$.\n",
    "* An expected immediate reward $R_{a}\\left(s, s^{\\prime}\\right)$ is received after transitioning from state $s\\rightarrow{s}^{\\prime}$ due to action $a$. \n",
    "* The transition $T_{a}\\left(s,s^{\\prime}\\right) = P(s_{t+1} = s^{\\prime}~|~s_{t}=s,a_{t} = a)$ denotes the probability that action $a$ in state $s$ at time $t$ will result in state $s^{\\prime}$ at time $t+1$\n",
    "* The quantity $\\gamma$ is a _discount factor_; the discount factor is used to weigh the _future expected utility_.\n",
    "\n",
    "Finally, a policy function $\\pi$ is the (potentially probabilistic) mapping from states $s\\in\\mathcal{S}$ to actions $a\\in\\mathcal{A}$ used by the agent to solve the decision task. "
   ]
  },
  {
   "cell_type": "markdown",
   "id": "0a0d1f99-c65e-492d-b16d-89bd901e558f",
   "metadata": {},
   "source": [
    "### Example setup"
   ]
  },
  {
   "cell_type": "code",
   "execution_count": 1,
   "id": "db70e297-7350-406a-8959-8d42c78fc7fb",
   "metadata": {},
   "outputs": [
    {
     "name": "stderr",
     "output_type": "stream",
     "text": [
      "\u001b[32m\u001b[1m  Activating\u001b[22m\u001b[39m project at `~/Desktop/julia_work/CHEME-5660-Markets-Mayhem-Example-Notebooks/jupyter-notebooks/CHEME-5660-CRR-MDP-Example`\n",
      "\u001b[32m\u001b[1m  No Changes\u001b[22m\u001b[39m to `~/Desktop/julia_work/CHEME-5660-Markets-Mayhem-Example-Notebooks/jupyter-notebooks/CHEME-5660-CRR-MDP-Example/Project.toml`\n",
      "\u001b[32m\u001b[1m  No Changes\u001b[22m\u001b[39m to `~/Desktop/julia_work/CHEME-5660-Markets-Mayhem-Example-Notebooks/jupyter-notebooks/CHEME-5660-CRR-MDP-Example/Manifest.toml`\n"
     ]
    }
   ],
   "source": [
    "import Pkg; Pkg.activate(\".\"); Pkg.resolve(); Pkg.instantiate();"
   ]
  },
  {
   "cell_type": "code",
   "execution_count": 2,
   "id": "00cd5be9-93bd-45ff-bab1-184fb00f9af0",
   "metadata": {},
   "outputs": [],
   "source": [
    "# load reqd packages -\n",
    "using PQEcolaPoint"
   ]
  },
  {
   "cell_type": "code",
   "execution_count": 62,
   "id": "b9d24320-6599-40e6-abc9-a85b3ca03f0f",
   "metadata": {},
   "outputs": [],
   "source": [
    "include(\"CHEME-5660-Example-CodeLib.jl\");"
   ]
  },
  {
   "cell_type": "markdown",
   "id": "3eac2c05-1841-4560-b747-0324b11649a1",
   "metadata": {},
   "source": [
    "#### Constants"
   ]
  },
  {
   "cell_type": "code",
   "execution_count": 22,
   "id": "e40b98ce-155d-40a7-91e7-ca6366825a5f",
   "metadata": {},
   "outputs": [],
   "source": [
    "# set some constants -\n",
    "μₘ = 0.0403;   # assume we grow at the risk free rate -\n",
    "Sₒ = 100.0;   # current share price\n",
    "IV = 55.15;   # implied vol\n",
    "σₘ = (IV/100); # volatility \n",
    "L = 60;       # number of levels on the tree\n",
    "B = 365.0     # days in a year (all values are per year)\n",
    "DTE = 30.0;   # planning horizon"
   ]
  },
  {
   "cell_type": "markdown",
   "id": "454777ec-0384-4271-aeb3-7a025c0bb07e",
   "metadata": {},
   "source": [
    "#### Build the lattice model"
   ]
  },
  {
   "cell_type": "code",
   "execution_count": 23,
   "id": "41ebf785-c3b1-47f2-b2fc-92c7e676ed03",
   "metadata": {},
   "outputs": [],
   "source": [
    "lattice_model = build(CRRLatticeModel; \n",
    "    number_of_levels=(L+1), Sₒ = Sₒ, σ = σₘ, μ = μₘ, T = (DTE/B));"
   ]
  },
  {
   "cell_type": "code",
   "execution_count": 83,
   "id": "b710e39a-9f45-4d53-9348-9f2f7a11897c",
   "metadata": {},
   "outputs": [],
   "source": [
    "P = lattice_model.data[:,1];"
   ]
  },
  {
   "cell_type": "markdown",
   "id": "dc108179-fff6-47a7-a1d8-e1e8da3b802d",
   "metadata": {},
   "source": [
    "#### Build: node dictionary `id`"
   ]
  },
  {
   "cell_type": "code",
   "execution_count": 24,
   "id": "3af3e0ce-f359-4879-8f18-d40649a04a80",
   "metadata": {},
   "outputs": [
    {
     "data": {
      "text/plain": [
       "Dict{Int64, Vector{Int64}} with 61 entries:\n",
       "  5  => [16, 17, 18, 19, 20, 21]\n",
       "  56 => [1597, 1598, 1599, 1600, 1601, 1602, 1603, 1604, 1605, 1606  …  1644, 1…\n",
       "  35 => [631, 632, 633, 634, 635, 636, 637, 638, 639, 640  …  657, 658, 659, 66…\n",
       "  55 => [1541, 1542, 1543, 1544, 1545, 1546, 1547, 1548, 1549, 1550  …  1587, 1…\n",
       "  60 => [1831, 1832, 1833, 1834, 1835, 1836, 1837, 1838, 1839, 1840  …  1882, 1…\n",
       "  30 => [466, 467, 468, 469, 470, 471, 472, 473, 474, 475  …  487, 488, 489, 49…\n",
       "  32 => [529, 530, 531, 532, 533, 534, 535, 536, 537, 538  …  552, 553, 554, 55…\n",
       "  6  => [22, 23, 24, 25, 26, 27, 28]\n",
       "  45 => [1036, 1037, 1038, 1039, 1040, 1041, 1042, 1043, 1044, 1045  …  1072, 1…\n",
       "  4  => [11, 12, 13, 14, 15]\n",
       "  13 => [92, 93, 94, 95, 96, 97, 98, 99, 100, 101, 102, 103, 104, 105]\n",
       "  54 => [1486, 1487, 1488, 1489, 1490, 1491, 1492, 1493, 1494, 1495  …  1531, 1…\n",
       "  58 => [1712, 1713, 1714, 1715, 1716, 1717, 1718, 1719, 1720, 1721  …  1761, 1…\n",
       "  52 => [1379, 1380, 1381, 1382, 1383, 1384, 1385, 1386, 1387, 1388  …  1422, 1…\n",
       "  12 => [79, 80, 81, 82, 83, 84, 85, 86, 87, 88, 89, 90, 91]\n",
       "  28 => [407, 408, 409, 410, 411, 412, 413, 414, 415, 416  …  426, 427, 428, 42…\n",
       "  23 => [277, 278, 279, 280, 281, 282, 283, 284, 285, 286  …  291, 292, 293, 29…\n",
       "  41 => [862, 863, 864, 865, 866, 867, 868, 869, 870, 871  …  894, 895, 896, 89…\n",
       "  43 => [947, 948, 949, 950, 951, 952, 953, 954, 955, 956  …  981, 982, 983, 98…\n",
       "  11 => [67, 68, 69, 70, 71, 72, 73, 74, 75, 76, 77, 78]\n",
       "  36 => [667, 668, 669, 670, 671, 672, 673, 674, 675, 676  …  694, 695, 696, 69…\n",
       "  39 => [781, 782, 783, 784, 785, 786, 787, 788, 789, 790  …  811, 812, 813, 81…\n",
       "  7  => [29, 30, 31, 32, 33, 34, 35, 36]\n",
       "  25 => [326, 327, 328, 329, 330, 331, 332, 333, 334, 335  …  342, 343, 344, 34…\n",
       "  34 => [596, 597, 598, 599, 600, 601, 602, 603, 604, 605  …  621, 622, 623, 62…\n",
       "  ⋮  => ⋮"
      ]
     },
     "execution_count": 24,
     "metadata": {},
     "output_type": "execute_result"
    }
   ],
   "source": [
    "id = build_nodes_dictionary(L) # zero based"
   ]
  },
  {
   "cell_type": "markdown",
   "id": "b1f36d47-8344-4043-8972-d7fcbb3c5c32",
   "metadata": {},
   "source": [
    "#### Build: probability dictionary `pd`\n",
    "The probability dictionary holds the probability values for each node at a particular time level:\n",
    "\n",
    "$$P(S_{t} = S_{\\circ}u^{k}d^{t-k}) = \\binom{t}{k}p^{k}\\left(1-p\\right)^{t-k}$$\n",
    "\n",
    "where $t$ denotes the time index and $k=0,1,\\dots,t$."
   ]
  },
  {
   "cell_type": "code",
   "execution_count": 25,
   "id": "912c09fb-09c5-42e2-b7b3-a7e921c84ae1",
   "metadata": {},
   "outputs": [
    {
     "data": {
      "text/plain": [
       "Dict{Int64, Vector{Float64}} with 61 entries:\n",
       "  5  => [0.0301048, 0.15278, 0.310141, 0.31479, 0.159754, 0.0324298]\n",
       "  56 => [9.1351e-18, 5.19234e-16, 1.4493e-14, 2.64784e-13, 3.56099e-12, 3.75894…\n",
       "  35 => [2.24102e-11, 7.96115e-10, 1.37368e-8, 1.5337e-7, 1.24536e-6, 7.83695e-…\n",
       "  55 => [1.84071e-17, 1.02757e-15, 2.81603e-14, 5.04956e-13, 6.66283e-12, 6.897…\n",
       "  60 => [5.54143e-19, 3.3747e-17, 1.01046e-15, 1.98284e-14, 2.8679e-13, 3.2602e…\n",
       "  30 => [7.44408e-10, 2.2667e-8, 3.33598e-7, 3.16026e-6, 2.16515e-5, 0.00011427…\n",
       "  32 => [1.83343e-10, 5.95493e-9, 9.36851e-8, 9.50894e-7, 6.99733e-6, 3.97724e-…\n",
       "  6  => [0.0149404, 0.0909862, 0.230875, 0.312448, 0.237849, 0.0965657, 0.01633…\n",
       "  45 => [2.03103e-14, 9.27664e-13, 2.07145e-11, 3.01359e-10, 3.2117e-9, 2.67308…\n",
       "  4  => [0.0606608, 0.24628, 0.374958, 0.25372, 0.0643807]\n",
       "  13 => [0.000110777, 0.00146169, 0.00890164, 0.0331286, 0.084063, 0.153582, 0.…\n",
       "  54 => [3.70902e-17, 2.0329e-15, 5.46793e-14, 9.61982e-13, 1.24491e-11, 1.2635…\n",
       "  58 => [2.24992e-18, 1.32452e-16, 3.83146e-15, 7.25927e-14, 1.01311e-12, 1.110…\n",
       "  52 => [1.50593e-16, 7.94823e-15, 2.05718e-13, 3.48003e-12, 4.32695e-11, 4.216…\n",
       "  12 => [0.000223215, 0.00271874, 0.0151772, 0.0513491, 0.117267, 0.19044, 0.22…\n",
       "  28 => [3.02243e-9, 8.58967e-8, 1.17699e-6, 1.03535e-5, 6.56793e-5, 0.00031998…\n",
       "  23 => [1.00397e-7, 2.34375e-6, 2.61677e-5, 0.00018592, 0.000943535, 0.0036391…\n",
       "  41 => [3.34817e-13, 1.39333e-11, 2.82843e-10, 3.73208e-9, 3.59863e-8, 2.7029e…\n",
       "  43 => [8.24636e-14, 3.59909e-12, 7.67138e-11, 1.06414e-9, 1.08009e-8, 8.551e-…\n",
       "  11 => [0.000449777, 0.00502171, 0.025485, 0.0776009, 0.157528, 0.223846, 0.22…\n",
       "  36 => [1.11217e-11, 4.06385e-10, 7.21834e-9, 8.30342e-8, 6.95301e-7, 4.51663e…\n",
       "  39 => [1.35942e-12, 5.38122e-11, 1.03776e-9, 1.29909e-8, 1.18671e-7, 8.43146e…\n",
       "  7  => [0.00741463, 0.0526804, 0.16041, 0.271358, 0.275426, 0.167733, 0.056749…\n",
       "  25 => [2.47272e-8, 6.27448e-7, 7.64224e-6, 5.94688e-5, 0.000331981, 0.0014152…\n",
       "  34 => [4.51564e-11, 1.55833e-9, 2.60979e-8, 2.82551e-7, 2.22259e-6, 1.35355e-…\n",
       "  ⋮  => ⋮"
      ]
     },
     "execution_count": 25,
     "metadata": {},
     "output_type": "execute_result"
    }
   ],
   "source": [
    "pd = build_probability_dictionary(lattice_model, L) # zero based"
   ]
  },
  {
   "cell_type": "markdown",
   "id": "ce5323a0-982a-4868-a275-c11c1b50bc3d",
   "metadata": {},
   "source": [
    "#### Build: children dictionary `children_dict`"
   ]
  },
  {
   "cell_type": "code",
   "execution_count": 71,
   "id": "2d937eaf-a6fe-4290-a410-4306248fd8e7",
   "metadata": {},
   "outputs": [
    {
     "data": {
      "text/plain": [
       "Dict{Int64, Vector{Int64}} with 1891 entries:\n",
       "  1144 => [1192, 1193]\n",
       "  1175 => [1223, 1224]\n",
       "  719  => [757, 758]\n",
       "  1546 => [1602, 1603]\n",
       "  1703 => [1761, 1762]\n",
       "  1028 => [1073, 1074]\n",
       "  699  => [736, 737]\n",
       "  831  => [872, 873]\n",
       "  1299 => [1350, 1351]\n",
       "  1438 => [1492, 1493]\n",
       "  1074 => [1120, 1121]\n",
       "  319  => [344, 345]\n",
       "  687  => [724, 725]\n",
       "  1812 => [1872, 1873]\n",
       "  1199 => [1248, 1249]\n",
       "  185  => [204, 205]\n",
       "  823  => [864, 865]\n",
       "  1090 => [1137, 1138]\n",
       "  420  => [449, 450]\n",
       "  1370 => [1422, 1423]\n",
       "  1437 => [1491, 1492]\n",
       "  1662 => [1720, 1721]\n",
       "  525  => [557, 558]\n",
       "  365  => [392, 393]\n",
       "  638  => [674, 675]\n",
       "  ⋮    => ⋮"
      ]
     },
     "execution_count": 71,
     "metadata": {},
     "output_type": "execute_result"
    }
   ],
   "source": [
    "children_dict = build_children_dictionary(id) # root node = 1"
   ]
  },
  {
   "cell_type": "markdown",
   "id": "c86251ce-ea98-42c5-b9e1-03efa130bec8",
   "metadata": {},
   "source": [
    "### Let's build my MDP components"
   ]
  },
  {
   "cell_type": "markdown",
   "id": "b7ddf82e-9018-4219-a55c-13402f4bbb72",
   "metadata": {},
   "source": [
    "#### a) What are my possible states $\\mathcal{S}$?\n",
    "Let the states $\\mathcal{S}$ be the set of nodes in the binomial lattice $|L|$ plus a trade closed state (if we sell all of our shares)."
   ]
  },
  {
   "cell_type": "code",
   "execution_count": 78,
   "id": "1382fe21-a4a2-4541-bb08-c19747ba71ee",
   "metadata": {},
   "outputs": [
    {
     "name": "stdout",
     "output_type": "stream",
     "text": [
      "|L| = 1891 + trade closed state gives |𝒮| = 1892 states\n"
     ]
    }
   ],
   "source": [
    "number_of_states = maximum(id[60]);\n",
    "println(\"|L| = $(number_of_states) + trade closed state gives |𝒮| = $(number_of_states + 1) states\")"
   ]
  },
  {
   "cell_type": "markdown",
   "id": "6bda2d65-dfc4-4a16-a458-c6d08df75574",
   "metadata": {},
   "source": [
    "#### b) What are my possible actions $\\mathcal{A}$?\n",
    "The most intuitive action set for equity might be: \n",
    "\n",
    "$$\\mathcal{A} = \\left\\{\\texttt{buy}, \\texttt{sell}, \\texttt{hold}\\right\\}$$\n",
    "\n",
    "where the $a_{1} = \\texttt{buy}$ action purchases a block of shares at the current market price, the $a_{2} = \\texttt{sell}$ action sells a block of shares from your holdings back to the market and the $a_{3} = \\texttt{hold}$ action does nothing."
   ]
  },
  {
   "cell_type": "markdown",
   "id": "ee7f92d4-2ca5-4f65-b0f5-784e350eb31f",
   "metadata": {},
   "source": [
    "#### c) What are my possible rewards $R(s, a)$?\n",
    "Intuitively, we expect the reward to be related to the capital gain (or loss) associated with the sale of shares of `XYZ`. However, there could be other reward models, e.g., we want to continuously lower our portfolio’s average share price of `XYZ`. \n",
    "\n",
    "Suppose we own `XYZ` at an average share price of $\\bar{S}$ USD/share. Further, suppose our transactional unit is $n_{a}$ shares, i.e., we choose $a_{1}$ or $a_{2}$ we buy or sell $n_{a}$ shares and that we own $n_{t}$ shares at time $t$."
   ]
  },
  {
   "cell_type": "code",
   "execution_count": null,
   "id": "4513d6f1-0cb3-4f0d-8d0a-baeee46b30d1",
   "metadata": {},
   "outputs": [],
   "source": [
    "# build a reward array -\n",
    "\n",
    "# initialize -\n",
    "R = Array{Float64,2}(undef, (number_of_states+1), 3);\n",
    "fill!(R,0.0); # initially all zeros -\n",
    "nₐ = 1; # number of shares that we buy/sell for a₁ or a₂ -\n",
    "\n",
    "for s ∈ 1:number_of_states\n",
    "    \n",
    "    # setup reward for each action\n",
    "    R[s,1] = 0.0; # reward in state s if we execute a₁ (buy nₐ)\n",
    "    R[s,2] = 0.0; # reward in state s if we execute a₂ (sell nₐ)\n",
    "    R[s,3] = 0.0; # reward in state s if we execute a₃ (hold)\n",
    "    \n",
    "end"
   ]
  },
  {
   "cell_type": "markdown",
   "id": "ad2df023-840b-43e4-990b-5b0a5cadcdc1",
   "metadata": {},
   "source": [
    "#### d) What are my possible transitions $T_{a}\\left(s,s^{\\prime}\\right)$?\n",
    "To answer this, we really need to understand what the states are, epecially for actions $a_{1}$ and $a_{2}$."
   ]
  },
  {
   "cell_type": "markdown",
   "id": "43e5e225-2a44-477c-99cd-123cbd631626",
   "metadata": {},
   "source": [
    "### Disclaimer and Risks\n",
    "__This content is offered solely for training and  informational purposes__. No offer or solicitation to buy or sell securities or derivative products, or any investment or trading advice or strategy,  is made, given, or endorsed by the teaching team. \n",
    "\n",
    "__Trading involves risk__. Carefully review your financial situation before investing in securities, futures contracts, options, or commodity interests. Past performance, whether actual or indicated by historical tests of strategies, is no guarantee of future performance or success. Trading is generally inappropriate for someone with limited resources, investment or trading experience, or a low-risk tolerance.  Only risk capital that is not required for living expenses.\n",
    "\n",
    "__You are fully responsible for any investment or trading decisions you make__. Such decisions should be based solely on your evaluation of your financial circumstances, investment or trading objectives, risk tolerance, and liquidity needs."
   ]
  },
  {
   "cell_type": "code",
   "execution_count": null,
   "id": "cd54d7f6-19f5-4264-bad9-bd577feb0e36",
   "metadata": {},
   "outputs": [],
   "source": []
  }
 ],
 "metadata": {
  "kernelspec": {
   "display_name": "Julia 1.8.0",
   "language": "julia",
   "name": "julia-1.8"
  },
  "language_info": {
   "file_extension": ".jl",
   "mimetype": "application/julia",
   "name": "julia",
   "version": "1.8.2"
  }
 },
 "nbformat": 4,
 "nbformat_minor": 5
}
