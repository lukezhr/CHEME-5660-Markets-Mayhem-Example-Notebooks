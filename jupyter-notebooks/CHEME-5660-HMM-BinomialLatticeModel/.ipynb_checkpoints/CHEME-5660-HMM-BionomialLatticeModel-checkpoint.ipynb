{
 "cells": [
  {
   "cell_type": "code",
   "execution_count": 1,
   "id": "1d67c1e5-6a48-4b13-add0-e103364c026a",
   "metadata": {},
   "outputs": [
    {
     "name": "stderr",
     "output_type": "stream",
     "text": [
      "\u001b[32m\u001b[1m  Activating\u001b[22m\u001b[39m project at `~/Desktop/julia_work/CHEME-5660-Markets-Mayhem-Example-Notebooks/jupyter-notebooks/CHEME-5660-HMM-BinomialLatticeModel`\n",
      "\u001b[32m\u001b[1m  No Changes\u001b[22m\u001b[39m to `~/Desktop/julia_work/CHEME-5660-Markets-Mayhem-Example-Notebooks/jupyter-notebooks/CHEME-5660-HMM-BinomialLatticeModel/Project.toml`\n",
      "\u001b[32m\u001b[1m  No Changes\u001b[22m\u001b[39m to `~/Desktop/julia_work/CHEME-5660-Markets-Mayhem-Example-Notebooks/jupyter-notebooks/CHEME-5660-HMM-BinomialLatticeModel/Manifest.toml`\n"
     ]
    }
   ],
   "source": [
    "import Pkg; Pkg.activate(\".\"); Pkg.resolve(); Pkg.instantiate();"
   ]
  },
  {
   "cell_type": "code",
   "execution_count": 2,
   "id": "25f3eaa9-9edb-4693-b13f-923ee7778fe3",
   "metadata": {},
   "outputs": [],
   "source": [
    "# load required packages -\n",
    "using Distributions\n",
    "using Plots\n",
    "using Colors\n",
    "\n",
    "# setup paths -\n",
    "const _ROOT = pwd();\n",
    "const _PATH_TO_FIGS = joinpath(_ROOT, \"figs\");"
   ]
  },
  {
   "cell_type": "code",
   "execution_count": 3,
   "id": "f2d42541-e576-4eec-a19b-10af5c4e6b9a",
   "metadata": {},
   "outputs": [],
   "source": [
    "# setup some constants -\n",
    "T = 45;       # number of time steps\n",
    "ΔT = (1/365); # time-step\n",
    "IV = 24.20;   # Implied volatility\n",
    "σ = (IV/100); # approx vol\n",
    "Sₒ = 100.0;   # initial price"
   ]
  },
  {
   "cell_type": "markdown",
   "id": "c243fc28-9b66-4a44-a9a1-28c9c7247ae4",
   "metadata": {},
   "source": [
    "#### a) Compute the MC stationary distribution"
   ]
  },
  {
   "cell_type": "code",
   "execution_count": 4,
   "id": "f3abfc58-919c-4c24-b735-e216ad4e95b9",
   "metadata": {},
   "outputs": [
    {
     "data": {
      "text/plain": [
       "2-element Vector{Float64}:\n",
       " 0.46153846153846145\n",
       " 0.5384615384615385"
      ]
     },
     "execution_count": 4,
     "metadata": {},
     "output_type": "execute_result"
    }
   ],
   "source": [
    "# setup my transition array -\n",
    "\n",
    "# optimistic\n",
    "# P = [\n",
    "#     0.7 0.3 ; # state 1 up\n",
    "#     0.6 0.4 ; # state 2 down\n",
    "# ];\n",
    "\n",
    "# pessimistic \n",
    "P = [\n",
    "    0.3 0.7 ; # state 1 up\n",
    "    0.6 0.4 ; # state 2 down\n",
    "];\n",
    "\n",
    "# stationary d -\n",
    "π_probability = (P^100)[1,:]"
   ]
  },
  {
   "cell_type": "markdown",
   "id": "b5e55749-2895-4240-8d03-6d0a0cee7f88",
   "metadata": {},
   "source": [
    "#### b) Build a Categorical distribution using the MC stationary distribution"
   ]
  },
  {
   "cell_type": "code",
   "execution_count": 5,
   "id": "f4cc8f06-2da2-4211-beeb-af0873dbf24f",
   "metadata": {},
   "outputs": [],
   "source": [
    "# build a categorical distribution -\n",
    "d = Categorical(π_probability);\n",
    "\n",
    "# setup the up and down move dict -\n",
    "move_dictionary = Dict{Int64,Float64}();\n",
    "move_dictionary[1] = exp(σ*sqrt(ΔT));\n",
    "move_dictionary[2] = exp(-σ*sqrt(ΔT));"
   ]
  },
  {
   "cell_type": "code",
   "execution_count": 6,
   "id": "d6882699-ef5e-413c-b4f4-144b81e65753",
   "metadata": {},
   "outputs": [],
   "source": [
    "# sample -\n",
    "number_of_time_steps = T;\n",
    "number_of_paths = 250;\n",
    "\n",
    "# build an array of possible trajectories -\n",
    "Z = rand(d, T, number_of_paths);\n",
    "\n",
    "# price array -\n",
    "PA = Array{Float64,2}(undef, number_of_time_steps+1, number_of_paths);\n",
    "fill!(PA,0.0);\n",
    "\n",
    "# add initial condition -\n",
    "for p ∈ 1:number_of_paths\n",
    "    PA[1,p] = Sₒ;\n",
    "end\n",
    "\n",
    "# main loop -\n",
    "for t ∈ 1:number_of_time_steps\n",
    "    for p ∈ 1:number_of_paths\n",
    "        \n",
    "        # grab a state -\n",
    "        state_index = Z[t,p];\n",
    "        f = move_dictionary[state_index];\n",
    "        PA[t+1,p] = PA[t,p]*f;\n",
    "    end\n",
    "end"
   ]
  },
  {
   "cell_type": "code",
   "execution_count": 7,
   "id": "24d79d11-c932-433f-aff3-60febe06b389",
   "metadata": {},
   "outputs": [
    {
     "data": {
      "text/plain": [
       "46×250 Matrix{Float64}:\n",
       " 100.0     100.0     100.0     100.0     …  100.0     100.0     100.0\n",
       " 101.275    98.7413   98.7413   98.7413      98.7413  101.275    98.7413\n",
       " 102.566    97.4984  100.0      97.4984      97.4984  102.566    97.4984\n",
       " 101.275    96.2712  101.275    96.2712      98.7413  101.275    96.2712\n",
       " 100.0      95.0595  100.0      97.4984      97.4984  100.0      97.4984\n",
       "  98.7413   96.2712   98.7413   96.2712  …   96.2712  101.275    98.7413\n",
       " 100.0      97.4984   97.4984   97.4984      97.4984  100.0     100.0\n",
       " 101.275    96.2712   98.7413   96.2712      96.2712   98.7413  101.275\n",
       " 100.0      95.0595   97.4984   97.4984      95.0595   97.4984  100.0\n",
       "  98.7413   93.863    96.2712   96.2712      93.863    98.7413   98.7413\n",
       " 100.0      95.0595   95.0595   97.4984  …   95.0595   97.4984   97.4984\n",
       "  98.7413   93.863    96.2712   98.7413      93.863    98.7413   96.2712\n",
       " 100.0      92.6815   95.0595   97.4984      95.0595   97.4984   97.4984\n",
       "   ⋮                                     ⋱                      \n",
       " 105.197    90.363    90.363    95.0595      90.363   100.0     100.0\n",
       " 106.538    89.2256   91.5149   96.2712  …   91.5149   98.7413   98.7413\n",
       " 105.197    88.1026   92.6815   95.0595      90.363    97.4984   97.4984\n",
       " 103.873    89.2256   93.863    96.2712      91.5149   98.7413   98.7413\n",
       " 102.566    88.1026   92.6815   95.0595      90.363    97.4984   97.4984\n",
       " 101.275    89.2256   91.5149   93.863       89.2256   96.2712   96.2712\n",
       " 102.566    90.363    92.6815   95.0595  …   88.1026   95.0595   95.0595\n",
       " 101.275    89.2256   93.863    93.863       86.9936   93.863    93.863\n",
       " 100.0      88.1026   95.0595   95.0595      88.1026   92.6815   95.0595\n",
       " 101.275    89.2256   96.2712   93.863       86.9936   91.5149   96.2712\n",
       " 100.0      88.1026   95.0595   95.0595      88.1026   92.6815   95.0595\n",
       " 101.275    89.2256   96.2712   96.2712  …   86.9936   91.5149   96.2712"
      ]
     },
     "execution_count": 7,
     "metadata": {},
     "output_type": "execute_result"
    }
   ],
   "source": [
    "PA"
   ]
  },
  {
   "cell_type": "code",
   "execution_count": 9,
   "id": "4347a9c1-5c51-4896-8626-b46328053003",
   "metadata": {},
   "outputs": [],
   "source": [
    "# Let's compute some states from the samples -\n",
    "μ = mean(PA,dims=2);\n",
    "L = μ .- std(PA, dims=2);\n",
    "U = μ .+ std(PA, dims=2);\n",
    "L2 = μ .- 1.96*std(PA, dims=2);\n",
    "U2 = μ .+ 1.96*std(PA, dims=2);\n",
    "\n",
    "min_value = 0.95*minimum(PA[end,:]);\n",
    "max_value = 1.05*maximum(PA[end,:]);\n",
    "\n",
    "plot(μ, fillrange=U, fillalpha = 0.4, label=\"\", c=colorant\"#EF4035\", legend=:topleft, bg=colorant\"#F2F2F2\", \n",
    "    background_color_outside=\"white\", framestyle = :box, fg_legend = :transparent, ylim=(min_value, max_value))\n",
    "plot!(μ, fillrange=L, fillalpha = 0.4, label=\"\", c=colorant\"#EF4035\")\n",
    "plot!(μ, fillrange=L2, fillalpha = 0.1, label=\"\", c=colorant\"#EF4035\")\n",
    "plot!(μ, fillrange=U2, fillalpha = 0.1, label=\"\", c=colorant\"#EF4035\")\n",
    "plot!(μ, label=\"sample mean (N = $(number_of_paths))\", lw=2, c=colorant\"#EF4035\")\n",
    "\n",
    "# setup the labels -\n",
    "xlabel!(\"Trading day index (AU)\", fontsize=18)\n",
    "ylabel!(\"Share price XYZ (USD/share)\", fontsize=18)\n",
    "\n",
    "# uncomment me to save figure -\n",
    "# filename=\"Fig-HMM-down-SRA-N250.pdf\"\n",
    "# savefig(joinpath(_PATH_TO_FIGS, filename));"
   ]
  },
  {
   "cell_type": "code",
   "execution_count": null,
   "id": "5de1cc6f-e8b6-4c7d-b3d1-892a1c405f51",
   "metadata": {},
   "outputs": [],
   "source": []
  }
 ],
 "metadata": {
  "kernelspec": {
   "display_name": "Julia 1.8.0",
   "language": "julia",
   "name": "julia-1.8"
  },
  "language_info": {
   "file_extension": ".jl",
   "mimetype": "application/julia",
   "name": "julia",
   "version": "1.8.2"
  }
 },
 "nbformat": 4,
 "nbformat_minor": 5
}
