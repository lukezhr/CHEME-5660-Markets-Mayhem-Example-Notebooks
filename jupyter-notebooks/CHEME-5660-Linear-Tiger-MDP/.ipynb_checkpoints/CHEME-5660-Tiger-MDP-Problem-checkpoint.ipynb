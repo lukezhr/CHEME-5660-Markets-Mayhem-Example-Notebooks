{
 "cells": [
  {
   "cell_type": "markdown",
   "id": "84cde366-e417-4e53-bfc8-20a18fcf23ad",
   "metadata": {},
   "source": [
    "## CHEME 5660 The Tiger Problem as a Markov Decision Problem"
   ]
  },
  {
   "cell_type": "markdown",
   "id": "e1051985-7e86-4c66-bb83-994e1c0ad0d6",
   "metadata": {},
   "source": [
    "### Introduction\n",
    "Fill me in"
   ]
  },
  {
   "cell_type": "markdown",
   "id": "ed3dbaee-739d-4e02-a3e2-8721fb8c636f",
   "metadata": {},
   "source": [
    "### Example setup"
   ]
  },
  {
   "cell_type": "code",
   "execution_count": 1,
   "id": "d6aa8155-d399-4482-904f-c3edaa65244c",
   "metadata": {},
   "outputs": [
    {
     "name": "stderr",
     "output_type": "stream",
     "text": [
      "\u001b[32m\u001b[1m  Activating\u001b[22m\u001b[39m project at `~/Desktop/julia_work/CHEME-5660-Markets-Mayhem-Example-Notebooks/jupyter-notebooks/CHEME-5660-Linear-Tiger-MDP`\n",
      "\u001b[32m\u001b[1m  No Changes\u001b[22m\u001b[39m to `~/Desktop/julia_work/CHEME-5660-Markets-Mayhem-Example-Notebooks/jupyter-notebooks/CHEME-5660-Linear-Tiger-MDP/Project.toml`\n",
      "\u001b[32m\u001b[1m  No Changes\u001b[22m\u001b[39m to `~/Desktop/julia_work/CHEME-5660-Markets-Mayhem-Example-Notebooks/jupyter-notebooks/CHEME-5660-Linear-Tiger-MDP/Manifest.toml`\n"
     ]
    }
   ],
   "source": [
    "import Pkg; Pkg.activate(\".\"); Pkg.resolve(); Pkg.instantiate();"
   ]
  },
  {
   "cell_type": "code",
   "execution_count": 16,
   "id": "f6e5ee87-0372-43b4-97a2-02225ae37f17",
   "metadata": {},
   "outputs": [
    {
     "name": "stderr",
     "output_type": "stream",
     "text": [
      "┌ Info: Precompiling Plots [91a5bcdd-55d7-5caf-9e0b-520d859cae80]\n",
      "└ @ Base loading.jl:1664\n"
     ]
    }
   ],
   "source": [
    "using Distributions\n",
    "using Plots"
   ]
  },
  {
   "cell_type": "code",
   "execution_count": 3,
   "id": "4362776a-ce7d-40c8-ac18-2f5ef8ca3ceb",
   "metadata": {},
   "outputs": [],
   "source": [
    "include(\"CHEME-5660-Tiger-MDP-CodeLib.jl\");"
   ]
  },
  {
   "cell_type": "code",
   "execution_count": 4,
   "id": "074882e6-d1d5-461b-81ac-2de90d471721",
   "metadata": {},
   "outputs": [],
   "source": [
    "# setup some global constants -\n",
    "α = 0.75; # probability of moving the direction we are expect"
   ]
  },
  {
   "cell_type": "markdown",
   "id": "99b31d94-e11c-4fd9-9871-d22104f22a88",
   "metadata": {},
   "source": [
    "#### States and actions"
   ]
  },
  {
   "cell_type": "code",
   "execution_count": 5,
   "id": "b9a687bf-4977-4346-8665-8de40248baf8",
   "metadata": {},
   "outputs": [],
   "source": [
    "# setup the states and actions -\n",
    "safety = 1;\n",
    "tiger = 50;\n",
    "\n",
    "states = range(safety,stop=tiger, step=1) |> collect;\n",
    "actions = [1,2,3]; # a₁ = move left, a₂ = move right, a₃ = listen\n",
    "γ = 0.95;"
   ]
  },
  {
   "cell_type": "markdown",
   "id": "e118e9ab-4dd3-4f17-8421-ac56a4cdc710",
   "metadata": {},
   "source": [
    "#### Rewards"
   ]
  },
  {
   "cell_type": "code",
   "execution_count": 6,
   "id": "988a7ae7-5352-480b-aa9a-4286a9b279df",
   "metadata": {},
   "outputs": [],
   "source": [
    "# setup the rewards -\n",
    "R = Array{Float64,2}(undef,length(states), length(actions));\n",
    "fill!(R,0.0) # fill R w/zeros\n",
    "\n",
    "# set the rewards for the ends -\n",
    "R[safety + 1,1] = 10;\n",
    "R[tiger-1, 2] = -100;\n",
    "R[1:length(states), 3] .= -1;"
   ]
  },
  {
   "cell_type": "code",
   "execution_count": 7,
   "id": "ad696e20-94f1-4f48-91e0-dac46b20655e",
   "metadata": {},
   "outputs": [
    {
     "data": {
      "text/plain": [
       "50×3 Matrix{Float64}:\n",
       "  0.0     0.0  -1.0\n",
       " 10.0     0.0  -1.0\n",
       "  0.0     0.0  -1.0\n",
       "  0.0     0.0  -1.0\n",
       "  0.0     0.0  -1.0\n",
       "  0.0     0.0  -1.0\n",
       "  0.0     0.0  -1.0\n",
       "  0.0     0.0  -1.0\n",
       "  0.0     0.0  -1.0\n",
       "  0.0     0.0  -1.0\n",
       "  0.0     0.0  -1.0\n",
       "  0.0     0.0  -1.0\n",
       "  0.0     0.0  -1.0\n",
       "  ⋮            \n",
       "  0.0     0.0  -1.0\n",
       "  0.0     0.0  -1.0\n",
       "  0.0     0.0  -1.0\n",
       "  0.0     0.0  -1.0\n",
       "  0.0     0.0  -1.0\n",
       "  0.0     0.0  -1.0\n",
       "  0.0     0.0  -1.0\n",
       "  0.0     0.0  -1.0\n",
       "  0.0     0.0  -1.0\n",
       "  0.0     0.0  -1.0\n",
       "  0.0  -100.0  -1.0\n",
       "  0.0     0.0  -1.0"
      ]
     },
     "execution_count": 7,
     "metadata": {},
     "output_type": "execute_result"
    }
   ],
   "source": [
    "R"
   ]
  },
  {
   "cell_type": "markdown",
   "id": "033d0171-216f-4a53-a2ac-e11f30605ce8",
   "metadata": {},
   "source": [
    "#### Transitions"
   ]
  },
  {
   "cell_type": "code",
   "execution_count": 8,
   "id": "35205b5f-517c-4bd4-be65-7fe9daad3235",
   "metadata": {},
   "outputs": [],
   "source": [
    "# Setup the transitions\n",
    "T = Array{Float64,3}(undef, length(states), length(states), length(actions));\n",
    "fill!(T,0.0);\n",
    "\n",
    "# We need to put values into the transition array (these are probabilities, so eah row much sum to 1)\n",
    "T[safety, 1, 1:length(actions)] .= 1.0; # if we are in state 1, we stay in state 1 ∀a ∈ 𝒜\n",
    "T[tiger, tiger, 1:length(actions)] .= 1.0; # if we are in state 5, we stay in state 5 "
   ]
  },
  {
   "cell_type": "markdown",
   "id": "d33bf93f-8f45-4657-84f4-efd81e0a7a7b",
   "metadata": {},
   "source": [
    "##### Left and Right Actions"
   ]
  },
  {
   "cell_type": "code",
   "execution_count": 9,
   "id": "24ab3482-3840-4156-b51f-8d32ca7b9e6b",
   "metadata": {},
   "outputs": [],
   "source": [
    "# left actions -\n",
    "for s ∈ 2:(tiger - 1)\n",
    "    T[s,s-1,1] = α;\n",
    "    T[s,s+1,1] = (1-α);\n",
    "end\n",
    "\n",
    "# right actions -\n",
    "for s ∈ 2:(tiger - 1)\n",
    "    T[s,s-1,2] = (1-α);\n",
    "    T[s,s+1,2] = α; \n",
    "end"
   ]
  },
  {
   "cell_type": "markdown",
   "id": "8dcdcbe8-b927-42b4-bd40-479af9528119",
   "metadata": {},
   "source": [
    "##### Right action"
   ]
  },
  {
   "cell_type": "markdown",
   "id": "fdb8753b-1554-4505-9851-d245a2d65d2b",
   "metadata": {},
   "source": [
    "##### Listen action"
   ]
  },
  {
   "cell_type": "code",
   "execution_count": 10,
   "id": "6669ec67-552b-4c20-a082-eb7a1ba0d29f",
   "metadata": {},
   "outputs": [],
   "source": [
    "# listen action (we don't move to a new state)\n",
    "for s ∈ 2:(tiger-1)\n",
    "    T[s,s,3] = 1.0;\n",
    "end"
   ]
  },
  {
   "cell_type": "markdown",
   "id": "f5a7cfca-fe0e-4d4c-aefc-d53a4f4fd745",
   "metadata": {},
   "source": [
    "#### Build the MDP problem object "
   ]
  },
  {
   "cell_type": "code",
   "execution_count": 11,
   "id": "4bfa4d95-a158-41c7-b178-a71b7cc54c8f",
   "metadata": {},
   "outputs": [],
   "source": [
    "m = build(MDP; 𝒮 = states, 𝒜 = [1,2,3], T = T, R = R, γ = γ);"
   ]
  },
  {
   "cell_type": "code",
   "execution_count": 12,
   "id": "b4376ec9-db21-4b15-ac68-14c00662707b",
   "metadata": {},
   "outputs": [],
   "source": [
    "# build a always right policy -\n",
    "always_move_right(s) = 2;\n",
    "always_move_left(s) = 1;"
   ]
  },
  {
   "cell_type": "code",
   "execution_count": 13,
   "id": "d0c66f86-93e4-4a70-9e04-dfde6e449383",
   "metadata": {},
   "outputs": [
    {
     "data": {
      "text/plain": [
       "48-element Vector{Float64}:\n",
       " 12.751516896174223\n",
       " 11.58533429968094\n",
       " 10.525804257502337\n",
       "  9.563172922019657\n",
       "  8.688578478102075\n",
       "  7.89396956279187\n",
       "  7.172031145870071\n",
       "  6.51611718897206\n",
       "  5.92018946332478\n",
       "  5.37876196287237\n",
       "  4.886850401067219\n",
       "  4.439926326402764\n",
       "  4.033875434283668\n",
       "  ⋮\n",
       "  0.4036859795627285\n",
       "  0.36676693003498484\n",
       "  0.33322387198543507\n",
       "  0.3027470919389825\n",
       "  0.275052981681516\n",
       "  0.24987654178943552\n",
       "  0.22695280985833852\n",
       "  0.20596115298259252\n",
       "  0.18634642508853191\n",
       "  0.16673306774077784\n",
       "  0.1429946941692584\n",
       "  0.10188371959559661"
      ]
     },
     "execution_count": 13,
     "metadata": {},
     "output_type": "execute_result"
    }
   ],
   "source": [
    "U = iterative_policy_evaluation(m, always_move_left, 1000)[2:tiger-1]"
   ]
  },
  {
   "cell_type": "code",
   "execution_count": 20,
   "id": "24b594be-4e2a-431f-a68a-796b5e2b6829",
   "metadata": {},
   "outputs": [
    {
     "data": {
      "text/plain": [
       "rectangle (generic function with 1 method)"
      ]
     },
     "execution_count": 20,
     "metadata": {},
     "output_type": "execute_result"
    }
   ],
   "source": [
    "# build a rectangle function for plotting -\n",
    "rectangle(w, h, x, y) = Shape(x .+ [0,w,w,0], y .+ [0,0,h,h])"
   ]
  },
  {
   "cell_type": "code",
   "execution_count": 68,
   "id": "14f0cae7-9272-49c4-88c1-8da62824b818",
   "metadata": {},
   "outputs": [
    {
     "name": "stdout",
     "output_type": "stream",
     "text": [
      "rgb_array = [0.00392156862745098, 0.0, 0.0]\n"
     ]
    },
    {
     "ename": "LoadError",
     "evalue": "MethodError: no method matching plot_color(::Float64)\n\u001b[0mClosest candidates are:\n\u001b[0m  plot_color(::Any, \u001b[91m::Number\u001b[39m) at ~/.julia/packages/PlotUtils/igbcf/src/colors.jl:22\n\u001b[0m  plot_color(::Any, \u001b[91m::Nothing\u001b[39m) at ~/.julia/packages/PlotUtils/igbcf/src/colors.jl:19\n\u001b[0m  plot_color(\u001b[91m::AbstractArray{T}\u001b[39m) where T<:Number at ~/.julia/packages/PlotUtils/igbcf/src/colors.jl:53\n\u001b[0m  ...",
     "output_type": "error",
     "traceback": [
      "MethodError: no method matching plot_color(::Float64)\n\u001b[0mClosest candidates are:\n\u001b[0m  plot_color(::Any, \u001b[91m::Number\u001b[39m) at ~/.julia/packages/PlotUtils/igbcf/src/colors.jl:22\n\u001b[0m  plot_color(::Any, \u001b[91m::Nothing\u001b[39m) at ~/.julia/packages/PlotUtils/igbcf/src/colors.jl:19\n\u001b[0m  plot_color(\u001b[91m::AbstractArray{T}\u001b[39m) where T<:Number at ~/.julia/packages/PlotUtils/igbcf/src/colors.jl:53\n\u001b[0m  ...",
      "",
      "Stacktrace:",
      "  [1] get_series_color(c::Float64, sp::Plots.Subplot{Plots.GRBackend}, n::Int64, seriestype::Symbol)",
      "    @ Plots ~/.julia/packages/Plots/gzYVM/src/args.jl:2028",
      "  [2] (::Plots.var\"#148#149\"{Plots.Subplot{Plots.GRBackend}, Int64, Symbol})(x::Float64)",
      "    @ Plots ~/.julia/packages/Plots/gzYVM/src/args.jl:2032",
      "  [3] iterate",
      "    @ ./generator.jl:47 [inlined]",
      "  [4] _collect",
      "    @ ./array.jl:807 [inlined]",
      "  [5] collect_similar",
      "    @ ./array.jl:716 [inlined]",
      "  [6] map",
      "    @ ./abstractarray.jl:2933 [inlined]",
      "  [7] get_series_color(c::Vector{Float64}, sp::Plots.Subplot{Plots.GRBackend}, n::Int64, seriestype::Symbol)",
      "    @ Plots ~/.julia/packages/Plots/gzYVM/src/args.jl:2031",
      "  [8] _update_series_attributes!(plotattributes::RecipesPipeline.DefaultsDict, plt::Plots.Plot{Plots.GRBackend}, sp::Plots.Subplot{Plots.GRBackend})",
      "    @ Plots ~/.julia/packages/Plots/gzYVM/src/args.jl:2108",
      "  [9] add_series!(plt::Plots.Plot{Plots.GRBackend}, plotattributes::RecipesPipeline.DefaultsDict)",
      "    @ Plots ~/.julia/packages/Plots/gzYVM/src/pipeline.jl:369",
      " [10] _process_seriesrecipe(plt::Any, plotattributes::Any)",
      "    @ RecipesPipeline ~/.julia/packages/RecipesPipeline/juxUg/src/series_recipe.jl:46",
      " [11] _process_seriesrecipes!(plt::Any, kw_list::Any)",
      "    @ RecipesPipeline ~/.julia/packages/RecipesPipeline/juxUg/src/series_recipe.jl:27",
      " [12] recipe_pipeline!(plt::Any, plotattributes::Any, args::Any)",
      "    @ RecipesPipeline ~/.julia/packages/RecipesPipeline/juxUg/src/RecipesPipeline.jl:99",
      " [13] _plot!(plt::Plots.Plot, plotattributes::Any, args::Any)",
      "    @ Plots ~/.julia/packages/Plots/gzYVM/src/plot.jl:225",
      " [14] #plot#182",
      "    @ ~/.julia/packages/Plots/gzYVM/src/plot.jl:102 [inlined]",
      " [15] top-level scope",
      "    @ ./In[68]:0",
      " [16] eval",
      "    @ ./boot.jl:368 [inlined]",
      " [17] include_string(mapexpr::typeof(REPL.softscope), mod::Module, code::String, filename::String)",
      "    @ Base ./loading.jl:1428"
     ]
    }
   ],
   "source": [
    "# visualize the policy values -\n",
    "width = 1.0;\n",
    "height = 1.0;\n",
    "y = 0.0;\n",
    "x = 0.0;\n",
    "\n",
    "\n",
    "\n",
    "for (i,s) ∈ enumerate(states)\n",
    "    \n",
    "    rgb_array = [255 - i,0,0];\n",
    "    \n",
    "    @show rgb_array\n",
    "    \n",
    "    x = x + (width + 0.5)\n",
    "    if (i == 1)\n",
    "        plot(rectangle(width, height, x, y), label=\"\", c=rgb_array)\n",
    "    else\n",
    "        plot!(rectangle(width, height, x, y), label=\"\", c=rgb_array)\n",
    "    end\n",
    "    \n",
    "end\n",
    "\n",
    "\n",
    "\n",
    "current()"
   ]
  },
  {
   "cell_type": "code",
   "execution_count": null,
   "id": "8c7e4a7a-09e2-43e7-8c38-792eb4078e56",
   "metadata": {},
   "outputs": [],
   "source": []
  }
 ],
 "metadata": {
  "kernelspec": {
   "display_name": "Julia 1.8.0",
   "language": "julia",
   "name": "julia-1.8"
  },
  "language_info": {
   "file_extension": ".jl",
   "mimetype": "application/julia",
   "name": "julia",
   "version": "1.8.2"
  }
 },
 "nbformat": 4,
 "nbformat_minor": 5
}
