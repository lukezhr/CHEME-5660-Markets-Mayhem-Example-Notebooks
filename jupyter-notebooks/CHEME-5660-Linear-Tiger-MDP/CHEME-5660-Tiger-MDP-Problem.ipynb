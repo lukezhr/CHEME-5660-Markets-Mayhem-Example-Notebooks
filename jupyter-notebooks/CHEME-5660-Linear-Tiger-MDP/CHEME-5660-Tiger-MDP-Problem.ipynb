{
 "cells": [
  {
   "cell_type": "markdown",
   "id": "84cde366-e417-4e53-bfc8-20a18fcf23ad",
   "metadata": {},
   "source": [
    "## CHEME 5660 The Tiger Problem as a Markov Decision Problem"
   ]
  },
  {
   "cell_type": "markdown",
   "id": "e1051985-7e86-4c66-bb83-994e1c0ad0d6",
   "metadata": {},
   "source": [
    "### Introduction\n",
    "Fill me in"
   ]
  },
  {
   "cell_type": "markdown",
   "id": "ed3dbaee-739d-4e02-a3e2-8721fb8c636f",
   "metadata": {},
   "source": [
    "### Example setup"
   ]
  },
  {
   "cell_type": "code",
   "execution_count": 1,
   "id": "d6aa8155-d399-4482-904f-c3edaa65244c",
   "metadata": {},
   "outputs": [
    {
     "name": "stderr",
     "output_type": "stream",
     "text": [
      "\u001b[32m\u001b[1m  Activating\u001b[22m\u001b[39m project at `~/Desktop/julia_work/CHEME-5660-Markets-Mayhem-Example-Notebooks/jupyter-notebooks/CHEME-5660-Linear-Tiger-MDP`\n",
      "\u001b[32m\u001b[1m  No Changes\u001b[22m\u001b[39m to `~/Desktop/julia_work/CHEME-5660-Markets-Mayhem-Example-Notebooks/jupyter-notebooks/CHEME-5660-Linear-Tiger-MDP/Project.toml`\n",
      "\u001b[32m\u001b[1m  No Changes\u001b[22m\u001b[39m to `~/Desktop/julia_work/CHEME-5660-Markets-Mayhem-Example-Notebooks/jupyter-notebooks/CHEME-5660-Linear-Tiger-MDP/Manifest.toml`\n"
     ]
    }
   ],
   "source": [
    "import Pkg; Pkg.activate(\".\"); Pkg.resolve(); Pkg.instantiate();"
   ]
  },
  {
   "cell_type": "code",
   "execution_count": 16,
   "id": "f6e5ee87-0372-43b4-97a2-02225ae37f17",
   "metadata": {},
   "outputs": [
    {
     "name": "stderr",
     "output_type": "stream",
     "text": [
      "┌ Info: Precompiling Plots [91a5bcdd-55d7-5caf-9e0b-520d859cae80]\n",
      "└ @ Base loading.jl:1664\n"
     ]
    }
   ],
   "source": [
    "using Distributions\n",
    "using Plots"
   ]
  },
  {
   "cell_type": "code",
   "execution_count": 3,
   "id": "4362776a-ce7d-40c8-ac18-2f5ef8ca3ceb",
   "metadata": {},
   "outputs": [],
   "source": [
    "include(\"CHEME-5660-Tiger-MDP-CodeLib.jl\");"
   ]
  },
  {
   "cell_type": "code",
   "execution_count": 4,
   "id": "074882e6-d1d5-461b-81ac-2de90d471721",
   "metadata": {},
   "outputs": [],
   "source": [
    "# setup some global constants -\n",
    "α = 0.75; # probability of moving the direction we are expect"
   ]
  },
  {
   "cell_type": "markdown",
   "id": "99b31d94-e11c-4fd9-9871-d22104f22a88",
   "metadata": {},
   "source": [
    "#### States and actions"
   ]
  },
  {
   "cell_type": "code",
   "execution_count": 5,
   "id": "b9a687bf-4977-4346-8665-8de40248baf8",
   "metadata": {},
   "outputs": [],
   "source": [
    "# setup the states and actions -\n",
    "safety = 1;\n",
    "tiger = 50;\n",
    "\n",
    "states = range(safety,stop=tiger, step=1) |> collect;\n",
    "actions = [1,2,3]; # a₁ = move left, a₂ = move right, a₃ = listen\n",
    "γ = 0.95;"
   ]
  },
  {
   "cell_type": "markdown",
   "id": "e118e9ab-4dd3-4f17-8421-ac56a4cdc710",
   "metadata": {},
   "source": [
    "#### Rewards"
   ]
  },
  {
   "cell_type": "code",
   "execution_count": 6,
   "id": "988a7ae7-5352-480b-aa9a-4286a9b279df",
   "metadata": {},
   "outputs": [],
   "source": [
    "# setup the rewards -\n",
    "R = Array{Float64,2}(undef,length(states), length(actions));\n",
    "fill!(R,0.0) # fill R w/zeros\n",
    "\n",
    "# set the rewards for the ends -\n",
    "R[safety + 1,1] = 10;\n",
    "R[tiger-1, 2] = -100;\n",
    "R[1:length(states), 3] .= -1;"
   ]
  },
  {
   "cell_type": "code",
   "execution_count": 7,
   "id": "ad696e20-94f1-4f48-91e0-dac46b20655e",
   "metadata": {},
   "outputs": [
    {
     "data": {
      "text/plain": [
       "50×3 Matrix{Float64}:\n",
       "  0.0     0.0  -1.0\n",
       " 10.0     0.0  -1.0\n",
       "  0.0     0.0  -1.0\n",
       "  0.0     0.0  -1.0\n",
       "  0.0     0.0  -1.0\n",
       "  0.0     0.0  -1.0\n",
       "  0.0     0.0  -1.0\n",
       "  0.0     0.0  -1.0\n",
       "  0.0     0.0  -1.0\n",
       "  0.0     0.0  -1.0\n",
       "  0.0     0.0  -1.0\n",
       "  0.0     0.0  -1.0\n",
       "  0.0     0.0  -1.0\n",
       "  ⋮            \n",
       "  0.0     0.0  -1.0\n",
       "  0.0     0.0  -1.0\n",
       "  0.0     0.0  -1.0\n",
       "  0.0     0.0  -1.0\n",
       "  0.0     0.0  -1.0\n",
       "  0.0     0.0  -1.0\n",
       "  0.0     0.0  -1.0\n",
       "  0.0     0.0  -1.0\n",
       "  0.0     0.0  -1.0\n",
       "  0.0     0.0  -1.0\n",
       "  0.0  -100.0  -1.0\n",
       "  0.0     0.0  -1.0"
      ]
     },
     "execution_count": 7,
     "metadata": {},
     "output_type": "execute_result"
    }
   ],
   "source": [
    "R"
   ]
  },
  {
   "cell_type": "markdown",
   "id": "033d0171-216f-4a53-a2ac-e11f30605ce8",
   "metadata": {},
   "source": [
    "#### Transitions"
   ]
  },
  {
   "cell_type": "code",
   "execution_count": 8,
   "id": "35205b5f-517c-4bd4-be65-7fe9daad3235",
   "metadata": {},
   "outputs": [],
   "source": [
    "# Setup the transitions\n",
    "T = Array{Float64,3}(undef, length(states), length(states), length(actions));\n",
    "fill!(T,0.0);\n",
    "\n",
    "# We need to put values into the transition array (these are probabilities, so eah row much sum to 1)\n",
    "T[safety, 1, 1:length(actions)] .= 1.0; # if we are in state 1, we stay in state 1 ∀a ∈ 𝒜\n",
    "T[tiger, tiger, 1:length(actions)] .= 1.0; # if we are in state 5, we stay in state 5 "
   ]
  },
  {
   "cell_type": "markdown",
   "id": "d33bf93f-8f45-4657-84f4-efd81e0a7a7b",
   "metadata": {},
   "source": [
    "##### Left and Right Actions"
   ]
  },
  {
   "cell_type": "code",
   "execution_count": 9,
   "id": "24ab3482-3840-4156-b51f-8d32ca7b9e6b",
   "metadata": {},
   "outputs": [],
   "source": [
    "# left actions -\n",
    "for s ∈ 2:(tiger - 1)\n",
    "    T[s,s-1,1] = α;\n",
    "    T[s,s+1,1] = (1-α);\n",
    "end\n",
    "\n",
    "# right actions -\n",
    "for s ∈ 2:(tiger - 1)\n",
    "    T[s,s-1,2] = (1-α);\n",
    "    T[s,s+1,2] = α; \n",
    "end"
   ]
  },
  {
   "cell_type": "markdown",
   "id": "8dcdcbe8-b927-42b4-bd40-479af9528119",
   "metadata": {},
   "source": [
    "##### Right action"
   ]
  },
  {
   "cell_type": "markdown",
   "id": "fdb8753b-1554-4505-9851-d245a2d65d2b",
   "metadata": {},
   "source": [
    "##### Listen action"
   ]
  },
  {
   "cell_type": "code",
   "execution_count": 10,
   "id": "6669ec67-552b-4c20-a082-eb7a1ba0d29f",
   "metadata": {},
   "outputs": [],
   "source": [
    "# listen action (we don't move to a new state)\n",
    "for s ∈ 2:(tiger-1)\n",
    "    T[s,s,3] = 1.0;\n",
    "end"
   ]
  },
  {
   "cell_type": "markdown",
   "id": "f5a7cfca-fe0e-4d4c-aefc-d53a4f4fd745",
   "metadata": {},
   "source": [
    "#### Build the MDP problem object "
   ]
  },
  {
   "cell_type": "code",
   "execution_count": 11,
   "id": "4bfa4d95-a158-41c7-b178-a71b7cc54c8f",
   "metadata": {},
   "outputs": [],
   "source": [
    "m = build(MDP; 𝒮 = states, 𝒜 = [1,2,3], T = T, R = R, γ = γ);"
   ]
  },
  {
   "cell_type": "code",
   "execution_count": 12,
   "id": "b4376ec9-db21-4b15-ac68-14c00662707b",
   "metadata": {},
   "outputs": [],
   "source": [
    "# build a always right policy -\n",
    "always_move_right(s) = 2;\n",
    "always_move_left(s) = 1;"
   ]
  },
  {
   "cell_type": "code",
   "execution_count": 81,
   "id": "d0c66f86-93e4-4a70-9e04-dfde6e449383",
   "metadata": {},
   "outputs": [
    {
     "data": {
      "text/plain": [
       "48-element Vector{Float64}:\n",
       " 12.751516896174223\n",
       " 11.58533429968094\n",
       " 10.525804257502337\n",
       "  9.563172922019657\n",
       "  8.688578478102075\n",
       "  7.89396956279187\n",
       "  7.172031145870071\n",
       "  6.51611718897206\n",
       "  5.92018946332478\n",
       "  5.37876196287237\n",
       "  4.886850401067219\n",
       "  4.439926326402764\n",
       "  4.033875434283668\n",
       "  ⋮\n",
       "  0.4036859795627285\n",
       "  0.36676693003498484\n",
       "  0.33322387198543507\n",
       "  0.3027470919389825\n",
       "  0.275052981681516\n",
       "  0.24987654178943552\n",
       "  0.22695280985833852\n",
       "  0.20596115298259252\n",
       "  0.18634642508853191\n",
       "  0.16673306774077784\n",
       "  0.1429946941692584\n",
       "  0.10188371959559661"
      ]
     },
     "execution_count": 81,
     "metadata": {},
     "output_type": "execute_result"
    }
   ],
   "source": [
    "U = iterative_policy_evaluation(m, always_move_left, 20*length(states))[2:tiger-1]"
   ]
  },
  {
   "cell_type": "code",
   "execution_count": 74,
   "id": "a8d10252-ecb6-4083-975e-95b31543c5f8",
   "metadata": {},
   "outputs": [
    {
     "data": {
      "text/plain": [
       "(12.751516896174223, 1)"
      ]
     },
     "execution_count": 74,
     "metadata": {},
     "output_type": "execute_result"
    }
   ],
   "source": [
    "(a,b) = findmax(U)"
   ]
  },
  {
   "cell_type": "code",
   "execution_count": 20,
   "id": "24b594be-4e2a-431f-a68a-796b5e2b6829",
   "metadata": {},
   "outputs": [
    {
     "data": {
      "text/plain": [
       "rectangle (generic function with 1 method)"
      ]
     },
     "execution_count": 20,
     "metadata": {},
     "output_type": "execute_result"
    }
   ],
   "source": [
    "# build a rectangle function for plotting -\n",
    "rectangle(w, h, x, y) = Shape(x .+ [0,w,w,0], y .+ [0,0,h,h])"
   ]
  },
  {
   "cell_type": "code",
   "execution_count": 73,
   "id": "14f0cae7-9272-49c4-88c1-8da62824b818",
   "metadata": {},
   "outputs": [
    {
     "data": {
      "image/svg+xml": [
       "<?xml version=\"1.0\" encoding=\"utf-8\"?>\n",
       "<svg xmlns=\"http://www.w3.org/2000/svg\" xmlns:xlink=\"http://www.w3.org/1999/xlink\" width=\"600\" height=\"400\" viewBox=\"0 0 2400 1600\">\n",
       "<defs>\n",
       "  <clipPath id=\"clip040\">\n",
       "    <rect x=\"0\" y=\"0\" width=\"2400\" height=\"1600\"/>\n",
       "  </clipPath>\n",
       "</defs>\n",
       "<path clip-path=\"url(#clip040)\" d=\"\n",
       "M0 1600 L2400 1600 L2400 0 L0 0  Z\n",
       "  \" fill=\"#ffffff\" fill-rule=\"evenodd\" fill-opacity=\"1\"/>\n",
       "<defs>\n",
       "  <clipPath id=\"clip041\">\n",
       "    <rect x=\"480\" y=\"0\" width=\"1681\" height=\"1600\"/>\n",
       "  </clipPath>\n",
       "</defs>\n",
       "<path clip-path=\"url(#clip040)\" d=\"\n",
       "M186.274 1486.45 L2352.76 1486.45 L2352.76 47.2441 L186.274 47.2441  Z\n",
       "  \" fill=\"#ffffff\" fill-rule=\"evenodd\" fill-opacity=\"1\"/>\n",
       "<defs>\n",
       "  <clipPath id=\"clip042\">\n",
       "    <rect x=\"186\" y=\"47\" width=\"2167\" height=\"1440\"/>\n",
       "  </clipPath>\n",
       "</defs>\n",
       "<polyline clip-path=\"url(#clip042)\" style=\"stroke:#000000; stroke-linecap:round; stroke-linejoin:round; stroke-width:2; stroke-opacity:0.1; fill:none\" points=\"\n",
       "  206.438,1486.45 206.438,47.2441 \n",
       "  \"/>\n",
       "<polyline clip-path=\"url(#clip042)\" style=\"stroke:#000000; stroke-linecap:round; stroke-linejoin:round; stroke-width:2; stroke-opacity:0.1; fill:none\" points=\"\n",
       "  755.123,1486.45 755.123,47.2441 \n",
       "  \"/>\n",
       "<polyline clip-path=\"url(#clip042)\" style=\"stroke:#000000; stroke-linecap:round; stroke-linejoin:round; stroke-width:2; stroke-opacity:0.1; fill:none\" points=\"\n",
       "  1303.81,1486.45 1303.81,47.2441 \n",
       "  \"/>\n",
       "<polyline clip-path=\"url(#clip042)\" style=\"stroke:#000000; stroke-linecap:round; stroke-linejoin:round; stroke-width:2; stroke-opacity:0.1; fill:none\" points=\"\n",
       "  1852.49,1486.45 1852.49,47.2441 \n",
       "  \"/>\n",
       "<polyline clip-path=\"url(#clip040)\" style=\"stroke:#000000; stroke-linecap:round; stroke-linejoin:round; stroke-width:4; stroke-opacity:1; fill:none\" points=\"\n",
       "  186.274,1486.45 2352.76,1486.45 \n",
       "  \"/>\n",
       "<polyline clip-path=\"url(#clip040)\" style=\"stroke:#000000; stroke-linecap:round; stroke-linejoin:round; stroke-width:4; stroke-opacity:1; fill:none\" points=\"\n",
       "  206.438,1486.45 206.438,1467.55 \n",
       "  \"/>\n",
       "<polyline clip-path=\"url(#clip040)\" style=\"stroke:#000000; stroke-linecap:round; stroke-linejoin:round; stroke-width:4; stroke-opacity:1; fill:none\" points=\"\n",
       "  755.123,1486.45 755.123,1467.55 \n",
       "  \"/>\n",
       "<polyline clip-path=\"url(#clip040)\" style=\"stroke:#000000; stroke-linecap:round; stroke-linejoin:round; stroke-width:4; stroke-opacity:1; fill:none\" points=\"\n",
       "  1303.81,1486.45 1303.81,1467.55 \n",
       "  \"/>\n",
       "<polyline clip-path=\"url(#clip040)\" style=\"stroke:#000000; stroke-linecap:round; stroke-linejoin:round; stroke-width:4; stroke-opacity:1; fill:none\" points=\"\n",
       "  1852.49,1486.45 1852.49,1467.55 \n",
       "  \"/>\n",
       "<path clip-path=\"url(#clip040)\" d=\"M206.438 1517.37 Q202.827 1517.37 200.998 1520.93 Q199.193 1524.47 199.193 1531.6 Q199.193 1538.71 200.998 1542.27 Q202.827 1545.82 206.438 1545.82 Q210.072 1545.82 211.878 1542.27 Q213.707 1538.71 213.707 1531.6 Q213.707 1524.47 211.878 1520.93 Q210.072 1517.37 206.438 1517.37 M206.438 1513.66 Q212.248 1513.66 215.304 1518.27 Q218.383 1522.85 218.383 1531.6 Q218.383 1540.33 215.304 1544.94 Q212.248 1549.52 206.438 1549.52 Q200.628 1549.52 197.549 1544.94 Q194.494 1540.33 194.494 1531.6 Q194.494 1522.85 197.549 1518.27 Q200.628 1513.66 206.438 1513.66 Z\" fill=\"#000000\" fill-rule=\"evenodd\" fill-opacity=\"1\" /><path clip-path=\"url(#clip040)\" d=\"M733.896 1544.91 L750.216 1544.91 L750.216 1548.85 L728.271 1548.85 L728.271 1544.91 Q730.933 1542.16 735.517 1537.53 Q740.123 1532.88 741.304 1531.53 Q743.549 1529.01 744.429 1527.27 Q745.331 1525.51 745.331 1523.82 Q745.331 1521.07 743.387 1519.33 Q741.466 1517.6 738.364 1517.6 Q736.165 1517.6 733.711 1518.36 Q731.28 1519.13 728.503 1520.68 L728.503 1515.95 Q731.327 1514.82 733.78 1514.24 Q736.234 1513.66 738.271 1513.66 Q743.642 1513.66 746.836 1516.35 Q750.03 1519.03 750.03 1523.52 Q750.03 1525.65 749.22 1527.57 Q748.433 1529.47 746.327 1532.07 Q745.748 1532.74 742.646 1535.95 Q739.544 1539.15 733.896 1544.91 Z\" fill=\"#000000\" fill-rule=\"evenodd\" fill-opacity=\"1\" /><path clip-path=\"url(#clip040)\" d=\"M770.03 1517.37 Q766.419 1517.37 764.591 1520.93 Q762.785 1524.47 762.785 1531.6 Q762.785 1538.71 764.591 1542.27 Q766.419 1545.82 770.03 1545.82 Q773.665 1545.82 775.47 1542.27 Q777.299 1538.71 777.299 1531.6 Q777.299 1524.47 775.47 1520.93 Q773.665 1517.37 770.03 1517.37 M770.03 1513.66 Q775.84 1513.66 778.896 1518.27 Q781.975 1522.85 781.975 1531.6 Q781.975 1540.33 778.896 1544.94 Q775.84 1549.52 770.03 1549.52 Q764.22 1549.52 761.141 1544.94 Q758.086 1540.33 758.086 1531.6 Q758.086 1522.85 761.141 1518.27 Q764.22 1513.66 770.03 1513.66 Z\" fill=\"#000000\" fill-rule=\"evenodd\" fill-opacity=\"1\" /><path clip-path=\"url(#clip040)\" d=\"M1291.98 1518.36 L1280.17 1536.81 L1291.98 1536.81 L1291.98 1518.36 M1290.75 1514.29 L1296.63 1514.29 L1296.63 1536.81 L1301.56 1536.81 L1301.56 1540.7 L1296.63 1540.7 L1296.63 1548.85 L1291.98 1548.85 L1291.98 1540.7 L1276.38 1540.7 L1276.38 1536.19 L1290.75 1514.29 Z\" fill=\"#000000\" fill-rule=\"evenodd\" fill-opacity=\"1\" /><path clip-path=\"url(#clip040)\" d=\"M1319.29 1517.37 Q1315.68 1517.37 1313.85 1520.93 Q1312.05 1524.47 1312.05 1531.6 Q1312.05 1538.71 1313.85 1542.27 Q1315.68 1545.82 1319.29 1545.82 Q1322.93 1545.82 1324.73 1542.27 Q1326.56 1538.71 1326.56 1531.6 Q1326.56 1524.47 1324.73 1520.93 Q1322.93 1517.37 1319.29 1517.37 M1319.29 1513.66 Q1325.1 1513.66 1328.16 1518.27 Q1331.24 1522.85 1331.24 1531.6 Q1331.24 1540.33 1328.16 1544.94 Q1325.1 1549.52 1319.29 1549.52 Q1313.48 1549.52 1310.4 1544.94 Q1307.35 1540.33 1307.35 1531.6 Q1307.35 1522.85 1310.4 1518.27 Q1313.48 1513.66 1319.29 1513.66 Z\" fill=\"#000000\" fill-rule=\"evenodd\" fill-opacity=\"1\" /><path clip-path=\"url(#clip040)\" d=\"M1837.9 1529.7 Q1834.75 1529.7 1832.9 1531.86 Q1831.07 1534.01 1831.07 1537.76 Q1831.07 1541.49 1832.9 1543.66 Q1834.75 1545.82 1837.9 1545.82 Q1841.05 1545.82 1842.87 1543.66 Q1844.73 1541.49 1844.73 1537.76 Q1844.73 1534.01 1842.87 1531.86 Q1841.05 1529.7 1837.9 1529.7 M1847.18 1515.05 L1847.18 1519.31 Q1845.42 1518.48 1843.62 1518.04 Q1841.83 1517.6 1840.07 1517.6 Q1835.44 1517.6 1832.99 1520.72 Q1830.56 1523.85 1830.21 1530.17 Q1831.58 1528.15 1833.64 1527.09 Q1835.7 1526 1838.18 1526 Q1843.38 1526 1846.39 1529.17 Q1849.43 1532.32 1849.43 1537.76 Q1849.43 1543.08 1846.28 1546.3 Q1843.13 1549.52 1837.9 1549.52 Q1831.9 1549.52 1828.73 1544.94 Q1825.56 1540.33 1825.56 1531.6 Q1825.56 1523.41 1829.45 1518.55 Q1833.34 1513.66 1839.89 1513.66 Q1841.65 1513.66 1843.43 1514.01 Q1845.24 1514.36 1847.18 1515.05 Z\" fill=\"#000000\" fill-rule=\"evenodd\" fill-opacity=\"1\" /><path clip-path=\"url(#clip040)\" d=\"M1867.48 1517.37 Q1863.87 1517.37 1862.04 1520.93 Q1860.24 1524.47 1860.24 1531.6 Q1860.24 1538.71 1862.04 1542.27 Q1863.87 1545.82 1867.48 1545.82 Q1871.12 1545.82 1872.92 1542.27 Q1874.75 1538.71 1874.75 1531.6 Q1874.75 1524.47 1872.92 1520.93 Q1871.12 1517.37 1867.48 1517.37 M1867.48 1513.66 Q1873.29 1513.66 1876.35 1518.27 Q1879.43 1522.85 1879.43 1531.6 Q1879.43 1540.33 1876.35 1544.94 Q1873.29 1549.52 1867.48 1549.52 Q1861.67 1549.52 1858.59 1544.94 Q1855.54 1540.33 1855.54 1531.6 Q1855.54 1522.85 1858.59 1518.27 Q1861.67 1513.66 1867.48 1513.66 Z\" fill=\"#000000\" fill-rule=\"evenodd\" fill-opacity=\"1\" /><polyline clip-path=\"url(#clip042)\" style=\"stroke:#000000; stroke-linecap:round; stroke-linejoin:round; stroke-width:2; stroke-opacity:0.1; fill:none\" points=\"\n",
       "  186.274,1445.72 2352.76,1445.72 \n",
       "  \"/>\n",
       "<polyline clip-path=\"url(#clip042)\" style=\"stroke:#000000; stroke-linecap:round; stroke-linejoin:round; stroke-width:2; stroke-opacity:0.1; fill:none\" points=\"\n",
       "  186.274,1106.28 2352.76,1106.28 \n",
       "  \"/>\n",
       "<polyline clip-path=\"url(#clip042)\" style=\"stroke:#000000; stroke-linecap:round; stroke-linejoin:round; stroke-width:2; stroke-opacity:0.1; fill:none\" points=\"\n",
       "  186.274,766.846 2352.76,766.846 \n",
       "  \"/>\n",
       "<polyline clip-path=\"url(#clip042)\" style=\"stroke:#000000; stroke-linecap:round; stroke-linejoin:round; stroke-width:2; stroke-opacity:0.1; fill:none\" points=\"\n",
       "  186.274,427.411 2352.76,427.411 \n",
       "  \"/>\n",
       "<polyline clip-path=\"url(#clip042)\" style=\"stroke:#000000; stroke-linecap:round; stroke-linejoin:round; stroke-width:2; stroke-opacity:0.1; fill:none\" points=\"\n",
       "  186.274,87.9763 2352.76,87.9763 \n",
       "  \"/>\n",
       "<polyline clip-path=\"url(#clip040)\" style=\"stroke:#000000; stroke-linecap:round; stroke-linejoin:round; stroke-width:4; stroke-opacity:1; fill:none\" points=\"\n",
       "  186.274,1486.45 186.274,47.2441 \n",
       "  \"/>\n",
       "<polyline clip-path=\"url(#clip040)\" style=\"stroke:#000000; stroke-linecap:round; stroke-linejoin:round; stroke-width:4; stroke-opacity:1; fill:none\" points=\"\n",
       "  186.274,1445.72 205.172,1445.72 \n",
       "  \"/>\n",
       "<polyline clip-path=\"url(#clip040)\" style=\"stroke:#000000; stroke-linecap:round; stroke-linejoin:round; stroke-width:4; stroke-opacity:1; fill:none\" points=\"\n",
       "  186.274,1106.28 205.172,1106.28 \n",
       "  \"/>\n",
       "<polyline clip-path=\"url(#clip040)\" style=\"stroke:#000000; stroke-linecap:round; stroke-linejoin:round; stroke-width:4; stroke-opacity:1; fill:none\" points=\"\n",
       "  186.274,766.846 205.172,766.846 \n",
       "  \"/>\n",
       "<polyline clip-path=\"url(#clip040)\" style=\"stroke:#000000; stroke-linecap:round; stroke-linejoin:round; stroke-width:4; stroke-opacity:1; fill:none\" points=\"\n",
       "  186.274,427.411 205.172,427.411 \n",
       "  \"/>\n",
       "<polyline clip-path=\"url(#clip040)\" style=\"stroke:#000000; stroke-linecap:round; stroke-linejoin:round; stroke-width:4; stroke-opacity:1; fill:none\" points=\"\n",
       "  186.274,87.9763 205.172,87.9763 \n",
       "  \"/>\n",
       "<path clip-path=\"url(#clip040)\" d=\"M62.9365 1431.51 Q59.3254 1431.51 57.4967 1435.08 Q55.6912 1438.62 55.6912 1445.75 Q55.6912 1452.86 57.4967 1456.42 Q59.3254 1459.96 62.9365 1459.96 Q66.5707 1459.96 68.3763 1456.42 Q70.205 1452.86 70.205 1445.75 Q70.205 1438.62 68.3763 1435.08 Q66.5707 1431.51 62.9365 1431.51 M62.9365 1427.81 Q68.7467 1427.81 71.8022 1432.42 Q74.8809 1437 74.8809 1445.75 Q74.8809 1454.48 71.8022 1459.08 Q68.7467 1463.67 62.9365 1463.67 Q57.1264 1463.67 54.0477 1459.08 Q50.9921 1454.48 50.9921 1445.75 Q50.9921 1437 54.0477 1432.42 Q57.1264 1427.81 62.9365 1427.81 Z\" fill=\"#000000\" fill-rule=\"evenodd\" fill-opacity=\"1\" /><path clip-path=\"url(#clip040)\" d=\"M83.0984 1457.12 L87.9827 1457.12 L87.9827 1463 L83.0984 1463 L83.0984 1457.12 Z\" fill=\"#000000\" fill-rule=\"evenodd\" fill-opacity=\"1\" /><path clip-path=\"url(#clip040)\" d=\"M108.168 1431.51 Q104.557 1431.51 102.728 1435.08 Q100.922 1438.62 100.922 1445.75 Q100.922 1452.86 102.728 1456.42 Q104.557 1459.96 108.168 1459.96 Q111.802 1459.96 113.608 1456.42 Q115.436 1452.86 115.436 1445.75 Q115.436 1438.62 113.608 1435.08 Q111.802 1431.51 108.168 1431.51 M108.168 1427.81 Q113.978 1427.81 117.033 1432.42 Q120.112 1437 120.112 1445.75 Q120.112 1454.48 117.033 1459.08 Q113.978 1463.67 108.168 1463.67 Q102.358 1463.67 99.2789 1459.08 Q96.2234 1454.48 96.2234 1445.75 Q96.2234 1437 99.2789 1432.42 Q102.358 1427.81 108.168 1427.81 Z\" fill=\"#000000\" fill-rule=\"evenodd\" fill-opacity=\"1\" /><path clip-path=\"url(#clip040)\" d=\"M138.33 1431.51 Q134.719 1431.51 132.89 1435.08 Q131.084 1438.62 131.084 1445.75 Q131.084 1452.86 132.89 1456.42 Q134.719 1459.96 138.33 1459.96 Q141.964 1459.96 143.769 1456.42 Q145.598 1452.86 145.598 1445.75 Q145.598 1438.62 143.769 1435.08 Q141.964 1431.51 138.33 1431.51 M138.33 1427.81 Q144.14 1427.81 147.195 1432.42 Q150.274 1437 150.274 1445.75 Q150.274 1454.48 147.195 1459.08 Q144.14 1463.67 138.33 1463.67 Q132.519 1463.67 129.441 1459.08 Q126.385 1454.48 126.385 1445.75 Q126.385 1437 129.441 1432.42 Q132.519 1427.81 138.33 1427.81 Z\" fill=\"#000000\" fill-rule=\"evenodd\" fill-opacity=\"1\" /><path clip-path=\"url(#clip040)\" d=\"M63.9319 1092.08 Q60.3208 1092.08 58.4921 1095.64 Q56.6865 1099.19 56.6865 1106.32 Q56.6865 1113.42 58.4921 1116.99 Q60.3208 1120.53 63.9319 1120.53 Q67.5661 1120.53 69.3717 1116.99 Q71.2004 1113.42 71.2004 1106.32 Q71.2004 1099.19 69.3717 1095.64 Q67.5661 1092.08 63.9319 1092.08 M63.9319 1088.38 Q69.742 1088.38 72.7976 1092.98 Q75.8763 1097.57 75.8763 1106.32 Q75.8763 1115.04 72.7976 1119.65 Q69.742 1124.23 63.9319 1124.23 Q58.1217 1124.23 55.043 1119.65 Q51.9875 1115.04 51.9875 1106.32 Q51.9875 1097.57 55.043 1092.98 Q58.1217 1088.38 63.9319 1088.38 Z\" fill=\"#000000\" fill-rule=\"evenodd\" fill-opacity=\"1\" /><path clip-path=\"url(#clip040)\" d=\"M84.0938 1117.68 L88.978 1117.68 L88.978 1123.56 L84.0938 1123.56 L84.0938 1117.68 Z\" fill=\"#000000\" fill-rule=\"evenodd\" fill-opacity=\"1\" /><path clip-path=\"url(#clip040)\" d=\"M103.191 1119.63 L119.51 1119.63 L119.51 1123.56 L97.566 1123.56 L97.566 1119.63 Q100.228 1116.87 104.811 1112.24 Q109.418 1107.59 110.598 1106.25 Q112.844 1103.72 113.723 1101.99 Q114.626 1100.23 114.626 1098.54 Q114.626 1095.78 112.682 1094.05 Q110.76 1092.31 107.658 1092.31 Q105.459 1092.31 103.006 1093.07 Q100.575 1093.84 97.7974 1095.39 L97.7974 1090.67 Q100.621 1089.53 103.075 1088.95 Q105.529 1088.38 107.566 1088.38 Q112.936 1088.38 116.131 1091.06 Q119.325 1093.75 119.325 1098.24 Q119.325 1100.37 118.515 1102.29 Q117.728 1104.19 115.621 1106.78 Q115.043 1107.45 111.941 1110.67 Q108.839 1113.86 103.191 1119.63 Z\" fill=\"#000000\" fill-rule=\"evenodd\" fill-opacity=\"1\" /><path clip-path=\"url(#clip040)\" d=\"M129.371 1089 L147.728 1089 L147.728 1092.94 L133.654 1092.94 L133.654 1101.41 Q134.672 1101.06 135.691 1100.9 Q136.709 1100.71 137.728 1100.71 Q143.515 1100.71 146.894 1103.89 Q150.274 1107.06 150.274 1112.47 Q150.274 1118.05 146.802 1121.15 Q143.33 1124.23 137.01 1124.23 Q134.834 1124.23 132.566 1123.86 Q130.32 1123.49 127.913 1122.75 L127.913 1118.05 Q129.996 1119.19 132.219 1119.74 Q134.441 1120.3 136.918 1120.3 Q140.922 1120.3 143.26 1118.19 Q145.598 1116.08 145.598 1112.47 Q145.598 1108.86 143.26 1106.76 Q140.922 1104.65 136.918 1104.65 Q135.043 1104.65 133.168 1105.07 Q131.316 1105.48 129.371 1106.36 L129.371 1089 Z\" fill=\"#000000\" fill-rule=\"evenodd\" fill-opacity=\"1\" /><path clip-path=\"url(#clip040)\" d=\"M62.9365 752.645 Q59.3254 752.645 57.4967 756.209 Q55.6912 759.751 55.6912 766.881 Q55.6912 773.987 57.4967 777.552 Q59.3254 781.094 62.9365 781.094 Q66.5707 781.094 68.3763 777.552 Q70.205 773.987 70.205 766.881 Q70.205 759.751 68.3763 756.209 Q66.5707 752.645 62.9365 752.645 M62.9365 748.941 Q68.7467 748.941 71.8022 753.547 Q74.8809 758.131 74.8809 766.881 Q74.8809 775.608 71.8022 780.214 Q68.7467 784.797 62.9365 784.797 Q57.1264 784.797 54.0477 780.214 Q50.9921 775.608 50.9921 766.881 Q50.9921 758.131 54.0477 753.547 Q57.1264 748.941 62.9365 748.941 Z\" fill=\"#000000\" fill-rule=\"evenodd\" fill-opacity=\"1\" /><path clip-path=\"url(#clip040)\" d=\"M83.0984 778.246 L87.9827 778.246 L87.9827 784.126 L83.0984 784.126 L83.0984 778.246 Z\" fill=\"#000000\" fill-rule=\"evenodd\" fill-opacity=\"1\" /><path clip-path=\"url(#clip040)\" d=\"M98.2141 749.566 L116.57 749.566 L116.57 753.501 L102.496 753.501 L102.496 761.973 Q103.515 761.626 104.534 761.464 Q105.552 761.279 106.571 761.279 Q112.358 761.279 115.737 764.45 Q119.117 767.621 119.117 773.038 Q119.117 778.617 115.645 781.719 Q112.172 784.797 105.853 784.797 Q103.677 784.797 101.409 784.427 Q99.1632 784.057 96.7558 783.316 L96.7558 778.617 Q98.8391 779.751 101.061 780.307 Q103.284 780.862 105.76 780.862 Q109.765 780.862 112.103 778.756 Q114.441 776.649 114.441 773.038 Q114.441 769.427 112.103 767.321 Q109.765 765.214 105.76 765.214 Q103.885 765.214 102.01 765.631 Q100.159 766.047 98.2141 766.927 L98.2141 749.566 Z\" fill=\"#000000\" fill-rule=\"evenodd\" fill-opacity=\"1\" /><path clip-path=\"url(#clip040)\" d=\"M138.33 752.645 Q134.719 752.645 132.89 756.209 Q131.084 759.751 131.084 766.881 Q131.084 773.987 132.89 777.552 Q134.719 781.094 138.33 781.094 Q141.964 781.094 143.769 777.552 Q145.598 773.987 145.598 766.881 Q145.598 759.751 143.769 756.209 Q141.964 752.645 138.33 752.645 M138.33 748.941 Q144.14 748.941 147.195 753.547 Q150.274 758.131 150.274 766.881 Q150.274 775.608 147.195 780.214 Q144.14 784.797 138.33 784.797 Q132.519 784.797 129.441 780.214 Q126.385 775.608 126.385 766.881 Q126.385 758.131 129.441 753.547 Q132.519 748.941 138.33 748.941 Z\" fill=\"#000000\" fill-rule=\"evenodd\" fill-opacity=\"1\" /><path clip-path=\"url(#clip040)\" d=\"M63.9319 413.21 Q60.3208 413.21 58.4921 416.775 Q56.6865 420.316 56.6865 427.446 Q56.6865 434.552 58.4921 438.117 Q60.3208 441.659 63.9319 441.659 Q67.5661 441.659 69.3717 438.117 Q71.2004 434.552 71.2004 427.446 Q71.2004 420.316 69.3717 416.775 Q67.5661 413.21 63.9319 413.21 M63.9319 409.506 Q69.742 409.506 72.7976 414.113 Q75.8763 418.696 75.8763 427.446 Q75.8763 436.173 72.7976 440.779 Q69.742 445.362 63.9319 445.362 Q58.1217 445.362 55.043 440.779 Q51.9875 436.173 51.9875 427.446 Q51.9875 418.696 55.043 414.113 Q58.1217 409.506 63.9319 409.506 Z\" fill=\"#000000\" fill-rule=\"evenodd\" fill-opacity=\"1\" /><path clip-path=\"url(#clip040)\" d=\"M84.0938 438.812 L88.978 438.812 L88.978 444.691 L84.0938 444.691 L84.0938 438.812 Z\" fill=\"#000000\" fill-rule=\"evenodd\" fill-opacity=\"1\" /><path clip-path=\"url(#clip040)\" d=\"M97.9826 410.131 L120.205 410.131 L120.205 412.122 L107.658 444.691 L102.774 444.691 L114.58 414.066 L97.9826 414.066 L97.9826 410.131 Z\" fill=\"#000000\" fill-rule=\"evenodd\" fill-opacity=\"1\" /><path clip-path=\"url(#clip040)\" d=\"M129.371 410.131 L147.728 410.131 L147.728 414.066 L133.654 414.066 L133.654 422.538 Q134.672 422.191 135.691 422.029 Q136.709 421.844 137.728 421.844 Q143.515 421.844 146.894 425.015 Q150.274 428.187 150.274 433.603 Q150.274 439.182 146.802 442.284 Q143.33 445.362 137.01 445.362 Q134.834 445.362 132.566 444.992 Q130.32 444.622 127.913 443.881 L127.913 439.182 Q129.996 440.316 132.219 440.872 Q134.441 441.427 136.918 441.427 Q140.922 441.427 143.26 439.321 Q145.598 437.214 145.598 433.603 Q145.598 429.992 143.26 427.886 Q140.922 425.779 136.918 425.779 Q135.043 425.779 133.168 426.196 Q131.316 426.613 129.371 427.492 L129.371 410.131 Z\" fill=\"#000000\" fill-rule=\"evenodd\" fill-opacity=\"1\" /><path clip-path=\"url(#clip040)\" d=\"M53.7467 101.321 L61.3856 101.321 L61.3856 74.9555 L53.0754 76.6222 L53.0754 72.3629 L61.3393 70.6963 L66.0152 70.6963 L66.0152 101.321 L73.654 101.321 L73.654 105.256 L53.7467 105.256 L53.7467 101.321 Z\" fill=\"#000000\" fill-rule=\"evenodd\" fill-opacity=\"1\" /><path clip-path=\"url(#clip040)\" d=\"M83.0984 99.3767 L87.9827 99.3767 L87.9827 105.256 L83.0984 105.256 L83.0984 99.3767 Z\" fill=\"#000000\" fill-rule=\"evenodd\" fill-opacity=\"1\" /><path clip-path=\"url(#clip040)\" d=\"M108.168 73.775 Q104.557 73.775 102.728 77.3398 Q100.922 80.8814 100.922 88.011 Q100.922 95.1174 102.728 98.6822 Q104.557 102.224 108.168 102.224 Q111.802 102.224 113.608 98.6822 Q115.436 95.1174 115.436 88.011 Q115.436 80.8814 113.608 77.3398 Q111.802 73.775 108.168 73.775 M108.168 70.0713 Q113.978 70.0713 117.033 74.6777 Q120.112 79.261 120.112 88.011 Q120.112 96.7378 117.033 101.344 Q113.978 105.928 108.168 105.928 Q102.358 105.928 99.2789 101.344 Q96.2234 96.7378 96.2234 88.011 Q96.2234 79.261 99.2789 74.6777 Q102.358 70.0713 108.168 70.0713 Z\" fill=\"#000000\" fill-rule=\"evenodd\" fill-opacity=\"1\" /><path clip-path=\"url(#clip040)\" d=\"M138.33 73.775 Q134.719 73.775 132.89 77.3398 Q131.084 80.8814 131.084 88.011 Q131.084 95.1174 132.89 98.6822 Q134.719 102.224 138.33 102.224 Q141.964 102.224 143.769 98.6822 Q145.598 95.1174 145.598 88.011 Q145.598 80.8814 143.769 77.3398 Q141.964 73.775 138.33 73.775 M138.33 70.0713 Q144.14 70.0713 147.195 74.6777 Q150.274 79.261 150.274 88.011 Q150.274 96.7378 147.195 101.344 Q144.14 105.928 138.33 105.928 Q132.519 105.928 129.441 101.344 Q126.385 96.7378 126.385 88.011 Q126.385 79.261 129.441 74.6777 Q132.519 70.0713 138.33 70.0713 Z\" fill=\"#000000\" fill-rule=\"evenodd\" fill-opacity=\"1\" /><path clip-path=\"url(#clip042)\" d=\"\n",
       "M247.59 1445.72 L275.024 1445.72 L275.024 87.9763 L247.59 87.9763 L247.59 1445.72  Z\n",
       "  \" fill=\"#009af9\" fill-rule=\"evenodd\" fill-opacity=\"1\"/>\n",
       "<polyline clip-path=\"url(#clip042)\" style=\"stroke:#000000; stroke-linecap:round; stroke-linejoin:round; stroke-width:4; stroke-opacity:1; fill:none\" points=\"\n",
       "  247.59,1445.72 275.024,1445.72 275.024,87.9763 247.59,87.9763 247.59,1445.72 \n",
       "  \"/>\n",
       "<path clip-path=\"url(#clip042)\" d=\"\n",
       "M288.741 1445.72 L316.175 1445.72 L316.175 87.9763 L288.741 87.9763 L288.741 1445.72  Z\n",
       "  \" fill=\"#e26f46\" fill-rule=\"evenodd\" fill-opacity=\"1\"/>\n",
       "<polyline clip-path=\"url(#clip042)\" style=\"stroke:#000000; stroke-linecap:round; stroke-linejoin:round; stroke-width:4; stroke-opacity:1; fill:none\" points=\"\n",
       "  288.741,1445.72 316.175,1445.72 316.175,87.9763 288.741,87.9763 288.741,1445.72 \n",
       "  \"/>\n",
       "<path clip-path=\"url(#clip042)\" d=\"\n",
       "M329.892 1445.72 L357.326 1445.72 L357.326 87.9763 L329.892 87.9763 L329.892 1445.72  Z\n",
       "  \" fill=\"#3da44d\" fill-rule=\"evenodd\" fill-opacity=\"1\"/>\n",
       "<polyline clip-path=\"url(#clip042)\" style=\"stroke:#000000; stroke-linecap:round; stroke-linejoin:round; stroke-width:4; stroke-opacity:1; fill:none\" points=\"\n",
       "  329.892,1445.72 357.326,1445.72 357.326,87.9763 329.892,87.9763 329.892,1445.72 \n",
       "  \"/>\n",
       "<path clip-path=\"url(#clip042)\" d=\"\n",
       "M371.044 1445.72 L398.478 1445.72 L398.478 87.9763 L371.044 87.9763 L371.044 1445.72  Z\n",
       "  \" fill=\"#c271d2\" fill-rule=\"evenodd\" fill-opacity=\"1\"/>\n",
       "<polyline clip-path=\"url(#clip042)\" style=\"stroke:#000000; stroke-linecap:round; stroke-linejoin:round; stroke-width:4; stroke-opacity:1; fill:none\" points=\"\n",
       "  371.044,1445.72 398.478,1445.72 398.478,87.9763 371.044,87.9763 371.044,1445.72 \n",
       "  \"/>\n",
       "<path clip-path=\"url(#clip042)\" d=\"\n",
       "M412.195 1445.72 L439.629 1445.72 L439.629 87.9763 L412.195 87.9763 L412.195 1445.72  Z\n",
       "  \" fill=\"#ac8d18\" fill-rule=\"evenodd\" fill-opacity=\"1\"/>\n",
       "<polyline clip-path=\"url(#clip042)\" style=\"stroke:#000000; stroke-linecap:round; stroke-linejoin:round; stroke-width:4; stroke-opacity:1; fill:none\" points=\"\n",
       "  412.195,1445.72 439.629,1445.72 439.629,87.9763 412.195,87.9763 412.195,1445.72 \n",
       "  \"/>\n",
       "<path clip-path=\"url(#clip042)\" d=\"\n",
       "M453.346 1445.72 L480.781 1445.72 L480.781 87.9763 L453.346 87.9763 L453.346 1445.72  Z\n",
       "  \" fill=\"#00a9ad\" fill-rule=\"evenodd\" fill-opacity=\"1\"/>\n",
       "<polyline clip-path=\"url(#clip042)\" style=\"stroke:#000000; stroke-linecap:round; stroke-linejoin:round; stroke-width:4; stroke-opacity:1; fill:none\" points=\"\n",
       "  453.346,1445.72 480.781,1445.72 480.781,87.9763 453.346,87.9763 453.346,1445.72 \n",
       "  \"/>\n",
       "<path clip-path=\"url(#clip042)\" d=\"\n",
       "M494.498 1445.72 L521.932 1445.72 L521.932 87.9763 L494.498 87.9763 L494.498 1445.72  Z\n",
       "  \" fill=\"#ed5d92\" fill-rule=\"evenodd\" fill-opacity=\"1\"/>\n",
       "<polyline clip-path=\"url(#clip042)\" style=\"stroke:#000000; stroke-linecap:round; stroke-linejoin:round; stroke-width:4; stroke-opacity:1; fill:none\" points=\"\n",
       "  494.498,1445.72 521.932,1445.72 521.932,87.9763 494.498,87.9763 494.498,1445.72 \n",
       "  \"/>\n",
       "<path clip-path=\"url(#clip042)\" d=\"\n",
       "M535.649 1445.72 L563.083 1445.72 L563.083 87.9763 L535.649 87.9763 L535.649 1445.72  Z\n",
       "  \" fill=\"#c68125\" fill-rule=\"evenodd\" fill-opacity=\"1\"/>\n",
       "<polyline clip-path=\"url(#clip042)\" style=\"stroke:#000000; stroke-linecap:round; stroke-linejoin:round; stroke-width:4; stroke-opacity:1; fill:none\" points=\"\n",
       "  535.649,1445.72 563.083,1445.72 563.083,87.9763 535.649,87.9763 535.649,1445.72 \n",
       "  \"/>\n",
       "<path clip-path=\"url(#clip042)\" d=\"\n",
       "M576.8 1445.72 L604.235 1445.72 L604.235 87.9763 L576.8 87.9763 L576.8 1445.72  Z\n",
       "  \" fill=\"#00a98d\" fill-rule=\"evenodd\" fill-opacity=\"1\"/>\n",
       "<polyline clip-path=\"url(#clip042)\" style=\"stroke:#000000; stroke-linecap:round; stroke-linejoin:round; stroke-width:4; stroke-opacity:1; fill:none\" points=\"\n",
       "  576.8,1445.72 604.235,1445.72 604.235,87.9763 576.8,87.9763 576.8,1445.72 \n",
       "  \"/>\n",
       "<path clip-path=\"url(#clip042)\" d=\"\n",
       "M617.952 1445.72 L645.386 1445.72 L645.386 87.9763 L617.952 87.9763 L617.952 1445.72  Z\n",
       "  \" fill=\"#8e971d\" fill-rule=\"evenodd\" fill-opacity=\"1\"/>\n",
       "<polyline clip-path=\"url(#clip042)\" style=\"stroke:#000000; stroke-linecap:round; stroke-linejoin:round; stroke-width:4; stroke-opacity:1; fill:none\" points=\"\n",
       "  617.952,1445.72 645.386,1445.72 645.386,87.9763 617.952,87.9763 617.952,1445.72 \n",
       "  \"/>\n",
       "<path clip-path=\"url(#clip042)\" d=\"\n",
       "M659.103 1445.72 L686.537 1445.72 L686.537 87.9763 L659.103 87.9763 L659.103 1445.72  Z\n",
       "  \" fill=\"#00a8cb\" fill-rule=\"evenodd\" fill-opacity=\"1\"/>\n",
       "<polyline clip-path=\"url(#clip042)\" style=\"stroke:#000000; stroke-linecap:round; stroke-linejoin:round; stroke-width:4; stroke-opacity:1; fill:none\" points=\"\n",
       "  659.103,1445.72 686.537,1445.72 686.537,87.9763 659.103,87.9763 659.103,1445.72 \n",
       "  \"/>\n",
       "<path clip-path=\"url(#clip042)\" d=\"\n",
       "M700.254 1445.72 L727.689 1445.72 L727.689 87.9763 L700.254 87.9763 L700.254 1445.72  Z\n",
       "  \" fill=\"#9b7fe8\" fill-rule=\"evenodd\" fill-opacity=\"1\"/>\n",
       "<polyline clip-path=\"url(#clip042)\" style=\"stroke:#000000; stroke-linecap:round; stroke-linejoin:round; stroke-width:4; stroke-opacity:1; fill:none\" points=\"\n",
       "  700.254,1445.72 727.689,1445.72 727.689,87.9763 700.254,87.9763 700.254,1445.72 \n",
       "  \"/>\n",
       "<path clip-path=\"url(#clip042)\" d=\"\n",
       "M741.406 1445.72 L768.84 1445.72 L768.84 87.9763 L741.406 87.9763 L741.406 1445.72  Z\n",
       "  \" fill=\"#608cf6\" fill-rule=\"evenodd\" fill-opacity=\"1\"/>\n",
       "<polyline clip-path=\"url(#clip042)\" style=\"stroke:#000000; stroke-linecap:round; stroke-linejoin:round; stroke-width:4; stroke-opacity:1; fill:none\" points=\"\n",
       "  741.406,1445.72 768.84,1445.72 768.84,87.9763 741.406,87.9763 741.406,1445.72 \n",
       "  \"/>\n",
       "<path clip-path=\"url(#clip042)\" d=\"\n",
       "M782.557 1445.72 L809.991 1445.72 L809.991 87.9763 L782.557 87.9763 L782.557 1445.72  Z\n",
       "  \" fill=\"#f05f73\" fill-rule=\"evenodd\" fill-opacity=\"1\"/>\n",
       "<polyline clip-path=\"url(#clip042)\" style=\"stroke:#000000; stroke-linecap:round; stroke-linejoin:round; stroke-width:4; stroke-opacity:1; fill:none\" points=\"\n",
       "  782.557,1445.72 809.991,1445.72 809.991,87.9763 782.557,87.9763 782.557,1445.72 \n",
       "  \"/>\n",
       "<path clip-path=\"url(#clip042)\" d=\"\n",
       "M823.709 1445.72 L851.143 1445.72 L851.143 87.9763 L823.709 87.9763 L823.709 1445.72  Z\n",
       "  \" fill=\"#dd64b5\" fill-rule=\"evenodd\" fill-opacity=\"1\"/>\n",
       "<polyline clip-path=\"url(#clip042)\" style=\"stroke:#000000; stroke-linecap:round; stroke-linejoin:round; stroke-width:4; stroke-opacity:1; fill:none\" points=\"\n",
       "  823.709,1445.72 851.143,1445.72 851.143,87.9763 823.709,87.9763 823.709,1445.72 \n",
       "  \"/>\n",
       "<path clip-path=\"url(#clip042)\" d=\"\n",
       "M864.86 1445.72 L892.294 1445.72 L892.294 87.9763 L864.86 87.9763 L864.86 1445.72  Z\n",
       "  \" fill=\"#6b9e32\" fill-rule=\"evenodd\" fill-opacity=\"1\"/>\n",
       "<polyline clip-path=\"url(#clip042)\" style=\"stroke:#000000; stroke-linecap:round; stroke-linejoin:round; stroke-width:4; stroke-opacity:1; fill:none\" points=\"\n",
       "  864.86,1445.72 892.294,1445.72 892.294,87.9763 864.86,87.9763 864.86,1445.72 \n",
       "  \"/>\n",
       "<path clip-path=\"url(#clip042)\" d=\"\n",
       "M906.011 1445.72 L933.446 1445.72 L933.446 87.9763 L906.011 87.9763 L906.011 1445.72  Z\n",
       "  \" fill=\"#009af9\" fill-rule=\"evenodd\" fill-opacity=\"1\"/>\n",
       "<polyline clip-path=\"url(#clip042)\" style=\"stroke:#000000; stroke-linecap:round; stroke-linejoin:round; stroke-width:4; stroke-opacity:1; fill:none\" points=\"\n",
       "  906.011,1445.72 933.446,1445.72 933.446,87.9763 906.011,87.9763 906.011,1445.72 \n",
       "  \"/>\n",
       "<path clip-path=\"url(#clip042)\" d=\"\n",
       "M947.163 1445.72 L974.597 1445.72 L974.597 87.9763 L947.163 87.9763 L947.163 1445.72  Z\n",
       "  \" fill=\"#e26f46\" fill-rule=\"evenodd\" fill-opacity=\"1\"/>\n",
       "<polyline clip-path=\"url(#clip042)\" style=\"stroke:#000000; stroke-linecap:round; stroke-linejoin:round; stroke-width:4; stroke-opacity:1; fill:none\" points=\"\n",
       "  947.163,1445.72 974.597,1445.72 974.597,87.9763 947.163,87.9763 947.163,1445.72 \n",
       "  \"/>\n",
       "<path clip-path=\"url(#clip042)\" d=\"\n",
       "M988.314 1445.72 L1015.75 1445.72 L1015.75 87.9763 L988.314 87.9763 L988.314 1445.72  Z\n",
       "  \" fill=\"#3da44d\" fill-rule=\"evenodd\" fill-opacity=\"1\"/>\n",
       "<polyline clip-path=\"url(#clip042)\" style=\"stroke:#000000; stroke-linecap:round; stroke-linejoin:round; stroke-width:4; stroke-opacity:1; fill:none\" points=\"\n",
       "  988.314,1445.72 1015.75,1445.72 1015.75,87.9763 988.314,87.9763 988.314,1445.72 \n",
       "  \"/>\n",
       "<path clip-path=\"url(#clip042)\" d=\"\n",
       "M1029.47 1445.72 L1056.9 1445.72 L1056.9 87.9763 L1029.47 87.9763 L1029.47 1445.72  Z\n",
       "  \" fill=\"#c271d2\" fill-rule=\"evenodd\" fill-opacity=\"1\"/>\n",
       "<polyline clip-path=\"url(#clip042)\" style=\"stroke:#000000; stroke-linecap:round; stroke-linejoin:round; stroke-width:4; stroke-opacity:1; fill:none\" points=\"\n",
       "  1029.47,1445.72 1056.9,1445.72 1056.9,87.9763 1029.47,87.9763 1029.47,1445.72 \n",
       "  \"/>\n",
       "<path clip-path=\"url(#clip042)\" d=\"\n",
       "M1070.62 1445.72 L1098.05 1445.72 L1098.05 87.9763 L1070.62 87.9763 L1070.62 1445.72  Z\n",
       "  \" fill=\"#ac8d18\" fill-rule=\"evenodd\" fill-opacity=\"1\"/>\n",
       "<polyline clip-path=\"url(#clip042)\" style=\"stroke:#000000; stroke-linecap:round; stroke-linejoin:round; stroke-width:4; stroke-opacity:1; fill:none\" points=\"\n",
       "  1070.62,1445.72 1098.05,1445.72 1098.05,87.9763 1070.62,87.9763 1070.62,1445.72 \n",
       "  \"/>\n",
       "<path clip-path=\"url(#clip042)\" d=\"\n",
       "M1111.77 1445.72 L1139.2 1445.72 L1139.2 87.9763 L1111.77 87.9763 L1111.77 1445.72  Z\n",
       "  \" fill=\"#00a9ad\" fill-rule=\"evenodd\" fill-opacity=\"1\"/>\n",
       "<polyline clip-path=\"url(#clip042)\" style=\"stroke:#000000; stroke-linecap:round; stroke-linejoin:round; stroke-width:4; stroke-opacity:1; fill:none\" points=\"\n",
       "  1111.77,1445.72 1139.2,1445.72 1139.2,87.9763 1111.77,87.9763 1111.77,1445.72 \n",
       "  \"/>\n",
       "<path clip-path=\"url(#clip042)\" d=\"\n",
       "M1152.92 1445.72 L1180.35 1445.72 L1180.35 87.9763 L1152.92 87.9763 L1152.92 1445.72  Z\n",
       "  \" fill=\"#ed5d92\" fill-rule=\"evenodd\" fill-opacity=\"1\"/>\n",
       "<polyline clip-path=\"url(#clip042)\" style=\"stroke:#000000; stroke-linecap:round; stroke-linejoin:round; stroke-width:4; stroke-opacity:1; fill:none\" points=\"\n",
       "  1152.92,1445.72 1180.35,1445.72 1180.35,87.9763 1152.92,87.9763 1152.92,1445.72 \n",
       "  \"/>\n",
       "<path clip-path=\"url(#clip042)\" d=\"\n",
       "M1194.07 1445.72 L1221.51 1445.72 L1221.51 87.9763 L1194.07 87.9763 L1194.07 1445.72  Z\n",
       "  \" fill=\"#c68125\" fill-rule=\"evenodd\" fill-opacity=\"1\"/>\n",
       "<polyline clip-path=\"url(#clip042)\" style=\"stroke:#000000; stroke-linecap:round; stroke-linejoin:round; stroke-width:4; stroke-opacity:1; fill:none\" points=\"\n",
       "  1194.07,1445.72 1221.51,1445.72 1221.51,87.9763 1194.07,87.9763 1194.07,1445.72 \n",
       "  \"/>\n",
       "<path clip-path=\"url(#clip042)\" d=\"\n",
       "M1235.22 1445.72 L1262.66 1445.72 L1262.66 87.9763 L1235.22 87.9763 L1235.22 1445.72  Z\n",
       "  \" fill=\"#00a98d\" fill-rule=\"evenodd\" fill-opacity=\"1\"/>\n",
       "<polyline clip-path=\"url(#clip042)\" style=\"stroke:#000000; stroke-linecap:round; stroke-linejoin:round; stroke-width:4; stroke-opacity:1; fill:none\" points=\"\n",
       "  1235.22,1445.72 1262.66,1445.72 1262.66,87.9763 1235.22,87.9763 1235.22,1445.72 \n",
       "  \"/>\n",
       "<path clip-path=\"url(#clip042)\" d=\"\n",
       "M1276.37 1445.72 L1303.81 1445.72 L1303.81 87.9763 L1276.37 87.9763 L1276.37 1445.72  Z\n",
       "  \" fill=\"#8e971d\" fill-rule=\"evenodd\" fill-opacity=\"1\"/>\n",
       "<polyline clip-path=\"url(#clip042)\" style=\"stroke:#000000; stroke-linecap:round; stroke-linejoin:round; stroke-width:4; stroke-opacity:1; fill:none\" points=\"\n",
       "  1276.37,1445.72 1303.81,1445.72 1303.81,87.9763 1276.37,87.9763 1276.37,1445.72 \n",
       "  \"/>\n",
       "<path clip-path=\"url(#clip042)\" d=\"\n",
       "M1317.52 1445.72 L1344.96 1445.72 L1344.96 87.9763 L1317.52 87.9763 L1317.52 1445.72  Z\n",
       "  \" fill=\"#00a8cb\" fill-rule=\"evenodd\" fill-opacity=\"1\"/>\n",
       "<polyline clip-path=\"url(#clip042)\" style=\"stroke:#000000; stroke-linecap:round; stroke-linejoin:round; stroke-width:4; stroke-opacity:1; fill:none\" points=\"\n",
       "  1317.52,1445.72 1344.96,1445.72 1344.96,87.9763 1317.52,87.9763 1317.52,1445.72 \n",
       "  \"/>\n",
       "<path clip-path=\"url(#clip042)\" d=\"\n",
       "M1358.68 1445.72 L1386.11 1445.72 L1386.11 87.9763 L1358.68 87.9763 L1358.68 1445.72  Z\n",
       "  \" fill=\"#9b7fe8\" fill-rule=\"evenodd\" fill-opacity=\"1\"/>\n",
       "<polyline clip-path=\"url(#clip042)\" style=\"stroke:#000000; stroke-linecap:round; stroke-linejoin:round; stroke-width:4; stroke-opacity:1; fill:none\" points=\"\n",
       "  1358.68,1445.72 1386.11,1445.72 1386.11,87.9763 1358.68,87.9763 1358.68,1445.72 \n",
       "  \"/>\n",
       "<path clip-path=\"url(#clip042)\" d=\"\n",
       "M1399.83 1445.72 L1427.26 1445.72 L1427.26 87.9763 L1399.83 87.9763 L1399.83 1445.72  Z\n",
       "  \" fill=\"#608cf6\" fill-rule=\"evenodd\" fill-opacity=\"1\"/>\n",
       "<polyline clip-path=\"url(#clip042)\" style=\"stroke:#000000; stroke-linecap:round; stroke-linejoin:round; stroke-width:4; stroke-opacity:1; fill:none\" points=\"\n",
       "  1399.83,1445.72 1427.26,1445.72 1427.26,87.9763 1399.83,87.9763 1399.83,1445.72 \n",
       "  \"/>\n",
       "<path clip-path=\"url(#clip042)\" d=\"\n",
       "M1440.98 1445.72 L1468.41 1445.72 L1468.41 87.9763 L1440.98 87.9763 L1440.98 1445.72  Z\n",
       "  \" fill=\"#f05f73\" fill-rule=\"evenodd\" fill-opacity=\"1\"/>\n",
       "<polyline clip-path=\"url(#clip042)\" style=\"stroke:#000000; stroke-linecap:round; stroke-linejoin:round; stroke-width:4; stroke-opacity:1; fill:none\" points=\"\n",
       "  1440.98,1445.72 1468.41,1445.72 1468.41,87.9763 1440.98,87.9763 1440.98,1445.72 \n",
       "  \"/>\n",
       "<path clip-path=\"url(#clip042)\" d=\"\n",
       "M1482.13 1445.72 L1509.56 1445.72 L1509.56 87.9763 L1482.13 87.9763 L1482.13 1445.72  Z\n",
       "  \" fill=\"#dd64b5\" fill-rule=\"evenodd\" fill-opacity=\"1\"/>\n",
       "<polyline clip-path=\"url(#clip042)\" style=\"stroke:#000000; stroke-linecap:round; stroke-linejoin:round; stroke-width:4; stroke-opacity:1; fill:none\" points=\"\n",
       "  1482.13,1445.72 1509.56,1445.72 1509.56,87.9763 1482.13,87.9763 1482.13,1445.72 \n",
       "  \"/>\n",
       "<path clip-path=\"url(#clip042)\" d=\"\n",
       "M1523.28 1445.72 L1550.72 1445.72 L1550.72 87.9763 L1523.28 87.9763 L1523.28 1445.72  Z\n",
       "  \" fill=\"#6b9e32\" fill-rule=\"evenodd\" fill-opacity=\"1\"/>\n",
       "<polyline clip-path=\"url(#clip042)\" style=\"stroke:#000000; stroke-linecap:round; stroke-linejoin:round; stroke-width:4; stroke-opacity:1; fill:none\" points=\"\n",
       "  1523.28,1445.72 1550.72,1445.72 1550.72,87.9763 1523.28,87.9763 1523.28,1445.72 \n",
       "  \"/>\n",
       "<path clip-path=\"url(#clip042)\" d=\"\n",
       "M1564.43 1445.72 L1591.87 1445.72 L1591.87 87.9763 L1564.43 87.9763 L1564.43 1445.72  Z\n",
       "  \" fill=\"#009af9\" fill-rule=\"evenodd\" fill-opacity=\"1\"/>\n",
       "<polyline clip-path=\"url(#clip042)\" style=\"stroke:#000000; stroke-linecap:round; stroke-linejoin:round; stroke-width:4; stroke-opacity:1; fill:none\" points=\"\n",
       "  1564.43,1445.72 1591.87,1445.72 1591.87,87.9763 1564.43,87.9763 1564.43,1445.72 \n",
       "  \"/>\n",
       "<path clip-path=\"url(#clip042)\" d=\"\n",
       "M1605.58 1445.72 L1633.02 1445.72 L1633.02 87.9763 L1605.58 87.9763 L1605.58 1445.72  Z\n",
       "  \" fill=\"#e26f46\" fill-rule=\"evenodd\" fill-opacity=\"1\"/>\n",
       "<polyline clip-path=\"url(#clip042)\" style=\"stroke:#000000; stroke-linecap:round; stroke-linejoin:round; stroke-width:4; stroke-opacity:1; fill:none\" points=\"\n",
       "  1605.58,1445.72 1633.02,1445.72 1633.02,87.9763 1605.58,87.9763 1605.58,1445.72 \n",
       "  \"/>\n",
       "<path clip-path=\"url(#clip042)\" d=\"\n",
       "M1646.74 1445.72 L1674.17 1445.72 L1674.17 87.9763 L1646.74 87.9763 L1646.74 1445.72  Z\n",
       "  \" fill=\"#3da44d\" fill-rule=\"evenodd\" fill-opacity=\"1\"/>\n",
       "<polyline clip-path=\"url(#clip042)\" style=\"stroke:#000000; stroke-linecap:round; stroke-linejoin:round; stroke-width:4; stroke-opacity:1; fill:none\" points=\"\n",
       "  1646.74,1445.72 1674.17,1445.72 1674.17,87.9763 1646.74,87.9763 1646.74,1445.72 \n",
       "  \"/>\n",
       "<path clip-path=\"url(#clip042)\" d=\"\n",
       "M1687.89 1445.72 L1715.32 1445.72 L1715.32 87.9763 L1687.89 87.9763 L1687.89 1445.72  Z\n",
       "  \" fill=\"#c271d2\" fill-rule=\"evenodd\" fill-opacity=\"1\"/>\n",
       "<polyline clip-path=\"url(#clip042)\" style=\"stroke:#000000; stroke-linecap:round; stroke-linejoin:round; stroke-width:4; stroke-opacity:1; fill:none\" points=\"\n",
       "  1687.89,1445.72 1715.32,1445.72 1715.32,87.9763 1687.89,87.9763 1687.89,1445.72 \n",
       "  \"/>\n",
       "<path clip-path=\"url(#clip042)\" d=\"\n",
       "M1729.04 1445.72 L1756.47 1445.72 L1756.47 87.9763 L1729.04 87.9763 L1729.04 1445.72  Z\n",
       "  \" fill=\"#ac8d18\" fill-rule=\"evenodd\" fill-opacity=\"1\"/>\n",
       "<polyline clip-path=\"url(#clip042)\" style=\"stroke:#000000; stroke-linecap:round; stroke-linejoin:round; stroke-width:4; stroke-opacity:1; fill:none\" points=\"\n",
       "  1729.04,1445.72 1756.47,1445.72 1756.47,87.9763 1729.04,87.9763 1729.04,1445.72 \n",
       "  \"/>\n",
       "<path clip-path=\"url(#clip042)\" d=\"\n",
       "M1770.19 1445.72 L1797.62 1445.72 L1797.62 87.9763 L1770.19 87.9763 L1770.19 1445.72  Z\n",
       "  \" fill=\"#00a9ad\" fill-rule=\"evenodd\" fill-opacity=\"1\"/>\n",
       "<polyline clip-path=\"url(#clip042)\" style=\"stroke:#000000; stroke-linecap:round; stroke-linejoin:round; stroke-width:4; stroke-opacity:1; fill:none\" points=\"\n",
       "  1770.19,1445.72 1797.62,1445.72 1797.62,87.9763 1770.19,87.9763 1770.19,1445.72 \n",
       "  \"/>\n",
       "<path clip-path=\"url(#clip042)\" d=\"\n",
       "M1811.34 1445.72 L1838.78 1445.72 L1838.78 87.9763 L1811.34 87.9763 L1811.34 1445.72  Z\n",
       "  \" fill=\"#ed5d92\" fill-rule=\"evenodd\" fill-opacity=\"1\"/>\n",
       "<polyline clip-path=\"url(#clip042)\" style=\"stroke:#000000; stroke-linecap:round; stroke-linejoin:round; stroke-width:4; stroke-opacity:1; fill:none\" points=\"\n",
       "  1811.34,1445.72 1838.78,1445.72 1838.78,87.9763 1811.34,87.9763 1811.34,1445.72 \n",
       "  \"/>\n",
       "<path clip-path=\"url(#clip042)\" d=\"\n",
       "M1852.49 1445.72 L1879.93 1445.72 L1879.93 87.9763 L1852.49 87.9763 L1852.49 1445.72  Z\n",
       "  \" fill=\"#c68125\" fill-rule=\"evenodd\" fill-opacity=\"1\"/>\n",
       "<polyline clip-path=\"url(#clip042)\" style=\"stroke:#000000; stroke-linecap:round; stroke-linejoin:round; stroke-width:4; stroke-opacity:1; fill:none\" points=\"\n",
       "  1852.49,1445.72 1879.93,1445.72 1879.93,87.9763 1852.49,87.9763 1852.49,1445.72 \n",
       "  \"/>\n",
       "<path clip-path=\"url(#clip042)\" d=\"\n",
       "M1893.64 1445.72 L1921.08 1445.72 L1921.08 87.9763 L1893.64 87.9763 L1893.64 1445.72  Z\n",
       "  \" fill=\"#00a98d\" fill-rule=\"evenodd\" fill-opacity=\"1\"/>\n",
       "<polyline clip-path=\"url(#clip042)\" style=\"stroke:#000000; stroke-linecap:round; stroke-linejoin:round; stroke-width:4; stroke-opacity:1; fill:none\" points=\"\n",
       "  1893.64,1445.72 1921.08,1445.72 1921.08,87.9763 1893.64,87.9763 1893.64,1445.72 \n",
       "  \"/>\n",
       "<path clip-path=\"url(#clip042)\" d=\"\n",
       "M1934.8 1445.72 L1962.23 1445.72 L1962.23 87.9763 L1934.8 87.9763 L1934.8 1445.72  Z\n",
       "  \" fill=\"#8e971d\" fill-rule=\"evenodd\" fill-opacity=\"1\"/>\n",
       "<polyline clip-path=\"url(#clip042)\" style=\"stroke:#000000; stroke-linecap:round; stroke-linejoin:round; stroke-width:4; stroke-opacity:1; fill:none\" points=\"\n",
       "  1934.8,1445.72 1962.23,1445.72 1962.23,87.9763 1934.8,87.9763 1934.8,1445.72 \n",
       "  \"/>\n",
       "<path clip-path=\"url(#clip042)\" d=\"\n",
       "M1975.95 1445.72 L2003.38 1445.72 L2003.38 87.9763 L1975.95 87.9763 L1975.95 1445.72  Z\n",
       "  \" fill=\"#00a8cb\" fill-rule=\"evenodd\" fill-opacity=\"1\"/>\n",
       "<polyline clip-path=\"url(#clip042)\" style=\"stroke:#000000; stroke-linecap:round; stroke-linejoin:round; stroke-width:4; stroke-opacity:1; fill:none\" points=\"\n",
       "  1975.95,1445.72 2003.38,1445.72 2003.38,87.9763 1975.95,87.9763 1975.95,1445.72 \n",
       "  \"/>\n",
       "<path clip-path=\"url(#clip042)\" d=\"\n",
       "M2017.1 1445.72 L2044.53 1445.72 L2044.53 87.9763 L2017.1 87.9763 L2017.1 1445.72  Z\n",
       "  \" fill=\"#9b7fe8\" fill-rule=\"evenodd\" fill-opacity=\"1\"/>\n",
       "<polyline clip-path=\"url(#clip042)\" style=\"stroke:#000000; stroke-linecap:round; stroke-linejoin:round; stroke-width:4; stroke-opacity:1; fill:none\" points=\"\n",
       "  2017.1,1445.72 2044.53,1445.72 2044.53,87.9763 2017.1,87.9763 2017.1,1445.72 \n",
       "  \"/>\n",
       "<path clip-path=\"url(#clip042)\" d=\"\n",
       "M2058.25 1445.72 L2085.68 1445.72 L2085.68 87.9763 L2058.25 87.9763 L2058.25 1445.72  Z\n",
       "  \" fill=\"#608cf6\" fill-rule=\"evenodd\" fill-opacity=\"1\"/>\n",
       "<polyline clip-path=\"url(#clip042)\" style=\"stroke:#000000; stroke-linecap:round; stroke-linejoin:round; stroke-width:4; stroke-opacity:1; fill:none\" points=\"\n",
       "  2058.25,1445.72 2085.68,1445.72 2085.68,87.9763 2058.25,87.9763 2058.25,1445.72 \n",
       "  \"/>\n",
       "<path clip-path=\"url(#clip042)\" d=\"\n",
       "M2099.4 1445.72 L2126.83 1445.72 L2126.83 87.9763 L2099.4 87.9763 L2099.4 1445.72  Z\n",
       "  \" fill=\"#f05f73\" fill-rule=\"evenodd\" fill-opacity=\"1\"/>\n",
       "<polyline clip-path=\"url(#clip042)\" style=\"stroke:#000000; stroke-linecap:round; stroke-linejoin:round; stroke-width:4; stroke-opacity:1; fill:none\" points=\"\n",
       "  2099.4,1445.72 2126.83,1445.72 2126.83,87.9763 2099.4,87.9763 2099.4,1445.72 \n",
       "  \"/>\n",
       "<path clip-path=\"url(#clip042)\" d=\"\n",
       "M2140.55 1445.72 L2167.99 1445.72 L2167.99 87.9763 L2140.55 87.9763 L2140.55 1445.72  Z\n",
       "  \" fill=\"#dd64b5\" fill-rule=\"evenodd\" fill-opacity=\"1\"/>\n",
       "<polyline clip-path=\"url(#clip042)\" style=\"stroke:#000000; stroke-linecap:round; stroke-linejoin:round; stroke-width:4; stroke-opacity:1; fill:none\" points=\"\n",
       "  2140.55,1445.72 2167.99,1445.72 2167.99,87.9763 2140.55,87.9763 2140.55,1445.72 \n",
       "  \"/>\n",
       "<path clip-path=\"url(#clip042)\" d=\"\n",
       "M2181.7 1445.72 L2209.14 1445.72 L2209.14 87.9763 L2181.7 87.9763 L2181.7 1445.72  Z\n",
       "  \" fill=\"#6b9e32\" fill-rule=\"evenodd\" fill-opacity=\"1\"/>\n",
       "<polyline clip-path=\"url(#clip042)\" style=\"stroke:#000000; stroke-linecap:round; stroke-linejoin:round; stroke-width:4; stroke-opacity:1; fill:none\" points=\"\n",
       "  2181.7,1445.72 2209.14,1445.72 2209.14,87.9763 2181.7,87.9763 2181.7,1445.72 \n",
       "  \"/>\n",
       "<path clip-path=\"url(#clip042)\" d=\"\n",
       "M2222.85 1445.72 L2250.29 1445.72 L2250.29 87.9763 L2222.85 87.9763 L2222.85 1445.72  Z\n",
       "  \" fill=\"#009af9\" fill-rule=\"evenodd\" fill-opacity=\"1\"/>\n",
       "<polyline clip-path=\"url(#clip042)\" style=\"stroke:#000000; stroke-linecap:round; stroke-linejoin:round; stroke-width:4; stroke-opacity:1; fill:none\" points=\"\n",
       "  2222.85,1445.72 2250.29,1445.72 2250.29,87.9763 2222.85,87.9763 2222.85,1445.72 \n",
       "  \"/>\n",
       "<path clip-path=\"url(#clip042)\" d=\"\n",
       "M2264.01 1445.72 L2291.44 1445.72 L2291.44 87.9763 L2264.01 87.9763 L2264.01 1445.72  Z\n",
       "  \" fill=\"#e26f46\" fill-rule=\"evenodd\" fill-opacity=\"1\"/>\n",
       "<polyline clip-path=\"url(#clip042)\" style=\"stroke:#000000; stroke-linecap:round; stroke-linejoin:round; stroke-width:4; stroke-opacity:1; fill:none\" points=\"\n",
       "  2264.01,1445.72 2291.44,1445.72 2291.44,87.9763 2264.01,87.9763 2264.01,1445.72 \n",
       "  \"/>\n",
       "</svg>\n"
      ]
     },
     "execution_count": 73,
     "metadata": {},
     "output_type": "execute_result"
    }
   ],
   "source": [
    "# visualize the policy values -\n",
    "width = 1.0;\n",
    "height = 1.0;\n",
    "y = 0.0;\n",
    "x = 0.0;\n",
    "\n",
    "\n",
    "\n",
    "for (i,s) ∈ enumerate(states)\n",
    "        \n",
    "    x = x + (width + 0.5)\n",
    "    if (i == 1)\n",
    "        plot(rectangle(width, height, x, y), label=\"\")\n",
    "    else\n",
    "        plot!(rectangle(width, height, x, y), label=\"\")\n",
    "    end\n",
    "    \n",
    "end\n",
    "\n",
    "current()"
   ]
  },
  {
   "cell_type": "code",
   "execution_count": null,
   "id": "8c7e4a7a-09e2-43e7-8c38-792eb4078e56",
   "metadata": {},
   "outputs": [],
   "source": []
  }
 ],
 "metadata": {
  "kernelspec": {
   "display_name": "Julia 1.8.0",
   "language": "julia",
   "name": "julia-1.8"
  },
  "language_info": {
   "file_extension": ".jl",
   "mimetype": "application/julia",
   "name": "julia",
   "version": "1.8.2"
  }
 },
 "nbformat": 4,
 "nbformat_minor": 5
}
