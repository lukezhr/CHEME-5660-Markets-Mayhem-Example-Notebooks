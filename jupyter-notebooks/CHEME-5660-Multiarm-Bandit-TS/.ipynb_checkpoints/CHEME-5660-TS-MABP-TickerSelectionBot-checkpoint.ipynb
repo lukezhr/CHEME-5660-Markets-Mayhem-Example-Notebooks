{
 "cells": [
  {
   "cell_type": "markdown",
   "id": "538e4838-164f-4022-b748-39cc0448d076",
   "metadata": {},
   "source": [
    "## Binary Bandit Ticker Selection Bot"
   ]
  },
  {
   "cell_type": "markdown",
   "id": "22a31c69-b95e-4d57-a825-d421036d3066",
   "metadata": {},
   "source": [
    "### Introduction\n",
    "Suppose we formulated the selection of which stocks we should invest in as a [Multi-arm Bandit problem](https://varnerlab.github.io/CHEME-5660-Markets-Mayhem-Book/chapter-4-dir/rl.html#exploration-exploitation-and-bandit-problems).\n",
    "\n",
    "The key ideas:\n",
    "* $N_{a}$ agents independently analyze daily Open High Low Close (OHLC) data and rank-order their belief that ticker `XYZ` will return at least the risk-free rate in the next time step. \n",
    "* If ticker `XYZ` returns greater than or equal to the risk-free rate in the next time-step, the agent receives a reward of +1. \n",
    "* Each agent develops a distribution of beliefs based on experimentation using a $\\beta$-distribution\n",
    "* Each ticker is an action in the set $\\mathcal{A}=\\left\\{a_{1},a_{2},\\dots,a_{K}\\right\\}$ "
   ]
  },
  {
   "cell_type": "markdown",
   "id": "e06b160e-4b85-4625-b78b-3e1ee1ae13df",
   "metadata": {},
   "source": [
    "### Example setup"
   ]
  },
  {
   "cell_type": "code",
   "execution_count": 1,
   "id": "6a70d7ef-d4b1-49c5-a04f-6bbced134832",
   "metadata": {},
   "outputs": [
    {
     "name": "stderr",
     "output_type": "stream",
     "text": [
      "\u001b[32m\u001b[1m  Activating\u001b[22m\u001b[39m project at `~/Desktop/julia_work/CHEME-5660-Markets-Mayhem-Example-Notebooks/jupyter-notebooks/CHEME-5660-Multiarm-Bandit-TS`\n",
      "\u001b[32m\u001b[1m  No Changes\u001b[22m\u001b[39m to `~/Desktop/julia_work/CHEME-5660-Markets-Mayhem-Example-Notebooks/jupyter-notebooks/CHEME-5660-Multiarm-Bandit-TS/Project.toml`\n",
      "\u001b[32m\u001b[1m  No Changes\u001b[22m\u001b[39m to `~/Desktop/julia_work/CHEME-5660-Markets-Mayhem-Example-Notebooks/jupyter-notebooks/CHEME-5660-Multiarm-Bandit-TS/Manifest.toml`\n"
     ]
    }
   ],
   "source": [
    "import Pkg; Pkg.activate(\".\"); Pkg.resolve(); Pkg.instantiate();"
   ]
  },
  {
   "cell_type": "code",
   "execution_count": 2,
   "id": "10227e81-bf4c-449e-8264-5922ac9cc7ec",
   "metadata": {},
   "outputs": [],
   "source": [
    "# load reqd packages -\n",
    "using Distributions\n",
    "using Plots\n",
    "using Colors\n",
    "using StatsPlots\n",
    "using PrettyTables\n",
    "using DataFrames\n",
    "using Dates\n",
    "using JLD2\n",
    "using FileIO\n",
    "\n",
    "\n",
    "# setup paths -\n",
    "const _ROOT = pwd();\n",
    "const _PATH_TO_FIGS = joinpath(_ROOT, \"figs\");\n",
    "const _PATH_TO_DATA = joinpath(_ROOT, \"data\");"
   ]
  },
  {
   "cell_type": "code",
   "execution_count": 3,
   "id": "47162b08-22d6-4a1d-8a5e-5b91d33df6e7",
   "metadata": {},
   "outputs": [],
   "source": [
    "include(\"CHEME-5660-Example-CodeLib.jl\");"
   ]
  },
  {
   "cell_type": "code",
   "execution_count": 4,
   "id": "7fabe5bd-bdc5-49dc-8973-2e955dea215f",
   "metadata": {},
   "outputs": [
    {
     "name": "stdout",
     "output_type": "stream",
     "text": [
      "Length violation: META was removed; dim(SPY) = 1007 days and dim(META) = 267 days\n",
      "Length violation: DOW was removed; dim(SPY) = 1007 days and dim(DOW) = 923 days\n",
      "Length violation: MTGP was removed; dim(SPY) = 1007 days and dim(MTGP) = 764 days\n",
      "Length violation: BIIB was removed; dim(SPY) = 1007 days and dim(BIIB) = 1006 days\n",
      "Length violation: VXX was removed; dim(SPY) = 1007 days and dim(VXX) = 943 days\n",
      "Length violation: HWM was removed; dim(SPY) = 1007 days and dim(HWM) = 671 days\n",
      "Length violation: BKR was removed; dim(SPY) = 1007 days and dim(BKR) = 784 days\n",
      "Length violation: MRNA was removed; dim(SPY) = 1007 days and dim(MRNA) = 1001 days\n",
      "Length violation: RTX was removed; dim(SPY) = 1007 days and dim(RTX) = 669 days\n"
     ]
    }
   ],
   "source": [
    "# load the JLD2 portfolio data file -\n",
    "price_data_dictionary = clean(load(joinpath(_PATH_TO_DATA, \"CHEME-5660-Portfolio-11-28-22-4Y.jld2\"))[\"dd\"]);"
   ]
  },
  {
   "cell_type": "code",
   "execution_count": 5,
   "id": "852f2e83-ae4a-48e9-a916-6b6722f7d320",
   "metadata": {},
   "outputs": [
    {
     "ename": "LoadError",
     "evalue": "KeyError: key \"RTX\" not found",
     "output_type": "error",
     "traceback": [
      "KeyError: key \"RTX\" not found",
      "",
      "Stacktrace:",
      " [1] getindex",
      "   @ ./dict.jl:498 [inlined]",
      " [2] world(action::Int64, time::Int64, data::Dict{String, DataFrame}, tickers::Vector{String})",
      "   @ Main ~/Desktop/julia_work/CHEME-5660-Markets-Mayhem-Example-Notebooks/jupyter-notebooks/CHEME-5660-Multiarm-Bandit-TS/CHEME-5660-Example-CodeLib.jl:201",
      " [3] sample(model::EpsilonSamplingModel, data::Dict{String, DataFrame}, tickers::Vector{String}; 𝒯::Int64)",
      "   @ Main ~/Desktop/julia_work/CHEME-5660-Markets-Mayhem-Example-Notebooks/jupyter-notebooks/CHEME-5660-Multiarm-Bandit-TS/CHEME-5660-Example-CodeLib.jl:89",
      " [4] top-level scope",
      "   @ ./In[5]:28",
      " [5] eval",
      "   @ ./boot.jl:368 [inlined]",
      " [6] include_string(mapexpr::typeof(REPL.softscope), mod::Module, code::String, filename::String)",
      "   @ Base ./loading.jl:1428"
     ]
    }
   ],
   "source": [
    "# we have these ticker symbols in our data set -\n",
    "tickers = [\"MRK\", \"JNJ\", \"MET\", \"NFLX\", \"K\", \"AAPL\"];\n",
    "\n",
    "# how many days of data do we have?\n",
    "number_of_days = length(price_data_dictionary[\"SPY\"][!, :close]);\n",
    "\n",
    "# How many actions do we have?\n",
    "K = length(tickers);\n",
    "number_of_agents = 2000;\n",
    "trading_day_index = 1006\n",
    "\n",
    "pref_array = Array{Float64,2}(undef, K, number_of_agents);\n",
    "\n",
    "\n",
    "# build Thompson sample object -\n",
    "model = EpsilonSamplingModel()\n",
    "model.K = K; # tickers\n",
    "model.α = ones(K); # initialize to uniform values\n",
    "model.β = ones(K); # initialize to uniform values\n",
    "model.ϵ = 0.30;\n",
    "\n",
    "# pick an agent -\n",
    "agent_specific_data = Array{Beta,2}(undef, K, number_of_agents);\n",
    "\n",
    "for agent_index ∈ 1:number_of_agents\n",
    "    \n",
    "    # sample -\n",
    "    time_sample_results_dict_Ts = sample(model, price_data_dictionary, tickers; 𝒯 = (number_of_days - 1));\n",
    "    beta_array = build_beta_array(time_sample_results_dict_Ts[trading_day_index]);\n",
    "\n",
    "    # grab data for this agent -\n",
    "    for k = 1:K\n",
    "        agent_specific_data[k,agent_index] = beta_array[k]\n",
    "    end\n",
    "    \n",
    "    # compute the preference array -\n",
    "    tmp_array =  preference(beta_array, tickers; N = 10000);\n",
    "    for k = 1:K\n",
    "       pref_array[k, agent_index] = tmp_array[k] \n",
    "    end\n",
    "end\n",
    "\n",
    "# count -\n",
    "count_array = Array{Int64,1}(undef, number_of_agents);\n",
    "for agent_index ∈ 1:number_of_agents\n",
    "    count_array[agent_index] = argmax(pref_array[:,agent_index]);\n",
    "end"
   ]
  },
  {
   "cell_type": "code",
   "execution_count": 6,
   "id": "10837158-ddb3-4299-b8d8-a10c8941bb45",
   "metadata": {},
   "outputs": [
    {
     "ename": "LoadError",
     "evalue": "UndefVarError: count_array not defined",
     "output_type": "error",
     "traceback": [
      "UndefVarError: count_array not defined",
      "",
      "Stacktrace:",
      " [1] top-level scope",
      "   @ In[6]:9",
      " [2] eval",
      "   @ ./boot.jl:368 [inlined]",
      " [3] include_string(mapexpr::typeof(REPL.softscope), mod::Module, code::String, filename::String)",
      "   @ Base ./loading.jl:1428"
     ]
    }
   ],
   "source": [
    "# build a pretty table -\n",
    "pref_table_data = Array{Any,2}(undef, K, 3);\n",
    "\n",
    "for k ∈ 1:K\n",
    "    pref_table_data[k,1] = tickers[k];\n",
    "    \n",
    "    \n",
    "    # compute the votes -\n",
    "    idx = findall(x->x==k,count_array)\n",
    "    pref_table_data[k, 2] = (length(idx)/number_of_agents);\n",
    "    pref_table_data[k, 3] = k\n",
    "end\n",
    "\n",
    "# add rank col -\n",
    "p = sortperm(pref_table_data[:,2], rev=true);\n",
    "pref_table_data[:,1] .= tickers[p]\n",
    "pref_table_data[:,2] .= pref_table_data[p,2]\n",
    "\n",
    "# header -\n",
    "pref_table_header = ([\"ticker\", \"score\", \"rank\"]);\n",
    "\n",
    "# show -\n",
    "pretty_table(pref_table_data; header=pref_table_header)"
   ]
  },
  {
   "cell_type": "code",
   "execution_count": 7,
   "id": "b77e5655-9f25-464e-87c2-b41c2fd4cb59",
   "metadata": {},
   "outputs": [
    {
     "ename": "LoadError",
     "evalue": "UndefRefError: access to undefined reference",
     "output_type": "error",
     "traceback": [
      "UndefRefError: access to undefined reference",
      "",
      "Stacktrace:",
      "  [1] getindex",
      "    @ ./array.jl:925 [inlined]",
      "  [2] macro expansion",
      "    @ ./multidimensional.jl:903 [inlined]",
      "  [3] macro expansion",
      "    @ ./cartesian.jl:64 [inlined]",
      "  [4] _unsafe_getindex!",
      "    @ ./multidimensional.jl:898 [inlined]",
      "  [5] _unsafe_getindex",
      "    @ ./multidimensional.jl:889 [inlined]",
      "  [6] _getindex",
      "    @ ./multidimensional.jl:875 [inlined]",
      "  [7] getindex(::Matrix{Beta}, ::Function, ::Int64)",
      "    @ Base ./abstractarray.jl:1241",
      "  [8] top-level scope",
      "    @ In[7]:2",
      "  [9] eval",
      "    @ ./boot.jl:368 [inlined]",
      " [10] include_string(mapexpr::typeof(REPL.softscope), mod::Module, code::String, filename::String)",
      "    @ Base ./loading.jl:1428"
     ]
    }
   ],
   "source": [
    "lucky_agent_index = 150;\n",
    "data_for_lucky_agent = agent_specific_data[:, lucky_agent_index];\n",
    "\n",
    "tmp_array =  preference(data_for_lucky_agent, tickers; N = 10000)\n",
    "[tickers tmp_array]"
   ]
  },
  {
   "cell_type": "markdown",
   "id": "212caefa-120e-423f-a9c4-40556299179d",
   "metadata": {},
   "source": [
    "### Disclaimer and Risks\n",
    "__This content is offered solely for training and  informational purposes__. No offer or solicitation to buy or sell securities or derivative products, or any investment or trading advice or strategy,  is made, given, or endorsed by the teaching team. \n",
    "\n",
    "__Trading involves risk__. Carefully review your financial situation before investing in securities, futures contracts, options, or commodity interests. Past performance, whether actual or indicated by historical tests of strategies, is no guarantee of future performance or success. Trading is generally inappropriate for someone with limited resources, investment or trading experience, or a low-risk tolerance.  Only risk capital that is not required for living expenses.\n",
    "\n",
    "__You are fully responsible for any investment or trading decisions you make__. Such decisions should be based solely on your evaluation of your financial circumstances, investment or trading objectives, risk tolerance, and liquidity needs."
   ]
  },
  {
   "cell_type": "code",
   "execution_count": null,
   "id": "239fa291-368c-49d4-952d-1fa86bb48ecd",
   "metadata": {},
   "outputs": [],
   "source": []
  }
 ],
 "metadata": {
  "kernelspec": {
   "display_name": "Julia 1.8.0",
   "language": "julia",
   "name": "julia-1.8"
  },
  "language_info": {
   "file_extension": ".jl",
   "mimetype": "application/julia",
   "name": "julia",
   "version": "1.8.2"
  }
 },
 "nbformat": 4,
 "nbformat_minor": 5
}
