{
 "cells": [
  {
   "cell_type": "markdown",
   "id": "538e4838-164f-4022-b748-39cc0448d076",
   "metadata": {},
   "source": [
    "## Binary Bernoulli Bandit Ticker Selection Bot"
   ]
  },
  {
   "cell_type": "markdown",
   "id": "22a31c69-b95e-4d57-a825-d421036d3066",
   "metadata": {},
   "source": [
    "### Introduction"
   ]
  },
  {
   "cell_type": "markdown",
   "id": "e06b160e-4b85-4625-b78b-3e1ee1ae13df",
   "metadata": {},
   "source": [
    "### Example setup"
   ]
  },
  {
   "cell_type": "code",
   "execution_count": 1,
   "id": "6a70d7ef-d4b1-49c5-a04f-6bbced134832",
   "metadata": {},
   "outputs": [
    {
     "name": "stderr",
     "output_type": "stream",
     "text": [
      "\u001b[32m\u001b[1m  Activating\u001b[22m\u001b[39m project at `~/Desktop/julia_work/CHEME-5660-Markets-Mayhem-Example-Notebooks/jupyter-notebooks/CHEME-5660-Multiarm-Bandit-TS`\n",
      "\u001b[32m\u001b[1m  No Changes\u001b[22m\u001b[39m to `~/Desktop/julia_work/CHEME-5660-Markets-Mayhem-Example-Notebooks/jupyter-notebooks/CHEME-5660-Multiarm-Bandit-TS/Project.toml`\n",
      "\u001b[32m\u001b[1m  No Changes\u001b[22m\u001b[39m to `~/Desktop/julia_work/CHEME-5660-Markets-Mayhem-Example-Notebooks/jupyter-notebooks/CHEME-5660-Multiarm-Bandit-TS/Manifest.toml`\n"
     ]
    }
   ],
   "source": [
    "import Pkg; Pkg.activate(\".\"); Pkg.resolve(); Pkg.instantiate();"
   ]
  },
  {
   "cell_type": "code",
   "execution_count": 2,
   "id": "10227e81-bf4c-449e-8264-5922ac9cc7ec",
   "metadata": {},
   "outputs": [],
   "source": [
    "# load reqd packages -\n",
    "using Distributions\n",
    "using Plots\n",
    "using Colors\n",
    "using StatsPlots\n",
    "using PrettyTables\n",
    "using DataFrames\n",
    "using Dates\n",
    "using JLD2\n",
    "using FileIO\n",
    "\n",
    "\n",
    "# setup paths -\n",
    "const _ROOT = pwd();\n",
    "const _PATH_TO_FIGS = joinpath(_ROOT, \"figs\");\n",
    "const _PATH_TO_DATA = joinpath(_ROOT, \"data\");"
   ]
  },
  {
   "cell_type": "code",
   "execution_count": 3,
   "id": "47162b08-22d6-4a1d-8a5e-5b91d33df6e7",
   "metadata": {},
   "outputs": [],
   "source": [
    "include(\"CHEME-5660-Example-CodeLib.jl\");"
   ]
  },
  {
   "cell_type": "code",
   "execution_count": 4,
   "id": "7fabe5bd-bdc5-49dc-8973-2e955dea215f",
   "metadata": {},
   "outputs": [
    {
     "name": "stdout",
     "output_type": "stream",
     "text": [
      "Length violation: META was removed; dim(SPY) = 1007 days and dim(META) = 267 days\n",
      "Length violation: DOW was removed; dim(SPY) = 1007 days and dim(DOW) = 923 days\n",
      "Length violation: MTGP was removed; dim(SPY) = 1007 days and dim(MTGP) = 764 days\n",
      "Length violation: BIIB was removed; dim(SPY) = 1007 days and dim(BIIB) = 1006 days\n",
      "Length violation: VXX was removed; dim(SPY) = 1007 days and dim(VXX) = 943 days\n",
      "Length violation: HWM was removed; dim(SPY) = 1007 days and dim(HWM) = 671 days\n",
      "Length violation: BKR was removed; dim(SPY) = 1007 days and dim(BKR) = 784 days\n",
      "Length violation: MRNA was removed; dim(SPY) = 1007 days and dim(MRNA) = 1001 days\n",
      "Length violation: RTX was removed; dim(SPY) = 1007 days and dim(RTX) = 669 days\n"
     ]
    }
   ],
   "source": [
    "# load the JLD2 portfolio data file -\n",
    "price_data_dictionary = clean(load(joinpath(_PATH_TO_DATA, \"CHEME-5660-Portfolio-11-28-22-4Y.jld2\"))[\"dd\"]);"
   ]
  },
  {
   "cell_type": "code",
   "execution_count": 5,
   "id": "852f2e83-ae4a-48e9-a916-6b6722f7d320",
   "metadata": {},
   "outputs": [],
   "source": [
    "# we have these ticker symbols in our data set -\n",
    "tickers = [\"K\", \"JNJ\", \"MET\", \"NFLX\", \"AMD\", \"AAPL\"];\n",
    "\n",
    "# how many days of data do we have?\n",
    "number_of_days = length(price_data_dictionary[\"SPY\"][!, :close]);\n",
    "\n",
    "# How many actions do we have?\n",
    "K = length(tickers);\n",
    "number_of_agents = 2000;\n",
    "trading_day_index = 1006\n",
    "\n",
    "pref_array = Array{Float64,2}(undef, K, number_of_agents);\n",
    "\n",
    "\n",
    "# build Thompson sample object -\n",
    "model = EpsilonSamplingModel()\n",
    "model.K = K; # tickers\n",
    "model.α = ones(K); # initialize to uniform values\n",
    "model.β = ones(K); # initialize to uniform values\n",
    "model.ϵ = 0.30;\n",
    "\n",
    "for agent_index ∈ 1:number_of_agents\n",
    "    \n",
    "    # sample -\n",
    "    time_sample_results_dict_Ts = sample(model, price_data_dictionary, tickers; 𝒯 = (number_of_days - 1));\n",
    "    beta_array = build_beta_array(time_sample_results_dict_Ts[trading_day_index]);\n",
    "\n",
    "    # compute the preference array -\n",
    "    tmp_array =  preference(beta_array, tickers; N = 10000);\n",
    "    for k = 1:K\n",
    "       pref_array[k, agent_index] = tmp_array[k] \n",
    "    end\n",
    "end\n",
    "\n",
    "# count -\n",
    "count_array = Array{Int64,1}(undef,number_of_agents);\n",
    "for agent_index ∈ 1:number_of_agents\n",
    "    count_array[agent_index] = argmax(pref_array[:,agent_index]);\n",
    "end"
   ]
  },
  {
   "cell_type": "code",
   "execution_count": 7,
   "id": "10837158-ddb3-4299-b8d8-a10c8941bb45",
   "metadata": {},
   "outputs": [
    {
     "name": "stdout",
     "output_type": "stream",
     "text": [
      "┌────────┬────────┬────────────────────────────┐\n",
      "│\u001b[1m ticker \u001b[0m│\u001b[1m  score \u001b[0m│\u001b[1m rank (low = 1 -> high = 5) \u001b[0m│\n",
      "├────────┼────────┼────────────────────────────┤\n",
      "│      K │ 0.2585 │                          4 │\n",
      "│    JNJ │  0.147 │                          2 │\n",
      "│    MET │  0.254 │                          3 │\n",
      "│   NFLX │  0.038 │                          1 │\n",
      "│    AMD │ 0.3025 │                          5 │\n",
      "└────────┴────────┴────────────────────────────┘\n"
     ]
    }
   ],
   "source": [
    "# build a pretty table -\n",
    "pref_table_data = Array{Any,2}(undef, K, 3);\n",
    "\n",
    "for k ∈ 1:K\n",
    "    pref_table_data[k,1] = tickers[k];\n",
    "    \n",
    "    \n",
    "    # compute the votes -\n",
    "    idx = findall(x->x==k,count_array)\n",
    "    pref_table_data[k,2] = (length(idx)/number_of_agents);\n",
    "end\n",
    "\n",
    "# add rank col -\n",
    "rank_value = sortperm(pref_table_data[:,2]);\n",
    "for k ∈ 1:K\n",
    "    pref_table_data[k,3] = rank_value[k]\n",
    "end\n",
    "\n",
    "# header -\n",
    "pref_table_header = ([\"ticker\", \"score\", \"rank (low = 1 -> high = $(K))\"]);\n",
    "\n",
    "# show -\n",
    "pretty_table(pref_table_data; header=pref_table_header)"
   ]
  },
  {
   "cell_type": "markdown",
   "id": "212caefa-120e-423f-a9c4-40556299179d",
   "metadata": {},
   "source": [
    "### Disclaimer and Risks\n",
    "__This content is offered solely for training and  informational purposes__. No offer or solicitation to buy or sell securities or derivative products, or any investment or trading advice or strategy,  is made, given, or endorsed by the teaching team. \n",
    "\n",
    "__Trading involves risk__. Carefully review your financial situation before investing in securities, futures contracts, options, or commodity interests. Past performance, whether actual or indicated by historical tests of strategies, is no guarantee of future performance or success. Trading is generally inappropriate for someone with limited resources, investment or trading experience, or a low-risk tolerance.  Only risk capital that is not required for living expenses.\n",
    "\n",
    "__You are fully responsible for any investment or trading decisions you make__. Such decisions should be based solely on your evaluation of your financial circumstances, investment or trading objectives, risk tolerance, and liquidity needs."
   ]
  },
  {
   "cell_type": "code",
   "execution_count": null,
   "id": "239fa291-368c-49d4-952d-1fa86bb48ecd",
   "metadata": {},
   "outputs": [],
   "source": []
  }
 ],
 "metadata": {
  "kernelspec": {
   "display_name": "Julia 1.8.0",
   "language": "julia",
   "name": "julia-1.8"
  },
  "language_info": {
   "file_extension": ".jl",
   "mimetype": "application/julia",
   "name": "julia",
   "version": "1.8.2"
  }
 },
 "nbformat": 4,
 "nbformat_minor": 5
}
