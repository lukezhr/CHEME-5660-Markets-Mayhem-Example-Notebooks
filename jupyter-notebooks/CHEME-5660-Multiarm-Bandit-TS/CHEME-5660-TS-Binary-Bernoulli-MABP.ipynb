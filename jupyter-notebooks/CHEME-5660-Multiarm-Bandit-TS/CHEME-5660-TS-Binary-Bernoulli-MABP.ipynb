{
 "cells": [
  {
   "cell_type": "markdown",
   "id": "89cbe245-6045-4821-a647-20fd570410b1",
   "metadata": {},
   "source": [
    "## Thompson sampling and the Binary Bernoulli Bandit Problem"
   ]
  },
  {
   "cell_type": "markdown",
   "id": "aa397ee8-c75e-4727-b3b9-dcf620b625b4",
   "metadata": {},
   "source": [
    "### Introduction"
   ]
  },
  {
   "cell_type": "markdown",
   "id": "3e449b5c-e839-48af-b12f-a0db8ec431f9",
   "metadata": {},
   "source": [
    "### Example setup"
   ]
  },
  {
   "cell_type": "code",
   "execution_count": 1,
   "id": "1b7a1780-ef3f-413d-9951-e6b176210293",
   "metadata": {},
   "outputs": [
    {
     "name": "stderr",
     "output_type": "stream",
     "text": [
      "\u001b[32m\u001b[1m  Activating\u001b[22m\u001b[39m project at `~/Desktop/julia_work/CHEME-5660-Markets-Mayhem-Example-Notebooks/jupyter-notebooks/CHEME-5660-Multiarm-Bandit-TS`\n",
      "\u001b[32m\u001b[1m  No Changes\u001b[22m\u001b[39m to `~/Desktop/julia_work/CHEME-5660-Markets-Mayhem-Example-Notebooks/jupyter-notebooks/CHEME-5660-Multiarm-Bandit-TS/Project.toml`\n",
      "\u001b[32m\u001b[1m  No Changes\u001b[22m\u001b[39m to `~/Desktop/julia_work/CHEME-5660-Markets-Mayhem-Example-Notebooks/jupyter-notebooks/CHEME-5660-Multiarm-Bandit-TS/Manifest.toml`\n"
     ]
    }
   ],
   "source": [
    "import Pkg; Pkg.activate(\".\"); Pkg.resolve(); Pkg.instantiate();"
   ]
  },
  {
   "cell_type": "code",
   "execution_count": 2,
   "id": "294a831b-1add-4de2-ae0b-4d50f0af7fb4",
   "metadata": {},
   "outputs": [],
   "source": [
    "# load reqd packages -\n",
    "using Distributions\n",
    "using Plots\n",
    "using Colors\n",
    "using StatsPlots\n",
    "using PrettyTables"
   ]
  },
  {
   "cell_type": "code",
   "execution_count": 3,
   "id": "a8cb161e-612f-4099-bef6-e3aa367f9a0f",
   "metadata": {},
   "outputs": [],
   "source": [
    "include(\"CHEME-5660-Example-CodeLib.jl\");"
   ]
  },
  {
   "cell_type": "code",
   "execution_count": 4,
   "id": "8315155e-c6ef-4a67-9e8b-806fee30722a",
   "metadata": {},
   "outputs": [],
   "source": [
    "# initialize the world -\n",
    "world_d_dict = Dict{Int64, Bernoulli}();\n",
    "K = 3;\n",
    "θ_array = [0.90, 0.40, 0.70]; # values taken from Russo et al Fig. 3.1\n",
    "    \n",
    "# hard code the parameters for the Bernoulli distributions, these are the \n",
    "# ground truth, but the agent doesn't know them (and they are directly visible)\n",
    "for k ∈ 1:K\n",
    "    world_d_dict[k] = Bernoulli(θ_array[k]);\n",
    "end"
   ]
  },
  {
   "cell_type": "code",
   "execution_count": 5,
   "id": "3c93ef82-e2c0-439d-99e2-1dc8a79aabaf",
   "metadata": {},
   "outputs": [
    {
     "data": {
      "text/plain": [
       "world (generic function with 1 method)"
      ]
     },
     "execution_count": 5,
     "metadata": {},
     "output_type": "execute_result"
    }
   ],
   "source": [
    "# lets build a world function -\n",
    "function world(action::Int64, dict::Dict{Int64, Bernoulli})::Int64\n",
    "    \n",
    "    # grab the distrubution from the dict -\n",
    "    d = dict[action];\n",
    "    \n",
    "    # roll -\n",
    "    value = rand(d);\n",
    "    if (value == true)\n",
    "        return 1;    \n",
    "    end\n",
    "    \n",
    "    # default -\n",
    "    return 0;\n",
    "end"
   ]
  },
  {
   "cell_type": "code",
   "execution_count": 6,
   "id": "1685e59e-630a-4b6c-b757-714597b578d4",
   "metadata": {},
   "outputs": [],
   "source": [
    "# build Thompson sample object -\n",
    "model = ThompsonSamplingModel()\n",
    "model.K = K;\n",
    "model.α = ones(K); # initialize to random values\n",
    "model.β = ones(K); # initialize to random values\n",
    "\n",
    "# recast -\n",
    "world_function(a) = world(a,world_d_dict);\n",
    "\n",
    "# setup different sample T -\n",
    "T_range = range(10,stop=10000, step=100) |> collect\n",
    "time_sample_results_dict = Dict{Int64, Dict{Int64,Beta}}();\n",
    "for t ∈ 1:length(T_range)\n",
    "    policy_dictionary_T = sample(model; 𝒯 = T_range[t], world = world_function);\n",
    "    time_sample_results_dict[t] = policy_dictionary_T;\n",
    "end"
   ]
  },
  {
   "cell_type": "code",
   "execution_count": 7,
   "id": "9c805b69-8d51-4d9b-b3ef-9a3df6937c9f",
   "metadata": {},
   "outputs": [
    {
     "data": {
      "text/plain": [
       "Dict{Int64, Dict{Int64, Beta}} with 100 entries:\n",
       "  5  => Dict(2=>Beta{Float64}(α=1.0, β=3.0), 3=>Beta{Float64}(α=6.0, β=5.0), 1=…\n",
       "  56 => Dict(2=>Beta{Float64}(α=3.0, β=6.0), 3=>Beta{Float64}(α=46.0, β=14.0), …\n",
       "  35 => Dict(2=>Beta{Float64}(α=3.0, β=5.0), 3=>Beta{Float64}(α=22.0, β=8.0), 1…\n",
       "  55 => Dict(2=>Beta{Float64}(α=3.0, β=5.0), 3=>Beta{Float64}(α=30.0, β=13.0), …\n",
       "  60 => Dict(2=>Beta{Float64}(α=2.0, β=5.0), 3=>Beta{Float64}(α=33.0, β=11.0), …\n",
       "  30 => Dict(2=>Beta{Float64}(α=3.0, β=6.0), 3=>Beta{Float64}(α=7.0, β=7.0), 1=…\n",
       "  32 => Dict(2=>Beta{Float64}(α=11.0, β=7.0), 3=>Beta{Float64}(α=13.0, β=8.0), …\n",
       "  6  => Dict(2=>Beta{Float64}(α=1.0, β=3.0), 3=>Beta{Float64}(α=18.0, β=8.0), 1…\n",
       "  67 => Dict(2=>Beta{Float64}(α=2.0, β=4.0), 3=>Beta{Float64}(α=7.0, β=6.0), 1=…\n",
       "  45 => Dict(2=>Beta{Float64}(α=1.0, β=5.0), 3=>Beta{Float64}(α=5.0, β=4.0), 1=…\n",
       "  73 => Dict(2=>Beta{Float64}(α=6.0, β=8.0), 3=>Beta{Float64}(α=6.0, β=6.0), 1=…\n",
       "  64 => Dict(2=>Beta{Float64}(α=14.0, β=12.0), 3=>Beta{Float64}(α=16.0, β=10.0)…\n",
       "  90 => Dict(2=>Beta{Float64}(α=8.0, β=6.0), 3=>Beta{Float64}(α=18.0, β=10.0), …\n",
       "  4  => Dict(2=>Beta{Float64}(α=2.0, β=4.0), 3=>Beta{Float64}(α=8.0, β=6.0), 1=…\n",
       "  13 => Dict(2=>Beta{Float64}(α=5.0, β=5.0), 3=>Beta{Float64}(α=45.0, β=15.0), …\n",
       "  54 => Dict(2=>Beta{Float64}(α=4.0, β=6.0), 3=>Beta{Float64}(α=4.0, β=5.0), 1=…\n",
       "  63 => Dict(2=>Beta{Float64}(α=3.0, β=5.0), 3=>Beta{Float64}(α=7.0, β=6.0), 1=…\n",
       "  86 => Dict(2=>Beta{Float64}(α=4.0, β=6.0), 3=>Beta{Float64}(α=8.0, β=7.0), 1=…\n",
       "  91 => Dict(2=>Beta{Float64}(α=4.0, β=6.0), 3=>Beta{Float64}(α=5.0, β=6.0), 1=…\n",
       "  62 => Dict(2=>Beta{Float64}(α=3.0, β=5.0), 3=>Beta{Float64}(α=12.0, β=8.0), 1…\n",
       "  58 => Dict(2=>Beta{Float64}(α=13.0, β=9.0), 3=>Beta{Float64}(α=47.0, β=15.0),…\n",
       "  52 => Dict(2=>Beta{Float64}(α=6.0, β=6.0), 3=>Beta{Float64}(α=13.0, β=7.0), 1…\n",
       "  12 => Dict(2=>Beta{Float64}(α=2.0, β=4.0), 3=>Beta{Float64}(α=10.0, β=7.0), 1…\n",
       "  28 => Dict(2=>Beta{Float64}(α=10.0, β=8.0), 3=>Beta{Float64}(α=15.0, β=7.0), …\n",
       "  75 => Dict(2=>Beta{Float64}(α=8.0, β=7.0), 3=>Beta{Float64}(α=14.0, β=9.0), 1…\n",
       "  ⋮  => ⋮"
      ]
     },
     "execution_count": 7,
     "metadata": {},
     "output_type": "execute_result"
    }
   ],
   "source": [
    "# visualize -\n",
    "time_sample_results_dict"
   ]
  },
  {
   "cell_type": "code",
   "execution_count": 10,
   "id": "6b4ccfb4-de77-4d3b-8a41-f4060ec94873",
   "metadata": {},
   "outputs": [
    {
     "name": "stdout",
     "output_type": "stream",
     "text": [
      "┌───────────┬─────┬──────────┐\n",
      "│\u001b[1m Action aᵢ \u001b[0m│\u001b[1m  θᵢ \u001b[0m│\u001b[1m       θ̂ᵢ \u001b[0m│\n",
      "├───────────┼─────┼──────────┤\n",
      "│         1 │ 0.9 │ 0.900273 │\n",
      "│         2 │ 0.4 │      0.4 │\n",
      "│         3 │ 0.7 │ 0.578947 │\n",
      "└───────────┴─────┴──────────┘\n"
     ]
    }
   ],
   "source": [
    "# build a pretty table -\n",
    "# pick a time step -\n",
    "T_index = 100\n",
    "\n",
    "# initialize -\n",
    "action_probability_array = Array{Any,2}(undef, K, 3);\n",
    "\n",
    "for i ∈ 1:K\n",
    "    \n",
    "    action_probability_array[i,1] = i;\n",
    "    action_probability_array[i,2] = θ_array[i];\n",
    "    \n",
    "    # get the d -\n",
    "    dict = time_sample_results_dict[T_index];\n",
    "    \n",
    "    # grab the parameters from dict -\n",
    "    dᵢ = dict[i];\n",
    "    αᵢ,βᵢ = params(dᵢ);\n",
    "    action_probability_array[i,3] = αᵢ/(αᵢ + βᵢ);\n",
    "end\n",
    "\n",
    "# header -\n",
    "action_table_header = ([\"Action aᵢ\", \"θᵢ\", \"θ̂ᵢ\"]);\n",
    "\n",
    "# display table -\n",
    "pretty_table(action_probability_array; header = action_table_header)"
   ]
  },
  {
   "cell_type": "markdown",
   "id": "2814d868-bc76-4ba1-bcb2-bfea146ddef6",
   "metadata": {},
   "source": [
    "### Disclaimer and Risks\n",
    "__This content is offered solely for training and  informational purposes__. No offer or solicitation to buy or sell securities or derivative products, or any investment or trading advice or strategy,  is made, given, or endorsed by the teaching team. \n",
    "\n",
    "__Trading involves risk__. Carefully review your financial situation before investing in securities, futures contracts, options, or commodity interests. Past performance, whether actual or indicated by historical tests of strategies, is no guarantee of future performance or success. Trading is generally inappropriate for someone with limited resources, investment or trading experience, or a low-risk tolerance.  Only risk capital that is not required for living expenses.\n",
    "\n",
    "__You are fully responsible for any investment or trading decisions you make__. Such decisions should be based solely on your evaluation of your financial circumstances, investment or trading objectives, risk tolerance, and liquidity needs."
   ]
  },
  {
   "cell_type": "code",
   "execution_count": null,
   "id": "ab285dd2-d7ea-475b-b7b6-ecf85e4ae3a6",
   "metadata": {},
   "outputs": [],
   "source": []
  }
 ],
 "metadata": {
  "kernelspec": {
   "display_name": "Julia 1.8.0",
   "language": "julia",
   "name": "julia-1.8"
  },
  "language_info": {
   "file_extension": ".jl",
   "mimetype": "application/julia",
   "name": "julia",
   "version": "1.8.2"
  }
 },
 "nbformat": 4,
 "nbformat_minor": 5
}
