{
 "cells": [
  {
   "cell_type": "markdown",
   "id": "89cbe245-6045-4821-a647-20fd570410b1",
   "metadata": {},
   "source": [
    "## Thompson sampling and the Binary Bernoulli Bandit Problem"
   ]
  },
  {
   "cell_type": "markdown",
   "id": "aa397ee8-c75e-4727-b3b9-dcf620b625b4",
   "metadata": {},
   "source": [
    "### Introduction"
   ]
  },
  {
   "cell_type": "markdown",
   "id": "3e449b5c-e839-48af-b12f-a0db8ec431f9",
   "metadata": {},
   "source": [
    "### Example setup"
   ]
  },
  {
   "cell_type": "code",
   "execution_count": 1,
   "id": "1b7a1780-ef3f-413d-9951-e6b176210293",
   "metadata": {},
   "outputs": [
    {
     "name": "stderr",
     "output_type": "stream",
     "text": [
      "\u001b[32m\u001b[1m  Activating\u001b[22m\u001b[39m project at `~/Desktop/julia_work/CHEME-5660-Markets-Mayhem-Example-Notebooks/jupyter-notebooks/CHEME-5660-Multiarm-Bandit-TS`\n",
      "\u001b[32m\u001b[1m  No Changes\u001b[22m\u001b[39m to `~/Desktop/julia_work/CHEME-5660-Markets-Mayhem-Example-Notebooks/jupyter-notebooks/CHEME-5660-Multiarm-Bandit-TS/Project.toml`\n",
      "\u001b[32m\u001b[1m  No Changes\u001b[22m\u001b[39m to `~/Desktop/julia_work/CHEME-5660-Markets-Mayhem-Example-Notebooks/jupyter-notebooks/CHEME-5660-Multiarm-Bandit-TS/Manifest.toml`\n"
     ]
    }
   ],
   "source": [
    "import Pkg; Pkg.activate(\".\"); Pkg.resolve(); Pkg.instantiate();"
   ]
  },
  {
   "cell_type": "code",
   "execution_count": 2,
   "id": "294a831b-1add-4de2-ae0b-4d50f0af7fb4",
   "metadata": {},
   "outputs": [],
   "source": [
    "# load reqd packages -\n",
    "using Distributions\n",
    "using Plots\n",
    "using Colors\n",
    "using StatsPlots\n",
    "using PrettyTables\n",
    "using DataFrames\n",
    "\n",
    "# setup paths -\n",
    "const _ROOT = pwd();\n",
    "const _PATH_TO_FIGS = joinpath(_ROOT, \"figs\");"
   ]
  },
  {
   "cell_type": "code",
   "execution_count": 3,
   "id": "a8cb161e-612f-4099-bef6-e3aa367f9a0f",
   "metadata": {},
   "outputs": [],
   "source": [
    "include(\"CHEME-5660-Example-CodeLib.jl\");"
   ]
  },
  {
   "cell_type": "code",
   "execution_count": 4,
   "id": "8315155e-c6ef-4a67-9e8b-806fee30722a",
   "metadata": {},
   "outputs": [],
   "source": [
    "# initialize the world -\n",
    "world_d_dict = Dict{Int64, Bernoulli}();\n",
    "K = 3;\n",
    "θ_array = [0.90, 0.60, 0.80]; # values taken from Russo et al Fig. 3.1\n",
    "number_of_steps = 5000;\n",
    "    \n",
    "# hard code the parameters for the Bernoulli distributions, these are the \n",
    "# ground truth, but the agent doesn't know them (and they are directly visible)\n",
    "for k ∈ 1:K\n",
    "    world_d_dict[k] = Bernoulli(θ_array[k]);\n",
    "end"
   ]
  },
  {
   "cell_type": "code",
   "execution_count": 5,
   "id": "3c93ef82-e2c0-439d-99e2-1dc8a79aabaf",
   "metadata": {},
   "outputs": [
    {
     "data": {
      "text/plain": [
       "world (generic function with 2 methods)"
      ]
     },
     "execution_count": 5,
     "metadata": {},
     "output_type": "execute_result"
    }
   ],
   "source": [
    "# lets build a world function -\n",
    "function world(action::Int64, dict::Dict{Int64, Bernoulli})::Int64\n",
    "    \n",
    "    # grab the distrubution from the dict -\n",
    "    d = dict[action];\n",
    "    \n",
    "    # roll -\n",
    "    value = rand(d);\n",
    "    if (value == true)\n",
    "        return 1;    \n",
    "    end\n",
    "    \n",
    "    # default -\n",
    "    return 0;\n",
    "end"
   ]
  },
  {
   "cell_type": "code",
   "execution_count": 6,
   "id": "1685e59e-630a-4b6c-b757-714597b578d4",
   "metadata": {},
   "outputs": [],
   "source": [
    "# build Thompson sample object -\n",
    "model = ThompsonSamplingModel()\n",
    "model.K = K;\n",
    "model.α = ones(K); # initialize to uniform values\n",
    "model.β = ones(K); # initialize to uniform values\n",
    "\n",
    "# build the world function \n",
    "world_function(a) = world(a, world_d_dict);\n",
    "\n",
    "# TS -\n",
    "time_sample_results_dict_Ts = sample(model; 𝒯 = number_of_steps, world=world_function);"
   ]
  },
  {
   "cell_type": "code",
   "execution_count": 7,
   "id": "32fa8dbe-1911-4fbd-baac-e457d357f7f2",
   "metadata": {},
   "outputs": [],
   "source": [
    "# Build an epsilon sample object -\n",
    "epsilon_model = EpsilonSamplingModel();\n",
    "epsilon_model.K = K;\n",
    "epsilon_model.α = ones(K); # initialize to uniform values\n",
    "epsilon_model.β = ones(K); # initialize to uniform values\n",
    "epsilon_model.ϵ = 0.20; # some fraction of the iterations, do a random step\n",
    "\n",
    "# EPS-TS \n",
    "time_sample_results_dict_eps = sample(epsilon_model; 𝒯 = number_of_steps, world=world_function);"
   ]
  },
  {
   "cell_type": "code",
   "execution_count": 8,
   "id": "39fc8499-478d-45ae-86b9-57338dc434e2",
   "metadata": {},
   "outputs": [
    {
     "data": {
      "text/plain": [
       "Dict{Int64, Matrix{Float64}} with 5000 entries:\n",
       "  4986 => [3827.0 425.0; 197.0 129.0; 326.0 87.0]\n",
       "  4700 => [3612.0 400.0; 183.0 122.0; 305.0 83.0]\n",
       "  4576 => [3516.0 389.0; 179.0 120.0; 296.0 81.0]\n",
       "  2288 => [1731.0 175.0; 99.0 65.0; 174.0 49.0]\n",
       "  1703 => [1275.0 131.0; 71.0 51.0; 138.0 42.0]\n",
       "  1956 => [1469.0 153.0; 86.0 55.0; 154.0 44.0]\n",
       "  2350 => [1776.0 184.0; 104.0 65.0; 176.0 50.0]\n",
       "  3406 => [2594.0 285.0; 143.0 99.0; 226.0 64.0]\n",
       "  2841 => [2155.0 235.0; 121.0 81.0; 198.0 56.0]\n",
       "  2876 => [2185.0 237.0; 123.0 81.0; 199.0 56.0]\n",
       "  687  => [476.0 47.0; 28.0 26.0; 91.0 24.0]\n",
       "  185  => [88.0 11.0; 7.0 8.0; 59.0 17.0]\n",
       "  1090 => [790.0 82.0; 46.0 36.0; 110.0 31.0]\n",
       "  2015 => [1517.0 157.0; 87.0 56.0; 158.0 45.0]\n",
       "  3293 => [2508.0 275.0; 138.0 94.0; 220.0 63.0]\n",
       "  1704 => [1276.0 131.0; 71.0 51.0; 138.0 42.0]\n",
       "  3220 => [2448.0 269.0; 136.0 92.0; 217.0 63.0]\n",
       "  4888 => [3762.0 411.0; 192.0 125.0; 317.0 86.0]\n",
       "  422  => [266.0 25.0; 19.0 18.0; 76.0 23.0]\n",
       "  1266 => [929.0 96.0; 52.0 40.0; 118.0 36.0]\n",
       "  183  => [87.0 10.0; 7.0 8.0; 59.0 17.0]\n",
       "  1823 => [1367.0 143.0; 76.0 52.0; 148.0 42.0]\n",
       "  4030 => [3078.0 343.0; 165.0 111.0; 267.0 71.0]\n",
       "  551  => [367.0 36.0; 26.0 21.0; 82.0 24.0]\n",
       "  3324 => [2531.0 277.0; 139.0 95.0; 224.0 63.0]\n",
       "  ⋮    => ⋮"
      ]
     },
     "execution_count": 8,
     "metadata": {},
     "output_type": "execute_result"
    }
   ],
   "source": [
    "time_sample_results_dict_eps"
   ]
  },
  {
   "cell_type": "code",
   "execution_count": 9,
   "id": "6b4ccfb4-de77-4d3b-8a41-f4060ec94873",
   "metadata": {},
   "outputs": [
    {
     "name": "stdout",
     "output_type": "stream",
     "text": [
      "┌───────────┬─────┬──────────┬───────────┐\n",
      "│\u001b[1m Action aᵢ \u001b[0m│\u001b[1m  θᵢ \u001b[0m│\u001b[1m    θ̂ᵢ Ts \u001b[0m│\u001b[1m θ̂ᵢ eps-Ts \u001b[0m│\n",
      "├───────────┼─────┼──────────┼───────────┤\n",
      "│         1 │ 0.9 │ 0.898583 │  0.899625 │\n",
      "│         2 │ 0.6 │ 0.611111 │  0.604294 │\n",
      "│         3 │ 0.8 │ 0.765957 │  0.790361 │\n",
      "└───────────┴─────┴──────────┴───────────┘\n"
     ]
    }
   ],
   "source": [
    "# build a pretty table -\n",
    "# pick a time step -\n",
    "T_index = 5000\n",
    "\n",
    "# build the array of beta distributions -\n",
    "beta_array_Ts = build_beta_array(time_sample_results_dict_Ts[T_index]);\n",
    "beta_array_eps = build_beta_array(time_sample_results_dict_eps[T_index]);\n",
    "\n",
    "# initialize -\n",
    "action_probability_array = Array{Any,2}(undef, K, 4);\n",
    "for i ∈ 1:K\n",
    "    \n",
    "    action_probability_array[i,1] = i;\n",
    "    action_probability_array[i,2] = θ_array[i];\n",
    "    \n",
    "    # get the d -\n",
    "    d_Ts = beta_array_Ts[i];\n",
    "    d_eps = beta_array_eps[i];\n",
    "    \n",
    "    # grab the parameters from distributions -\n",
    "    # Thompson sampling -\n",
    "    αᵢ,βᵢ = params(d_Ts);\n",
    "    action_probability_array[i,3] = αᵢ/(αᵢ + βᵢ);\n",
    "    \n",
    "    # eps-TS -\n",
    "    αᵢ,βᵢ = params(d_eps);\n",
    "    action_probability_array[i,4] = αᵢ/(αᵢ + βᵢ);\n",
    "end\n",
    "\n",
    "# header -\n",
    "action_table_header = ([\"Action aᵢ\", \"θᵢ\", \"θ̂ᵢ Ts\", \"θ̂ᵢ eps-Ts\"]);\n",
    "\n",
    "# display table -\n",
    "pretty_table(action_probability_array; header = action_table_header)"
   ]
  },
  {
   "cell_type": "code",
   "execution_count": 10,
   "id": "c995cb16-dbdc-4339-b409-a3dbe49eca2a",
   "metadata": {},
   "outputs": [],
   "source": [
    " # get the distributions for this time point -\n",
    "plot(beta_array_Ts[1], legend=:topleft, label=\"a₁\", lw=2, bg=colorant\"#F2F2F2\", \n",
    "    background_color_outside=\"white\", framestyle = :box, fg_legend = :transparent, minorticks=0.05, \n",
    "    c=colorant\"#EF4035\")\n",
    "plot!(beta_array_Ts[2], label=\"a₂\", lw=2, c=colorant\"#6EB43F\")\n",
    "plot!(beta_array_Ts[3], label=\"a₃\", lw=2, c=colorant\"#0068AC\")\n",
    "\n",
    "# setup labels -\n",
    "xlabel!(\"Value (AU)\", fontsize=18)\n",
    "ylabel!(\"Probability density (AU)\", fontsize=18)\n",
    "\n",
    "# uncomment me to save -\n",
    "#filename = \"Fig-BBBP-Ts-T$(T_index).pdf\"\n",
    "#savefig(joinpath(_PATH_TO_FIGS, filename));"
   ]
  },
  {
   "cell_type": "code",
   "execution_count": 11,
   "id": "8bcd6486-d73c-4c90-a90e-a96220174224",
   "metadata": {},
   "outputs": [],
   "source": [
    " # get the distributions for this time point -\n",
    "plot(beta_array_eps[1], legend=:topleft, label=\"a₁\", lw=2, bg=colorant\"#F2F2F2\", \n",
    "    background_color_outside=\"white\", framestyle = :box, fg_legend = :transparent, minorticks=0.05, \n",
    "    c=colorant\"#EF4035\")\n",
    "plot!(beta_array_eps[2], label=\"a₂\", lw=2, c=colorant\"#6EB43F\")\n",
    "plot!(beta_array_eps[3], label=\"a₃\", lw=2, c=colorant\"#0068AC\")\n",
    "\n",
    "# setup labels -\n",
    "xlabel!(\"Value (AU)\", fontsize=18)\n",
    "ylabel!(\"Probability density (AU)\", fontsize=18)\n",
    "\n",
    "# uncomment me to save -\n",
    "#filename = \"Fig-BBBP-eps-20-T$(T_index).pdf\"\n",
    "#savefig(joinpath(_PATH_TO_FIGS, filename));"
   ]
  },
  {
   "cell_type": "markdown",
   "id": "2814d868-bc76-4ba1-bcb2-bfea146ddef6",
   "metadata": {},
   "source": [
    "### Disclaimer and Risks\n",
    "__This content is offered solely for training and  informational purposes__. No offer or solicitation to buy or sell securities or derivative products, or any investment or trading advice or strategy,  is made, given, or endorsed by the teaching team. \n",
    "\n",
    "__Trading involves risk__. Carefully review your financial situation before investing in securities, futures contracts, options, or commodity interests. Past performance, whether actual or indicated by historical tests of strategies, is no guarantee of future performance or success. Trading is generally inappropriate for someone with limited resources, investment or trading experience, or a low-risk tolerance.  Only risk capital that is not required for living expenses.\n",
    "\n",
    "__You are fully responsible for any investment or trading decisions you make__. Such decisions should be based solely on your evaluation of your financial circumstances, investment or trading objectives, risk tolerance, and liquidity needs."
   ]
  },
  {
   "cell_type": "code",
   "execution_count": null,
   "id": "ab285dd2-d7ea-475b-b7b6-ecf85e4ae3a6",
   "metadata": {},
   "outputs": [],
   "source": []
  }
 ],
 "metadata": {
  "kernelspec": {
   "display_name": "Julia 1.8.0",
   "language": "julia",
   "name": "julia-1.8"
  },
  "language_info": {
   "file_extension": ".jl",
   "mimetype": "application/julia",
   "name": "julia",
   "version": "1.8.2"
  }
 },
 "nbformat": 4,
 "nbformat_minor": 5
}
