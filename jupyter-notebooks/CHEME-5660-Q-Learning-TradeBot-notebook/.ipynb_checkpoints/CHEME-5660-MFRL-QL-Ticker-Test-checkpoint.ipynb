{
 "cells": [
  {
   "cell_type": "markdown",
   "id": "a56b2ec4-001a-4ba4-a149-ac50f5bf3b54",
   "metadata": {},
   "source": [
    "## CHEME 5660: Testing our Trade Bot Policy against Historical Price Data"
   ]
  },
  {
   "cell_type": "markdown",
   "id": "93c8d4d7-ea9d-42c3-b551-d9ea22fa6e1a",
   "metadata": {},
   "source": [
    "### Introduction"
   ]
  },
  {
   "cell_type": "markdown",
   "id": "98287c5d-c8fb-48da-ae5f-49430e46a1cc",
   "metadata": {},
   "source": [
    "### Setup"
   ]
  },
  {
   "cell_type": "code",
   "execution_count": 1,
   "id": "85506bdf-6e85-43f5-a02f-244b754e224d",
   "metadata": {},
   "outputs": [
    {
     "name": "stderr",
     "output_type": "stream",
     "text": [
      "\u001b[32m\u001b[1m  Activating\u001b[22m\u001b[39m project at `~/Desktop/julia_work/CHEME-5660-Markets-Mayhem-Example-Notebooks/jupyter-notebooks/CHEME-5660-Q-Learning-TradeBot-notebook`\n",
      "\u001b[32m\u001b[1m  No Changes\u001b[22m\u001b[39m to `~/Desktop/julia_work/CHEME-5660-Markets-Mayhem-Example-Notebooks/jupyter-notebooks/CHEME-5660-Q-Learning-TradeBot-notebook/Project.toml`\n",
      "\u001b[32m\u001b[1m  No Changes\u001b[22m\u001b[39m to `~/Desktop/julia_work/CHEME-5660-Markets-Mayhem-Example-Notebooks/jupyter-notebooks/CHEME-5660-Q-Learning-TradeBot-notebook/Manifest.toml`\n"
     ]
    }
   ],
   "source": [
    "import Pkg; Pkg.activate(\".\"); Pkg.resolve(); Pkg.instantiate();"
   ]
  },
  {
   "cell_type": "code",
   "execution_count": null,
   "id": "ee5c979a-696a-4672-8046-ee3965fb7bd4",
   "metadata": {},
   "outputs": [],
   "source": [
    "# load req packages -\n",
    "using DataFrames\n",
    "using Dates\n",
    "using FileIO\n",
    "using JLD2\n",
    "using PrettyTables\n",
    "using Distributions\n",
    "using Statistics\n",
    "using DataFrames\n",
    "using Plots\n",
    "using Colors\n",
    "using MLJLinearModels\n",
    "using StatsPlots\n",
    "\n",
    "# setup paths -\n",
    "const _ROOT = pwd();\n",
    "const _PATH_TO_DATA = joinpath(_ROOT, \"data\");"
   ]
  },
  {
   "cell_type": "code",
   "execution_count": null,
   "id": "c19d8cf8-5c73-4c0a-8088-ffc35ef12b20",
   "metadata": {},
   "outputs": [],
   "source": [
    "include(\"CHEME-5660-Example-CodeLib.jl\");"
   ]
  },
  {
   "cell_type": "code",
   "execution_count": null,
   "id": "38f94c5a-1e89-4c98-905a-f0992ddbe6ae",
   "metadata": {},
   "outputs": [],
   "source": [
    "# what ticker do we want to explore?\n",
    "ticker_symbol = \"K\";"
   ]
  },
  {
   "cell_type": "code",
   "execution_count": null,
   "id": "4bac4088-889e-4d49-a9c0-2f1a4bfd3f4b",
   "metadata": {},
   "outputs": [],
   "source": [
    "# load the JLD2 portfolio data file -\n",
    "price_data_dictionary = load(joinpath(_PATH_TO_DATA, \"CHEME-5660-Portfolio-Q-learning-5min-11-20-22.jld2\"))[\"dd\"];\n",
    "\n",
    "# get ticker price data -\n",
    "df_test = price_data_dictionary[ticker_symbol];\n",
    "\n",
    "# load the policy data file -\n",
    "policy_model = load(joinpath(_PATH_TO_DATA,\"Policy-$(ticker_symbol)-Model-T1000-IC-EXPERT.jld2\"))[\"model\"];\n",
    "W = policy_model.W;\n",
    "policy = policy_model.policy;\n",
    "\n",
    "# what is my trade size?\n",
    "nₒ = 500.0; # initially buy this many shares\n",
    "nₐ = 1.0;   # any individual trade buy this many shares"
   ]
  },
  {
   "cell_type": "code",
   "execution_count": null,
   "id": "9cc217b6-3229-4e26-a304-c9928191bad4",
   "metadata": {},
   "outputs": [],
   "source": [
    "policy"
   ]
  },
  {
   "cell_type": "code",
   "execution_count": null,
   "id": "e5ae5b61-0eb9-4b89-a32e-023210e5384b",
   "metadata": {
    "tags": []
   },
   "outputs": [],
   "source": [
    "# build account data frame -\n",
    "account_df = DataFrame(\n",
    "    time = DateTime[],\n",
    "    size = Float64[],\n",
    "    Δ = Float64[],\n",
    "    action = Int64[],\n",
    "    price = Float64[],\n",
    "    avgcost = Float64[],\n",
    "    cash = Float64[], \n",
    "    state = Int64[]\n",
    ");\n",
    "\n",
    "# grab an initial price - and record first trade \n",
    "initial_price = price(df_test,1);\n",
    "record = (\n",
    "    time = df_test[1,:timestamp],\n",
    "    size = nₒ,\n",
    "    Δ = nₒ,\n",
    "    price = initial_price,\n",
    "    avgcost = initial_price,\n",
    "    action = 1,\n",
    "    cash = 0.0,\n",
    "    state = state(initial_price, W)\n",
    ");\n",
    "push!(account_df, record);\n",
    "\n",
    "# how many trades do we have in our ledger?\n",
    "number_of_trades = nrow(df_test);\n",
    "for trade_index ∈ 2:number_of_trades\n",
    "    \n",
    "    # get the data for this trade -\n",
    "    trade_date = df_test[trade_index,:timestamp];\n",
    "    \n",
    "    # compute my policy -\n",
    "    p = price(df_test, trade_index); # get price\n",
    "    s = state(p, W); # classify this price\n",
    "    aᵢ = policy[s]; # get the action -\n",
    "    \n",
    "    # compute the cumulative number of shares we own -\n",
    "    current_account_size = account_df[trade_index-1,:size];\n",
    "    if (aᵢ == 1)  # buy\n",
    "        \n",
    "        # compute the current number of shares and (before this action)\n",
    "        new_account_size = current_account_size + nₐ;\n",
    "        \n",
    "        # record -\n",
    "        record = (\n",
    "            time = trade_date,\n",
    "            size = new_account_size,\n",
    "            Δ = nₐ,\n",
    "            price = p,\n",
    "            action = aᵢ,\n",
    "            avgcost = 0.0,\n",
    "            cash = 0.0,\n",
    "            state = s\n",
    "        );\n",
    "        push!(account_df, record);\n",
    "        \n",
    "    elseif (aᵢ == 2 && current_account_size > 10) # sell\n",
    "        \n",
    "        # compute the current number of shares and (before this action)\n",
    "        new_account_size = current_account_size - nₐ;\n",
    "        \n",
    "        # record -\n",
    "        record = (\n",
    "            time = trade_date,\n",
    "            size = new_account_size,\n",
    "            Δ = nₐ,\n",
    "            price = p,\n",
    "            action = aᵢ,\n",
    "            avgcost = 0.0,\n",
    "            cash = 0.0, \n",
    "            state = s\n",
    "        );\n",
    "        push!(account_df, record);\n",
    "        \n",
    "    elseif (aᵢ == 2 && current_account_size <= 10)\n",
    "        \n",
    "        # we want to maintain at least 10 shares - override the recommended action\n",
    "        new_account_size = current_account_size + nₐ;\n",
    "    \n",
    "        # record -\n",
    "        record = (\n",
    "            time = trade_date,\n",
    "            size = new_account_size,\n",
    "            Δ = nₐ,\n",
    "            price = p,\n",
    "            action = 1,\n",
    "            avgcost = 0.0,\n",
    "            cash = 0.0, \n",
    "            state = s\n",
    "        );\n",
    "        push!(account_df, record);\n",
    "    \n",
    "    elseif (aᵢ == 3)\n",
    "        \n",
    "        # record -\n",
    "        record = (\n",
    "            time = trade_date,\n",
    "            size = current_account_size,\n",
    "            Δ = 0,\n",
    "            price = p,\n",
    "            action = aᵢ,\n",
    "            avgcost = 0.0,\n",
    "            cash = 0.0,\n",
    "            state = s\n",
    "        );\n",
    "        push!(account_df, record);\n",
    "    end\n",
    "end"
   ]
  },
  {
   "cell_type": "code",
   "execution_count": null,
   "id": "cc308203-f35e-4016-8ae3-aaea2971aa21",
   "metadata": {},
   "outputs": [],
   "source": [
    "# compute the average price -\n",
    "for trade_index ∈ 1:number_of_trades\n",
    "    \n",
    "    # compute the average price -\n",
    "    avgcost = compute_average_cost(account_df[1:trade_index,:]);\n",
    "    \n",
    "    # set -\n",
    "    account_df[trade_index,:avgcost] = avgcost;\n",
    "end"
   ]
  },
  {
   "cell_type": "code",
   "execution_count": null,
   "id": "a2dd3dc5-7028-4d42-8e64-57cc7598ca91",
   "metadata": {},
   "outputs": [],
   "source": [
    "account_df[1:20,:]"
   ]
  },
  {
   "cell_type": "code",
   "execution_count": null,
   "id": "e68fc3a7-8763-4be8-97cc-2f591a545705",
   "metadata": {},
   "outputs": [],
   "source": [
    "plot(df_test[:,:volume_weighted_average_price])\n",
    "plot!(twinx(), account_df[:,:size], c=:red)"
   ]
  },
  {
   "cell_type": "code",
   "execution_count": null,
   "id": "6267b542-cb1e-49a3-8a49-d51c8acfb271",
   "metadata": {
    "tags": []
   },
   "outputs": [],
   "source": []
  },
  {
   "cell_type": "markdown",
   "id": "22ae8e34-b730-4209-8616-322c5a707f1a",
   "metadata": {},
   "source": [
    "### Disclaimer and Risks\n",
    "__This content is offered solely for training and  informational purposes__. No offer or solicitation to buy or sell securities or derivative products, or any investment or trading advice or strategy,  is made, given, or endorsed by the teaching team. \n",
    "\n",
    "__Trading involves risk__. Carefully review your financial situation before investing in securities, futures contracts, options, or commodity interests. Past performance, whether actual or indicated by historical tests of strategies, is no guarantee of future performance or success. Trading is generally inappropriate for someone with limited resources, investment or trading experience, or a low-risk tolerance.  Only risk capital that is not required for living expenses.\n",
    "\n",
    "__You are fully responsible for any investment or trading decisions you make__. Such decisions should be based solely on your evaluation of your financial circumstances, investment or trading objectives, risk tolerance, and liquidity needs."
   ]
  },
  {
   "cell_type": "code",
   "execution_count": null,
   "id": "2a5d313a-7228-4019-8c2c-ba522b6ac3fa",
   "metadata": {},
   "outputs": [],
   "source": []
  }
 ],
 "metadata": {
  "kernelspec": {
   "display_name": "Julia 1.8.0",
   "language": "julia",
   "name": "julia-1.8"
  },
  "language_info": {
   "file_extension": ".jl",
   "mimetype": "application/julia",
   "name": "julia",
   "version": "1.8.2"
  }
 },
 "nbformat": 4,
 "nbformat_minor": 5
}
