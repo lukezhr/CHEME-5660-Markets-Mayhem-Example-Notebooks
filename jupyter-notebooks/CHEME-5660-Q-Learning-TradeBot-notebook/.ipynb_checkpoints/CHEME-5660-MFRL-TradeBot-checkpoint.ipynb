{
 "cells": [
  {
   "cell_type": "markdown",
   "id": "7e5d38b9-d044-424b-b0ce-9104ae714630",
   "metadata": {},
   "source": [
    "## CHEME 5660: Building a Trading Bot using Model-Free Reinforcement Learning"
   ]
  },
  {
   "cell_type": "markdown",
   "id": "51147f0c-66d0-402c-8b55-b249aab8eb6a",
   "metadata": {},
   "source": [
    "### Introduction"
   ]
  },
  {
   "cell_type": "markdown",
   "id": "9dbf71fd-e5f2-48a6-adbc-c718214f7aef",
   "metadata": {},
   "source": [
    "### Example setup"
   ]
  },
  {
   "cell_type": "code",
   "execution_count": 1,
   "id": "19553510-5bc0-43ad-9329-92ad26fc8e5a",
   "metadata": {},
   "outputs": [
    {
     "name": "stderr",
     "output_type": "stream",
     "text": [
      "\u001b[32m\u001b[1m  Activating\u001b[22m\u001b[39m project at `~/Desktop/julia_work/CHEME-5660-Markets-Mayhem-Example-Notebooks/jupyter-notebooks/CHEME-5660-Q-Learning-TradeBot-notebook`\n",
      "\u001b[32m\u001b[1m  No Changes\u001b[22m\u001b[39m to `~/Desktop/julia_work/CHEME-5660-Markets-Mayhem-Example-Notebooks/jupyter-notebooks/CHEME-5660-Q-Learning-TradeBot-notebook/Project.toml`\n",
      "\u001b[32m\u001b[1m  No Changes\u001b[22m\u001b[39m to `~/Desktop/julia_work/CHEME-5660-Markets-Mayhem-Example-Notebooks/jupyter-notebooks/CHEME-5660-Q-Learning-TradeBot-notebook/Manifest.toml`\n"
     ]
    }
   ],
   "source": [
    "import Pkg; Pkg.activate(\".\"); Pkg.resolve(); Pkg.instantiate();"
   ]
  },
  {
   "cell_type": "code",
   "execution_count": 2,
   "id": "eee5681f-0b5f-42a5-9de5-dc9eb1009ac8",
   "metadata": {},
   "outputs": [],
   "source": [
    "# load req packages -\n",
    "using DataFrames\n",
    "using Dates\n",
    "using FileIO\n",
    "using JLD2\n",
    "using PrettyTables\n",
    "using Distributions\n",
    "using Statistics\n",
    "using DataFrames\n",
    "using Plots\n",
    "using Colors\n",
    "\n",
    "# setup paths -\n",
    "const _ROOT = pwd();\n",
    "const _PATH_TO_DATA = joinpath(_ROOT, \"data\");"
   ]
  },
  {
   "cell_type": "code",
   "execution_count": 3,
   "id": "3215d94e-fc3c-4574-a066-a8138975fbf3",
   "metadata": {},
   "outputs": [],
   "source": [
    "include(\"CHEME-5660-Example-CodeLib.jl\");"
   ]
  },
  {
   "cell_type": "markdown",
   "id": "ec0c0f2c-3705-4fc8-9089-f21bfb830e5f",
   "metadata": {},
   "source": [
    "### Setup constants and other resources"
   ]
  },
  {
   "cell_type": "code",
   "execution_count": 4,
   "id": "d8e39e8a-b45b-4181-9001-144e010fd7a9",
   "metadata": {},
   "outputs": [],
   "source": [
    "# 5-mim risk-free rate\n",
    "r̄ = 0.0403;\n",
    "risk_free_rate = ((1+r̄)^(1/19656) - 1);\n",
    "\n",
    "# how many days of historical data are we using?\n",
    "d = 1;         # we nₐ buy shares of XYZ for d-periods at the open of the training data \n",
    "lotsize = 10.0; # how many shares do we buy at the open?\n",
    "nₐ = 1.0;       # how many shares do we want to buy, sell each day\n",
    "\n",
    "# setup actions states -\n",
    "actions = [1,2,3]  ; # buy, sell, hold\n",
    "states = [1,2,3,4] ; # states defined below -\n",
    "\n",
    "# initialize an empty ledger -\n",
    "ledger_df = DataFrame(\n",
    "    time = DateTime[],\n",
    "    n = Float64[],\n",
    "    price = Float64[],\n",
    "    action = Int64[]\n",
    ");\n",
    "\n",
    "# initialize an empty Q -\n",
    "Q_array = Array{Float64,2}(undef, length(states), length(actions));\n",
    "Q_array[1:2,2] .= 100.0;\n",
    "Q_array[3:4,1] .= 100.0;\n",
    "\n",
    "# build Q model -\n",
    "QMODEL = QLearningModel();\n",
    "QMODEL.γ = 0.75;\n",
    "QMODEL.α = 0.05;\n",
    "QMODEL.𝒮 = states;\n",
    "QMODEL.𝒜 = actions;\n",
    "QMODEL.Q = Q_array;"
   ]
  },
  {
   "cell_type": "markdown",
   "id": "2f244076-997b-4657-89de-b89e5477a492",
   "metadata": {},
   "source": [
    "#### Load and partition the OHLC price data set"
   ]
  },
  {
   "cell_type": "code",
   "execution_count": 5,
   "id": "45c94029-3f64-425b-ab0c-89876157db07",
   "metadata": {},
   "outputs": [],
   "source": [
    "# load the JLD2 portfolio data file -\n",
    "price_data_dictionary = load(joinpath(_PATH_TO_DATA, \"CHEME-5660-Portfolio-Q-learning-5min-11-20-22.jld2\"))[\"dd\"];\n",
    "\n",
    "# we have these ticker symbols in our data set -\n",
    "ticker_symbol_array = sort(keys(price_data_dictionary) |> collect);\n",
    "\n",
    "# Partition the data into a training and prediction set\n",
    "(price_training_dict, price_prediction_dict) = partition(price_data_dictionary; fraction=0.90);"
   ]
  },
  {
   "cell_type": "markdown",
   "id": "3201bc7a-5b83-424b-b6f2-bd978e507918",
   "metadata": {},
   "source": [
    "#### Establish an initial position"
   ]
  },
  {
   "cell_type": "code",
   "execution_count": 6,
   "id": "ff780531-4b61-47f4-9b5b-50287ef3505d",
   "metadata": {},
   "outputs": [],
   "source": [
    "# what ticker do we want to explore?\n",
    "ticker_symbol = \"AMD\";\n",
    "\n",
    "# get the df_training -\n",
    "df_training = price_training_dict[ticker_symbol];\n",
    "\n",
    "# whate are my timestamps -\n",
    "timestamp_array = sort(df_training[:,:timestamp]) |> collect;"
   ]
  },
  {
   "cell_type": "markdown",
   "id": "cc8e99a9-4814-497b-8b02-0d0dfb6e3b5f",
   "metadata": {},
   "source": [
    "#### Establish state classes"
   ]
  },
  {
   "cell_type": "code",
   "execution_count": 7,
   "id": "6bb9d281-bb5e-40cf-980c-72152149e000",
   "metadata": {},
   "outputs": [],
   "source": [
    "# fit a distribution to vwap data -\n",
    "vwap_data = df_training[!,:volume_weighted_average_price];\n",
    "Nd = fit_mle(Normal, vwap_data);\n",
    "\n",
    "# get parameters -\n",
    "θ = params(Nd);\n"
   ]
  },
  {
   "cell_type": "code",
   "execution_count": 8,
   "id": "81ea3edf-c2b9-473b-a728-7022444dbb38",
   "metadata": {},
   "outputs": [],
   "source": [
    "# initialize -\n",
    "\n",
    "# we buy 100 shares at initial price in the data -\n",
    "transaction = (\n",
    "    time = df_training[1,:timestamp],\n",
    "    n = 100.0,\n",
    "    action = 1,\n",
    "    price = price(df_training,1)\n",
    ");\n",
    "push!(ledger_df, transaction)\n",
    "\n",
    "# what is the initial vwap_best -\n",
    "vwap_best = vwap(ledger_df);"
   ]
  },
  {
   "cell_type": "code",
   "execution_count": 9,
   "id": "3250b524-e6a3-4fd7-afc1-0fc1e51dd3d4",
   "metadata": {},
   "outputs": [],
   "source": [
    "# setup ϵ sim -\n",
    "ϵ = 0.30;\n",
    "\n",
    "# setup categorical distribution for drawing a random action -\n",
    "action_distribution = Categorical([0.5,0.25,0.25]);\n",
    "\n",
    "# main random simulation -\n",
    "for i ∈ 2:(nrow(df_training) - 1)\n",
    "    \n",
    "    \n",
    "    # get data from the df_training -\n",
    "    p = price(df_training, i);\n",
    "    p′ = price(df_training, i+1);\n",
    "    \n",
    "    # convert that to the current state -\n",
    "    s = state(p; μ = θ[1], σ = θ[2]);\n",
    "    s′ = state(p′; μ = θ[1], σ = θ[2]);\n",
    "    \n",
    "    # roll a random number -\n",
    "    if (rand()<ϵ)\n",
    "        \n",
    "        # roll a random action - \n",
    "        aᵢ = rand(action_distribution);\n",
    "        if (aᵢ == 1) # random action: buy\n",
    "\n",
    "            # compute a buy action -\n",
    "            transaction = (\n",
    "                time = df_training[i,:timestamp],\n",
    "                n = nₐ,\n",
    "                action = 1,\n",
    "                price = p \n",
    "            );\n",
    "            push!(ledger_df, transaction)\n",
    "\n",
    "        elseif (aᵢ == 2) # random action: sell\n",
    "\n",
    "            # compute a buy action -\n",
    "            transaction = (\n",
    "                time = df_training[i,:timestamp],\n",
    "                n = nₐ,\n",
    "                action = 2,\n",
    "                price = p \n",
    "            );\n",
    "            push!(ledger_df, transaction)\n",
    "\n",
    "        elseif (aᵢ == 3) # random action: hold\n",
    "\n",
    "            # compute a buy action -\n",
    "            transaction = (\n",
    "                time = df_training[i,:timestamp],\n",
    "                n = nₐ,\n",
    "                action = 3,\n",
    "                price = p \n",
    "            );\n",
    "            push!(ledger_df, transaction)\n",
    "        end\n",
    "    else\n",
    "        \n",
    "        # ok, what action does my best guess say that I should take?\n",
    "        policy = π(QMODEL.Q);\n",
    "        aᵢ = policy[s];\n",
    "        \n",
    "        # compute a buy action -\n",
    "        transaction = (\n",
    "            time = df_training[i,:timestamp],\n",
    "            n = nₐ,\n",
    "            action = aᵢ,\n",
    "            price = p \n",
    "        );\n",
    "        push!(ledger_df, transaction)\n",
    "    end\n",
    "    \n",
    "    # we've update the ledger - compute the return per share if we sold everything -\n",
    "    Rᵢ = liquidate(ledger_df, p);\n",
    "    \n",
    "    # update the QMODEL -\n",
    "    update!(QMODEL,s,aᵢ,Rᵢ,s′);\n",
    "end"
   ]
  },
  {
   "cell_type": "code",
   "execution_count": 10,
   "id": "1a3b7ce4-790c-4db0-adac-ff58a922fd66",
   "metadata": {},
   "outputs": [
    {
     "data": {
      "text/plain": [
       "4×3 Matrix{Float64}:\n",
       "  8.88445  60.3486   10.6282\n",
       " 15.8871   16.2576   14.2771\n",
       " 65.5999    0.0       7.02071\n",
       "  4.13045   6.58439   6.33831"
      ]
     },
     "execution_count": 10,
     "metadata": {},
     "output_type": "execute_result"
    }
   ],
   "source": [
    "Q_array"
   ]
  },
  {
   "cell_type": "code",
   "execution_count": 11,
   "id": "5052963b-da09-42e5-a6fe-7ed3c9397de2",
   "metadata": {},
   "outputs": [
    {
     "data": {
      "text/plain": [
       "4-element Vector{Int64}:\n",
       " 2\n",
       " 2\n",
       " 1\n",
       " 2"
      ]
     },
     "execution_count": 11,
     "metadata": {},
     "output_type": "execute_result"
    }
   ],
   "source": [
    "π(Q_array)"
   ]
  },
  {
   "cell_type": "code",
   "execution_count": 15,
   "id": "d72f1f60-5b1e-420a-ad2c-8bcfb32afb8d",
   "metadata": {},
   "outputs": [
    {
     "data": {
      "text/html": [
       "<div><div style = \"float: left;\"><span>337×4 DataFrame</span></div><div style = \"float: right;\"><span style = \"font-style: italic;\">312 rows omitted</span></div><div style = \"clear: both;\"></div></div><div class = \"data-frame\" style = \"overflow-x: scroll;\"><table class = \"data-frame\" style = \"margin-bottom: 6px;\"><thead><tr class = \"header\"><th class = \"rowNumber\" style = \"font-weight: bold; text-align: right;\">Row</th><th style = \"text-align: left;\">time</th><th style = \"text-align: left;\">n</th><th style = \"text-align: left;\">price</th><th style = \"text-align: left;\">action</th></tr><tr class = \"subheader headerLastRow\"><th class = \"rowNumber\" style = \"font-weight: bold; text-align: right;\"></th><th title = \"DateTime\" style = \"text-align: left;\">DateTime</th><th title = \"Float64\" style = \"text-align: left;\">Float64</th><th title = \"Float64\" style = \"text-align: left;\">Float64</th><th title = \"Int64\" style = \"text-align: left;\">Int64</th></tr></thead><tbody><tr><td class = \"rowNumber\" style = \"font-weight: bold; text-align: right;\">1</td><td style = \"text-align: left;\">2022-11-14T09:00:00</td><td style = \"text-align: right;\">100.0</td><td style = \"text-align: right;\">72.944</td><td style = \"text-align: right;\">1</td></tr><tr><td class = \"rowNumber\" style = \"font-weight: bold; text-align: right;\">2</td><td style = \"text-align: left;\">2022-11-14T09:05:00</td><td style = \"text-align: right;\">1.0</td><td style = \"text-align: right;\">73.6489</td><td style = \"text-align: right;\">1</td></tr><tr><td class = \"rowNumber\" style = \"font-weight: bold; text-align: right;\">3</td><td style = \"text-align: left;\">2022-11-14T09:10:00</td><td style = \"text-align: right;\">1.0</td><td style = \"text-align: right;\">73.7095</td><td style = \"text-align: right;\">1</td></tr><tr><td class = \"rowNumber\" style = \"font-weight: bold; text-align: right;\">4</td><td style = \"text-align: left;\">2022-11-14T09:15:00</td><td style = \"text-align: right;\">1.0</td><td style = \"text-align: right;\">73.8939</td><td style = \"text-align: right;\">1</td></tr><tr><td class = \"rowNumber\" style = \"font-weight: bold; text-align: right;\">5</td><td style = \"text-align: left;\">2022-11-14T09:20:00</td><td style = \"text-align: right;\">1.0</td><td style = \"text-align: right;\">74.2044</td><td style = \"text-align: right;\">1</td></tr><tr><td class = \"rowNumber\" style = \"font-weight: bold; text-align: right;\">6</td><td style = \"text-align: left;\">2022-11-14T09:25:00</td><td style = \"text-align: right;\">1.0</td><td style = \"text-align: right;\">73.996</td><td style = \"text-align: right;\">1</td></tr><tr><td class = \"rowNumber\" style = \"font-weight: bold; text-align: right;\">7</td><td style = \"text-align: left;\">2022-11-14T09:30:00</td><td style = \"text-align: right;\">1.0</td><td style = \"text-align: right;\">73.8233</td><td style = \"text-align: right;\">1</td></tr><tr><td class = \"rowNumber\" style = \"font-weight: bold; text-align: right;\">8</td><td style = \"text-align: left;\">2022-11-14T09:35:00</td><td style = \"text-align: right;\">1.0</td><td style = \"text-align: right;\">73.9176</td><td style = \"text-align: right;\">1</td></tr><tr><td class = \"rowNumber\" style = \"font-weight: bold; text-align: right;\">9</td><td style = \"text-align: left;\">2022-11-14T09:40:00</td><td style = \"text-align: right;\">1.0</td><td style = \"text-align: right;\">73.9937</td><td style = \"text-align: right;\">1</td></tr><tr><td class = \"rowNumber\" style = \"font-weight: bold; text-align: right;\">10</td><td style = \"text-align: left;\">2022-11-14T09:55:00</td><td style = \"text-align: right;\">1.0</td><td style = \"text-align: right;\">74.0238</td><td style = \"text-align: right;\">1</td></tr><tr><td class = \"rowNumber\" style = \"font-weight: bold; text-align: right;\">11</td><td style = \"text-align: left;\">2022-11-14T10:05:00</td><td style = \"text-align: right;\">1.0</td><td style = \"text-align: right;\">74.0002</td><td style = \"text-align: right;\">1</td></tr><tr><td class = \"rowNumber\" style = \"font-weight: bold; text-align: right;\">12</td><td style = \"text-align: left;\">2022-11-14T10:10:00</td><td style = \"text-align: right;\">1.0</td><td style = \"text-align: right;\">74.2174</td><td style = \"text-align: right;\">1</td></tr><tr><td class = \"rowNumber\" style = \"font-weight: bold; text-align: right;\">13</td><td style = \"text-align: left;\">2022-11-14T10:15:00</td><td style = \"text-align: right;\">1.0</td><td style = \"text-align: right;\">74.3035</td><td style = \"text-align: right;\">1</td></tr><tr><td style = \"text-align: right;\">&vellip;</td><td style = \"text-align: right;\">&vellip;</td><td style = \"text-align: right;\">&vellip;</td><td style = \"text-align: right;\">&vellip;</td><td style = \"text-align: right;\">&vellip;</td></tr><tr><td class = \"rowNumber\" style = \"font-weight: bold; text-align: right;\">326</td><td style = \"text-align: left;\">2022-11-18T11:40:00</td><td style = \"text-align: right;\">1.0</td><td style = \"text-align: right;\">75.15</td><td style = \"text-align: right;\">1</td></tr><tr><td class = \"rowNumber\" style = \"font-weight: bold; text-align: right;\">327</td><td style = \"text-align: left;\">2022-11-18T12:15:00</td><td style = \"text-align: right;\">1.0</td><td style = \"text-align: right;\">75.6828</td><td style = \"text-align: right;\">1</td></tr><tr><td class = \"rowNumber\" style = \"font-weight: bold; text-align: right;\">328</td><td style = \"text-align: left;\">2022-11-18T13:10:00</td><td style = \"text-align: right;\">1.0</td><td style = \"text-align: right;\">75.5913</td><td style = \"text-align: right;\">1</td></tr><tr><td class = \"rowNumber\" style = \"font-weight: bold; text-align: right;\">329</td><td style = \"text-align: left;\">2022-11-18T13:45:00</td><td style = \"text-align: right;\">1.0</td><td style = \"text-align: right;\">75.4346</td><td style = \"text-align: right;\">1</td></tr><tr><td class = \"rowNumber\" style = \"font-weight: bold; text-align: right;\">330</td><td style = \"text-align: left;\">2022-11-18T13:55:00</td><td style = \"text-align: right;\">1.0</td><td style = \"text-align: right;\">75.6443</td><td style = \"text-align: right;\">1</td></tr><tr><td class = \"rowNumber\" style = \"font-weight: bold; text-align: right;\">331</td><td style = \"text-align: left;\">2022-11-18T14:10:00</td><td style = \"text-align: right;\">1.0</td><td style = \"text-align: right;\">75.5688</td><td style = \"text-align: right;\">1</td></tr><tr><td class = \"rowNumber\" style = \"font-weight: bold; text-align: right;\">332</td><td style = \"text-align: left;\">2022-11-18T14:20:00</td><td style = \"text-align: right;\">1.0</td><td style = \"text-align: right;\">75.5237</td><td style = \"text-align: right;\">1</td></tr><tr><td class = \"rowNumber\" style = \"font-weight: bold; text-align: right;\">333</td><td style = \"text-align: left;\">2022-11-18T14:30:00</td><td style = \"text-align: right;\">1.0</td><td style = \"text-align: right;\">75.0491</td><td style = \"text-align: right;\">1</td></tr><tr><td class = \"rowNumber\" style = \"font-weight: bold; text-align: right;\">334</td><td style = \"text-align: left;\">2022-11-18T14:35:00</td><td style = \"text-align: right;\">1.0</td><td style = \"text-align: right;\">74.5023</td><td style = \"text-align: right;\">1</td></tr><tr><td class = \"rowNumber\" style = \"font-weight: bold; text-align: right;\">335</td><td style = \"text-align: left;\">2022-11-18T14:45:00</td><td style = \"text-align: right;\">1.0</td><td style = \"text-align: right;\">74.0187</td><td style = \"text-align: right;\">1</td></tr><tr><td class = \"rowNumber\" style = \"font-weight: bold; text-align: right;\">336</td><td style = \"text-align: left;\">2022-11-18T15:35:00</td><td style = \"text-align: right;\">1.0</td><td style = \"text-align: right;\">73.407</td><td style = \"text-align: right;\">1</td></tr><tr><td class = \"rowNumber\" style = \"font-weight: bold; text-align: right;\">337</td><td style = \"text-align: left;\">2022-11-18T16:25:00</td><td style = \"text-align: right;\">1.0</td><td style = \"text-align: right;\">73.2016</td><td style = \"text-align: right;\">1</td></tr></tbody></table></div>"
      ],
      "text/latex": [
       "\\begin{tabular}{r|cccc}\n",
       "\t& time & n & price & action\\\\\n",
       "\t\\hline\n",
       "\t& DateTime & Float64 & Float64 & Int64\\\\\n",
       "\t\\hline\n",
       "\t1 & 2022-11-14T09:00:00 & 100.0 & 72.944 & 1 \\\\\n",
       "\t2 & 2022-11-14T09:05:00 & 1.0 & 73.6489 & 1 \\\\\n",
       "\t3 & 2022-11-14T09:10:00 & 1.0 & 73.7095 & 1 \\\\\n",
       "\t4 & 2022-11-14T09:15:00 & 1.0 & 73.8939 & 1 \\\\\n",
       "\t5 & 2022-11-14T09:20:00 & 1.0 & 74.2044 & 1 \\\\\n",
       "\t6 & 2022-11-14T09:25:00 & 1.0 & 73.996 & 1 \\\\\n",
       "\t7 & 2022-11-14T09:30:00 & 1.0 & 73.8233 & 1 \\\\\n",
       "\t8 & 2022-11-14T09:35:00 & 1.0 & 73.9176 & 1 \\\\\n",
       "\t9 & 2022-11-14T09:40:00 & 1.0 & 73.9937 & 1 \\\\\n",
       "\t10 & 2022-11-14T09:55:00 & 1.0 & 74.0238 & 1 \\\\\n",
       "\t11 & 2022-11-14T10:05:00 & 1.0 & 74.0002 & 1 \\\\\n",
       "\t12 & 2022-11-14T10:10:00 & 1.0 & 74.2174 & 1 \\\\\n",
       "\t13 & 2022-11-14T10:15:00 & 1.0 & 74.3035 & 1 \\\\\n",
       "\t14 & 2022-11-14T10:20:00 & 1.0 & 74.2846 & 1 \\\\\n",
       "\t15 & 2022-11-14T10:25:00 & 1.0 & 74.2892 & 1 \\\\\n",
       "\t16 & 2022-11-14T10:30:00 & 1.0 & 74.12 & 1 \\\\\n",
       "\t17 & 2022-11-14T10:35:00 & 1.0 & 74.09 & 1 \\\\\n",
       "\t18 & 2022-11-14T10:40:00 & 1.0 & 74.0125 & 1 \\\\\n",
       "\t19 & 2022-11-14T10:45:00 & 1.0 & 73.9885 & 1 \\\\\n",
       "\t20 & 2022-11-14T10:50:00 & 1.0 & 74.0193 & 1 \\\\\n",
       "\t21 & 2022-11-14T11:00:00 & 1.0 & 74.2825 & 1 \\\\\n",
       "\t22 & 2022-11-14T11:05:00 & 1.0 & 74.1 & 1 \\\\\n",
       "\t23 & 2022-11-14T11:10:00 & 1.0 & 73.8288 & 1 \\\\\n",
       "\t24 & 2022-11-14T11:15:00 & 1.0 & 73.9591 & 1 \\\\\n",
       "\t25 & 2022-11-14T11:20:00 & 1.0 & 74.0593 & 1 \\\\\n",
       "\t26 & 2022-11-14T11:25:00 & 1.0 & 73.9962 & 1 \\\\\n",
       "\t27 & 2022-11-14T11:30:00 & 1.0 & 74.1482 & 1 \\\\\n",
       "\t28 & 2022-11-14T11:35:00 & 1.0 & 74.3401 & 1 \\\\\n",
       "\t29 & 2022-11-14T11:50:00 & 1.0 & 74.4465 & 1 \\\\\n",
       "\t30 & 2022-11-14T11:55:00 & 1.0 & 74.3487 & 1 \\\\\n",
       "\t$\\dots$ & $\\dots$ & $\\dots$ & $\\dots$ & $\\dots$ \\\\\n",
       "\\end{tabular}\n"
      ],
      "text/plain": [
       "\u001b[1m337×4 DataFrame\u001b[0m\n",
       "\u001b[1m Row \u001b[0m│\u001b[1m time                \u001b[0m\u001b[1m n       \u001b[0m\u001b[1m price   \u001b[0m\u001b[1m action \u001b[0m\n",
       "     │\u001b[90m DateTime            \u001b[0m\u001b[90m Float64 \u001b[0m\u001b[90m Float64 \u001b[0m\u001b[90m Int64  \u001b[0m\n",
       "─────┼───────────────────────────────────────────────\n",
       "   1 │ 2022-11-14T09:00:00    100.0  72.944        1\n",
       "   2 │ 2022-11-14T09:05:00      1.0  73.6489       1\n",
       "   3 │ 2022-11-14T09:10:00      1.0  73.7095       1\n",
       "   4 │ 2022-11-14T09:15:00      1.0  73.8939       1\n",
       "   5 │ 2022-11-14T09:20:00      1.0  74.2044       1\n",
       "   6 │ 2022-11-14T09:25:00      1.0  73.996        1\n",
       "   7 │ 2022-11-14T09:30:00      1.0  73.8233       1\n",
       "   8 │ 2022-11-14T09:35:00      1.0  73.9176       1\n",
       "   9 │ 2022-11-14T09:40:00      1.0  73.9937       1\n",
       "  10 │ 2022-11-14T09:55:00      1.0  74.0238       1\n",
       "  11 │ 2022-11-14T10:05:00      1.0  74.0002       1\n",
       "  ⋮  │          ⋮              ⋮        ⋮       ⋮\n",
       " 328 │ 2022-11-18T13:10:00      1.0  75.5913       1\n",
       " 329 │ 2022-11-18T13:45:00      1.0  75.4346       1\n",
       " 330 │ 2022-11-18T13:55:00      1.0  75.6443       1\n",
       " 331 │ 2022-11-18T14:10:00      1.0  75.5688       1\n",
       " 332 │ 2022-11-18T14:20:00      1.0  75.5237       1\n",
       " 333 │ 2022-11-18T14:30:00      1.0  75.0491       1\n",
       " 334 │ 2022-11-18T14:35:00      1.0  74.5023       1\n",
       " 335 │ 2022-11-18T14:45:00      1.0  74.0187       1\n",
       " 336 │ 2022-11-18T15:35:00      1.0  73.407        1\n",
       " 337 │ 2022-11-18T16:25:00      1.0  73.2016       1\n",
       "\u001b[36m                                     316 rows omitted\u001b[0m"
      ]
     },
     "execution_count": 15,
     "metadata": {},
     "output_type": "execute_result"
    }
   ],
   "source": [
    "idx = filter(:action=>x->x==1,ledger_df)"
   ]
  },
  {
   "cell_type": "code",
   "execution_count": null,
   "id": "8af638df-114c-4c4b-932e-573b759f197e",
   "metadata": {},
   "outputs": [],
   "source": []
  }
 ],
 "metadata": {
  "kernelspec": {
   "display_name": "Julia 1.8.0",
   "language": "julia",
   "name": "julia-1.8"
  },
  "language_info": {
   "file_extension": ".jl",
   "mimetype": "application/julia",
   "name": "julia",
   "version": "1.8.2"
  }
 },
 "nbformat": 4,
 "nbformat_minor": 5
}
