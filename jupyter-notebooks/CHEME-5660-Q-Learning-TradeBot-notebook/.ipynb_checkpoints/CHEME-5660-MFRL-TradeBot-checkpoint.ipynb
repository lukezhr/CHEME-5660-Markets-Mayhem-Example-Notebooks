{
 "cells": [
  {
   "cell_type": "markdown",
   "id": "7e5d38b9-d044-424b-b0ce-9104ae714630",
   "metadata": {},
   "source": [
    "## CHEME 5660: Building a Trading Bot using Model-Free Reinforcement Learning"
   ]
  },
  {
   "cell_type": "markdown",
   "id": "51147f0c-66d0-402c-8b55-b249aab8eb6a",
   "metadata": {},
   "source": [
    "### Introduction"
   ]
  },
  {
   "cell_type": "markdown",
   "id": "9dbf71fd-e5f2-48a6-adbc-c718214f7aef",
   "metadata": {},
   "source": [
    "### Example setup"
   ]
  },
  {
   "cell_type": "code",
   "execution_count": 1,
   "id": "19553510-5bc0-43ad-9329-92ad26fc8e5a",
   "metadata": {},
   "outputs": [
    {
     "name": "stderr",
     "output_type": "stream",
     "text": [
      "\u001b[32m\u001b[1m  Activating\u001b[22m\u001b[39m project at `~/Desktop/julia_work/CHEME-5660-Markets-Mayhem-Example-Notebooks/jupyter-notebooks/CHEME-5660-Q-Learning-TradeBot-notebook`\n",
      "\u001b[32m\u001b[1m  No Changes\u001b[22m\u001b[39m to `~/Desktop/julia_work/CHEME-5660-Markets-Mayhem-Example-Notebooks/jupyter-notebooks/CHEME-5660-Q-Learning-TradeBot-notebook/Project.toml`\n",
      "\u001b[32m\u001b[1m  No Changes\u001b[22m\u001b[39m to `~/Desktop/julia_work/CHEME-5660-Markets-Mayhem-Example-Notebooks/jupyter-notebooks/CHEME-5660-Q-Learning-TradeBot-notebook/Manifest.toml`\n"
     ]
    }
   ],
   "source": [
    "import Pkg; Pkg.activate(\".\"); Pkg.resolve(); Pkg.instantiate();"
   ]
  },
  {
   "cell_type": "code",
   "execution_count": 2,
   "id": "eee5681f-0b5f-42a5-9de5-dc9eb1009ac8",
   "metadata": {},
   "outputs": [],
   "source": [
    "# load req packages -\n",
    "using DataFrames\n",
    "using Dates\n",
    "using FileIO\n",
    "using JLD2\n",
    "using PrettyTables\n",
    "using Distributions\n",
    "using Statistics\n",
    "\n",
    "# setup paths -\n",
    "const _ROOT = pwd();\n",
    "const _PATH_TO_DATA = joinpath(_ROOT, \"data\");"
   ]
  },
  {
   "cell_type": "code",
   "execution_count": 3,
   "id": "3215d94e-fc3c-4574-a066-a8138975fbf3",
   "metadata": {},
   "outputs": [],
   "source": [
    "include(\"CHEME-5660-Example-CodeLib.jl\");"
   ]
  },
  {
   "cell_type": "markdown",
   "id": "ec0c0f2c-3705-4fc8-9089-f21bfb830e5f",
   "metadata": {},
   "source": [
    "### Setup constants and other resources"
   ]
  },
  {
   "cell_type": "code",
   "execution_count": 4,
   "id": "d8e39e8a-b45b-4181-9001-144e010fd7a9",
   "metadata": {},
   "outputs": [],
   "source": [
    "# how many days of historical data are we using?\n",
    "d = 12;         # we nₐ buy shares of XYZ for d-periods at the open of the training data \n",
    "lotsize = 10.0; # how many shares do we buy at the open?\n",
    "nₐ = 2.0;       # how many shares do we want to buy, sell each day\n",
    "\n",
    "# what does our training data start?\n",
    "cursor = d;\n",
    "\n",
    "# how many steps in an episode?\n",
    "number_of_steps_per_episodes = 36;\n",
    "\n",
    "# setup actions states -\n",
    "actions = [1,2,3]; # buy, sell, hold\n",
    "\n",
    "# trade-ledger \n",
    "ledger = Dict{DateTime,TransactionModel}();"
   ]
  },
  {
   "cell_type": "code",
   "execution_count": 5,
   "id": "7f9323f2-edd1-4484-895d-a4eac078d5a0",
   "metadata": {},
   "outputs": [],
   "source": [
    "# what is my prior data -\n",
    "action_distribution = Categorical([0.60,0.10,0.30]); # when exploring, we are biased toward buying"
   ]
  },
  {
   "cell_type": "markdown",
   "id": "2f244076-997b-4657-89de-b89e5477a492",
   "metadata": {},
   "source": [
    "#### Load and partition the OHLC price data set"
   ]
  },
  {
   "cell_type": "code",
   "execution_count": 6,
   "id": "45c94029-3f64-425b-ab0c-89876157db07",
   "metadata": {},
   "outputs": [],
   "source": [
    "# load the JLD2 portfolio data file -\n",
    "price_data_dictionary = load(joinpath(_PATH_TO_DATA, \"CHEME-5660-Portfolio-Q-learning-5min-11-20-22.jld2\"))[\"dd\"];\n",
    "\n",
    "# we have these ticker symbols in our data set -\n",
    "ticker_symbol_array = sort(keys(price_data_dictionary) |> collect);\n",
    "\n",
    "# Partition the data into a training and prediction set\n",
    "(price_training_dict, price_prediction_dict) = partition(price_data_dictionary; fraction=0.50);"
   ]
  },
  {
   "cell_type": "markdown",
   "id": "3201bc7a-5b83-424b-b6f2-bd978e507918",
   "metadata": {},
   "source": [
    "#### Establish an initial position"
   ]
  },
  {
   "cell_type": "code",
   "execution_count": 7,
   "id": "ff780531-4b61-47f4-9b5b-50287ef3505d",
   "metadata": {},
   "outputs": [],
   "source": [
    "# what ticker do we want to explore?\n",
    "ticker_symbol = \"AMD\";\n",
    "\n",
    "# get the df_training -\n",
    "df_training = price_training_dict[ticker_symbol];\n",
    "\n",
    "# tmp -\n",
    "transactions = initialize(df_training; lotsize = lotsize, periods=d);\n",
    "\n",
    "# load these transactions into my trade-ledger \n",
    "(NR,NC) = size(transactions);\n",
    "for i ∈ 1:NR\n",
    "    \n",
    "    # get the time stamp of the trade -\n",
    "    time = transactions[i,4];\n",
    "    \n",
    "    # build transaction object -\n",
    "    transaction = build(TransactionModel, volume=transactions[i,1], price=transactions[i,3], sense=1);\n",
    "    ledger[time] =  transaction;\n",
    "end"
   ]
  },
  {
   "cell_type": "code",
   "execution_count": 8,
   "id": "7777f270-f5b2-4141-bc69-f8f6223415ba",
   "metadata": {},
   "outputs": [
    {
     "data": {
      "text/plain": [
       "Dict{DateTime, TransactionModel} with 10 entries:\n",
       "  DateTime(\"2022-11-14T09:40:00\") => TransactionModel(10, 73.9349, 1)\n",
       "  DateTime(\"2022-11-14T09:20:00\") => TransactionModel(10, 74.0508, 1)\n",
       "  DateTime(\"2022-11-14T09:25:00\") => TransactionModel(10, 73.9016, 1)\n",
       "  DateTime(\"2022-11-14T09:10:00\") => TransactionModel(10, 73.531, 1)\n",
       "  DateTime(\"2022-11-14T09:50:00\") => TransactionModel(10, 74.0052, 1)\n",
       "  DateTime(\"2022-11-14T09:15:00\") => TransactionModel(10, 74.0974, 1)\n",
       "  DateTime(\"2022-11-14T09:00:00\") => TransactionModel(10, 73.4995, 1)\n",
       "  DateTime(\"2022-11-14T09:35:00\") => TransactionModel(10, 73.9788, 1)\n",
       "  DateTime(\"2022-11-14T09:30:00\") => TransactionModel(10, 73.8187, 1)\n",
       "  DateTime(\"2022-11-14T09:05:00\") => TransactionModel(10, 73.3636, 1)"
      ]
     },
     "execution_count": 8,
     "metadata": {},
     "output_type": "execute_result"
    }
   ],
   "source": [
    "ledger"
   ]
  },
  {
   "cell_type": "code",
   "execution_count": 9,
   "id": "cea10a0f-10ce-423e-a06b-ffc034597700",
   "metadata": {},
   "outputs": [
    {
     "data": {
      "text/plain": [
       "73.81814496596536"
      ]
     },
     "execution_count": 9,
     "metadata": {},
     "output_type": "execute_result"
    }
   ],
   "source": [
    "Sₒ = vwap(ledger)"
   ]
  },
  {
   "cell_type": "markdown",
   "id": "96d90242-9266-4e77-982a-eb2f6c51a4aa",
   "metadata": {},
   "source": [
    "#### Run a purely random agent"
   ]
  },
  {
   "cell_type": "code",
   "execution_count": 10,
   "id": "049d2a5b-60f3-43a1-af40-b45e2ce1d200",
   "metadata": {},
   "outputs": [],
   "source": [
    "# whate are my timesteps -\n",
    "timestamp_array = sort(df_training[:,:timestamp]) |> collect\n",
    "\n",
    "for i ∈ 1:number_of_steps_per_episodes\n",
    "    \n",
    "    # pick a random action -\n",
    "    aᵢ = rand(action_distribution);\n",
    "    \n",
    "    # grab the time stamp and price data -\n",
    "    current_cursor = cursor + i\n",
    "    event_open_timestamp = timestamp_array[current_cursor];\n",
    "    event_close_timestamp = timestamp_array[current_cursor + 1];\n",
    "    price_value = price(df_training, event_close_timestamp);\n",
    "    \n",
    "    # we implement the action now, we get the next price -\n",
    "    sense_flag = 1;\n",
    "    if (aᵢ == 2)\n",
    "        sense_flag = -1;\n",
    "    elseif (aᵢ == 2)\n",
    "        sense_flag = 0;\n",
    "    end;\n",
    "    \n",
    "    # build a proposed trade model -\n",
    "    proposed_trade = build(TransactionModel, volume = nₐ, sense = sense_flag, price = price_value);\n",
    "    \n",
    "    # confirm this trade -\n",
    "    if (confirm(ledger, proposed_trade) == true)\n",
    "        ledger[event_open_timestamp] = proposed_trade;\n",
    "    end\n",
    "end"
   ]
  },
  {
   "cell_type": "code",
   "execution_count": 11,
   "id": "996a1146-0e61-4323-bd0a-7b8734736270",
   "metadata": {},
   "outputs": [
    {
     "data": {
      "text/plain": [
       "Dict{DateTime, TransactionModel} with 46 entries:\n",
       "  DateTime(\"2022-11-14T11:05:00\") => TransactionModel(2, 73.8151, 1)\n",
       "  DateTime(\"2022-11-14T12:00:00\") => TransactionModel(2, 74.645, -1)\n",
       "  DateTime(\"2022-11-14T09:55:00\") => TransactionModel(2, 73.9185, 1)\n",
       "  DateTime(\"2022-11-14T09:25:00\") => TransactionModel(10, 73.9016, 1)\n",
       "  DateTime(\"2022-11-14T12:40:00\") => TransactionModel(2, 74.7207, 1)\n",
       "  DateTime(\"2022-11-14T12:15:00\") => TransactionModel(2, 74.707, 1)\n",
       "  DateTime(\"2022-11-14T10:00:00\") => TransactionModel(2, 74.0079, 1)\n",
       "  DateTime(\"2022-11-14T09:40:00\") => TransactionModel(10, 73.9349, 1)\n",
       "  DateTime(\"2022-11-14T10:25:00\") => TransactionModel(2, 74.12, 1)\n",
       "  DateTime(\"2022-11-14T11:20:00\") => TransactionModel(2, 73.9944, 1)\n",
       "  DateTime(\"2022-11-14T09:50:00\") => TransactionModel(10, 74.0052, 1)\n",
       "  DateTime(\"2022-11-14T12:45:00\") => TransactionModel(2, 74.7535, 1)\n",
       "  DateTime(\"2022-11-14T10:30:00\") => TransactionModel(2, 74.09, 1)\n",
       "  DateTime(\"2022-11-14T12:50:00\") => TransactionModel(2, 74.8468, 1)\n",
       "  DateTime(\"2022-11-14T09:05:00\") => TransactionModel(10, 73.3636, 1)\n",
       "  DateTime(\"2022-11-14T12:25:00\") => TransactionModel(2, 74.6076, -1)\n",
       "  DateTime(\"2022-11-14T10:15:00\") => TransactionModel(2, 74.2521, 1)\n",
       "  DateTime(\"2022-11-14T11:35:00\") => TransactionModel(2, 74.3923, 1)\n",
       "  DateTime(\"2022-11-14T09:35:00\") => TransactionModel(10, 73.9788, 1)\n",
       "  DateTime(\"2022-11-14T12:30:00\") => TransactionModel(2, 74.5627, 1)\n",
       "  DateTime(\"2022-11-14T10:05:00\") => TransactionModel(2, 74.1887, 1)\n",
       "  DateTime(\"2022-11-14T11:25:00\") => TransactionModel(2, 74.1493, 1)\n",
       "  DateTime(\"2022-11-14T10:35:00\") => TransactionModel(2, 73.9942, 1)\n",
       "  DateTime(\"2022-11-14T11:55:00\") => TransactionModel(2, 74.4153, 1)\n",
       "  DateTime(\"2022-11-14T09:00:00\") => TransactionModel(10, 73.4995, 1)\n",
       "  ⋮                               => ⋮"
      ]
     },
     "execution_count": 11,
     "metadata": {},
     "output_type": "execute_result"
    }
   ],
   "source": [
    "ledger"
   ]
  },
  {
   "cell_type": "code",
   "execution_count": null,
   "id": "b4bb88ab-728a-4b20-a60b-8c141903aca5",
   "metadata": {},
   "outputs": [],
   "source": []
  }
 ],
 "metadata": {
  "kernelspec": {
   "display_name": "Julia 1.8.0",
   "language": "julia",
   "name": "julia-1.8"
  },
  "language_info": {
   "file_extension": ".jl",
   "mimetype": "application/julia",
   "name": "julia",
   "version": "1.8.2"
  }
 },
 "nbformat": 4,
 "nbformat_minor": 5
}
