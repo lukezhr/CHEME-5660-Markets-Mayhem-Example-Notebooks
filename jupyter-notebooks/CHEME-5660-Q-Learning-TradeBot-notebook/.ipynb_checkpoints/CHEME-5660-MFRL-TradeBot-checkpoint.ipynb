{
 "cells": [
  {
   "cell_type": "markdown",
   "id": "7e5d38b9-d044-424b-b0ce-9104ae714630",
   "metadata": {},
   "source": [
    "## CHEME 5660: Building a Trading Bot using Model-Free Reinforcement Learning"
   ]
  },
  {
   "cell_type": "markdown",
   "id": "51147f0c-66d0-402c-8b55-b249aab8eb6a",
   "metadata": {},
   "source": [
    "### Introduction"
   ]
  },
  {
   "cell_type": "markdown",
   "id": "9dbf71fd-e5f2-48a6-adbc-c718214f7aef",
   "metadata": {},
   "source": [
    "### Example setup"
   ]
  },
  {
   "cell_type": "code",
   "execution_count": 1,
   "id": "19553510-5bc0-43ad-9329-92ad26fc8e5a",
   "metadata": {},
   "outputs": [
    {
     "name": "stderr",
     "output_type": "stream",
     "text": [
      "\u001b[32m\u001b[1m  Activating\u001b[22m\u001b[39m project at `~/Desktop/julia_work/CHEME-5660-Markets-Mayhem-Example-Notebooks/jupyter-notebooks/CHEME-5660-Q-Learning-TradeBot-notebook`\n",
      "\u001b[32m\u001b[1m  No Changes\u001b[22m\u001b[39m to `~/Desktop/julia_work/CHEME-5660-Markets-Mayhem-Example-Notebooks/jupyter-notebooks/CHEME-5660-Q-Learning-TradeBot-notebook/Project.toml`\n",
      "\u001b[32m\u001b[1m  No Changes\u001b[22m\u001b[39m to `~/Desktop/julia_work/CHEME-5660-Markets-Mayhem-Example-Notebooks/jupyter-notebooks/CHEME-5660-Q-Learning-TradeBot-notebook/Manifest.toml`\n"
     ]
    }
   ],
   "source": [
    "import Pkg; Pkg.activate(\".\"); Pkg.resolve(); Pkg.instantiate();"
   ]
  },
  {
   "cell_type": "code",
   "execution_count": 2,
   "id": "eee5681f-0b5f-42a5-9de5-dc9eb1009ac8",
   "metadata": {},
   "outputs": [],
   "source": [
    "# load req packages -\n",
    "using DataFrames\n",
    "using Dates\n",
    "using FileIO\n",
    "using JLD2\n",
    "using PrettyTables\n",
    "using Distributions\n",
    "using Statistics\n",
    "using DataFrames\n",
    "using Plots\n",
    "using Colors\n",
    "\n",
    "# setup paths -\n",
    "const _ROOT = pwd();\n",
    "const _PATH_TO_DATA = joinpath(_ROOT, \"data\");"
   ]
  },
  {
   "cell_type": "code",
   "execution_count": 3,
   "id": "3215d94e-fc3c-4574-a066-a8138975fbf3",
   "metadata": {},
   "outputs": [],
   "source": [
    "include(\"CHEME-5660-Example-CodeLib.jl\");"
   ]
  },
  {
   "cell_type": "markdown",
   "id": "ec0c0f2c-3705-4fc8-9089-f21bfb830e5f",
   "metadata": {},
   "source": [
    "### Setup constants and other resources"
   ]
  },
  {
   "cell_type": "code",
   "execution_count": 4,
   "id": "d8e39e8a-b45b-4181-9001-144e010fd7a9",
   "metadata": {},
   "outputs": [],
   "source": [
    "# 5-mim risk-free rate\n",
    "r̄ = 0.0403;\n",
    "risk_free_rate = ((1+r̄)^(1/19656) - 1);\n",
    "\n",
    "# how many days of historical data are we using?\n",
    "d = 1;       # we nₐ buy shares of XYZ for d-periods at the open of the training data \n",
    "nₐ = 1.0;    # how many shares do we want to buy, sell each day\n",
    "ϵ̂ = 0.5;    # cutoff\n",
    "\n",
    "# setup actions states -\n",
    "actions = [1,2,3]  ; # buy, sell, hold\n",
    "states = [1,2,3,4] ; # states defined below -"
   ]
  },
  {
   "cell_type": "markdown",
   "id": "2f244076-997b-4657-89de-b89e5477a492",
   "metadata": {},
   "source": [
    "#### Load and partition the OHLC price data set"
   ]
  },
  {
   "cell_type": "code",
   "execution_count": 5,
   "id": "45c94029-3f64-425b-ab0c-89876157db07",
   "metadata": {},
   "outputs": [],
   "source": [
    "# load the JLD2 portfolio data file -\n",
    "price_data_dictionary = load(joinpath(_PATH_TO_DATA, \"CHEME-5660-Portfolio-Q-learning-5min-11-20-22.jld2\"))[\"dd\"];\n",
    "\n",
    "# we have these ticker symbols in our data set -\n",
    "ticker_symbol_array = sort(keys(price_data_dictionary) |> collect);\n",
    "\n",
    "# Partition the data into a training and prediction set\n",
    "(price_training_dict, price_prediction_dict) = partition(price_data_dictionary; fraction=0.90);"
   ]
  },
  {
   "cell_type": "markdown",
   "id": "3201bc7a-5b83-424b-b6f2-bd978e507918",
   "metadata": {},
   "source": [
    "#### Establish an initial position"
   ]
  },
  {
   "cell_type": "code",
   "execution_count": 6,
   "id": "ff780531-4b61-47f4-9b5b-50287ef3505d",
   "metadata": {},
   "outputs": [],
   "source": [
    "# what ticker do we want to explore?\n",
    "ticker_symbol = \"AMD\";\n",
    "\n",
    "# get the df_training -\n",
    "df_training = price_data_dictionary[ticker_symbol];\n",
    "\n",
    "# get the df_prediction -\n",
    "# df_prediction = price_prediction_dict[ticker_symbol];"
   ]
  },
  {
   "cell_type": "markdown",
   "id": "cc8e99a9-4814-497b-8b02-0d0dfb6e3b5f",
   "metadata": {},
   "source": [
    "#### Establish state classes"
   ]
  },
  {
   "cell_type": "code",
   "execution_count": 7,
   "id": "6bb9d281-bb5e-40cf-980c-72152149e000",
   "metadata": {},
   "outputs": [
    {
     "name": "stdout",
     "output_type": "stream",
     "text": [
      "Long-term price Sₒ = 74.35207976318632 USD/share with σ̂ = 1.3875013494498032\n"
     ]
    }
   ],
   "source": [
    "# fit a distribution to vwap data -\n",
    "vwap_data = df_training[!,:volume_weighted_average_price];\n",
    "Nd = fit_mle(Normal, vwap_data);\n",
    "\n",
    "# get parameters -\n",
    "θ = params(Nd);\n",
    "\n",
    "# setup price -\n",
    "Sₒ = θ[1];\n",
    "σ̂ = θ[2];\n",
    "\n",
    "# print -\n",
    "println(\"Long-term price Sₒ = $(Sₒ) USD/share with σ̂ = $(σ̂)\")"
   ]
  },
  {
   "cell_type": "code",
   "execution_count": 8,
   "id": "3f47b6f9-2cca-48a6-b109-041c8f3f0a4b",
   "metadata": {},
   "outputs": [
    {
     "data": {
      "text/plain": [
       "2"
      ]
     },
     "execution_count": 8,
     "metadata": {},
     "output_type": "execute_result"
    }
   ],
   "source": [
    "# test -\n",
    "s = state(76.8; μ = Sₒ, σ = σ̂, ϵ=ϵ̂)"
   ]
  },
  {
   "cell_type": "code",
   "execution_count": 9,
   "id": "3250b524-e6a3-4fd7-afc1-0fc1e51dd3d4",
   "metadata": {},
   "outputs": [],
   "source": [
    "# setup ϵ sim -\n",
    "ϵ = 0.1;\n",
    "number_of_trials = 100;\n",
    "policy_array = Array{Int64,2}(undef, 4, number_of_trials);\n",
    "\n",
    "# setup categorical distribution for drawing a random action -\n",
    "action_distribution = Categorical([0.5,0.25,0.25]);\n",
    "\n",
    "for t ∈ 1:number_of_trials\n",
    "    \n",
    "    # initialize an empty ledger -\n",
    "    ledger_df = DataFrame(\n",
    "        time = DateTime[],\n",
    "        n = Float64[],\n",
    "        price = Float64[],\n",
    "        s = Int64[],\n",
    "        action = Int64[]\n",
    "    );\n",
    "\n",
    "    # initialize an empty Q -\n",
    "    Q_array = Array{Float64,2}(undef, length(states), length(actions));\n",
    "    fill!(Q_array, 0.0);\n",
    "    Q_array[1:2,2] .= 10.0;\n",
    "    Q_array[3:4,1] .= 10.0;\n",
    "\n",
    "    # build Q model -\n",
    "    QMODEL = QLearningModel();\n",
    "    QMODEL.γ = 0.95;\n",
    "    QMODEL.α = 0.05;\n",
    "    QMODEL.𝒮 = states;\n",
    "    QMODEL.𝒜 = actions;\n",
    "    QMODEL.Q = Q_array;\n",
    "    \n",
    "    # we buy 100 shares at initial price in the data -\n",
    "    transaction = (\n",
    "        time = df_training[1,:timestamp],\n",
    "        n = 100.0,\n",
    "        action = 1,\n",
    "        price = price(df_training,1),\n",
    "        s = state(price(df_training,1); μ = Sₒ, σ = σ̂, ϵ=ϵ̂) \n",
    "    );\n",
    "    push!(ledger_df, transaction)\n",
    "    \n",
    "    # main random simulation -\n",
    "    for i ∈ 2:(nrow(df_training) - 1)\n",
    "\n",
    "\n",
    "        # get data from the df_training -\n",
    "        p = price(df_training, i);\n",
    "        p′ = price(df_training, i+1);\n",
    "\n",
    "        # convert that to the current state -\n",
    "        s = state(p; μ = Sₒ, σ = σ̂, ϵ=ϵ̂);\n",
    "        s′ = state(p′; μ = Sₒ, σ = σ̂, ϵ=ϵ̂);\n",
    "\n",
    "        # roll a random number -\n",
    "        if (rand() < ϵ)\n",
    "\n",
    "            # roll a random action - \n",
    "            aᵢ = rand(action_distribution);\n",
    "            if (aᵢ == 1) # random action: buy\n",
    "\n",
    "                # compute a buy action -\n",
    "                transaction = (\n",
    "                    time = df_training[i,:timestamp],\n",
    "                    n = nₐ,\n",
    "                    action = 1,\n",
    "                    price = p, \n",
    "                    s = s\n",
    "                );\n",
    "                push!(ledger_df, transaction)\n",
    "\n",
    "            elseif (aᵢ == 2) # random action: sell\n",
    "\n",
    "                # compute a buy action -\n",
    "                transaction = (\n",
    "                    time = df_training[i,:timestamp],\n",
    "                    n = nₐ,\n",
    "                    action = 2,\n",
    "                    price = p,\n",
    "                    s = s\n",
    "                );\n",
    "                push!(ledger_df, transaction)\n",
    "\n",
    "            elseif (aᵢ == 3) # random action: hold\n",
    "\n",
    "                # compute a buy action -\n",
    "                transaction = (\n",
    "                    time = df_training[i,:timestamp],\n",
    "                    n = nₐ,\n",
    "                    action = 3,\n",
    "                    price = p,\n",
    "                    s = s\n",
    "                );\n",
    "                push!(ledger_df, transaction)\n",
    "            end\n",
    "        else\n",
    "\n",
    "            # ok, what action does my best guess say that I should take?\n",
    "            policy = π(QMODEL.Q);\n",
    "            aᵢ = policy[s];\n",
    "\n",
    "            # compute a buy action -\n",
    "            transaction = (\n",
    "                time = df_training[i,:timestamp],\n",
    "                n = nₐ,\n",
    "                action = aᵢ,\n",
    "                price = p,\n",
    "                s = s\n",
    "            );\n",
    "            push!(ledger_df, transaction)\n",
    "        end\n",
    "\n",
    "        # we've update the ledger - compute the return per share if we sold everything -\n",
    "        Rᵢ = liquidate(ledger_df,  p′);\n",
    "\n",
    "        # update the QMODEL -\n",
    "        update!(QMODEL,s,aᵢ,Rᵢ,s′);\n",
    "    end\n",
    "    \n",
    "    pvec = π(Q_array)\n",
    "    policy_array[1,t] = pvec[1]\n",
    "    policy_array[2,t] = pvec[2]\n",
    "    policy_array[3,t] = pvec[3]\n",
    "    policy_array[4,t] = pvec[4]\n",
    "end"
   ]
  },
  {
   "cell_type": "code",
   "execution_count": 17,
   "id": "8af638df-114c-4c4b-932e-573b759f197e",
   "metadata": {},
   "outputs": [
    {
     "data": {
      "text/plain": [
       "96-element Vector{Int64}:\n",
       "   1\n",
       "   2\n",
       "   3\n",
       "   4\n",
       "   5\n",
       "   6\n",
       "   7\n",
       "   8\n",
       "   9\n",
       "  10\n",
       "  11\n",
       "  12\n",
       "  13\n",
       "   ⋮\n",
       "  88\n",
       "  90\n",
       "  91\n",
       "  92\n",
       "  93\n",
       "  94\n",
       "  95\n",
       "  96\n",
       "  97\n",
       "  98\n",
       "  99\n",
       " 100"
      ]
     },
     "execution_count": 17,
     "metadata": {},
     "output_type": "execute_result"
    }
   ],
   "source": [
    "idx = findall(x->x==1, policy_array[3,:])"
   ]
  },
  {
   "cell_type": "code",
   "execution_count": 11,
   "id": "7054791e-a608-4ebc-9e2f-4762472bda91",
   "metadata": {},
   "outputs": [],
   "source": [
    "# # initialize an empty ledger -\n",
    "# prediction_ledger_df = DataFrame(\n",
    "#     time = DateTime[],\n",
    "#     n = Float64[],\n",
    "#     price = Float64[],\n",
    "#     s = Int64[],\n",
    "#     action = Int64[]\n",
    "# );\n",
    "\n",
    "# # initial buy transaction -\n",
    "# transaction = (\n",
    "#     time = df_prediction[1,:timestamp],\n",
    "#     n = 100.0,\n",
    "#     action = 1,\n",
    "#     price = price(df_prediction,1),\n",
    "#     s = state(price(df_prediction,1); μ = Sₒ, σ = σ̂) \n",
    "# );\n",
    "# push!(prediction_ledger_df, transaction);"
   ]
  },
  {
   "cell_type": "code",
   "execution_count": 12,
   "id": "fa73eaad-3669-4171-a70d-2f6f3a6d5c44",
   "metadata": {},
   "outputs": [
    {
     "data": {
      "text/plain": [
       "4-element Vector{Int64}:\n",
       " 2\n",
       " 2\n",
       " 1\n",
       " 3"
      ]
     },
     "execution_count": 12,
     "metadata": {},
     "output_type": "execute_result"
    }
   ],
   "source": [
    "policy_array[:,1]"
   ]
  },
  {
   "cell_type": "code",
   "execution_count": 13,
   "id": "af446ccf-33b9-4188-9af2-41ebaee82e1d",
   "metadata": {},
   "outputs": [
    {
     "ename": "LoadError",
     "evalue": "UndefVarError: df_prediction not defined",
     "output_type": "error",
     "traceback": [
      "UndefVarError: df_prediction not defined",
      "",
      "Stacktrace:",
      " [1] top-level scope",
      "   @ In[13]:2",
      " [2] eval",
      "   @ ./boot.jl:368 [inlined]",
      " [3] include_string(mapexpr::typeof(REPL.softscope), mod::Module, code::String, filename::String)",
      "   @ Base ./loading.jl:1428"
     ]
    }
   ],
   "source": [
    "# wealth simulation -\n",
    "number_of_prediction_steps = nrow(df_prediction);\n",
    "# for i ∈ 2:(number_of_prediction_steps - 1)\n",
    "    \n",
    "#     # compute the state -\n",
    "#     p = price(df_prediction, i);\n",
    "#     s = state(p; μ = Sₒ, σ = σ̂)\n",
    "    \n",
    "#     # policy -\n",
    "#     if (s == 1)\n",
    "#         aᵢ = 2;\n",
    "#     elseif (s == 2)\n",
    "#         aᵢ = 2;\n",
    "#     elseif (s == 3)\n",
    "#         aᵢ = 1;\n",
    "#     elseif (s == 4)\n",
    "#         aᵢ = 1;\n",
    "#     end\n",
    "    \n",
    "#     # compute a buy action -\n",
    "#     transaction = (\n",
    "#         time = df_prediction[i,:timestamp],\n",
    "#         n = nₐ,\n",
    "#         action = aᵢ,\n",
    "#         price = p,\n",
    "#         s = s\n",
    "#     );\n",
    "#     push!(prediction_ledger_df, transaction)\n",
    "# end"
   ]
  },
  {
   "cell_type": "code",
   "execution_count": null,
   "id": "dd90bc19-584a-42de-bfb7-5b9cc7c89a11",
   "metadata": {},
   "outputs": [],
   "source": []
  },
  {
   "cell_type": "code",
   "execution_count": null,
   "id": "5a781208-bd6e-4ce0-ae91-66bc3315d3b0",
   "metadata": {},
   "outputs": [],
   "source": []
  }
 ],
 "metadata": {
  "kernelspec": {
   "display_name": "Julia 1.8.0",
   "language": "julia",
   "name": "julia-1.8"
  },
  "language_info": {
   "file_extension": ".jl",
   "mimetype": "application/julia",
   "name": "julia",
   "version": "1.8.2"
  }
 },
 "nbformat": 4,
 "nbformat_minor": 5
}
