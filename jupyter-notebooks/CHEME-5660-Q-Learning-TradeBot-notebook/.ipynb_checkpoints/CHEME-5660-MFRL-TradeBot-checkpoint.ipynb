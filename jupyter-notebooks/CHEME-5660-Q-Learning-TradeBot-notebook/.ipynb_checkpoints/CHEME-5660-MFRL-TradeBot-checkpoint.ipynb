{
 "cells": [
  {
   "cell_type": "markdown",
   "id": "7e5d38b9-d044-424b-b0ce-9104ae714630",
   "metadata": {},
   "source": [
    "## CHEME 5660: Building a Trading Bot using Model-Free Reinforcement Learning"
   ]
  },
  {
   "cell_type": "markdown",
   "id": "51147f0c-66d0-402c-8b55-b249aab8eb6a",
   "metadata": {},
   "source": [
    "### Introduction"
   ]
  },
  {
   "cell_type": "markdown",
   "id": "9dbf71fd-e5f2-48a6-adbc-c718214f7aef",
   "metadata": {},
   "source": [
    "### Example setup"
   ]
  },
  {
   "cell_type": "code",
   "execution_count": 1,
   "id": "19553510-5bc0-43ad-9329-92ad26fc8e5a",
   "metadata": {},
   "outputs": [
    {
     "name": "stderr",
     "output_type": "stream",
     "text": [
      "\u001b[32m\u001b[1m  Activating\u001b[22m\u001b[39m project at `~/Desktop/julia_work/CHEME-5660-Markets-Mayhem-Example-Notebooks/jupyter-notebooks/CHEME-5660-Q-Learning-TradeBot-notebook`\n",
      "\u001b[32m\u001b[1m  No Changes\u001b[22m\u001b[39m to `~/Desktop/julia_work/CHEME-5660-Markets-Mayhem-Example-Notebooks/jupyter-notebooks/CHEME-5660-Q-Learning-TradeBot-notebook/Project.toml`\n",
      "\u001b[32m\u001b[1m  No Changes\u001b[22m\u001b[39m to `~/Desktop/julia_work/CHEME-5660-Markets-Mayhem-Example-Notebooks/jupyter-notebooks/CHEME-5660-Q-Learning-TradeBot-notebook/Manifest.toml`\n"
     ]
    }
   ],
   "source": [
    "import Pkg; Pkg.activate(\".\"); Pkg.resolve(); Pkg.instantiate();"
   ]
  },
  {
   "cell_type": "code",
   "execution_count": 2,
   "id": "eee5681f-0b5f-42a5-9de5-dc9eb1009ac8",
   "metadata": {},
   "outputs": [],
   "source": [
    "# load req packages -\n",
    "using DataFrames\n",
    "using Dates\n",
    "using FileIO\n",
    "using JLD2\n",
    "using PrettyTables\n",
    "using Distributions\n",
    "\n",
    "# setup paths -\n",
    "const _ROOT = pwd();\n",
    "const _PATH_TO_DATA = joinpath(_ROOT, \"data\");"
   ]
  },
  {
   "cell_type": "code",
   "execution_count": 25,
   "id": "3215d94e-fc3c-4574-a066-a8138975fbf3",
   "metadata": {},
   "outputs": [],
   "source": [
    "include(\"CHEME-5660-Example-CodeLib.jl\");"
   ]
  },
  {
   "cell_type": "markdown",
   "id": "ec0c0f2c-3705-4fc8-9089-f21bfb830e5f",
   "metadata": {},
   "source": [
    "### Setup constants and other resources"
   ]
  },
  {
   "cell_type": "code",
   "execution_count": 13,
   "id": "d8e39e8a-b45b-4181-9001-144e010fd7a9",
   "metadata": {},
   "outputs": [],
   "source": [
    "# how many days of historical data are we using?\n",
    "m̂ = 299;   # you get to choose this\n",
    "d̂ = 10;    # we nₐ buy shares of XYZ each day at the open for d̂ days \n",
    "λ̂ = 0.001; # you get to choose this: Boltzmann weighting factor λ̂ = 0.0 gives unweigted\n",
    "lotsize = 10.0; # how many shares do we buy at the open?\n",
    "nₐ = 1.0; # how many shares do we want to buy, sell each day\n",
    "\n",
    "# what does our training data start?\n",
    "cursor = d̂ + 1;\n",
    "\n",
    "# setup actions states -\n",
    "actions = [1,2,3]; # buy, sell, hold\n",
    "\n",
    "# setup out states -\n",
    "states = [1,2]; # s1 => current share price higher than Sbar, s2 => current share price lower than Sbar\n",
    "\n",
    "# initialize Q -\n",
    "Q = Array{Float64,2}(undef, length(states), length(actions));\n",
    "fill!(Q, 0.0)\n",
    "\n",
    "# trade-ledger \n",
    "trade_ledger = Dict{Int64,Pair{Float64,Float64}}();\n",
    "\n",
    "# fraction we explore, versus exploit -\n",
    "ϵ = 0.20;"
   ]
  },
  {
   "cell_type": "code",
   "execution_count": 5,
   "id": "7f9323f2-edd1-4484-895d-a4eac078d5a0",
   "metadata": {},
   "outputs": [],
   "source": [
    "# what is my prior data -\n",
    "action_distribution = Categorical([0.60,0.10,0.30]); # when exploring, we are biased toward buying"
   ]
  },
  {
   "cell_type": "markdown",
   "id": "2f244076-997b-4657-89de-b89e5477a492",
   "metadata": {},
   "source": [
    "#### Load, clean and partition the OHLC price data set"
   ]
  },
  {
   "cell_type": "code",
   "execution_count": 6,
   "id": "45c94029-3f64-425b-ab0c-89876157db07",
   "metadata": {},
   "outputs": [
    {
     "name": "stdout",
     "output_type": "stream",
     "text": [
      "Length violation: META was removed; dim(SPY) = 510 days and dim(META) = 260 days\n"
     ]
    }
   ],
   "source": [
    "# load the JLD2 portfolio data file -\n",
    "price_data_dictionary = clean(load(joinpath(_PATH_TO_DATA, \"CHEME-5660-Portfolio-11-17-22.jld2\"))[\"dd\"]);\n",
    "\n",
    "# we have these ticker symbols in our data set -\n",
    "ticker_symbol_array = sort(keys(price_data_dictionary) |> collect);\n",
    "\n",
    "# How many ticker symbols do we have?\n",
    "Nₐ = length(ticker_symbol_array);\n",
    "\n",
    "# Partition the data into a training and prediction set\n",
    "(price_training_dict, price_prediction_dict) = partition(price_data_dictionary, (m̂+1));"
   ]
  },
  {
   "cell_type": "markdown",
   "id": "3201bc7a-5b83-424b-b6f2-bd978e507918",
   "metadata": {},
   "source": [
    "#### Establish initial position"
   ]
  },
  {
   "cell_type": "code",
   "execution_count": 14,
   "id": "ff780531-4b61-47f4-9b5b-50287ef3505d",
   "metadata": {},
   "outputs": [],
   "source": [
    "# what ticker do we want to explore?\n",
    "ticker_symbol = \"AMD\";\n",
    "\n",
    "# get the df_training -\n",
    "df_training = price_training_dict[ticker_symbol];\n",
    "\n",
    "# tmp -\n",
    "(S̄, n_total_initial) = initialize_position(df_training; lotsize = lotsize, days=d̂);\n",
    "\n",
    "# add these trades to the trade_ledger -\n",
    "for d ∈ 1:d̂\n",
    "    price = df_training[d,:open];\n",
    "    trade_ledger[d] = lotsize => price\n",
    "end"
   ]
  },
  {
   "cell_type": "markdown",
   "id": "96d90242-9266-4e77-982a-eb2f6c51a4aa",
   "metadata": {},
   "source": [
    "#### Run a purely exploratory system"
   ]
  },
  {
   "cell_type": "code",
   "execution_count": 16,
   "id": "049d2a5b-60f3-43a1-af40-b45e2ce1d200",
   "metadata": {},
   "outputs": [],
   "source": [
    "for i ∈ cursor:nrow(df_training)\n",
    "    \n",
    "    # pick a random action -\n",
    "    aᵢ = rand(action_distribution);\n",
    "    \n",
    "    if aᵢ == 1\n",
    "        \n",
    "        # we are buying -\n",
    "        Sᵢ = df_training[i, :volume_weighted_average_price];\n",
    "        \n",
    "        # enter a transction in the ledger -\n",
    "        trade_ledger[i] = lotsize => Sᵢ\n",
    "        \n",
    "    elseif aᵢ == 2\n",
    "        \n",
    "        # we are selling -\n",
    "        Sᵢ = df_training[i, :volume_weighted_average_price];\n",
    "        proposed_trade =  -lotsize => Sᵢ\n",
    "        \n",
    "        if (confirm(trade_ledger, proposed_trade) == true)\n",
    "            # trade is ok, let's add it to the ledger\n",
    "            trade_ledger[i] = proposed_trade\n",
    "        end\n",
    "    end\n",
    "end"
   ]
  },
  {
   "cell_type": "code",
   "execution_count": 24,
   "id": "a3b22708-84c3-4ab5-a4bc-ce40d924e279",
   "metadata": {},
   "outputs": [
    {
     "data": {
      "text/plain": [
       "10.0 => 86.7819"
      ]
     },
     "execution_count": 24,
     "metadata": {},
     "output_type": "execute_result"
    }
   ],
   "source": [
    "trade_ledger[13]"
   ]
  },
  {
   "cell_type": "code",
   "execution_count": null,
   "id": "2ae2224a-7666-422e-8a16-f0fb7cf38910",
   "metadata": {},
   "outputs": [],
   "source": []
  }
 ],
 "metadata": {
  "kernelspec": {
   "display_name": "Julia 1.8.0",
   "language": "julia",
   "name": "julia-1.8"
  },
  "language_info": {
   "file_extension": ".jl",
   "mimetype": "application/julia",
   "name": "julia",
   "version": "1.8.2"
  }
 },
 "nbformat": 4,
 "nbformat_minor": 5
}
