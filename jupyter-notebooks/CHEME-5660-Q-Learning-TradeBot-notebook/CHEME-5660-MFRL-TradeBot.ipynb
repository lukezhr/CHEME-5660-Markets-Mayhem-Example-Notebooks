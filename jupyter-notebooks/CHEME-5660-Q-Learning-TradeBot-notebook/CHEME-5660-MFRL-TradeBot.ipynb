{
 "cells": [
  {
   "cell_type": "markdown",
   "id": "7e5d38b9-d044-424b-b0ce-9104ae714630",
   "metadata": {},
   "source": [
    "## CHEME 5660: Building a Trading Bot using Model-Free Reinforcement Learning"
   ]
  },
  {
   "cell_type": "markdown",
   "id": "51147f0c-66d0-402c-8b55-b249aab8eb6a",
   "metadata": {},
   "source": [
    "### Introduction"
   ]
  },
  {
   "cell_type": "markdown",
   "id": "9dbf71fd-e5f2-48a6-adbc-c718214f7aef",
   "metadata": {},
   "source": [
    "### Example setup"
   ]
  },
  {
   "cell_type": "code",
   "execution_count": 1,
   "id": "19553510-5bc0-43ad-9329-92ad26fc8e5a",
   "metadata": {},
   "outputs": [
    {
     "name": "stderr",
     "output_type": "stream",
     "text": [
      "\u001b[32m\u001b[1m  Activating\u001b[22m\u001b[39m project at `~/Desktop/julia_work/CHEME-5660-Markets-Mayhem-Example-Notebooks/jupyter-notebooks/CHEME-5660-Q-Learning-TradeBot-notebook`\n",
      "\u001b[32m\u001b[1m  No Changes\u001b[22m\u001b[39m to `~/Desktop/julia_work/CHEME-5660-Markets-Mayhem-Example-Notebooks/jupyter-notebooks/CHEME-5660-Q-Learning-TradeBot-notebook/Project.toml`\n",
      "\u001b[32m\u001b[1m  No Changes\u001b[22m\u001b[39m to `~/Desktop/julia_work/CHEME-5660-Markets-Mayhem-Example-Notebooks/jupyter-notebooks/CHEME-5660-Q-Learning-TradeBot-notebook/Manifest.toml`\n"
     ]
    }
   ],
   "source": [
    "import Pkg; Pkg.activate(\".\"); Pkg.resolve(); Pkg.instantiate();"
   ]
  },
  {
   "cell_type": "code",
   "execution_count": 2,
   "id": "eee5681f-0b5f-42a5-9de5-dc9eb1009ac8",
   "metadata": {},
   "outputs": [],
   "source": [
    "# load req packages -\n",
    "using DataFrames\n",
    "using Dates\n",
    "using FileIO\n",
    "using JLD2\n",
    "using PrettyTables\n",
    "using Distributions\n",
    "using Statistics\n",
    "using DataFrames\n",
    "\n",
    "# setup paths -\n",
    "const _ROOT = pwd();\n",
    "const _PATH_TO_DATA = joinpath(_ROOT, \"data\");"
   ]
  },
  {
   "cell_type": "code",
   "execution_count": 3,
   "id": "3215d94e-fc3c-4574-a066-a8138975fbf3",
   "metadata": {},
   "outputs": [],
   "source": [
    "include(\"CHEME-5660-Example-CodeLib.jl\");"
   ]
  },
  {
   "cell_type": "markdown",
   "id": "ec0c0f2c-3705-4fc8-9089-f21bfb830e5f",
   "metadata": {},
   "source": [
    "### Setup constants and other resources"
   ]
  },
  {
   "cell_type": "code",
   "execution_count": 4,
   "id": "d8e39e8a-b45b-4181-9001-144e010fd7a9",
   "metadata": {},
   "outputs": [],
   "source": [
    "# how many days of historical data are we using?\n",
    "d = 12;         # we nₐ buy shares of XYZ for d-periods at the open of the training data \n",
    "lotsize = 10.0; # how many shares do we buy at the open?\n",
    "nₐ = 1.0;       # how many shares do we want to buy, sell each day\n",
    "\n",
    "# what does our training data start?\n",
    "cursor = d;\n",
    "\n",
    "# how many steps in an episode?\n",
    "number_of_episodes = 6;            # number of episodes\n",
    "number_of_steps_per_episodes = 12; # episodes are two hours long\n",
    "\n",
    "# setup actions states -\n",
    "actions = [1,2,3]; # buy, sell, hold\n",
    "\n",
    "# setup my episodes container -\n",
    "episodes = Array{Dict{DateTime,TransactionModel},1}();"
   ]
  },
  {
   "cell_type": "code",
   "execution_count": 5,
   "id": "7f9323f2-edd1-4484-895d-a4eac078d5a0",
   "metadata": {},
   "outputs": [],
   "source": [
    "# what is my prior data -\n",
    "action_distribution = Categorical([0.60,0.10,0.30]); # when exploring, we are biased toward buying"
   ]
  },
  {
   "cell_type": "markdown",
   "id": "2f244076-997b-4657-89de-b89e5477a492",
   "metadata": {},
   "source": [
    "#### Load and partition the OHLC price data set"
   ]
  },
  {
   "cell_type": "code",
   "execution_count": 6,
   "id": "45c94029-3f64-425b-ab0c-89876157db07",
   "metadata": {},
   "outputs": [],
   "source": [
    "# load the JLD2 portfolio data file -\n",
    "price_data_dictionary = load(joinpath(_PATH_TO_DATA, \"CHEME-5660-Portfolio-Q-learning-5min-11-20-22.jld2\"))[\"dd\"];\n",
    "\n",
    "# we have these ticker symbols in our data set -\n",
    "ticker_symbol_array = sort(keys(price_data_dictionary) |> collect);\n",
    "\n",
    "# Partition the data into a training and prediction set\n",
    "(price_training_dict, price_prediction_dict) = partition(price_data_dictionary; fraction=0.80);"
   ]
  },
  {
   "cell_type": "markdown",
   "id": "3201bc7a-5b83-424b-b6f2-bd978e507918",
   "metadata": {},
   "source": [
    "#### Establish an initial position"
   ]
  },
  {
   "cell_type": "code",
   "execution_count": 7,
   "id": "ff780531-4b61-47f4-9b5b-50287ef3505d",
   "metadata": {},
   "outputs": [],
   "source": [
    "# what ticker do we want to explore?\n",
    "ticker_symbol = \"AMD\";\n",
    "\n",
    "# get the df_training -\n",
    "df_training = price_training_dict[ticker_symbol];\n",
    "\n",
    "# whate are my timestamps -\n",
    "timestamp_array = sort(df_training[:,:timestamp]) |> collect;"
   ]
  },
  {
   "cell_type": "markdown",
   "id": "96d90242-9266-4e77-982a-eb2f6c51a4aa",
   "metadata": {},
   "source": [
    "#### Run a purely random agent"
   ]
  },
  {
   "cell_type": "code",
   "execution_count": 8,
   "id": "049d2a5b-60f3-43a1-af40-b45e2ce1d200",
   "metadata": {},
   "outputs": [
    {
     "name": "stdout",
     "output_type": "stream",
     "text": [
      "vwap Sᵢ = 73.87960864415126\n",
      "vwap Sᵢ = 74.11220194112538\n",
      "vwap Sᵢ = 74.37784026950831\n",
      "vwap Sᵢ = 74.8247435513092\n",
      "vwap Sᵢ = 74.7355901948362\n",
      "vwap Sᵢ = 73.92626022679836\n"
     ]
    }
   ],
   "source": [
    "# setup -\n",
    "initialize_start_index = 1;\n",
    "initialize_stop_index = d; # d = 12 = 1hr\n",
    "\n",
    "# main loop -\n",
    "for i = 1:number_of_episodes\n",
    "    \n",
    "    # initialize -\n",
    "    ledger = initialize(df_training; lotsize = lotsize, start=initialize_start_index, stop=initialize_stop_index);\n",
    "    \n",
    "    # compute the vwap -\n",
    "    Sᵢ = vwap(ledger);\n",
    "    \n",
    "    println(\"vwap Sᵢ = $(Sᵢ)\")\n",
    "    \n",
    "    # steps per epsiode -\n",
    "    for i ∈ 1:number_of_steps_per_episodes\n",
    "        \n",
    "        # pick a random action -\n",
    "        aᵢ = rand(action_distribution);\n",
    "    \n",
    "        # grab the time stamp and price data -\n",
    "        current_cursor = initialize_stop_index + i\n",
    "        next_cursor = current_cursor + 1;\n",
    "        event_open_timestamp = timestamp_array[current_cursor];\n",
    "        event_close_timestamp = timestamp_array[next_cursor];\n",
    "        p̂₁ = price(df_training, event_open_timestamp)\n",
    "        p̂₂ = price(df_training, event_close_timestamp);\n",
    "    \n",
    "        # we implement the action now, we get the next price -\n",
    "        sense_flag = 1;\n",
    "        if (aᵢ == 2)\n",
    "            sense_flag = -1;\n",
    "        elseif (aᵢ == 3)\n",
    "            sense_flag = 0;\n",
    "        end;\n",
    "    \n",
    "        # build a proposed trade model -\n",
    "        proposed_trade = build(TransactionModel, volume = nₐ, sense = sense_flag, p₁ = p̂₁, p₂ = p̂₂);\n",
    "\n",
    "        # confirm this trade -\n",
    "        if (confirm(ledger, proposed_trade) == true)\n",
    "            ledger[event_open_timestamp] = proposed_trade;\n",
    "        end\n",
    "    end\n",
    "    \n",
    "    # update the cursor positions -\n",
    "    initialize_start_index = (initialize_stop_index + 3);\n",
    "    initialize_stop_index = (initialize_start_index + d - 1);\n",
    "    \n",
    "    # grab -\n",
    "    push!(episodes, ledger);\n",
    "end"
   ]
  },
  {
   "cell_type": "code",
   "execution_count": 9,
   "id": "996a1146-0e61-4323-bd0a-7b8734736270",
   "metadata": {},
   "outputs": [
    {
     "data": {
      "text/plain": [
       "Dict{DateTime, TransactionModel} with 24 entries:\n",
       "  DateTime(\"2022-11-14T11:05:00\") => TransactionModel(10, 74.1, 74.1, 1)\n",
       "  DateTime(\"2022-11-14T11:45:00\") => TransactionModel(1, 74.4531, 74.4908, 1)\n",
       "  DateTime(\"2022-11-14T12:00:00\") => TransactionModel(1, 74.3143, 74.7406, 1)\n",
       "  DateTime(\"2022-11-14T10:55:00\") => TransactionModel(10, 74.1643, 74.1643, 1)\n",
       "  DateTime(\"2022-11-14T11:40:00\") => TransactionModel(1, 74.4328, 74.4636, 1)\n",
       "  DateTime(\"2022-11-14T10:20:00\") => TransactionModel(10, 74.2462, 74.2462, 1)\n",
       "  DateTime(\"2022-11-14T10:50:00\") => TransactionModel(10, 74.004, 74.004, 1)\n",
       "  DateTime(\"2022-11-14T11:10:00\") => TransactionModel(10, 73.8534, 73.8534, 1)\n",
       "  DateTime(\"2022-11-14T12:10:00\") => TransactionModel(1, 74.6459, 74.6984, 1)\n",
       "  DateTime(\"2022-11-14T10:15:00\") => TransactionModel(10, 74.2961, 74.2961, 1)\n",
       "  DateTime(\"2022-11-14T10:25:00\") => TransactionModel(10, 74.1968, 74.1968, 1)\n",
       "  DateTime(\"2022-11-14T11:20:00\") => TransactionModel(1, 74.0011, 73.9909, 1)\n",
       "  DateTime(\"2022-11-14T10:40:00\") => TransactionModel(10, 74.0024, 74.0024, 1)\n",
       "  DateTime(\"2022-11-14T11:35:00\") => TransactionModel(1, 74.3962, 74.3182, 1)\n",
       "  DateTime(\"2022-11-14T11:00:00\") => TransactionModel(10, 74.2918, 74.2918, 1)\n",
       "  DateTime(\"2022-11-14T12:05:00\") => TransactionModel(1, 74.5777, 74.5278, 1)\n",
       "  DateTime(\"2022-11-14T11:30:00\") => TransactionModel(1, 74.3105, 74.3805, 1)\n",
       "  DateTime(\"2022-11-14T11:50:00\") => TransactionModel(1, 74.4732, 74.3589, -1)\n",
       "  DateTime(\"2022-11-14T11:25:00\") => TransactionModel(1, 73.9914, 74.3603, 0)\n",
       "  DateTime(\"2022-11-14T10:35:00\") => TransactionModel(10, 74.09, 74.09, 1)\n",
       "  DateTime(\"2022-11-14T11:55:00\") => TransactionModel(1, 74.3592, 74.348, 1)\n",
       "  DateTime(\"2022-11-14T10:30:00\") => TransactionModel(10, 74.12, 74.12, 1)\n",
       "  DateTime(\"2022-11-14T11:15:00\") => TransactionModel(1, 73.9308, 74.0132, 1)\n",
       "  DateTime(\"2022-11-14T10:45:00\") => TransactionModel(10, 73.9815, 73.9815, 1)"
      ]
     },
     "execution_count": 9,
     "metadata": {},
     "output_type": "execute_result"
    }
   ],
   "source": [
    "Z = episodes[2]"
   ]
  },
  {
   "cell_type": "code",
   "execution_count": 10,
   "id": "055e66c9-ab53-4064-9958-ba4ff14616e4",
   "metadata": {},
   "outputs": [
    {
     "data": {
      "text/html": [
       "<div><div style = \"float: left;\"><span>72×5 DataFrame</span></div><div style = \"float: right;\"><span style = \"font-style: italic;\">47 rows omitted</span></div><div style = \"clear: both;\"></div></div><div class = \"data-frame\" style = \"overflow-x: scroll;\"><table class = \"data-frame\" style = \"margin-bottom: 6px;\"><thead><tr class = \"header\"><th class = \"rowNumber\" style = \"font-weight: bold; text-align: right;\">Row</th><th style = \"text-align: left;\">s</th><th style = \"text-align: left;\">s′</th><th style = \"text-align: left;\">vwap</th><th style = \"text-align: left;\">a</th><th style = \"text-align: left;\">r</th></tr><tr class = \"subheader headerLastRow\"><th class = \"rowNumber\" style = \"font-weight: bold; text-align: right;\"></th><th title = \"Float64\" style = \"text-align: left;\">Float64</th><th title = \"Float64\" style = \"text-align: left;\">Float64</th><th title = \"Float64\" style = \"text-align: left;\">Float64</th><th title = \"Int64\" style = \"text-align: left;\">Int64</th><th title = \"Float64\" style = \"text-align: left;\">Float64</th></tr></thead><tbody><tr><td class = \"rowNumber\" style = \"font-weight: bold; text-align: right;\">1</td><td style = \"text-align: right;\">73.9724</td><td style = \"text-align: right;\">74.2496</td><td style = \"text-align: right;\">73.8796</td><td style = \"text-align: right;\">1</td><td style = \"text-align: right;\">0.374036</td></tr><tr><td class = \"rowNumber\" style = \"font-weight: bold; text-align: right;\">2</td><td style = \"text-align: right;\">74.2099</td><td style = \"text-align: right;\">74.2545</td><td style = \"text-align: right;\">73.8796</td><td style = \"text-align: right;\">0</td><td style = \"text-align: right;\">0.0600968</td></tr><tr><td class = \"rowNumber\" style = \"font-weight: bold; text-align: right;\">3</td><td style = \"text-align: right;\">74.2771</td><td style = \"text-align: right;\">74.2975</td><td style = \"text-align: right;\">73.8796</td><td style = \"text-align: right;\">0</td><td style = \"text-align: right;\">0.027571</td></tr><tr><td class = \"rowNumber\" style = \"font-weight: bold; text-align: right;\">4</td><td style = \"text-align: right;\">74.23</td><td style = \"text-align: right;\">74.2975</td><td style = \"text-align: right;\">73.8796</td><td style = \"text-align: right;\">-1</td><td style = \"text-align: right;\">0.0908087</td></tr><tr><td class = \"rowNumber\" style = \"font-weight: bold; text-align: right;\">5</td><td style = \"text-align: right;\">73.9508</td><td style = \"text-align: right;\">74.12</td><td style = \"text-align: right;\">73.8796</td><td style = \"text-align: right;\">1</td><td style = \"text-align: right;\">0.228507</td></tr><tr><td class = \"rowNumber\" style = \"font-weight: bold; text-align: right;\">6</td><td style = \"text-align: right;\">74.12</td><td style = \"text-align: right;\">74.09</td><td style = \"text-align: right;\">73.8796</td><td style = \"text-align: right;\">0</td><td style = \"text-align: right;\">-0.0404831</td></tr><tr><td class = \"rowNumber\" style = \"font-weight: bold; text-align: right;\">7</td><td style = \"text-align: right;\">74.09</td><td style = \"text-align: right;\">74.0479</td><td style = \"text-align: right;\">73.8796</td><td style = \"text-align: right;\">1</td><td style = \"text-align: right;\">-0.0568341</td></tr><tr><td class = \"rowNumber\" style = \"font-weight: bold; text-align: right;\">8</td><td style = \"text-align: right;\">74.031</td><td style = \"text-align: right;\">73.9564</td><td style = \"text-align: right;\">73.8796</td><td style = \"text-align: right;\">-1</td><td style = \"text-align: right;\">-0.100818</td></tr><tr><td class = \"rowNumber\" style = \"font-weight: bold; text-align: right;\">9</td><td style = \"text-align: right;\">73.9652</td><td style = \"text-align: right;\">74.0262</td><td style = \"text-align: right;\">73.8796</td><td style = \"text-align: right;\">1</td><td style = \"text-align: right;\">0.0824715</td></tr><tr><td class = \"rowNumber\" style = \"font-weight: bold; text-align: right;\">10</td><td style = \"text-align: right;\">74.0213</td><td style = \"text-align: right;\">74.1786</td><td style = \"text-align: right;\">73.8796</td><td style = \"text-align: right;\">1</td><td style = \"text-align: right;\">0.212305</td></tr><tr><td class = \"rowNumber\" style = \"font-weight: bold; text-align: right;\">11</td><td style = \"text-align: right;\">74.176</td><td style = \"text-align: right;\">74.295</td><td style = \"text-align: right;\">73.8796</td><td style = \"text-align: right;\">1</td><td style = \"text-align: right;\">0.160406</td></tr><tr><td class = \"rowNumber\" style = \"font-weight: bold; text-align: right;\">12</td><td style = \"text-align: right;\">74.2864</td><td style = \"text-align: right;\">74.1</td><td style = \"text-align: right;\">73.8796</td><td style = \"text-align: right;\">1</td><td style = \"text-align: right;\">-0.251264</td></tr><tr><td class = \"rowNumber\" style = \"font-weight: bold; text-align: right;\">13</td><td style = \"text-align: right;\">73.9308</td><td style = \"text-align: right;\">74.0132</td><td style = \"text-align: right;\">74.1122</td><td style = \"text-align: right;\">1</td><td style = \"text-align: right;\">0.11147</td></tr><tr><td style = \"text-align: right;\">&vellip;</td><td style = \"text-align: right;\">&vellip;</td><td style = \"text-align: right;\">&vellip;</td><td style = \"text-align: right;\">&vellip;</td><td style = \"text-align: right;\">&vellip;</td><td style = \"text-align: right;\">&vellip;</td></tr><tr><td class = \"rowNumber\" style = \"font-weight: bold; text-align: right;\">61</td><td style = \"text-align: right;\">74.4185</td><td style = \"text-align: right;\">74.0989</td><td style = \"text-align: right;\">73.9263</td><td style = \"text-align: right;\">1</td><td style = \"text-align: right;\">-0.430379</td></tr><tr><td class = \"rowNumber\" style = \"font-weight: bold; text-align: right;\">62</td><td style = \"text-align: right;\">73.977</td><td style = \"text-align: right;\">74.1451</td><td style = \"text-align: right;\">73.9263</td><td style = \"text-align: right;\">1</td><td style = \"text-align: right;\">0.226979</td></tr><tr><td class = \"rowNumber\" style = \"font-weight: bold; text-align: right;\">63</td><td style = \"text-align: right;\">73.927</td><td style = \"text-align: right;\">73.731</td><td style = \"text-align: right;\">73.9263</td><td style = \"text-align: right;\">1</td><td style = \"text-align: right;\">-0.265485</td></tr><tr><td class = \"rowNumber\" style = \"font-weight: bold; text-align: right;\">64</td><td style = \"text-align: right;\">73.8191</td><td style = \"text-align: right;\">73.4617</td><td style = \"text-align: right;\">73.9263</td><td style = \"text-align: right;\">1</td><td style = \"text-align: right;\">-0.48526</td></tr><tr><td class = \"rowNumber\" style = \"font-weight: bold; text-align: right;\">65</td><td style = \"text-align: right;\">73.6327</td><td style = \"text-align: right;\">73.6312</td><td style = \"text-align: right;\">73.9263</td><td style = \"text-align: right;\">0</td><td style = \"text-align: right;\">-0.00200672</td></tr><tr><td class = \"rowNumber\" style = \"font-weight: bold; text-align: right;\">66</td><td style = \"text-align: right;\">73.6684</td><td style = \"text-align: right;\">73.747</td><td style = \"text-align: right;\">73.9263</td><td style = \"text-align: right;\">1</td><td style = \"text-align: right;\">0.106556</td></tr><tr><td class = \"rowNumber\" style = \"font-weight: bold; text-align: right;\">67</td><td style = \"text-align: right;\">73.6825</td><td style = \"text-align: right;\">73.7047</td><td style = \"text-align: right;\">73.9263</td><td style = \"text-align: right;\">1</td><td style = \"text-align: right;\">0.0301123</td></tr><tr><td class = \"rowNumber\" style = \"font-weight: bold; text-align: right;\">68</td><td style = \"text-align: right;\">73.7495</td><td style = \"text-align: right;\">74.3537</td><td style = \"text-align: right;\">73.9263</td><td style = \"text-align: right;\">1</td><td style = \"text-align: right;\">0.815901</td></tr><tr><td class = \"rowNumber\" style = \"font-weight: bold; text-align: right;\">69</td><td style = \"text-align: right;\">74.2019</td><td style = \"text-align: right;\">74.4049</td><td style = \"text-align: right;\">73.9263</td><td style = \"text-align: right;\">1</td><td style = \"text-align: right;\">0.273314</td></tr><tr><td class = \"rowNumber\" style = \"font-weight: bold; text-align: right;\">70</td><td style = \"text-align: right;\">74.7117</td><td style = \"text-align: right;\">75.015</td><td style = \"text-align: right;\">73.9263</td><td style = \"text-align: right;\">1</td><td style = \"text-align: right;\">0.405063</td></tr><tr><td class = \"rowNumber\" style = \"font-weight: bold; text-align: right;\">71</td><td style = \"text-align: right;\">74.868</td><td style = \"text-align: right;\">74.7468</td><td style = \"text-align: right;\">73.9263</td><td style = \"text-align: right;\">0</td><td style = \"text-align: right;\">-0.162123</td></tr><tr><td class = \"rowNumber\" style = \"font-weight: bold; text-align: right;\">72</td><td style = \"text-align: right;\">74.7212</td><td style = \"text-align: right;\">74.61</td><td style = \"text-align: right;\">73.9263</td><td style = \"text-align: right;\">-1</td><td style = \"text-align: right;\">-0.148999</td></tr></tbody></table></div>"
      ],
      "text/latex": [
       "\\begin{tabular}{r|ccccc}\n",
       "\t& s & s′ & vwap & a & r\\\\\n",
       "\t\\hline\n",
       "\t& Float64 & Float64 & Float64 & Int64 & Float64\\\\\n",
       "\t\\hline\n",
       "\t1 & 73.9724 & 74.2496 & 73.8796 & 1 & 0.374036 \\\\\n",
       "\t2 & 74.2099 & 74.2545 & 73.8796 & 0 & 0.0600968 \\\\\n",
       "\t3 & 74.2771 & 74.2975 & 73.8796 & 0 & 0.027571 \\\\\n",
       "\t4 & 74.23 & 74.2975 & 73.8796 & -1 & 0.0908087 \\\\\n",
       "\t5 & 73.9508 & 74.12 & 73.8796 & 1 & 0.228507 \\\\\n",
       "\t6 & 74.12 & 74.09 & 73.8796 & 0 & -0.0404831 \\\\\n",
       "\t7 & 74.09 & 74.0479 & 73.8796 & 1 & -0.0568341 \\\\\n",
       "\t8 & 74.031 & 73.9564 & 73.8796 & -1 & -0.100818 \\\\\n",
       "\t9 & 73.9652 & 74.0262 & 73.8796 & 1 & 0.0824715 \\\\\n",
       "\t10 & 74.0213 & 74.1786 & 73.8796 & 1 & 0.212305 \\\\\n",
       "\t11 & 74.176 & 74.295 & 73.8796 & 1 & 0.160406 \\\\\n",
       "\t12 & 74.2864 & 74.1 & 73.8796 & 1 & -0.251264 \\\\\n",
       "\t13 & 73.9308 & 74.0132 & 74.1122 & 1 & 0.11147 \\\\\n",
       "\t14 & 74.0011 & 73.9909 & 74.1122 & 1 & -0.0136854 \\\\\n",
       "\t15 & 73.9914 & 74.3603 & 74.1122 & 0 & 0.497383 \\\\\n",
       "\t16 & 74.3105 & 74.3805 & 74.1122 & 1 & 0.0941699 \\\\\n",
       "\t17 & 74.3962 & 74.3182 & 74.1122 & 1 & -0.104922 \\\\\n",
       "\t18 & 74.4328 & 74.4636 & 74.1122 & 1 & 0.0414346 \\\\\n",
       "\t19 & 74.4531 & 74.4908 & 74.1122 & 1 & 0.0505498 \\\\\n",
       "\t20 & 74.4732 & 74.3589 & 74.1122 & -1 & -0.153515 \\\\\n",
       "\t21 & 74.3592 & 74.348 & 74.1122 & 1 & -0.0150534 \\\\\n",
       "\t22 & 74.3143 & 74.7406 & 74.1122 & 1 & 0.572059 \\\\\n",
       "\t23 & 74.5777 & 74.5278 & 74.1122 & 1 & -0.066938 \\\\\n",
       "\t24 & 74.6459 & 74.6984 & 74.1122 & 1 & 0.0703214 \\\\\n",
       "\t25 & 74.6822 & 74.6573 & 74.3778 & 0 & -0.0332846 \\\\\n",
       "\t26 & 74.6503 & 74.531 & 74.3778 & -1 & -0.160021 \\\\\n",
       "\t27 & 74.513 & 74.5536 & 74.3778 & 1 & 0.0544632 \\\\\n",
       "\t28 & 74.5465 & 74.6798 & 74.3778 & 0 & 0.178723 \\\\\n",
       "\t29 & 74.6766 & 74.8185 & 74.3778 & 1 & 0.189873 \\\\\n",
       "\t30 & 74.8037 & 74.8702 & 74.3778 & 1 & 0.0889805 \\\\\n",
       "\t$\\dots$ & $\\dots$ & $\\dots$ & $\\dots$ & $\\dots$ & $\\dots$ \\\\\n",
       "\\end{tabular}\n"
      ],
      "text/plain": [
       "\u001b[1m72×5 DataFrame\u001b[0m\n",
       "\u001b[1m Row \u001b[0m│\u001b[1m s       \u001b[0m\u001b[1m s′      \u001b[0m\u001b[1m vwap    \u001b[0m\u001b[1m a     \u001b[0m\u001b[1m r           \u001b[0m\n",
       "     │\u001b[90m Float64 \u001b[0m\u001b[90m Float64 \u001b[0m\u001b[90m Float64 \u001b[0m\u001b[90m Int64 \u001b[0m\u001b[90m Float64     \u001b[0m\n",
       "─────┼───────────────────────────────────────────────\n",
       "   1 │ 73.9724  74.2496  73.8796      1   0.374036\n",
       "   2 │ 74.2099  74.2545  73.8796      0   0.0600968\n",
       "   3 │ 74.2771  74.2975  73.8796      0   0.027571\n",
       "   4 │ 74.23    74.2975  73.8796     -1   0.0908087\n",
       "   5 │ 73.9508  74.12    73.8796      1   0.228507\n",
       "   6 │ 74.12    74.09    73.8796      0  -0.0404831\n",
       "   7 │ 74.09    74.0479  73.8796      1  -0.0568341\n",
       "   8 │ 74.031   73.9564  73.8796     -1  -0.100818\n",
       "   9 │ 73.9652  74.0262  73.8796      1   0.0824715\n",
       "  10 │ 74.0213  74.1786  73.8796      1   0.212305\n",
       "  11 │ 74.176   74.295   73.8796      1   0.160406\n",
       "  ⋮  │    ⋮        ⋮        ⋮       ⋮         ⋮\n",
       "  63 │ 73.927   73.731   73.9263      1  -0.265485\n",
       "  64 │ 73.8191  73.4617  73.9263      1  -0.48526\n",
       "  65 │ 73.6327  73.6312  73.9263      0  -0.00200672\n",
       "  66 │ 73.6684  73.747   73.9263      1   0.106556\n",
       "  67 │ 73.6825  73.7047  73.9263      1   0.0301123\n",
       "  68 │ 73.7495  74.3537  73.9263      1   0.815901\n",
       "  69 │ 74.2019  74.4049  73.9263      1   0.273314\n",
       "  70 │ 74.7117  75.015   73.9263      1   0.405063\n",
       "  71 │ 74.868   74.7468  73.9263      0  -0.162123\n",
       "  72 │ 74.7212  74.61    73.9263     -1  -0.148999\n",
       "\u001b[36m                                      51 rows omitted\u001b[0m"
      ]
     },
     "execution_count": 10,
     "metadata": {},
     "output_type": "execute_result"
    }
   ],
   "source": [
    "R = results(episodes)"
   ]
  },
  {
   "cell_type": "code",
   "execution_count": null,
   "id": "397424f4-8eea-491a-bb53-5cd1017a0d0f",
   "metadata": {},
   "outputs": [],
   "source": []
  },
  {
   "cell_type": "code",
   "execution_count": 11,
   "id": "93f37aef-d587-48c3-ab0a-992f9ba6df25",
   "metadata": {},
   "outputs": [
    {
     "data": {
      "text/plain": [
       "0.35580981485938584"
      ]
     },
     "execution_count": 11,
     "metadata": {},
     "output_type": "execute_result"
    }
   ],
   "source": [
    "log(74.2164/73.9528)*100"
   ]
  },
  {
   "cell_type": "code",
   "execution_count": null,
   "id": "9305b4ca-89f4-4fa3-9e24-bcadbd121d80",
   "metadata": {},
   "outputs": [],
   "source": []
  }
 ],
 "metadata": {
  "kernelspec": {
   "display_name": "Julia 1.8.0",
   "language": "julia",
   "name": "julia-1.8"
  },
  "language_info": {
   "file_extension": ".jl",
   "mimetype": "application/julia",
   "name": "julia",
   "version": "1.8.2"
  }
 },
 "nbformat": 4,
 "nbformat_minor": 5
}
