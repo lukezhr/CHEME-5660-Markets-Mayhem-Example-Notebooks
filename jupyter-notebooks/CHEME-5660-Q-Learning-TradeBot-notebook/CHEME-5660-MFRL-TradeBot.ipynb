{
 "cells": [
  {
   "cell_type": "markdown",
   "id": "7e5d38b9-d044-424b-b0ce-9104ae714630",
   "metadata": {},
   "source": [
    "## CHEME 5660: Building a Trading Bot using Model-Free Reinforcement Learning"
   ]
  },
  {
   "cell_type": "markdown",
   "id": "51147f0c-66d0-402c-8b55-b249aab8eb6a",
   "metadata": {},
   "source": [
    "### Introduction"
   ]
  },
  {
   "cell_type": "markdown",
   "id": "9dbf71fd-e5f2-48a6-adbc-c718214f7aef",
   "metadata": {},
   "source": [
    "### Example setup"
   ]
  },
  {
   "cell_type": "code",
   "execution_count": 1,
   "id": "19553510-5bc0-43ad-9329-92ad26fc8e5a",
   "metadata": {},
   "outputs": [
    {
     "name": "stderr",
     "output_type": "stream",
     "text": [
      "\u001b[32m\u001b[1m  Activating\u001b[22m\u001b[39m project at `~/Desktop/julia_work/CHEME-5660-Markets-Mayhem-Example-Notebooks/jupyter-notebooks/CHEME-5660-Q-Learning-TradeBot-notebook`\n",
      "\u001b[32m\u001b[1m  No Changes\u001b[22m\u001b[39m to `~/Desktop/julia_work/CHEME-5660-Markets-Mayhem-Example-Notebooks/jupyter-notebooks/CHEME-5660-Q-Learning-TradeBot-notebook/Project.toml`\n",
      "\u001b[32m\u001b[1m  No Changes\u001b[22m\u001b[39m to `~/Desktop/julia_work/CHEME-5660-Markets-Mayhem-Example-Notebooks/jupyter-notebooks/CHEME-5660-Q-Learning-TradeBot-notebook/Manifest.toml`\n"
     ]
    }
   ],
   "source": [
    "import Pkg; Pkg.activate(\".\"); Pkg.resolve(); Pkg.instantiate();"
   ]
  },
  {
   "cell_type": "code",
   "execution_count": 2,
   "id": "eee5681f-0b5f-42a5-9de5-dc9eb1009ac8",
   "metadata": {},
   "outputs": [],
   "source": [
    "# load req packages -\n",
    "using DataFrames\n",
    "using Dates\n",
    "using FileIO\n",
    "using JLD2\n",
    "using PrettyTables\n",
    "using Distributions\n",
    "using Statistics\n",
    "using DataFrames\n",
    "using Plots\n",
    "using Colors\n",
    "\n",
    "# setup paths -\n",
    "const _ROOT = pwd();\n",
    "const _PATH_TO_DATA = joinpath(_ROOT, \"data\");"
   ]
  },
  {
   "cell_type": "code",
   "execution_count": 3,
   "id": "3215d94e-fc3c-4574-a066-a8138975fbf3",
   "metadata": {},
   "outputs": [],
   "source": [
    "include(\"CHEME-5660-Example-CodeLib.jl\");"
   ]
  },
  {
   "cell_type": "markdown",
   "id": "ec0c0f2c-3705-4fc8-9089-f21bfb830e5f",
   "metadata": {},
   "source": [
    "### Setup constants and other resources"
   ]
  },
  {
   "cell_type": "code",
   "execution_count": 4,
   "id": "d8e39e8a-b45b-4181-9001-144e010fd7a9",
   "metadata": {},
   "outputs": [],
   "source": [
    "# 5-mim risk-free rate\n",
    "r̄ = 0.0403;\n",
    "risk_free_rate = ((1+r̄)^(1/19656) - 1);\n",
    "\n",
    "# how many days of historical data are we using?\n",
    "d = 12;         # we nₐ buy shares of XYZ for d-periods at the open of the training data \n",
    "lotsize = 10.0; # how many shares do we buy at the open?\n",
    "nₐ = 1.0;       # how many shares do we want to buy, sell each day\n",
    "\n",
    "# what does our training data start?\n",
    "cursor = d;\n",
    "\n",
    "# how many steps in an episode?\n",
    "number_of_episodes = 12;            # number of episodes\n",
    "number_of_steps_per_episodes = 12; # episodes are two hours long\n",
    "\n",
    "# setup actions states -\n",
    "actions = [1,2,3]; # buy, sell, hold\n",
    "\n",
    "# setup my episodes container -\n",
    "episodes = Array{Dict{DateTime,TransactionModel},1}();"
   ]
  },
  {
   "cell_type": "code",
   "execution_count": 5,
   "id": "7f9323f2-edd1-4484-895d-a4eac078d5a0",
   "metadata": {},
   "outputs": [],
   "source": [
    "# what is my prior data -\n",
    "action_distribution = Categorical([0.40,0.30,0.30]); # buy, sell, hold"
   ]
  },
  {
   "cell_type": "markdown",
   "id": "2f244076-997b-4657-89de-b89e5477a492",
   "metadata": {},
   "source": [
    "#### Load and partition the OHLC price data set"
   ]
  },
  {
   "cell_type": "code",
   "execution_count": 6,
   "id": "45c94029-3f64-425b-ab0c-89876157db07",
   "metadata": {},
   "outputs": [],
   "source": [
    "# load the JLD2 portfolio data file -\n",
    "price_data_dictionary = load(joinpath(_PATH_TO_DATA, \"CHEME-5660-Portfolio-Q-learning-5min-11-20-22.jld2\"))[\"dd\"];\n",
    "\n",
    "# we have these ticker symbols in our data set -\n",
    "ticker_symbol_array = sort(keys(price_data_dictionary) |> collect);\n",
    "\n",
    "# Partition the data into a training and prediction set\n",
    "(price_training_dict, price_prediction_dict) = partition(price_data_dictionary; fraction=0.90);"
   ]
  },
  {
   "cell_type": "markdown",
   "id": "3201bc7a-5b83-424b-b6f2-bd978e507918",
   "metadata": {},
   "source": [
    "#### Establish an initial position"
   ]
  },
  {
   "cell_type": "code",
   "execution_count": 7,
   "id": "ff780531-4b61-47f4-9b5b-50287ef3505d",
   "metadata": {},
   "outputs": [],
   "source": [
    "# what ticker do we want to explore?\n",
    "ticker_symbol = \"AMD\";\n",
    "\n",
    "# get the df_training -\n",
    "df_training = price_training_dict[ticker_symbol];\n",
    "\n",
    "# whate are my timestamps -\n",
    "timestamp_array = sort(df_training[:,:timestamp]) |> collect;"
   ]
  },
  {
   "cell_type": "markdown",
   "id": "cc8e99a9-4814-497b-8b02-0d0dfb6e3b5f",
   "metadata": {},
   "source": [
    "#### Establish state classes"
   ]
  },
  {
   "cell_type": "code",
   "execution_count": 8,
   "id": "6bb9d281-bb5e-40cf-980c-72152149e000",
   "metadata": {},
   "outputs": [],
   "source": [
    "# fit a distribution to vwap data -\n",
    "vwap_data = df_training[!,:volume_weighted_average_price];\n",
    "Nd = fit_mle(Normal, vwap_data);\n",
    "\n",
    "# get parameters -\n",
    "θ = params(Nd);"
   ]
  },
  {
   "cell_type": "markdown",
   "id": "96d90242-9266-4e77-982a-eb2f6c51a4aa",
   "metadata": {},
   "source": [
    "#### Run a purely random agent"
   ]
  },
  {
   "cell_type": "code",
   "execution_count": 9,
   "id": "049d2a5b-60f3-43a1-af40-b45e2ce1d200",
   "metadata": {},
   "outputs": [
    {
     "name": "stdout",
     "output_type": "stream",
     "text": [
      "vwap Sᵢ = 73.8596719060785\n",
      "vwap Sᵢ = 74.1200044907203\n",
      "vwap Sᵢ = 74.44399361689884\n",
      "vwap Sᵢ = 74.6823695271466\n",
      "vwap Sᵢ = 74.74497432902115\n",
      "vwap Sᵢ = 73.99885067442507\n",
      "vwap Sᵢ = 74.17668389700987\n",
      "vwap Sᵢ = 74.63260172033549\n",
      "vwap Sᵢ = 74.92335400809586\n",
      "vwap Sᵢ = 74.66382513441171\n",
      "vwap Sᵢ = 73.761865697035\n",
      "vwap Sᵢ = 73.80226746283965\n"
     ]
    }
   ],
   "source": [
    "# setup -\n",
    "initialize_start_index = 1;\n",
    "initialize_stop_index = d; # d = 12 = 1hr\n",
    "\n",
    "# main loop -\n",
    "for i = 1:number_of_episodes\n",
    "    \n",
    "    # initialize -\n",
    "    ledger = initialize(df_training; lotsize = lotsize, start=initialize_start_index, stop=initialize_stop_index);\n",
    "    \n",
    "    # compute the vwap -\n",
    "    Sᵢ = vwap(ledger);\n",
    "    \n",
    "    println(\"vwap Sᵢ = $(Sᵢ)\")\n",
    "    \n",
    "    # steps per epsiode -\n",
    "    for i ∈ 1:number_of_steps_per_episodes\n",
    "        \n",
    "        # pick a random action -\n",
    "        aᵢ = rand(action_distribution);\n",
    "    \n",
    "        # grab the time stamp and price data -\n",
    "        current_cursor = initialize_stop_index + i\n",
    "        next_cursor = current_cursor + 1;\n",
    "        event_open_timestamp = timestamp_array[current_cursor];\n",
    "        event_close_timestamp = timestamp_array[next_cursor];\n",
    "        p̂₁ = price(df_training, event_open_timestamp)\n",
    "        p̂₂ = price(df_training, event_close_timestamp);\n",
    "    \n",
    "        # we implement the action now, we get the next price -\n",
    "        sense_flag = 1;\n",
    "        if (aᵢ == 2)\n",
    "            sense_flag = -1;\n",
    "        elseif (aᵢ == 3)\n",
    "            sense_flag = 0;\n",
    "        end;\n",
    "    \n",
    "        # build a proposed trade model -\n",
    "        proposed_trade = build(TransactionModel, volume = nₐ, sense = sense_flag, p₁ = p̂₁, p₂ = p̂₂);\n",
    "\n",
    "        # confirm this trade -\n",
    "        if (confirm(ledger, proposed_trade) == true)\n",
    "            ledger[event_open_timestamp] = proposed_trade;\n",
    "        end\n",
    "    end\n",
    "    \n",
    "    # update the cursor positions -\n",
    "    initialize_start_index = (initialize_stop_index + 3);\n",
    "    initialize_stop_index = (initialize_start_index + d - 1);\n",
    "    \n",
    "    # grab -\n",
    "    push!(episodes, ledger);\n",
    "end"
   ]
  },
  {
   "cell_type": "code",
   "execution_count": 10,
   "id": "996a1146-0e61-4323-bd0a-7b8734736270",
   "metadata": {},
   "outputs": [
    {
     "data": {
      "text/plain": [
       "Dict{DateTime, TransactionModel} with 24 entries:\n",
       "  DateTime(\"2022-11-14T11:05:00\") => TransactionModel(10, 74.1, 74.1, 1)\n",
       "  DateTime(\"2022-11-14T11:45:00\") => TransactionModel(1, 74.3846, 74.4835, -1)\n",
       "  DateTime(\"2022-11-14T12:00:00\") => TransactionModel(1, 74.3409, 74.6121, 0)\n",
       "  DateTime(\"2022-11-14T10:55:00\") => TransactionModel(10, 74.1653, 74.1653, 1)\n",
       "  DateTime(\"2022-11-14T11:40:00\") => TransactionModel(1, 74.3863, 74.3634, -1)\n",
       "  DateTime(\"2022-11-14T10:20:00\") => TransactionModel(10, 74.2596, 74.2596, 1)\n",
       "  DateTime(\"2022-11-14T10:50:00\") => TransactionModel(10, 74.0091, 74.0091, 1)\n",
       "  DateTime(\"2022-11-14T11:10:00\") => TransactionModel(10, 73.9508, 73.9508, 1)\n",
       "  DateTime(\"2022-11-14T12:10:00\") => TransactionModel(1, 74.6864, 74.6475, -1)\n",
       "  DateTime(\"2022-11-14T10:15:00\") => TransactionModel(10, 74.2507, 74.2507, 1)\n",
       "  DateTime(\"2022-11-14T10:25:00\") => TransactionModel(10, 74.2415, 74.2415, 1)\n",
       "  DateTime(\"2022-11-14T11:20:00\") => TransactionModel(1, 74.0387, 73.9933, 1)\n",
       "  DateTime(\"2022-11-14T10:40:00\") => TransactionModel(10, 74.0263, 74.0263, 1)\n",
       "  DateTime(\"2022-11-14T11:35:00\") => TransactionModel(1, 74.344, 74.4565, 0)\n",
       "  DateTime(\"2022-11-14T11:00:00\") => TransactionModel(10, 74.28, 74.28, 1)\n",
       "  DateTime(\"2022-11-14T12:05:00\") => TransactionModel(1, 74.6396, 74.6896, 1)\n",
       "  DateTime(\"2022-11-14T11:30:00\") => TransactionModel(1, 74.1103, 74.33, 0)\n",
       "  DateTime(\"2022-11-14T11:50:00\") => TransactionModel(1, 74.4691, 74.3644, 0)\n",
       "  DateTime(\"2022-11-14T11:25:00\") => TransactionModel(1, 73.9948, 74.1467, 0)\n",
       "  DateTime(\"2022-11-14T10:35:00\") => TransactionModel(10, 74.09, 74.09, 1)\n",
       "  DateTime(\"2022-11-14T11:55:00\") => TransactionModel(1, 74.3657, 74.2194, -1)\n",
       "  DateTime(\"2022-11-14T10:30:00\") => TransactionModel(10, 74.12, 74.12, 1)\n",
       "  DateTime(\"2022-11-14T11:15:00\") => TransactionModel(1, 73.9661, 74.0079, -1)\n",
       "  DateTime(\"2022-11-14T10:45:00\") => TransactionModel(10, 73.9467, 73.9467, 1)"
      ]
     },
     "execution_count": 10,
     "metadata": {},
     "output_type": "execute_result"
    }
   ],
   "source": [
    "Z = episodes[2]"
   ]
  },
  {
   "cell_type": "code",
   "execution_count": 11,
   "id": "055e66c9-ab53-4064-9958-ba4ff14616e4",
   "metadata": {},
   "outputs": [],
   "source": [
    "R = results(episodes, Nd);\n",
    "\n",
    " # initialize -\n",
    "𝒮 = [1,2,3];\n",
    "𝒜 = [1,-1,0]; # buy, sell, hold\n",
    "\n",
    "# build Q array -\n",
    "Q_array = Array{Float64,2}(undef, length(𝒮), length(𝒜))\n",
    "\n",
    "for s ∈ 1:length(𝒮)\n",
    "    for a ∈ 1:length(𝒜)\n",
    "\n",
    "        # ok, so get all the rewards for this state -\n",
    "        rewards_vector = filter([:s,:a]=>(x,y)->(x==s && y==𝒜[a]), R)[:,:r];\n",
    "        Q_array[s,a] = mean(rewards_vector)\n",
    "    end\n",
    "end"
   ]
  },
  {
   "cell_type": "code",
   "execution_count": 12,
   "id": "9305b4ca-89f4-4fa3-9e24-bcadbd121d80",
   "metadata": {},
   "outputs": [
    {
     "data": {
      "text/plain": [
       "3-element Vector{Int64}:\n",
       " 3\n",
       " 3\n",
       " 3"
      ]
     },
     "execution_count": 12,
     "metadata": {},
     "output_type": "execute_result"
    }
   ],
   "source": [
    "idx = π(Q_array)"
   ]
  },
  {
   "cell_type": "code",
   "execution_count": 13,
   "id": "b3cba592-5cb1-4510-83e7-41ab094f25b3",
   "metadata": {},
   "outputs": [
    {
     "data": {
      "text/plain": [
       "3×3 Matrix{Float64}:\n",
       " -0.333333  -0.75      1.0\n",
       " -0.142857   0.2       1.0\n",
       " -0.333333  -0.692308  1.0"
      ]
     },
     "execution_count": 13,
     "metadata": {},
     "output_type": "execute_result"
    }
   ],
   "source": [
    "Q_array"
   ]
  },
  {
   "cell_type": "code",
   "execution_count": 14,
   "id": "69b7605f-7fc8-4fb4-ab69-7b971b938632",
   "metadata": {},
   "outputs": [
    {
     "data": {
      "text/plain": [
       "7-element Vector{Float64}:\n",
       " 1.0\n",
       " 1.0\n",
       " 1.0\n",
       " 1.0\n",
       " 1.0\n",
       " 1.0\n",
       " 1.0"
      ]
     },
     "execution_count": 14,
     "metadata": {},
     "output_type": "execute_result"
    }
   ],
   "source": [
    "rewards_vector = filter([:s,:a]=>(x,y)->(x==1 && y==0), R)[:,:r]"
   ]
  },
  {
   "cell_type": "code",
   "execution_count": 15,
   "id": "9892ad78-c2cf-4136-a082-e1d46add859b",
   "metadata": {},
   "outputs": [
    {
     "data": {
      "text/plain": [
       "1.0"
      ]
     },
     "execution_count": 15,
     "metadata": {},
     "output_type": "execute_result"
    }
   ],
   "source": [
    "mean(rewards_vector)"
   ]
  },
  {
   "cell_type": "code",
   "execution_count": null,
   "id": "ebc2b9d0-c521-439b-b1ab-35ca9e4e909a",
   "metadata": {},
   "outputs": [],
   "source": []
  }
 ],
 "metadata": {
  "kernelspec": {
   "display_name": "Julia 1.8.0",
   "language": "julia",
   "name": "julia-1.8"
  },
  "language_info": {
   "file_extension": ".jl",
   "mimetype": "application/julia",
   "name": "julia",
   "version": "1.8.2"
  }
 },
 "nbformat": 4,
 "nbformat_minor": 5
}
