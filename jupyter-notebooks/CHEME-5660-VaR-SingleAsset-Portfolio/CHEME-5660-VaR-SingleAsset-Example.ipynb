{
 "cells": [
  {
   "cell_type": "markdown",
   "id": "f6a3ead3-5446-473a-a5c4-6710e98d9976",
   "metadata": {},
   "source": [
    "## CHEME 5660 Compute of Value at Risk (VaR) for Single Assets and a Portfolio of Assets"
   ]
  },
  {
   "cell_type": "markdown",
   "id": "8b575d6a-2b97-4766-ab96-9ca18c77e6d1",
   "metadata": {},
   "source": [
    "## Introduction\n",
    "The Value at Risk (VaR) is a risk management tool to estimate the potential loss that could occur if an extreme event occurs, i.e., a [Black Swan event](https://www.investopedia.com/articles/trading/11/black-swan-events-investing.asp). In the lecture, we discussed a _back of the envelope_ approach for the calculation of Value at Risk (VaR); we took this approach from [MIT 18.S096](https://ocw.mit.edu/courses/18-s096-topics-in-mathematics-with-applications-in-finance-fall-2013/resources/mit18_s096f13_lecnote7/). \n",
    "\n",
    "The basic idea for a single asset `XYZ`:\n",
    "* Compute a value for the historical or forward-looking volatility $\\sigma$ from OHLC data for `XYZ`.\n",
    "* Then, the VaR for ticker `XYZ` is $z\\sigma$ for an event with z-score $z$\n",
    "\n",
    "Let's dig into this more and extend this idea to a portfolio of assets. "
   ]
  },
  {
   "cell_type": "markdown",
   "id": "c8482889-f078-471f-b232-be642ad2b8af",
   "metadata": {},
   "source": [
    "## Example setup"
   ]
  },
  {
   "cell_type": "code",
   "execution_count": 1,
   "id": "3399e89d-5f49-4718-9251-aa5d42411b72",
   "metadata": {},
   "outputs": [
    {
     "name": "stderr",
     "output_type": "stream",
     "text": [
      "\u001b[32m\u001b[1m  Activating\u001b[22m\u001b[39m project at `~/Desktop/julia_work/CHEME-5660-Markets-Mayhem-Example-Notebooks/jupyter-notebooks/CHEME-5660-VaR-SingleAsset-Portfolio`\n",
      "\u001b[32m\u001b[1m  No Changes\u001b[22m\u001b[39m to `~/Desktop/julia_work/CHEME-5660-Markets-Mayhem-Example-Notebooks/jupyter-notebooks/CHEME-5660-VaR-SingleAsset-Portfolio/Project.toml`\n",
      "\u001b[32m\u001b[1m  No Changes\u001b[22m\u001b[39m to `~/Desktop/julia_work/CHEME-5660-Markets-Mayhem-Example-Notebooks/jupyter-notebooks/CHEME-5660-VaR-SingleAsset-Portfolio/Manifest.toml`\n"
     ]
    }
   ],
   "source": [
    "import Pkg; Pkg.activate(\".\"); Pkg.resolve(); Pkg.instantiate();"
   ]
  },
  {
   "cell_type": "code",
   "execution_count": 2,
   "id": "3b930f2f-4677-4b81-9b26-be5cc51e9971",
   "metadata": {},
   "outputs": [],
   "source": [
    "# load req packages -\n",
    "using FileIO\n",
    "using JLD2\n",
    "using DataFrames\n",
    "using Dates\n",
    "using Plots\n",
    "using Colors\n",
    "using Distributions\n",
    "using StatsPlots\n",
    "\n",
    "# setup paths -\n",
    "const _ROOT = pwd();\n",
    "const _PATH_TO_DATA = joinpath(_ROOT, \"data\");"
   ]
  },
  {
   "cell_type": "code",
   "execution_count": 3,
   "id": "24303ca2-5835-42ac-a4b3-c432fc9f3d9a",
   "metadata": {},
   "outputs": [],
   "source": [
    "include(\"Example-VaR-CodeLib.jl\");"
   ]
  },
  {
   "cell_type": "code",
   "execution_count": 4,
   "id": "78d8e9b0-ae50-4118-b4ee-0debd40b2d7a",
   "metadata": {},
   "outputs": [],
   "source": [
    "# daily risk-free rate -\n",
    "r̄ = 0.0403;\n",
    "risk_free_daily = ((1+r̄)^(1/365) - 1);\n",
    "\n",
    "# setup daily margin rate -\n",
    "b̂ = 0.065;\n",
    "margin_rate_daily = ((1+b̂)^(1/365) - 1);\n",
    "\n",
    "# setup z_array -\n",
    "z_array = [1.0, 1.96, 2.58, 3.29]; # confidence 68%, 95%, 99% and 99.9%"
   ]
  },
  {
   "cell_type": "code",
   "execution_count": 5,
   "id": "87af3dd5-23e9-470f-bf32-8fb73abfd3b9",
   "metadata": {},
   "outputs": [
    {
     "name": "stdout",
     "output_type": "stream",
     "text": [
      "Length violation: META was removed; dim(SPY) = 505 days and dim(META) = 255 days\n"
     ]
    }
   ],
   "source": [
    "# load the JLD2 portfolio data file -\n",
    "price_data_dictionary = clean(load(joinpath(_PATH_TO_DATA, \"CHEME-5660-Portfolio-11-09-22.jld2\"))[\"dd\"]);\n",
    "\n",
    "# we have these ticker symbols in our data set -\n",
    "ticker_symbol_array = sort(keys(price_data_dictionary) |> collect);\n",
    "\n",
    "# How many ticker symbols do we have?\n",
    "Nₐ = length(ticker_symbol_array);"
   ]
  },
  {
   "cell_type": "markdown",
   "id": "7776ef49-5f5f-4535-b99a-68107b3803c3",
   "metadata": {},
   "source": [
    "### a) Back-of-the-envelope VaR calculation for a single-risky asset"
   ]
  },
  {
   "cell_type": "code",
   "execution_count": 6,
   "id": "e7dcf978-2a1f-4e1c-abd5-ca6a1a45a7a0",
   "metadata": {},
   "outputs": [],
   "source": [
    "# what asset are calculating the VaR for?\n",
    "single_ticker_symbol = \"AMD\"\n",
    "start_index = 66;\n",
    "\n",
    "# what is AMD IV?\n",
    "IV = 58.88;\n",
    "\n",
    "# How many days do we want to look at in the future?\n",
    "T = 1+1; # units: days\n",
    "\n",
    "# grab some data for AMD -\n",
    "price_data_df = price_data_dictionary[single_ticker_symbol];\n",
    "price_data = price_data_dictionary[single_ticker_symbol][end-start_index:end,:close];\n",
    "\n",
    "# What is Sₒ?\n",
    "Sₒ = price_data[end];"
   ]
  },
  {
   "cell_type": "code",
   "execution_count": 7,
   "id": "67378c69-b46f-4dd5-9a81-73d91dbb34b2",
   "metadata": {},
   "outputs": [],
   "source": [
    "# compute σ -\n",
    "σ = Sₒ*(IV/100)*sqrt(1/365);"
   ]
  },
  {
   "cell_type": "code",
   "execution_count": 8,
   "id": "625f5427-11a4-4987-ab98-9da5cbf10ab5",
   "metadata": {},
   "outputs": [
    {
     "name": "stdout",
     "output_type": "stream",
     "text": [
      "VaR back of the envolpe; we can expect to lose no more than 7.951353745024839% on our AMD position 99% of trading days\n"
     ]
    }
   ],
   "source": [
    "# Back of the envolope calculation of the VaR -\n",
    "# Let's do a 99% confidence level\n",
    "VaR_ms = (z_array[3]*σ*(1/Sₒ))*100 # on any given trading day\n",
    "\n",
    "# output -\n",
    "println(\"VaR back of the envolpe; we can expect to lose no more than $(VaR_ms)% on our $(single_ticker_symbol) position 99% of trading days\")"
   ]
  },
  {
   "cell_type": "markdown",
   "id": "29123c36-deca-4250-a38e-a12e14f16169",
   "metadata": {},
   "source": [
    "### b) Where does that number come from: let's dig into this VaR number of little bit more ..."
   ]
  },
  {
   "cell_type": "code",
   "execution_count": 9,
   "id": "3ecf342c-13eb-4f5b-bd15-da066a5fc4ac",
   "metadata": {},
   "outputs": [],
   "source": [
    "# How many days are we looking at?\n",
    "T′ = 30 + 1;"
   ]
  },
  {
   "cell_type": "code",
   "execution_count": null,
   "id": "050bd9ab-e288-4e5b-8eeb-e0dfe0b3c061",
   "metadata": {
    "tags": []
   },
   "outputs": [],
   "source": [
    "# make a cone plot -\n",
    "future_array = Array{Float64,2}(undef, T′, 8)\n",
    "for i ∈ 1:T′\n",
    "    \n",
    "    # compute σ -\n",
    "    σ_L = Sₒ*(IV/100)*sqrt((i-1)/365);\n",
    "\n",
    "    future_array[i,1] = i+start_index;\n",
    "    future_array[i,2] = Sₒ\n",
    "    future_array[i,3] = Sₒ + σ_L\n",
    "    future_array[i,4] = Sₒ - σ_L\n",
    "    future_array[i,5] = Sₒ + 1.96*σ_L\n",
    "    future_array[i,6] = Sₒ - 1.96*σ_L\n",
    "    future_array[i,7] = Sₒ + 2.576*σ_L\n",
    "    future_array[i,8] = Sₒ - 2.576*σ_L\n",
    "end\n",
    "\n",
    "\n",
    "# plot the historical data -\n",
    "plot(price_data_df[end-start_index:end,:close], lw=3, c=colorant\"#0068AC\", label=\"AMD Price\", ylim=(20.0, 120))\n",
    "plot!(future_array[:,1], future_array[:,2], c=colorant\"#EF4035\", minorticks=2.0,\n",
    "    lw=2, bg=colorant\"#F2F2F2\", background_color_outside=\"white\", framestyle = :box, fg_legend = :transparent, label=\"\")\n",
    "\n",
    "plot!(future_array[:,1], future_array[:,2], fillrange=future_array[:,3], c=colorant\"#EF4035\", alpha=0.8, label=\"\")\n",
    "plot!(future_array[:,1], future_array[:,2], fillrange=future_array[:,4], c=colorant\"#EF4035\", alpha=0.8, label=\"1 x σ (68%)\")\n",
    "plot!(future_array[:,1], future_array[:,2], fillrange=future_array[:,5], c=colorant\"#EF4035\", alpha=0.3, label=\"\")\n",
    "plot!(future_array[:,1], future_array[:,2], fillrange=future_array[:,6], c=colorant\"#EF4035\", alpha=0.3, label=\"1.96 x σ (95%)\")\n",
    "plot!(future_array[:,1], future_array[:,2], fillrange=future_array[:,7], c=colorant\"#EF4035\", alpha=0.15, label=\"\")\n",
    "plot!(future_array[:,1], future_array[:,2], fillrange=future_array[:,8], c=colorant\"#EF4035\", alpha=0.15, label=\"2.576 x σ (99%)\")\n",
    "\n",
    "xlabel!(\"Trading day index (AU)\", fontsize=18)\n",
    "ylabel!(\"AMD close price (USD/share)\", fontsize=18)"
   ]
  },
  {
   "cell_type": "code",
   "execution_count": null,
   "id": "ab067383-6e72-4681-a487-d01515c4427c",
   "metadata": {},
   "outputs": [],
   "source": [
    "# compute the distribution for sampling -\n",
    "d = Normal(Sₒ, σ);"
   ]
  },
  {
   "cell_type": "code",
   "execution_count": null,
   "id": "e05b9684-383f-47f7-ac59-548237063701",
   "metadata": {
    "tags": []
   },
   "outputs": [],
   "source": [
    "plot(d, label=\"$(single_ticker_symbol) T=$(T-1) days\", lw=2)\n",
    "xlabel!(\"Close price $(single_ticker_symbol) (USD/share)\", fontsize=18)\n",
    "ylabel!(\"Frequency (AU)\", fontsize=18)"
   ]
  },
  {
   "cell_type": "code",
   "execution_count": null,
   "id": "0a50719d-20e7-4202-9d59-2b288a9aa120",
   "metadata": {},
   "outputs": [],
   "source": [
    "S_range = range(Sₒ - z_array[4]*σ, stop = Sₒ + z_array[4]*σ, step=0.01) |> collect;\n",
    "cdf_array = Array{Float64, 2}(undef, length(S_range), 2);\n",
    "\n",
    "for i ∈ 1:length(S_range)\n",
    "    \n",
    "    Sᵢ = S_range[i];\n",
    "    cdf_value = cdf(d, Sᵢ);\n",
    "    \n",
    "    cdf_array[i,1] = Sᵢ;\n",
    "    cdf_array[i,2] = cdf_value;\n",
    "end"
   ]
  },
  {
   "cell_type": "code",
   "execution_count": null,
   "id": "79e11f9f-d365-4684-8632-dcd85f758434",
   "metadata": {},
   "outputs": [],
   "source": [
    "plot(cdf_array[:,1], cdf_array[:,2], label=\"CDF $(single_ticker_symbol)\", legend=:topleft, lw=2, minorticks=0.2)\n",
    "xlabel!(\"Future $(single_ticker_symbol) share price (USD/share)\", fontsize=18)\n",
    "ylabel!(\"Probability P(X ≤ x) (AU)\", fontsize=18)"
   ]
  },
  {
   "cell_type": "markdown",
   "id": "152195cb-4f24-4ac7-b38c-97aa8375818b",
   "metadata": {},
   "source": [
    "#### What is the price and return values for a 1% event (a 99% chance rare event does not happen)?"
   ]
  },
  {
   "cell_type": "code",
   "execution_count": null,
   "id": "83059789-c974-4653-9d8d-82458e134d1e",
   "metadata": {},
   "outputs": [],
   "source": [
    "Ŝ = Sₒ - z_array[3]*σ;\n",
    "println(\"$(single_ticker_symbol) share price for a rare event $(T-1)-days in the future: $(Ŝ) (USD/share)\")"
   ]
  },
  {
   "cell_type": "code",
   "execution_count": null,
   "id": "410010f2-e401-40aa-8971-7e461a3613dd",
   "metadata": {},
   "outputs": [],
   "source": [
    "# What is the probability of this rare event happening?\n",
    "P_gt_Ŝ = 1 - cdf(d,Ŝ);\n",
    "println(\"The probability that $(single_ticker_symbol) will close above $(Ŝ) (USD/share) $(T-1)-days in the future is $(P_gt_Ŝ*100)%\")"
   ]
  },
  {
   "cell_type": "code",
   "execution_count": null,
   "id": "286cf35e-0bfa-469f-a4d5-670f5acc564b",
   "metadata": {
    "tags": []
   },
   "outputs": [],
   "source": [
    "# what is the loss *if* we get a 1% event -\n",
    "R_bs = ((Ŝ - Sₒ)/Sₒ)*100\n",
    "println(\"However, if the rare event occurs $(T-1)-days in the future, our return could be $(R_bs)%\")"
   ]
  },
  {
   "cell_type": "markdown",
   "id": "9ef9b158-31b9-4de3-8511-95fdd772104b",
   "metadata": {},
   "source": [
    "### c) How could we extend this idea to a portfolio of assets?"
   ]
  },
  {
   "cell_type": "markdown",
   "id": "a82c0625-72c5-4f8e-b53a-2df3cc06ec17",
   "metadata": {},
   "source": [
    "One obvious way to do this would be to compute the cumulative distributions (and the associated rare event returns) for every asset in the portfolio. Then, we could compute the portfolio return $R_{\\mathcal{P}}$ as:\n",
    "\n",
    "$$R_{\\mathcal{P}} = \\omega^{T}R+\\left(1-\\sum_{a\\in\\mathcal{P}}\\omega_{a}\\right)r_{f}$$\n",
    "\n",
    "where $\\omega^{T}$ denotes the transpose of the allocation vector, $R$ denotes the return vector, and $r_{f}$ denotes the risk free rate. However, suppose we constructed our portfolio using [Single Index Models (SIMs)](https://en.wikipedia.org/wiki/Single-index_model). In that case, we only need to compute the extreme event return for our market factor, namely [SPY](https://finance.yahoo.com/quote/SPY?p=SPY&.tsrc=fin-srch), and then use our collection of SIMs to compute the return of each risky asset."
   ]
  },
  {
   "cell_type": "code",
   "execution_count": null,
   "id": "26bf397f-cf13-4415-b01e-7e7891ac18db",
   "metadata": {},
   "outputs": [],
   "source": [
    "# compute SPY rare event return -\n",
    "market_ticker_symbol = \"SPY\"\n",
    "\n",
    "# what is SPY IV?\n",
    "IV_SPY = 25.23;\n",
    "\n",
    "# How many days do we want to look at in the future?\n",
    "T = 1+1; # units: days\n",
    "\n",
    "# grab some data for AMD -\n",
    "market_price_data_df = price_data_dictionary[market_ticker_symbol];\n",
    "market_price_data = price_data_dictionary[market_ticker_symbol][end-start_index:end,:close];\n",
    "\n",
    "# What is Sₒ?\n",
    "Mₒ = market_price_data[end];\n",
    "\n",
    "# compute σ -\n",
    "σ_M = Mₒ*(IV_SPY/100)*sqrt(1/365);\n",
    "\n",
    "# compute the distribution for sampling -\n",
    "d_M = Normal(Mₒ, σ_M);"
   ]
  },
  {
   "cell_type": "code",
   "execution_count": null,
   "id": "280454da-261c-4439-b960-d35dc362fd4e",
   "metadata": {},
   "outputs": [],
   "source": [
    "M_range = range(Mₒ - z_array[4]*σ_M, stop = Mₒ + z_array[4]*σ_M, step=0.01) |> collect;\n",
    "cdf_array_market = Array{Float64, 2}(undef, length(M_range), 2);\n",
    "\n",
    "for i ∈ 1:length(M_range)\n",
    "    \n",
    "    Mᵢ = M_range[i];\n",
    "    cdf_value = cdf(d_M, Mᵢ);\n",
    "    \n",
    "    cdf_array_market[i,1] = Mᵢ;\n",
    "    cdf_array_market[i,2] = cdf_value;\n",
    "end"
   ]
  },
  {
   "cell_type": "code",
   "execution_count": null,
   "id": "0068e507-5175-4d35-94af-11be62f2928d",
   "metadata": {},
   "outputs": [],
   "source": [
    "plot(cdf_array_market[:,1], cdf_array_market[:,2], label=\"CDF $(market_ticker_symbol)\", legend=:topleft, lw=2, minorticks=0.2)\n",
    "xlabel!(\"Future $(market_ticker_symbol) share price (USD/share)\", fontsize=18)\n",
    "ylabel!(\"Probability P(X ≤ x) (AU)\", fontsize=18)"
   ]
  },
  {
   "cell_type": "code",
   "execution_count": null,
   "id": "87613fac-355a-4e16-abef-5edaa86cde1b",
   "metadata": {},
   "outputs": [],
   "source": [
    "M̂ = Mₒ - z_array[3]*σ_M;\n",
    "println(\"$(market_ticker_symbol) share price for a rare event $(T-1)-days in the future: $(M̂) (USD/share)\")"
   ]
  },
  {
   "cell_type": "code",
   "execution_count": null,
   "id": "45f3da7e-aad9-4e7c-9d5b-3de9e5bf8e93",
   "metadata": {},
   "outputs": [],
   "source": [
    "# What is the probability of this rare event happening?\n",
    "P_gt_M̂ = 1 - cdf(d_M,M̂);\n",
    "println(\"The probability that $(market_ticker_symbol) will close above $(M̂) (USD/share) $(T-1)-days in the future is $(P_gt_M̂*100)%\")"
   ]
  },
  {
   "cell_type": "code",
   "execution_count": null,
   "id": "88661f18-734d-423c-8511-32496bdf5807",
   "metadata": {},
   "outputs": [],
   "source": [
    "# what is the loss *if* we get a 1% event -\n",
    "R_bs_M = ((M̂ - Mₒ)/Mₒ)*100\n",
    "println(\"However, if the rare event occurs $(T-1)-days in the future, our return could be $(R_bs_M)%\")"
   ]
  },
  {
   "cell_type": "markdown",
   "id": "71413fc3-f814-4a10-b13d-16a8d022444c",
   "metadata": {},
   "source": [
    "### Disclaimer and Risks\n",
    "__This content is offered solely for training and  informational purposes__. No offer or solicitation to buy or sell securities or derivative products, or any investment or trading advice or strategy,  is made, given, or endorsed by the teaching team. \n",
    "\n",
    "__Trading involves risk__. Carefully review your financial situation before investing in securities, futures contracts, options, or commodity interests. Past performance, whether actual or indicated by historical tests of strategies, is no guarantee of future performance or success. Trading is generally inappropriate for someone with limited resources, investment or trading experience, or a low-risk tolerance.  Only risk capital that is not required for living expenses.\n",
    "\n",
    "__You are fully responsible for any investment or trading decisions you make__. Such decisions should be based solely on your evaluation of your financial circumstances, investment or trading objectives, risk tolerance, and liquidity needs."
   ]
  },
  {
   "cell_type": "code",
   "execution_count": null,
   "id": "1ea5ed29-c736-4f7b-a1bb-1c4b7279cb8d",
   "metadata": {},
   "outputs": [],
   "source": []
  }
 ],
 "metadata": {
  "kernelspec": {
   "display_name": "Julia 1.8.0",
   "language": "julia",
   "name": "julia-1.8"
  },
  "language_info": {
   "file_extension": ".jl",
   "mimetype": "application/julia",
   "name": "julia",
   "version": "1.8.2"
  }
 },
 "nbformat": 4,
 "nbformat_minor": 5
}
