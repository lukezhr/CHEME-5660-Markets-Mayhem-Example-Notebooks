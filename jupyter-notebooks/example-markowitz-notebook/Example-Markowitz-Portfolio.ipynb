{
 "cells": [
  {
   "cell_type": "code",
   "execution_count": 1,
   "id": "22e93a1e-a043-488a-bbbb-b61d8e84b7b6",
   "metadata": {},
   "outputs": [
    {
     "name": "stderr",
     "output_type": "stream",
     "text": [
      "\u001b[32m\u001b[1m  Activating\u001b[22m\u001b[39m project at `~/Desktop/julia_work/CHEME-5660-Markets-Mayhem-Example-Notebooks/jupyter-notebooks/example-markowitz-notebook`\n",
      "\u001b[32m\u001b[1m  No Changes\u001b[22m\u001b[39m to `~/Desktop/julia_work/CHEME-5660-Markets-Mayhem-Example-Notebooks/jupyter-notebooks/example-markowitz-notebook/Project.toml`\n",
      "\u001b[32m\u001b[1m  No Changes\u001b[22m\u001b[39m to `~/Desktop/julia_work/CHEME-5660-Markets-Mayhem-Example-Notebooks/jupyter-notebooks/example-markowitz-notebook/Manifest.toml`\n"
     ]
    }
   ],
   "source": [
    "import Pkg; Pkg.activate(\".\"); Pkg.resolve(); Pkg.instantiate();"
   ]
  },
  {
   "cell_type": "code",
   "execution_count": 2,
   "id": "8cd0fc2b-c402-4592-85c3-1a7acab54fd9",
   "metadata": {},
   "outputs": [],
   "source": [
    "# load req packages -\n",
    "using Convex\n",
    "using SCS\n",
    "using DataFrames\n",
    "using CSV\n",
    "using Dates\n",
    "using Colors\n",
    "using Plots\n",
    "using Statistics\n",
    "using MathOptInterface\n",
    "using FileIO\n",
    "using JLD2\n",
    "\n",
    "# setup paths -\n",
    "const _ROOT = pwd();\n",
    "const _PATH_TO_DATA = joinpath(_ROOT, \"data\");"
   ]
  },
  {
   "cell_type": "code",
   "execution_count": 3,
   "id": "35fffccd-8517-4463-9924-d40adf444884",
   "metadata": {},
   "outputs": [],
   "source": [
    "include(\"Example-Markowitz-CodeLib.jl\");"
   ]
  },
  {
   "cell_type": "code",
   "execution_count": 4,
   "id": "50001109-1cfe-408b-90ef-0aab75d609c2",
   "metadata": {},
   "outputs": [],
   "source": [
    "# load the JLD2 portfolio data file -\n",
    "price_data_dictionary = load(joinpath(_PATH_TO_DATA, \"CHEME-5660-Portfolio-10-30-22.jld2\"))[\"dd\"];"
   ]
  },
  {
   "cell_type": "code",
   "execution_count": 5,
   "id": "14da8b31-b3c3-4808-919d-1e992421eeb6",
   "metadata": {},
   "outputs": [],
   "source": [
    "# we have these ticker symbols in our data set -\n",
    "ticker_symbol_array = sort(keys(price_data_dictionary) |> collect);"
   ]
  },
  {
   "cell_type": "code",
   "execution_count": 6,
   "id": "71db3780-ec45-41bc-8a78-fe6ac9114b8d",
   "metadata": {},
   "outputs": [],
   "source": [
    "# compute the returns -\n",
    "return_data_dictionary = Dict{String,DataFrame}();\n",
    "for ticker_symbol ∈ ticker_symbol_array\n",
    "\n",
    "    # Serenity -> computes the log return given a DataFrame, returns a DataFrame\n",
    "    global return_data_dictionary[ticker_symbol] = compute_log_return_array(price_data_dictionary[ticker_symbol], \n",
    "        :timestamp => :close; Δt = (1.0 / 1.0))\n",
    "end"
   ]
  },
  {
   "cell_type": "code",
   "execution_count": 7,
   "id": "6d2a4914-d460-4904-a3ab-4ff930c944ca",
   "metadata": {},
   "outputs": [],
   "source": [
    "# compute the cov -\n",
    "Σ = compute_covariance_array(ticker_symbol_array, return_data_dictionary);\n",
    "μ_vector = compute_mean_return_array(ticker_symbol_array, return_data_dictionary);"
   ]
  },
  {
   "cell_type": "code",
   "execution_count": null,
   "id": "06f8e571-b746-45d3-8d50-5a1bf318cb21",
   "metadata": {},
   "outputs": [],
   "source": [
    "target_return_array = range(0.00001, step=0.0001, stop = 0.007) |> collect\n",
    "L = length(target_return_array)\n",
    "risk_array = Array{Float64,1}();\n",
    "return_array = Array{Float64,1}();\n",
    "\n",
    "for i = 1:L\n",
    "\n",
    "    tr = target_return_array[i]\n",
    "    (status_flag, ω, optval, ret_val) = compute_minvar_portfolio_allocation(μ_vector, Σ, tr; w_lower = 0.0);\n",
    "\n",
    "    if (status_flag == MathOptInterface.OPTIMAL)\n",
    "        push!(risk_array, optval)\n",
    "        push!(return_array, ret_val)\n",
    "    end\n",
    "end"
   ]
  },
  {
   "cell_type": "code",
   "execution_count": null,
   "id": "d65b2515-fa65-4e79-a746-2069829f1eed",
   "metadata": {},
   "outputs": [],
   "source": [
    "plot(sqrt.(0.1*risk_array), return_array, label=\"\", c=colorant\"#0068AC\", legend=:bottomright, bg=\"floralwhite\", \n",
    "background_color_outside=\"white\", framestyle = :box, fg_legend = :transparent, lw=3)\n",
    "scatter!(sqrt.(0.1*risk_array), return_array, label=\"Possible portfolio\", mc=:white, msc=colorant\"#0068AC\")\n",
    "\n",
    "xlabel!(\"Risk measure (σ-risk)\", fontsize=18)\n",
    "ylabel!(\"Exepcted return (daily)\", fontsize=18)"
   ]
  },
  {
   "cell_type": "code",
   "execution_count": null,
   "id": "6e787c77-1062-4526-af6e-8f1c9948f3e0",
   "metadata": {},
   "outputs": [],
   "source": []
  }
 ],
 "metadata": {
  "kernelspec": {
   "display_name": "Julia 1.8.0",
   "language": "julia",
   "name": "julia-1.8"
  },
  "language_info": {
   "file_extension": ".jl",
   "mimetype": "application/julia",
   "name": "julia",
   "version": "1.8.2"
  }
 },
 "nbformat": 4,
 "nbformat_minor": 5
}
