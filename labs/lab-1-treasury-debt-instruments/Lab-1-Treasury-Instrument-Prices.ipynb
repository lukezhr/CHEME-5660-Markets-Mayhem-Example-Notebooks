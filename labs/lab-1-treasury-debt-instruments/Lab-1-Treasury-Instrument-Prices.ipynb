{
 "cells": [
  {
   "cell_type": "markdown",
   "id": "b9717092-1139-407b-982e-720896090ba5",
   "metadata": {},
   "source": [
    "## CHEME 5660: The Price of Treasury Bill, Notes and Bonds"
   ]
  },
  {
   "cell_type": "markdown",
   "id": "a7f490e4-222c-4481-ac3a-ecee1629c1c6",
   "metadata": {},
   "source": [
    "Introduction goes here"
   ]
  },
  {
   "cell_type": "code",
   "execution_count": 1,
   "id": "f00080b3-911d-4ec4-b719-0e5463ce6015",
   "metadata": {},
   "outputs": [
    {
     "name": "stderr",
     "output_type": "stream",
     "text": [
      "\u001b[32m\u001b[1m  Activating\u001b[22m\u001b[39m project at `~/Desktop/julia_work/CHEME-5660-Markets-Mayhem-Example-Notebooks/labs/lab-1-treasury-debt-instruments`\n",
      "\u001b[32m\u001b[1m  No Changes\u001b[22m\u001b[39m to `~/Desktop/julia_work/CHEME-5660-Markets-Mayhem-Example-Notebooks/labs/lab-1-treasury-debt-instruments/Project.toml`\n",
      "\u001b[32m\u001b[1m  No Changes\u001b[22m\u001b[39m to `~/Desktop/julia_work/CHEME-5660-Markets-Mayhem-Example-Notebooks/labs/lab-1-treasury-debt-instruments/Manifest.toml`\n"
     ]
    }
   ],
   "source": [
    "import Pkg; Pkg.activate(\".\"); Pkg.resolve(); Pkg.instantiate();"
   ]
  },
  {
   "cell_type": "code",
   "execution_count": 11,
   "id": "6cc8cd7d-4a0f-416c-b248-70ba9461a74d",
   "metadata": {},
   "outputs": [],
   "source": [
    "# load external packages -\n",
    "using CSV\n",
    "using DataFrames\n",
    "using Plots"
   ]
  },
  {
   "cell_type": "code",
   "execution_count": 8,
   "id": "f888cbd9-eb93-4fc8-a6b5-2a5267562cf1",
   "metadata": {},
   "outputs": [],
   "source": [
    "# load the code library -\n",
    "include(\"CHEME-5660-Lab-1-Library.jl\");"
   ]
  },
  {
   "cell_type": "markdown",
   "id": "8ac715d7-f6d5-42f5-8dd2-0148230f191f",
   "metadata": {},
   "source": [
    "#### Code Check: Zero-coupon Treasury Bill Price"
   ]
  },
  {
   "cell_type": "markdown",
   "id": "7399a388-25f9-4a00-9c20-bcc97a7a66b6",
   "metadata": {},
   "source": [
    "Let's check the implementation of the ``price`` function for a zero coupon bond. Before we do anything, let's test the price function answer against examples we find online; one example is in the lecture notes from [IEOR 4700 at Columbia by Prof. K. Sigman](http://www.columbia.edu/~ks20/FE-Notes/FE-Notes-Sigman.html)."
   ]
  },
  {
   "cell_type": "code",
   "execution_count": 4,
   "id": "b949c0b8-650f-4c71-bd78-fdeec1e1d5d2",
   "metadata": {},
   "outputs": [],
   "source": [
    "# build a zero coupon model for the test calculation -\n",
    "zero_coupon_test_model = ZeroCouponBillModel()\n",
    "zero_coupon_test_model.r̄ = 0.04;      # annual market interest rate\n",
    "zero_coupon_test_model.T = 5.0;       # duration in years \n",
    "zero_coupon_test_model.Vₚ = 1000.0;   # face value\n",
    "zero_coupon_test_model.λ = 1.0;       # payments per year\n",
    "\n",
    "# Compute -\n",
    "VB_zc_example = price(zero_coupon_test_model);"
   ]
  },
  {
   "cell_type": "code",
   "execution_count": 5,
   "id": "5e400909-b7b4-43c5-b7b7-3ab9966b7c68",
   "metadata": {},
   "outputs": [
    {
     "name": "stdout",
     "output_type": "stream",
     "text": [
      "Calculated bill price: 822.0 USD. IEOR price: 822 USD\n"
     ]
    }
   ],
   "source": [
    "# Display -\n",
    "println(\"Calculated bill price: $(round(VB_zc_example, digits=0, base=10)) USD. IEOR price: 822 USD\")"
   ]
  },
  {
   "cell_type": "markdown",
   "id": "88c4bc56-6b4a-4e68-ae56-ea79b072c630",
   "metadata": {},
   "source": [
    "#### Code Check: T = 30 yr Semiannual Coupon Treasury Bond Price"
   ]
  },
  {
   "cell_type": "markdown",
   "id": "110bad44-d41b-4837-a98a-56e67c0ca242",
   "metadata": {},
   "source": [
    "Let's check the ``price`` calculation for a T = 30 year bond taken from Example 14.2 of the [BKM textbook](https://www.amazon.com/Investments-10th-Zvi-Bodie/dp/0077861671):\n",
    "\n",
    "* [Bodie, Kane, Marcus. Investments, 10th ISBN-10: 9780077861674](https://www.amazon.com/Investments-10th-Zvi-Bodie/dp/0077861671)"
   ]
  },
  {
   "cell_type": "code",
   "execution_count": 54,
   "id": "bec2a82c-7210-444f-b44c-d04977fb2093",
   "metadata": {},
   "outputs": [],
   "source": [
    "# build a T = 30 coupon bond model for the test calculation -\n",
    "coupon_test_model = MultipleCouponBondModel()\n",
    "coupon_test_model.c̄ = 0.08;    # coupon rate \n",
    "coupon_test_model.T = 30.0;    # 30.0 year bond term\n",
    "coupon_test_model.Vₚ = 1000.0; # face value of the bond\n",
    "coupon_test_model.r̄ = 0.10;    # interest rate\n",
    "coupon_test_model.λ = 2.0;     # number of payments per year\n",
    "\n",
    "# Compute the price of the bond -\n",
    "VB_30_example = price(coupon_test_model);"
   ]
  },
  {
   "cell_type": "code",
   "execution_count": 46,
   "id": "8fa3cd79-f425-451d-b3fb-b41f2fa0db28",
   "metadata": {},
   "outputs": [
    {
     "name": "stdout",
     "output_type": "stream",
     "text": [
      "Calculated GT30 bond price: 810.71 USD. BKM (Example 14.2) price: 810.71 USD\n"
     ]
    }
   ],
   "source": [
    "# Display -\n",
    "println(\"Calculated GT30 bond price: $(round(VB_30_example, digits=2, base=10)) USD. BKM (Example 14.2) price: 810.71 USD\");"
   ]
  },
  {
   "cell_type": "markdown",
   "id": "fb7bee63-902a-454a-9350-e37b93738a3c",
   "metadata": {},
   "source": []
  },
  {
   "cell_type": "code",
   "execution_count": null,
   "id": "5729a8ff-329b-4599-a8fc-aca6da89468c",
   "metadata": {},
   "outputs": [],
   "source": []
  },
  {
   "cell_type": "markdown",
   "id": "53611e75-2b1c-4e80-8076-2a6394d483a3",
   "metadata": {},
   "source": [
    "## Part I. Bond Pricing Calculations"
   ]
  },
  {
   "cell_type": "markdown",
   "id": "afb8b92b-2cc6-46cb-b851-29a1cda7478a",
   "metadata": {},
   "source": [
    "### a) Compute the price of a T = 30-year treasury bond sold at the 08/11/2022 auction\n",
    "Let's use the publicly available data to compute the price of a 30-year bond sold at the most recent auction. A T = 30-year bond was auctioned off on Thursday, August 11, 2022, with a settlement day of Monday, August 15, 2022 (this gives the term date: 08/15/2052). Compute the _fair price_ of the T = 30 year Treasury Bond (GT30) with par value of $V_{p}$ = 1000 USD assuming an annual coupon rate of $\\bar{c}$ = 3.0%?; coupon payments are made semi-annually (simple interest)."
   ]
  },
  {
   "cell_type": "code",
   "execution_count": 74,
   "id": "106fe4c1-9492-4bf5-bb84-e744606d2333",
   "metadata": {},
   "outputs": [
    {
     "data": {
      "text/plain": [
       "98.82765206189065"
      ]
     },
     "execution_count": 74,
     "metadata": {},
     "output_type": "execute_result"
    }
   ],
   "source": [
    "# build a T = 30 coupon bond model for the auction values\n",
    "GT30_auction_model = MultipleCouponBondModel()\n",
    "GT30_auction_model.c̄ = 0.03;     # coupon rate \n",
    "GT30_auction_model.T = 30.0;     # 30.0 year bond term\n",
    "GT30_auction_model.Vₚ = 1000.0;  # face value of the bond\n",
    "GT30_auction_model.λ = 2.0;      # number of payments per year\n",
    "\n",
    "# what is the market interest rate for 08/11/2022 (or as close as we can get to it)?\n",
    "# Look up from historical treasury data (in the data folder)\n",
    "GT30_auction_model.r̄ = 0.0306;   # interest rate from 08/12/2022 (from FedReserve)\n",
    "\n",
    "# Compute the price of the bond at auction -\n",
    "GT30_computed_price_at_auction = price(GT30_auction_model)*(100/1000)"
   ]
  },
  {
   "cell_type": "markdown",
   "id": "5243f799-d67e-4cda-8450-d0633fa3576e",
   "metadata": {},
   "source": [
    "### b) Compare the calculated versus quoted price for bond\n",
    "The latest price quote from the Wall Street Journal (WSJ) for T = 30-year bonds reported on ``09/16/2022`` is included in the data folder. The most recent interest rate data can be found at: https://www.federalreserve.gov/releases/h15/"
   ]
  },
  {
   "cell_type": "code",
   "execution_count": 77,
   "id": "f44df643-751c-4456-9fc3-0f80feec5176",
   "metadata": {},
   "outputs": [
    {
     "data": {
      "text/plain": [
       "91.10646687786874"
      ]
     },
     "execution_count": 77,
     "metadata": {},
     "output_type": "execute_result"
    }
   ],
   "source": [
    "# build a T = 30 coupon bond model for the auction values\n",
    "GT30_current_model = MultipleCouponBondModel()\n",
    "GT30_current_model.c̄ = 0.03;     # coupon rate \n",
    "GT30_current_model.T = 30.0;     # 30.0 year bond term\n",
    "GT30_current_model.Vₚ = 1000.0;  # face value of the bond\n",
    "GT30_current_model.λ = 2.0;      # number of payments per year\n",
    "\n",
    "# what is the market interest rate for 08/11/2022 (or as close as we can get to it)?\n",
    "# Look up from historical treasury data (in the data folder)\n",
    "GT30_current_model.r̄ = 0.0348;   # interest rate quote from 09/12/2022 (from FedReserve)\n",
    "\n",
    "# Compute the price of the bond at auction -\n",
    "GT30_computed_price_now = price(GT30_current_model)*(100/1000)"
   ]
  },
  {
   "cell_type": "markdown",
   "id": "0d45516e-abed-4b56-9955-84b7471dfec0",
   "metadata": {},
   "source": [
    "#### What is percentage change between the estimated and quoted price?"
   ]
  },
  {
   "cell_type": "code",
   "execution_count": 72,
   "id": "2e3d396a-680c-4727-8145-5d3df9ebe672",
   "metadata": {},
   "outputs": [],
   "source": [
    "GT30_quoted_price = 90.134; # Bid price WSJ 09/16/2022"
   ]
  },
  {
   "cell_type": "code",
   "execution_count": 85,
   "id": "44c966be-aaf7-4501-a72f-6fe3dca17b44",
   "metadata": {},
   "outputs": [
    {
     "name": "stdout",
     "output_type": "stream",
     "text": [
      "Percentage error in computed bond price: 1.08%\n"
     ]
    }
   ],
   "source": [
    "# compute percentage diff -\n",
    "Δ_quote = (GT30_computed_price_now - GT30_quoted_price)/(GT30_quoted_price)*100;\n",
    "\n",
    "# display -\n",
    "println(\"Percentage error in computed bond price: $(round(Δ_quote, digits=2, base=10))%\")"
   ]
  },
  {
   "cell_type": "markdown",
   "id": "c3270a84-1919-4162-b896-9e5bf405815d",
   "metadata": {},
   "source": [
    "#### What is percentage change between the purchase and current price?"
   ]
  },
  {
   "cell_type": "code",
   "execution_count": 88,
   "id": "508f68bf-9bd2-4562-88f6-ae3872a6c4e5",
   "metadata": {},
   "outputs": [
    {
     "name": "stdout",
     "output_type": "stream",
     "text": [
      "Percentage change in the market price of the bond: -7.81%\n"
     ]
    }
   ],
   "source": [
    "# what is the change in the market price of the bond?\n",
    "Δ_market = (GT30_computed_price_now - GT30_computed_price_at_auction)/(GT30_computed_price_at_auction)*100\n",
    "\n",
    "# display -\n",
    "println(\"Percentage change in the market price of the bond: $(round(Δ_market, digits=2, base=10))%\")"
   ]
  },
  {
   "cell_type": "markdown",
   "id": "2deccdc6-827b-4d02-bce3-ea84bb8944a5",
   "metadata": {},
   "source": [
    "## Part II. Computing the Bond Payoff"
   ]
  },
  {
   "cell_type": "markdown",
   "id": "ca449c2e-f12f-4a05-9d70-bc82db832a1b",
   "metadata": {},
   "source": [
    "## c) Interest Rate Risk Calculation\n",
    "Selected historical market interest rate data is available from the [Federal Reserve System](https://www.federalreserve.gov/releases/h15/). We downloaded the weekly interest rate dataset for 20-year and 30-year treasury bonds from ``2021-09-17`` to ``2022-09-09`` (approximately the last year)."
   ]
  },
  {
   "cell_type": "code",
   "execution_count": 10,
   "id": "f3639298-0b5d-4779-987d-310c6a740213",
   "metadata": {},
   "outputs": [],
   "source": [
    "# load the interest rate data -\n",
    "df = CSV.read(joinpath(\"./data/Treasury-HistoricalData-09-09-22.csv\"), DataFrame);"
   ]
  },
  {
   "cell_type": "code",
   "execution_count": 96,
   "id": "af87b449-fb92-46dd-ae3a-6263dee311ec",
   "metadata": {},
   "outputs": [
    {
     "data": {
      "image/svg+xml": [
       "<?xml version=\"1.0\" encoding=\"utf-8\"?>\n",
       "<svg xmlns=\"http://www.w3.org/2000/svg\" xmlns:xlink=\"http://www.w3.org/1999/xlink\" width=\"600\" height=\"400\" viewBox=\"0 0 2400 1600\">\n",
       "<defs>\n",
       "  <clipPath id=\"clip200\">\n",
       "    <rect x=\"0\" y=\"0\" width=\"2400\" height=\"1600\"/>\n",
       "  </clipPath>\n",
       "</defs>\n",
       "<path clip-path=\"url(#clip200)\" d=\"\n",
       "M0 1600 L2400 1600 L2400 0 L0 0  Z\n",
       "  \" fill=\"#ffffff\" fill-rule=\"evenodd\" fill-opacity=\"1\"/>\n",
       "<defs>\n",
       "  <clipPath id=\"clip201\">\n",
       "    <rect x=\"480\" y=\"0\" width=\"1681\" height=\"1600\"/>\n",
       "  </clipPath>\n",
       "</defs>\n",
       "<path clip-path=\"url(#clip200)\" d=\"\n",
       "M219.033 1423.18 L2352.76 1423.18 L2352.76 47.2441 L219.033 47.2441  Z\n",
       "  \" fill=\"#ffffff\" fill-rule=\"evenodd\" fill-opacity=\"1\"/>\n",
       "<defs>\n",
       "  <clipPath id=\"clip202\">\n",
       "    <rect x=\"219\" y=\"47\" width=\"2135\" height=\"1377\"/>\n",
       "  </clipPath>\n",
       "</defs>\n",
       "<polyline clip-path=\"url(#clip202)\" style=\"stroke:#000000; stroke-linecap:butt; stroke-linejoin:round; stroke-width:2; stroke-opacity:0.1; fill:none\" points=\"\n",
       "  239.952,1423.18 239.952,47.2441 \n",
       "  \"/>\n",
       "<polyline clip-path=\"url(#clip202)\" style=\"stroke:#000000; stroke-linecap:butt; stroke-linejoin:round; stroke-width:2; stroke-opacity:0.1; fill:none\" points=\"\n",
       "  634.647,1423.18 634.647,47.2441 \n",
       "  \"/>\n",
       "<polyline clip-path=\"url(#clip202)\" style=\"stroke:#000000; stroke-linecap:butt; stroke-linejoin:round; stroke-width:2; stroke-opacity:0.1; fill:none\" points=\"\n",
       "  1029.34,1423.18 1029.34,47.2441 \n",
       "  \"/>\n",
       "<polyline clip-path=\"url(#clip202)\" style=\"stroke:#000000; stroke-linecap:butt; stroke-linejoin:round; stroke-width:2; stroke-opacity:0.1; fill:none\" points=\"\n",
       "  1424.04,1423.18 1424.04,47.2441 \n",
       "  \"/>\n",
       "<polyline clip-path=\"url(#clip202)\" style=\"stroke:#000000; stroke-linecap:butt; stroke-linejoin:round; stroke-width:2; stroke-opacity:0.1; fill:none\" points=\"\n",
       "  1818.73,1423.18 1818.73,47.2441 \n",
       "  \"/>\n",
       "<polyline clip-path=\"url(#clip202)\" style=\"stroke:#000000; stroke-linecap:butt; stroke-linejoin:round; stroke-width:2; stroke-opacity:0.1; fill:none\" points=\"\n",
       "  2213.43,1423.18 2213.43,47.2441 \n",
       "  \"/>\n",
       "<polyline clip-path=\"url(#clip200)\" style=\"stroke:#000000; stroke-linecap:butt; stroke-linejoin:round; stroke-width:4; stroke-opacity:1; fill:none\" points=\"\n",
       "  219.033,1423.18 2352.76,1423.18 \n",
       "  \"/>\n",
       "<polyline clip-path=\"url(#clip200)\" style=\"stroke:#000000; stroke-linecap:butt; stroke-linejoin:round; stroke-width:4; stroke-opacity:1; fill:none\" points=\"\n",
       "  239.952,1423.18 239.952,1404.28 \n",
       "  \"/>\n",
       "<polyline clip-path=\"url(#clip200)\" style=\"stroke:#000000; stroke-linecap:butt; stroke-linejoin:round; stroke-width:4; stroke-opacity:1; fill:none\" points=\"\n",
       "  634.647,1423.18 634.647,1404.28 \n",
       "  \"/>\n",
       "<polyline clip-path=\"url(#clip200)\" style=\"stroke:#000000; stroke-linecap:butt; stroke-linejoin:round; stroke-width:4; stroke-opacity:1; fill:none\" points=\"\n",
       "  1029.34,1423.18 1029.34,1404.28 \n",
       "  \"/>\n",
       "<polyline clip-path=\"url(#clip200)\" style=\"stroke:#000000; stroke-linecap:butt; stroke-linejoin:round; stroke-width:4; stroke-opacity:1; fill:none\" points=\"\n",
       "  1424.04,1423.18 1424.04,1404.28 \n",
       "  \"/>\n",
       "<polyline clip-path=\"url(#clip200)\" style=\"stroke:#000000; stroke-linecap:butt; stroke-linejoin:round; stroke-width:4; stroke-opacity:1; fill:none\" points=\"\n",
       "  1818.73,1423.18 1818.73,1404.28 \n",
       "  \"/>\n",
       "<polyline clip-path=\"url(#clip200)\" style=\"stroke:#000000; stroke-linecap:butt; stroke-linejoin:round; stroke-width:4; stroke-opacity:1; fill:none\" points=\"\n",
       "  2213.43,1423.18 2213.43,1404.28 \n",
       "  \"/>\n",
       "<path clip-path=\"url(#clip200)\" d=\"M239.952 1454.1 Q236.341 1454.1 234.512 1457.66 Q232.706 1461.2 232.706 1468.33 Q232.706 1475.44 234.512 1479.01 Q236.341 1482.55 239.952 1482.55 Q243.586 1482.55 245.392 1479.01 Q247.22 1475.44 247.22 1468.33 Q247.22 1461.2 245.392 1457.66 Q243.586 1454.1 239.952 1454.1 M239.952 1450.39 Q245.762 1450.39 248.817 1455 Q251.896 1459.58 251.896 1468.33 Q251.896 1477.06 248.817 1481.67 Q245.762 1486.25 239.952 1486.25 Q234.142 1486.25 231.063 1481.67 Q228.007 1477.06 228.007 1468.33 Q228.007 1459.58 231.063 1455 Q234.142 1450.39 239.952 1450.39 Z\" fill=\"#000000\" fill-rule=\"evenodd\" fill-opacity=\"1\" /><path clip-path=\"url(#clip200)\" d=\"M609.335 1481.64 L616.974 1481.64 L616.974 1455.28 L608.663 1456.95 L608.663 1452.69 L616.927 1451.02 L621.603 1451.02 L621.603 1481.64 L629.242 1481.64 L629.242 1485.58 L609.335 1485.58 L609.335 1481.64 Z\" fill=\"#000000\" fill-rule=\"evenodd\" fill-opacity=\"1\" /><path clip-path=\"url(#clip200)\" d=\"M648.686 1454.1 Q645.075 1454.1 643.247 1457.66 Q641.441 1461.2 641.441 1468.33 Q641.441 1475.44 643.247 1479.01 Q645.075 1482.55 648.686 1482.55 Q652.321 1482.55 654.126 1479.01 Q655.955 1475.44 655.955 1468.33 Q655.955 1461.2 654.126 1457.66 Q652.321 1454.1 648.686 1454.1 M648.686 1450.39 Q654.497 1450.39 657.552 1455 Q660.631 1459.58 660.631 1468.33 Q660.631 1477.06 657.552 1481.67 Q654.497 1486.25 648.686 1486.25 Q642.876 1486.25 639.798 1481.67 Q636.742 1477.06 636.742 1468.33 Q636.742 1459.58 639.798 1455 Q642.876 1450.39 648.686 1450.39 Z\" fill=\"#000000\" fill-rule=\"evenodd\" fill-opacity=\"1\" /><path clip-path=\"url(#clip200)\" d=\"M1008.12 1481.64 L1024.44 1481.64 L1024.44 1485.58 L1002.49 1485.58 L1002.49 1481.64 Q1005.15 1478.89 1009.74 1474.26 Q1014.34 1469.61 1015.52 1468.27 Q1017.77 1465.74 1018.65 1464.01 Q1019.55 1462.25 1019.55 1460.56 Q1019.55 1457.8 1017.61 1456.07 Q1015.69 1454.33 1012.58 1454.33 Q1010.38 1454.33 1007.93 1455.09 Q1005.5 1455.86 1002.72 1457.41 L1002.72 1452.69 Q1005.55 1451.55 1008 1450.97 Q1010.45 1450.39 1012.49 1450.39 Q1017.86 1450.39 1021.06 1453.08 Q1024.25 1455.77 1024.25 1460.26 Q1024.25 1462.39 1023.44 1464.31 Q1022.65 1466.2 1020.55 1468.8 Q1019.97 1469.47 1016.87 1472.69 Q1013.76 1475.88 1008.12 1481.64 Z\" fill=\"#000000\" fill-rule=\"evenodd\" fill-opacity=\"1\" /><path clip-path=\"url(#clip200)\" d=\"M1044.25 1454.1 Q1040.64 1454.1 1038.81 1457.66 Q1037 1461.2 1037 1468.33 Q1037 1475.44 1038.81 1479.01 Q1040.64 1482.55 1044.25 1482.55 Q1047.88 1482.55 1049.69 1479.01 Q1051.52 1475.44 1051.52 1468.33 Q1051.52 1461.2 1049.69 1457.66 Q1047.88 1454.1 1044.25 1454.1 M1044.25 1450.39 Q1050.06 1450.39 1053.12 1455 Q1056.19 1459.58 1056.19 1468.33 Q1056.19 1477.06 1053.12 1481.67 Q1050.06 1486.25 1044.25 1486.25 Q1038.44 1486.25 1035.36 1481.67 Q1032.31 1477.06 1032.31 1468.33 Q1032.31 1459.58 1035.36 1455 Q1038.44 1450.39 1044.25 1450.39 Z\" fill=\"#000000\" fill-rule=\"evenodd\" fill-opacity=\"1\" /><path clip-path=\"url(#clip200)\" d=\"M1412.88 1466.95 Q1416.24 1467.66 1418.11 1469.93 Q1420.01 1472.2 1420.01 1475.53 Q1420.01 1480.65 1416.49 1483.45 Q1412.97 1486.25 1406.49 1486.25 Q1404.32 1486.25 1402 1485.81 Q1399.71 1485.39 1397.26 1484.54 L1397.26 1480.02 Q1399.2 1481.16 1401.51 1481.74 Q1403.83 1482.32 1406.35 1482.32 Q1410.75 1482.32 1413.04 1480.58 Q1415.36 1478.84 1415.36 1475.53 Q1415.36 1472.48 1413.2 1470.77 Q1411.07 1469.03 1407.26 1469.03 L1403.23 1469.03 L1403.23 1465.19 L1407.44 1465.19 Q1410.89 1465.19 1412.72 1463.82 Q1414.55 1462.43 1414.55 1459.84 Q1414.55 1457.18 1412.65 1455.77 Q1410.77 1454.33 1407.26 1454.33 Q1405.33 1454.33 1403.14 1454.75 Q1400.94 1455.16 1398.3 1456.04 L1398.3 1451.88 Q1400.96 1451.14 1403.27 1450.77 Q1405.61 1450.39 1407.67 1450.39 Q1413 1450.39 1416.1 1452.83 Q1419.2 1455.23 1419.2 1459.35 Q1419.2 1462.22 1417.56 1464.21 Q1415.91 1466.18 1412.88 1466.95 Z\" fill=\"#000000\" fill-rule=\"evenodd\" fill-opacity=\"1\" /><path clip-path=\"url(#clip200)\" d=\"M1438.88 1454.1 Q1435.26 1454.1 1433.44 1457.66 Q1431.63 1461.2 1431.63 1468.33 Q1431.63 1475.44 1433.44 1479.01 Q1435.26 1482.55 1438.88 1482.55 Q1442.51 1482.55 1444.32 1479.01 Q1446.14 1475.44 1446.14 1468.33 Q1446.14 1461.2 1444.32 1457.66 Q1442.51 1454.1 1438.88 1454.1 M1438.88 1450.39 Q1444.69 1450.39 1447.74 1455 Q1450.82 1459.58 1450.82 1468.33 Q1450.82 1477.06 1447.74 1481.67 Q1444.69 1486.25 1438.88 1486.25 Q1433.07 1486.25 1429.99 1481.67 Q1426.93 1477.06 1426.93 1468.33 Q1426.93 1459.58 1429.99 1455 Q1433.07 1450.39 1438.88 1450.39 Z\" fill=\"#000000\" fill-rule=\"evenodd\" fill-opacity=\"1\" /><path clip-path=\"url(#clip200)\" d=\"M1806.9 1455.09 L1795.1 1473.54 L1806.9 1473.54 L1806.9 1455.09 M1805.68 1451.02 L1811.56 1451.02 L1811.56 1473.54 L1816.49 1473.54 L1816.49 1477.43 L1811.56 1477.43 L1811.56 1485.58 L1806.9 1485.58 L1806.9 1477.43 L1791.3 1477.43 L1791.3 1472.92 L1805.68 1451.02 Z\" fill=\"#000000\" fill-rule=\"evenodd\" fill-opacity=\"1\" /><path clip-path=\"url(#clip200)\" d=\"M1834.22 1454.1 Q1830.61 1454.1 1828.78 1457.66 Q1826.97 1461.2 1826.97 1468.33 Q1826.97 1475.44 1828.78 1479.01 Q1830.61 1482.55 1834.22 1482.55 Q1837.85 1482.55 1839.66 1479.01 Q1841.49 1475.44 1841.49 1468.33 Q1841.49 1461.2 1839.66 1457.66 Q1837.85 1454.1 1834.22 1454.1 M1834.22 1450.39 Q1840.03 1450.39 1843.08 1455 Q1846.16 1459.58 1846.16 1468.33 Q1846.16 1477.06 1843.08 1481.67 Q1840.03 1486.25 1834.22 1486.25 Q1828.41 1486.25 1825.33 1481.67 Q1822.27 1477.06 1822.27 1468.33 Q1822.27 1459.58 1825.33 1455 Q1828.41 1450.39 1834.22 1450.39 Z\" fill=\"#000000\" fill-rule=\"evenodd\" fill-opacity=\"1\" /><path clip-path=\"url(#clip200)\" d=\"M2188.13 1451.02 L2206.48 1451.02 L2206.48 1454.96 L2192.41 1454.96 L2192.41 1463.43 Q2193.43 1463.08 2194.45 1462.92 Q2195.47 1462.73 2196.48 1462.73 Q2202.27 1462.73 2205.65 1465.9 Q2209.03 1469.08 2209.03 1474.49 Q2209.03 1480.07 2205.56 1483.17 Q2202.09 1486.25 2195.77 1486.25 Q2193.59 1486.25 2191.32 1485.88 Q2189.08 1485.51 2186.67 1484.77 L2186.67 1480.07 Q2188.75 1481.2 2190.97 1481.76 Q2193.2 1482.32 2195.67 1482.32 Q2199.68 1482.32 2202.02 1480.21 Q2204.35 1478.1 2204.35 1474.49 Q2204.35 1470.88 2202.02 1468.77 Q2199.68 1466.67 2195.67 1466.67 Q2193.8 1466.67 2191.92 1467.08 Q2190.07 1467.5 2188.13 1468.38 L2188.13 1451.02 Z\" fill=\"#000000\" fill-rule=\"evenodd\" fill-opacity=\"1\" /><path clip-path=\"url(#clip200)\" d=\"M2228.24 1454.1 Q2224.63 1454.1 2222.8 1457.66 Q2221 1461.2 2221 1468.33 Q2221 1475.44 2222.8 1479.01 Q2224.63 1482.55 2228.24 1482.55 Q2231.88 1482.55 2233.68 1479.01 Q2235.51 1475.44 2235.51 1468.33 Q2235.51 1461.2 2233.68 1457.66 Q2231.88 1454.1 2228.24 1454.1 M2228.24 1450.39 Q2234.05 1450.39 2237.11 1455 Q2240.19 1459.58 2240.19 1468.33 Q2240.19 1477.06 2237.11 1481.67 Q2234.05 1486.25 2228.24 1486.25 Q2222.43 1486.25 2219.35 1481.67 Q2216.3 1477.06 2216.3 1468.33 Q2216.3 1459.58 2219.35 1455 Q2222.43 1450.39 2228.24 1450.39 Z\" fill=\"#000000\" fill-rule=\"evenodd\" fill-opacity=\"1\" /><path clip-path=\"url(#clip200)\" d=\"M900.546 1520.52 L907.039 1520.52 L917.034 1560.69 L926.996 1520.52 L934.221 1520.52 L944.215 1560.69 L954.177 1520.52 L960.702 1520.52 L948.767 1568.04 L940.682 1568.04 L930.656 1526.79 L920.535 1568.04 L912.45 1568.04 L900.546 1520.52 Z\" fill=\"#000000\" fill-rule=\"evenodd\" fill-opacity=\"1\" /><path clip-path=\"url(#clip200)\" d=\"M995.65 1548.76 L995.65 1551.62 L968.723 1551.62 Q969.105 1557.67 972.352 1560.85 Q975.63 1564 981.455 1564 Q984.828 1564 987.979 1563.17 Q991.162 1562.35 994.281 1560.69 L994.281 1566.23 Q991.13 1567.57 987.82 1568.27 Q984.51 1568.97 981.104 1568.97 Q972.574 1568.97 967.577 1564 Q962.612 1559.04 962.612 1550.57 Q962.612 1541.82 967.323 1536.69 Q972.065 1531.54 980.086 1531.54 Q987.279 1531.54 991.449 1536.18 Q995.65 1540.8 995.65 1548.76 M989.794 1547.04 Q989.73 1542.23 987.088 1539.37 Q984.478 1536.5 980.15 1536.5 Q975.248 1536.5 972.288 1539.27 Q969.36 1542.04 968.914 1547.07 L989.794 1547.04 Z\" fill=\"#000000\" fill-rule=\"evenodd\" fill-opacity=\"1\" /><path clip-path=\"url(#clip200)\" d=\"M1035.75 1548.76 L1035.75 1551.62 L1008.83 1551.62 Q1009.21 1557.67 1012.46 1560.85 Q1015.73 1564 1021.56 1564 Q1024.93 1564 1028.08 1563.17 Q1031.27 1562.35 1034.39 1560.69 L1034.39 1566.23 Q1031.23 1567.57 1027.92 1568.27 Q1024.61 1568.97 1021.21 1568.97 Q1012.68 1568.97 1007.68 1564 Q1002.72 1559.04 1002.72 1550.57 Q1002.72 1541.82 1007.43 1536.69 Q1012.17 1531.54 1020.19 1531.54 Q1027.38 1531.54 1031.55 1536.18 Q1035.75 1540.8 1035.75 1548.76 M1029.9 1547.04 Q1029.83 1542.23 1027.19 1539.37 Q1024.58 1536.5 1020.25 1536.5 Q1015.35 1536.5 1012.39 1539.27 Q1009.46 1542.04 1009.02 1547.07 L1029.9 1547.04 Z\" fill=\"#000000\" fill-rule=\"evenodd\" fill-opacity=\"1\" /><path clip-path=\"url(#clip200)\" d=\"M1045.14 1518.52 L1051.03 1518.52 L1051.03 1547.77 L1068.51 1532.4 L1075.99 1532.4 L1057.08 1549.07 L1076.78 1568.04 L1069.14 1568.04 L1051.03 1550.63 L1051.03 1568.04 L1045.14 1568.04 L1045.14 1518.52 Z\" fill=\"#000000\" fill-rule=\"evenodd\" fill-opacity=\"1\" /><path clip-path=\"url(#clip200)\" d=\"M1083.11 1518.52 L1088.97 1518.52 L1088.97 1568.04 L1083.11 1568.04 L1083.11 1518.52 Z\" fill=\"#000000\" fill-rule=\"evenodd\" fill-opacity=\"1\" /><path clip-path=\"url(#clip200)\" d=\"M1116.06 1571.35 Q1113.57 1577.72 1111.22 1579.66 Q1108.86 1581.6 1104.92 1581.6 L1100.24 1581.6 L1100.24 1576.7 L1103.68 1576.7 Q1106.1 1576.7 1107.43 1575.56 Q1108.77 1574.41 1110.39 1570.14 L1111.44 1567.47 L1097.02 1532.4 L1103.23 1532.4 L1114.37 1560.28 L1125.51 1532.4 L1131.72 1532.4 L1116.06 1571.35 Z\" fill=\"#000000\" fill-rule=\"evenodd\" fill-opacity=\"1\" /><path clip-path=\"url(#clip200)\" d=\"M1154.19 1520.52 L1194.39 1520.52 L1194.39 1525.93 L1177.52 1525.93 L1177.52 1568.04 L1171.06 1568.04 L1171.06 1525.93 L1154.19 1525.93 L1154.19 1520.52 Z\" fill=\"#000000\" fill-rule=\"evenodd\" fill-opacity=\"1\" /><path clip-path=\"url(#clip200)\" d=\"M1198.33 1532.4 L1204.19 1532.4 L1204.19 1568.04 L1198.33 1568.04 L1198.33 1532.4 M1198.33 1518.52 L1204.19 1518.52 L1204.19 1525.93 L1198.33 1525.93 L1198.33 1518.52 Z\" fill=\"#000000\" fill-rule=\"evenodd\" fill-opacity=\"1\" /><path clip-path=\"url(#clip200)\" d=\"M1244.2 1539.24 Q1246.4 1535.29 1249.45 1533.41 Q1252.51 1531.54 1256.64 1531.54 Q1262.21 1531.54 1265.24 1535.45 Q1268.26 1539.33 1268.26 1546.53 L1268.26 1568.04 L1262.37 1568.04 L1262.37 1546.72 Q1262.37 1541.59 1260.56 1539.11 Q1258.74 1536.63 1255.02 1536.63 Q1250.47 1536.63 1247.83 1539.65 Q1245.19 1542.68 1245.19 1547.9 L1245.19 1568.04 L1239.3 1568.04 L1239.3 1546.72 Q1239.3 1541.56 1237.48 1539.11 Q1235.67 1536.63 1231.88 1536.63 Q1227.39 1536.63 1224.75 1539.68 Q1222.11 1542.71 1222.11 1547.9 L1222.11 1568.04 L1216.22 1568.04 L1216.22 1532.4 L1222.11 1532.4 L1222.11 1537.93 Q1224.12 1534.66 1226.92 1533.1 Q1229.72 1531.54 1233.57 1531.54 Q1237.45 1531.54 1240.16 1533.51 Q1242.89 1535.48 1244.2 1539.24 Z\" fill=\"#000000\" fill-rule=\"evenodd\" fill-opacity=\"1\" /><path clip-path=\"url(#clip200)\" d=\"M1310.43 1548.76 L1310.43 1551.62 L1283.51 1551.62 Q1283.89 1557.67 1287.14 1560.85 Q1290.41 1564 1296.24 1564 Q1299.61 1564 1302.76 1563.17 Q1305.95 1562.35 1309.07 1560.69 L1309.07 1566.23 Q1305.91 1567.57 1302.6 1568.27 Q1299.29 1568.97 1295.89 1568.97 Q1287.36 1568.97 1282.36 1564 Q1277.4 1559.04 1277.4 1550.57 Q1277.4 1541.82 1282.11 1536.69 Q1286.85 1531.54 1294.87 1531.54 Q1302.06 1531.54 1306.23 1536.18 Q1310.43 1540.8 1310.43 1548.76 M1304.58 1547.04 Q1304.51 1542.23 1301.87 1539.37 Q1299.26 1536.5 1294.93 1536.5 Q1290.03 1536.5 1287.07 1539.27 Q1284.14 1542.04 1283.7 1547.07 L1304.58 1547.04 Z\" fill=\"#000000\" fill-rule=\"evenodd\" fill-opacity=\"1\" /><path clip-path=\"url(#clip200)\" d=\"M1340.77 1532.4 L1346.62 1532.4 L1346.62 1568.04 L1340.77 1568.04 L1340.77 1532.4 M1340.77 1518.52 L1346.62 1518.52 L1346.62 1525.93 L1340.77 1525.93 L1340.77 1518.52 Z\" fill=\"#000000\" fill-rule=\"evenodd\" fill-opacity=\"1\" /><path clip-path=\"url(#clip200)\" d=\"M1388.51 1546.53 L1388.51 1568.04 L1382.65 1568.04 L1382.65 1546.72 Q1382.65 1541.66 1380.68 1539.14 Q1378.71 1536.63 1374.76 1536.63 Q1370.02 1536.63 1367.28 1539.65 Q1364.54 1542.68 1364.54 1547.9 L1364.54 1568.04 L1358.65 1568.04 L1358.65 1532.4 L1364.54 1532.4 L1364.54 1537.93 Q1366.64 1534.72 1369.48 1533.13 Q1372.34 1531.54 1376.06 1531.54 Q1382.21 1531.54 1385.36 1535.36 Q1388.51 1539.14 1388.51 1546.53 Z\" fill=\"#000000\" fill-rule=\"evenodd\" fill-opacity=\"1\" /><path clip-path=\"url(#clip200)\" d=\"M1423.65 1537.81 L1423.65 1518.52 L1429.5 1518.52 L1429.5 1568.04 L1423.65 1568.04 L1423.65 1562.7 Q1421.8 1565.88 1418.97 1567.44 Q1416.17 1568.97 1412.22 1568.97 Q1405.76 1568.97 1401.69 1563.81 Q1397.64 1558.65 1397.64 1550.25 Q1397.64 1541.85 1401.69 1536.69 Q1405.76 1531.54 1412.22 1531.54 Q1416.17 1531.54 1418.97 1533.1 Q1421.8 1534.62 1423.65 1537.81 M1403.69 1550.25 Q1403.69 1556.71 1406.33 1560.4 Q1409.01 1564.07 1413.65 1564.07 Q1418.3 1564.07 1420.97 1560.4 Q1423.65 1556.71 1423.65 1550.25 Q1423.65 1543.79 1420.97 1540.13 Q1418.3 1536.44 1413.65 1536.44 Q1409.01 1536.44 1406.33 1540.13 Q1403.69 1543.79 1403.69 1550.25 Z\" fill=\"#000000\" fill-rule=\"evenodd\" fill-opacity=\"1\" /><path clip-path=\"url(#clip200)\" d=\"M1472.06 1548.76 L1472.06 1551.62 L1445.13 1551.62 Q1445.51 1557.67 1448.76 1560.85 Q1452.04 1564 1457.86 1564 Q1461.24 1564 1464.39 1563.17 Q1467.57 1562.35 1470.69 1560.69 L1470.69 1566.23 Q1467.54 1567.57 1464.23 1568.27 Q1460.92 1568.97 1457.51 1568.97 Q1448.98 1568.97 1443.99 1564 Q1439.02 1559.04 1439.02 1550.57 Q1439.02 1541.82 1443.73 1536.69 Q1448.47 1531.54 1456.5 1531.54 Q1463.69 1531.54 1467.86 1536.18 Q1472.06 1540.8 1472.06 1548.76 M1466.2 1547.04 Q1466.14 1542.23 1463.5 1539.37 Q1460.89 1536.5 1456.56 1536.5 Q1451.66 1536.5 1448.7 1539.27 Q1445.77 1542.04 1445.32 1547.07 L1466.2 1547.04 Z\" fill=\"#000000\" fill-rule=\"evenodd\" fill-opacity=\"1\" /><path clip-path=\"url(#clip200)\" d=\"M1510.16 1532.4 L1497.27 1549.74 L1510.83 1568.04 L1503.92 1568.04 L1493.54 1554.04 L1483.17 1568.04 L1476.26 1568.04 L1490.11 1549.39 L1477.44 1532.4 L1484.35 1532.4 L1493.8 1545.1 L1503.25 1532.4 L1510.16 1532.4 Z\" fill=\"#000000\" fill-rule=\"evenodd\" fill-opacity=\"1\" /><path clip-path=\"url(#clip200)\" d=\"M1553.89 1518.58 Q1549.63 1525.9 1547.56 1533.06 Q1545.49 1540.23 1545.49 1547.58 Q1545.49 1554.93 1547.56 1562.16 Q1549.66 1569.35 1553.89 1576.64 L1548.8 1576.64 Q1544.02 1569.16 1541.64 1561.93 Q1539.28 1554.71 1539.28 1547.58 Q1539.28 1540.48 1541.64 1533.29 Q1543.99 1526.09 1548.8 1518.58 L1553.89 1518.58 Z\" fill=\"#000000\" fill-rule=\"evenodd\" fill-opacity=\"1\" /><path clip-path=\"url(#clip200)\" d=\"M1581.39 1526.86 L1572.67 1550.51 L1590.14 1550.51 L1581.39 1526.86 M1577.76 1520.52 L1585.05 1520.52 L1603.16 1568.04 L1596.48 1568.04 L1592.15 1555.85 L1570.73 1555.85 L1566.4 1568.04 L1559.62 1568.04 L1577.76 1520.52 Z\" fill=\"#000000\" fill-rule=\"evenodd\" fill-opacity=\"1\" /><path clip-path=\"url(#clip200)\" d=\"M1609.37 1520.52 L1615.83 1520.52 L1615.83 1549.39 Q1615.83 1557.03 1618.6 1560.4 Q1621.37 1563.75 1627.57 1563.75 Q1633.75 1563.75 1636.52 1560.4 Q1639.29 1557.03 1639.29 1549.39 L1639.29 1520.52 L1645.75 1520.52 L1645.75 1550.19 Q1645.75 1559.48 1641.13 1564.22 Q1636.55 1568.97 1627.57 1568.97 Q1618.57 1568.97 1613.95 1564.22 Q1609.37 1559.48 1609.37 1550.19 L1609.37 1520.52 Z\" fill=\"#000000\" fill-rule=\"evenodd\" fill-opacity=\"1\" /><path clip-path=\"url(#clip200)\" d=\"M1656.63 1518.58 L1661.73 1518.58 Q1666.5 1526.09 1668.86 1533.29 Q1671.24 1540.48 1671.24 1547.58 Q1671.24 1554.71 1668.86 1561.93 Q1666.5 1569.16 1661.73 1576.64 L1656.63 1576.64 Q1660.87 1569.35 1662.94 1562.16 Q1665.04 1554.93 1665.04 1547.58 Q1665.04 1540.23 1662.94 1533.06 Q1660.87 1525.9 1656.63 1518.58 Z\" fill=\"#000000\" fill-rule=\"evenodd\" fill-opacity=\"1\" /><polyline clip-path=\"url(#clip202)\" style=\"stroke:#000000; stroke-linecap:butt; stroke-linejoin:round; stroke-width:2; stroke-opacity:0.1; fill:none\" points=\"\n",
       "  219.033,1207.58 2352.76,1207.58 \n",
       "  \"/>\n",
       "<polyline clip-path=\"url(#clip202)\" style=\"stroke:#000000; stroke-linecap:butt; stroke-linejoin:round; stroke-width:2; stroke-opacity:0.1; fill:none\" points=\"\n",
       "  219.033,823.541 2352.76,823.541 \n",
       "  \"/>\n",
       "<polyline clip-path=\"url(#clip202)\" style=\"stroke:#000000; stroke-linecap:butt; stroke-linejoin:round; stroke-width:2; stroke-opacity:0.1; fill:none\" points=\"\n",
       "  219.033,439.502 2352.76,439.502 \n",
       "  \"/>\n",
       "<polyline clip-path=\"url(#clip202)\" style=\"stroke:#000000; stroke-linecap:butt; stroke-linejoin:round; stroke-width:2; stroke-opacity:0.1; fill:none\" points=\"\n",
       "  219.033,55.4625 2352.76,55.4625 \n",
       "  \"/>\n",
       "<polyline clip-path=\"url(#clip200)\" style=\"stroke:#000000; stroke-linecap:butt; stroke-linejoin:round; stroke-width:4; stroke-opacity:1; fill:none\" points=\"\n",
       "  219.033,1423.18 219.033,47.2441 \n",
       "  \"/>\n",
       "<polyline clip-path=\"url(#clip200)\" style=\"stroke:#000000; stroke-linecap:butt; stroke-linejoin:round; stroke-width:4; stroke-opacity:1; fill:none\" points=\"\n",
       "  219.033,1207.58 237.931,1207.58 \n",
       "  \"/>\n",
       "<polyline clip-path=\"url(#clip200)\" style=\"stroke:#000000; stroke-linecap:butt; stroke-linejoin:round; stroke-width:4; stroke-opacity:1; fill:none\" points=\"\n",
       "  219.033,823.541 237.931,823.541 \n",
       "  \"/>\n",
       "<polyline clip-path=\"url(#clip200)\" style=\"stroke:#000000; stroke-linecap:butt; stroke-linejoin:round; stroke-width:4; stroke-opacity:1; fill:none\" points=\"\n",
       "  219.033,439.502 237.931,439.502 \n",
       "  \"/>\n",
       "<polyline clip-path=\"url(#clip200)\" style=\"stroke:#000000; stroke-linecap:butt; stroke-linejoin:round; stroke-width:4; stroke-opacity:1; fill:none\" points=\"\n",
       "  219.033,55.4625 237.931,55.4625 \n",
       "  \"/>\n",
       "<path clip-path=\"url(#clip200)\" d=\"M119.885 1220.93 L136.204 1220.93 L136.204 1224.86 L114.26 1224.86 L114.26 1220.93 Q116.922 1218.17 121.505 1213.54 Q126.112 1208.89 127.292 1207.55 Q129.538 1205.02 130.417 1203.29 Q131.32 1201.53 131.32 1199.84 Q131.32 1197.08 129.376 1195.35 Q127.455 1193.61 124.353 1193.61 Q122.154 1193.61 119.7 1194.37 Q117.269 1195.14 114.492 1196.69 L114.492 1191.97 Q117.316 1190.83 119.769 1190.25 Q122.223 1189.68 124.26 1189.68 Q129.63 1189.68 132.825 1192.36 Q136.019 1195.05 136.019 1199.54 Q136.019 1201.67 135.209 1203.59 Q134.422 1205.49 132.316 1208.08 Q131.737 1208.75 128.635 1211.97 Q125.533 1215.16 119.885 1220.93 Z\" fill=\"#000000\" fill-rule=\"evenodd\" fill-opacity=\"1\" /><path clip-path=\"url(#clip200)\" d=\"M146.019 1218.98 L150.903 1218.98 L150.903 1224.86 L146.019 1224.86 L146.019 1218.98 Z\" fill=\"#000000\" fill-rule=\"evenodd\" fill-opacity=\"1\" /><path clip-path=\"url(#clip200)\" d=\"M171.089 1193.38 Q167.477 1193.38 165.649 1196.94 Q163.843 1200.49 163.843 1207.61 Q163.843 1214.72 165.649 1218.29 Q167.477 1221.83 171.089 1221.83 Q174.723 1221.83 176.528 1218.29 Q178.357 1214.72 178.357 1207.61 Q178.357 1200.49 176.528 1196.94 Q174.723 1193.38 171.089 1193.38 M171.089 1189.68 Q176.899 1189.68 179.954 1194.28 Q183.033 1198.86 183.033 1207.61 Q183.033 1216.34 179.954 1220.95 Q176.899 1225.53 171.089 1225.53 Q165.278 1225.53 162.2 1220.95 Q159.144 1216.34 159.144 1207.61 Q159.144 1198.86 162.2 1194.28 Q165.278 1189.68 171.089 1189.68 Z\" fill=\"#000000\" fill-rule=\"evenodd\" fill-opacity=\"1\" /><path clip-path=\"url(#clip200)\" d=\"M120.88 836.886 L137.2 836.886 L137.2 840.821 L115.256 840.821 L115.256 836.886 Q117.918 834.131 122.501 829.502 Q127.107 824.849 128.288 823.506 Q130.533 820.983 131.413 819.247 Q132.316 817.488 132.316 815.798 Q132.316 813.043 130.371 811.307 Q128.45 809.571 125.348 809.571 Q123.149 809.571 120.695 810.335 Q118.265 811.099 115.487 812.65 L115.487 807.928 Q118.311 806.793 120.765 806.215 Q123.218 805.636 125.255 805.636 Q130.626 805.636 133.82 808.321 Q137.015 811.006 137.015 815.497 Q137.015 817.627 136.204 819.548 Q135.417 821.446 133.311 824.039 Q132.732 824.71 129.63 827.928 Q126.529 831.122 120.88 836.886 Z\" fill=\"#000000\" fill-rule=\"evenodd\" fill-opacity=\"1\" /><path clip-path=\"url(#clip200)\" d=\"M147.015 834.941 L151.899 834.941 L151.899 840.821 L147.015 840.821 L147.015 834.941 Z\" fill=\"#000000\" fill-rule=\"evenodd\" fill-opacity=\"1\" /><path clip-path=\"url(#clip200)\" d=\"M162.13 806.261 L180.487 806.261 L180.487 810.196 L166.413 810.196 L166.413 818.668 Q167.431 818.321 168.45 818.159 Q169.468 817.974 170.487 817.974 Q176.274 817.974 179.653 821.145 Q183.033 824.316 183.033 829.733 Q183.033 835.312 179.561 838.414 Q176.089 841.492 169.769 841.492 Q167.593 841.492 165.325 841.122 Q163.079 840.752 160.672 840.011 L160.672 835.312 Q162.755 836.446 164.977 837.002 Q167.2 837.557 169.677 837.557 Q173.681 837.557 176.019 835.451 Q178.357 833.344 178.357 829.733 Q178.357 826.122 176.019 824.016 Q173.681 821.909 169.677 821.909 Q167.802 821.909 165.927 822.326 Q164.075 822.742 162.13 823.622 L162.13 806.261 Z\" fill=\"#000000\" fill-rule=\"evenodd\" fill-opacity=\"1\" /><path clip-path=\"url(#clip200)\" d=\"M130.024 438.148 Q133.38 438.865 135.255 441.134 Q137.154 443.402 137.154 446.736 Q137.154 451.851 133.635 454.652 Q130.117 457.453 123.635 457.453 Q121.459 457.453 119.144 457.013 Q116.853 456.597 114.399 455.74 L114.399 451.226 Q116.343 452.36 118.658 452.939 Q120.973 453.518 123.496 453.518 Q127.894 453.518 130.186 451.782 Q132.501 450.046 132.501 446.736 Q132.501 443.68 130.348 441.967 Q128.218 440.231 124.399 440.231 L120.371 440.231 L120.371 436.388 L124.584 436.388 Q128.033 436.388 129.862 435.023 Q131.691 433.634 131.691 431.041 Q131.691 428.379 129.792 426.967 Q127.917 425.532 124.399 425.532 Q122.478 425.532 120.279 425.949 Q118.08 426.365 115.441 427.245 L115.441 423.078 Q118.103 422.338 120.418 421.967 Q122.755 421.597 124.816 421.597 Q130.14 421.597 133.242 424.027 Q136.343 426.435 136.343 430.555 Q136.343 433.425 134.7 435.416 Q133.056 437.384 130.024 438.148 Z\" fill=\"#000000\" fill-rule=\"evenodd\" fill-opacity=\"1\" /><path clip-path=\"url(#clip200)\" d=\"M146.019 450.902 L150.903 450.902 L150.903 456.782 L146.019 456.782 L146.019 450.902 Z\" fill=\"#000000\" fill-rule=\"evenodd\" fill-opacity=\"1\" /><path clip-path=\"url(#clip200)\" d=\"M171.089 425.3 Q167.477 425.3 165.649 428.865 Q163.843 432.407 163.843 439.536 Q163.843 446.643 165.649 450.208 Q167.477 453.749 171.089 453.749 Q174.723 453.749 176.528 450.208 Q178.357 446.643 178.357 439.536 Q178.357 432.407 176.528 428.865 Q174.723 425.3 171.089 425.3 M171.089 421.597 Q176.899 421.597 179.954 426.203 Q183.033 430.787 183.033 439.536 Q183.033 448.263 179.954 452.87 Q176.899 457.453 171.089 457.453 Q165.278 457.453 162.2 452.87 Q159.144 448.263 159.144 439.536 Q159.144 430.787 162.2 426.203 Q165.278 421.597 171.089 421.597 Z\" fill=\"#000000\" fill-rule=\"evenodd\" fill-opacity=\"1\" /><path clip-path=\"url(#clip200)\" d=\"M131.019 54.1084 Q134.376 54.826 136.251 57.0945 Q138.149 59.363 138.149 62.6963 Q138.149 67.812 134.63 70.6129 Q131.112 73.4138 124.63 73.4138 Q122.455 73.4138 120.14 72.974 Q117.848 72.5573 115.394 71.7009 L115.394 67.187 Q117.339 68.3213 119.654 68.9 Q121.968 69.4787 124.492 69.4787 Q128.89 69.4787 131.181 67.7426 Q133.496 66.0065 133.496 62.6963 Q133.496 59.6408 131.343 57.9278 Q129.214 56.1917 125.394 56.1917 L121.367 56.1917 L121.367 52.3491 L125.58 52.3491 Q129.029 52.3491 130.857 50.9834 Q132.686 49.5945 132.686 47.0019 Q132.686 44.3399 130.788 42.9279 Q128.913 41.4927 125.394 41.4927 Q123.473 41.4927 121.274 41.9094 Q119.075 42.326 116.436 43.2057 L116.436 39.039 Q119.098 38.2983 121.413 37.9279 Q123.751 37.5575 125.811 37.5575 Q131.135 37.5575 134.237 39.9881 Q137.339 42.3955 137.339 46.5158 Q137.339 49.3862 135.695 51.3769 Q134.052 53.3445 131.019 54.1084 Z\" fill=\"#000000\" fill-rule=\"evenodd\" fill-opacity=\"1\" /><path clip-path=\"url(#clip200)\" d=\"M147.015 66.8629 L151.899 66.8629 L151.899 72.7425 L147.015 72.7425 L147.015 66.8629 Z\" fill=\"#000000\" fill-rule=\"evenodd\" fill-opacity=\"1\" /><path clip-path=\"url(#clip200)\" d=\"M162.13 38.1825 L180.487 38.1825 L180.487 42.1177 L166.413 42.1177 L166.413 50.5899 Q167.431 50.2427 168.45 50.0806 Q169.468 49.8954 170.487 49.8954 Q176.274 49.8954 179.653 53.0667 Q183.033 56.238 183.033 61.6546 Q183.033 67.2333 179.561 70.3351 Q176.089 73.4138 169.769 73.4138 Q167.593 73.4138 165.325 73.0435 Q163.079 72.6731 160.672 71.9324 L160.672 67.2333 Q162.755 68.3676 164.977 68.9231 Q167.2 69.4787 169.677 69.4787 Q173.681 69.4787 176.019 67.3722 Q178.357 65.2657 178.357 61.6546 Q178.357 58.0435 176.019 55.9371 Q173.681 53.8306 169.677 53.8306 Q167.802 53.8306 165.927 54.2473 Q164.075 54.6639 162.13 55.5436 L162.13 38.1825 Z\" fill=\"#000000\" fill-rule=\"evenodd\" fill-opacity=\"1\" /><path clip-path=\"url(#clip200)\" d=\"M41.3104 961.147 L58.7206 961.147 L58.7206 950.834 Q58.7206 945.646 56.5881 943.164 Q54.4238 940.649 49.9996 940.649 Q45.5436 940.649 43.4429 943.164 Q41.3104 945.646 41.3104 950.834 L41.3104 961.147 M21.7677 961.147 L36.0905 961.147 L36.0905 951.63 Q36.0905 946.919 34.34 944.628 Q32.5576 942.304 28.9291 942.304 Q25.3325 942.304 23.5501 944.628 Q21.7677 946.919 21.7677 951.63 L21.7677 961.147 M16.4842 967.576 L16.4842 951.153 Q16.4842 943.8 19.5397 939.822 Q22.5952 935.843 28.2289 935.843 Q32.5894 935.843 35.1675 937.88 Q37.7456 939.917 38.3822 943.864 Q39.4007 939.121 42.6472 936.512 Q45.8619 933.87 50.6998 933.87 Q57.0655 933.87 60.5348 938.198 Q64.0042 942.527 64.0042 950.516 L64.0042 967.576 L16.4842 967.576 Z\" fill=\"#000000\" fill-rule=\"evenodd\" fill-opacity=\"1\" /><path clip-path=\"url(#clip200)\" d=\"M32.4621 909.298 Q32.4621 914.009 36.1542 916.746 Q39.8145 919.483 46.212 919.483 Q52.6095 919.483 56.3017 916.778 Q59.9619 914.041 59.9619 909.298 Q59.9619 904.619 56.2698 901.882 Q52.5777 899.145 46.212 899.145 Q39.8781 899.145 36.186 901.882 Q32.4621 904.619 32.4621 909.298 M27.4968 909.298 Q27.4968 901.659 32.4621 897.299 Q37.4273 892.938 46.212 892.938 Q54.9649 892.938 59.9619 897.299 Q64.9272 901.659 64.9272 909.298 Q64.9272 916.969 59.9619 921.329 Q54.9649 925.658 46.212 925.658 Q37.4273 925.658 32.4621 921.329 Q27.4968 916.969 27.4968 909.298 Z\" fill=\"#000000\" fill-rule=\"evenodd\" fill-opacity=\"1\" /><path clip-path=\"url(#clip200)\" d=\"M42.4881 853.598 L64.0042 853.598 L64.0042 859.455 L42.679 859.455 Q37.6183 859.455 35.1038 861.428 Q32.5894 863.401 32.5894 867.348 Q32.5894 872.091 35.6131 874.828 Q38.6368 877.565 43.8567 877.565 L64.0042 877.565 L64.0042 883.453 L28.3562 883.453 L28.3562 877.565 L33.8944 877.565 Q30.6797 875.464 29.0883 872.632 Q27.4968 869.767 27.4968 866.043 Q27.4968 859.9 31.3163 856.749 Q35.1038 853.598 42.4881 853.598 Z\" fill=\"#000000\" fill-rule=\"evenodd\" fill-opacity=\"1\" /><path clip-path=\"url(#clip200)\" d=\"M33.7671 818.459 L14.479 818.459 L14.479 812.603 L64.0042 812.603 L64.0042 818.459 L58.657 818.459 Q61.8398 820.306 63.3994 823.138 Q64.9272 825.939 64.9272 829.886 Q64.9272 836.347 59.771 840.421 Q54.6147 844.463 46.212 844.463 Q37.8093 844.463 32.6531 840.421 Q27.4968 836.347 27.4968 829.886 Q27.4968 825.939 29.0564 823.138 Q30.5842 820.306 33.7671 818.459 M46.212 838.416 Q52.6732 838.416 56.3653 835.774 Q60.0256 833.101 60.0256 828.454 Q60.0256 823.807 56.3653 821.133 Q52.6732 818.459 46.212 818.459 Q39.7508 818.459 36.0905 821.133 Q32.3984 823.807 32.3984 828.454 Q32.3984 833.101 36.0905 835.774 Q39.7508 838.416 46.212 838.416 Z\" fill=\"#000000\" fill-rule=\"evenodd\" fill-opacity=\"1\" /><path clip-path=\"url(#clip200)\" d=\"M16.4842 786.09 L16.4842 779.183 L36.0269 766.006 L16.4842 752.925 L16.4842 746.018 L41.3741 762.823 L64.0042 762.823 L64.0042 769.284 L41.3741 769.284 L16.4842 786.09 Z\" fill=\"#000000\" fill-rule=\"evenodd\" fill-opacity=\"1\" /><path clip-path=\"url(#clip200)\" d=\"M28.3562 742.326 L28.3562 736.469 L64.0042 736.469 L64.0042 742.326 L28.3562 742.326 M14.479 742.326 L14.479 736.469 L21.895 736.469 L21.895 742.326 L14.479 742.326 Z\" fill=\"#000000\" fill-rule=\"evenodd\" fill-opacity=\"1\" /><path clip-path=\"url(#clip200)\" d=\"M44.7161 693.723 L47.5806 693.723 L47.5806 720.65 Q53.6281 720.268 56.8109 717.022 Q59.9619 713.744 59.9619 707.919 Q59.9619 704.545 59.1344 701.394 Q58.3069 698.211 56.6518 695.092 L62.1899 695.092 Q63.5267 698.243 64.227 701.553 Q64.9272 704.863 64.9272 708.269 Q64.9272 716.799 59.9619 721.796 Q54.9967 726.761 46.5303 726.761 Q37.7774 726.761 32.6531 722.051 Q27.4968 717.308 27.4968 709.288 Q27.4968 702.094 32.1438 697.925 Q36.7589 693.723 44.7161 693.723 M42.9973 699.58 Q38.1912 699.644 35.3266 702.285 Q32.4621 704.895 32.4621 709.224 Q32.4621 714.126 35.2312 717.086 Q38.0002 720.014 43.0292 720.459 L42.9973 699.58 Z\" fill=\"#000000\" fill-rule=\"evenodd\" fill-opacity=\"1\" /><path clip-path=\"url(#clip200)\" d=\"M14.479 684.111 L14.479 678.255 L64.0042 678.255 L64.0042 684.111 L14.479 684.111 Z\" fill=\"#000000\" fill-rule=\"evenodd\" fill-opacity=\"1\" /><path clip-path=\"url(#clip200)\" d=\"M33.7671 642.543 L14.479 642.543 L14.479 636.687 L64.0042 636.687 L64.0042 642.543 L58.657 642.543 Q61.8398 644.389 63.3994 647.222 Q64.9272 650.023 64.9272 653.97 Q64.9272 660.431 59.771 664.505 Q54.6147 668.547 46.212 668.547 Q37.8093 668.547 32.6531 664.505 Q27.4968 660.431 27.4968 653.97 Q27.4968 650.023 29.0564 647.222 Q30.5842 644.389 33.7671 642.543 M46.212 662.5 Q52.6732 662.5 56.3653 659.858 Q60.0256 657.184 60.0256 652.537 Q60.0256 647.89 56.3653 645.217 Q52.6732 642.543 46.212 642.543 Q39.7508 642.543 36.0905 645.217 Q32.3984 647.89 32.3984 652.537 Q32.3984 657.184 36.0905 659.858 Q39.7508 662.5 46.212 662.5 Z\" fill=\"#000000\" fill-rule=\"evenodd\" fill-opacity=\"1\" /><path clip-path=\"url(#clip200)\" d=\"M14.5426 589.835 Q21.8632 594.1 29.0246 596.169 Q36.186 598.238 43.5384 598.238 Q50.8908 598.238 58.1159 596.169 Q65.3091 594.068 72.5979 589.835 L72.5979 594.928 Q65.1182 599.702 57.8931 602.089 Q50.668 604.444 43.5384 604.444 Q36.4406 604.444 29.2474 602.089 Q22.0542 599.734 14.5426 594.928 L14.5426 589.835 Z\" fill=\"#000000\" fill-rule=\"evenodd\" fill-opacity=\"1\" /><path clip-path=\"url(#clip200)\" d=\"M43.0928 537.223 Q43.0928 539.992 45.4481 541.583 Q47.8034 543.143 52.0048 543.143 Q56.1425 543.143 58.5296 541.583 Q60.885 539.992 60.885 537.223 Q60.885 534.517 58.5296 532.958 Q56.1425 531.366 52.0048 531.366 Q47.8353 531.366 45.48 532.958 Q43.0928 534.517 43.0928 537.223 M39.0506 537.223 Q39.0506 532.194 42.5517 529.234 Q46.0529 526.274 52.0048 526.274 Q57.9567 526.274 61.4579 529.265 Q64.9272 532.225 64.9272 537.223 Q64.9272 542.315 61.4579 545.275 Q57.9567 548.235 52.0048 548.235 Q46.021 548.235 42.5517 545.275 Q39.0506 542.283 39.0506 537.223 M19.667 570.07 Q19.667 572.807 22.0542 574.398 Q24.4095 575.958 28.5472 575.958 Q32.7485 575.958 35.1038 574.398 Q37.4592 572.839 37.4592 570.07 Q37.4592 567.301 35.1038 565.741 Q32.7485 564.15 28.5472 564.15 Q24.4413 564.15 22.0542 565.741 Q19.667 567.332 19.667 570.07 M15.6248 541.328 L15.6248 536.236 L64.9272 565.964 L64.9272 571.056 L15.6248 541.328 M15.6248 570.07 Q15.6248 565.041 19.1259 562.049 Q22.5952 559.057 28.5472 559.057 Q34.5628 559.057 38.0321 562.049 Q41.5014 565.009 41.5014 570.07 Q41.5014 575.13 38.0321 578.09 Q34.5309 581.019 28.5472 581.019 Q22.6271 581.019 19.1259 578.059 Q15.6248 575.099 15.6248 570.07 Z\" fill=\"#000000\" fill-rule=\"evenodd\" fill-opacity=\"1\" /><path clip-path=\"url(#clip200)\" d=\"M14.5426 517.457 L14.5426 512.364 Q22.0542 507.59 29.2474 505.235 Q36.4406 502.848 43.5384 502.848 Q50.668 502.848 57.8931 505.235 Q65.1182 507.59 72.5979 512.364 L72.5979 517.457 Q65.3091 513.224 58.1159 511.155 Q50.8908 509.054 43.5384 509.054 Q36.186 509.054 29.0246 511.155 Q21.8632 513.224 14.5426 517.457 Z\" fill=\"#000000\" fill-rule=\"evenodd\" fill-opacity=\"1\" /><polyline clip-path=\"url(#clip202)\" style=\"stroke:#009af9; stroke-linecap:butt; stroke-linejoin:round; stroke-width:12; stroke-opacity:1; fill:none\" points=\"\n",
       "  279.421,1299.75 318.891,1292.07 358.36,1169.18 397.83,1130.77 437.299,1161.5 476.769,1138.45 516.239,1207.58 555.708,1245.98 595.178,1284.39 634.647,1222.94 \n",
       "  674.117,1245.98 713.586,1384.24 753.056,1338.15 792.525,1330.47 831.995,1299.75 871.464,1276.71 910.934,1153.81 950.403,1138.45 989.873,1107.73 1029.34,1123.09 \n",
       "  1068.81,1100.05 1108.28,1015.56 1147.75,969.476 1187.22,992.518 1226.69,1069.33 1266.16,984.837 1305.63,846.583 1345.1,777.456 1384.57,831.222 1424.04,723.691 \n",
       "  1463.51,554.714 1502.98,477.906 1542.45,508.629 1581.92,362.694 1621.39,370.375 1660.85,385.736 1700.32,439.502 1739.79,370.375 1779.26,301.248 1818.73,147.632 \n",
       "  1858.2,224.44 1897.67,270.525 1937.14,308.928 1976.61,347.332 2016.08,355.013 2055.55,424.14 2095.02,454.863 2134.49,393.417 2173.96,331.971 2213.43,239.801 \n",
       "  2252.9,216.759 2292.37,86.1857 \n",
       "  \"/>\n",
       "<path clip-path=\"url(#clip200)\" d=\"\n",
       "M290.157 196.789 L635.894 196.789 L635.894 93.1086 L290.157 93.1086  Z\n",
       "  \" fill=\"#ffffff\" fill-rule=\"evenodd\" fill-opacity=\"1\"/>\n",
       "<polyline clip-path=\"url(#clip200)\" style=\"stroke:#000000; stroke-linecap:butt; stroke-linejoin:round; stroke-width:4; stroke-opacity:1; fill:none\" points=\"\n",
       "  290.157,196.789 635.894,196.789 635.894,93.1086 290.157,93.1086 290.157,196.789 \n",
       "  \"/>\n",
       "<polyline clip-path=\"url(#clip200)\" style=\"stroke:#009af9; stroke-linecap:butt; stroke-linejoin:round; stroke-width:4; stroke-opacity:1; fill:none\" points=\"\n",
       "  313.865,144.949 456.113,144.949 \n",
       "  \"/>\n",
       "<path clip-path=\"url(#clip200)\" d=\"M479.821 127.669 L484.844 127.669 L494.428 141.882 L503.942 127.669 L508.965 127.669 L496.743 145.77 L496.743 162.229 L492.043 162.229 L492.043 145.77 L479.821 127.669 Z\" fill=\"#000000\" fill-rule=\"evenodd\" fill-opacity=\"1\" /><path clip-path=\"url(#clip200)\" d=\"M511.65 136.303 L515.909 136.303 L515.909 162.229 L511.65 162.229 L511.65 136.303 M511.65 126.21 L515.909 126.21 L515.909 131.604 L511.65 131.604 L511.65 126.21 Z\" fill=\"#000000\" fill-rule=\"evenodd\" fill-opacity=\"1\" /><path clip-path=\"url(#clip200)\" d=\"M546.997 148.201 L546.997 150.284 L527.414 150.284 Q527.691 154.682 530.053 156.997 Q532.437 159.289 536.673 159.289 Q539.127 159.289 541.418 158.687 Q543.733 158.085 546.002 156.881 L546.002 160.909 Q543.71 161.881 541.302 162.391 Q538.895 162.9 536.418 162.9 Q530.215 162.9 526.58 159.289 Q522.969 155.678 522.969 149.52 Q522.969 143.155 526.395 139.428 Q529.844 135.678 535.677 135.678 Q540.909 135.678 543.941 139.057 Q546.997 142.414 546.997 148.201 M542.738 146.951 Q542.691 143.456 540.77 141.372 Q538.872 139.289 535.724 139.289 Q532.159 139.289 530.006 141.303 Q527.877 143.317 527.553 146.974 L542.738 146.951 Z\" fill=\"#000000\" fill-rule=\"evenodd\" fill-opacity=\"1\" /><path clip-path=\"url(#clip200)\" d=\"M553.988 126.21 L558.247 126.21 L558.247 162.229 L553.988 162.229 L553.988 126.21 Z\" fill=\"#000000\" fill-rule=\"evenodd\" fill-opacity=\"1\" /><path clip-path=\"url(#clip200)\" d=\"M584.219 140.238 L584.219 126.21 L588.478 126.21 L588.478 162.229 L584.219 162.229 L584.219 158.34 Q582.876 160.655 580.816 161.789 Q578.779 162.9 575.909 162.9 Q571.21 162.9 568.247 159.15 Q565.307 155.4 565.307 149.289 Q565.307 143.178 568.247 139.428 Q571.21 135.678 575.909 135.678 Q578.779 135.678 580.816 136.812 Q582.876 137.923 584.219 140.238 M569.705 149.289 Q569.705 153.988 571.626 156.673 Q573.571 159.335 576.95 159.335 Q580.33 159.335 582.274 156.673 Q584.219 153.988 584.219 149.289 Q584.219 144.59 582.274 141.928 Q580.33 139.243 576.95 139.243 Q573.571 139.243 571.626 141.928 Q569.705 144.59 569.705 149.289 Z\" fill=\"#000000\" fill-rule=\"evenodd\" fill-opacity=\"1\" /></svg>\n"
      ]
     },
     "execution_count": 96,
     "metadata": {},
     "output_type": "execute_result"
    }
   ],
   "source": [
    "# plot interest rate -\n",
    "plot(df[!, Symbol(\"T=30-year-percentage\")], lw=3, label=\"Yield\", legend=:topleft)\n",
    "xlabel!(\"Weekly Time index (AU)\", fontsize=18)\n",
    "ylabel!(\"Bond Yield (%)\", fontsize=18)"
   ]
  },
  {
   "cell_type": "markdown",
   "id": "b4889a7c-a572-4ff9-b4f0-a2580ddaf3c5",
   "metadata": {},
   "source": [
    "### a) Compute the price for a 30-year Bond purchased on ``2021-09-17``"
   ]
  },
  {
   "cell_type": "code",
   "execution_count": 93,
   "id": "8449f1b1-9152-428c-a5c7-cc5879af363f",
   "metadata": {},
   "outputs": [],
   "source": [
    "# plot -\n",
    "(NR,NC) = size(df);\n",
    "bond_price_array = Array{Float64,1}()\n",
    "\n",
    "# setup -\n",
    "future_coupon_model = MultipleCouponBondModel()\n",
    "future_coupon_model.T = 30.0;       # 30.0 year bond term\n",
    "future_coupon_model.Vₚ = 1000.0;    # face value of the bond\n",
    "future_coupon_model.λ = 2.0;        # number of payments per year\n",
    "future_coupon_model.c̄ = df[1,Symbol(\"T=30-year-percentage\")]*(1/100);\n",
    "\n",
    "for j ∈ 1:NR\n",
    "    future_coupon_model.r̄ = df[j,Symbol(\"T=30-year-percentage\")]*(1/100);    # interest rate\n",
    "    tmp_value = price(future_coupon_model)\n",
    "    push!(bond_price_array, tmp_value) \n",
    "end"
   ]
  },
  {
   "cell_type": "code",
   "execution_count": 94,
   "id": "7889fdf4-f55d-4890-9297-0787348eeaee",
   "metadata": {},
   "outputs": [
    {
     "data": {
      "text/plain": [
       "52-element Vector{Float64}:\n",
       "  999.9999999999966\n",
       "  997.7181836254497\n",
       "  962.047377626006\n",
       "  951.2169894113308\n",
       "  959.8694327409723\n",
       "  953.3712343991623\n",
       "  973.0269769562651\n",
       "  984.1579821046364\n",
       "  995.4426212495437\n",
       "  977.4610862949023\n",
       "  984.1579821046364\n",
       " 1025.5180228308313\n",
       " 1011.5035349170447\n",
       "    ⋮\n",
       "  734.003600757956\n",
       "  743.461573807257\n",
       "  751.4600006482581\n",
       "  759.5662378612353\n",
       "  761.200559944725\n",
       "  776.1084311881515\n",
       "  782.8506741640595\n",
       "  769.4382388385604\n",
       "  756.3107060318532\n",
       "  737.1394183198918\n",
       "  732.4419646924207\n",
       "  706.5218515212716"
      ]
     },
     "execution_count": 94,
     "metadata": {},
     "output_type": "execute_result"
    }
   ],
   "source": [
    "bond_price_array"
   ]
  },
  {
   "cell_type": "code",
   "execution_count": null,
   "id": "baa6dfe2-cc24-4673-b505-6ae94e8ce37b",
   "metadata": {},
   "outputs": [],
   "source": []
  }
 ],
 "metadata": {
  "kernelspec": {
   "display_name": "Julia 1.8.0",
   "language": "julia",
   "name": "julia-1.8"
  },
  "language_info": {
   "file_extension": ".jl",
   "mimetype": "application/julia",
   "name": "julia",
   "version": "1.8.0"
  }
 },
 "nbformat": 4,
 "nbformat_minor": 5
}
