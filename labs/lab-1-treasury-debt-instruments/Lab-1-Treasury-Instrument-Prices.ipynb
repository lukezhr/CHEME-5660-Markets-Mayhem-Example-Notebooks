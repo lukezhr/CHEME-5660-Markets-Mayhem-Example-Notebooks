{
 "cells": [
  {
   "cell_type": "markdown",
   "id": "b9717092-1139-407b-982e-720896090ba5",
   "metadata": {},
   "source": [
    "## CHEME 5660: The Price of Treasury Bill, Notes and Bonds"
   ]
  },
  {
   "cell_type": "markdown",
   "id": "a7f490e4-222c-4481-ac3a-ecee1629c1c6",
   "metadata": {},
   "source": [
    "#### Treasury Bills\n",
    "Treasury bills (called T-bills) are short-term debt instruments ranging from a few days to 52 weeks. When a T-bill matures, the bill holder is paid the par amount. The U.S. Treasury sells T-bills at a discount from the par amount; rarely are they sold at a price equal to the par amount. The U.S. Treasury auctions T-bills with terms of 4, 8, 13, 26, and 52 weeks on a regular schedule. \n",
    "\n",
    "T-bills are an example of a zero-coupon fixed-income instrument; thus, T-bills do not make coupon payments during the bond term. Instead, the bondholder receives the par value at the bill's period. \n",
    "\n",
    "Let a zero-coupon T-bill have a term of $T$-years with an annual market interest rate of $\\bar{r}$. Then, the _fair price_ for a zero-coupon T-bill, denoted by $V_{B}$, is the future par value $V_{P}$ of the bill discounted to the time of the purchase:\n",
    "\n",
    "$$V_{B} = \\frac{V_{P}}{\\left(1+\\bar{r}\\right)^{T}}$$\n",
    "\n",
    "#### Treasury Bonds\n",
    "Treasury Bonds are long-term U.S Treasury debt instruments. Treasury bonds pay a fixed rate of interest (the coupon rate) every six months until the bond's maturity. The U.S. Treasury issues bonds with terms of 20 or 30 years. When a bond matures, the bondholder receives the face value of the bond. Bonds can be held until maturity or sold before maturity. \n",
    "\n",
    "When a U.S. Treasury bond matures, the U.S government repays the debt by paying the bond's par value. The bond's coupon rate determines the interest payment: the annual payment is the coupon rate times the bond's par value. The coupon rate, maturity date, and par value of the bond are part of the contract between the issuer, the U.S. government, and the bondholder (you).\n",
    "\n",
    "Let the term of a bond be $T$-years, with an annual coupon rate of $\\bar{c}$. Then, a _fair price_ for the bond, denoted by $V_{B}$, is the present value of coupon payments $C$ plus the discounted par value $V_{P}$ of the bond:\n",
    "\n",
    "\n",
    "$$V_{B} = \\frac{V_{P}}{\\left(1+i\\right)^{N}}+\\sum_{j=1}^{N}\\frac{C}{\\left(1+i\\right)^{j}}$$\n",
    "\n",
    "where $N$ denotes the number of coupon payments, $i = \\bar{r}/2$ denotes the market interest rate, and $C=(\\bar{c}/2)\\cdot{V_{P}}$ is the value of the coupon payment."
   ]
  },
  {
   "cell_type": "markdown",
   "id": "9ba90703-6ed6-4e17-8df7-6ab705913d18",
   "metadata": {
    "tags": []
   },
   "source": [
    "### Lab setup\n",
    "The code block below installs (and loads) any [Julia](https://julialang.org) packages that we need to complete the calculations. "
   ]
  },
  {
   "cell_type": "code",
   "execution_count": 1,
   "id": "f00080b3-911d-4ec4-b719-0e5463ce6015",
   "metadata": {},
   "outputs": [
    {
     "name": "stderr",
     "output_type": "stream",
     "text": [
      "\u001b[32m\u001b[1m  Activating\u001b[22m\u001b[39m project at `~/Desktop/julia_work/CHEME-5660-Markets-Mayhem-Example-Notebooks/labs/lab-1-treasury-debt-instruments`\n",
      "\u001b[32m\u001b[1m  No Changes\u001b[22m\u001b[39m to `~/Desktop/julia_work/CHEME-5660-Markets-Mayhem-Example-Notebooks/labs/lab-1-treasury-debt-instruments/Project.toml`\n",
      "\u001b[32m\u001b[1m  No Changes\u001b[22m\u001b[39m to `~/Desktop/julia_work/CHEME-5660-Markets-Mayhem-Example-Notebooks/labs/lab-1-treasury-debt-instruments/Manifest.toml`\n"
     ]
    }
   ],
   "source": [
    "import Pkg; Pkg.activate(\".\"); Pkg.resolve(); Pkg.instantiate();"
   ]
  },
  {
   "cell_type": "code",
   "execution_count": 2,
   "id": "6cc8cd7d-4a0f-416c-b248-70ba9461a74d",
   "metadata": {},
   "outputs": [],
   "source": [
    "# load external packages -\n",
    "using CSV\n",
    "using DataFrames\n",
    "using Plots"
   ]
  },
  {
   "cell_type": "markdown",
   "id": "25b46796-306b-4907-97b7-d4e8f768f2da",
   "metadata": {},
   "source": [
    "### Load the lab 1 code library\n",
    "The call to the `include` function loads the `CHEME-5660-Lab-1-Library.jl` library into the notebook; the library contains types and functions we use during the lab:\n",
    "\n",
    "* The `ZeroCouponBillModel` and `MultipleCouponBondModel` types encapsulate configuration information for a zero coupon debt security, e.g., a treasury note, and multi-coupon debt security, e.g., a treasury bond. \n",
    "* The `price` function takes a configuration model and solves for the debt security price at the time the security is issued."
   ]
  },
  {
   "cell_type": "code",
   "execution_count": 3,
   "id": "f888cbd9-eb93-4fc8-a6b5-2a5267562cf1",
   "metadata": {},
   "outputs": [],
   "source": [
    "# load the code library -\n",
    "include(\"CHEME-5660-Lab-1-Library.jl\");"
   ]
  },
  {
   "cell_type": "markdown",
   "id": "245c9b3c-3051-42e6-bbc2-5803f8406e1a",
   "metadata": {},
   "source": [
    "### Control simulations (check if our implementation is correct)"
   ]
  },
  {
   "cell_type": "markdown",
   "id": "8ac715d7-f6d5-42f5-8dd2-0148230f191f",
   "metadata": {},
   "source": [
    "#### a) Code Check: Zero-coupon Treasury Bill Price"
   ]
  },
  {
   "cell_type": "markdown",
   "id": "7399a388-25f9-4a00-9c20-bcc97a7a66b6",
   "metadata": {},
   "source": [
    "Let's check the implementation of the ``price`` function for a zero coupon treasury bill. Before we do anything, let's test the price function answer against examples we find online; one example is in the lecture notes from [IEOR 4700 at Columbia by Prof. K. Sigman](http://www.columbia.edu/~ks20/FE-Notes/FE-Notes-Sigman.html)."
   ]
  },
  {
   "cell_type": "code",
   "execution_count": 4,
   "id": "b949c0b8-650f-4c71-bd78-fdeec1e1d5d2",
   "metadata": {},
   "outputs": [],
   "source": [
    "# build a zero coupon model for the test calculation -\n",
    "zero_coupon_test_model = ZeroCouponBillModel()\n",
    "zero_coupon_test_model.r̄ = 0.04;      # annual market interest rate\n",
    "zero_coupon_test_model.T = 5.0;       # duration in years \n",
    "zero_coupon_test_model.Vₚ = 1000.0;   # face value\n",
    "zero_coupon_test_model.λ = 1.0;       # payments per year\n",
    "\n",
    "# Compute -\n",
    "VB_zc_example = price(zero_coupon_test_model);"
   ]
  },
  {
   "cell_type": "code",
   "execution_count": 5,
   "id": "5e400909-b7b4-43c5-b7b7-3ab9966b7c68",
   "metadata": {},
   "outputs": [
    {
     "name": "stdout",
     "output_type": "stream",
     "text": [
      "Calculated bill price: 822.0 USD. The IEOR price: 822 USD\n"
     ]
    }
   ],
   "source": [
    "# Display -\n",
    "println(\"Calculated bill price: $(round(VB_zc_example, digits=0, base=10)) USD. The IEOR price: 822 USD\")"
   ]
  },
  {
   "cell_type": "markdown",
   "id": "88c4bc56-6b4a-4e68-ae56-ea79b072c630",
   "metadata": {},
   "source": [
    "#### b) Code Check: T = 30 yr Semiannual Coupon Treasury Bond Price"
   ]
  },
  {
   "cell_type": "markdown",
   "id": "110bad44-d41b-4837-a98a-56e67c0ca242",
   "metadata": {},
   "source": [
    "Let's check the ``price`` calculation for a T = 30 year bond taken from Example 14.2 of [Bodie, Kane, Marcus. Investments, 10th ISBN-10: 9780077861674](https://www.amazon.com/Investments-10th-Zvi-Bodie/dp/0077861671)"
   ]
  },
  {
   "cell_type": "code",
   "execution_count": 6,
   "id": "bec2a82c-7210-444f-b44c-d04977fb2093",
   "metadata": {},
   "outputs": [],
   "source": [
    "# build a T = 30 coupon bond model for the test calculation -\n",
    "coupon_test_model = MultipleCouponBondModel()\n",
    "coupon_test_model.c̄ = 0.08;    # coupon rate \n",
    "coupon_test_model.T = 30.0;    # 30.0 year bond term\n",
    "coupon_test_model.Vₚ = 1000.0; # face value of the bond\n",
    "coupon_test_model.r̄ = 0.10;    # interest rate\n",
    "coupon_test_model.λ = 2.0;     # number of payments per year\n",
    "\n",
    "# Compute the price of the bond -\n",
    "VB_30_example = price(coupon_test_model);"
   ]
  },
  {
   "cell_type": "code",
   "execution_count": 7,
   "id": "8fa3cd79-f425-451d-b3fb-b41f2fa0db28",
   "metadata": {},
   "outputs": [
    {
     "name": "stdout",
     "output_type": "stream",
     "text": [
      "Calculated GT30 bond price: 810.71 USD. BKM (Example 14.2) price: 810.71 USD\n"
     ]
    }
   ],
   "source": [
    "# Display -\n",
    "println(\"Calculated GT30 bond price: $(round(VB_30_example, digits=2, base=10)) USD. BKM (Example 14.2) price: 810.71 USD\");"
   ]
  },
  {
   "cell_type": "markdown",
   "id": "53611e75-2b1c-4e80-8076-2a6394d483a3",
   "metadata": {},
   "source": [
    "## Bond Pricing Calculations"
   ]
  },
  {
   "cell_type": "markdown",
   "id": "afb8b92b-2cc6-46cb-b851-29a1cda7478a",
   "metadata": {},
   "source": [
    "### a) Compute the price of a T = 30-year treasury bond\n",
    "Let's use the publicly available data to compute the price of a 30-year bond sold at the most recent auction; current the 08/11/22 auction. \n",
    "\n",
    "#### Parameters\n",
    "A T = 30-year bond was auctioned off on Thursday, August 11, 2022, with a settlement day of Monday, August 15, 2022 (this gives the term date: 08/15/2052). Compute the _fair price_ of the T = 30 year Treasury Bond (GT30) with par value of $V_{p}$ = 1000 USD assuming an annual coupon rate of $\\bar{c}$ = 3.0%; coupon payments are made semi-annually (simple interest).\n",
    "\n",
    "[Recent market interest rates are available for GT20 and GT30](./data/Treasury-HistoricalData-09-09-22.csv) from the Federal Reserve. "
   ]
  },
  {
   "cell_type": "code",
   "execution_count": 16,
   "id": "106fe4c1-9492-4bf5-bb84-e744606d2333",
   "metadata": {},
   "outputs": [
    {
     "data": {
      "text/plain": [
       "98.82765206189065"
      ]
     },
     "execution_count": 16,
     "metadata": {},
     "output_type": "execute_result"
    }
   ],
   "source": [
    "# build a T = 30 coupon bond model for the auction values\n",
    "GT30_auction_model = MultipleCouponBondModel()\n",
    "GT30_auction_model.c̄ = 0.03;     # coupon rate \n",
    "GT30_auction_model.T = 30.0;     # 30.0 year bond term\n",
    "GT30_auction_model.Vₚ = 1000.0;  # face value of the bond\n",
    "GT30_auction_model.λ = 2.0;      # number of payments per year\n",
    "\n",
    "# what is the market interest rate for 08/11/2022 (or as close as we can get to it)?\n",
    "# Look up from historical treasury data (in the data folder)\n",
    "GT30_auction_model.r̄ = 0.0306;   # interest rate from 08/12/2022 (from FedReserve)\n",
    "\n",
    "# Compute the price of the bond at auction -\n",
    "GT30_computed_price_at_auction = price(GT30_auction_model)*(100/1000) # prices are reported as fraction of par"
   ]
  },
  {
   "cell_type": "markdown",
   "id": "5243f799-d67e-4cda-8450-d0633fa3576e",
   "metadata": {},
   "source": [
    "### b) Compare the calculated versus quoted price for bond\n",
    "The latest price quote from the Wall Street Journal (WSJ) for T = 30-year bonds reported on `09/16/2022` is included in the [data folder.](./data/WSJ-GT30-Quotes.pdf) The most recent interest rate data can be found at: https://www.federalreserve.gov/releases/h15/"
   ]
  },
  {
   "cell_type": "code",
   "execution_count": 17,
   "id": "f44df643-751c-4456-9fc3-0f80feec5176",
   "metadata": {},
   "outputs": [
    {
     "data": {
      "text/plain": [
       "90.41329982746937"
      ]
     },
     "execution_count": 17,
     "metadata": {},
     "output_type": "execute_result"
    }
   ],
   "source": [
    "# build a T = 30 coupon bond model for the auction values\n",
    "GT30_current_model = MultipleCouponBondModel()\n",
    "GT30_current_model.c̄ = 0.03;     # coupon rate \n",
    "GT30_current_model.T = 30.0;     # 30.0 year bond term\n",
    "GT30_current_model.Vₚ = 1000.0;  # face value of the bond\n",
    "GT30_current_model.λ = 2.0;      # number of payments per year\n",
    "\n",
    "# what is the market interest rate for 08/11/2022 (or as close as we can get to it)?\n",
    "# Look up from historical treasury data (in the data folder)\n",
    "GT30_current_model.r̄ = 0.0352;   # interest rate quote from 09/19/2022 (from FedReserve)\n",
    "\n",
    "# Compute the price of the bond at auction -\n",
    "GT30_computed_price_now = price(GT30_current_model)*(100/1000)"
   ]
  },
  {
   "cell_type": "markdown",
   "id": "0d45516e-abed-4b56-9955-84b7471dfec0",
   "metadata": {},
   "source": [
    "#### What is percentage error $\\epsilon$ between the estimated and quoted price?\n",
    "Let's define the percentage error $\\epsilon$ as:\n",
    "\n",
    "$$\\epsilon \\equiv 100\\times\\left(\\frac{\\hat{V}_{B} - V_{B}}{V_{B}}\\right)$$\n",
    "\n",
    "where $\\hat{V}_{B}$ denotes the estimated price, and $V_{B}$ denotes the quoted price."
   ]
  },
  {
   "cell_type": "code",
   "execution_count": 10,
   "id": "2e3d396a-680c-4727-8145-5d3df9ebe672",
   "metadata": {},
   "outputs": [],
   "source": [
    "GT30_quoted_price = 90.134; # Bid price WSJ 09/16/2022"
   ]
  },
  {
   "cell_type": "code",
   "execution_count": 18,
   "id": "44c966be-aaf7-4501-a72f-6fe3dca17b44",
   "metadata": {},
   "outputs": [
    {
     "name": "stdout",
     "output_type": "stream",
     "text": [
      "Percentage error in computed bond price: 0.31%\n"
     ]
    }
   ],
   "source": [
    "# compute percentage diff -\n",
    "Δ_quote = (GT30_computed_price_now - GT30_quoted_price)/(GT30_quoted_price)*100;\n",
    "\n",
    "# display -\n",
    "println(\"Percentage error in computed bond price: $(round(Δ_quote, digits=2, base=10))%\")"
   ]
  },
  {
   "cell_type": "code",
   "execution_count": null,
   "id": "42643793-afaf-42d0-a6c2-89a4b29e944b",
   "metadata": {},
   "outputs": [],
   "source": []
  },
  {
   "cell_type": "markdown",
   "id": "4155e7c9-2aaa-4eef-9ebd-1b1a77230a9d",
   "metadata": {},
   "source": [
    "### c) Should we hold or sell our bond?\n",
    "In a sense, the answer to this question is subjective; different investors have different profit targets dictating this decision. However, we'll assume that a _rational_ investor will _never_ sell at a loss."
   ]
  },
  {
   "cell_type": "markdown",
   "id": "c3270a84-1919-4162-b896-9e5bf405815d",
   "metadata": {},
   "source": [
    "#### What is the percentage change between the purchase and the current price?\n",
    "Let's play out a hypothetical; suppose we purchased the GT30 at auction on `08/11/22`. What is that security worth on `09/16/22`; does it make sense to sell this GT30 on the secondary bond market or hold it?\n",
    "\n",
    "Define the percentage change in the bond price as:\n",
    "$$\\Delta = 100\\times\\left(\\frac{V^{\\star}_{B} - \\hat{V}^{\\circ}_{B}}{\\hat{V}^{\\circ}_{B}}\\right)$$\n",
    "\n",
    "where $V^{\\star}_{B}$ denotes, the quoted price on `09/16/22` and $\\hat{V}^{\\circ}_{B}$ represents the estimated purchase price.\n",
    "\n",
    "__Decision rule__:\n",
    "* If $\\Delta\\leq{0}$, the bond price has decreased. Do NOT sell.\n",
    "* If $\\Delta>0$, the bond price has decreased. Sell."
   ]
  },
  {
   "cell_type": "code",
   "execution_count": 19,
   "id": "508f68bf-9bd2-4562-88f6-ae3872a6c4e5",
   "metadata": {},
   "outputs": [
    {
     "name": "stdout",
     "output_type": "stream",
     "text": [
      "Percentage change in the market price of the bond: -8.51%\n"
     ]
    }
   ],
   "source": [
    "# what is the change in the market price of the bond?\n",
    "Δ_market = (GT30_computed_price_now - GT30_computed_price_at_auction)/(GT30_computed_price_at_auction)*100\n",
    "\n",
    "# display -\n",
    "println(\"Percentage change in the market price of the bond: $(round(Δ_market, digits=2, base=10))%\")"
   ]
  },
  {
   "cell_type": "code",
   "execution_count": null,
   "id": "498fe954-c57e-4b3b-8f2a-9059cea6ee81",
   "metadata": {},
   "outputs": [],
   "source": []
  }
 ],
 "metadata": {
  "kernelspec": {
   "display_name": "Julia 1.8.0",
   "language": "julia",
   "name": "julia-1.8"
  },
  "language_info": {
   "file_extension": ".jl",
   "mimetype": "application/julia",
   "name": "julia",
   "version": "1.8.1"
  }
 },
 "nbformat": 4,
 "nbformat_minor": 5
}
