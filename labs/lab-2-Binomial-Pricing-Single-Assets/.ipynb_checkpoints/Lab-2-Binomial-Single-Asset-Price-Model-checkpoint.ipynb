{
 "cells": [
  {
   "cell_type": "markdown",
   "id": "e250fa77-72d1-4686-a63d-3ae661778f08",
   "metadata": {},
   "source": [
    "## CHEME 5660: Binomial Price Estimate of a Single Risky Asset"
   ]
  },
  {
   "cell_type": "markdown",
   "id": "48a88256-9432-4902-bbe8-e9138c59febf",
   "metadata": {},
   "source": [
    "<img src=\"./figs/Fig-Binomial-Lattice-Schematic.png\" style=\"margin:auto; width:25%\"/>"
   ]
  },
  {
   "cell_type": "markdown",
   "id": "f76b02ab-cc8d-41f3-95c8-371e2f0c3e0b",
   "metadata": {},
   "source": [
    "### Binomial lattice model\n",
    "A binomial lattice model assumes that each discrete time increment, the state of the system, e.g., the share price of equity, the spot rate, etc., can either increase by a factor $u$ with probability $p$ or decrease by a factor $d$ with probability $(1-p)$. Different models can be developed for the specific values of the tuple $(u,d,p)$. One particular model is the Cox, Ross, and Rubinstein (CRR) model:\n",
    "\n",
    "* [Cox, J. C.; Ross, S. A.; Rubinstein, M. (1979). \"Option pricing: A simplified approach\". Journal of Financial Economics. 7 (3): 229. CiteSeerX 10.1.1.379.7582. doi:10.1016/0304-405X(79)90015-1](https://www.sciencedirect.com/science/article/pii/0304405X79900151?via%3Dihub)"
   ]
  },
  {
   "cell_type": "markdown",
   "id": "4d901b08-1889-4b5d-9388-cd1760bac428",
   "metadata": {
    "jp-MarkdownHeadingCollapsed": true,
    "tags": []
   },
   "source": [
    "#### Cox, Ross and Rubinstein (CRR) model\n",
    "The [CRR binomial lattice model](https://en.wikipedia.org/wiki/Binomial_options_pricing_model) was initially developed for options pricing in 1979. However, one of the key aspects of estimating the price of an option, is estimating the share price of the underlying asset. Thus, let's use the [CRR model](https://en.wikipedia.org/wiki/Binomial_options_pricing_model) to compute the share price of a stock, Advanced Micro Devices, Inc, with the ticker symbol [AMD](https://finance.yahoo.com/quote/AMD?.tsrc=applewf). In the [CRR model](https://en.wikipedia.org/wiki/Binomial_options_pricing_model) model, the `up` and `down` moves are symmetric:\n",
    "\n",
    "$$ud = 1$$\n",
    "\n",
    "where the magnitude of an `up` move $u$ is given by:\n",
    "\n",
    "$$u = \\exp(\\sigma\\sqrt{\\Delta{T}})$$\n",
    "\n",
    "The quantity $\\sigma$ denotes a _volatility parameter_ and $\\Delta{T}$ represents the time step. The probability of an `up` move in a [CRR model](https://en.wikipedia.org/wiki/Binomial_options_pricing_model) is given by:\n",
    "\n",
    "$$p = \\frac{\\exp(\\mu\\sqrt{\\Delta{T}}) - d}{u - d}$$\n",
    "\n",
    "where $\\mu$ denotes a _return parameter_. In the [CRR model](https://en.wikipedia.org/wiki/Binomial_options_pricing_model) model paradigm the return parameter $\\mu$ and the volatility parameter $\\sigma$ take on standard values:\n",
    "* The return parameter $\\mu$ is a _risk free_ rate of return; the _risk free_ rate $r_{f}$ can be approximated by yeild on United States Treasury Debt securities.  \n",
    "* The volatility parameter $\\sigma$ is the [implied volatility](https://www.investopedia.com/terms/i/iv.asp)."
   ]
  },
  {
   "cell_type": "markdown",
   "id": "06a2857c-e282-487c-b3ce-16683b865451",
   "metadata": {},
   "source": [
    "### Lab setup\n",
    "The code block below installs (and loads) any [Julia](https://julialang.org) packages that we need to complete the calculations. "
   ]
  },
  {
   "cell_type": "code",
   "execution_count": 1,
   "id": "63b95b59-0220-4ab1-b508-f252eafb4407",
   "metadata": {},
   "outputs": [
    {
     "name": "stderr",
     "output_type": "stream",
     "text": [
      "\u001b[32m\u001b[1m  Activating\u001b[22m\u001b[39m project at `~/Desktop/julia_work/CHEME-5660-Markets-Mayhem-Example-Notebooks/labs/lab-2-Binomial-Pricing-Single-Assets`\n",
      "\u001b[32m\u001b[1m  No Changes\u001b[22m\u001b[39m to `~/Desktop/julia_work/CHEME-5660-Markets-Mayhem-Example-Notebooks/labs/lab-2-Binomial-Pricing-Single-Assets/Project.toml`\n",
      "\u001b[32m\u001b[1m  No Changes\u001b[22m\u001b[39m to `~/Desktop/julia_work/CHEME-5660-Markets-Mayhem-Example-Notebooks/labs/lab-2-Binomial-Pricing-Single-Assets/Manifest.toml`\n"
     ]
    }
   ],
   "source": [
    "import Pkg; Pkg.activate(\".\"); Pkg.resolve(); Pkg.instantiate();"
   ]
  },
  {
   "cell_type": "code",
   "execution_count": 2,
   "id": "2afe1e2f-7daf-4859-b6ee-81e478091b82",
   "metadata": {},
   "outputs": [],
   "source": [
    "using PQEcolaPoint\n",
    "using DataFrames\n",
    "using CSV\n",
    "using Statistics"
   ]
  },
  {
   "cell_type": "markdown",
   "id": "11aefd98-ff4d-4981-b7ac-a036091a3717",
   "metadata": {},
   "source": [
    "### Load the lab 2 code library\n",
    "The call to the `include` function loads the `CHEME-5660-Lab-2-Library.jl` library into the notebook; the library contains types and functions we use during the lab:\n",
    "\n",
    "* The `E(X::Array{Float64,1},p::Array{Float64,1}) -> Float64` and `Var(X::Array{Float64,1}, p::Array{Float64,1}) -> Float64` functions compute the expectation and variance of the binomial price estimates given an array `X::Array{Float64,1}` of price values and associated probabilities `p::Array{Float64,1}`.\n",
    "* The `build_probability_dictionary(model::CRRLatticeModel, levels::Int64) -> Dict{Int64, Array{Float64,1}}` function constructs a dictionary of probabilities for each level of the tree; keys are tree levels.\n",
    "* The `build_nodes_dictionary(levels::Int64) -> Dict{Int64,Array{Int64,1}}` function constructs a dictionary of node indexs for each level of the tree; keys are the tree levels.\n",
    "* The `compute_drift_and_volatility(data::DataFrame; m::Int64 = 30) -> Tuple{Float64, Float64, Float64}` function computes the mean return, volatility and starting price level from OHLC data."
   ]
  },
  {
   "cell_type": "code",
   "execution_count": 3,
   "id": "c37dcdac-e65f-4809-8e3c-dbd5eafb4c93",
   "metadata": {},
   "outputs": [],
   "source": [
    "# load the code library -\n",
    "include(\"CHEME-5660-Lab-2-Library.jl\");"
   ]
  },
  {
   "cell_type": "markdown",
   "id": "62b5cde3-8137-4d85-ab91-b10f3b333b22",
   "metadata": {},
   "source": [
    "#### a) Load experimental data for AMD\n",
    "Load the historical OHLC data set for Advanced Micro Devices, Inc with ticker symbol [AMD](https://finance.yahoo.com/quote/AMD?.tsrc=applewf) into a [DataFrame](https://dataframes.juliadata.org/stable/). The OHLC data is stored in a comma seperated value (CSV) file format; use the [CSV](https://csv.juliadata.org/stable/) package to read the data and load into a [DataFrame](https://dataframes.juliadata.org/stable/)."
   ]
  },
  {
   "cell_type": "code",
   "execution_count": 4,
   "id": "49994004-b9e9-4587-a212-a1e54693bfb7",
   "metadata": {},
   "outputs": [
    {
     "data": {
      "text/html": [
       "<div class=\"data-frame\"><p>527 rows × 8 columns (omitted printing of 1 columns)</p><table class=\"data-frame\"><thead><tr><th></th><th>volume</th><th>volume_weighted_average_price</th><th>open</th><th>close</th><th>high</th><th>low</th><th>timestamp</th></tr><tr><th></th><th title=\"Float64\">Float64</th><th title=\"Float64\">Float64</th><th title=\"Float64\">Float64</th><th title=\"Float64\">Float64</th><th title=\"Float64\">Float64</th><th title=\"Float64\">Float64</th><th title=\"Dates.DateTime\">DateTime</th></tr></thead><tbody><tr><th>1</th><td>4.92344e7</td><td>84.8235</td><td>83.36</td><td>86.35</td><td>86.62</td><td>82.35</td><td>2020-08-25T04:00:00</td></tr><tr><th>2</th><td>4.71573e7</td><td>86.1775</td><td>86.9694</td><td>86.02</td><td>87.72</td><td>85.2</td><td>2020-08-26T04:00:00</td></tr><tr><th>3</th><td>4.21942e7</td><td>84.3753</td><td>86.35</td><td>83.8</td><td>86.58</td><td>82.94</td><td>2020-08-27T04:00:00</td></tr><tr><th>4</th><td>4.07233e7</td><td>85.1628</td><td>84.3</td><td>85.55</td><td>86.04</td><td>84.19</td><td>2020-08-28T04:00:00</td></tr><tr><th>5</th><td>9.06559e7</td><td>90.0989</td><td>85.05</td><td>90.82</td><td>92.64</td><td>85.05</td><td>2020-08-31T04:00:00</td></tr><tr><th>6</th><td>5.61026e7</td><td>91.4198</td><td>91.92</td><td>92.18</td><td>92.51</td><td>90.1899</td><td>2020-09-01T04:00:00</td></tr><tr><th>7</th><td>5.03659e7</td><td>90.7119</td><td>94.01</td><td>90.22</td><td>94.28</td><td>88.74</td><td>2020-09-02T04:00:00</td></tr><tr><th>8</th><td>8.74623e7</td><td>83.9462</td><td>87.84</td><td>82.54</td><td>88.47</td><td>81.59</td><td>2020-09-03T04:00:00</td></tr><tr><th>9</th><td>8.22678e7</td><td>80.442</td><td>81.45</td><td>82.01</td><td>84.39</td><td>76.33</td><td>2020-09-04T04:00:00</td></tr><tr><th>10</th><td>5.49545e7</td><td>79.9129</td><td>78.05</td><td>78.69</td><td>81.88</td><td>78.0</td><td>2020-09-08T04:00:00</td></tr><tr><th>11</th><td>5.39879e7</td><td>81.2212</td><td>81.4</td><td>81.91</td><td>82.44</td><td>79.28</td><td>2020-09-09T04:00:00</td></tr><tr><th>12</th><td>5.14484e7</td><td>80.7025</td><td>83.07</td><td>78.98</td><td>83.31</td><td>78.38</td><td>2020-09-10T04:00:00</td></tr><tr><th>13</th><td>5.4738e7</td><td>77.2761</td><td>79.82</td><td>76.34</td><td>79.99</td><td>75.04</td><td>2020-09-11T04:00:00</td></tr><tr><th>14</th><td>4.74487e7</td><td>77.6932</td><td>76.8</td><td>77.9</td><td>78.82</td><td>76.26</td><td>2020-09-14T04:00:00</td></tr><tr><th>15</th><td>5.78744e7</td><td>78.5432</td><td>77.66</td><td>78.93</td><td>80.33</td><td>75.97</td><td>2020-09-15T04:00:00</td></tr><tr><th>16</th><td>3.84457e7</td><td>77.9882</td><td>79.35</td><td>76.66</td><td>79.72</td><td>76.54</td><td>2020-09-16T04:00:00</td></tr><tr><th>17</th><td>5.56188e7</td><td>75.529</td><td>74.88</td><td>76.55</td><td>76.625</td><td>74.2</td><td>2020-09-17T04:00:00</td></tr><tr><th>18</th><td>5.10829e7</td><td>75.3428</td><td>77.0</td><td>74.93</td><td>77.4</td><td>73.85</td><td>2020-09-18T04:00:00</td></tr><tr><th>19</th><td>6.1281e7</td><td>76.4957</td><td>74.23</td><td>77.94</td><td>77.98</td><td>73.88</td><td>2020-09-21T04:00:00</td></tr><tr><th>20</th><td>5.60447e7</td><td>76.6441</td><td>78.365</td><td>77.7</td><td>78.79</td><td>75.27</td><td>2020-09-22T04:00:00</td></tr><tr><th>21</th><td>4.21555e7</td><td>76.1627</td><td>77.39</td><td>74.73</td><td>77.91</td><td>74.34</td><td>2020-09-23T04:00:00</td></tr><tr><th>22</th><td>5.75409e7</td><td>76.1503</td><td>74.54</td><td>75.82</td><td>77.25</td><td>73.9</td><td>2020-09-24T04:00:00</td></tr><tr><th>23</th><td>4.82062e7</td><td>76.7342</td><td>76.35</td><td>78.055</td><td>78.2</td><td>74.67</td><td>2020-09-25T04:00:00</td></tr><tr><th>24</th><td>4.80055e7</td><td>78.6745</td><td>79.1165</td><td>79.48</td><td>79.57</td><td>77.52</td><td>2020-09-28T04:00:00</td></tr><tr><th>25</th><td>6.16322e7</td><td>81.2537</td><td>79.3</td><td>81.77</td><td>82.55</td><td>79.3</td><td>2020-09-29T04:00:00</td></tr><tr><th>26</th><td>5.15327e7</td><td>81.9971</td><td>81.75</td><td>81.99</td><td>82.94</td><td>80.66</td><td>2020-09-30T04:00:00</td></tr><tr><th>27</th><td>5.21771e7</td><td>84.0196</td><td>83.06</td><td>84.86</td><td>85.25</td><td>82.86</td><td>2020-10-01T04:00:00</td></tr><tr><th>28</th><td>5.28535e7</td><td>82.9233</td><td>82.58</td><td>81.8</td><td>84.65</td><td>81.66</td><td>2020-10-02T04:00:00</td></tr><tr><th>29</th><td>4.70565e7</td><td>85.1248</td><td>82.55</td><td>86.15</td><td>86.2819</td><td>82.55</td><td>2020-10-05T04:00:00</td></tr><tr><th>30</th><td>5.27254e7</td><td>85.4392</td><td>86.21</td><td>84.48</td><td>87.25</td><td>83.54</td><td>2020-10-06T04:00:00</td></tr><tr><th>&vellip;</th><td>&vellip;</td><td>&vellip;</td><td>&vellip;</td><td>&vellip;</td><td>&vellip;</td><td>&vellip;</td><td>&vellip;</td></tr></tbody></table></div>"
      ],
      "text/latex": [
       "\\begin{tabular}{r|cccccccc}\n",
       "\t& volume & volume\\_weighted\\_average\\_price & open & close & high & low & timestamp & \\\\\n",
       "\t\\hline\n",
       "\t& Float64 & Float64 & Float64 & Float64 & Float64 & Float64 & DateTime & \\\\\n",
       "\t\\hline\n",
       "\t1 & 4.92344e7 & 84.8235 & 83.36 & 86.35 & 86.62 & 82.35 & 2020-08-25T04:00:00 & $\\dots$ \\\\\n",
       "\t2 & 4.71573e7 & 86.1775 & 86.9694 & 86.02 & 87.72 & 85.2 & 2020-08-26T04:00:00 & $\\dots$ \\\\\n",
       "\t3 & 4.21942e7 & 84.3753 & 86.35 & 83.8 & 86.58 & 82.94 & 2020-08-27T04:00:00 & $\\dots$ \\\\\n",
       "\t4 & 4.07233e7 & 85.1628 & 84.3 & 85.55 & 86.04 & 84.19 & 2020-08-28T04:00:00 & $\\dots$ \\\\\n",
       "\t5 & 9.06559e7 & 90.0989 & 85.05 & 90.82 & 92.64 & 85.05 & 2020-08-31T04:00:00 & $\\dots$ \\\\\n",
       "\t6 & 5.61026e7 & 91.4198 & 91.92 & 92.18 & 92.51 & 90.1899 & 2020-09-01T04:00:00 & $\\dots$ \\\\\n",
       "\t7 & 5.03659e7 & 90.7119 & 94.01 & 90.22 & 94.28 & 88.74 & 2020-09-02T04:00:00 & $\\dots$ \\\\\n",
       "\t8 & 8.74623e7 & 83.9462 & 87.84 & 82.54 & 88.47 & 81.59 & 2020-09-03T04:00:00 & $\\dots$ \\\\\n",
       "\t9 & 8.22678e7 & 80.442 & 81.45 & 82.01 & 84.39 & 76.33 & 2020-09-04T04:00:00 & $\\dots$ \\\\\n",
       "\t10 & 5.49545e7 & 79.9129 & 78.05 & 78.69 & 81.88 & 78.0 & 2020-09-08T04:00:00 & $\\dots$ \\\\\n",
       "\t11 & 5.39879e7 & 81.2212 & 81.4 & 81.91 & 82.44 & 79.28 & 2020-09-09T04:00:00 & $\\dots$ \\\\\n",
       "\t12 & 5.14484e7 & 80.7025 & 83.07 & 78.98 & 83.31 & 78.38 & 2020-09-10T04:00:00 & $\\dots$ \\\\\n",
       "\t13 & 5.4738e7 & 77.2761 & 79.82 & 76.34 & 79.99 & 75.04 & 2020-09-11T04:00:00 & $\\dots$ \\\\\n",
       "\t14 & 4.74487e7 & 77.6932 & 76.8 & 77.9 & 78.82 & 76.26 & 2020-09-14T04:00:00 & $\\dots$ \\\\\n",
       "\t15 & 5.78744e7 & 78.5432 & 77.66 & 78.93 & 80.33 & 75.97 & 2020-09-15T04:00:00 & $\\dots$ \\\\\n",
       "\t16 & 3.84457e7 & 77.9882 & 79.35 & 76.66 & 79.72 & 76.54 & 2020-09-16T04:00:00 & $\\dots$ \\\\\n",
       "\t17 & 5.56188e7 & 75.529 & 74.88 & 76.55 & 76.625 & 74.2 & 2020-09-17T04:00:00 & $\\dots$ \\\\\n",
       "\t18 & 5.10829e7 & 75.3428 & 77.0 & 74.93 & 77.4 & 73.85 & 2020-09-18T04:00:00 & $\\dots$ \\\\\n",
       "\t19 & 6.1281e7 & 76.4957 & 74.23 & 77.94 & 77.98 & 73.88 & 2020-09-21T04:00:00 & $\\dots$ \\\\\n",
       "\t20 & 5.60447e7 & 76.6441 & 78.365 & 77.7 & 78.79 & 75.27 & 2020-09-22T04:00:00 & $\\dots$ \\\\\n",
       "\t21 & 4.21555e7 & 76.1627 & 77.39 & 74.73 & 77.91 & 74.34 & 2020-09-23T04:00:00 & $\\dots$ \\\\\n",
       "\t22 & 5.75409e7 & 76.1503 & 74.54 & 75.82 & 77.25 & 73.9 & 2020-09-24T04:00:00 & $\\dots$ \\\\\n",
       "\t23 & 4.82062e7 & 76.7342 & 76.35 & 78.055 & 78.2 & 74.67 & 2020-09-25T04:00:00 & $\\dots$ \\\\\n",
       "\t24 & 4.80055e7 & 78.6745 & 79.1165 & 79.48 & 79.57 & 77.52 & 2020-09-28T04:00:00 & $\\dots$ \\\\\n",
       "\t25 & 6.16322e7 & 81.2537 & 79.3 & 81.77 & 82.55 & 79.3 & 2020-09-29T04:00:00 & $\\dots$ \\\\\n",
       "\t26 & 5.15327e7 & 81.9971 & 81.75 & 81.99 & 82.94 & 80.66 & 2020-09-30T04:00:00 & $\\dots$ \\\\\n",
       "\t27 & 5.21771e7 & 84.0196 & 83.06 & 84.86 & 85.25 & 82.86 & 2020-10-01T04:00:00 & $\\dots$ \\\\\n",
       "\t28 & 5.28535e7 & 82.9233 & 82.58 & 81.8 & 84.65 & 81.66 & 2020-10-02T04:00:00 & $\\dots$ \\\\\n",
       "\t29 & 4.70565e7 & 85.1248 & 82.55 & 86.15 & 86.2819 & 82.55 & 2020-10-05T04:00:00 & $\\dots$ \\\\\n",
       "\t30 & 5.27254e7 & 85.4392 & 86.21 & 84.48 & 87.25 & 83.54 & 2020-10-06T04:00:00 & $\\dots$ \\\\\n",
       "\t$\\dots$ & $\\dots$ & $\\dots$ & $\\dots$ & $\\dots$ & $\\dots$ & $\\dots$ & $\\dots$ &  \\\\\n",
       "\\end{tabular}\n"
      ],
      "text/plain": [
       "\u001b[1m527×8 DataFrame\u001b[0m\n",
       "\u001b[1m Row \u001b[0m│\u001b[1m volume    \u001b[0m\u001b[1m volume_weighted_average_price \u001b[0m\u001b[1m open    \u001b[0m\u001b[1m close   \u001b[0m\u001b[1m high    \u001b[0m\u001b[1m lo\u001b[0m ⋯\n",
       "\u001b[1m     \u001b[0m│\u001b[90m Float64   \u001b[0m\u001b[90m Float64                       \u001b[0m\u001b[90m Float64 \u001b[0m\u001b[90m Float64 \u001b[0m\u001b[90m Float64 \u001b[0m\u001b[90m Fl\u001b[0m ⋯\n",
       "─────┼──────────────────────────────────────────────────────────────────────────\n",
       "   1 │ 4.92344e7                        84.8235  83.36      86.35  86.62    82 ⋯\n",
       "   2 │ 4.71573e7                        86.1775  86.9694    86.02  87.72    85\n",
       "   3 │ 4.21942e7                        84.3753  86.35      83.8   86.58    82\n",
       "   4 │ 4.07233e7                        85.1628  84.3       85.55  86.04    84\n",
       "   5 │ 9.06559e7                        90.0989  85.05      90.82  92.64    85 ⋯\n",
       "   6 │ 5.61026e7                        91.4198  91.92      92.18  92.51    90\n",
       "   7 │ 5.03659e7                        90.7119  94.01      90.22  94.28    88\n",
       "   8 │ 8.74623e7                        83.9462  87.84      82.54  88.47    81\n",
       "   9 │ 8.22678e7                        80.442   81.45      82.01  84.39    76 ⋯\n",
       "  10 │ 5.49545e7                        79.9129  78.05      78.69  81.88    78\n",
       "  11 │ 5.39879e7                        81.2212  81.4       81.91  82.44    79\n",
       "  ⋮  │     ⋮                    ⋮                   ⋮        ⋮        ⋮        ⋱\n",
       " 518 │ 7.1483e7                         77.107   77.1       77.45  78.08    75\n",
       " 519 │ 8.18102e7                        76.5445  76.64      76.66  77.97    74 ⋯\n",
       " 520 │ 7.53002e7                        75.6742  75.62      76.51  76.82    74\n",
       " 521 │ 6.49669e7                        76.5347  75.39      76.77  77.34    75\n",
       " 522 │ 5.10291e7                        75.6555  76.08      75.25  76.58    74\n",
       " 523 │ 8.20697e7                        76.1226  75.435     74.48  78.41    74 ⋯\n",
       " 524 │ 1.01437e8                        70.8233  73.89      69.5   74.29    69\n",
       " 525 │ 8.76787e7                        67.7186  68.0       67.96  69.0801  66\n",
       " 526 │ 8.28987e7                        67.2454  67.87      66.3   68.74    66\n",
       " 527 │ 9.45742e7                        67.368   67.9       67.17  68.78    66 ⋯\n",
       "\u001b[36m                                                  3 columns and 506 rows omitted\u001b[0m"
      ]
     },
     "execution_count": 4,
     "metadata": {},
     "output_type": "execute_result"
    }
   ],
   "source": [
    "df = CSV.read(\"./data/AMD-OHLC-2020-8-25-to-2022-09-27.csv\", DataFrame)"
   ]
  },
  {
   "cell_type": "markdown",
   "id": "9291f170-e379-4383-a916-67512730eabb",
   "metadata": {
    "tags": []
   },
   "source": [
    "#### b) Estimate model parameters for AMD"
   ]
  },
  {
   "cell_type": "code",
   "execution_count": 5,
   "id": "d9b8472d-961e-4f98-81b2-18db46dab278",
   "metadata": {},
   "outputs": [],
   "source": [
    "# setup values for the CRR lattice model -\n",
    "L = 30;      # units:days number of tree levels (note: the tree data model is 1 based)\n",
    "\n",
    "Sₒ = df[end-10,:close]\n",
    "IV = 58.3 # 30-day implied volatility\n",
    "μₘ = 0.0351 # use the risk free rate\n",
    "σₘ = (IV/100)\n",
    "\n",
    "# build a CRR lattice model -\n",
    "model = build(CRRLatticeModel; number_of_levels=(L+1), Sₒ = Sₒ, σ = σₘ, μ = μₘ, T = (L/252.0));"
   ]
  },
  {
   "cell_type": "code",
   "execution_count": 6,
   "id": "f86cf70a-1ce5-409c-b142-cf6af23dc891",
   "metadata": {},
   "outputs": [
    {
     "data": {
      "text/plain": [
       "77.03"
      ]
     },
     "execution_count": 6,
     "metadata": {},
     "output_type": "execute_result"
    }
   ],
   "source": [
    "Sₒ"
   ]
  },
  {
   "cell_type": "code",
   "execution_count": 7,
   "id": "802107cc-3f27-421c-a8b5-30b01603faee",
   "metadata": {},
   "outputs": [
    {
     "name": "stdout",
     "output_type": "stream",
     "text": [
      "The probability of an UP move: 0.49283408522681227 where u = 1.036788904394854\n"
     ]
    }
   ],
   "source": [
    "# What is stored in the model?\n",
    "p = model.p\n",
    "u = model.u\n",
    "d = model.d\n",
    "println(\"The probability of an UP move: $(p) where u = $(u)\")"
   ]
  },
  {
   "cell_type": "code",
   "execution_count": 8,
   "id": "6e31f046-17b3-4de9-ac45-f81dfcc6bf59",
   "metadata": {},
   "outputs": [],
   "source": [
    "id = build_nodes_dictionary(L);"
   ]
  },
  {
   "cell_type": "code",
   "execution_count": 9,
   "id": "6ac1dee5-b698-43e9-8605-3eb1b2359127",
   "metadata": {},
   "outputs": [],
   "source": [
    "# Get the estimated prices at all the nodes -\n",
    "P = model.data[:,1];"
   ]
  },
  {
   "cell_type": "code",
   "execution_count": 10,
   "id": "8f0e11b9-de7f-4f1c-8a4f-0f562e2bf60a",
   "metadata": {},
   "outputs": [
    {
     "data": {
      "text/plain": [
       "Dict{Int64, Vector{Float64}} with 31 entries:\n",
       "  5  => [0.0290739, 0.149597, 0.307895, 0.316848, 0.163031, 0.0335545]\n",
       "  16 => [1.21119e-5, 0.000199426, 0.00153919, 0.00739176, 0.0247218, 0.0610578,…\n",
       "  20 => [7.14521e-7, 1.4706e-5, 0.00014377, 0.000887703, 0.00388245, 0.0127851,…\n",
       "  12 => [0.000205309, 0.00253536, 0.01435, 0.0492243, 0.113975, 0.187664, 0.225…\n",
       "  24 => [4.2152e-8, 1.04107e-6, 1.23204e-5, 9.29771e-5, 0.000502325, 0.00206773…\n",
       "  28 => [2.48668e-9, 7.16519e-8, 9.95431e-7, 8.87795e-6, 5.71008e-5, 0.00028205…\n",
       "  8  => [0.00348021, 0.0286514, 0.103196, 0.212394, 0.273213, 0.224926, 0.11573…\n",
       "  17 => [5.96915e-6, 0.000104427, 0.000859706, 0.00442353, 0.0159326, 0.0426294…\n",
       "  30 => [6.03979e-10, 1.86463e-8, 2.78234e-7, 2.67237e-6, 1.8563e-5, 9.93349e-5…\n",
       "  1  => [0.492834, 0.507166]\n",
       "  19 => [1.44982e-6, 2.83476e-5, 0.000262548, 0.00153104, 0.00630224, 0.0194565…\n",
       "  0  => [1.0]\n",
       "  22 => [1.73547e-7, 3.92906e-6, 4.24548e-5, 0.000291263, 0.00142373, 0.0052744…\n",
       "  6  => [0.0143286, 0.0884718, 0.227612, 0.312307, 0.241042, 0.0992207, 0.01701…\n",
       "  23 => [8.55297e-8, 2.02439e-6, 2.29159e-5, 0.000165076, 0.000849381, 0.003321…\n",
       "  11 => [0.000416589, 0.00471574, 0.0242644, 0.07491, 0.154177, 0.222125, 0.228…\n",
       "  9  => [0.00171517, 0.0158854, 0.0653895, 0.157012, 0.242368, 0.249416, 0.1711…\n",
       "  14 => [4.98667e-5, 0.000718435, 0.00480563, 0.0197815, 0.0559811, 0.115218, 0…\n",
       "  3  => [0.119702, 0.36955, 0.380296, 0.130452]\n",
       "  29 => [1.22552e-9, 3.65737e-8, 5.26922e-7, 4.8802e-6, 3.26438e-5, 0.000167965…\n",
       "  7  => [0.00706163, 0.0508689, 0.157045, 0.269353, 0.277185, 0.171148, 0.05870…\n",
       "  25 => [2.07739e-8, 5.34451e-7, 6.59991e-6, 5.20708e-5, 0.000294718, 0.0012738…\n",
       "  4  => [0.0589933, 0.242836, 0.374846, 0.257164, 0.0661607]\n",
       "  13 => [0.000101183, 0.00135364, 0.00835801, 0.0315372, 0.0811359, 0.150292, 0…\n",
       "  15 => [2.4576e-5, 0.00037936, 0.00273274, 0.0121863, 0.0376219, 0.0851752, 0.…\n",
       "  ⋮  => ⋮"
      ]
     },
     "execution_count": 10,
     "metadata": {},
     "output_type": "execute_result"
    }
   ],
   "source": [
    "pd = build_probability_dictionary(model, L) # zero based"
   ]
  },
  {
   "cell_type": "code",
   "execution_count": 11,
   "id": "141b08b0-ee79-4eca-b350-e2fec4a6ac21",
   "metadata": {},
   "outputs": [],
   "source": [
    "p = pd[L];\n",
    "X = P[id[L]];"
   ]
  },
  {
   "cell_type": "code",
   "execution_count": 12,
   "id": "8e613601-c62c-447f-b63c-4a8ac016eb17",
   "metadata": {},
   "outputs": [
    {
     "data": {
      "text/plain": [
       "77.3421229338346"
      ]
     },
     "execution_count": 12,
     "metadata": {},
     "output_type": "execute_result"
    }
   ],
   "source": [
    "E(X,p)"
   ]
  },
  {
   "cell_type": "code",
   "execution_count": 13,
   "id": "2487faf1-ba20-4d4a-a670-4754d134501b",
   "metadata": {},
   "outputs": [
    {
     "data": {
      "text/plain": [
       "15.450298745630782"
      ]
     },
     "execution_count": 13,
     "metadata": {},
     "output_type": "execute_result"
    }
   ],
   "source": [
    "sqrt(Var(X,p))"
   ]
  },
  {
   "cell_type": "code",
   "execution_count": null,
   "id": "24cb9642-4ece-4f9a-8cc2-ef3135c57d28",
   "metadata": {},
   "outputs": [],
   "source": []
  }
 ],
 "metadata": {
  "kernelspec": {
   "display_name": "Julia 1.8.0",
   "language": "julia",
   "name": "julia-1.8"
  },
  "language_info": {
   "file_extension": ".jl",
   "mimetype": "application/julia",
   "name": "julia",
   "version": "1.8.1"
  }
 },
 "nbformat": 4,
 "nbformat_minor": 5
}
