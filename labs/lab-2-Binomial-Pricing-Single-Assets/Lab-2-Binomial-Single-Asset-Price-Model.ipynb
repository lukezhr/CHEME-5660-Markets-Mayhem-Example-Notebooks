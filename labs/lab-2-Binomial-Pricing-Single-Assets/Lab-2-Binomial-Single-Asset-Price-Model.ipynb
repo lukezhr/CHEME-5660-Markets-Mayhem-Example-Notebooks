{
 "cells": [
  {
   "cell_type": "markdown",
   "id": "e250fa77-72d1-4686-a63d-3ae661778f08",
   "metadata": {},
   "source": [
    "## CHEME 5660: Binomial Price Estimate of a Single Risky Asset"
   ]
  },
  {
   "cell_type": "markdown",
   "id": "48a88256-9432-4902-bbe8-e9138c59febf",
   "metadata": {},
   "source": [
    "<img src=\"./figs/Fig-Binomial-Lattice-Schematic.png\" style=\"margin:auto; width:30%\"/>"
   ]
  },
  {
   "cell_type": "markdown",
   "id": "f76b02ab-cc8d-41f3-95c8-371e2f0c3e0b",
   "metadata": {},
   "source": [
    "### Binomial lattice model\n",
    "A binomial lattice model assumes that each discrete time increment, the state of the system, e.g., the share price of equity, the spot rate, etc., can either increase by a factor $u$ with probability $p$ or decrease by a factor $d$ with probability $(1-p)$. Different models can be developed for the specific values of the tuple $(u,d,p)$. One particular model is the Cox, Ross, and Rubinstein (CRR) model:\n",
    "\n",
    "* [Cox, J. C.; Ross, S. A.; Rubinstein, M. (1979). \"Option pricing: A simplified approach\". Journal of Financial Economics. 7 (3): 229. CiteSeerX 10.1.1.379.7582. doi:10.1016/0304-405X(79)90015-1](https://www.sciencedirect.com/science/article/pii/0304405X79900151?via%3Dihub)"
   ]
  },
  {
   "cell_type": "markdown",
   "id": "4d901b08-1889-4b5d-9388-cd1760bac428",
   "metadata": {
    "jp-MarkdownHeadingCollapsed": true,
    "tags": []
   },
   "source": [
    "#### Cox, Ross and Rubinstein (CRR) model\n",
    "The [CRR binomial lattice model](https://en.wikipedia.org/wiki/Binomial_options_pricing_model) was initially developed for options pricing in 1979. However, one of the critical aspects of estimating an option’s price is calculating the underlying asset’s share price. Thus, let's use the [CRR model](https://en.wikipedia.org/wiki/Binomial_options_pricing_model) to compute the share price of a stock, Advanced Micro Devices, Inc, with the ticker symbol [AMD](https://finance.yahoo.com/quote/AMD?.tsrc=applewf). In the [CRR model](https://en.wikipedia.org/wiki/Binomial_options_pricing_model) model, the `up` and `down` moves are symmetric:\n",
    "\n",
    "$$ud = 1$$\n",
    "\n",
    "where the magnitude of an `up` move $u$ is given by:\n",
    "\n",
    "$$u = \\exp(\\sigma\\sqrt{\\Delta{T}})$$\n",
    "\n",
    "The quantity $\\sigma$ denotes a _volatility parameter_, and $\\Delta{T}$ represents the time step. The probability $p$ of an `up` move in a [CRR model](https://en.wikipedia.org/wiki/Binomial_options_pricing_model) is given by:\n",
    "\n",
    "$$p = \\frac{\\exp(\\mu\\sqrt{\\Delta{T}}) - d}{u - d}$$\n",
    "\n",
    "where $\\mu$ denotes a _return parameter_. In the [CRR model](https://en.wikipedia.org/wiki/Binomial_options_pricing_model) model paradigm, the return parameter $\\mu$ and the volatility parameter $\\sigma$ take on common values:\n",
    "* The return parameter $\\mu$ is a _risk-free_ rate of return; the _risk-free_ rate $\\bar{r}$ can be approximated by the [yield on T = 10-year United States Treasury debt security](https://ycharts.com/indicators/10_year_treasury_rate). \n",
    "* The volatility parameter $\\sigma$ is the [implied volatility](https://www.investopedia.com/terms/i/iv.asp); the implied volatility is the market's view of the likelihood of changes in a given security's price."
   ]
  },
  {
   "cell_type": "markdown",
   "id": "06a2857c-e282-487c-b3ce-16683b865451",
   "metadata": {},
   "source": [
    "### Lab setup\n",
    "The code block below installs (and loads) any [Julia](https://julialang.org) packages that we need to complete the calculations. "
   ]
  },
  {
   "cell_type": "code",
   "execution_count": 1,
   "id": "63b95b59-0220-4ab1-b508-f252eafb4407",
   "metadata": {},
   "outputs": [
    {
     "name": "stderr",
     "output_type": "stream",
     "text": [
      "\u001b[32m\u001b[1m  Activating\u001b[22m\u001b[39m project at `~/Desktop/julia_work/CHEME-5660-Markets-Mayhem-Example-Notebooks/labs/lab-2-Binomial-Pricing-Single-Assets`\n",
      "\u001b[32m\u001b[1m  No Changes\u001b[22m\u001b[39m to `~/Desktop/julia_work/CHEME-5660-Markets-Mayhem-Example-Notebooks/labs/lab-2-Binomial-Pricing-Single-Assets/Project.toml`\n",
      "\u001b[32m\u001b[1m  No Changes\u001b[22m\u001b[39m to `~/Desktop/julia_work/CHEME-5660-Markets-Mayhem-Example-Notebooks/labs/lab-2-Binomial-Pricing-Single-Assets/Manifest.toml`\n"
     ]
    }
   ],
   "source": [
    "import Pkg; Pkg.activate(\".\"); Pkg.resolve(); Pkg.instantiate();"
   ]
  },
  {
   "cell_type": "code",
   "execution_count": 2,
   "id": "2afe1e2f-7daf-4859-b6ee-81e478091b82",
   "metadata": {},
   "outputs": [],
   "source": [
    "using PQEcolaPoint\n",
    "using DataFrames\n",
    "using CSV\n",
    "using Statistics"
   ]
  },
  {
   "cell_type": "markdown",
   "id": "11aefd98-ff4d-4981-b7ac-a036091a3717",
   "metadata": {},
   "source": [
    "### Load the lab 2 code library\n",
    "The call to the `include` function loads the `CHEME-5660-Lab-2-Library.jl` library into the notebook; the library contains types and functions we use during the lab:\n",
    "\n",
    "* The `E(X::Array{Float64,1},p::Array{Float64,1}) -> Float64` and `Var(X::Array{Float64,1}, p::Array{Float64,1}) -> Float64` functions compute the expectation and variance of the binomial price estimates given an array `X::Array{Float64,1}` of price values and associated probabilities `p::Array{Float64,1}`.\n",
    "* The `build_probability_dictionary(model::CRRLatticeModel, levels::Int64) -> Dict{Int64, Array{Float64,1}}` function constructs a dictionary of probabilities for each level of the tree; keys are tree levels.\n",
    "* The `build_nodes_dictionary(levels::Int64) -> Dict{Int64,Array{Int64,1}}` function constructs a dictionary of node indexs for each level of the tree; keys are the tree levels."
   ]
  },
  {
   "cell_type": "code",
   "execution_count": 3,
   "id": "c37dcdac-e65f-4809-8e3c-dbd5eafb4c93",
   "metadata": {},
   "outputs": [],
   "source": [
    "# load the code library -\n",
    "include(\"CHEME-5660-Lab-2-Library.jl\");"
   ]
  },
  {
   "cell_type": "markdown",
   "id": "62b5cde3-8137-4d85-ab91-b10f3b333b22",
   "metadata": {},
   "source": [
    "#### a) Load experimental data for AMD\n",
    "Load the historical OHLC data set for Advanced Micro Devices, Inc with ticker symbol [AMD](https://finance.yahoo.com/quote/AMD?.tsrc=applewf) into a [DataFrame](https://dataframes.juliadata.org/stable/). The OHLC data is stored in a comma seperated value (CSV) file format; use the [CSV](https://csv.juliadata.org/stable/) package to read the data and load into a [DataFrame](https://dataframes.juliadata.org/stable/)."
   ]
  },
  {
   "cell_type": "code",
   "execution_count": 4,
   "id": "49994004-b9e9-4587-a212-a1e54693bfb7",
   "metadata": {},
   "outputs": [],
   "source": [
    "df = CSV.read(\"./data/AMD-OHLC-2020-8-25-to-2022-09-27.csv\", DataFrame);"
   ]
  },
  {
   "cell_type": "markdown",
   "id": "9291f170-e379-4383-a916-67512730eabb",
   "metadata": {
    "tags": []
   },
   "source": [
    "#### b) Estimate CRR model parameters for AMD\n",
    "In the [CRR model](https://en.wikipedia.org/wiki/Binomial_options_pricing_model) model paradigm, the return parameter $\\mu$ and the volatility parameter $\\sigma$ take on common values:\n",
    "* The return parameter $\\mu$ is a _risk-free_ rate of return; the _risk-free_ rate $\\bar{r}$ can be approximated by the [yield on T = 10-year United States Treasury debt security](https://ycharts.com/indicators/10_year_treasury_rate). \n",
    "* The volatility parameter $\\sigma$ is related to the [implied volatility](https://www.investopedia.com/terms/i/iv.asp); the implied volatility is the market's view of the likelihood of changes in a given security's price in the next year."
   ]
  },
  {
   "cell_type": "code",
   "execution_count": 5,
   "id": "6b81938e-57a0-4895-9dc7-d156933679d9",
   "metadata": {},
   "outputs": [],
   "source": [
    "# How many days do we want to simulation?\n",
    "L = 30; # units:days number of tree levels (note: the tree data model is 1 based)"
   ]
  },
  {
   "cell_type": "code",
   "execution_count": 6,
   "id": "f7b78c81-3f09-4a4d-aa79-3218fb22ce4b",
   "metadata": {},
   "outputs": [],
   "source": [
    "# Set the risk free rate -\n",
    "r̄ₘ = 0.04;"
   ]
  },
  {
   "cell_type": "code",
   "execution_count": 7,
   "id": "5e6fe34b-e028-408f-b0ed-0f426e66d97b",
   "metadata": {},
   "outputs": [
    {
     "data": {
      "text/plain": [
       "0.16714090520211028"
      ]
     },
     "execution_count": 7,
     "metadata": {},
     "output_type": "execute_result"
    }
   ],
   "source": [
    "# What is the Implied Volatility (IV) -\n",
    "IV = 58.3 # implied volatility \n",
    "σₘ = (IV/100.0)*sqrt(L/365)"
   ]
  },
  {
   "cell_type": "code",
   "execution_count": 8,
   "id": "c4b9a887-4e23-4423-8ff9-0d39a523cc1e",
   "metadata": {},
   "outputs": [
    {
     "data": {
      "text/plain": [
       "75.25"
      ]
     },
     "execution_count": 8,
     "metadata": {},
     "output_type": "execute_result"
    }
   ],
   "source": [
    "# What is the initial share price?\n",
    "Sₒ = df[end-5,:close]"
   ]
  },
  {
   "cell_type": "code",
   "execution_count": 9,
   "id": "9a401e41-ed1d-4c38-bacf-f8fb09ed1aaa",
   "metadata": {},
   "outputs": [],
   "source": [
    "# build a CRR lattice model -\n",
    "model = build(CRRLatticeModel; number_of_levels=(L+1), Sₒ = Sₒ, σ = σₘ, μ = r̄ₘ, T = (L/365.0));"
   ]
  },
  {
   "cell_type": "code",
   "execution_count": 10,
   "id": "92f9f055-0e81-46f9-83af-8306d90d4b81",
   "metadata": {},
   "outputs": [],
   "source": [
    "# Get the estimated prices at all the nodes -\n",
    "P = model.data[:,1];"
   ]
  },
  {
   "cell_type": "code",
   "execution_count": 11,
   "id": "802107cc-3f27-421c-a8b5-30b01603faee",
   "metadata": {},
   "outputs": [
    {
     "name": "stdout",
     "output_type": "stream",
     "text": [
      "The probability of an UP move: 0.5040101077233302 where the UP factor u = 1.0086434330234348\n"
     ]
    }
   ],
   "source": [
    "# What else is stored in the model?\n",
    "p = model.p\n",
    "u = model.u\n",
    "d = model.d\n",
    "println(\"The probability of an UP move: $(p) where the UP factor u = $(u)\")"
   ]
  },
  {
   "cell_type": "markdown",
   "id": "98cdd643-fb64-4156-9ddc-f6fa71d0f3bd",
   "metadata": {},
   "source": [
    "#### c) Analysis of the binomial lattice price values"
   ]
  },
  {
   "cell_type": "markdown",
   "id": "9f1de560-2b98-4e1f-98be-d52f26ac05d9",
   "metadata": {},
   "source": [
    "#### Build: node dictionary `id`"
   ]
  },
  {
   "cell_type": "code",
   "execution_count": 12,
   "id": "6e31f046-17b3-4de9-ac45-f81dfcc6bf59",
   "metadata": {},
   "outputs": [],
   "source": [
    "id = build_nodes_dictionary(L); # zero based"
   ]
  },
  {
   "cell_type": "markdown",
   "id": "ffb01601-952f-4ec3-9752-dc9397ecd179",
   "metadata": {},
   "source": [
    "#### Build: probability dictionary `pd`"
   ]
  },
  {
   "cell_type": "code",
   "execution_count": 13,
   "id": "6ac1dee5-b698-43e9-8605-3eb1b2359127",
   "metadata": {},
   "outputs": [],
   "source": [
    "pd = build_probability_dictionary(model, L); # zero based"
   ]
  },
  {
   "cell_type": "markdown",
   "id": "993c256a-913c-4bc0-a8b8-6f3f8668a23b",
   "metadata": {},
   "source": [
    "#### Extract: prices at $T=\\star$"
   ]
  },
  {
   "cell_type": "code",
   "execution_count": 14,
   "id": "b27676e6-a65a-4635-9a09-7d7d2d9082fb",
   "metadata": {},
   "outputs": [
    {
     "data": {
      "text/plain": [
       "6-element Vector{Float64}:\n",
       " 78.55879817247519\n",
       " 77.21816913904887\n",
       " 75.90041833501347\n",
       " 74.60515533664474\n",
       " 73.33199638291434\n",
       " 72.08056426178885"
      ]
     },
     "execution_count": 14,
     "metadata": {},
     "output_type": "execute_result"
    }
   ],
   "source": [
    "# get the prices and probability for some T\n",
    "T = 5\n",
    "p = pd[T];\n",
    "X = P[id[T]]"
   ]
  },
  {
   "cell_type": "markdown",
   "id": "48d5b4d3-3896-44fc-935c-44b5e484b67e",
   "metadata": {},
   "source": [
    "#### Compute the expectation and the variance of the estimated price values\n",
    "The expectation for a discrete random variable $X$, denoted by $\\mathbb{E}(X)$ is defined as:\n",
    "\n",
    "$$\\mathbb{E}(X) = \\sum_{x\\in{X\\left(\\Omega\\right)}}xp_{X}(x)$$\n",
    "\n",
    "while the variance of $X$, denoted by $\\text{Var}(X)$ is defined as:\n",
    "\n",
    "$$\\text{Var}(X) = \\mathbb{E}(X^2) - \\mathbb{E}(X)^2$$"
   ]
  },
  {
   "cell_type": "code",
   "execution_count": 15,
   "id": "8e613601-c62c-447f-b63c-4a8ac016eb17",
   "metadata": {},
   "outputs": [
    {
     "data": {
      "text/plain": [
       "75.2899133654011"
      ]
     },
     "execution_count": 15,
     "metadata": {},
     "output_type": "execute_result"
    }
   ],
   "source": [
    "# Compute the expected value\n",
    "S̄ = E(X,p)"
   ]
  },
  {
   "cell_type": "code",
   "execution_count": 16,
   "id": "2487faf1-ba20-4d4a-a670-4754d134501b",
   "metadata": {},
   "outputs": [
    {
     "data": {
      "text/plain": [
       "1.4488231990252862"
      ]
     },
     "execution_count": 16,
     "metadata": {},
     "output_type": "execute_result"
    }
   ],
   "source": [
    "# Compute the variance and stdev\n",
    "σ̄ = sqrt(Var(X,p))"
   ]
  },
  {
   "cell_type": "code",
   "execution_count": 17,
   "id": "a0492e3b-8021-4399-96f4-59514182abdc",
   "metadata": {},
   "outputs": [
    {
     "name": "stdout",
     "output_type": "stream",
     "text": [
      "In T = 5 days we expect the share price of AMD to be 75.2899133654011 ± 1.4488231990252862 USD/share\n"
     ]
    }
   ],
   "source": [
    "println(\"In T = $(T) days we expect the share price of AMD to be $(S̄) ± $(σ̄) USD/share\")"
   ]
  },
  {
   "cell_type": "code",
   "execution_count": null,
   "id": "bedc4f8b-8aa2-4d9a-815f-6cc7255e42ed",
   "metadata": {},
   "outputs": [],
   "source": []
  }
 ],
 "metadata": {
  "kernelspec": {
   "display_name": "Julia 1.8.0",
   "language": "julia",
   "name": "julia-1.8"
  },
  "language_info": {
   "file_extension": ".jl",
   "mimetype": "application/julia",
   "name": "julia",
   "version": "1.8.1"
  }
 },
 "nbformat": 4,
 "nbformat_minor": 5
}
