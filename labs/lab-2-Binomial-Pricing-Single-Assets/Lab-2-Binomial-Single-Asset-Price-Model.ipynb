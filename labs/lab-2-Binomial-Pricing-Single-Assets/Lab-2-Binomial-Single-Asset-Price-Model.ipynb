{
 "cells": [
  {
   "cell_type": "markdown",
   "id": "e250fa77-72d1-4686-a63d-3ae661778f08",
   "metadata": {},
   "source": [
    "## CHEME 5660: Estimating the Share Price of a Single Risky Asset using a Binomial Lattice Model"
   ]
  },
  {
   "cell_type": "markdown",
   "id": "48a88256-9432-4902-bbe8-e9138c59febf",
   "metadata": {},
   "source": [
    "<img src=\"./figs/Fig-Binomial-Lattice-Schematic.png\" style=\"margin:auto; width:30%\"/>"
   ]
  },
  {
   "cell_type": "markdown",
   "id": "f76b02ab-cc8d-41f3-95c8-371e2f0c3e0b",
   "metadata": {},
   "source": [
    "### Binomial lattice model\n",
    "A binomial lattice model assumes that each discrete time increment, the state of the system, e.g., the share price of equity, the spot rate, etc., can either increase by a factor $u$ with probability $p$ or decrease by a factor $d$ with probability $(1-p)$. Different models can be developed for the specific values of the tuple $(u,d,p)$. One particular model is the Cox, Ross, and Rubinstein (CRR) model:\n",
    "\n",
    "* [Cox, J. C.; Ross, S. A.; Rubinstein, M. (1979). \"Option pricing: A simplified approach\". Journal of Financial Economics. 7 (3): 229. CiteSeerX 10.1.1.379.7582. doi:10.1016/0304-405X(79)90015-1](https://www.sciencedirect.com/science/article/pii/0304405X79900151?via%3Dihub)"
   ]
  },
  {
   "cell_type": "markdown",
   "id": "4d901b08-1889-4b5d-9388-cd1760bac428",
   "metadata": {
    "jp-MarkdownHeadingCollapsed": true,
    "tags": []
   },
   "source": [
    "#### Cox, Ross and Rubinstein (CRR) model\n",
    "The [CRR binomial lattice model](https://en.wikipedia.org/wiki/Binomial_options_pricing_model) was initially developed for options pricing in 1979. However, one of the critical aspects of estimating an option’s price is calculating the underlying asset’s share price. Thus, let's use the [CRR model](https://en.wikipedia.org/wiki/Binomial_options_pricing_model) to compute the share price of a stock, Advanced Micro Devices, Inc, with the ticker symbol [AMD](https://finance.yahoo.com/quote/AMD?.tsrc=applewf). In the [CRR model](https://en.wikipedia.org/wiki/Binomial_options_pricing_model) model, the `up` and `down` moves are symmetric:\n",
    "\n",
    "$$ud = 1$$\n",
    "\n",
    "where the magnitude of an `up` move $u$ is given by:\n",
    "\n",
    "$$u = \\exp(\\sigma\\sqrt{\\Delta{T}})$$\n",
    "\n",
    "The quantity $\\sigma$ denotes a _volatility parameter_, and $\\Delta{T}$ represents the time step. The probability $p$ of an `up` move in a [CRR model](https://en.wikipedia.org/wiki/Binomial_options_pricing_model) is given by:\n",
    "\n",
    "$$p = \\frac{\\exp(\\mu\\Delta{T}) - d}{u - d}$$\n",
    "\n",
    "where $\\mu$ denotes a _return parameter_. In the [CRR model](https://en.wikipedia.org/wiki/Binomial_options_pricing_model) model paradigm, the return parameter $\\mu$ and the volatility parameter $\\sigma$ take on common values:\n",
    "* The return parameter $\\mu$ is a _risk-free_ rate of return; the _risk-free_ rate $\\bar{r}$ can be approximated by the [yield on T = 10-year United States Treasury debt security](https://ycharts.com/indicators/10_year_treasury_rate). \n",
    "* The volatility parameter $\\sigma$ is the [implied volatility](https://www.investopedia.com/terms/i/iv.asp); the implied volatility is the market's view of the likelihood of changes in a given security's price."
   ]
  },
  {
   "cell_type": "markdown",
   "id": "06a2857c-e282-487c-b3ce-16683b865451",
   "metadata": {},
   "source": [
    "### Lab setup\n",
    "The code block below installs (and loads) any [Julia](https://julialang.org) packages that we need to complete the calculations. "
   ]
  },
  {
   "cell_type": "code",
   "execution_count": 1,
   "id": "63b95b59-0220-4ab1-b508-f252eafb4407",
   "metadata": {},
   "outputs": [
    {
     "name": "stderr",
     "output_type": "stream",
     "text": [
      "\u001b[32m\u001b[1m  Activating\u001b[22m\u001b[39m project at `~/Desktop/julia_work/CHEME-5660-Markets-Mayhem-Example-Notebooks/labs/lab-2-Binomial-Pricing-Single-Assets`\n",
      "\u001b[32m\u001b[1m  No Changes\u001b[22m\u001b[39m to `~/Desktop/julia_work/CHEME-5660-Markets-Mayhem-Example-Notebooks/labs/lab-2-Binomial-Pricing-Single-Assets/Project.toml`\n",
      "\u001b[32m\u001b[1m  No Changes\u001b[22m\u001b[39m to `~/Desktop/julia_work/CHEME-5660-Markets-Mayhem-Example-Notebooks/labs/lab-2-Binomial-Pricing-Single-Assets/Manifest.toml`\n"
     ]
    }
   ],
   "source": [
    "import Pkg; Pkg.activate(\".\"); Pkg.resolve(); Pkg.instantiate();"
   ]
  },
  {
   "cell_type": "code",
   "execution_count": 2,
   "id": "2afe1e2f-7daf-4859-b6ee-81e478091b82",
   "metadata": {},
   "outputs": [],
   "source": [
    "using PQEcolaPoint\n",
    "using DataFrames\n",
    "using CSV\n",
    "using Statistics\n",
    "using Dates"
   ]
  },
  {
   "cell_type": "markdown",
   "id": "11aefd98-ff4d-4981-b7ac-a036091a3717",
   "metadata": {},
   "source": [
    "### Load the lab 2 code library\n",
    "The call to the `include` function loads the `CHEME-5660-Lab-2-Library.jl` library into the notebook; the library contains types and functions we use during the lab:\n",
    "\n",
    "* The `E(X::Array{Float64,1},p::Array{Float64,1}) -> Float64` and `Var(X::Array{Float64,1}, p::Array{Float64,1}) -> Float64` functions compute the expectation and variance of the binomial price estimates given an array `X::Array{Float64,1}` of price values and associated probabilities `p::Array{Float64,1}`.\n",
    "* The `build_probability_dictionary(model::CRRLatticeModel, levels::Int64) -> Dict{Int64, Array{Float64,1}}` function constructs a dictionary of probabilities for each level of the tree; keys are tree levels.\n",
    "* The `build_nodes_dictionary(levels::Int64) -> Dict{Int64,Array{Int64,1}}` function constructs a dictionary of node indexs for each level of the tree; keys are the tree levels."
   ]
  },
  {
   "cell_type": "code",
   "execution_count": 3,
   "id": "c37dcdac-e65f-4809-8e3c-dbd5eafb4c93",
   "metadata": {},
   "outputs": [],
   "source": [
    "# load the code library -\n",
    "include(\"CHEME-5660-Lab-2-Library.jl\");"
   ]
  },
  {
   "cell_type": "markdown",
   "id": "62b5cde3-8137-4d85-ab91-b10f3b333b22",
   "metadata": {},
   "source": [
    "#### a) Load experimental data for AMD\n",
    "Load the historical OHLC data set for Advanced Micro Devices, Inc with ticker symbol [AMD](https://finance.yahoo.com/quote/AMD?.tsrc=applewf) into a [DataFrame](https://dataframes.juliadata.org/stable/). The OHLC data is stored in a comma seperated value (CSV) file format; use the [CSV](https://csv.juliadata.org/stable/) package to read the data and load into a [DataFrame](https://dataframes.juliadata.org/stable/)."
   ]
  },
  {
   "cell_type": "code",
   "execution_count": 4,
   "id": "49994004-b9e9-4587-a212-a1e54693bfb7",
   "metadata": {},
   "outputs": [
    {
     "data": {
      "text/html": [
       "<div class=\"data-frame\"><p>527 rows × 8 columns (omitted printing of 1 columns)</p><table class=\"data-frame\"><thead><tr><th></th><th>volume</th><th>volume_weighted_average_price</th><th>open</th><th>close</th><th>high</th><th>low</th><th>timestamp</th></tr><tr><th></th><th title=\"Float64\">Float64</th><th title=\"Float64\">Float64</th><th title=\"Float64\">Float64</th><th title=\"Float64\">Float64</th><th title=\"Float64\">Float64</th><th title=\"Float64\">Float64</th><th title=\"DateTime\">DateTime</th></tr></thead><tbody><tr><th>1</th><td>4.92344e7</td><td>84.8235</td><td>83.36</td><td>86.35</td><td>86.62</td><td>82.35</td><td>2020-08-25T04:00:00</td></tr><tr><th>2</th><td>4.71573e7</td><td>86.1775</td><td>86.9694</td><td>86.02</td><td>87.72</td><td>85.2</td><td>2020-08-26T04:00:00</td></tr><tr><th>3</th><td>4.21942e7</td><td>84.3753</td><td>86.35</td><td>83.8</td><td>86.58</td><td>82.94</td><td>2020-08-27T04:00:00</td></tr><tr><th>4</th><td>4.07233e7</td><td>85.1628</td><td>84.3</td><td>85.55</td><td>86.04</td><td>84.19</td><td>2020-08-28T04:00:00</td></tr><tr><th>5</th><td>9.06559e7</td><td>90.0989</td><td>85.05</td><td>90.82</td><td>92.64</td><td>85.05</td><td>2020-08-31T04:00:00</td></tr><tr><th>6</th><td>5.61026e7</td><td>91.4198</td><td>91.92</td><td>92.18</td><td>92.51</td><td>90.1899</td><td>2020-09-01T04:00:00</td></tr><tr><th>7</th><td>5.03659e7</td><td>90.7119</td><td>94.01</td><td>90.22</td><td>94.28</td><td>88.74</td><td>2020-09-02T04:00:00</td></tr><tr><th>8</th><td>8.74623e7</td><td>83.9462</td><td>87.84</td><td>82.54</td><td>88.47</td><td>81.59</td><td>2020-09-03T04:00:00</td></tr><tr><th>9</th><td>8.22678e7</td><td>80.442</td><td>81.45</td><td>82.01</td><td>84.39</td><td>76.33</td><td>2020-09-04T04:00:00</td></tr><tr><th>10</th><td>5.49545e7</td><td>79.9129</td><td>78.05</td><td>78.69</td><td>81.88</td><td>78.0</td><td>2020-09-08T04:00:00</td></tr><tr><th>11</th><td>5.39879e7</td><td>81.2212</td><td>81.4</td><td>81.91</td><td>82.44</td><td>79.28</td><td>2020-09-09T04:00:00</td></tr><tr><th>12</th><td>5.14484e7</td><td>80.7025</td><td>83.07</td><td>78.98</td><td>83.31</td><td>78.38</td><td>2020-09-10T04:00:00</td></tr><tr><th>13</th><td>5.4738e7</td><td>77.2761</td><td>79.82</td><td>76.34</td><td>79.99</td><td>75.04</td><td>2020-09-11T04:00:00</td></tr><tr><th>14</th><td>4.74487e7</td><td>77.6932</td><td>76.8</td><td>77.9</td><td>78.82</td><td>76.26</td><td>2020-09-14T04:00:00</td></tr><tr><th>15</th><td>5.78744e7</td><td>78.5432</td><td>77.66</td><td>78.93</td><td>80.33</td><td>75.97</td><td>2020-09-15T04:00:00</td></tr><tr><th>16</th><td>3.84457e7</td><td>77.9882</td><td>79.35</td><td>76.66</td><td>79.72</td><td>76.54</td><td>2020-09-16T04:00:00</td></tr><tr><th>17</th><td>5.56188e7</td><td>75.529</td><td>74.88</td><td>76.55</td><td>76.625</td><td>74.2</td><td>2020-09-17T04:00:00</td></tr><tr><th>18</th><td>5.10829e7</td><td>75.3428</td><td>77.0</td><td>74.93</td><td>77.4</td><td>73.85</td><td>2020-09-18T04:00:00</td></tr><tr><th>19</th><td>6.1281e7</td><td>76.4957</td><td>74.23</td><td>77.94</td><td>77.98</td><td>73.88</td><td>2020-09-21T04:00:00</td></tr><tr><th>20</th><td>5.60447e7</td><td>76.6441</td><td>78.365</td><td>77.7</td><td>78.79</td><td>75.27</td><td>2020-09-22T04:00:00</td></tr><tr><th>21</th><td>4.21555e7</td><td>76.1627</td><td>77.39</td><td>74.73</td><td>77.91</td><td>74.34</td><td>2020-09-23T04:00:00</td></tr><tr><th>22</th><td>5.75409e7</td><td>76.1503</td><td>74.54</td><td>75.82</td><td>77.25</td><td>73.9</td><td>2020-09-24T04:00:00</td></tr><tr><th>23</th><td>4.82062e7</td><td>76.7342</td><td>76.35</td><td>78.055</td><td>78.2</td><td>74.67</td><td>2020-09-25T04:00:00</td></tr><tr><th>24</th><td>4.80055e7</td><td>78.6745</td><td>79.1165</td><td>79.48</td><td>79.57</td><td>77.52</td><td>2020-09-28T04:00:00</td></tr><tr><th>25</th><td>6.16322e7</td><td>81.2537</td><td>79.3</td><td>81.77</td><td>82.55</td><td>79.3</td><td>2020-09-29T04:00:00</td></tr><tr><th>26</th><td>5.15327e7</td><td>81.9971</td><td>81.75</td><td>81.99</td><td>82.94</td><td>80.66</td><td>2020-09-30T04:00:00</td></tr><tr><th>27</th><td>5.21771e7</td><td>84.0196</td><td>83.06</td><td>84.86</td><td>85.25</td><td>82.86</td><td>2020-10-01T04:00:00</td></tr><tr><th>28</th><td>5.28535e7</td><td>82.9233</td><td>82.58</td><td>81.8</td><td>84.65</td><td>81.66</td><td>2020-10-02T04:00:00</td></tr><tr><th>29</th><td>4.70565e7</td><td>85.1248</td><td>82.55</td><td>86.15</td><td>86.2819</td><td>82.55</td><td>2020-10-05T04:00:00</td></tr><tr><th>30</th><td>5.27254e7</td><td>85.4392</td><td>86.21</td><td>84.48</td><td>87.25</td><td>83.54</td><td>2020-10-06T04:00:00</td></tr><tr><th>&vellip;</th><td>&vellip;</td><td>&vellip;</td><td>&vellip;</td><td>&vellip;</td><td>&vellip;</td><td>&vellip;</td><td>&vellip;</td></tr></tbody></table></div>"
      ],
      "text/latex": [
       "\\begin{tabular}{r|cccccccc}\n",
       "\t& volume & volume\\_weighted\\_average\\_price & open & close & high & low & timestamp & \\\\\n",
       "\t\\hline\n",
       "\t& Float64 & Float64 & Float64 & Float64 & Float64 & Float64 & DateTime & \\\\\n",
       "\t\\hline\n",
       "\t1 & 4.92344e7 & 84.8235 & 83.36 & 86.35 & 86.62 & 82.35 & 2020-08-25T04:00:00 & $\\dots$ \\\\\n",
       "\t2 & 4.71573e7 & 86.1775 & 86.9694 & 86.02 & 87.72 & 85.2 & 2020-08-26T04:00:00 & $\\dots$ \\\\\n",
       "\t3 & 4.21942e7 & 84.3753 & 86.35 & 83.8 & 86.58 & 82.94 & 2020-08-27T04:00:00 & $\\dots$ \\\\\n",
       "\t4 & 4.07233e7 & 85.1628 & 84.3 & 85.55 & 86.04 & 84.19 & 2020-08-28T04:00:00 & $\\dots$ \\\\\n",
       "\t5 & 9.06559e7 & 90.0989 & 85.05 & 90.82 & 92.64 & 85.05 & 2020-08-31T04:00:00 & $\\dots$ \\\\\n",
       "\t6 & 5.61026e7 & 91.4198 & 91.92 & 92.18 & 92.51 & 90.1899 & 2020-09-01T04:00:00 & $\\dots$ \\\\\n",
       "\t7 & 5.03659e7 & 90.7119 & 94.01 & 90.22 & 94.28 & 88.74 & 2020-09-02T04:00:00 & $\\dots$ \\\\\n",
       "\t8 & 8.74623e7 & 83.9462 & 87.84 & 82.54 & 88.47 & 81.59 & 2020-09-03T04:00:00 & $\\dots$ \\\\\n",
       "\t9 & 8.22678e7 & 80.442 & 81.45 & 82.01 & 84.39 & 76.33 & 2020-09-04T04:00:00 & $\\dots$ \\\\\n",
       "\t10 & 5.49545e7 & 79.9129 & 78.05 & 78.69 & 81.88 & 78.0 & 2020-09-08T04:00:00 & $\\dots$ \\\\\n",
       "\t11 & 5.39879e7 & 81.2212 & 81.4 & 81.91 & 82.44 & 79.28 & 2020-09-09T04:00:00 & $\\dots$ \\\\\n",
       "\t12 & 5.14484e7 & 80.7025 & 83.07 & 78.98 & 83.31 & 78.38 & 2020-09-10T04:00:00 & $\\dots$ \\\\\n",
       "\t13 & 5.4738e7 & 77.2761 & 79.82 & 76.34 & 79.99 & 75.04 & 2020-09-11T04:00:00 & $\\dots$ \\\\\n",
       "\t14 & 4.74487e7 & 77.6932 & 76.8 & 77.9 & 78.82 & 76.26 & 2020-09-14T04:00:00 & $\\dots$ \\\\\n",
       "\t15 & 5.78744e7 & 78.5432 & 77.66 & 78.93 & 80.33 & 75.97 & 2020-09-15T04:00:00 & $\\dots$ \\\\\n",
       "\t16 & 3.84457e7 & 77.9882 & 79.35 & 76.66 & 79.72 & 76.54 & 2020-09-16T04:00:00 & $\\dots$ \\\\\n",
       "\t17 & 5.56188e7 & 75.529 & 74.88 & 76.55 & 76.625 & 74.2 & 2020-09-17T04:00:00 & $\\dots$ \\\\\n",
       "\t18 & 5.10829e7 & 75.3428 & 77.0 & 74.93 & 77.4 & 73.85 & 2020-09-18T04:00:00 & $\\dots$ \\\\\n",
       "\t19 & 6.1281e7 & 76.4957 & 74.23 & 77.94 & 77.98 & 73.88 & 2020-09-21T04:00:00 & $\\dots$ \\\\\n",
       "\t20 & 5.60447e7 & 76.6441 & 78.365 & 77.7 & 78.79 & 75.27 & 2020-09-22T04:00:00 & $\\dots$ \\\\\n",
       "\t21 & 4.21555e7 & 76.1627 & 77.39 & 74.73 & 77.91 & 74.34 & 2020-09-23T04:00:00 & $\\dots$ \\\\\n",
       "\t22 & 5.75409e7 & 76.1503 & 74.54 & 75.82 & 77.25 & 73.9 & 2020-09-24T04:00:00 & $\\dots$ \\\\\n",
       "\t23 & 4.82062e7 & 76.7342 & 76.35 & 78.055 & 78.2 & 74.67 & 2020-09-25T04:00:00 & $\\dots$ \\\\\n",
       "\t24 & 4.80055e7 & 78.6745 & 79.1165 & 79.48 & 79.57 & 77.52 & 2020-09-28T04:00:00 & $\\dots$ \\\\\n",
       "\t25 & 6.16322e7 & 81.2537 & 79.3 & 81.77 & 82.55 & 79.3 & 2020-09-29T04:00:00 & $\\dots$ \\\\\n",
       "\t26 & 5.15327e7 & 81.9971 & 81.75 & 81.99 & 82.94 & 80.66 & 2020-09-30T04:00:00 & $\\dots$ \\\\\n",
       "\t27 & 5.21771e7 & 84.0196 & 83.06 & 84.86 & 85.25 & 82.86 & 2020-10-01T04:00:00 & $\\dots$ \\\\\n",
       "\t28 & 5.28535e7 & 82.9233 & 82.58 & 81.8 & 84.65 & 81.66 & 2020-10-02T04:00:00 & $\\dots$ \\\\\n",
       "\t29 & 4.70565e7 & 85.1248 & 82.55 & 86.15 & 86.2819 & 82.55 & 2020-10-05T04:00:00 & $\\dots$ \\\\\n",
       "\t30 & 5.27254e7 & 85.4392 & 86.21 & 84.48 & 87.25 & 83.54 & 2020-10-06T04:00:00 & $\\dots$ \\\\\n",
       "\t$\\dots$ & $\\dots$ & $\\dots$ & $\\dots$ & $\\dots$ & $\\dots$ & $\\dots$ & $\\dots$ &  \\\\\n",
       "\\end{tabular}\n"
      ],
      "text/plain": [
       "\u001b[1m527×8 DataFrame\u001b[0m\n",
       "\u001b[1m Row \u001b[0m│\u001b[1m volume    \u001b[0m\u001b[1m volume_weighted_average_price \u001b[0m\u001b[1m open    \u001b[0m\u001b[1m close   \u001b[0m\u001b[1m high    \u001b[0m\u001b[1m lo\u001b[0m ⋯\n",
       "\u001b[1m     \u001b[0m│\u001b[90m Float64   \u001b[0m\u001b[90m Float64                       \u001b[0m\u001b[90m Float64 \u001b[0m\u001b[90m Float64 \u001b[0m\u001b[90m Float64 \u001b[0m\u001b[90m Fl\u001b[0m ⋯\n",
       "─────┼──────────────────────────────────────────────────────────────────────────\n",
       "   1 │ 4.92344e7                        84.8235  83.36      86.35  86.62    82 ⋯\n",
       "   2 │ 4.71573e7                        86.1775  86.9694    86.02  87.72    85\n",
       "   3 │ 4.21942e7                        84.3753  86.35      83.8   86.58    82\n",
       "   4 │ 4.07233e7                        85.1628  84.3       85.55  86.04    84\n",
       "   5 │ 9.06559e7                        90.0989  85.05      90.82  92.64    85 ⋯\n",
       "   6 │ 5.61026e7                        91.4198  91.92      92.18  92.51    90\n",
       "   7 │ 5.03659e7                        90.7119  94.01      90.22  94.28    88\n",
       "   8 │ 8.74623e7                        83.9462  87.84      82.54  88.47    81\n",
       "   9 │ 8.22678e7                        80.442   81.45      82.01  84.39    76 ⋯\n",
       "  10 │ 5.49545e7                        79.9129  78.05      78.69  81.88    78\n",
       "  11 │ 5.39879e7                        81.2212  81.4       81.91  82.44    79\n",
       "  ⋮  │     ⋮                    ⋮                   ⋮        ⋮        ⋮        ⋱\n",
       " 518 │ 7.1483e7                         77.107   77.1       77.45  78.08    75\n",
       " 519 │ 8.18102e7                        76.5445  76.64      76.66  77.97    74 ⋯\n",
       " 520 │ 7.53002e7                        75.6742  75.62      76.51  76.82    74\n",
       " 521 │ 6.49669e7                        76.5347  75.39      76.77  77.34    75\n",
       " 522 │ 5.10291e7                        75.6555  76.08      75.25  76.58    74\n",
       " 523 │ 8.20697e7                        76.1226  75.435     74.48  78.41    74 ⋯\n",
       " 524 │ 1.01437e8                        70.8233  73.89      69.5   74.29    69\n",
       " 525 │ 8.76787e7                        67.7186  68.0       67.96  69.0801  66\n",
       " 526 │ 8.28987e7                        67.2454  67.87      66.3   68.74    66\n",
       " 527 │ 9.45742e7                        67.368   67.9       67.17  68.78    66 ⋯\n",
       "\u001b[36m                                                  3 columns and 506 rows omitted\u001b[0m"
      ]
     },
     "execution_count": 4,
     "metadata": {},
     "output_type": "execute_result"
    }
   ],
   "source": [
    "df = CSV.read(\"./data/AMD-OHLC-2020-8-25-to-2022-09-27.csv\", DataFrame)"
   ]
  },
  {
   "cell_type": "markdown",
   "id": "9291f170-e379-4383-a916-67512730eabb",
   "metadata": {
    "tags": []
   },
   "source": [
    "#### b) Estimate CRR model parameters for AMD\n",
    "In the [CRR model](https://en.wikipedia.org/wiki/Binomial_options_pricing_model) model paradigm, the return parameter $\\mu$ and the volatility parameter $\\sigma$ take on common values:\n",
    "* The return parameter $\\mu$ is a _risk-free_ rate of return; the _risk-free_ rate $\\bar{r}$ can be approximated by the [yield on T = 10-year United States Treasury debt security](https://ycharts.com/indicators/10_year_treasury_rate). \n",
    "* The volatility parameter $\\sigma$ is related to the [implied volatility](https://www.investopedia.com/terms/i/iv.asp); the implied volatility is the market's view of the likelihood of changes in a given security's price in the next year."
   ]
  },
  {
   "cell_type": "code",
   "execution_count": 5,
   "id": "12a4ebac-11ba-4e94-b952-88d4a35e9b35",
   "metadata": {},
   "outputs": [],
   "source": [
    "# number of days per year -\n",
    "B = 252.0;"
   ]
  },
  {
   "cell_type": "code",
   "execution_count": 6,
   "id": "6b81938e-57a0-4895-9dc7-d156933679d9",
   "metadata": {},
   "outputs": [],
   "source": [
    "# How many days do we want to simulation?\n",
    "L = 30; # units:days number of tree levels (note: the tree data model is 1 based)"
   ]
  },
  {
   "cell_type": "code",
   "execution_count": 7,
   "id": "f7b78c81-3f09-4a4d-aa79-3218fb22ce4b",
   "metadata": {},
   "outputs": [],
   "source": [
    "# Set the risk free rate -\n",
    "r̄ₘ = 0.0397; # μ parameter value"
   ]
  },
  {
   "cell_type": "code",
   "execution_count": 8,
   "id": "5e6fe34b-e028-408f-b0ed-0f426e66d97b",
   "metadata": {},
   "outputs": [
    {
     "data": {
      "text/plain": [
       "0.19459848773454388"
      ]
     },
     "execution_count": 8,
     "metadata": {},
     "output_type": "execute_result"
    }
   ],
   "source": [
    "# What is the Implied Volatility (IV) -\n",
    "IV = 56.4 # implied volatility (30-day average value from 09/27/22, https://marketchameleon.com/Overview/AMD/IV/)\n",
    "σₘ = (IV/100.0)*sqrt(L/B)"
   ]
  },
  {
   "cell_type": "code",
   "execution_count": 9,
   "id": "c4b9a887-4e23-4423-8ff9-0d39a523cc1e",
   "metadata": {},
   "outputs": [
    {
     "name": "stdout",
     "output_type": "stream",
     "text": [
      "Simulation starts from 2022-09-13T04:00:00 where Sₒ = 77.03 USD/share\n"
     ]
    }
   ],
   "source": [
    "# What is the initial share price?\n",
    "𝒜 = 10\n",
    "Sₒ = df[end-𝒜,:close]\n",
    "D = df[end-𝒜, :timestamp];\n",
    "\n",
    "# where are we starting from -\n",
    "println(\"Simulation starts from $(D) where Sₒ = $(Sₒ) USD/share\")"
   ]
  },
  {
   "cell_type": "code",
   "execution_count": 10,
   "id": "9a401e41-ed1d-4c38-bacf-f8fb09ed1aaa",
   "metadata": {},
   "outputs": [],
   "source": [
    "# build a CRR lattice model -\n",
    "model = build(CRRLatticeModel; number_of_levels=(L+1), Sₒ = Sₒ, σ = σₘ, μ = r̄ₘ, T = (L/B));"
   ]
  },
  {
   "cell_type": "code",
   "execution_count": 11,
   "id": "92f9f055-0e81-46f9-83af-8306d90d4b81",
   "metadata": {},
   "outputs": [],
   "source": [
    "# Get the estimated prices at all the nodes -\n",
    "P = model.data[:,1];"
   ]
  },
  {
   "cell_type": "code",
   "execution_count": 12,
   "id": "802107cc-3f27-421c-a8b5-30b01603faee",
   "metadata": {},
   "outputs": [
    {
     "name": "stdout",
     "output_type": "stream",
     "text": [
      "The probability of an UP move: 0.5033067768893008 where the UP factor u = 1.0121322186145414\n"
     ]
    }
   ],
   "source": [
    "# What else is stored in the model?\n",
    "p = model.p\n",
    "u = model.u\n",
    "d = model.d\n",
    "\n",
    "# show -\n",
    "println(\"The probability of an UP move: $(p) where the UP factor u = $(u)\")"
   ]
  },
  {
   "cell_type": "markdown",
   "id": "98cdd643-fb64-4156-9ddc-f6fa71d0f3bd",
   "metadata": {},
   "source": [
    "#### c) Analysis of the binomial lattice price values"
   ]
  },
  {
   "cell_type": "markdown",
   "id": "9f1de560-2b98-4e1f-98be-d52f26ac05d9",
   "metadata": {},
   "source": [
    "#### Build: node dictionary `id`"
   ]
  },
  {
   "cell_type": "code",
   "execution_count": 13,
   "id": "6e31f046-17b3-4de9-ac45-f81dfcc6bf59",
   "metadata": {},
   "outputs": [
    {
     "data": {
      "text/plain": [
       "Dict{Int64, Vector{Int64}} with 31 entries:\n",
       "  5  => [16, 17, 18, 19, 20, 21]\n",
       "  16 => [137, 138, 139, 140, 141, 142, 143, 144, 145, 146, 147, 148, 149, 150, …\n",
       "  20 => [211, 212, 213, 214, 215, 216, 217, 218, 219, 220  …  222, 223, 224, 22…\n",
       "  12 => [79, 80, 81, 82, 83, 84, 85, 86, 87, 88, 89, 90, 91]\n",
       "  24 => [301, 302, 303, 304, 305, 306, 307, 308, 309, 310  …  316, 317, 318, 31…\n",
       "  28 => [407, 408, 409, 410, 411, 412, 413, 414, 415, 416  …  426, 427, 428, 42…\n",
       "  8  => [37, 38, 39, 40, 41, 42, 43, 44, 45]\n",
       "  17 => [154, 155, 156, 157, 158, 159, 160, 161, 162, 163, 164, 165, 166, 167, …\n",
       "  30 => [466, 467, 468, 469, 470, 471, 472, 473, 474, 475  …  487, 488, 489, 49…\n",
       "  1  => [2, 3]\n",
       "  19 => [191, 192, 193, 194, 195, 196, 197, 198, 199, 200, 201, 202, 203, 204, …\n",
       "  0  => [1]\n",
       "  22 => [254, 255, 256, 257, 258, 259, 260, 261, 262, 263  …  267, 268, 269, 27…\n",
       "  6  => [22, 23, 24, 25, 26, 27, 28]\n",
       "  23 => [277, 278, 279, 280, 281, 282, 283, 284, 285, 286  …  291, 292, 293, 29…\n",
       "  11 => [67, 68, 69, 70, 71, 72, 73, 74, 75, 76, 77, 78]\n",
       "  9  => [46, 47, 48, 49, 50, 51, 52, 53, 54, 55]\n",
       "  14 => [106, 107, 108, 109, 110, 111, 112, 113, 114, 115, 116, 117, 118, 119, …\n",
       "  3  => [7, 8, 9, 10]\n",
       "  29 => [436, 437, 438, 439, 440, 441, 442, 443, 444, 445  …  456, 457, 458, 45…\n",
       "  7  => [29, 30, 31, 32, 33, 34, 35, 36]\n",
       "  25 => [326, 327, 328, 329, 330, 331, 332, 333, 334, 335  …  342, 343, 344, 34…\n",
       "  4  => [11, 12, 13, 14, 15]\n",
       "  13 => [92, 93, 94, 95, 96, 97, 98, 99, 100, 101, 102, 103, 104, 105]\n",
       "  15 => [121, 122, 123, 124, 125, 126, 127, 128, 129, 130, 131, 132, 133, 134, …\n",
       "  ⋮  => ⋮"
      ]
     },
     "execution_count": 13,
     "metadata": {},
     "output_type": "execute_result"
    }
   ],
   "source": [
    "id = build_nodes_dictionary(L) # zero based"
   ]
  },
  {
   "cell_type": "markdown",
   "id": "ffb01601-952f-4ec3-9752-dc9397ecd179",
   "metadata": {},
   "source": [
    "#### Build: probability dictionary `pd`\n",
    "The probability dictionary holds the probability values for each node at a particular time level:\n",
    "\n",
    "$$P(S_{t} = S_{\\circ}u^{k}d^{t-k}) = \\binom{t}{k}p^{k}\\left(1-p\\right)^{t-k}$$\n",
    "\n",
    "where $t$ denotes the time index and $k=0,1,\\dots,t$."
   ]
  },
  {
   "cell_type": "code",
   "execution_count": 14,
   "id": "6ac1dee5-b698-43e9-8605-3eb1b2359127",
   "metadata": {},
   "outputs": [
    {
     "data": {
      "text/plain": [
       "Dict{Int64, Vector{Float64}} with 31 entries:\n",
       "  5  => [0.0322971, 0.159364, 0.314539, 0.310406, 0.153164, 0.0302302]\n",
       "  16 => [1.6956e-5, 0.000267732, 0.0019816, 0.00912597, 0.0292697, 0.0693241, 0…\n",
       "  20 => [1.08807e-6, 2.14754e-5, 0.000201335, 0.00119214, 0.00500001, 0.0157898…\n",
       "  12 => [0.000264237, 0.00312918, 0.0169843, 0.0558705, 0.124057, 0.195883, 0.2…\n",
       "  24 => [6.98211e-8, 1.65369e-6, 1.87675e-5, 0.00013582, 0.000703685, 0.0027777…\n",
       "  28 => [4.48041e-9, 1.23803e-7, 1.64938e-6, 1.41068e-5, 8.70089e-5, 0.00041215…\n",
       "  8  => [0.00411777, 0.0325093, 0.112287, 0.221624, 0.27339, 0.215838, 0.106501…\n",
       "  17 => [8.53409e-6, 0.000143173, 0.00113033, 0.00557741, 0.0192644, 0.0494293,…\n",
       "  30 => [1.13497e-9, 3.36016e-8, 4.80821e-7, 4.42869e-6, 2.95009e-5, 0.00015138…\n",
       "  1  => [0.503307, 0.496693]\n",
       "  19 => [2.16184e-6, 4.05352e-5, 0.000360023, 0.00201332, 0.00794746, 0.0235291…\n",
       "  0  => [1.0]\n",
       "  22 => [2.75627e-7, 5.98411e-6, 6.20075e-5, 0.000407951, 0.00191231, 0.0067938…\n",
       "  6  => [0.0162554, 0.0962506, 0.237465, 0.312459, 0.231265, 0.0912904, 0.01501…\n",
       "  23 => [1.38725e-7, 3.14874e-6, 3.4181e-5, 0.000236123, 0.0011651, 0.00436921,…\n",
       "  11 => [0.000525002, 0.00569913, 0.0281212, 0.0832551, 0.164322, 0.227028, 0.2…\n",
       "  9  => [0.0020725, 0.0184074, 0.0726622, 0.167317, 0.247678, 0.244423, 0.16080…\n",
       "  14 => [6.69359e-5, 0.000924788, 0.00593214, 0.0234168, 0.0635499, 0.12543, 0.…\n",
       "  3  => [0.127497, 0.377464, 0.372504, 0.122536]\n",
       "  29 => [2.25502e-9, 6.45363e-8, 8.91636e-7, 7.91928e-6, 5.07989e-5, 0.00025065…\n",
       "  7  => [0.00818143, 0.0565175, 0.167325, 0.27521, 0.271593, 0.160815, 0.052900…\n",
       "  25 => [3.51414e-8, 8.66992e-7, 1.02672e-5, 7.76808e-5, 0.00042163, 0.00174758…\n",
       "  4  => [0.0641699, 0.253307, 0.374967, 0.246693, 0.0608629]\n",
       "  13 => [0.000132992, 0.00170618, 0.0101026, 0.036556, 0.0901891, 0.160207, 0.2…\n",
       "  15 => [3.36893e-5, 0.000498699, 0.00344502, 0.0147323, 0.043616, 0.0946944, 0…\n",
       "  ⋮  => ⋮"
      ]
     },
     "execution_count": 14,
     "metadata": {},
     "output_type": "execute_result"
    }
   ],
   "source": [
    "pd = build_probability_dictionary(model, L) # zero based"
   ]
  },
  {
   "cell_type": "code",
   "execution_count": 15,
   "id": "3cd5a0b5-152b-4d3c-9972-fd8723284848",
   "metadata": {},
   "outputs": [
    {
     "data": {
      "text/plain": [
       "3-element Vector{Float64}:\n",
       " 0.2533177116626964\n",
       " 0.49997813045320877\n",
       " 0.2467041578840948"
      ]
     },
     "execution_count": 15,
     "metadata": {},
     "output_type": "execute_result"
    }
   ],
   "source": [
    "pd[2]"
   ]
  },
  {
   "cell_type": "markdown",
   "id": "993c256a-913c-4bc0-a8b8-6f3f8668a23b",
   "metadata": {},
   "source": [
    "#### Extract: prices at $T=\\star$"
   ]
  },
  {
   "cell_type": "code",
   "execution_count": 47,
   "id": "b27676e6-a65a-4635-9a09-7d7d2d9082fb",
   "metadata": {},
   "outputs": [
    {
     "data": {
      "text/plain": [
       "7-element Vector{Float64}:\n",
       " 82.81011660780494\n",
       " 80.83675970459886\n",
       " 78.91042770157345\n",
       " 77.03\n",
       " 75.1943827049069\n",
       " 73.40250798873167\n",
       " 71.65333347013728"
      ]
     },
     "execution_count": 47,
     "metadata": {},
     "output_type": "execute_result"
    }
   ],
   "source": [
    "# get the prices and probability for some T\n",
    "T = 6\n",
    "p = pd[T];\n",
    "X = P[id[T]]"
   ]
  },
  {
   "cell_type": "markdown",
   "id": "48d5b4d3-3896-44fc-935c-44b5e484b67e",
   "metadata": {},
   "source": [
    "#### Compute the expectation and the variance of the estimated price values\n",
    "The expectation for a discrete random variable $X$, denoted by $\\mathbb{E}(X)$ is defined as:\n",
    "\n",
    "$$\\mathbb{E}(X) = \\sum_{x\\in{X\\left(\\Omega\\right)}}xp_{X}(x)$$\n",
    "\n",
    "while the variance of $X$, denoted by $\\text{Var}(X)$ is defined as:\n",
    "\n",
    "$$\\text{Var}(X) = \\mathbb{E}(X^2) - \\mathbb{E}(X)^2$$"
   ]
  },
  {
   "cell_type": "code",
   "execution_count": 48,
   "id": "8e613601-c62c-447f-b63c-4a8ac016eb17",
   "metadata": {},
   "outputs": [
    {
     "data": {
      "text/plain": [
       "77.10049516395543"
      ]
     },
     "execution_count": 48,
     "metadata": {},
     "output_type": "execute_result"
    }
   ],
   "source": [
    "# Compute the expected value\n",
    "S̄ = E(X,p)"
   ]
  },
  {
   "cell_type": "code",
   "execution_count": 49,
   "id": "2487faf1-ba20-4d4a-a670-4754d134501b",
   "metadata": {},
   "outputs": [
    {
     "data": {
      "text/plain": [
       "2.277537327961592"
      ]
     },
     "execution_count": 49,
     "metadata": {},
     "output_type": "execute_result"
    }
   ],
   "source": [
    "# Compute the variance and stdev\n",
    "σ̄ = sqrt(Var(X,p))"
   ]
  },
  {
   "cell_type": "code",
   "execution_count": 50,
   "id": "a0492e3b-8021-4399-96f4-59514182abdc",
   "metadata": {},
   "outputs": [
    {
     "name": "stdout",
     "output_type": "stream",
     "text": [
      "In T = 6 days from 2022-09-13T04:00:00 we expect the share price of AMD to be 77.10049516395543 ± 2.277537327961592 USD/share\n"
     ]
    }
   ],
   "source": [
    "println(\"In T = $(T) days from $(D) we expect the share price of AMD to be $(S̄) ± $(σ̄) USD/share\")"
   ]
  },
  {
   "cell_type": "markdown",
   "id": "2c0e50a4-1a94-48ff-825c-3f95c819eee6",
   "metadata": {},
   "source": [
    "#### d) Did we hit or did we miss?\n",
    "Suppose we define a `hit` as being within $\\pm$1.96$\\sigma$ of the expected value; otherwise, we `miss`."
   ]
  },
  {
   "cell_type": "code",
   "execution_count": 51,
   "id": "d419b42c-0629-44c9-aa41-4f7a8eed6b21",
   "metadata": {},
   "outputs": [
    {
     "name": "stdout",
     "output_type": "stream",
     "text": [
      "Actual close price on 2022-09-21T04:00:00 was 74.48 USD/share\n"
     ]
    }
   ],
   "source": [
    "# get the actual value of the AMD share price -\n",
    "actual_price = df[end - (𝒜 - T), :close]\n",
    "actual_date = df[end - (𝒜 - T), :timestamp]\n",
    "\n",
    "# what happend actually?\n",
    "println(\"Actual close price on $(actual_date) was $(actual_price) USD/share\")"
   ]
  },
  {
   "cell_type": "code",
   "execution_count": 52,
   "id": "ad9692cd-8c55-4f1e-9e00-f486c056e22c",
   "metadata": {},
   "outputs": [
    {
     "name": "stdout",
     "output_type": "stream",
     "text": [
      "Hit: true. Values L = 72.63652200115071, S = 74.48, U = 81.56446832676015"
     ]
    }
   ],
   "source": [
    "# hit or miss logic?\n",
    "ℒ = S̄ - 1.96*σ̄; # lower bound\n",
    "𝒰 = S̄ + 1.96*σ̄; # upper bound\n",
    "\n",
    "hit_flag = false\n",
    "if (actual_price >= ℒ && actual_price <= 𝒰)\n",
    "    hit_flag = true\n",
    "end\n",
    "\n",
    "# print -\n",
    "print(\"Hit: $(hit_flag). Values L = $(ℒ), S = $(actual_price), U = $(𝒰)\")"
   ]
  },
  {
   "cell_type": "code",
   "execution_count": null,
   "id": "68f644ea-1eae-45c0-be32-3518273be395",
   "metadata": {},
   "outputs": [],
   "source": []
  }
 ],
 "metadata": {
  "kernelspec": {
   "display_name": "Julia 1.8.0",
   "language": "julia",
   "name": "julia-1.8"
  },
  "language_info": {
   "file_extension": ".jl",
   "mimetype": "application/julia",
   "name": "julia",
   "version": "1.8.1"
  }
 },
 "nbformat": 4,
 "nbformat_minor": 5
}
