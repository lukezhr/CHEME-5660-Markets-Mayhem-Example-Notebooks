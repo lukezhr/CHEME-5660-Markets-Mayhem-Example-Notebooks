{
 "cells": [
  {
   "cell_type": "markdown",
   "id": "0bda28cb-b810-4cbc-9d14-61a8045bde23",
   "metadata": {},
   "source": [
    "Fill me in"
   ]
  },
  {
   "cell_type": "code",
   "execution_count": null,
   "id": "1e91b892-26ae-41ea-9a70-9f7566bc66a4",
   "metadata": {},
   "outputs": [],
   "source": []
  }
 ],
 "metadata": {
  "kernelspec": {
   "display_name": "Julia 1.8.0",
   "language": "julia",
   "name": "julia-1.8"
  },
  "language_info": {
   "file_extension": ".jl",
   "mimetype": "application/julia",
   "name": "julia",
   "version": "1.8.2"
  }
 },
 "nbformat": 4,
 "nbformat_minor": 5
}
