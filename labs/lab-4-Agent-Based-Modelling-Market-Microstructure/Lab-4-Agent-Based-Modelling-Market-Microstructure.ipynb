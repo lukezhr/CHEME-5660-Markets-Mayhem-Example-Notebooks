{
 "cells": [
  {
   "cell_type": "markdown",
   "id": "89759e42",
   "metadata": {},
   "source": [
    "## CHEME 5660:  Microscopic Perspective of Financial Systems"
   ]
  },
  {
   "cell_type": "markdown",
   "id": "969e24da",
   "metadata": {},
   "source": [
    "<!-- <img src=\"./figs/saupload_15-04-22-flash-crash.png\" style=\"margin:auto; width:30%\"/> -->"
   ]
  },
  {
   "cell_type": "markdown",
   "id": "275beb83",
   "metadata": {},
   "source": [
    "### Motivation\n",
    "In previous weeks, we have treated financial markets as a *macroscopic* system, where the overall market behavior can be simulated using various equation-based methods. These models provide us with a way to relate features, such as implied volatility and the risk-free rate of return, to a distribution of price over time. These methods are well-established for supporting financial decision-making—but, as with all models, they come with limitations. Among them, is the difficulty extending their use to beyond the view of a single asset and modeling extreme events.\n",
    "\n",
    "\n",
    "Financial markets are not governed by a central mathematical process. Instead, they are composed of complex and evolving interactions that are difficult to define. Systems that exhibit these kinds of dynamics are known as *Complex adaptive systems* (CAS), in which the micro-scale behaviors of individual actors or agents coalesce to generate *emergent properties* at the macro-scale. In financial systems, emergent properties can manifest unexpectedly and have varying consequences. One example of emergence is the price discovery process, in which the price series of an asset is determined through the individual orders submitted by various buyers and sellers. Other types of emergent phenomena can be irrational and deviate significantly from historical events, such as the *flash crash*. A flash crash is a sudden and extreme drop in asset value that can have lingering and widespread effects on the market.\n",
    "<br/><br/>\n",
    "<figure>\n",
    "    <img src=\"./figs/saupload_15-04-22-flash-crash.png\" style=\"margin:auto; width:60%\"/>\n",
    "    <figcaption class=\"figure-caption text-center\">Image source: Rueters (2015)</figcaption>\n",
    "</figure>\n",
    "<br/><br/>\n",
    "\n",
    "**Why does this matter?**\n",
    "- Investor confidence\n",
    "    - Market's ability to fairly price assets\n",
    "    - Adverse selection\n",
    "    - Transparency\n",
    "- Market Stability\n",
    "    - Extreme volatility\n",
    "    - Risk posed by algorithmic trading\n",
    "\n",
    "Flash crashes and other emergent phenomena can be traced back to the accumulation of individual decisions and the environment they occur in—the market microsructure. "
   ]
  },
  {
   "cell_type": "markdown",
   "id": "b2c30864",
   "metadata": {},
   "source": [
    "### Market Microstructure\n",
    "Market microstructure examines the explicit trading rules and mechanisms of exchanges and the effects they have on market outcomes and trading behavior. Briefly, let's introduce two key components of market microstructure:\n",
    "\n",
    "- **Electronic exchanges (Networks and Order types)**\n",
    "    - Electronic exchanges are virtual platforms that facilitate trades for market participants. There are several venues where trade execution can take place and orders can be submitted over a network from anywhere; therefore, latency plays a role in the outcome of a trade. \n",
    "    - Exchanges offer investors a choice of several order types (e.g., limit orders, market orders, cancel orders, etc.), which allow orders to be submitted passively or aggressively. \n",
    "- **Order Books (Matching Algorithms and Liquidity)**\n",
    "    - Order books represent the queue of pending orders for a particular asset and match orders based on a matching algorithm (typically price-time priority).\n",
    "    - Physical representation of supply and demand: buyers submit *bids* and sellers submit *asks*. The difference between the best bid and best ask is known as the *bid/ask spread*. Order books capture the supply and demand forces that drive price movement and contain information such as the market's sentiment of an asset.\n",
    "    - *Liquidity* is the measure of how easy it is to carry out a transaction at a stable price; illiquid assets have sparse order books with a wide bid-ask spread. Market makers provide liquidity by maintaining concurrent offers to carry out transactions between both buyers and sellers.\n",
    "- For more information, view the online book chapter over [Markets, Exchanges and Investment Instruments](https://varnerlab.github.io/CHEME-5660-Markets-Mayhem-Book/chapter-1-dir/markets.html#markets-exchanges-and-investment-instruments).\n",
    "\n",
    "**Why does this matter?**\n",
    "- Market participants have different goals\n",
    "    - Market maker vs. retail investor\n",
    "- Execution workflows\n",
    "    - Market impact\n",
    "    - Market slippage\n",
    "    \n",
    "### Order book demo\n",
    "Let's run through a demo of key microstructural features. \n",
    "1. Limit Order vs. Market Order\n",
    "2. Liquid asset vs. illiquid asset\n",
    "3. Market impact\n",
    "4. Market slippage"
   ]
  },
  {
   "cell_type": "markdown",
   "id": "c60aca9f",
   "metadata": {},
   "source": [
    "### Lab setup: LOB\n",
    "The code block below installs (and loads) any [Julia](https://julialang.org) packages that we need to complete the calculations. "
   ]
  },
  {
   "cell_type": "code",
   "execution_count": 1,
   "id": "52a46c3e",
   "metadata": {},
   "outputs": [
    {
     "name": "stderr",
     "output_type": "stream",
     "text": [
      "\u001b[32m\u001b[1m  Activating\u001b[22m\u001b[39m project at `~/Desktop/julia_work/CHEME-5660-Markets-Mayhem-Example-Notebooks/labs/lab-4-Agent-Based-Modelling-Market-Microstructure`\n",
      "\u001b[32m\u001b[1m  No Changes\u001b[22m\u001b[39m to `~/Desktop/julia_work/CHEME-5660-Markets-Mayhem-Example-Notebooks/labs/lab-4-Agent-Based-Modelling-Market-Microstructure/Project.toml`\n",
      "\u001b[32m\u001b[1m  No Changes\u001b[22m\u001b[39m to `~/Desktop/julia_work/CHEME-5660-Markets-Mayhem-Example-Notebooks/labs/lab-4-Agent-Based-Modelling-Market-Microstructure/Manifest.toml`\n"
     ]
    }
   ],
   "source": [
    "import Pkg; Pkg.activate(\".\"); Pkg.resolve(); Pkg.instantiate();"
   ]
  },
  {
   "cell_type": "code",
   "execution_count": 2,
   "id": "9b05580f-6ab4-4c5b-a208-ff2739a9928d",
   "metadata": {},
   "outputs": [
    {
     "name": "stderr",
     "output_type": "stream",
     "text": [
      "\u001b[32m\u001b[1m    Updating\u001b[22m\u001b[39m git-repo `https://github.com/aaron-wheeler/SFIArtificialStockMarket.jl`\n",
      "\u001b[32m\u001b[1m    Updating\u001b[22m\u001b[39m registry at `~/.julia/registries/General.toml`\n",
      "\u001b[32m\u001b[1m   Resolving\u001b[22m\u001b[39m package versions...\n",
      "\u001b[32m\u001b[1m  No Changes\u001b[22m\u001b[39m to `~/Desktop/julia_work/CHEME-5660-Markets-Mayhem-Example-Notebooks/labs/lab-4-Agent-Based-Modelling-Market-Microstructure/Project.toml`\n",
      "\u001b[32m\u001b[1m  No Changes\u001b[22m\u001b[39m to `~/Desktop/julia_work/CHEME-5660-Markets-Mayhem-Example-Notebooks/labs/lab-4-Agent-Based-Modelling-Market-Microstructure/Manifest.toml`\n",
      "\u001b[32m\u001b[1m    Updating\u001b[22m\u001b[39m git-repo `https://github.com/Renruize12306/VL_LimitOrderBook`\n",
      "\u001b[32m\u001b[1m   Resolving\u001b[22m\u001b[39m package versions...\n",
      "\u001b[32m\u001b[1m  No Changes\u001b[22m\u001b[39m to `~/Desktop/julia_work/CHEME-5660-Markets-Mayhem-Example-Notebooks/labs/lab-4-Agent-Based-Modelling-Market-Microstructure/Project.toml`\n",
      "\u001b[32m\u001b[1m  No Changes\u001b[22m\u001b[39m to `~/Desktop/julia_work/CHEME-5660-Markets-Mayhem-Example-Notebooks/labs/lab-4-Agent-Based-Modelling-Market-Microstructure/Manifest.toml`\n"
     ]
    }
   ],
   "source": [
    "Pkg.add(url=\"https://github.com/aaron-wheeler/SFIArtificialStockMarket.jl\")\n",
    "Pkg.add(url=\"https://github.com/Renruize12306/VL_LimitOrderBook\")"
   ]
  },
  {
   "cell_type": "code",
   "execution_count": 3,
   "id": "c2c602dd",
   "metadata": {},
   "outputs": [],
   "source": [
    "using VL_LimitOrderBook\n",
    "using Dates\n",
    "using Base.Iterators: zip,cycle,take,filter"
   ]
  },
  {
   "cell_type": "code",
   "execution_count": 4,
   "id": "f9576548",
   "metadata": {},
   "outputs": [
    {
     "data": {
      "text/plain": [
       "OrderBook{Sz=Int64,Px=Float64,Oid=Int64,Aid=Int64} with properties:\n",
       "  ⋄ best bid/ask price: (98.99, 99.02)\n",
       "  ⋄ total bid/ask volume: (230, 145)\n",
       "  ⋄ total bid/ask orders: (20, 16)\n",
       "  ⋄ flags = [:PlotTickMax => 5]\n",
       "\n",
       " Order Book histogram (within 5 ticks of center):\n",
       "\n",
       "                  \u001b[38;5;8m                                          \u001b[0m\n",
       "             98.91\u001b[38;5;8m \u001b[0m\u001b[38;5;1m■■■■■■■■■■■■■\u001b[0m 20                        \u001b[38;5;8m \u001b[0m\u001b[38;5;8m\u001b[0m\n",
       "             98.94\u001b[38;5;8m \u001b[0m\u001b[38;5;1m■■■■■■■■■■■■■\u001b[0m 20                        \u001b[38;5;8m \u001b[0m\u001b[38;5;8m\u001b[0m\n",
       "   :BID      98.95\u001b[38;5;8m \u001b[0m\u001b[38;5;1m■■■■■■■■■■■■■■■■■■■■■■■\u001b[0m 35              \u001b[38;5;8m \u001b[0m\u001b[38;5;8m\u001b[0m\n",
       "             98.96\u001b[38;5;8m \u001b[0m\u001b[38;5;1m■■■■■■■■■■■■■■■■■■■■■■■■■■■■■■■■■■■■\u001b[0m 55 \u001b[38;5;8m \u001b[0m\u001b[38;5;8m\u001b[0m\n",
       "             98.99\u001b[38;5;8m \u001b[0m\u001b[38;5;1m■■■■■■■■■■■■■\u001b[0m 20                        \u001b[38;5;8m \u001b[0m\u001b[38;5;8m\u001b[0m\n",
       "                  \u001b[38;5;8m                                          \u001b[0m\n",
       "\n",
       "                  \u001b[38;5;8m                                          \u001b[0m\n",
       "             99.02\u001b[38;5;8m \u001b[0m\u001b[38;5;2m■■■■■■■■■■■■■■■■■■\u001b[0m 15                   \u001b[38;5;8m \u001b[0m\u001b[38;5;8m\u001b[0m\n",
       "             99.03\u001b[38;5;8m \u001b[0m\u001b[38;5;2m■■■■■■■■■■■■■■■■■■■■■■■■\u001b[0m 20             \u001b[38;5;8m \u001b[0m\u001b[38;5;8m\u001b[0m\n",
       "   :ASK      99.04\u001b[38;5;8m \u001b[0m\u001b[38;5;2m■■■■■■■■■■■■■■■■■■■■■■■■■■■■■■■■■■■■\u001b[0m 30 \u001b[38;5;8m \u001b[0m\u001b[38;5;8m\u001b[0m\n",
       "             99.05\u001b[38;5;8m \u001b[0m\u001b[38;5;2m■■■■■■\u001b[0m 5                                \u001b[38;5;8m \u001b[0m\u001b[38;5;8m\u001b[0m\n",
       "             99.06\u001b[38;5;8m \u001b[0m\u001b[38;5;2m■■■■■■\u001b[0m 5                                \u001b[38;5;8m \u001b[0m\u001b[38;5;8m\u001b[0m\n",
       "                  \u001b[38;5;8m                                          \u001b[0m\n"
      ]
     },
     "execution_count": 4,
     "metadata": {},
     "output_type": "execute_result"
    }
   ],
   "source": [
    "# generate Limit Order Book\n",
    "\n",
    "# define types for Order Size, Price, Transcation ID, Account ID, Order Creation Time, IP Address, Port\n",
    "MyUOBType = UnmatchedOrderBook{Int64, Float64, Int64, Int64, DateTime, String, Integer}\n",
    "# define types for Order Size, Price, Order IDs, Account IDs\n",
    "MyLOBType = OrderBook{Int64, Float64, Int64, Int64}\n",
    "\n",
    "ob = MyLOBType() # Initialize empty order book\n",
    "uob = MyUOBType() # Initialize unmatched book process\n",
    "\n",
    "# define initialization methods\n",
    "rand_spread() = ceil(-0.05*log(rand()),digits=2)\n",
    "rand_side() = rand([BUY_ORDER,SELL_ORDER])\n",
    "\n",
    "# fill book with random orders\n",
    "for i=1:20\n",
    "    # add some limit orders\n",
    "    submit_limit_order!(ob,uob,111,BUY_ORDER,99.0-rand_spread(),rand(5:5:20),10101)\n",
    "    submit_limit_order!(ob,uob,222,SELL_ORDER,99.0+rand_spread(),rand(5:5:20),10101)\n",
    "    if (rand() < 0.1) # and some market orders\n",
    "        submit_market_order!(ob,rand_side(),rand(10:25:150))\n",
    "    end\n",
    "end\n",
    "\n",
    "ob # show state of the book"
   ]
  },
  {
   "cell_type": "code",
   "execution_count": 5,
   "id": "2eebfd66",
   "metadata": {},
   "outputs": [
    {
     "data": {
      "text/plain": [
       "OrderBook{Sz=Int64,Px=Float64,Oid=Int64,Aid=Int64} with properties:\n",
       "  ⋄ best bid/ask price: (98.99, 99.02)\n",
       "  ⋄ total bid/ask volume: (240, 145)\n",
       "  ⋄ total bid/ask orders: (21, 16)\n",
       "  ⋄ flags = [:PlotTickMax => 5]\n",
       "\n",
       " Order Book histogram (within 5 ticks of center):\n",
       "\n",
       "                  \u001b[38;5;8m                                          \u001b[0m\n",
       "             98.91\u001b[38;5;8m \u001b[0m\u001b[38;5;1m■■■■■■■■■■■■■\u001b[0m 20                        \u001b[38;5;8m \u001b[0m\u001b[38;5;8m\u001b[0m\n",
       "             98.94\u001b[38;5;8m \u001b[0m\u001b[38;5;1m■■■■■■■■■■■■■\u001b[0m 20                        \u001b[38;5;8m \u001b[0m\u001b[38;5;8m\u001b[0m\n",
       "   :BID      98.95\u001b[38;5;8m \u001b[0m\u001b[38;5;1m■■■■■■■■■■■■■■■■■■■■■■■\u001b[0m 35              \u001b[38;5;8m \u001b[0m\u001b[38;5;8m\u001b[0m\n",
       "             98.96\u001b[38;5;8m \u001b[0m\u001b[38;5;1m■■■■■■■■■■■■■■■■■■■■■■■■■■■■■■■■■■■■\u001b[0m 55 \u001b[38;5;8m \u001b[0m\u001b[38;5;8m\u001b[0m\n",
       "             98.99\u001b[38;5;8m \u001b[0m\u001b[38;5;1m■■■■■■■■■■■■■■■■■■■■\u001b[0m 30                 \u001b[38;5;8m \u001b[0m\u001b[38;5;8m\u001b[0m\n",
       "                  \u001b[38;5;8m                                          \u001b[0m\n",
       "\n",
       "                  \u001b[38;5;8m                                          \u001b[0m\n",
       "             99.02\u001b[38;5;8m \u001b[0m\u001b[38;5;2m■■■■■■■■■■■■■■■■■■\u001b[0m 15                   \u001b[38;5;8m \u001b[0m\u001b[38;5;8m\u001b[0m\n",
       "             99.03\u001b[38;5;8m \u001b[0m\u001b[38;5;2m■■■■■■■■■■■■■■■■■■■■■■■■\u001b[0m 20             \u001b[38;5;8m \u001b[0m\u001b[38;5;8m\u001b[0m\n",
       "   :ASK      99.04\u001b[38;5;8m \u001b[0m\u001b[38;5;2m■■■■■■■■■■■■■■■■■■■■■■■■■■■■■■■■■■■■\u001b[0m 30 \u001b[38;5;8m \u001b[0m\u001b[38;5;8m\u001b[0m\n",
       "             99.05\u001b[38;5;8m \u001b[0m\u001b[38;5;2m■■■■■■\u001b[0m 5                                \u001b[38;5;8m \u001b[0m\u001b[38;5;8m\u001b[0m\n",
       "             99.06\u001b[38;5;8m \u001b[0m\u001b[38;5;2m■■■■■■\u001b[0m 5                                \u001b[38;5;8m \u001b[0m\u001b[38;5;8m\u001b[0m\n",
       "                  \u001b[38;5;8m                                          \u001b[0m\n"
      ]
     },
     "execution_count": 5,
     "metadata": {},
     "output_type": "execute_result"
    }
   ],
   "source": [
    "# interact with LOB\n",
    "\n",
    "order_id = 1\n",
    "side = BUY_ORDER # SELL_ORDER\n",
    "limit_price = 98.99\n",
    "order_size = 10\n",
    "acct_id = 1\n",
    "\n",
    "submit_limit_order!(ob,uob,order_id,side,limit_price,order_size,acct_id)\n",
    "# submit_market_order!(ob,side,order_size)\n",
    "\n",
    "ob # show state of the book"
   ]
  },
  {
   "cell_type": "markdown",
   "id": "bf6c817f",
   "metadata": {},
   "source": [
    "What if we wanted to represent and analyze the complexities of the entire trade lifecycle *in silico*? Could we account for the details and nuances that come with microstructural features? One approach would be to use Agent-Based Modeling (ABM), a broad simulation framework for complex systems. "
   ]
  },
  {
   "cell_type": "markdown",
   "id": "5a7e024a",
   "metadata": {},
   "source": [
    "### Agent-Based Modeling\n",
    "Agent-Based Modeling is a simulation paradigm with three design elements:\n",
    "1. **Software agents.** Agents are entities that act autonomously and according to pre-defined rules and objectives. The agents can be heterogenous, i.e., they can be defined with different properties and exhibit fundamentally different behaviors.\n",
    "2. **Interaction mechanism.** Agents interact with one another through both their rules (actions they are allowed to take) and the explicit structure to which they are linked.\n",
    "3. **Environment.** The environment defines the state of the system. This includes the observable variables, external shocks to the system, etc. \n",
    "\n",
    "ABMs capture key features of complex systems—in particular, emergent properties, non-linearity, and heterogeneity. These features arise naturally as a result of the micro-scale interactions; that is, macroscopic properties of the system emerge without being explicity constrained, or under any assumption, to do so. To generate realistic behavior, ABMs typically undergo both a calibration and validation procedure. To calibrate the model, model parameters are configured by heuristic methods, initializing the model with empirical microscopic data, etc. To validate the model, statistical test can be run on the outputs and measured against what is known about the system, or the outputs can be measured against empirical macroscopic data. \n",
    "\n",
    "**How are financial ABMs useful?**\n",
    "- Capturing features of systems that conventional modeling does not permit\n",
    "    - Emergence, complexity, non-equilibrium, heterogeneity\n",
    "    - Model microstructure effects\n",
    "- Tunable simulation environment\n",
    "    - Investigate extreme events\n",
    "    - Generate synthetic datasets"
   ]
  },
  {
   "cell_type": "markdown",
   "id": "4c5e5f33",
   "metadata": {},
   "source": [
    "### Example: Sante Fe Institute Artificial Stock Market\n",
    "Let's walk through an example ABM, the SFI Artificial Stock Market (SFI-ASM) by LeBaron et al.:\n",
    "\n",
    "* [LeBaron, Blake, W. Brian Arthur, and Richard Palmer. \"Time series properties of an artificial stock market.\" Journal of Economic Dynamics and control 23, no. 9 (1999): 1487-1516.](https://www.sciencedirect.com/science/article/abs/pii/S0165188998000815)"
   ]
  },
  {
   "cell_type": "markdown",
   "id": "bbc300f7",
   "metadata": {
    "jp-MarkdownHeadingCollapsed": true,
    "tags": []
   },
   "source": [
    "#### SFI Artificial Stock Market (SFI-ASM)  model\n",
    "The SFI-ASM was developed in the 1990's and was one of the first agent-based financial market platforms. The SFI-ASM has the following ABM structure:\n",
    "1. **Software agents.** A collection of `N` agents make trading decisions based on their prediction of the next time period $t$ stock price $p_t$ & dividend $d_t$. Each agent $i$ uses predictions that are given by an evolving set of trading strategies, \"predictors\", which makes the agents heterogenous. The \"predictors\" are activated depending on the market state and are selected based on how well they have performed in the past. \n",
    "2. **Interaction mechanism.** Agents interact with one another by sending their \"demand\" $X_{i,t} (p_t)$ (desired number of share holdings) to the \"Specialist\" who attempts to match buy and sell orders and set a clearing price to close the trading round.\n",
    "3. **Environment.** The simulation runs in discrete time steps $t$ = {0, 1, 2,.., $T$} and provides the agents with two options: place their cash in a risky asset that pays a dividend $d_t$ or a bank account with a constant riskless return `r`. The history of past prices and dividends is observable to the agents, along with the current dividend, which is published at the beginning of each time step. The dividends are generated by a random process unknown to the agents.\n",
    "\n",
    "The set of \"predictors\" $J$, unique to each agent, works by forming a linear function of the expected price + dividend:\n",
    "\n",
    "$$\\hat{E}_t (p_{t+1}+d_{t+1}) = a_{j}(p_t+d_t)+b_{j}$$\n",
    "\n",
    "where $a$ and $b$ are unique to individual predictor $j$ and are subject to change over time. The accuracy, or prediction variance, of each predictor is updated each time step according to an exponentially weighted average of squared forecast error with horizon length `τ`. \n",
    "\n",
    "In this model, the dividend is determined by an [AR(1) process](https://en.wikipedia.org/wiki/Autoregressive_model) and the total amount of shares issued is equal to the number of agents `N`. Thus, for each trading round, the \"Specialist\" must balance the total demand to the fixed supply of shares and converge to a clearing price according to the following expression:\n",
    "\n",
    "$$\\sum_{i=1}^{N} X_{i,t}(p_t) = \\sum_{i=1}^{N} \\frac{a_{i,j}(p_t+d_t)+b_{i,j}-p_t(1+r)}{\\lambda \\hat{\\sigma}_{i,j,t}^2} = N$$\n",
    "\n",
    "where `𝜆` represents an agent's risk aversion and $\\sigma^2$ denotes the variance given by the selected \"predictor\" $j$. The above expression demonstrates how each agent's \"demand\" $X_{i,t} (p_t)$ reflects an objective to maximize their [expected utility of wealth](https://en.wikipedia.org/wiki/Expected_utility_hypothesis). \n",
    "\n",
    "At every time step, each agent $i$ with probability $P_k$ will update their set of predictors via a genetic algorithm. For each agent, this learning procedure takes place every `k` steps on average and replaces the $a$ and $b$ parameters of the lowest performing predictors. \n",
    "\n",
    "The learning rate `k` and relevant forecast time horizon `τ` are crucial design parameters. They dictate how often agents adapt and how sharp the adjustments are. "
   ]
  },
  {
   "cell_type": "markdown",
   "id": "457a81ed",
   "metadata": {},
   "source": [
    "### Lab setup: SFI-ASM\n",
    "The code block below loads any [Julia](https://julialang.org) packages that we need to complete the calculations. "
   ]
  },
  {
   "cell_type": "code",
   "execution_count": 6,
   "id": "4ce44106",
   "metadata": {},
   "outputs": [],
   "source": [
    "using SFIArtificialStockMarket\n",
    "using DataFrames\n",
    "using CSV\n",
    "using Statistics\n",
    "using Dates\n",
    "using Random\n",
    "using Plots\n",
    "using StatsPlots\n",
    "using Distributions"
   ]
  },
  {
   "cell_type": "markdown",
   "id": "6b48e689",
   "metadata": {},
   "source": [
    "### Model Calibration\n",
    "For this model, the calibration procedure entails estimating values for model parameters and running the simulation until steady state is reached. We will adopt the model parameters estimated by the heuristic method described in the following paper:\n",
    "\n",
    "* [Arthur, W. Brian, John H. Holland, Blake LeBaron, Richard G. Palmer, and Paul Tayler. \"Asset pricing under endogenous expectations in an artificial stock market.\" Available at SSRN 2252 (1996).](https://papers.ssrn.com/sol3/papers.cfm?abstract_id=2252)"
   ]
  },
  {
   "cell_type": "markdown",
   "id": "aed1eb87",
   "metadata": {},
   "source": [
    "#### a) Estimate model parameters for ABM\n",
    "As given by the provided references, the parameters of the SFI-ASM take on the following values:\n",
    "- Number of agents/shares `N` $= 25$. The agents are initialized with a cash balance of $\\$20,000$ and one share each.\n",
    "- The risk-free rate of return `r` $= 10\\%$\n",
    "- The degree of agents' risk-aversion `𝜆` $= 0.5$\n",
    "- The learning rate `k` $= 250$.\n",
    "- The corrective forecast horizon length `τ` $= 75$.\n",
    "- Range of parameters $a$ = [0.7,1.2], $b$ = [-10.0,19.0]\n",
    "\n",
    "Using these values, the model reaches steady-state after ~$T=250,000$ time steps."
   ]
  },
  {
   "cell_type": "markdown",
   "id": "d7d958b8",
   "metadata": {},
   "source": [
    "#### b) Run the simulation\n",
    "Now, let's run the model until we reach steady-state and then continue running it for an additional $10,000$ time steps. Then, we'll plot the results and see how the simulation performed. "
   ]
  },
  {
   "cell_type": "code",
   "execution_count": null,
   "id": "c5ad517e",
   "metadata": {},
   "outputs": [
    {
     "name": "stdout",
     "output_type": "stream",
     "text": [
      "Market State Initiated\n",
      "Agents Initiated\n",
      "10000 time steps passed\n",
      "20000 time steps passed\n",
      "30000 time steps passed\n",
      "40000 time steps passed\n",
      "50000 time steps passed\n",
      "60000 time steps passed\n",
      "70000 time steps passed\n",
      "80000 time steps passed\n",
      "90000 time steps passed\n",
      "100000 time steps passed\n",
      "110000 time steps passed\n",
      "120000 time steps passed\n",
      "130000 time steps passed\n",
      "140000 time steps passed\n",
      "150000 time steps passed\n",
      "160000 time steps passed\n",
      "170000 time steps passed\n",
      "180000 time steps passed\n",
      "190000 time steps passed\n",
      "200000 time steps passed\n",
      "210000 time steps passed\n",
      "220000 time steps passed\n",
      "230000 time steps passed\n",
      "240000 time steps passed\n"
     ]
    }
   ],
   "source": [
    "# run simulation trial\n",
    "\n",
    "Random.seed!(44801)\n",
    "N_agents = 25\n",
    "risk_tol = 0.5\n",
    "warm_up_t = 250000 \n",
    "SS_t = 10000\n",
    "k = 250\n",
    "horizon = 75\n",
    "\n",
    "adf, mdf = SFI_run(N_agents, risk_tol, warm_up_t, SS_t, k, horizon; print_msg=true);"
   ]
  },
  {
   "cell_type": "code",
   "execution_count": null,
   "id": "d469ebdd",
   "metadata": {},
   "outputs": [],
   "source": [
    "# plot price series - 365 t snapshot\n",
    "t_range = 365\n",
    "rand_snapshot = rand(1:(SS_t - t_range))\n",
    "price_plot = plot(mdf[rand_snapshot:(rand_snapshot + t_range), :t], \n",
    "                        mdf[rand_snapshot:(rand_snapshot + t_range), :mdf_price],\n",
    "                        xlabel = \"Time step\", ylabel = \"Price\", label = \"SFI-ASM\",\n",
    "                        title = \"Price Series Snapshot: t = $(t_range)\")"
   ]
  },
  {
   "cell_type": "markdown",
   "id": "72def1e4",
   "metadata": {},
   "source": [
    "### Model Validation\n",
    "To validate the model, we will compare the results given by the ABM against those given by real historical OHLC data. Specifically, we will look to see how closely the ABM can replicate the *stylized facts*, i.e., empirical regularities in the data that are accepted as truth due to how consistent they are across different types of financial instruments and time periods."
   ]
  },
  {
   "cell_type": "markdown",
   "id": "3560f900",
   "metadata": {},
   "source": [
    "#### Load the empirical dataset\n",
    "Load the historical OHLC data set for Advanced Micro Devices, Inc with ticker symbol [AMD](https://finance.yahoo.com/quote/AMD?.tsrc=applewf) into a [DataFrame](https://dataframes.juliadata.org/stable/). The OHLC data is stored in a comma seperated value (CSV) file format; use the [CSV](https://csv.juliadata.org/stable/) package to read the data and load into a [DataFrame](https://dataframes.juliadata.org/stable/)."
   ]
  },
  {
   "cell_type": "code",
   "execution_count": null,
   "id": "b59ff832",
   "metadata": {},
   "outputs": [],
   "source": [
    "df = CSV.read(\"./data/AMD-OHLC-2020-8-25-to-2022-09-27.csv\", DataFrame);"
   ]
  },
  {
   "cell_type": "markdown",
   "id": "eb7af38b",
   "metadata": {},
   "source": [
    "There are many [stylized facts](https://www.wolframcloud.com/objects/summerschool/pages/2017/CarlosManuelRodriguezMartinez_TE), but for time's sake we'll narrow our focus to two: volatility clustering and heavy-tailed return distributions."
   ]
  },
  {
   "cell_type": "markdown",
   "id": "f071acac",
   "metadata": {
    "tags": []
   },
   "source": [
    "#### Stylized Fact 1: Volatility Clustering\n",
    "Volatility clustering describes the tendency of large changes in asset prices to follow large changes, and small changes to follow small changes. Put simply, high-volatility events tend to cluster in time."
   ]
  },
  {
   "cell_type": "code",
   "execution_count": null,
   "id": "62837cd9",
   "metadata": {},
   "outputs": [],
   "source": [
    "# Calculate returns for the empirical dataset\n",
    "emp_returns = [(df[i,\"close\"] - df[i,\"open\"]) for i in 1:nrow(df)]\n",
    "\n",
    "# Calculate returns for the empirical dataset\n",
    "data_size = length(emp_returns)\n",
    "# abm_returns = [mdf[(i + 1), :mdf_price] - mdf[i, :mdf_price] for i in (nrow(mdf) - data_size):(nrow(mdf) - 1)];\n",
    "abm_returns = [mdf[(i + 1), :mdf_price] - mdf[i, :mdf_price] for i in 1:data_size];"
   ]
  },
  {
   "cell_type": "code",
   "execution_count": null,
   "id": "47f46234",
   "metadata": {},
   "outputs": [],
   "source": [
    "# number of days per year -\n",
    "emp_plot = plot(Date.(df[1:end, :timestamp]), emp_returns,\n",
    "    xlabel=\"Date\", ylabel=\"Returns\", label=\"AMD\",\n",
    "    legend_position = :topleft, title=\"Daily returns (~2 years)\")\n",
    "\n",
    "# abm_plot = plot(mdf[(nrow(mdf) - data_size):(nrow(mdf) - 1), :t], abm_returns,\n",
    "abm_plot = plot(mdf[1:data_size, :t], abm_returns,\n",
    "    xlabel=\"Time step\", ylabel=\"Returns\", label=\"SFI-ASM\",\n",
    "    legend_position = :topleft, title=\"Returns over similar time length\")\n",
    "\n",
    "plot(emp_plot, abm_plot, layout = (2, 1))"
   ]
  },
  {
   "cell_type": "markdown",
   "id": "502b90f2",
   "metadata": {},
   "source": [
    "#### Stylized Fact 2: Non-Gaussian returns distribution\n",
    "Stock returns are known to deviate from the normal distribution. Excess kurtosis, or \"fat tails\", makes assets more risky, as extreme events such as huge price hikes or drops occur more often than one would normally expect. The thing to pay attention to here is how high and narrow the peaks get and how much mass is located at the edges of the distribution. "
   ]
  },
  {
   "cell_type": "code",
   "execution_count": null,
   "id": "5dd1a875",
   "metadata": {},
   "outputs": [],
   "source": [
    "emp_histogram = histogram(emp_returns, normed = true,\n",
    "                        xlabel=\"Return range\", ylabel=\"Density\",\n",
    "                        label=\"Returns\", title=\"AMD Returns Distribution\")\n",
    "emp_norm_returns = fit(Normal, emp_returns)\n",
    "plot!(emp_norm_returns, lw = 4, label = \"Normal\")"
   ]
  },
  {
   "cell_type": "code",
   "execution_count": null,
   "id": "68cbdc0e",
   "metadata": {},
   "outputs": [],
   "source": [
    "abm_histogram = histogram(abm_returns, normed = true,\n",
    "                        xlabel=\"Return range\", ylabel=\"Density\",\n",
    "                        label=\"Returns\", title=\"SFI-ASM Returns Distribution\")\n",
    "abm_norm_returns = fit(Normal, abm_returns)\n",
    "plot!(abm_norm_returns, lw = 4, label = \"Normal\")"
   ]
  },
  {
   "cell_type": "markdown",
   "id": "73a89fa8",
   "metadata": {},
   "source": [
    "### Limitations of ABMs\n",
    "- Computational cost\n",
    "- Availability of microscopic data\n",
    "- Calibration\n",
    "- Validation"
   ]
  }
 ],
 "metadata": {
  "kernelspec": {
   "display_name": "Julia 1.8.0",
   "language": "julia",
   "name": "julia-1.8"
  },
  "language_info": {
   "file_extension": ".jl",
   "mimetype": "application/julia",
   "name": "julia",
   "version": "1.8.2"
  }
 },
 "nbformat": 4,
 "nbformat_minor": 5
}
