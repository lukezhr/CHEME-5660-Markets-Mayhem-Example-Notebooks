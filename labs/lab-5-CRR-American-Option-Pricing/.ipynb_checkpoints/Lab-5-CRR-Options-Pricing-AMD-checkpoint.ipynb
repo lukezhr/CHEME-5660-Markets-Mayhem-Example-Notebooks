{
 "cells": [
  {
   "cell_type": "markdown",
   "id": "7356ad2f-6fe6-4644-8183-e80bcc52387d",
   "metadata": {},
   "source": [
    "### CHEME 5660: Calculating the Price of Call and Put Options using a Binomial Lattice Model"
   ]
  },
  {
   "cell_type": "markdown",
   "id": "57d5b46b-92de-4d7d-a84d-47398d104a1e",
   "metadata": {},
   "source": [
    "### Binomial lattice model\n",
    "A binomial lattice model assumes that each discrete time increment, the state of the system, e.g., the share price of equity, the spot rate, etc., can either increase by a factor $u$ with probability $p$ or decrease by a factor $d$ with probability $(1-p)$. Different models can be developed for the specific values of the tuple $(u,d,p)$. One particular model is the Cox, Ross, and Rubinstein (CRR) model:\n",
    "\n",
    "* [Cox, J. C.; Ross, S. A.; Rubinstein, M. (1979). \"Option pricing: A simplified approach\". Journal of Financial Economics. 7 (3): 229. CiteSeerX 10.1.1.379.7582. doi:10.1016/0304-405X(79)90015-1](https://www.sciencedirect.com/science/article/pii/0304405X79900151?via%3Dihub)"
   ]
  },
  {
   "cell_type": "markdown",
   "id": "c0ad5b47-4ef6-4d27-8fc8-8b6075599833",
   "metadata": {},
   "source": [
    "#### Cox, Ross and Rubinstein (CRR) model\n",
    "The [CRR binomial lattice model](https://en.wikipedia.org/wiki/Binomial_options_pricing_model) was initially developed for options pricing in 1979. However, one of the critical aspects of estimating an option’s price is calculating the underlying asset’s share price. Thus, let's use the [CRR model](https://en.wikipedia.org/wiki/Binomial_options_pricing_model) to compute the share price of a stock, Advanced Micro Devices, Inc, with the ticker symbol [AMD](https://finance.yahoo.com/quote/AMD?.tsrc=applewf). In the [CRR model](https://en.wikipedia.org/wiki/Binomial_options_pricing_model) model, the `up` and `down` moves are symmetric:\n",
    "\n",
    "$$ud = 1$$\n",
    "\n",
    "where the magnitude of an `up` move $u$ is given by:\n",
    "\n",
    "$$u = \\exp(\\sigma\\sqrt{\\Delta{T}})$$\n",
    "\n",
    "The quantity $\\sigma$ denotes a _volatility parameter_, and $\\Delta{T}$ represents the time step. The probability $p$ of an `up` move in a [CRR model](https://en.wikipedia.org/wiki/Binomial_options_pricing_model) is given by:\n",
    "\n",
    "$$p = \\frac{\\exp(\\mu\\Delta{T}) - d}{u - d}$$\n",
    "\n",
    "where $\\mu$ denotes a _return parameter_. In the [CRR model](https://en.wikipedia.org/wiki/Binomial_options_pricing_model) model paradigm, the return parameter $\\mu$ and the volatility parameter $\\sigma$ take on common values:\n",
    "* The return parameter $\\mu$ is a _risk-free_ rate of return; the _risk-free_ rate $\\bar{r}$ can be approximated by the [yield on T = 10-year United States Treasury debt security](https://ycharts.com/indicators/10_year_treasury_rate). \n",
    "* The volatility parameter $\\sigma$ is the [implied volatility](https://www.investopedia.com/terms/i/iv.asp); the implied volatility is the market's view of the likelihood of changes in a given security's price."
   ]
  },
  {
   "cell_type": "markdown",
   "id": "55cb8a36-435f-47b1-973b-5a93cb1cf910",
   "metadata": {},
   "source": [
    "### Lab setup\n",
    "The code block below installs (and loads) any [Julia](https://julialang.org) packages that we need to complete the calculations."
   ]
  },
  {
   "cell_type": "code",
   "execution_count": 1,
   "id": "ebda8083-c361-4b12-a932-e44d1f33e179",
   "metadata": {},
   "outputs": [
    {
     "name": "stderr",
     "output_type": "stream",
     "text": [
      "\u001b[32m\u001b[1m  Activating\u001b[22m\u001b[39m project at `~/Desktop/julia_work/CHEME-5660-Markets-Mayhem-Example-Notebooks/labs/lab-5-CRR-American-Option-Pricing`\n",
      "\u001b[32m\u001b[1m  No Changes\u001b[22m\u001b[39m to `~/Desktop/julia_work/CHEME-5660-Markets-Mayhem-Example-Notebooks/labs/lab-5-CRR-American-Option-Pricing/Project.toml`\n",
      "\u001b[32m\u001b[1m  No Changes\u001b[22m\u001b[39m to `~/Desktop/julia_work/CHEME-5660-Markets-Mayhem-Example-Notebooks/labs/lab-5-CRR-American-Option-Pricing/Manifest.toml`\n"
     ]
    }
   ],
   "source": [
    "import Pkg; Pkg.activate(\".\"); Pkg.resolve(); Pkg.instantiate();"
   ]
  },
  {
   "cell_type": "code",
   "execution_count": 2,
   "id": "88ec9b88-e348-4138-9149-2f6ee91abfe5",
   "metadata": {},
   "outputs": [],
   "source": [
    "# packages that we need -\n",
    "using PQEcolaPoint\n",
    "using DataFrames\n",
    "using CSV\n",
    "using Statistics\n",
    "using Dates\n",
    "\n",
    "# paths -\n",
    "const _ROOT = pwd();\n",
    "const _PATH_TO_DATA = joinpath(_ROOT,\"data\");"
   ]
  },
  {
   "cell_type": "code",
   "execution_count": 3,
   "id": "09898a16-5d35-44b5-83a4-9ec3f0273903",
   "metadata": {},
   "outputs": [],
   "source": [
    "df = CSV.read(joinpath(_PATH_TO_DATA,\"AMD-DTE-58-options-exp-2022-12-16-monthly-near-the-money-stacked-10-18-2022.csv\"), DataFrame);"
   ]
  },
  {
   "cell_type": "markdown",
   "id": "68ca369a-960e-4c48-ba44-f864935f1b0f",
   "metadata": {},
   "source": [
    "### Sample CRR model calculation"
   ]
  },
  {
   "cell_type": "code",
   "execution_count": 4,
   "id": "d2084523-9240-4bc9-89cd-53e45b8beb0c",
   "metadata": {},
   "outputs": [],
   "source": [
    "# Setup some constants -\n",
    "B = 365.0    # Days in a year (all values are per year)\n",
    "DTE = 58.0   # Days to expiration\n",
    "μ = 0.04065  # risk free rate: https://www.cnbc.com/quotes/US10Y\n",
    "L = 100;     # number of levels on the tree\n",
    "Sₒ = 57.92;  # AMD close price on 10/18/22"
   ]
  },
  {
   "cell_type": "code",
   "execution_count": 5,
   "id": "9d6a0a19-1fbd-457d-92bf-13d7dca6101d",
   "metadata": {},
   "outputs": [],
   "source": [
    "# Set the volatility -\n",
    "IV = 57.3    # AMD implied volatility for K = 65 USD/share Put\n",
    "σₘ = (IV/100.0);"
   ]
  },
  {
   "cell_type": "code",
   "execution_count": 6,
   "id": "9a13fe1f-1197-4097-b5ad-769460e5bc2e",
   "metadata": {},
   "outputs": [],
   "source": [
    "# build lattice model -\n",
    "sample_lattice_model = build(CRRLatticeModel; number_of_levels=(L+1), Sₒ = Sₒ, σ = σₘ, μ = μ, T = (DTE/B));"
   ]
  },
  {
   "cell_type": "code",
   "execution_count": 7,
   "id": "e67ca550-0f81-4f6d-b2ac-67e3248e957e",
   "metadata": {},
   "outputs": [
    {
     "name": "stdout",
     "output_type": "stream",
     "text": [
      "The premium equals 𝒫 = 9.57 USD/share\n"
     ]
    }
   ],
   "source": [
    "# what is the contract?\n",
    "sample_put_contract = PutContractModel()\n",
    "sample_put_contract.ticker = \"AMD\"\n",
    "sample_put_contract.expiration_date = Date(2022, 12, 16)\n",
    "sample_put_contract.strike_price = 65.0\n",
    "sample_put_contract.premium = 0.0\n",
    "sample_put_contract.number_of_contracts = 1\n",
    "sample_put_contract.direction = 1\n",
    "\n",
    "# what is the premimum?\n",
    "𝒫 = premium(sample_put_contract, sample_lattice_model)\n",
    "\n",
    "# print out the premium -\n",
    "println(\"The premium equals 𝒫 = $(round(𝒫, digits=2)) USD/share\")"
   ]
  },
  {
   "cell_type": "markdown",
   "id": "bd180fa0-e560-4e6c-83c1-25d5fad22b20",
   "metadata": {},
   "source": [
    "### Calculations"
   ]
  },
  {
   "cell_type": "markdown",
   "id": "8e415b7c-94d8-4d8d-bb7b-f1b5b497d61d",
   "metadata": {},
   "source": [
    "#### a) How does option premium vary with the strike price?\n",
    "__Todo__: select the `Put` contracts from the [DataFrame](https://dataframes.juliadata.org/stable/) `df` and simulate all the strikes using a `CRR` model.\n",
    "\n",
    "* Use the [filter](https://dataframes.juliadata.org/stable/lib/functions/#Base.filter) command to select rows from a [DataFrame](https://dataframes.juliadata.org/stable/).\n",
    "* Use the [nrow](https://dataframes.juliadata.org/stable/lib/functions/#DataAPI.nrow) command get the number of rows in a [DataFrame](https://dataframes.juliadata.org/stable/).\n",
    "* Use the index notation, i.e., `df[i,col::Symbol]` to select a particular value. For example, the command `df[3,:IV]` selects the `IV` value from row 3. "
   ]
  },
  {
   "cell_type": "markdown",
   "id": "a76452be-f797-4c46-9113-e09ae33f4778",
   "metadata": {},
   "source": [
    "#### b) How does option premium vary with the length of the contract?\n",
    "__Todo__: Compare the price of `Put` contracts (with the same strikes) for T = 30 days to expiration (DTE) versus T = 58 days to expiration."
   ]
  },
  {
   "cell_type": "code",
   "execution_count": 8,
   "id": "3e066e46-3fcb-4982-b061-a486b2fb4dba",
   "metadata": {},
   "outputs": [],
   "source": [
    "# load the DTE = 30 data set -\n",
    "df_DTE_30 = CSV.read(joinpath(_PATH_TO_DATA,\"AMD-DTE-30-options-exp-2022-11-18-monthly-near-the-money-stacked-10-18-2022.csv\"), DataFrame);"
   ]
  },
  {
   "cell_type": "markdown",
   "id": "aa513d57-35bf-4312-9de2-71e9a4154b9c",
   "metadata": {},
   "source": [
    "#### c) How does option premium vary with the Implied Volatility (IV)?\n",
    "__Todo__: Select a `Put` contract from the [DataFrame](https://dataframes.juliadata.org/stable/) `df` and simulate what happens to the price if we increase, or decrease the IV (all else held constant)."
   ]
  },
  {
   "cell_type": "markdown",
   "id": "95ed4bec-7c37-41bc-adca-fbd323ee24f0",
   "metadata": {},
   "source": [
    "#### d) Live option price calculation\n",
    "Let's select a ticker, contract type, expiration and a strike price and compare the CRR model calculation against live data."
   ]
  },
  {
   "cell_type": "code",
   "execution_count": 9,
   "id": "810900b9-168d-4835-8ff8-58a578e562d6",
   "metadata": {},
   "outputs": [],
   "source": [
    "# Steps -\n",
    "\n",
    "# setup constants -\n",
    "# ...\n",
    "\n",
    "# Build a contract model -\n",
    "# ...\n",
    "\n",
    "# Build a lattice model -\n",
    "# ...\n",
    "\n",
    "# Calculate the premium -\n",
    "# ..."
   ]
  }
 ],
 "metadata": {
  "kernelspec": {
   "display_name": "Julia 1.8.0",
   "language": "julia",
   "name": "julia-1.8"
  },
  "language_info": {
   "file_extension": ".jl",
   "mimetype": "application/julia",
   "name": "julia",
   "version": "1.8.2"
  }
 },
 "nbformat": 4,
 "nbformat_minor": 5
}
