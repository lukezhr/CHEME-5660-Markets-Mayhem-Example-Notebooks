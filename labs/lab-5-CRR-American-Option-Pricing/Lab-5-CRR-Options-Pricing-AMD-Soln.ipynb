{
 "cells": [
  {
   "cell_type": "markdown",
   "id": "7356ad2f-6fe6-4644-8183-e80bcc52387d",
   "metadata": {},
   "source": [
    "### CHEME 5660: Calculating the Price of Call and Put Options using a Binomial Lattice Model"
   ]
  },
  {
   "cell_type": "markdown",
   "id": "57d5b46b-92de-4d7d-a84d-47398d104a1e",
   "metadata": {},
   "source": [
    "### Binomial lattice model\n",
    "A binomial lattice model assumes that each discrete time increment, the state of the system, e.g., the share price of equity, the spot rate, etc., can either increase by a factor $u$ with probability $p$ or decrease by a factor $d$ with probability $(1-p)$. Different models can be developed for the specific values of the tuple $(u,d,p)$. One particular model is the Cox, Ross, and Rubinstein (CRR) model:\n",
    "\n",
    "* [Cox, J. C.; Ross, S. A.; Rubinstein, M. (1979). \"Option pricing: A simplified approach\". Journal of Financial Economics. 7 (3): 229. CiteSeerX 10.1.1.379.7582. doi:10.1016/0304-405X(79)90015-1](https://www.sciencedirect.com/science/article/pii/0304405X79900151?via%3Dihub)"
   ]
  },
  {
   "cell_type": "markdown",
   "id": "c0ad5b47-4ef6-4d27-8fc8-8b6075599833",
   "metadata": {},
   "source": [
    "#### Cox, Ross and Rubinstein (CRR) model\n",
    "The [CRR binomial lattice model](https://en.wikipedia.org/wiki/Binomial_options_pricing_model) was initially developed for options pricing in 1979. However, one of the critical aspects of estimating an option’s price is calculating the underlying asset’s share price. Thus, let's use the [CRR model](https://en.wikipedia.org/wiki/Binomial_options_pricing_model) to compute the share price of a stock, Advanced Micro Devices, Inc, with the ticker symbol [AMD](https://finance.yahoo.com/quote/AMD?.tsrc=applewf). In the [CRR model](https://en.wikipedia.org/wiki/Binomial_options_pricing_model) model, the `up` and `down` moves are symmetric:\n",
    "\n",
    "$$ud = 1$$\n",
    "\n",
    "where the magnitude of an `up` move $u$ is given by:\n",
    "\n",
    "$$u = \\exp(\\sigma\\sqrt{\\Delta{T}})$$\n",
    "\n",
    "The quantity $\\sigma$ denotes a _volatility parameter_, and $\\Delta{T}$ represents the time step. The probability $p$ of an `up` move in a [CRR model](https://en.wikipedia.org/wiki/Binomial_options_pricing_model) is given by:\n",
    "\n",
    "$$p = \\frac{\\exp(\\mu\\Delta{T}) - d}{u - d}$$\n",
    "\n",
    "where $\\mu$ denotes a _return parameter_. In the [CRR model](https://en.wikipedia.org/wiki/Binomial_options_pricing_model) model paradigm, the return parameter $\\mu$ and the volatility parameter $\\sigma$ take on common values:\n",
    "* The return parameter $\\mu$ is a _risk-free_ rate of return; the _risk-free_ rate $\\bar{r}$ can be approximated by the [yield on T = 10-year United States Treasury debt security](https://ycharts.com/indicators/10_year_treasury_rate). \n",
    "* The volatility parameter $\\sigma$ is the [implied volatility](https://www.investopedia.com/terms/i/iv.asp); the implied volatility is the market's view of the likelihood of changes in a given security's price."
   ]
  },
  {
   "cell_type": "markdown",
   "id": "55cb8a36-435f-47b1-973b-5a93cb1cf910",
   "metadata": {},
   "source": [
    "### Lab setup\n",
    "The code block below installs (and loads) any [Julia](https://julialang.org) packages that we need to complete the calculations."
   ]
  },
  {
   "cell_type": "code",
   "execution_count": 1,
   "id": "ebda8083-c361-4b12-a932-e44d1f33e179",
   "metadata": {},
   "outputs": [
    {
     "name": "stderr",
     "output_type": "stream",
     "text": [
      "\u001b[32m\u001b[1m  Activating\u001b[22m\u001b[39m project at `~/Desktop/julia_work/CHEME-5660-Markets-Mayhem-Example-Notebooks/labs/lab-5-CRR-American-Option-Pricing`\n",
      "\u001b[32m\u001b[1m  No Changes\u001b[22m\u001b[39m to `~/Desktop/julia_work/CHEME-5660-Markets-Mayhem-Example-Notebooks/labs/lab-5-CRR-American-Option-Pricing/Project.toml`\n",
      "\u001b[32m\u001b[1m  No Changes\u001b[22m\u001b[39m to `~/Desktop/julia_work/CHEME-5660-Markets-Mayhem-Example-Notebooks/labs/lab-5-CRR-American-Option-Pricing/Manifest.toml`\n"
     ]
    }
   ],
   "source": [
    "import Pkg; Pkg.activate(\".\"); Pkg.resolve(); Pkg.instantiate();"
   ]
  },
  {
   "cell_type": "code",
   "execution_count": 2,
   "id": "88ec9b88-e348-4138-9149-2f6ee91abfe5",
   "metadata": {},
   "outputs": [],
   "source": [
    "# packages that we need -\n",
    "using PQEcolaPoint\n",
    "using DataFrames\n",
    "using CSV\n",
    "using Statistics\n",
    "using Dates\n",
    "\n",
    "# paths -\n",
    "const _ROOT = pwd();\n",
    "const _PATH_TO_DATA = joinpath(_ROOT,\"data\");"
   ]
  },
  {
   "cell_type": "code",
   "execution_count": 3,
   "id": "09898a16-5d35-44b5-83a4-9ec3f0273903",
   "metadata": {},
   "outputs": [],
   "source": [
    "df = CSV.read(joinpath(_PATH_TO_DATA,\"AMD-DTE-58-options-exp-2022-12-16-monthly-near-the-money-stacked-10-18-2022.csv\"), DataFrame);"
   ]
  },
  {
   "cell_type": "markdown",
   "id": "68ca369a-960e-4c48-ba44-f864935f1b0f",
   "metadata": {},
   "source": [
    "### Sample CRR model calculation"
   ]
  },
  {
   "cell_type": "code",
   "execution_count": 4,
   "id": "d2084523-9240-4bc9-89cd-53e45b8beb0c",
   "metadata": {},
   "outputs": [],
   "source": [
    "# Setup some constants -\n",
    "B = 365.0    # Days in a year (all values are per year)\n",
    "DTE = 58.0   # Days to expiration\n",
    "μ = 0.04065  # risk free rate: https://www.cnbc.com/quotes/US10Y\n",
    "L = 100;     # number of levels on the tree\n",
    "Sₒ = 57.92;  # AMD close price on 10/18/22"
   ]
  },
  {
   "cell_type": "code",
   "execution_count": 5,
   "id": "9d6a0a19-1fbd-457d-92bf-13d7dca6101d",
   "metadata": {},
   "outputs": [],
   "source": [
    "# Set the volatility -\n",
    "IV = 57.3    # AMD implied volatility for K = 62 USD/share Put\n",
    "σₘ = (IV/100.0);"
   ]
  },
  {
   "cell_type": "code",
   "execution_count": 6,
   "id": "9a13fe1f-1197-4097-b5ad-769460e5bc2e",
   "metadata": {},
   "outputs": [],
   "source": [
    "# build lattice model -\n",
    "sample_lattice_model = build(CRRLatticeModel; number_of_levels=(L+1), Sₒ = Sₒ, σ = σₘ, μ = μ, T = (DTE/B));"
   ]
  },
  {
   "cell_type": "code",
   "execution_count": 7,
   "id": "e67ca550-0f81-4f6d-b2ac-67e3248e957e",
   "metadata": {},
   "outputs": [
    {
     "name": "stdout",
     "output_type": "stream",
     "text": [
      "The premium equals 𝒫 = 9.57 USD/share\n"
     ]
    }
   ],
   "source": [
    "# what is the contract?\n",
    "sample_put_contract = PutContractModel()\n",
    "sample_put_contract.ticker = \"AMD\"\n",
    "sample_put_contract.expiration_date = Date(2022, 12, 16)\n",
    "sample_put_contract.strike_price = 65.0\n",
    "sample_put_contract.premium = 0.0\n",
    "sample_put_contract.number_of_contracts = 1\n",
    "sample_put_contract.direction = 1\n",
    "\n",
    "# what is the premimum?\n",
    "𝒫 = premium(sample_put_contract, sample_lattice_model)\n",
    "\n",
    "# print out the premium -\n",
    "println(\"The premium equals 𝒫 = $(round(𝒫, digits=2)) USD/share\")"
   ]
  },
  {
   "cell_type": "markdown",
   "id": "bd180fa0-e560-4e6c-83c1-25d5fad22b20",
   "metadata": {},
   "source": [
    "### Calculations"
   ]
  },
  {
   "cell_type": "markdown",
   "id": "8e415b7c-94d8-4d8d-bb7b-f1b5b497d61d",
   "metadata": {},
   "source": [
    "#### a) How does option premium vary with the strike price?\n",
    "__Todo__: select the `Put` contracts from the [DataFrame](https://dataframes.juliadata.org/stable/) `df` and simulate all the strikes using a `CRR` model."
   ]
  },
  {
   "cell_type": "code",
   "execution_count": 8,
   "id": "43163bbf-5832-4bd0-aa34-f29d06dc573a",
   "metadata": {},
   "outputs": [],
   "source": [
    "# select the data for the Puts -\n",
    "df_put = filter(:Type => x->x == \"Put\", df);\n",
    "\n",
    "# Update my DTE -\n",
    "DTE_58 = 58.0;\n",
    "\n",
    "# how many puts do we have?\n",
    "number_of_puts = nrow(df_put);\n",
    "\n",
    "# init some storage -\n",
    "data_array_part_a = Array{Float64,2}(undef, number_of_puts, 7);\n",
    "\n",
    "# main loop - \n",
    "for i ∈ 1:number_of_puts\n",
    "    \n",
    "    # get the strike price, and the IV from the data set -\n",
    "    K = df_put[i,:Strike];\n",
    "    IV = df_put[i,:IV];\n",
    "    \n",
    "    # Build a put contract model -\n",
    "    sample_put_contract = PutContractModel()\n",
    "    sample_put_contract.ticker = \"AMD\"\n",
    "    sample_put_contract.expiration_date = Date(2022, 12, 16)\n",
    "    sample_put_contract.strike_price = K\n",
    "    sample_put_contract.premium = 0.0\n",
    "    sample_put_contract.number_of_contracts = 1\n",
    "    sample_put_contract.direction = 1\n",
    "\n",
    "    # build a lattice w/the current IV -\n",
    "    sample_lattice_model = build(CRRLatticeModel; number_of_levels=(L+1), Sₒ = Sₒ, σ = IV, μ = μ, T = (DTE_58/B));\n",
    "    \n",
    "    # compute the premium -\n",
    "    premium_value = premium(sample_put_contract, sample_lattice_model)\n",
    "    \n",
    "    # capture -\n",
    "    data_array_part_a[i,1] = Sₒ\n",
    "    data_array_part_a[i,2] = K\n",
    "    data_array_part_a[i,3] = max(K - Sₒ, 0)\n",
    "    data_array_part_a[i,4] = premium_value\n",
    "    data_array_part_a[i,5] = df_put[i,:Bid];\n",
    "    data_array_part_a[i,6] = df_put[i,:Ask];\n",
    "    data_array_part_a[i,7] = IV;\n",
    "end"
   ]
  },
  {
   "cell_type": "code",
   "execution_count": 9,
   "id": "08fc778c-e4fd-4387-a39b-fa0f6d8fc7aa",
   "metadata": {},
   "outputs": [
    {
     "data": {
      "text/plain": [
       "17×7 Matrix{Float64}:\n",
       " 57.92   25.0   0.0    0.103771   0.09   0.11  1.028\n",
       " 57.92   30.0   0.0    0.188524   0.2    0.21  0.911\n",
       " 57.92   35.0   0.0    0.377358   0.38   0.4   0.827\n",
       " 57.92   40.0   0.0    0.75343    0.76   0.78  0.769\n",
       " 57.92   45.0   0.0    1.41853    1.41   1.44  0.715\n",
       " 57.92   50.0   0.0    2.47407    2.5    2.53  0.667\n",
       " 57.92   55.0   0.0    4.13586    4.15   4.2   0.632\n",
       " 57.92   60.0   2.08   6.46927    6.5    6.55  0.597\n",
       " 57.92   65.0   7.08   9.56816    9.5    9.75  0.573\n",
       " 57.92   70.0  12.08  13.3651    13.2   13.65  0.561\n",
       " 57.92   75.0  17.08  17.6209    17.5   17.85  0.547\n",
       " 57.92   80.0  22.08  22.3135    22.2   22.5   0.558\n",
       " 57.92   85.0  27.08  27.2928    26.8   27.45  0.629\n",
       " 57.92   90.0  32.08  32.1635    31.75  32.4   0.642\n",
       " 57.92   95.0  37.08  37.3504    36.75  37.4   0.79\n",
       " 57.92  100.0  42.08  42.4233    41.75  43.2   0.878\n",
       " 57.92  105.0  47.08  47.5428    46.75  48.45  0.975"
      ]
     },
     "execution_count": 9,
     "metadata": {},
     "output_type": "execute_result"
    }
   ],
   "source": [
    "data_array_part_a"
   ]
  },
  {
   "cell_type": "markdown",
   "id": "a76452be-f797-4c46-9113-e09ae33f4778",
   "metadata": {},
   "source": [
    "#### b) How does option premium vary with the length of the contract?\n",
    "__Todo__: Compare the price of `Put` contracts (with the same strikes) for T = 30 days to expiration (DTE) versus T = 58 days to expiration."
   ]
  },
  {
   "cell_type": "code",
   "execution_count": 10,
   "id": "12eca218-9f6a-4c4b-9a04-f4888823eae7",
   "metadata": {},
   "outputs": [],
   "source": [
    "# load the DTE = 30 data set -\n",
    "df_DTE_30 = CSV.read(joinpath(_PATH_TO_DATA,\"AMD-DTE-30-options-exp-2022-11-18-monthly-near-the-money-stacked-10-18-2022.csv\"), DataFrame);"
   ]
  },
  {
   "cell_type": "code",
   "execution_count": 11,
   "id": "e66826c0-13ff-462a-8de7-8736d2759b32",
   "metadata": {},
   "outputs": [],
   "source": [
    "# Filter the DTE = 30 data set to look at Puts -\n",
    "df_put_DTE_30 = filter(:Type => x->x == \"Put\", df_DTE_30);\n",
    "\n",
    "# Update my DTE value -\n",
    "DTE_30 = 30.0\n",
    "\n",
    "# how many puts do we have?\n",
    "number_of_puts = nrow(df_put);\n",
    "\n",
    "# init some storage -\n",
    "data_array_part_b = Array{Float64,2}(undef, number_of_puts, 7);\n",
    "\n",
    "# main loop - \n",
    "for i ∈ 1:number_of_puts\n",
    "    \n",
    "    # get the strike price, and the IV from the data set -\n",
    "    K = df_put_DTE_30[i,:Strike];\n",
    "    IV = df_put_DTE_30[i,:IV];\n",
    "    \n",
    "    # Build a put contract model -\n",
    "    sample_put_contract = PutContractModel()\n",
    "    sample_put_contract.ticker = \"AMD\"\n",
    "    sample_put_contract.expiration_date = Date(2022, 12, 16)\n",
    "    sample_put_contract.strike_price = K\n",
    "    sample_put_contract.premium = 0.0\n",
    "    sample_put_contract.number_of_contracts = 1\n",
    "    sample_put_contract.direction = 1\n",
    "\n",
    "    # build a lattice w/the current IV -\n",
    "    sample_lattice_model = build(CRRLatticeModel; number_of_levels=(L+1), Sₒ = Sₒ, σ = IV, μ = μ, T = (DTE_30/B));\n",
    "    \n",
    "    # compute the premium -\n",
    "    premium_value = premium(sample_put_contract, sample_lattice_model)\n",
    "    \n",
    "    # capture -\n",
    "    data_array_part_b[i,1] = Sₒ\n",
    "    data_array_part_b[i,2] = K\n",
    "    data_array_part_b[i,3] = max(K - Sₒ, 0)\n",
    "    data_array_part_b[i,4] = premium_value\n",
    "    data_array_part_b[i,5] = df_put_DTE_30[i,:Bid];\n",
    "    data_array_part_b[i,6] = df_put_DTE_30[i,:Ask];\n",
    "    data_array_part_b[i,7] = IV;\n",
    "end"
   ]
  },
  {
   "cell_type": "code",
   "execution_count": 12,
   "id": "f2ced8e4-9932-4db2-a3f1-c03383068940",
   "metadata": {},
   "outputs": [
    {
     "data": {
      "text/plain": [
       "17×7 Matrix{Float64}:\n",
       " 57.92   25.0   0.0    0.0366691   0.03   0.04  1.241\n",
       " 57.92   30.0   0.0    0.0759612   0.07   0.08  1.089\n",
       " 57.92   35.0   0.0    0.143105    0.15   0.16  0.95\n",
       " 57.92   40.0   0.0    0.310567    0.31   0.32  0.85\n",
       " 57.92   45.0   0.0    0.690518    0.7    0.71  0.775\n",
       " 57.92   50.0   0.0    1.50292     1.51   1.52  0.721\n",
       " 57.92   55.0   0.0    2.96887     2.99   3.0   0.676\n",
       " 57.92   60.0   2.08   5.27672     5.3    5.35  0.637\n",
       " 57.92   65.0   7.08   8.56427     8.55   8.65  0.608\n",
       " 57.92   70.0  12.08  12.6719     12.55  12.85  0.598\n",
       " 57.92   75.0  17.08  17.2285     17.05  17.5   0.579\n",
       " 57.92   80.0  22.08  22.1264     22.05  22.3   0.615\n",
       " 57.92   85.0  27.08  27.1788     26.75  27.3   0.756\n",
       " 57.92   90.0  32.08  32.3216     31.8   32.35  0.936\n",
       " 57.92   95.0  37.08  37.092      36.75  37.45  0.819\n",
       " 57.92  100.0  42.08  42.3604     41.85  42.7   1.128\n",
       " 57.92  105.0  47.08  47.4172     46.7   48.2   1.237"
      ]
     },
     "execution_count": 12,
     "metadata": {},
     "output_type": "execute_result"
    }
   ],
   "source": [
    "data_array_part_b"
   ]
  },
  {
   "cell_type": "markdown",
   "id": "aa513d57-35bf-4312-9de2-71e9a4154b9c",
   "metadata": {},
   "source": [
    "#### c) How does option premium vary with the Implied Volatility (IV)?\n",
    "__Todo__: Select a `Put` contract from the [DataFrame](https://dataframes.juliadata.org/stable/) `df` and simulate what happens to the price if we increase, or decrease the IV (all else held constant)."
   ]
  },
  {
   "cell_type": "code",
   "execution_count": 13,
   "id": "caeee164-e6dd-4e4c-b4a8-178cececaac0",
   "metadata": {},
   "outputs": [
    {
     "name": "stdout",
     "output_type": "stream",
     "text": [
      "P_base = 9.568160016096481, P_up = 10.547625084807027 and P_down = 8.61523114767052\n"
     ]
    }
   ],
   "source": [
    "# lets pick K = 65 Put DTE = 58 and see what happens to the price if we ± the Implied Volatility\n",
    "ϵ = 0.20; # size of perturbation\n",
    "IVₒ = df_put[9,:IV]\n",
    "\n",
    "# Build a contract model -\n",
    "sens_calc_put_contract = PutContractModel()\n",
    "sens_calc_put_contract.ticker = \"AMD\"\n",
    "sens_calc_put_contract.expiration_date = Date(2022, 12, 16)\n",
    "sens_calc_put_contract.strike_price = 65.0\n",
    "sens_calc_put_contract.premium = 0.0\n",
    "sens_calc_put_contract.number_of_contracts = 1\n",
    "sens_calc_put_contract.direction = 1\n",
    "\n",
    "# Up lattice -\n",
    "IV_up = IVₒ*(1+ϵ);\n",
    "up_lattice_model = build(CRRLatticeModel; number_of_levels=(L+1), Sₒ = Sₒ, σ = IV_up, μ = μ, T = (DTE_58/B));\n",
    "\n",
    "# Down lattice -\n",
    "IV_down = IVₒ*(1-ϵ);\n",
    "down_lattice_model = build(CRRLatticeModel; number_of_levels=(L+1), Sₒ = Sₒ, σ = IV_down, μ = μ, T = (DTE_58/B));\n",
    "\n",
    "# compute the two prices -\n",
    "P_base = data_array_part_a[9,4];\n",
    "P_up = premium(sens_calc_put_contract, up_lattice_model)\n",
    "P_down = premium(sens_calc_put_contract, down_lattice_model);\n",
    "\n",
    "# print -\n",
    "println(\"P_base = $(P_base), P_up = $(P_up) and P_down = $(P_down)\")"
   ]
  },
  {
   "cell_type": "markdown",
   "id": "3d318c4b-ba87-447b-a8fa-321a4425d4fa",
   "metadata": {},
   "source": [
    "#### d) Live option price calculation\n",
    "Let's select a ticker, contract type, expiration and a strike price and compare the CRR model calculation against live data."
   ]
  },
  {
   "cell_type": "code",
   "execution_count": 30,
   "id": "da0ab49e-0fa3-4e88-926f-d0403613c8a8",
   "metadata": {},
   "outputs": [
    {
     "name": "stdout",
     "output_type": "stream",
     "text": [
      "The premium equals 𝒫 = 9.61 USD/share\n"
     ]
    }
   ],
   "source": [
    "# Steps -\n",
    "\n",
    "# setup constants -\n",
    "DTE_demo = 57.0\n",
    "IV_demo = (58.33/100);\n",
    "Sₒ_demo = 57.92\n",
    "μ̂ = 0.0423 # update to risk free rate \n",
    "\n",
    "# Build a contract model -\n",
    "demo_put_contract = PutContractModel()\n",
    "demo_put_contract.ticker = \"AMD\"\n",
    "demo_put_contract.expiration_date = Date(2022, 12, 16)\n",
    "demo_put_contract.strike_price = 65.0\n",
    "demo_put_contract.premium = 0.0\n",
    "demo_put_contract.number_of_contracts = 1\n",
    "demo_put_contract.direction = 1\n",
    "\n",
    "# Build a lattice model -\n",
    "demo_lattice_model = build(CRRLatticeModel; number_of_levels=(L+1), Sₒ = Sₒ, σ = IV_demo, μ = μ̂, T = (DTE_demo/B));\n",
    "    \n",
    "# Calculate the premium -\n",
    "premium_value = premium(demo_put_contract, demo_lattice_model)\n",
    "\n",
    "# print -\n",
    "println(\"The premium equals 𝒫 = $(round(premium_value, digits=2)) USD/share\")"
   ]
  },
  {
   "cell_type": "code",
   "execution_count": null,
   "id": "e2b9367b-e2e5-4a66-8a01-50b5aed06b36",
   "metadata": {},
   "outputs": [],
   "source": []
  }
 ],
 "metadata": {
  "kernelspec": {
   "display_name": "Julia 1.8.0",
   "language": "julia",
   "name": "julia-1.8"
  },
  "language_info": {
   "file_extension": ".jl",
   "mimetype": "application/julia",
   "name": "julia",
   "version": "1.8.2"
  }
 },
 "nbformat": 4,
 "nbformat_minor": 5
}
