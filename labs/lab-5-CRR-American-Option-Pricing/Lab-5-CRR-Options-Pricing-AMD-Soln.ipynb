{
 "cells": [
  {
   "cell_type": "markdown",
   "id": "7356ad2f-6fe6-4644-8183-e80bcc52387d",
   "metadata": {},
   "source": [
    "### CHEME 5660: Calculating the Price of Call and Put Options using a Binomial Lattice Model"
   ]
  },
  {
   "cell_type": "markdown",
   "id": "87ab24df-ef4e-46ca-a5e2-140bad77e6f9",
   "metadata": {},
   "source": [
    "<img src=\"./figs/Fig-Binomial-Lattice-Schematic.pdf\" style=\"margin:auto; width:30%\"/>"
   ]
  },
  {
   "cell_type": "markdown",
   "id": "57d5b46b-92de-4d7d-a84d-47398d104a1e",
   "metadata": {},
   "source": [
    "### Binomial lattice model\n",
    "A binomial lattice model assumes that each discrete time increment, the state of the system, e.g., the share price of equity, the spot rate, etc., can either increase by a factor $u$ with probability $p$ or decrease by a factor $d$ with probability $(1-p)$. Different models can be developed for the specific values of the tuple $(u,d,p)$. One particular model is the Cox, Ross, and Rubinstein (CRR) model:\n",
    "\n",
    "* [Cox, J. C.; Ross, S. A.; Rubinstein, M. (1979). \"Option pricing: A simplified approach\". Journal of Financial Economics. 7 (3): 229. CiteSeerX 10.1.1.379.7582. doi:10.1016/0304-405X(79)90015-1](https://www.sciencedirect.com/science/article/pii/0304405X79900151?via%3Dihub)"
   ]
  },
  {
   "cell_type": "markdown",
   "id": "c0ad5b47-4ef6-4d27-8fc8-8b6075599833",
   "metadata": {},
   "source": [
    "#### Cox, Ross and Rubinstein (CRR) model\n",
    "The [CRR binomial lattice model](https://en.wikipedia.org/wiki/Binomial_options_pricing_model) was initially developed for options pricing in 1979. However, one of the critical aspects of estimating an option’s price is calculating the underlying asset’s share price. Thus, let's use the [CRR model](https://en.wikipedia.org/wiki/Binomial_options_pricing_model) to compute the share price of a stock, Advanced Micro Devices, Inc, with the ticker symbol [AMD](https://finance.yahoo.com/quote/AMD?.tsrc=applewf). In the [CRR model](https://en.wikipedia.org/wiki/Binomial_options_pricing_model) model, the `up` and `down` moves are symmetric:\n",
    "\n",
    "$$ud = 1$$\n",
    "\n",
    "where the magnitude of an `up` move $u$ is given by:\n",
    "\n",
    "$$u = \\exp(\\sigma\\sqrt{\\Delta{T}})$$\n",
    "\n",
    "The quantity $\\sigma$ denotes a _volatility parameter_, and $\\Delta{T}$ represents the time step. The probability $p$ of an `up` move in a [CRR model](https://en.wikipedia.org/wiki/Binomial_options_pricing_model) is given by:\n",
    "\n",
    "$$p = \\frac{\\exp(\\mu\\Delta{T}) - d}{u - d}$$\n",
    "\n",
    "where $\\mu$ denotes a _return parameter_. In the [CRR model](https://en.wikipedia.org/wiki/Binomial_options_pricing_model) model paradigm, the return parameter $\\mu$ and the volatility parameter $\\sigma$ take on common values:\n",
    "* The return parameter $\\mu$ is a _risk-free_ rate of return; the _risk-free_ rate $\\bar{r}$ can be approximated by the [yield on T = 10-year United States Treasury debt security](https://ycharts.com/indicators/10_year_treasury_rate). \n",
    "* The volatility parameter $\\sigma$ is the [implied volatility](https://www.investopedia.com/terms/i/iv.asp); the implied volatility is the market's view of the likelihood of changes in a given security's price."
   ]
  },
  {
   "cell_type": "markdown",
   "id": "55cb8a36-435f-47b1-973b-5a93cb1cf910",
   "metadata": {},
   "source": [
    "### Lab setup\n",
    "The code block below installs (and loads) any [Julia](https://julialang.org) packages that we need to complete the calculations."
   ]
  },
  {
   "cell_type": "code",
   "execution_count": 1,
   "id": "ebda8083-c361-4b12-a932-e44d1f33e179",
   "metadata": {},
   "outputs": [
    {
     "name": "stderr",
     "output_type": "stream",
     "text": [
      "\u001b[32m\u001b[1m  Activating\u001b[22m\u001b[39m project at `~/Desktop/julia_work/CHEME-5660-Markets-Mayhem-Example-Notebooks/labs/lab-5-CRR-American-Option-Pricing`\n",
      "\u001b[32m\u001b[1m  No Changes\u001b[22m\u001b[39m to `~/Desktop/julia_work/CHEME-5660-Markets-Mayhem-Example-Notebooks/labs/lab-5-CRR-American-Option-Pricing/Project.toml`\n",
      "\u001b[32m\u001b[1m  No Changes\u001b[22m\u001b[39m to `~/Desktop/julia_work/CHEME-5660-Markets-Mayhem-Example-Notebooks/labs/lab-5-CRR-American-Option-Pricing/Manifest.toml`\n"
     ]
    }
   ],
   "source": [
    "import Pkg; Pkg.activate(\".\"); Pkg.resolve(); Pkg.instantiate();"
   ]
  },
  {
   "cell_type": "code",
   "execution_count": 2,
   "id": "88ec9b88-e348-4138-9149-2f6ee91abfe5",
   "metadata": {},
   "outputs": [],
   "source": [
    "# packages that we need -\n",
    "using PQEcolaPoint\n",
    "using DataFrames\n",
    "using CSV\n",
    "using Statistics\n",
    "using Dates\n",
    "using Plots\n",
    "using Colors\n",
    "\n",
    "# paths -\n",
    "const _ROOT = pwd();\n",
    "const _PATH_TO_DATA = joinpath(_ROOT,\"data\");\n",
    "const _PATH_TO_FIGS = joinpath(_ROOT,\"figs\");"
   ]
  },
  {
   "cell_type": "code",
   "execution_count": 3,
   "id": "09898a16-5d35-44b5-83a4-9ec3f0273903",
   "metadata": {},
   "outputs": [],
   "source": [
    "df = CSV.read(joinpath(_PATH_TO_DATA,\"AMD-DTE-58-options-exp-2022-12-16-monthly-near-the-money-stacked-10-18-2022.csv\"), DataFrame);"
   ]
  },
  {
   "cell_type": "markdown",
   "id": "68ca369a-960e-4c48-ba44-f864935f1b0f",
   "metadata": {},
   "source": [
    "### Sample CRR model calculation"
   ]
  },
  {
   "cell_type": "code",
   "execution_count": 4,
   "id": "d2084523-9240-4bc9-89cd-53e45b8beb0c",
   "metadata": {},
   "outputs": [],
   "source": [
    "# Setup some constants -\n",
    "B = 365.0    # Days in a year (all values are per year)\n",
    "DTE = 58.0   # Days to expiration\n",
    "μ = 0.04065  # risk free rate: https://www.cnbc.com/quotes/US10Y\n",
    "L = 100;     # number of levels on the tree\n",
    "Sₒ = 57.92;  # AMD close price on 10/18/22"
   ]
  },
  {
   "cell_type": "code",
   "execution_count": 5,
   "id": "9d6a0a19-1fbd-457d-92bf-13d7dca6101d",
   "metadata": {},
   "outputs": [],
   "source": [
    "# Set the volatility -\n",
    "IV = 57.3    # AMD implied volatility for K = 62 USD/share Put\n",
    "σₘ = (IV/100.0);"
   ]
  },
  {
   "cell_type": "code",
   "execution_count": 6,
   "id": "9a13fe1f-1197-4097-b5ad-769460e5bc2e",
   "metadata": {},
   "outputs": [],
   "source": [
    "# build lattice model -\n",
    "sample_lattice_model = build(CRRLatticeModel; number_of_levels=(L+1), Sₒ = Sₒ, σ = σₘ, μ = μ, T = (DTE/B));"
   ]
  },
  {
   "cell_type": "code",
   "execution_count": 7,
   "id": "e67ca550-0f81-4f6d-b2ac-67e3248e957e",
   "metadata": {},
   "outputs": [
    {
     "name": "stdout",
     "output_type": "stream",
     "text": [
      "The premium equals 𝒫 = 9.57 USD/share\n"
     ]
    }
   ],
   "source": [
    "# what is the contract?\n",
    "sample_put_contract = PutContractModel()\n",
    "sample_put_contract.ticker = \"AMD\"\n",
    "sample_put_contract.expiration_date = Date(2022, 12, 16)\n",
    "sample_put_contract.strike_price = 65.0\n",
    "sample_put_contract.premium = 0.0\n",
    "sample_put_contract.number_of_contracts = 1\n",
    "sample_put_contract.direction = 1\n",
    "\n",
    "# what is the premimum?\n",
    "𝒫 = premium(sample_put_contract, sample_lattice_model)\n",
    "\n",
    "# print out the premium -\n",
    "println(\"The premium equals 𝒫 = $(round(𝒫, digits=2)) USD/share\")"
   ]
  },
  {
   "cell_type": "markdown",
   "id": "bd180fa0-e560-4e6c-83c1-25d5fad22b20",
   "metadata": {},
   "source": [
    "### Calculations"
   ]
  },
  {
   "cell_type": "markdown",
   "id": "8e415b7c-94d8-4d8d-bb7b-f1b5b497d61d",
   "metadata": {},
   "source": [
    "#### a) How does option premium vary with the strike price?\n",
    "__Todo__: select the `Put` contracts from the [DataFrame](https://dataframes.juliadata.org/stable/) `df` and simulate all the strikes using a `CRR` model."
   ]
  },
  {
   "cell_type": "code",
   "execution_count": 8,
   "id": "43163bbf-5832-4bd0-aa34-f29d06dc573a",
   "metadata": {},
   "outputs": [],
   "source": [
    "# select the data for the Puts -\n",
    "df_put = filter(:Type => x->x == \"Put\", df);\n",
    "\n",
    "# Update my DTE -\n",
    "DTE_58 = 58.0;\n",
    "\n",
    "# how many puts do we have?\n",
    "number_of_puts = nrow(df_put);\n",
    "\n",
    "# init some storage -\n",
    "data_array_part_a = Array{Float64,2}(undef, number_of_puts, 7);\n",
    "\n",
    "# main loop - \n",
    "for i ∈ 1:number_of_puts\n",
    "    \n",
    "    # get the strike price, and the IV from the data set -\n",
    "    K = df_put[i,:Strike];\n",
    "    IV = df_put[i,:IV];\n",
    "    \n",
    "    # Build a put contract model -\n",
    "    sample_put_contract = PutContractModel()\n",
    "    sample_put_contract.ticker = \"AMD\"\n",
    "    sample_put_contract.expiration_date = Date(2022, 12, 16)\n",
    "    sample_put_contract.strike_price = K\n",
    "    sample_put_contract.premium = 0.0\n",
    "    sample_put_contract.number_of_contracts = 1\n",
    "    sample_put_contract.direction = 1\n",
    "\n",
    "    # build a lattice w/the current IV -\n",
    "    sample_lattice_model = build(CRRLatticeModel; number_of_levels=(L+1), Sₒ = Sₒ, σ = IV, μ = μ, T = (DTE_58/B));\n",
    "    \n",
    "    # compute the premium -\n",
    "    premium_value = premium(sample_put_contract, sample_lattice_model)\n",
    "    \n",
    "    # capture -\n",
    "    data_array_part_a[i,1] = Sₒ\n",
    "    data_array_part_a[i,2] = K\n",
    "    data_array_part_a[i,3] = max(K - Sₒ, 0)\n",
    "    data_array_part_a[i,4] = premium_value\n",
    "    data_array_part_a[i,5] = df_put[i,:Bid];\n",
    "    data_array_part_a[i,6] = df_put[i,:Ask];\n",
    "    data_array_part_a[i,7] = IV;\n",
    "end"
   ]
  },
  {
   "cell_type": "code",
   "execution_count": 9,
   "id": "08fc778c-e4fd-4387-a39b-fa0f6d8fc7aa",
   "metadata": {},
   "outputs": [
    {
     "data": {
      "text/plain": [
       "17×7 Matrix{Float64}:\n",
       " 57.92   25.0   0.0    0.103771   0.09   0.11  1.028\n",
       " 57.92   30.0   0.0    0.188524   0.2    0.21  0.911\n",
       " 57.92   35.0   0.0    0.377358   0.38   0.4   0.827\n",
       " 57.92   40.0   0.0    0.75343    0.76   0.78  0.769\n",
       " 57.92   45.0   0.0    1.41853    1.41   1.44  0.715\n",
       " 57.92   50.0   0.0    2.47407    2.5    2.53  0.667\n",
       " 57.92   55.0   0.0    4.13586    4.15   4.2   0.632\n",
       " 57.92   60.0   2.08   6.46927    6.5    6.55  0.597\n",
       " 57.92   65.0   7.08   9.56816    9.5    9.75  0.573\n",
       " 57.92   70.0  12.08  13.3651    13.2   13.65  0.561\n",
       " 57.92   75.0  17.08  17.6209    17.5   17.85  0.547\n",
       " 57.92   80.0  22.08  22.3135    22.2   22.5   0.558\n",
       " 57.92   85.0  27.08  27.2928    26.8   27.45  0.629\n",
       " 57.92   90.0  32.08  32.1635    31.75  32.4   0.642\n",
       " 57.92   95.0  37.08  37.3504    36.75  37.4   0.79\n",
       " 57.92  100.0  42.08  42.4233    41.75  43.2   0.878\n",
       " 57.92  105.0  47.08  47.5428    46.75  48.45  0.975"
      ]
     },
     "execution_count": 9,
     "metadata": {},
     "output_type": "execute_result"
    }
   ],
   "source": [
    "data_array_part_a"
   ]
  },
  {
   "cell_type": "markdown",
   "id": "a76452be-f797-4c46-9113-e09ae33f4778",
   "metadata": {},
   "source": [
    "#### b) How does option premium vary with the length of the contract?\n",
    "__Todo__: Compare the price of `Put` contracts (with the same strikes) for T = 30 days to expiration (DTE) versus T = 58 days to expiration."
   ]
  },
  {
   "cell_type": "code",
   "execution_count": 10,
   "id": "12eca218-9f6a-4c4b-9a04-f4888823eae7",
   "metadata": {},
   "outputs": [],
   "source": [
    "# load the DTE = 30 data set -\n",
    "df_DTE_30 = CSV.read(joinpath(_PATH_TO_DATA,\"AMD-DTE-30-options-exp-2022-11-18-monthly-near-the-money-stacked-10-18-2022.csv\"), DataFrame);"
   ]
  },
  {
   "cell_type": "code",
   "execution_count": 11,
   "id": "e66826c0-13ff-462a-8de7-8736d2759b32",
   "metadata": {},
   "outputs": [],
   "source": [
    "# Filter the DTE = 30 data set to look at Puts -\n",
    "df_put_DTE_30 = filter(:Type => x->x == \"Put\", df_DTE_30);\n",
    "\n",
    "# Update my DTE value -\n",
    "DTE_30 = 30.0\n",
    "\n",
    "# how many puts do we have?\n",
    "number_of_puts = nrow(df_put);\n",
    "\n",
    "# init some storage -\n",
    "data_array_part_b = Array{Float64,2}(undef, number_of_puts, 7);\n",
    "\n",
    "# main loop - \n",
    "for i ∈ 1:number_of_puts\n",
    "    \n",
    "    # get the strike price, and the IV from the data set -\n",
    "    K = df_put_DTE_30[i,:Strike];\n",
    "    IV = df_put_DTE_30[i,:IV];\n",
    "    \n",
    "    # Build a put contract model -\n",
    "    sample_put_contract = PutContractModel()\n",
    "    sample_put_contract.ticker = \"AMD\"\n",
    "    sample_put_contract.expiration_date = Date(2022, 12, 16)\n",
    "    sample_put_contract.strike_price = K\n",
    "    sample_put_contract.premium = 0.0\n",
    "    sample_put_contract.number_of_contracts = 1\n",
    "    sample_put_contract.direction = 1\n",
    "\n",
    "    # build a lattice w/the current IV -\n",
    "    sample_lattice_model = build(CRRLatticeModel; number_of_levels=(L+1), Sₒ = Sₒ, σ = IV, μ = μ, T = (DTE_30/B));\n",
    "    \n",
    "    # compute the premium -\n",
    "    premium_value = premium(sample_put_contract, sample_lattice_model)\n",
    "    \n",
    "    # capture -\n",
    "    data_array_part_b[i,1] = Sₒ\n",
    "    data_array_part_b[i,2] = K\n",
    "    data_array_part_b[i,3] = max(K - Sₒ, 0)\n",
    "    data_array_part_b[i,4] = premium_value\n",
    "    data_array_part_b[i,5] = df_put_DTE_30[i,:Bid];\n",
    "    data_array_part_b[i,6] = df_put_DTE_30[i,:Ask];\n",
    "    data_array_part_b[i,7] = IV;\n",
    "end"
   ]
  },
  {
   "cell_type": "code",
   "execution_count": 12,
   "id": "f2ced8e4-9932-4db2-a3f1-c03383068940",
   "metadata": {},
   "outputs": [
    {
     "data": {
      "text/plain": [
       "17×7 Matrix{Float64}:\n",
       " 57.92   25.0   0.0    0.0366691   0.03   0.04  1.241\n",
       " 57.92   30.0   0.0    0.0759612   0.07   0.08  1.089\n",
       " 57.92   35.0   0.0    0.143105    0.15   0.16  0.95\n",
       " 57.92   40.0   0.0    0.310567    0.31   0.32  0.85\n",
       " 57.92   45.0   0.0    0.690518    0.7    0.71  0.775\n",
       " 57.92   50.0   0.0    1.50292     1.51   1.52  0.721\n",
       " 57.92   55.0   0.0    2.96887     2.99   3.0   0.676\n",
       " 57.92   60.0   2.08   5.27672     5.3    5.35  0.637\n",
       " 57.92   65.0   7.08   8.56427     8.55   8.65  0.608\n",
       " 57.92   70.0  12.08  12.6719     12.55  12.85  0.598\n",
       " 57.92   75.0  17.08  17.2285     17.05  17.5   0.579\n",
       " 57.92   80.0  22.08  22.1264     22.05  22.3   0.615\n",
       " 57.92   85.0  27.08  27.1788     26.75  27.3   0.756\n",
       " 57.92   90.0  32.08  32.3216     31.8   32.35  0.936\n",
       " 57.92   95.0  37.08  37.092      36.75  37.45  0.819\n",
       " 57.92  100.0  42.08  42.3604     41.85  42.7   1.128\n",
       " 57.92  105.0  47.08  47.4172     46.7   48.2   1.237"
      ]
     },
     "execution_count": 12,
     "metadata": {},
     "output_type": "execute_result"
    }
   ],
   "source": [
    "data_array_part_b"
   ]
  },
  {
   "cell_type": "code",
   "execution_count": 13,
   "id": "24ce8f44-4104-40b0-b24d-84e0ecf1281a",
   "metadata": {},
   "outputs": [],
   "source": [
    "# One additional hypothetical case -\n",
    "# Filter the DTE = 30 data set to look at Puts -\n",
    "df_put_DTE_30 = filter(:Type => x->x == \"Put\", df_DTE_30);\n",
    "\n",
    "# Update my DTE value -\n",
    "DTE_30 = 10.0\n",
    "\n",
    "# how many puts do we have?\n",
    "number_of_puts = nrow(df_put);\n",
    "\n",
    "# init some storage -\n",
    "data_array_part_c = Array{Float64,2}(undef, number_of_puts, 7);\n",
    "\n",
    "# main loop - \n",
    "for i ∈ 1:number_of_puts\n",
    "    \n",
    "    # get the strike price, and the IV from the data set -\n",
    "    K = df_put_DTE_30[i,:Strike];\n",
    "    IV = df_put_DTE_30[i,:IV];\n",
    "    \n",
    "    # Build a put contract model -\n",
    "    sample_put_contract = PutContractModel()\n",
    "    sample_put_contract.ticker = \"AMD\"\n",
    "    sample_put_contract.expiration_date = Date(2022, 12, 16)\n",
    "    sample_put_contract.strike_price = K\n",
    "    sample_put_contract.premium = 0.0\n",
    "    sample_put_contract.number_of_contracts = 1\n",
    "    sample_put_contract.direction = 1\n",
    "\n",
    "    # build a lattice w/the current IV -\n",
    "    sample_lattice_model = build(CRRLatticeModel; number_of_levels=(L+1), Sₒ = Sₒ, σ = IV, μ = μ, T = (DTE_30/B));\n",
    "    \n",
    "    # compute the premium -\n",
    "    premium_value = premium(sample_put_contract, sample_lattice_model)\n",
    "    \n",
    "    # capture -\n",
    "    data_array_part_c[i,1] = Sₒ\n",
    "    data_array_part_c[i,2] = K\n",
    "    data_array_part_c[i,3] = max(K - Sₒ, 0)\n",
    "    data_array_part_c[i,4] = premium_value\n",
    "    data_array_part_c[i,5] = df_put_DTE_30[i,:Bid];\n",
    "    data_array_part_c[i,6] = df_put_DTE_30[i,:Ask];\n",
    "    data_array_part_c[i,7] = IV;\n",
    "end"
   ]
  },
  {
   "cell_type": "markdown",
   "id": "aa513d57-35bf-4312-9de2-71e9a4154b9c",
   "metadata": {},
   "source": [
    "#### c) How does option premium vary with the Implied Volatility (IV)?\n",
    "__Todo__: Select a `Put` contract from the [DataFrame](https://dataframes.juliadata.org/stable/) `df` and simulate what happens to the price if we increase, or decrease the IV (all else held constant)."
   ]
  },
  {
   "cell_type": "code",
   "execution_count": 14,
   "id": "caeee164-e6dd-4e4c-b4a8-178cececaac0",
   "metadata": {},
   "outputs": [
    {
     "name": "stdout",
     "output_type": "stream",
     "text": [
      "P_base = 9.568160016096481, P_up = 10.547625084807027 and P_down = 8.61523114767052\n"
     ]
    }
   ],
   "source": [
    "# lets pick K = 65 Put DTE = 58 and see what happens to the price if we ± the Implied Volatility\n",
    "ϵ = 0.20; # size of perturbation\n",
    "IVₒ = df_put[9,:IV]\n",
    "\n",
    "# Build a contract model -\n",
    "sens_calc_put_contract = PutContractModel()\n",
    "sens_calc_put_contract.ticker = \"AMD\"\n",
    "sens_calc_put_contract.expiration_date = Date(2022, 12, 16)\n",
    "sens_calc_put_contract.strike_price = 65.0\n",
    "sens_calc_put_contract.premium = 0.0\n",
    "sens_calc_put_contract.number_of_contracts = 1\n",
    "sens_calc_put_contract.direction = 1\n",
    "\n",
    "# Up lattice -\n",
    "IV_up = IVₒ*(1+ϵ);\n",
    "up_lattice_model = build(CRRLatticeModel; number_of_levels=(L+1), Sₒ = Sₒ, σ = IV_up, μ = μ, T = (DTE_58/B));\n",
    "\n",
    "# Down lattice -\n",
    "IV_down = IVₒ*(1-ϵ);\n",
    "down_lattice_model = build(CRRLatticeModel; number_of_levels=(L+1), Sₒ = Sₒ, σ = IV_down, μ = μ, T = (DTE_58/B));\n",
    "\n",
    "# compute the two prices -\n",
    "P_base = data_array_part_a[9,4];\n",
    "P_up = premium(sens_calc_put_contract, up_lattice_model)\n",
    "P_down = premium(sens_calc_put_contract, down_lattice_model);\n",
    "\n",
    "# print -\n",
    "println(\"P_base = $(P_base), P_up = $(P_up) and P_down = $(P_down)\")"
   ]
  },
  {
   "cell_type": "markdown",
   "id": "3d318c4b-ba87-447b-a8fa-321a4425d4fa",
   "metadata": {},
   "source": [
    "#### d) Live option price calculation\n",
    "Let's select a ticker, contract type, expiration and a strike price and compare the CRR model calculation against live data."
   ]
  },
  {
   "cell_type": "code",
   "execution_count": 21,
   "id": "da0ab49e-0fa3-4e88-926f-d0403613c8a8",
   "metadata": {},
   "outputs": [
    {
     "name": "stdout",
     "output_type": "stream",
     "text": [
      "The premium equals 𝒫 = 9.67 USD/share\n"
     ]
    }
   ],
   "source": [
    "# Steps -\n",
    "\n",
    "# setup constants -\n",
    "DTE_demo = 58.0\n",
    "IV_demo = (58.54/100);\n",
    "Sₒ_demo = 55.58\n",
    "μ̂ = 0.0423 # update to risk free rate \n",
    "\n",
    "# Build a contract model -\n",
    "demo_put_contract = PutContractModel()\n",
    "demo_put_contract.ticker = \"AMD\"\n",
    "demo_put_contract.expiration_date = Date(2022, 12, 16)\n",
    "demo_put_contract.strike_price = 65.0\n",
    "demo_put_contract.premium = 0.0\n",
    "demo_put_contract.number_of_contracts = 1\n",
    "demo_put_contract.direction = 1\n",
    "\n",
    "# Build a lattice model -\n",
    "demo_lattice_model = build(CRRLatticeModel; number_of_levels=(L+1), Sₒ = Sₒ, σ = IV_demo, μ = μ̂, T = (DTE_demo/B));\n",
    "    \n",
    "# Calculate the premium -\n",
    "premium_value = premium(demo_put_contract, demo_lattice_model)\n",
    "\n",
    "# print -\n",
    "println(\"The premium equals 𝒫 = $(round(premium_value, digits=2)) USD/share\")"
   ]
  },
  {
   "cell_type": "markdown",
   "id": "a1655aa9-1eef-4e28-959a-5ac87820628d",
   "metadata": {},
   "source": [
    "#### e) Visualize"
   ]
  },
  {
   "cell_type": "code",
   "execution_count": 16,
   "id": "a7b1de3c-4a52-4e98-b9ff-0c2007b845cc",
   "metadata": {},
   "outputs": [
    {
     "data": {
      "image/svg+xml": [
       "<?xml version=\"1.0\" encoding=\"utf-8\"?>\n",
       "<svg xmlns=\"http://www.w3.org/2000/svg\" xmlns:xlink=\"http://www.w3.org/1999/xlink\" width=\"600\" height=\"400\" viewBox=\"0 0 2400 1600\">\n",
       "<defs>\n",
       "  <clipPath id=\"clip180\">\n",
       "    <rect x=\"0\" y=\"0\" width=\"2400\" height=\"1600\"/>\n",
       "  </clipPath>\n",
       "</defs>\n",
       "<path clip-path=\"url(#clip180)\" d=\"\n",
       "M0 1600 L2400 1600 L2400 0 L0 0  Z\n",
       "  \" fill=\"#ffffff\" fill-rule=\"evenodd\" fill-opacity=\"1\"/>\n",
       "<defs>\n",
       "  <clipPath id=\"clip181\">\n",
       "    <rect x=\"480\" y=\"0\" width=\"1681\" height=\"1600\"/>\n",
       "  </clipPath>\n",
       "</defs>\n",
       "<path clip-path=\"url(#clip180)\" d=\"\n",
       "M205.121 1423.18 L2352.76 1423.18 L2352.76 47.2441 L205.121 47.2441  Z\n",
       "  \" fill=\"#fffaf0\" fill-rule=\"evenodd\" fill-opacity=\"1\"/>\n",
       "<defs>\n",
       "  <clipPath id=\"clip182\">\n",
       "    <rect x=\"205\" y=\"47\" width=\"2149\" height=\"1377\"/>\n",
       "  </clipPath>\n",
       "</defs>\n",
       "<polyline clip-path=\"url(#clip182)\" style=\"stroke:#000000; stroke-linecap:round; stroke-linejoin:round; stroke-width:2; stroke-opacity:0.1; fill:none\" points=\"\n",
       "  645.791,1423.18 645.791,47.2441 \n",
       "  \"/>\n",
       "<polyline clip-path=\"url(#clip182)\" style=\"stroke:#000000; stroke-linecap:round; stroke-linejoin:round; stroke-width:2; stroke-opacity:0.1; fill:none\" points=\"\n",
       "  1152.31,1423.18 1152.31,47.2441 \n",
       "  \"/>\n",
       "<polyline clip-path=\"url(#clip182)\" style=\"stroke:#000000; stroke-linecap:round; stroke-linejoin:round; stroke-width:2; stroke-opacity:0.1; fill:none\" points=\"\n",
       "  1658.83,1423.18 1658.83,47.2441 \n",
       "  \"/>\n",
       "<polyline clip-path=\"url(#clip182)\" style=\"stroke:#000000; stroke-linecap:round; stroke-linejoin:round; stroke-width:2; stroke-opacity:0.1; fill:none\" points=\"\n",
       "  2165.34,1423.18 2165.34,47.2441 \n",
       "  \"/>\n",
       "<polyline clip-path=\"url(#clip180)\" style=\"stroke:#000000; stroke-linecap:round; stroke-linejoin:round; stroke-width:4; stroke-opacity:1; fill:none\" points=\"\n",
       "  205.121,1423.18 2352.76,1423.18 \n",
       "  \"/>\n",
       "<polyline clip-path=\"url(#clip180)\" style=\"stroke:#000000; stroke-linecap:round; stroke-linejoin:round; stroke-width:4; stroke-opacity:1; fill:none\" points=\"\n",
       "  205.121,47.2441 2352.76,47.2441 \n",
       "  \"/>\n",
       "<polyline clip-path=\"url(#clip180)\" style=\"stroke:#000000; stroke-linecap:round; stroke-linejoin:round; stroke-width:4; stroke-opacity:1; fill:none\" points=\"\n",
       "  645.791,1423.18 645.791,1404.28 \n",
       "  \"/>\n",
       "<polyline clip-path=\"url(#clip180)\" style=\"stroke:#000000; stroke-linecap:round; stroke-linejoin:round; stroke-width:4; stroke-opacity:1; fill:none\" points=\"\n",
       "  1152.31,1423.18 1152.31,1404.28 \n",
       "  \"/>\n",
       "<polyline clip-path=\"url(#clip180)\" style=\"stroke:#000000; stroke-linecap:round; stroke-linejoin:round; stroke-width:4; stroke-opacity:1; fill:none\" points=\"\n",
       "  1658.83,1423.18 1658.83,1404.28 \n",
       "  \"/>\n",
       "<polyline clip-path=\"url(#clip180)\" style=\"stroke:#000000; stroke-linecap:round; stroke-linejoin:round; stroke-width:4; stroke-opacity:1; fill:none\" points=\"\n",
       "  2165.34,1423.18 2165.34,1404.28 \n",
       "  \"/>\n",
       "<path clip-path=\"url(#clip180)\" d=\"M633.963 1455.09 L622.157 1473.54 L633.963 1473.54 L633.963 1455.09 M632.736 1451.02 L638.615 1451.02 L638.615 1473.54 L643.546 1473.54 L643.546 1477.43 L638.615 1477.43 L638.615 1485.58 L633.963 1485.58 L633.963 1477.43 L618.361 1477.43 L618.361 1472.92 L632.736 1451.02 Z\" fill=\"#000000\" fill-rule=\"evenodd\" fill-opacity=\"1\" /><path clip-path=\"url(#clip180)\" d=\"M661.277 1454.1 Q657.666 1454.1 655.838 1457.66 Q654.032 1461.2 654.032 1468.33 Q654.032 1475.44 655.838 1479.01 Q657.666 1482.55 661.277 1482.55 Q664.912 1482.55 666.717 1479.01 Q668.546 1475.44 668.546 1468.33 Q668.546 1461.2 666.717 1457.66 Q664.912 1454.1 661.277 1454.1 M661.277 1450.39 Q667.088 1450.39 670.143 1455 Q673.222 1459.58 673.222 1468.33 Q673.222 1477.06 670.143 1481.67 Q667.088 1486.25 661.277 1486.25 Q655.467 1486.25 652.389 1481.67 Q649.333 1477.06 649.333 1468.33 Q649.333 1459.58 652.389 1455 Q655.467 1450.39 661.277 1450.39 Z\" fill=\"#000000\" fill-rule=\"evenodd\" fill-opacity=\"1\" /><path clip-path=\"url(#clip180)\" d=\"M1137.71 1466.44 Q1134.57 1466.44 1132.71 1468.59 Q1130.89 1470.74 1130.89 1474.49 Q1130.89 1478.22 1132.71 1480.39 Q1134.57 1482.55 1137.71 1482.55 Q1140.86 1482.55 1142.69 1480.39 Q1144.54 1478.22 1144.54 1474.49 Q1144.54 1470.74 1142.69 1468.59 Q1140.86 1466.44 1137.71 1466.44 M1147 1451.78 L1147 1456.04 Q1145.24 1455.21 1143.43 1454.77 Q1141.65 1454.33 1139.89 1454.33 Q1135.26 1454.33 1132.81 1457.45 Q1130.38 1460.58 1130.03 1466.9 Q1131.39 1464.89 1133.45 1463.82 Q1135.52 1462.73 1137.99 1462.73 Q1143.2 1462.73 1146.21 1465.9 Q1149.24 1469.05 1149.24 1474.49 Q1149.24 1479.82 1146.09 1483.03 Q1142.95 1486.25 1137.71 1486.25 Q1131.72 1486.25 1128.55 1481.67 Q1125.38 1477.06 1125.38 1468.33 Q1125.38 1460.14 1129.27 1455.28 Q1133.15 1450.39 1139.7 1450.39 Q1141.46 1450.39 1143.25 1450.74 Q1145.05 1451.09 1147 1451.78 Z\" fill=\"#000000\" fill-rule=\"evenodd\" fill-opacity=\"1\" /><path clip-path=\"url(#clip180)\" d=\"M1167.3 1454.1 Q1163.69 1454.1 1161.86 1457.66 Q1160.05 1461.2 1160.05 1468.33 Q1160.05 1475.44 1161.86 1479.01 Q1163.69 1482.55 1167.3 1482.55 Q1170.93 1482.55 1172.74 1479.01 Q1174.57 1475.44 1174.57 1468.33 Q1174.57 1461.2 1172.74 1457.66 Q1170.93 1454.1 1167.3 1454.1 M1167.3 1450.39 Q1173.11 1450.39 1176.16 1455 Q1179.24 1459.58 1179.24 1468.33 Q1179.24 1477.06 1176.16 1481.67 Q1173.11 1486.25 1167.3 1486.25 Q1161.49 1486.25 1158.41 1481.67 Q1155.35 1477.06 1155.35 1468.33 Q1155.35 1459.58 1158.41 1455 Q1161.49 1450.39 1167.3 1450.39 Z\" fill=\"#000000\" fill-rule=\"evenodd\" fill-opacity=\"1\" /><path clip-path=\"url(#clip180)\" d=\"M1643.7 1469.17 Q1640.37 1469.17 1638.44 1470.95 Q1636.55 1472.73 1636.55 1475.86 Q1636.55 1478.98 1638.44 1480.77 Q1640.37 1482.55 1643.7 1482.55 Q1647.03 1482.55 1648.95 1480.77 Q1650.88 1478.96 1650.88 1475.86 Q1650.88 1472.73 1648.95 1470.95 Q1647.06 1469.17 1643.7 1469.17 M1639.02 1467.18 Q1636.01 1466.44 1634.32 1464.38 Q1632.66 1462.32 1632.66 1459.35 Q1632.66 1455.21 1635.6 1452.8 Q1638.56 1450.39 1643.7 1450.39 Q1648.86 1450.39 1651.8 1452.8 Q1654.74 1455.21 1654.74 1459.35 Q1654.74 1462.32 1653.05 1464.38 Q1651.38 1466.44 1648.4 1467.18 Q1651.78 1467.96 1653.65 1470.26 Q1655.55 1472.55 1655.55 1475.86 Q1655.55 1480.88 1652.47 1483.57 Q1649.42 1486.25 1643.7 1486.25 Q1637.98 1486.25 1634.9 1483.57 Q1631.85 1480.88 1631.85 1475.86 Q1631.85 1472.55 1633.75 1470.26 Q1635.64 1467.96 1639.02 1467.18 M1637.31 1459.79 Q1637.31 1462.48 1638.98 1463.98 Q1640.67 1465.49 1643.7 1465.49 Q1646.71 1465.49 1648.4 1463.98 Q1650.11 1462.48 1650.11 1459.79 Q1650.11 1457.11 1648.4 1455.6 Q1646.71 1454.1 1643.7 1454.1 Q1640.67 1454.1 1638.98 1455.6 Q1637.31 1457.11 1637.31 1459.79 Z\" fill=\"#000000\" fill-rule=\"evenodd\" fill-opacity=\"1\" /><path clip-path=\"url(#clip180)\" d=\"M1673.86 1454.1 Q1670.25 1454.1 1668.42 1457.66 Q1666.62 1461.2 1666.62 1468.33 Q1666.62 1475.44 1668.42 1479.01 Q1670.25 1482.55 1673.86 1482.55 Q1677.5 1482.55 1679.3 1479.01 Q1681.13 1475.44 1681.13 1468.33 Q1681.13 1461.2 1679.3 1457.66 Q1677.5 1454.1 1673.86 1454.1 M1673.86 1450.39 Q1679.67 1450.39 1682.73 1455 Q1685.81 1459.58 1685.81 1468.33 Q1685.81 1477.06 1682.73 1481.67 Q1679.67 1486.25 1673.86 1486.25 Q1668.05 1486.25 1664.97 1481.67 Q1661.92 1477.06 1661.92 1468.33 Q1661.92 1459.58 1664.97 1455 Q1668.05 1450.39 1673.86 1450.39 Z\" fill=\"#000000\" fill-rule=\"evenodd\" fill-opacity=\"1\" /><path clip-path=\"url(#clip180)\" d=\"M2124.95 1481.64 L2132.59 1481.64 L2132.59 1455.28 L2124.28 1456.95 L2124.28 1452.69 L2132.54 1451.02 L2137.22 1451.02 L2137.22 1481.64 L2144.86 1481.64 L2144.86 1485.58 L2124.95 1485.58 L2124.95 1481.64 Z\" fill=\"#000000\" fill-rule=\"evenodd\" fill-opacity=\"1\" /><path clip-path=\"url(#clip180)\" d=\"M2164.3 1454.1 Q2160.69 1454.1 2158.86 1457.66 Q2157.06 1461.2 2157.06 1468.33 Q2157.06 1475.44 2158.86 1479.01 Q2160.69 1482.55 2164.3 1482.55 Q2167.94 1482.55 2169.74 1479.01 Q2171.57 1475.44 2171.57 1468.33 Q2171.57 1461.2 2169.74 1457.66 Q2167.94 1454.1 2164.3 1454.1 M2164.3 1450.39 Q2170.11 1450.39 2173.17 1455 Q2176.25 1459.58 2176.25 1468.33 Q2176.25 1477.06 2173.17 1481.67 Q2170.11 1486.25 2164.3 1486.25 Q2158.49 1486.25 2155.41 1481.67 Q2152.36 1477.06 2152.36 1468.33 Q2152.36 1459.58 2155.41 1455 Q2158.49 1450.39 2164.3 1450.39 Z\" fill=\"#000000\" fill-rule=\"evenodd\" fill-opacity=\"1\" /><path clip-path=\"url(#clip180)\" d=\"M2194.46 1454.1 Q2190.85 1454.1 2189.02 1457.66 Q2187.22 1461.2 2187.22 1468.33 Q2187.22 1475.44 2189.02 1479.01 Q2190.85 1482.55 2194.46 1482.55 Q2198.1 1482.55 2199.9 1479.01 Q2201.73 1475.44 2201.73 1468.33 Q2201.73 1461.2 2199.9 1457.66 Q2198.1 1454.1 2194.46 1454.1 M2194.46 1450.39 Q2200.27 1450.39 2203.33 1455 Q2206.41 1459.58 2206.41 1468.33 Q2206.41 1477.06 2203.33 1481.67 Q2200.27 1486.25 2194.46 1486.25 Q2188.65 1486.25 2185.58 1481.67 Q2182.52 1477.06 2182.52 1468.33 Q2182.52 1459.58 2185.58 1455 Q2188.65 1450.39 2194.46 1450.39 Z\" fill=\"#000000\" fill-rule=\"evenodd\" fill-opacity=\"1\" /><path clip-path=\"url(#clip180)\" d=\"M890.821 1522.08 L890.821 1528.35 Q887.161 1526.6 883.915 1525.74 Q880.668 1524.88 877.644 1524.88 Q872.393 1524.88 869.528 1526.92 Q866.695 1528.96 866.695 1532.71 Q866.695 1535.87 868.573 1537.49 Q870.483 1539.08 875.766 1540.07 L879.649 1540.86 Q886.843 1542.23 890.248 1545.7 Q893.686 1549.14 893.686 1554.93 Q893.686 1561.84 889.039 1565.4 Q884.424 1568.97 875.48 1568.97 Q872.106 1568.97 868.287 1568.2 Q864.499 1567.44 860.425 1565.94 L860.425 1559.32 Q864.34 1561.52 868.096 1562.63 Q871.852 1563.75 875.48 1563.75 Q880.986 1563.75 883.978 1561.58 Q886.97 1559.42 886.97 1555.41 Q886.97 1551.91 884.806 1549.93 Q882.673 1547.96 877.772 1546.97 L873.857 1546.21 Q866.663 1544.78 863.449 1541.72 Q860.234 1538.67 860.234 1533.22 Q860.234 1526.92 864.658 1523.29 Q869.114 1519.66 876.912 1519.66 Q880.254 1519.66 883.724 1520.27 Q887.193 1520.87 890.821 1522.08 Z\" fill=\"#000000\" fill-rule=\"evenodd\" fill-opacity=\"1\" /><path clip-path=\"url(#clip180)\" d=\"M909.25 1522.27 L909.25 1532.4 L921.313 1532.4 L921.313 1536.95 L909.25 1536.95 L909.25 1556.3 Q909.25 1560.66 910.428 1561.9 Q911.637 1563.14 915.297 1563.14 L921.313 1563.14 L921.313 1568.04 L915.297 1568.04 Q908.518 1568.04 905.94 1565.53 Q903.362 1562.98 903.362 1556.3 L903.362 1536.95 L899.065 1536.95 L899.065 1532.4 L903.362 1532.4 L903.362 1522.27 L909.25 1522.27 Z\" fill=\"#000000\" fill-rule=\"evenodd\" fill-opacity=\"1\" /><path clip-path=\"url(#clip180)\" d=\"M949.672 1537.87 Q948.686 1537.3 947.508 1537.04 Q946.362 1536.76 944.962 1536.76 Q939.996 1536.76 937.323 1540 Q934.681 1543.22 934.681 1549.27 L934.681 1568.04 L928.793 1568.04 L928.793 1532.4 L934.681 1532.4 L934.681 1537.93 Q936.527 1534.69 939.487 1533.13 Q942.447 1531.54 946.68 1531.54 Q947.285 1531.54 948.017 1531.63 Q948.749 1531.7 949.64 1531.85 L949.672 1537.87 Z\" fill=\"#000000\" fill-rule=\"evenodd\" fill-opacity=\"1\" /><path clip-path=\"url(#clip180)\" d=\"M955.815 1532.4 L961.672 1532.4 L961.672 1568.04 L955.815 1568.04 L955.815 1532.4 M955.815 1518.52 L961.672 1518.52 L961.672 1525.93 L955.815 1525.93 L955.815 1518.52 Z\" fill=\"#000000\" fill-rule=\"evenodd\" fill-opacity=\"1\" /><path clip-path=\"url(#clip180)\" d=\"M973.703 1518.52 L979.591 1518.52 L979.591 1547.77 L997.065 1532.4 L1004.54 1532.4 L985.639 1549.07 L1005.34 1568.04 L997.702 1568.04 L979.591 1550.63 L979.591 1568.04 L973.703 1568.04 L973.703 1518.52 Z\" fill=\"#000000\" fill-rule=\"evenodd\" fill-opacity=\"1\" /><path clip-path=\"url(#clip180)\" d=\"M1039.84 1548.76 L1039.84 1551.62 L1012.92 1551.62 Q1013.3 1557.67 1016.54 1560.85 Q1019.82 1564 1025.65 1564 Q1029.02 1564 1032.17 1563.17 Q1035.35 1562.35 1038.47 1560.69 L1038.47 1566.23 Q1035.32 1567.57 1032.01 1568.27 Q1028.7 1568.97 1025.3 1568.97 Q1016.77 1568.97 1011.77 1564 Q1006.8 1559.04 1006.8 1550.57 Q1006.8 1541.82 1011.52 1536.69 Q1016.26 1531.54 1024.28 1531.54 Q1031.47 1531.54 1035.64 1536.18 Q1039.84 1540.8 1039.84 1548.76 M1033.99 1547.04 Q1033.92 1542.23 1031.28 1539.37 Q1028.67 1536.5 1024.34 1536.5 Q1019.44 1536.5 1016.48 1539.27 Q1013.55 1542.04 1013.11 1547.07 L1033.99 1547.04 Z\" fill=\"#000000\" fill-rule=\"evenodd\" fill-opacity=\"1\" /><path clip-path=\"url(#clip180)\" d=\"M1075.84 1562.7 L1075.84 1581.6 L1069.95 1581.6 L1069.95 1532.4 L1075.84 1532.4 L1075.84 1537.81 Q1077.69 1534.62 1080.49 1533.1 Q1083.32 1531.54 1087.24 1531.54 Q1093.73 1531.54 1097.77 1536.69 Q1101.84 1541.85 1101.84 1550.25 Q1101.84 1558.65 1097.77 1563.81 Q1093.73 1568.97 1087.24 1568.97 Q1083.32 1568.97 1080.49 1567.44 Q1077.69 1565.88 1075.84 1562.7 M1095.77 1550.25 Q1095.77 1543.79 1093.09 1540.13 Q1090.45 1536.44 1085.8 1536.44 Q1081.16 1536.44 1078.48 1540.13 Q1075.84 1543.79 1075.84 1550.25 Q1075.84 1556.71 1078.48 1560.4 Q1081.16 1564.07 1085.8 1564.07 Q1090.45 1564.07 1093.09 1560.4 Q1095.77 1556.71 1095.77 1550.25 Z\" fill=\"#000000\" fill-rule=\"evenodd\" fill-opacity=\"1\" /><path clip-path=\"url(#clip180)\" d=\"M1132.21 1537.87 Q1131.22 1537.3 1130.04 1537.04 Q1128.9 1536.76 1127.5 1536.76 Q1122.53 1536.76 1119.86 1540 Q1117.22 1543.22 1117.22 1549.27 L1117.22 1568.04 L1111.33 1568.04 L1111.33 1532.4 L1117.22 1532.4 L1117.22 1537.93 Q1119.06 1534.69 1122.02 1533.13 Q1124.98 1531.54 1129.22 1531.54 Q1129.82 1531.54 1130.55 1531.63 Q1131.29 1531.7 1132.18 1531.85 L1132.21 1537.87 Z\" fill=\"#000000\" fill-rule=\"evenodd\" fill-opacity=\"1\" /><path clip-path=\"url(#clip180)\" d=\"M1138.35 1532.4 L1144.21 1532.4 L1144.21 1568.04 L1138.35 1568.04 L1138.35 1532.4 M1138.35 1518.52 L1144.21 1518.52 L1144.21 1525.93 L1138.35 1525.93 L1138.35 1518.52 Z\" fill=\"#000000\" fill-rule=\"evenodd\" fill-opacity=\"1\" /><path clip-path=\"url(#clip180)\" d=\"M1182.12 1533.76 L1182.12 1539.24 Q1179.63 1537.87 1177.12 1537.2 Q1174.64 1536.5 1172.09 1536.5 Q1166.39 1536.5 1163.24 1540.13 Q1160.09 1543.73 1160.09 1550.25 Q1160.09 1556.78 1163.24 1560.4 Q1166.39 1564 1172.09 1564 Q1174.64 1564 1177.12 1563.33 Q1179.63 1562.63 1182.12 1561.26 L1182.12 1566.68 Q1179.67 1567.82 1177.02 1568.39 Q1174.41 1568.97 1171.45 1568.97 Q1163.4 1568.97 1158.66 1563.91 Q1153.92 1558.85 1153.92 1550.25 Q1153.92 1541.53 1158.69 1536.53 Q1163.5 1531.54 1171.84 1531.54 Q1174.54 1531.54 1177.12 1532.11 Q1179.7 1532.65 1182.12 1533.76 Z\" fill=\"#000000\" fill-rule=\"evenodd\" fill-opacity=\"1\" /><path clip-path=\"url(#clip180)\" d=\"M1222.79 1548.76 L1222.79 1551.62 L1195.87 1551.62 Q1196.25 1557.67 1199.49 1560.85 Q1202.77 1564 1208.6 1564 Q1211.97 1564 1215.12 1563.17 Q1218.31 1562.35 1221.42 1560.69 L1221.42 1566.23 Q1218.27 1567.57 1214.96 1568.27 Q1211.65 1568.97 1208.25 1568.97 Q1199.72 1568.97 1194.72 1564 Q1189.75 1559.04 1189.75 1550.57 Q1189.75 1541.82 1194.47 1536.69 Q1199.21 1531.54 1207.23 1531.54 Q1214.42 1531.54 1218.59 1536.18 Q1222.79 1540.8 1222.79 1548.76 M1216.94 1547.04 Q1216.87 1542.23 1214.23 1539.37 Q1211.62 1536.5 1207.29 1536.5 Q1202.39 1536.5 1199.43 1539.27 Q1196.5 1542.04 1196.06 1547.07 L1216.94 1547.04 Z\" fill=\"#000000\" fill-rule=\"evenodd\" fill-opacity=\"1\" /><path clip-path=\"url(#clip180)\" d=\"M1253.38 1520.52 L1259.81 1520.52 L1259.81 1540.61 L1281.13 1520.52 L1289.41 1520.52 L1265.83 1542.68 L1291.1 1568.04 L1282.63 1568.04 L1259.81 1545.16 L1259.81 1568.04 L1253.38 1568.04 L1253.38 1520.52 Z\" fill=\"#000000\" fill-rule=\"evenodd\" fill-opacity=\"1\" /><path clip-path=\"url(#clip180)\" d=\"M1330.66 1518.58 Q1326.39 1525.9 1324.33 1533.06 Q1322.26 1540.23 1322.26 1547.58 Q1322.26 1554.93 1324.33 1562.16 Q1326.43 1569.35 1330.66 1576.64 L1325.57 1576.64 Q1320.79 1569.16 1318.41 1561.93 Q1316.05 1554.71 1316.05 1547.58 Q1316.05 1540.48 1318.41 1533.29 Q1320.76 1526.09 1325.57 1518.58 L1330.66 1518.58 Z\" fill=\"#000000\" fill-rule=\"evenodd\" fill-opacity=\"1\" /><path clip-path=\"url(#clip180)\" d=\"M1341.55 1520.52 L1348.01 1520.52 L1348.01 1549.39 Q1348.01 1557.03 1350.78 1560.4 Q1353.54 1563.75 1359.75 1563.75 Q1365.93 1563.75 1368.69 1560.4 Q1371.46 1557.03 1371.46 1549.39 L1371.46 1520.52 L1377.93 1520.52 L1377.93 1550.19 Q1377.93 1559.48 1373.31 1564.22 Q1368.73 1568.97 1359.75 1568.97 Q1350.74 1568.97 1346.13 1564.22 Q1341.55 1559.48 1341.55 1550.19 L1341.55 1520.52 Z\" fill=\"#000000\" fill-rule=\"evenodd\" fill-opacity=\"1\" /><path clip-path=\"url(#clip180)\" d=\"M1418.47 1522.08 L1418.47 1528.35 Q1414.81 1526.6 1411.57 1525.74 Q1408.32 1524.88 1405.3 1524.88 Q1400.05 1524.88 1397.18 1526.92 Q1394.35 1528.96 1394.35 1532.71 Q1394.35 1535.87 1396.23 1537.49 Q1398.14 1539.08 1403.42 1540.07 L1407.3 1540.86 Q1414.5 1542.23 1417.9 1545.7 Q1421.34 1549.14 1421.34 1554.93 Q1421.34 1561.84 1416.69 1565.4 Q1412.08 1568.97 1403.13 1568.97 Q1399.76 1568.97 1395.94 1568.2 Q1392.15 1567.44 1388.08 1565.94 L1388.08 1559.32 Q1391.99 1561.52 1395.75 1562.63 Q1399.5 1563.75 1403.13 1563.75 Q1408.64 1563.75 1411.63 1561.58 Q1414.62 1559.42 1414.62 1555.41 Q1414.62 1551.91 1412.46 1549.93 Q1410.33 1547.96 1405.43 1546.97 L1401.51 1546.21 Q1394.32 1544.78 1391.1 1541.72 Q1387.89 1538.67 1387.89 1533.22 Q1387.89 1526.92 1392.31 1523.29 Q1396.77 1519.66 1404.57 1519.66 Q1407.91 1519.66 1411.38 1520.27 Q1414.85 1520.87 1418.47 1522.08 Z\" fill=\"#000000\" fill-rule=\"evenodd\" fill-opacity=\"1\" /><path clip-path=\"url(#clip180)\" d=\"M1437.79 1525.81 L1437.79 1562.76 L1445.56 1562.76 Q1455.4 1562.76 1459.95 1558.3 Q1464.53 1553.85 1464.53 1544.24 Q1464.53 1534.69 1459.95 1530.26 Q1455.4 1525.81 1445.56 1525.81 L1437.79 1525.81 M1431.37 1520.52 L1444.57 1520.52 Q1458.39 1520.52 1464.85 1526.28 Q1471.31 1532.01 1471.31 1544.24 Q1471.31 1556.52 1464.82 1562.28 Q1458.32 1568.04 1444.57 1568.04 L1431.37 1568.04 L1431.37 1520.52 Z\" fill=\"#000000\" fill-rule=\"evenodd\" fill-opacity=\"1\" /><path clip-path=\"url(#clip180)\" d=\"M1491.71 1520.52 L1497.12 1520.52 L1480.57 1574.09 L1475.16 1574.09 L1491.71 1520.52 Z\" fill=\"#000000\" fill-rule=\"evenodd\" fill-opacity=\"1\" /><path clip-path=\"url(#clip180)\" d=\"M1525.99 1533.45 L1525.99 1538.98 Q1523.51 1537.71 1520.84 1537.07 Q1518.16 1536.44 1515.3 1536.44 Q1510.94 1536.44 1508.74 1537.77 Q1506.58 1539.11 1506.58 1541.79 Q1506.58 1543.82 1508.14 1545 Q1509.7 1546.15 1514.41 1547.2 L1516.41 1547.64 Q1522.65 1548.98 1525.26 1551.43 Q1527.9 1553.85 1527.9 1558.21 Q1527.9 1563.17 1523.95 1566.07 Q1520.04 1568.97 1513.16 1568.97 Q1510.3 1568.97 1507.18 1568.39 Q1504.09 1567.85 1500.66 1566.74 L1500.66 1560.69 Q1503.9 1562.38 1507.05 1563.24 Q1510.2 1564.07 1513.29 1564.07 Q1517.43 1564.07 1519.66 1562.66 Q1521.89 1561.23 1521.89 1558.65 Q1521.89 1556.27 1520.26 1554.99 Q1518.67 1553.72 1513.23 1552.54 L1511.19 1552.07 Q1505.75 1550.92 1503.33 1548.56 Q1500.91 1546.18 1500.91 1542.04 Q1500.91 1537.01 1504.48 1534.27 Q1508.04 1531.54 1514.6 1531.54 Q1517.84 1531.54 1520.71 1532.01 Q1523.57 1532.49 1525.99 1533.45 Z\" fill=\"#000000\" fill-rule=\"evenodd\" fill-opacity=\"1\" /><path clip-path=\"url(#clip180)\" d=\"M1566.86 1546.53 L1566.86 1568.04 L1561 1568.04 L1561 1546.72 Q1561 1541.66 1559.03 1539.14 Q1557.06 1536.63 1553.11 1536.63 Q1548.37 1536.63 1545.63 1539.65 Q1542.89 1542.68 1542.89 1547.9 L1542.89 1568.04 L1537 1568.04 L1537 1518.52 L1542.89 1518.52 L1542.89 1537.93 Q1544.99 1534.72 1547.83 1533.13 Q1550.69 1531.54 1554.41 1531.54 Q1560.56 1531.54 1563.71 1535.36 Q1566.86 1539.14 1566.86 1546.53 Z\" fill=\"#000000\" fill-rule=\"evenodd\" fill-opacity=\"1\" /><path clip-path=\"url(#clip180)\" d=\"M1594.74 1550.12 Q1587.64 1550.12 1584.91 1551.75 Q1582.17 1553.37 1582.17 1557.29 Q1582.17 1560.4 1584.21 1562.25 Q1586.27 1564.07 1589.81 1564.07 Q1594.68 1564.07 1597.61 1560.63 Q1600.57 1557.16 1600.57 1551.43 L1600.57 1550.12 L1594.74 1550.12 M1606.42 1547.71 L1606.42 1568.04 L1600.57 1568.04 L1600.57 1562.63 Q1598.56 1565.88 1595.57 1567.44 Q1592.58 1568.97 1588.25 1568.97 Q1582.77 1568.97 1579.53 1565.91 Q1576.31 1562.82 1576.31 1557.67 Q1576.31 1551.65 1580.32 1548.6 Q1584.37 1545.54 1592.35 1545.54 L1600.57 1545.54 L1600.57 1544.97 Q1600.57 1540.93 1597.89 1538.73 Q1595.25 1536.5 1590.44 1536.5 Q1587.39 1536.5 1584.49 1537.23 Q1581.6 1537.97 1578.92 1539.43 L1578.92 1534.02 Q1582.14 1532.78 1585.16 1532.17 Q1588.18 1531.54 1591.05 1531.54 Q1598.78 1531.54 1602.6 1535.55 Q1606.42 1539.56 1606.42 1547.71 Z\" fill=\"#000000\" fill-rule=\"evenodd\" fill-opacity=\"1\" /><path clip-path=\"url(#clip180)\" d=\"M1639.14 1537.87 Q1638.16 1537.3 1636.98 1537.04 Q1635.83 1536.76 1634.43 1536.76 Q1629.47 1536.76 1626.79 1540 Q1624.15 1543.22 1624.15 1549.27 L1624.15 1568.04 L1618.26 1568.04 L1618.26 1532.4 L1624.15 1532.4 L1624.15 1537.93 Q1626 1534.69 1628.96 1533.13 Q1631.92 1531.54 1636.15 1531.54 Q1636.75 1531.54 1637.49 1531.63 Q1638.22 1531.7 1639.11 1531.85 L1639.14 1537.87 Z\" fill=\"#000000\" fill-rule=\"evenodd\" fill-opacity=\"1\" /><path clip-path=\"url(#clip180)\" d=\"M1674.34 1548.76 L1674.34 1551.62 L1647.42 1551.62 Q1647.8 1557.67 1651.05 1560.85 Q1654.32 1564 1660.15 1564 Q1663.52 1564 1666.67 1563.17 Q1669.86 1562.35 1672.98 1560.69 L1672.98 1566.23 Q1669.82 1567.57 1666.51 1568.27 Q1663.2 1568.97 1659.8 1568.97 Q1651.27 1568.97 1646.27 1564 Q1641.31 1559.04 1641.31 1550.57 Q1641.31 1541.82 1646.02 1536.69 Q1650.76 1531.54 1658.78 1531.54 Q1665.97 1531.54 1670.14 1536.18 Q1674.34 1540.8 1674.34 1548.76 M1668.49 1547.04 Q1668.42 1542.23 1665.78 1539.37 Q1663.17 1536.5 1658.84 1536.5 Q1653.94 1536.5 1650.98 1539.27 Q1648.05 1542.04 1647.61 1547.07 L1668.49 1547.04 Z\" fill=\"#000000\" fill-rule=\"evenodd\" fill-opacity=\"1\" /><path clip-path=\"url(#clip180)\" d=\"M1683.03 1518.58 L1688.13 1518.58 Q1692.9 1526.09 1695.26 1533.29 Q1697.64 1540.48 1697.64 1547.58 Q1697.64 1554.71 1695.26 1561.93 Q1692.9 1569.16 1688.13 1576.64 L1683.03 1576.64 Q1687.27 1569.35 1689.34 1562.16 Q1691.44 1554.93 1691.44 1547.58 Q1691.44 1540.23 1689.34 1533.06 Q1687.27 1525.9 1683.03 1518.58 Z\" fill=\"#000000\" fill-rule=\"evenodd\" fill-opacity=\"1\" /><polyline clip-path=\"url(#clip182)\" style=\"stroke:#000000; stroke-linecap:round; stroke-linejoin:round; stroke-width:2; stroke-opacity:0.1; fill:none\" points=\"\n",
       "  205.121,1384.24 2352.76,1384.24 \n",
       "  \"/>\n",
       "<polyline clip-path=\"url(#clip182)\" style=\"stroke:#000000; stroke-linecap:round; stroke-linejoin:round; stroke-width:2; stroke-opacity:0.1; fill:none\" points=\"\n",
       "  205.121,1111.21 2352.76,1111.21 \n",
       "  \"/>\n",
       "<polyline clip-path=\"url(#clip182)\" style=\"stroke:#000000; stroke-linecap:round; stroke-linejoin:round; stroke-width:2; stroke-opacity:0.1; fill:none\" points=\"\n",
       "  205.121,838.182 2352.76,838.182 \n",
       "  \"/>\n",
       "<polyline clip-path=\"url(#clip182)\" style=\"stroke:#000000; stroke-linecap:round; stroke-linejoin:round; stroke-width:2; stroke-opacity:0.1; fill:none\" points=\"\n",
       "  205.121,565.154 2352.76,565.154 \n",
       "  \"/>\n",
       "<polyline clip-path=\"url(#clip182)\" style=\"stroke:#000000; stroke-linecap:round; stroke-linejoin:round; stroke-width:2; stroke-opacity:0.1; fill:none\" points=\"\n",
       "  205.121,292.127 2352.76,292.127 \n",
       "  \"/>\n",
       "<polyline clip-path=\"url(#clip180)\" style=\"stroke:#000000; stroke-linecap:round; stroke-linejoin:round; stroke-width:4; stroke-opacity:1; fill:none\" points=\"\n",
       "  205.121,1423.18 205.121,47.2441 \n",
       "  \"/>\n",
       "<polyline clip-path=\"url(#clip180)\" style=\"stroke:#000000; stroke-linecap:round; stroke-linejoin:round; stroke-width:4; stroke-opacity:1; fill:none\" points=\"\n",
       "  2352.76,1423.18 2352.76,47.2441 \n",
       "  \"/>\n",
       "<polyline clip-path=\"url(#clip180)\" style=\"stroke:#000000; stroke-linecap:round; stroke-linejoin:round; stroke-width:4; stroke-opacity:1; fill:none\" points=\"\n",
       "  205.121,1384.24 224.019,1384.24 \n",
       "  \"/>\n",
       "<polyline clip-path=\"url(#clip180)\" style=\"stroke:#000000; stroke-linecap:round; stroke-linejoin:round; stroke-width:4; stroke-opacity:1; fill:none\" points=\"\n",
       "  205.121,1111.21 224.019,1111.21 \n",
       "  \"/>\n",
       "<polyline clip-path=\"url(#clip180)\" style=\"stroke:#000000; stroke-linecap:round; stroke-linejoin:round; stroke-width:4; stroke-opacity:1; fill:none\" points=\"\n",
       "  205.121,838.182 224.019,838.182 \n",
       "  \"/>\n",
       "<polyline clip-path=\"url(#clip180)\" style=\"stroke:#000000; stroke-linecap:round; stroke-linejoin:round; stroke-width:4; stroke-opacity:1; fill:none\" points=\"\n",
       "  205.121,565.154 224.019,565.154 \n",
       "  \"/>\n",
       "<polyline clip-path=\"url(#clip180)\" style=\"stroke:#000000; stroke-linecap:round; stroke-linejoin:round; stroke-width:4; stroke-opacity:1; fill:none\" points=\"\n",
       "  205.121,292.127 224.019,292.127 \n",
       "  \"/>\n",
       "<path clip-path=\"url(#clip180)\" d=\"M157.177 1370.04 Q153.566 1370.04 151.737 1373.6 Q149.931 1377.14 149.931 1384.27 Q149.931 1391.38 151.737 1394.94 Q153.566 1398.49 157.177 1398.49 Q160.811 1398.49 162.616 1394.94 Q164.445 1391.38 164.445 1384.27 Q164.445 1377.14 162.616 1373.6 Q160.811 1370.04 157.177 1370.04 M157.177 1366.33 Q162.987 1366.33 166.042 1370.94 Q169.121 1375.52 169.121 1384.27 Q169.121 1393 166.042 1397.61 Q162.987 1402.19 157.177 1402.19 Q151.366 1402.19 148.288 1397.61 Q145.232 1393 145.232 1384.27 Q145.232 1375.52 148.288 1370.94 Q151.366 1366.33 157.177 1366.33 Z\" fill=\"#000000\" fill-rule=\"evenodd\" fill-opacity=\"1\" /><path clip-path=\"url(#clip180)\" d=\"M117.825 1124.56 L125.464 1124.56 L125.464 1098.19 L117.154 1099.86 L117.154 1095.6 L125.418 1093.93 L130.093 1093.93 L130.093 1124.56 L137.732 1124.56 L137.732 1128.49 L117.825 1128.49 L117.825 1124.56 Z\" fill=\"#000000\" fill-rule=\"evenodd\" fill-opacity=\"1\" /><path clip-path=\"url(#clip180)\" d=\"M157.177 1097.01 Q153.566 1097.01 151.737 1100.57 Q149.931 1104.12 149.931 1111.25 Q149.931 1118.35 151.737 1121.92 Q153.566 1125.46 157.177 1125.46 Q160.811 1125.46 162.616 1121.92 Q164.445 1118.35 164.445 1111.25 Q164.445 1104.12 162.616 1100.57 Q160.811 1097.01 157.177 1097.01 M157.177 1093.31 Q162.987 1093.31 166.042 1097.91 Q169.121 1102.5 169.121 1111.25 Q169.121 1119.97 166.042 1124.58 Q162.987 1129.16 157.177 1129.16 Q151.366 1129.16 148.288 1124.58 Q145.232 1119.97 145.232 1111.25 Q145.232 1102.5 148.288 1097.91 Q151.366 1093.31 157.177 1093.31 Z\" fill=\"#000000\" fill-rule=\"evenodd\" fill-opacity=\"1\" /><path clip-path=\"url(#clip180)\" d=\"M121.043 851.527 L137.362 851.527 L137.362 855.462 L115.418 855.462 L115.418 851.527 Q118.08 848.773 122.663 844.143 Q127.269 839.49 128.45 838.148 Q130.695 835.625 131.575 833.888 Q132.478 832.129 132.478 830.439 Q132.478 827.685 130.533 825.949 Q128.612 824.213 125.51 824.213 Q123.311 824.213 120.857 824.976 Q118.427 825.74 115.649 827.291 L115.649 822.569 Q118.473 821.435 120.927 820.856 Q123.38 820.277 125.418 820.277 Q130.788 820.277 133.982 822.963 Q137.177 825.648 137.177 830.138 Q137.177 832.268 136.367 834.189 Q135.579 836.088 133.473 838.68 Q132.894 839.351 129.792 842.569 Q126.691 845.763 121.043 851.527 Z\" fill=\"#000000\" fill-rule=\"evenodd\" fill-opacity=\"1\" /><path clip-path=\"url(#clip180)\" d=\"M157.177 823.981 Q153.566 823.981 151.737 827.546 Q149.931 831.088 149.931 838.217 Q149.931 845.324 151.737 848.888 Q153.566 852.43 157.177 852.43 Q160.811 852.43 162.616 848.888 Q164.445 845.324 164.445 838.217 Q164.445 831.088 162.616 827.546 Q160.811 823.981 157.177 823.981 M157.177 820.277 Q162.987 820.277 166.042 824.884 Q169.121 829.467 169.121 838.217 Q169.121 846.944 166.042 851.55 Q162.987 856.134 157.177 856.134 Q151.366 856.134 148.288 851.55 Q145.232 846.944 145.232 838.217 Q145.232 829.467 148.288 824.884 Q151.366 820.277 157.177 820.277 Z\" fill=\"#000000\" fill-rule=\"evenodd\" fill-opacity=\"1\" /><path clip-path=\"url(#clip180)\" d=\"M131.181 563.8 Q134.538 564.518 136.413 566.786 Q138.311 569.055 138.311 572.388 Q138.311 577.504 134.792 580.305 Q131.274 583.106 124.793 583.106 Q122.617 583.106 120.302 582.666 Q118.01 582.249 115.556 581.393 L115.556 576.879 Q117.501 578.013 119.816 578.592 Q122.13 579.171 124.654 579.171 Q129.052 579.171 131.343 577.434 Q133.658 575.698 133.658 572.388 Q133.658 569.333 131.505 567.62 Q129.376 565.884 125.556 565.884 L121.529 565.884 L121.529 562.041 L125.742 562.041 Q129.191 562.041 131.019 560.675 Q132.848 559.286 132.848 556.694 Q132.848 554.032 130.95 552.62 Q129.075 551.185 125.556 551.185 Q123.635 551.185 121.436 551.601 Q119.237 552.018 116.598 552.898 L116.598 548.731 Q119.26 547.99 121.575 547.62 Q123.913 547.249 125.973 547.249 Q131.297 547.249 134.399 549.68 Q137.501 552.087 137.501 556.208 Q137.501 559.078 135.857 561.069 Q134.214 563.036 131.181 563.8 Z\" fill=\"#000000\" fill-rule=\"evenodd\" fill-opacity=\"1\" /><path clip-path=\"url(#clip180)\" d=\"M157.177 550.953 Q153.566 550.953 151.737 554.518 Q149.931 558.06 149.931 565.189 Q149.931 572.296 151.737 575.86 Q153.566 579.402 157.177 579.402 Q160.811 579.402 162.616 575.86 Q164.445 572.296 164.445 565.189 Q164.445 558.06 162.616 554.518 Q160.811 550.953 157.177 550.953 M157.177 547.249 Q162.987 547.249 166.042 551.856 Q169.121 556.439 169.121 565.189 Q169.121 573.916 166.042 578.522 Q162.987 583.106 157.177 583.106 Q151.366 583.106 148.288 578.522 Q145.232 573.916 145.232 565.189 Q145.232 556.439 148.288 551.856 Q151.366 547.249 157.177 547.249 Z\" fill=\"#000000\" fill-rule=\"evenodd\" fill-opacity=\"1\" /><path clip-path=\"url(#clip180)\" d=\"M129.862 278.921 L118.056 297.37 L129.862 297.37 L129.862 278.921 M128.635 274.847 L134.515 274.847 L134.515 297.37 L139.445 297.37 L139.445 301.258 L134.515 301.258 L134.515 309.407 L129.862 309.407 L129.862 301.258 L114.26 301.258 L114.26 296.745 L128.635 274.847 Z\" fill=\"#000000\" fill-rule=\"evenodd\" fill-opacity=\"1\" /><path clip-path=\"url(#clip180)\" d=\"M157.177 277.925 Q153.566 277.925 151.737 281.49 Q149.931 285.032 149.931 292.161 Q149.931 299.268 151.737 302.832 Q153.566 306.374 157.177 306.374 Q160.811 306.374 162.616 302.832 Q164.445 299.268 164.445 292.161 Q164.445 285.032 162.616 281.49 Q160.811 277.925 157.177 277.925 M157.177 274.222 Q162.987 274.222 166.042 278.828 Q169.121 283.411 169.121 292.161 Q169.121 300.888 166.042 305.495 Q162.987 310.078 157.177 310.078 Q151.366 310.078 148.288 305.495 Q145.232 300.888 145.232 292.161 Q145.232 283.411 148.288 278.828 Q151.366 274.222 157.177 274.222 Z\" fill=\"#000000\" fill-rule=\"evenodd\" fill-opacity=\"1\" /><path clip-path=\"url(#clip180)\" d=\"M16.4842 1388.03 L16.4842 1357.98 L21.895 1357.98 L21.895 1381.6 L35.9632 1381.6 L35.9632 1358.97 L41.3741 1358.97 L41.3741 1381.6 L58.5933 1381.6 L58.5933 1357.41 L64.0042 1357.41 L64.0042 1388.03 L16.4842 1388.03 Z\" fill=\"#000000\" fill-rule=\"evenodd\" fill-opacity=\"1\" /><path clip-path=\"url(#clip180)\" d=\"M29.4065 1324.37 L34.9447 1324.37 Q33.6716 1326.86 33.035 1329.53 Q32.3984 1332.2 32.3984 1335.07 Q32.3984 1339.43 33.7352 1341.63 Q35.072 1343.79 37.7456 1343.79 Q39.7826 1343.79 40.9603 1342.23 Q42.1061 1340.67 43.1565 1335.96 L43.6021 1333.95 Q44.9389 1327.72 47.3897 1325.11 Q49.8086 1322.46 54.1691 1322.46 Q59.1344 1322.46 62.0308 1326.41 Q64.9272 1330.33 64.9272 1337.2 Q64.9272 1340.07 64.3543 1343.18 Q63.8132 1346.27 62.6992 1349.71 L56.6518 1349.71 Q58.3387 1346.46 59.198 1343.31 Q60.0256 1340.16 60.0256 1337.07 Q60.0256 1332.94 58.6251 1330.71 Q57.1929 1328.48 54.6147 1328.48 Q52.2276 1328.48 50.9545 1330.1 Q49.6813 1331.69 48.5037 1337.14 L48.0262 1339.17 Q46.8804 1344.62 44.5251 1347.04 Q42.138 1349.45 38.0002 1349.45 Q32.9713 1349.45 30.2341 1345.89 Q27.4968 1342.33 27.4968 1335.77 Q27.4968 1332.52 27.9743 1329.66 Q28.4517 1326.79 29.4065 1324.37 Z\" fill=\"#000000\" fill-rule=\"evenodd\" fill-opacity=\"1\" /><path clip-path=\"url(#clip180)\" d=\"M18.2347 1307.35 L28.3562 1307.35 L28.3562 1295.28 L32.9077 1295.28 L32.9077 1307.35 L52.2594 1307.35 Q56.6199 1307.35 57.8613 1306.17 Q59.1026 1304.96 59.1026 1301.3 L59.1026 1295.28 L64.0042 1295.28 L64.0042 1301.3 Q64.0042 1308.08 61.4897 1310.66 Q58.9434 1313.23 52.2594 1313.23 L32.9077 1313.23 L32.9077 1317.53 L28.3562 1317.53 L28.3562 1313.23 L18.2347 1313.23 L18.2347 1307.35 Z\" fill=\"#000000\" fill-rule=\"evenodd\" fill-opacity=\"1\" /><path clip-path=\"url(#clip180)\" d=\"M28.3562 1287.58 L28.3562 1281.72 L64.0042 1281.72 L64.0042 1287.58 L28.3562 1287.58 M14.479 1287.58 L14.479 1281.72 L21.895 1281.72 L21.895 1287.58 L14.479 1287.58 Z\" fill=\"#000000\" fill-rule=\"evenodd\" fill-opacity=\"1\" /><path clip-path=\"url(#clip180)\" d=\"M35.1993 1241.72 Q31.2526 1239.52 29.3747 1236.46 Q27.4968 1233.41 27.4968 1229.27 Q27.4968 1223.7 31.4117 1220.68 Q35.2948 1217.65 42.4881 1217.65 L64.0042 1217.65 L64.0042 1223.54 L42.679 1223.54 Q37.5546 1223.54 35.072 1225.36 Q32.5894 1227.17 32.5894 1230.89 Q32.5894 1235.45 35.6131 1238.09 Q38.6368 1240.73 43.8567 1240.73 L64.0042 1240.73 L64.0042 1246.62 L42.679 1246.62 Q37.5228 1246.62 35.072 1248.43 Q32.5894 1250.25 32.5894 1254.03 Q32.5894 1258.52 35.6449 1261.16 Q38.6686 1263.8 43.8567 1263.8 L64.0042 1263.8 L64.0042 1269.69 L28.3562 1269.69 L28.3562 1263.8 L33.8944 1263.8 Q30.616 1261.8 29.0564 1259 Q27.4968 1256.2 27.4968 1252.35 Q27.4968 1248.46 29.4702 1245.76 Q31.4436 1243.02 35.1993 1241.72 Z\" fill=\"#000000\" fill-rule=\"evenodd\" fill-opacity=\"1\" /><path clip-path=\"url(#clip180)\" d=\"M46.0847 1189.77 Q46.0847 1196.87 47.7079 1199.61 Q49.3312 1202.34 53.2461 1202.34 Q56.3653 1202.34 58.2114 1200.31 Q60.0256 1198.24 60.0256 1194.7 Q60.0256 1189.83 56.5881 1186.91 Q53.1188 1183.95 47.3897 1183.95 L46.0847 1183.95 L46.0847 1189.77 M43.6657 1178.09 L64.0042 1178.09 L64.0042 1183.95 L58.5933 1183.95 Q61.8398 1185.95 63.3994 1188.94 Q64.9272 1191.94 64.9272 1196.26 Q64.9272 1201.74 61.8716 1204.99 Q58.7843 1208.2 53.6281 1208.2 Q47.6125 1208.2 44.5569 1204.19 Q41.5014 1200.15 41.5014 1192.16 L41.5014 1183.95 L40.9285 1183.95 Q36.8862 1183.95 34.6901 1186.62 Q32.4621 1189.26 32.4621 1194.07 Q32.4621 1197.12 33.1941 1200.02 Q33.9262 1202.92 35.3903 1205.59 L29.9795 1205.59 Q28.7381 1202.38 28.1334 1199.35 Q27.4968 1196.33 27.4968 1193.46 Q27.4968 1185.73 31.5072 1181.91 Q35.5176 1178.09 43.6657 1178.09 Z\" fill=\"#000000\" fill-rule=\"evenodd\" fill-opacity=\"1\" /><path clip-path=\"url(#clip180)\" d=\"M18.2347 1160.23 L28.3562 1160.23 L28.3562 1148.17 L32.9077 1148.17 L32.9077 1160.23 L52.2594 1160.23 Q56.6199 1160.23 57.8613 1159.06 Q59.1026 1157.85 59.1026 1154.19 L59.1026 1148.17 L64.0042 1148.17 L64.0042 1154.19 Q64.0042 1160.97 61.4897 1163.54 Q58.9434 1166.12 52.2594 1166.12 L32.9077 1166.12 L32.9077 1170.42 L28.3562 1170.42 L28.3562 1166.12 L18.2347 1166.12 L18.2347 1160.23 Z\" fill=\"#000000\" fill-rule=\"evenodd\" fill-opacity=\"1\" /><path clip-path=\"url(#clip180)\" d=\"M44.7161 1109.98 L47.5806 1109.98 L47.5806 1136.9 Q53.6281 1136.52 56.8109 1133.28 Q59.9619 1130 59.9619 1124.17 Q59.9619 1120.8 59.1344 1117.65 Q58.3069 1114.46 56.6518 1111.35 L62.1899 1111.35 Q63.5267 1114.5 64.227 1117.81 Q64.9272 1121.12 64.9272 1124.52 Q64.9272 1133.05 59.9619 1138.05 Q54.9967 1143.02 46.5303 1143.02 Q37.7774 1143.02 32.6531 1138.3 Q27.4968 1133.56 27.4968 1125.54 Q27.4968 1118.35 32.1438 1114.18 Q36.7589 1109.98 44.7161 1109.98 M42.9973 1115.83 Q38.1912 1115.9 35.3266 1118.54 Q32.4621 1121.15 32.4621 1125.48 Q32.4621 1130.38 35.2312 1133.34 Q38.0002 1136.27 43.0292 1136.71 L42.9973 1115.83 Z\" fill=\"#000000\" fill-rule=\"evenodd\" fill-opacity=\"1\" /><path clip-path=\"url(#clip180)\" d=\"M33.7671 1076.91 L14.479 1076.91 L14.479 1071.05 L64.0042 1071.05 L64.0042 1076.91 L58.657 1076.91 Q61.8398 1078.75 63.3994 1081.59 Q64.9272 1084.39 64.9272 1088.33 Q64.9272 1094.79 59.771 1098.87 Q54.6147 1102.91 46.212 1102.91 Q37.8093 1102.91 32.6531 1098.87 Q27.4968 1094.79 27.4968 1088.33 Q27.4968 1084.39 29.0564 1081.59 Q30.5842 1078.75 33.7671 1076.91 M46.212 1096.86 Q52.6732 1096.86 56.3653 1094.22 Q60.0256 1091.55 60.0256 1086.9 Q60.0256 1082.25 56.3653 1079.58 Q52.6732 1076.91 46.212 1076.91 Q39.7508 1076.91 36.0905 1079.58 Q32.3984 1082.25 32.3984 1086.9 Q32.3984 1091.55 36.0905 1094.22 Q39.7508 1096.86 46.212 1096.86 Z\" fill=\"#000000\" fill-rule=\"evenodd\" fill-opacity=\"1\" /><path clip-path=\"url(#clip180)\" d=\"M20.1444 1002.43 L26.9239 1002.43 Q23.9002 1005.67 22.4043 1009.37 Q20.9083 1013.03 20.9083 1017.17 Q20.9083 1025.31 25.9054 1029.64 Q30.8707 1033.97 40.2919 1033.97 Q49.6813 1033.97 54.6784 1029.64 Q59.6436 1025.31 59.6436 1017.17 Q59.6436 1013.03 58.1477 1009.37 Q56.6518 1005.67 53.6281 1002.43 L60.3439 1002.43 Q62.6355 1005.8 63.7814 1009.59 Q64.9272 1013.35 64.9272 1017.55 Q64.9272 1028.34 58.3387 1034.54 Q51.7183 1040.75 40.2919 1040.75 Q28.8336 1040.75 22.2451 1034.54 Q15.6248 1028.34 15.6248 1017.55 Q15.6248 1013.28 16.7706 1009.53 Q17.8846 1005.74 20.1444 1002.43 Z\" fill=\"#000000\" fill-rule=\"evenodd\" fill-opacity=\"1\" /><path clip-path=\"url(#clip180)\" d=\"M41.7242 969.963 Q42.4244 967.894 44.7161 965.953 Q47.0077 963.98 51.0181 962.006 L64.0042 955.481 L64.0042 962.388 L51.8138 968.467 Q47.0395 970.823 45.48 973.051 Q43.9204 975.247 43.9204 979.066 L43.9204 986.069 L64.0042 986.069 L64.0042 992.498 L16.4842 992.498 L16.4842 977.984 Q16.4842 969.836 19.8898 965.826 Q23.2955 961.815 30.1704 961.815 Q34.6582 961.815 37.6183 963.916 Q40.5784 965.985 41.7242 969.963 M21.7677 986.069 L38.6368 986.069 L38.6368 977.984 Q38.6368 973.337 36.5043 970.982 Q34.34 968.595 30.1704 968.595 Q26.0009 968.595 23.9002 970.982 Q21.7677 973.337 21.7677 977.984 L21.7677 986.069 Z\" fill=\"#000000\" fill-rule=\"evenodd\" fill-opacity=\"1\" /><path clip-path=\"url(#clip180)\" d=\"M41.7242 924.671 Q42.4244 922.602 44.7161 920.661 Q47.0077 918.688 51.0181 916.714 L64.0042 910.189 L64.0042 917.096 L51.8138 923.175 Q47.0395 925.531 45.48 927.759 Q43.9204 929.955 43.9204 933.774 L43.9204 940.777 L64.0042 940.777 L64.0042 947.206 L16.4842 947.206 L16.4842 932.692 Q16.4842 924.544 19.8898 920.534 Q23.2955 916.523 30.1704 916.523 Q34.6582 916.523 37.6183 918.624 Q40.5784 920.693 41.7242 924.671 M21.7677 940.777 L38.6368 940.777 L38.6368 932.692 Q38.6368 928.045 36.5043 925.69 Q34.34 923.303 30.1704 923.303 Q26.0009 923.303 23.9002 925.69 Q21.7677 928.045 21.7677 932.692 L21.7677 940.777 Z\" fill=\"#000000\" fill-rule=\"evenodd\" fill-opacity=\"1\" /><path clip-path=\"url(#clip180)\" d=\"M20.8447 861.905 Q20.8447 868.908 26.0645 873.045 Q31.2844 877.151 40.2919 877.151 Q49.2675 877.151 54.4874 873.045 Q59.7073 868.908 59.7073 861.905 Q59.7073 854.903 54.4874 850.829 Q49.2675 846.723 40.2919 846.723 Q31.2844 846.723 26.0645 850.829 Q20.8447 854.903 20.8447 861.905 M15.6248 861.905 Q15.6248 851.911 22.3406 845.928 Q29.0246 839.944 40.2919 839.944 Q51.5274 839.944 58.2432 845.928 Q64.9272 851.911 64.9272 861.905 Q64.9272 871.931 58.2432 877.947 Q51.5592 883.931 40.2919 883.931 Q29.0246 883.931 22.3406 877.947 Q15.6248 871.931 15.6248 861.905 Z\" fill=\"#000000\" fill-rule=\"evenodd\" fill-opacity=\"1\" /><path clip-path=\"url(#clip180)\" d=\"M58.657 824.475 L77.5631 824.475 L77.5631 830.363 L28.3562 830.363 L28.3562 824.475 L33.7671 824.475 Q30.5842 822.629 29.0564 819.828 Q27.4968 816.995 27.4968 813.08 Q27.4968 806.587 32.6531 802.545 Q37.8093 798.471 46.212 798.471 Q54.6147 798.471 59.771 802.545 Q64.9272 806.587 64.9272 813.08 Q64.9272 816.995 63.3994 819.828 Q61.8398 822.629 58.657 824.475 M46.212 804.55 Q39.7508 804.55 36.0905 807.224 Q32.3984 809.866 32.3984 814.513 Q32.3984 819.16 36.0905 821.833 Q39.7508 824.475 46.212 824.475 Q52.6732 824.475 56.3653 821.833 Q60.0256 819.16 60.0256 814.513 Q60.0256 809.866 56.3653 807.224 Q52.6732 804.55 46.212 804.55 Z\" fill=\"#000000\" fill-rule=\"evenodd\" fill-opacity=\"1\" /><path clip-path=\"url(#clip180)\" d=\"M18.2347 782.971 L28.3562 782.971 L28.3562 770.908 L32.9077 770.908 L32.9077 782.971 L52.2594 782.971 Q56.6199 782.971 57.8613 781.793 Q59.1026 780.584 59.1026 776.923 L59.1026 770.908 L64.0042 770.908 L64.0042 776.923 Q64.0042 783.703 61.4897 786.281 Q58.9434 788.859 52.2594 788.859 L32.9077 788.859 L32.9077 793.156 L28.3562 793.156 L28.3562 788.859 L18.2347 788.859 L18.2347 782.971 Z\" fill=\"#000000\" fill-rule=\"evenodd\" fill-opacity=\"1\" /><path clip-path=\"url(#clip180)\" d=\"M28.3562 763.205 L28.3562 757.349 L64.0042 757.349 L64.0042 763.205 L28.3562 763.205 M14.479 763.205 L14.479 757.349 L21.895 757.349 L21.895 763.205 L14.479 763.205 Z\" fill=\"#000000\" fill-rule=\"evenodd\" fill-opacity=\"1\" /><path clip-path=\"url(#clip180)\" d=\"M32.4621 731.281 Q32.4621 735.992 36.1542 738.729 Q39.8145 741.466 46.212 741.466 Q52.6095 741.466 56.3017 738.761 Q59.9619 736.024 59.9619 731.281 Q59.9619 726.602 56.2698 723.865 Q52.5777 721.128 46.212 721.128 Q39.8781 721.128 36.186 723.865 Q32.4621 726.602 32.4621 731.281 M27.4968 731.281 Q27.4968 723.642 32.4621 719.282 Q37.4273 714.921 46.212 714.921 Q54.9649 714.921 59.9619 719.282 Q64.9272 723.642 64.9272 731.281 Q64.9272 738.952 59.9619 743.312 Q54.9649 747.641 46.212 747.641 Q37.4273 747.641 32.4621 743.312 Q27.4968 738.952 27.4968 731.281 Z\" fill=\"#000000\" fill-rule=\"evenodd\" fill-opacity=\"1\" /><path clip-path=\"url(#clip180)\" d=\"M42.4881 675.581 L64.0042 675.581 L64.0042 681.438 L42.679 681.438 Q37.6183 681.438 35.1038 683.411 Q32.5894 685.384 32.5894 689.331 Q32.5894 694.074 35.6131 696.811 Q38.6368 699.548 43.8567 699.548 L64.0042 699.548 L64.0042 705.436 L28.3562 705.436 L28.3562 699.548 L33.8944 699.548 Q30.6797 697.447 29.0883 694.615 Q27.4968 691.75 27.4968 688.026 Q27.4968 681.883 31.3163 678.732 Q35.1038 675.581 42.4881 675.581 Z\" fill=\"#000000\" fill-rule=\"evenodd\" fill-opacity=\"1\" /><path clip-path=\"url(#clip180)\" d=\"M21.7677 636.496 L39.6235 636.496 L39.6235 628.411 Q39.6235 623.924 37.3 621.473 Q34.9765 619.022 30.6797 619.022 Q26.4147 619.022 24.0912 621.473 Q21.7677 623.924 21.7677 628.411 L21.7677 636.496 M16.4842 642.925 L16.4842 628.411 Q16.4842 620.422 20.1126 616.348 Q23.7092 612.242 30.6797 612.242 Q37.7138 612.242 41.3104 616.348 Q44.907 620.422 44.907 628.411 L44.907 636.496 L64.0042 636.496 L64.0042 642.925 L16.4842 642.925 Z\" fill=\"#000000\" fill-rule=\"evenodd\" fill-opacity=\"1\" /><path clip-path=\"url(#clip180)\" d=\"M33.8307 584.361 Q33.2578 585.347 33.0032 586.525 Q32.7167 587.671 32.7167 589.071 Q32.7167 594.037 35.9632 596.71 Q39.1779 599.352 45.2253 599.352 L64.0042 599.352 L64.0042 605.24 L28.3562 605.24 L28.3562 599.352 L33.8944 599.352 Q30.6479 597.506 29.0883 594.546 Q27.4968 591.586 27.4968 587.353 Q27.4968 586.748 27.5923 586.016 Q27.656 585.284 27.8151 584.392 L33.8307 584.361 Z\" fill=\"#000000\" fill-rule=\"evenodd\" fill-opacity=\"1\" /><path clip-path=\"url(#clip180)\" d=\"M28.3562 578.218 L28.3562 572.361 L64.0042 572.361 L64.0042 578.218 L28.3562 578.218 M14.479 578.218 L14.479 572.361 L21.895 572.361 L21.895 578.218 L14.479 578.218 Z\" fill=\"#000000\" fill-rule=\"evenodd\" fill-opacity=\"1\" /><path clip-path=\"url(#clip180)\" d=\"M29.7248 534.453 L35.1993 534.453 Q33.8307 536.936 33.1623 539.451 Q32.4621 541.933 32.4621 544.479 Q32.4621 550.177 36.0905 553.328 Q39.6872 556.479 46.212 556.479 Q52.7369 556.479 56.3653 553.328 Q59.9619 550.177 59.9619 544.479 Q59.9619 541.933 59.2935 539.451 Q58.5933 536.936 57.2247 534.453 L62.6355 534.453 Q63.7814 536.904 64.3543 539.546 Q64.9272 542.156 64.9272 545.116 Q64.9272 553.169 59.8664 557.911 Q54.8057 562.654 46.212 562.654 Q37.491 562.654 32.4939 557.879 Q27.4968 553.073 27.4968 544.734 Q27.4968 542.029 28.0697 539.451 Q28.6108 536.872 29.7248 534.453 Z\" fill=\"#000000\" fill-rule=\"evenodd\" fill-opacity=\"1\" /><path clip-path=\"url(#clip180)\" d=\"M44.7161 493.777 L47.5806 493.777 L47.5806 520.704 Q53.6281 520.322 56.8109 517.075 Q59.9619 513.797 59.9619 507.972 Q59.9619 504.598 59.1344 501.447 Q58.3069 498.264 56.6518 495.145 L62.1899 495.145 Q63.5267 498.296 64.227 501.606 Q64.9272 504.917 64.9272 508.322 Q64.9272 516.852 59.9619 521.849 Q54.9967 526.815 46.5303 526.815 Q37.7774 526.815 32.6531 522.104 Q27.4968 517.362 27.4968 509.341 Q27.4968 502.148 32.1438 497.978 Q36.7589 493.777 44.7161 493.777 M42.9973 499.633 Q38.1912 499.697 35.3266 502.339 Q32.4621 504.948 32.4621 509.277 Q32.4621 514.179 35.2312 517.139 Q38.0002 520.067 43.0292 520.513 L42.9973 499.633 Z\" fill=\"#000000\" fill-rule=\"evenodd\" fill-opacity=\"1\" /><path clip-path=\"url(#clip180)\" d=\"M14.5426 449.376 Q21.8632 453.641 29.0246 455.71 Q36.186 457.779 43.5384 457.779 Q50.8908 457.779 58.1159 455.71 Q65.3091 453.609 72.5979 449.376 L72.5979 454.468 Q65.1182 459.243 57.8931 461.63 Q50.668 463.985 43.5384 463.985 Q36.4406 463.985 29.2474 461.63 Q22.0542 459.275 14.5426 454.468 L14.5426 449.376 Z\" fill=\"#000000\" fill-rule=\"evenodd\" fill-opacity=\"1\" /><path clip-path=\"url(#clip180)\" d=\"M16.4842 438.49 L16.4842 432.029 L45.3526 432.029 Q52.9915 432.029 56.3653 429.26 Q59.7073 426.491 59.7073 420.285 Q59.7073 414.11 56.3653 411.341 Q52.9915 408.572 45.3526 408.572 L16.4842 408.572 L16.4842 402.11 L46.1484 402.11 Q55.4423 402.11 60.1847 406.726 Q64.9272 411.309 64.9272 420.285 Q64.9272 429.292 60.1847 433.907 Q55.4423 438.49 46.1484 438.49 L16.4842 438.49 Z\" fill=\"#000000\" fill-rule=\"evenodd\" fill-opacity=\"1\" /><path clip-path=\"url(#clip180)\" d=\"M18.0438 361.561 L24.314 361.561 Q22.5634 365.221 21.704 368.468 Q20.8447 371.714 20.8447 374.738 Q20.8447 379.99 22.8817 382.854 Q24.9187 385.687 28.6745 385.687 Q31.8255 385.687 33.4488 383.809 Q35.0402 381.899 36.0269 376.616 L36.8226 372.733 Q38.1912 365.539 41.6605 362.134 Q45.098 358.696 50.8908 358.696 Q57.7976 358.696 61.3624 363.343 Q64.9272 367.958 64.9272 376.902 Q64.9272 380.276 64.1633 384.096 Q63.3994 387.883 61.9035 391.957 L55.2831 391.957 Q57.4793 388.042 58.5933 384.286 Q59.7073 380.531 59.7073 376.902 Q59.7073 371.396 57.543 368.404 Q55.3786 365.412 51.3682 365.412 Q47.8671 365.412 45.8937 367.576 Q43.9204 369.709 42.9337 374.611 L42.1698 378.526 Q40.7375 385.719 37.682 388.933 Q34.6264 392.148 29.1837 392.148 Q22.8817 392.148 19.2532 387.724 Q15.6248 383.268 15.6248 375.47 Q15.6248 372.128 16.2295 368.659 Q16.8343 365.189 18.0438 361.561 Z\" fill=\"#000000\" fill-rule=\"evenodd\" fill-opacity=\"1\" /><path clip-path=\"url(#clip180)\" d=\"M21.7677 342.241 L58.7206 342.241 L58.7206 334.475 Q58.7206 324.64 54.2646 320.088 Q49.8086 315.505 40.1964 315.505 Q30.6479 315.505 26.2237 320.088 Q21.7677 324.64 21.7677 334.475 L21.7677 342.241 M16.4842 348.67 L16.4842 335.462 Q16.4842 321.648 22.2451 315.187 Q27.9743 308.726 40.1964 308.726 Q52.4822 308.726 58.2432 315.219 Q64.0042 321.712 64.0042 335.462 L64.0042 348.67 L16.4842 348.67 Z\" fill=\"#000000\" fill-rule=\"evenodd\" fill-opacity=\"1\" /><path clip-path=\"url(#clip180)\" d=\"M16.4842 288.323 L16.4842 282.913 L70.0516 299.463 L70.0516 304.874 L16.4842 288.323 Z\" fill=\"#000000\" fill-rule=\"evenodd\" fill-opacity=\"1\" /><path clip-path=\"url(#clip180)\" d=\"M29.4065 254.044 L34.9447 254.044 Q33.6716 256.527 33.035 259.2 Q32.3984 261.874 32.3984 264.739 Q32.3984 269.099 33.7352 271.295 Q35.072 273.46 37.7456 273.46 Q39.7826 273.46 40.9603 271.9 Q42.1061 270.34 43.1565 265.63 L43.6021 263.625 Q44.9389 257.386 47.3897 254.776 Q49.8086 252.134 54.1691 252.134 Q59.1344 252.134 62.0308 256.081 Q64.9272 259.996 64.9272 266.871 Q64.9272 269.736 64.3543 272.855 Q63.8132 275.942 62.6992 279.38 L56.6518 279.38 Q58.3387 276.133 59.198 272.982 Q60.0256 269.831 60.0256 266.744 Q60.0256 262.606 58.6251 260.378 Q57.1929 258.15 54.6147 258.15 Q52.2276 258.15 50.9545 259.773 Q49.6813 261.365 48.5037 266.807 L48.0262 268.844 Q46.8804 274.287 44.5251 276.706 Q42.138 279.125 38.0002 279.125 Q32.9713 279.125 30.2341 275.56 Q27.4968 271.995 27.4968 265.439 Q27.4968 262.192 27.9743 259.328 Q28.4517 256.463 29.4065 254.044 Z\" fill=\"#000000\" fill-rule=\"evenodd\" fill-opacity=\"1\" /><path clip-path=\"url(#clip180)\" d=\"M42.4881 213.176 L64.0042 213.176 L64.0042 219.033 L42.679 219.033 Q37.6183 219.033 35.1038 221.006 Q32.5894 222.979 32.5894 226.926 Q32.5894 231.669 35.6131 234.406 Q38.6368 237.143 43.8567 237.143 L64.0042 237.143 L64.0042 243.031 L14.479 243.031 L14.479 237.143 L33.8944 237.143 Q30.6797 235.042 29.0883 232.21 Q27.4968 229.345 27.4968 225.621 Q27.4968 219.478 31.3163 216.327 Q35.1038 213.176 42.4881 213.176 Z\" fill=\"#000000\" fill-rule=\"evenodd\" fill-opacity=\"1\" /><path clip-path=\"url(#clip180)\" d=\"M46.0847 185.294 Q46.0847 192.392 47.7079 195.13 Q49.3312 197.867 53.2461 197.867 Q56.3653 197.867 58.2114 195.83 Q60.0256 193.761 60.0256 190.228 Q60.0256 185.358 56.5881 182.43 Q53.1188 179.47 47.3897 179.47 L46.0847 179.47 L46.0847 185.294 M43.6657 173.613 L64.0042 173.613 L64.0042 179.47 L58.5933 179.47 Q61.8398 181.475 63.3994 184.467 Q64.9272 187.459 64.9272 191.788 Q64.9272 197.262 61.8716 200.509 Q58.7843 203.723 53.6281 203.723 Q47.6125 203.723 44.5569 199.713 Q41.5014 195.671 41.5014 187.682 L41.5014 179.47 L40.9285 179.47 Q36.8862 179.47 34.6901 182.143 Q32.4621 184.785 32.4621 189.591 Q32.4621 192.647 33.1941 195.543 Q33.9262 198.44 35.3903 201.113 L29.9795 201.113 Q28.7381 197.899 28.1334 194.875 Q27.4968 191.851 27.4968 188.987 Q27.4968 181.252 31.5072 177.433 Q35.5176 173.613 43.6657 173.613 Z\" fill=\"#000000\" fill-rule=\"evenodd\" fill-opacity=\"1\" /><path clip-path=\"url(#clip180)\" d=\"M33.8307 140.894 Q33.2578 141.88 33.0032 143.058 Q32.7167 144.204 32.7167 145.604 Q32.7167 150.57 35.9632 153.243 Q39.1779 155.885 45.2253 155.885 L64.0042 155.885 L64.0042 161.773 L28.3562 161.773 L28.3562 155.885 L33.8944 155.885 Q30.6479 154.039 29.0883 151.079 Q27.4968 148.119 27.4968 143.886 Q27.4968 143.281 27.5923 142.549 Q27.656 141.817 27.8151 140.926 L33.8307 140.894 Z\" fill=\"#000000\" fill-rule=\"evenodd\" fill-opacity=\"1\" /><path clip-path=\"url(#clip180)\" d=\"M44.7161 105.691 L47.5806 105.691 L47.5806 132.618 Q53.6281 132.236 56.8109 128.99 Q59.9619 125.711 59.9619 119.887 Q59.9619 116.513 59.1344 113.362 Q58.3069 110.179 56.6518 107.06 L62.1899 107.06 Q63.5267 110.211 64.227 113.521 Q64.9272 116.831 64.9272 120.237 Q64.9272 128.767 59.9619 133.764 Q54.9967 138.729 46.5303 138.729 Q37.7774 138.729 32.6531 134.019 Q27.4968 129.276 27.4968 121.255 Q27.4968 114.062 32.1438 109.893 Q36.7589 105.691 44.7161 105.691 M42.9973 111.548 Q38.1912 111.611 35.3266 114.253 Q32.4621 116.863 32.4621 121.192 Q32.4621 126.093 35.2312 129.053 Q38.0002 131.982 43.0292 132.427 L42.9973 111.548 Z\" fill=\"#000000\" fill-rule=\"evenodd\" fill-opacity=\"1\" /><path clip-path=\"url(#clip180)\" d=\"M14.5426 97.0021 L14.5426 91.9096 Q22.0542 87.1353 29.2474 84.78 Q36.4406 82.3928 43.5384 82.3928 Q50.668 82.3928 57.8931 84.78 Q65.1182 87.1353 72.5979 91.9096 L72.5979 97.0021 Q65.3091 92.7689 58.1159 90.7001 Q50.8908 88.5994 43.5384 88.5994 Q36.186 88.5994 29.0246 90.7001 Q21.8632 92.7689 14.5426 97.0021 Z\" fill=\"#000000\" fill-rule=\"evenodd\" fill-opacity=\"1\" /><polyline clip-path=\"url(#clip182)\" style=\"stroke:#000000; stroke-linecap:round; stroke-linejoin:round; stroke-width:8; stroke-opacity:1; fill:none\" stroke-dasharray=\"32, 20\" points=\"\n",
       "  265.903,1384.24 392.533,1384.24 519.162,1384.24 645.791,1384.24 772.421,1384.24 899.05,1384.24 1025.68,1384.24 1152.31,1327.45 1278.94,1190.93 1405.57,1054.42 \n",
       "  1532.2,917.907 1658.83,781.393 1785.46,644.879 1912.09,508.365 2038.71,371.851 2165.34,235.337 2291.97,98.8228 \n",
       "  \"/>\n",
       "<circle clip-path=\"url(#clip182)\" cx=\"265.903\" cy=\"1384.24\" r=\"14.4\" fill=\"#000000\" fill-rule=\"evenodd\" fill-opacity=\"1\" stroke=\"none\"/>\n",
       "<circle clip-path=\"url(#clip182)\" cx=\"392.533\" cy=\"1384.24\" r=\"14.4\" fill=\"#000000\" fill-rule=\"evenodd\" fill-opacity=\"1\" stroke=\"none\"/>\n",
       "<circle clip-path=\"url(#clip182)\" cx=\"519.162\" cy=\"1384.24\" r=\"14.4\" fill=\"#000000\" fill-rule=\"evenodd\" fill-opacity=\"1\" stroke=\"none\"/>\n",
       "<circle clip-path=\"url(#clip182)\" cx=\"645.791\" cy=\"1384.24\" r=\"14.4\" fill=\"#000000\" fill-rule=\"evenodd\" fill-opacity=\"1\" stroke=\"none\"/>\n",
       "<circle clip-path=\"url(#clip182)\" cx=\"772.421\" cy=\"1384.24\" r=\"14.4\" fill=\"#000000\" fill-rule=\"evenodd\" fill-opacity=\"1\" stroke=\"none\"/>\n",
       "<circle clip-path=\"url(#clip182)\" cx=\"899.05\" cy=\"1384.24\" r=\"14.4\" fill=\"#000000\" fill-rule=\"evenodd\" fill-opacity=\"1\" stroke=\"none\"/>\n",
       "<circle clip-path=\"url(#clip182)\" cx=\"1025.68\" cy=\"1384.24\" r=\"14.4\" fill=\"#000000\" fill-rule=\"evenodd\" fill-opacity=\"1\" stroke=\"none\"/>\n",
       "<circle clip-path=\"url(#clip182)\" cx=\"1152.31\" cy=\"1327.45\" r=\"14.4\" fill=\"#000000\" fill-rule=\"evenodd\" fill-opacity=\"1\" stroke=\"none\"/>\n",
       "<circle clip-path=\"url(#clip182)\" cx=\"1278.94\" cy=\"1190.93\" r=\"14.4\" fill=\"#000000\" fill-rule=\"evenodd\" fill-opacity=\"1\" stroke=\"none\"/>\n",
       "<circle clip-path=\"url(#clip182)\" cx=\"1405.57\" cy=\"1054.42\" r=\"14.4\" fill=\"#000000\" fill-rule=\"evenodd\" fill-opacity=\"1\" stroke=\"none\"/>\n",
       "<circle clip-path=\"url(#clip182)\" cx=\"1532.2\" cy=\"917.907\" r=\"14.4\" fill=\"#000000\" fill-rule=\"evenodd\" fill-opacity=\"1\" stroke=\"none\"/>\n",
       "<circle clip-path=\"url(#clip182)\" cx=\"1658.83\" cy=\"781.393\" r=\"14.4\" fill=\"#000000\" fill-rule=\"evenodd\" fill-opacity=\"1\" stroke=\"none\"/>\n",
       "<circle clip-path=\"url(#clip182)\" cx=\"1785.46\" cy=\"644.879\" r=\"14.4\" fill=\"#000000\" fill-rule=\"evenodd\" fill-opacity=\"1\" stroke=\"none\"/>\n",
       "<circle clip-path=\"url(#clip182)\" cx=\"1912.09\" cy=\"508.365\" r=\"14.4\" fill=\"#000000\" fill-rule=\"evenodd\" fill-opacity=\"1\" stroke=\"none\"/>\n",
       "<circle clip-path=\"url(#clip182)\" cx=\"2038.71\" cy=\"371.851\" r=\"14.4\" fill=\"#000000\" fill-rule=\"evenodd\" fill-opacity=\"1\" stroke=\"none\"/>\n",
       "<circle clip-path=\"url(#clip182)\" cx=\"2165.34\" cy=\"235.337\" r=\"14.4\" fill=\"#000000\" fill-rule=\"evenodd\" fill-opacity=\"1\" stroke=\"none\"/>\n",
       "<circle clip-path=\"url(#clip182)\" cx=\"2291.97\" cy=\"98.8228\" r=\"14.4\" fill=\"#000000\" fill-rule=\"evenodd\" fill-opacity=\"1\" stroke=\"none\"/>\n",
       "<polyline clip-path=\"url(#clip182)\" style=\"stroke:#6eb43f; stroke-linecap:round; stroke-linejoin:round; stroke-width:8; stroke-opacity:1; fill:none\" points=\"\n",
       "  265.903,1384.24 392.533,1384.23 519.162,1384.21 645.791,1384.02 772.421,1382.71 899.05,1375.4 1025.68,1348.84 1152.31,1285.63 1278.94,1181.79 1405.57,1053.59 \n",
       "  1532.2,917.907 1658.83,781.393 1785.46,644.879 1912.09,508.365 2038.71,371.851 2165.34,235.337 2291.97,98.8228 \n",
       "  \"/>\n",
       "<polyline clip-path=\"url(#clip182)\" style=\"stroke:#ef4035; stroke-linecap:round; stroke-linejoin:round; stroke-width:8; stroke-opacity:1; fill:none\" points=\"\n",
       "  265.903,1383.24 392.533,1382.16 519.162,1380.33 645.791,1375.76 772.421,1365.39 899.05,1343.2 1025.68,1303.18 1152.31,1240.17 1278.94,1150.41 1405.57,1038.26 \n",
       "  1532.2,913.851 1658.83,780.125 1785.46,642.182 1912.09,501.767 2038.71,371.523 2165.34,227.682 2291.97,89.6162 \n",
       "  \"/>\n",
       "<polyline clip-path=\"url(#clip182)\" style=\"stroke:#0068ac; stroke-linecap:round; stroke-linejoin:round; stroke-width:8; stroke-opacity:1; fill:none\" points=\"\n",
       "  265.903,1381.41 392.533,1379.09 519.162,1373.94 645.791,1363.67 772.421,1345.51 899.05,1316.69 1025.68,1271.32 1152.31,1207.61 1278.94,1123 1405.57,1019.33 \n",
       "  1532.2,903.138 1658.83,775.018 1785.46,639.069 1912.09,506.084 2038.71,364.469 2165.34,225.963 2291.97,86.1857 \n",
       "  \"/>\n",
       "<path clip-path=\"url(#clip180)\" d=\"\n",
       "M276.709 352.309 L933.064 352.309 L933.064 93.1086 L276.709 93.1086  Z\n",
       "  \" fill=\"#fffaf0\" fill-rule=\"evenodd\" fill-opacity=\"1\"/>\n",
       "<polyline clip-path=\"url(#clip180)\" style=\"stroke:#000000; stroke-linecap:round; stroke-linejoin:round; stroke-width:4; stroke-opacity:0; fill:none\" points=\"\n",
       "  276.709,352.309 933.064,352.309 933.064,93.1086 276.709,93.1086 276.709,352.309 \n",
       "  \"/>\n",
       "<polyline clip-path=\"url(#clip180)\" style=\"stroke:#000000; stroke-linecap:round; stroke-linejoin:round; stroke-width:4; stroke-opacity:1; fill:none\" stroke-dasharray=\"16, 10\" points=\"\n",
       "  300.571,144.949 443.747,144.949 \n",
       "  \"/>\n",
       "<path clip-path=\"url(#clip180)\" d=\"M467.61 127.669 L472.286 127.669 L472.286 162.229 L467.61 162.229 L467.61 127.669 Z\" fill=\"#000000\" fill-rule=\"evenodd\" fill-opacity=\"1\" /><path clip-path=\"url(#clip180)\" d=\"M502.957 146.581 L502.957 162.229 L498.697 162.229 L498.697 146.719 Q498.697 143.039 497.262 141.21 Q495.827 139.382 492.957 139.382 Q489.508 139.382 487.517 141.581 Q485.526 143.78 485.526 147.576 L485.526 162.229 L481.244 162.229 L481.244 136.303 L485.526 136.303 L485.526 140.331 Q487.054 137.993 489.114 136.835 Q491.198 135.678 493.906 135.678 Q498.373 135.678 500.665 138.456 Q502.957 141.21 502.957 146.581 Z\" fill=\"#000000\" fill-rule=\"evenodd\" fill-opacity=\"1\" /><path clip-path=\"url(#clip180)\" d=\"M515.665 128.942 L515.665 136.303 L524.438 136.303 L524.438 139.613 L515.665 139.613 L515.665 153.687 Q515.665 156.858 516.521 157.761 Q517.401 158.664 520.063 158.664 L524.438 158.664 L524.438 162.229 L520.063 162.229 Q515.133 162.229 513.258 160.4 Q511.383 158.548 511.383 153.687 L511.383 139.613 L508.258 139.613 L508.258 136.303 L511.383 136.303 L511.383 128.942 L515.665 128.942 Z\" fill=\"#000000\" fill-rule=\"evenodd\" fill-opacity=\"1\" /><path clip-path=\"url(#clip180)\" d=\"M545.063 140.284 Q544.345 139.868 543.489 139.682 Q542.656 139.474 541.637 139.474 Q538.026 139.474 536.082 141.835 Q534.16 144.173 534.16 148.571 L534.16 162.229 L529.878 162.229 L529.878 136.303 L534.16 136.303 L534.16 140.331 Q535.503 137.969 537.656 136.835 Q539.808 135.678 542.887 135.678 Q543.327 135.678 543.859 135.747 Q544.392 135.794 545.04 135.909 L545.063 140.284 Z\" fill=\"#000000\" fill-rule=\"evenodd\" fill-opacity=\"1\" /><path clip-path=\"url(#clip180)\" d=\"M549.531 136.303 L553.79 136.303 L553.79 162.229 L549.531 162.229 L549.531 136.303 M549.531 126.21 L553.79 126.21 L553.79 131.604 L549.531 131.604 L549.531 126.21 Z\" fill=\"#000000\" fill-rule=\"evenodd\" fill-opacity=\"1\" /><path clip-path=\"url(#clip180)\" d=\"M584.253 146.581 L584.253 162.229 L579.993 162.229 L579.993 146.719 Q579.993 143.039 578.558 141.21 Q577.123 139.382 574.253 139.382 Q570.804 139.382 568.813 141.581 Q566.822 143.78 566.822 147.576 L566.822 162.229 L562.54 162.229 L562.54 136.303 L566.822 136.303 L566.822 140.331 Q568.35 137.993 570.41 136.835 Q572.493 135.678 575.202 135.678 Q579.669 135.678 581.961 138.456 Q584.253 141.21 584.253 146.581 Z\" fill=\"#000000\" fill-rule=\"evenodd\" fill-opacity=\"1\" /><path clip-path=\"url(#clip180)\" d=\"M609.276 137.067 L609.276 141.094 Q607.47 140.169 605.526 139.706 Q603.581 139.243 601.498 139.243 Q598.327 139.243 596.729 140.215 Q595.155 141.187 595.155 143.131 Q595.155 144.613 596.29 145.469 Q597.424 146.303 600.85 147.067 L602.308 147.391 Q606.845 148.363 608.743 150.145 Q610.664 151.905 610.664 155.076 Q610.664 158.687 607.794 160.793 Q604.947 162.9 599.947 162.9 Q597.864 162.9 595.595 162.483 Q593.35 162.09 590.85 161.28 L590.85 156.881 Q593.211 158.108 595.503 158.733 Q597.794 159.335 600.04 159.335 Q603.049 159.335 604.669 158.317 Q606.29 157.275 606.29 155.4 Q606.29 153.664 605.109 152.738 Q603.952 151.812 599.993 150.956 L598.512 150.608 Q594.553 149.775 592.794 148.062 Q591.035 146.326 591.035 143.317 Q591.035 139.659 593.628 137.669 Q596.22 135.678 600.989 135.678 Q603.35 135.678 605.433 136.025 Q607.516 136.372 609.276 137.067 Z\" fill=\"#000000\" fill-rule=\"evenodd\" fill-opacity=\"1\" /><path clip-path=\"url(#clip180)\" d=\"M617.447 136.303 L621.706 136.303 L621.706 162.229 L617.447 162.229 L617.447 136.303 M617.447 126.21 L621.706 126.21 L621.706 131.604 L617.447 131.604 L617.447 126.21 Z\" fill=\"#000000\" fill-rule=\"evenodd\" fill-opacity=\"1\" /><path clip-path=\"url(#clip180)\" d=\"M649.275 137.298 L649.275 141.28 Q647.47 140.284 645.641 139.798 Q643.836 139.289 641.984 139.289 Q637.84 139.289 635.549 141.928 Q633.257 144.544 633.257 149.289 Q633.257 154.034 635.549 156.673 Q637.84 159.289 641.984 159.289 Q643.836 159.289 645.641 158.803 Q647.47 158.293 649.275 157.298 L649.275 161.233 Q647.493 162.067 645.572 162.483 Q643.674 162.9 641.521 162.9 Q635.664 162.9 632.215 159.219 Q628.766 155.539 628.766 149.289 Q628.766 142.946 632.238 139.312 Q635.734 135.678 641.799 135.678 Q643.766 135.678 645.641 136.095 Q647.516 136.488 649.275 137.298 Z\" fill=\"#000000\" fill-rule=\"evenodd\" fill-opacity=\"1\" /><polyline clip-path=\"url(#clip180)\" style=\"stroke:#6eb43f; stroke-linecap:round; stroke-linejoin:round; stroke-width:4; stroke-opacity:1; fill:none\" points=\"\n",
       "  300.571,196.789 443.747,196.789 \n",
       "  \"/>\n",
       "<path clip-path=\"url(#clip180)\" d=\"M468.281 210.133 L475.92 210.133 L475.92 183.768 L467.61 185.435 L467.61 181.175 L475.874 179.509 L480.549 179.509 L480.549 210.133 L488.188 210.133 L488.188 214.069 L468.281 214.069 L468.281 210.133 Z\" fill=\"#000000\" fill-rule=\"evenodd\" fill-opacity=\"1\" /><path clip-path=\"url(#clip180)\" d=\"M507.633 182.587 Q504.022 182.587 502.193 186.152 Q500.387 189.694 500.387 196.823 Q500.387 203.93 502.193 207.495 Q504.022 211.036 507.633 211.036 Q511.267 211.036 513.072 207.495 Q514.901 203.93 514.901 196.823 Q514.901 189.694 513.072 186.152 Q511.267 182.587 507.633 182.587 M507.633 178.884 Q513.443 178.884 516.498 183.49 Q519.577 188.073 519.577 196.823 Q519.577 205.55 516.498 210.157 Q513.443 214.74 507.633 214.74 Q501.822 214.74 498.744 210.157 Q495.688 205.55 495.688 196.823 Q495.688 188.073 498.744 183.49 Q501.822 178.884 507.633 178.884 Z\" fill=\"#000000\" fill-rule=\"evenodd\" fill-opacity=\"1\" /><path clip-path=\"url(#clip180)\" d=\"M547.123 183.351 L547.123 210.226 L552.771 210.226 Q559.924 210.226 563.234 206.985 Q566.567 203.745 566.567 196.754 Q566.567 189.809 563.234 186.592 Q559.924 183.351 552.771 183.351 L547.123 183.351 M542.447 179.509 L552.054 179.509 Q562.1 179.509 566.799 183.698 Q571.498 187.865 571.498 196.754 Q571.498 205.689 566.776 209.879 Q562.054 214.069 552.054 214.069 L542.447 214.069 L542.447 179.509 Z\" fill=\"#000000\" fill-rule=\"evenodd\" fill-opacity=\"1\" /><path clip-path=\"url(#clip180)\" d=\"M574.16 179.509 L603.396 179.509 L603.396 183.444 L591.128 183.444 L591.128 214.069 L586.428 214.069 L586.428 183.444 L574.16 183.444 L574.16 179.509 Z\" fill=\"#000000\" fill-rule=\"evenodd\" fill-opacity=\"1\" /><path clip-path=\"url(#clip180)\" d=\"M607.91 179.509 L629.762 179.509 L629.762 183.444 L612.586 183.444 L612.586 193.675 L629.044 193.675 L629.044 197.61 L612.586 197.61 L612.586 210.133 L630.178 210.133 L630.178 214.069 L607.91 214.069 L607.91 179.509 Z\" fill=\"#000000\" fill-rule=\"evenodd\" fill-opacity=\"1\" /><path clip-path=\"url(#clip180)\" d=\"M673.65 180.643 L673.65 185.203 Q670.988 183.93 668.627 183.305 Q666.266 182.68 664.067 182.68 Q660.248 182.68 658.164 184.161 Q656.104 185.643 656.104 188.374 Q656.104 190.666 657.47 191.847 Q658.859 193.004 662.701 193.722 L665.525 194.3 Q670.757 195.296 673.234 197.819 Q675.734 200.319 675.734 204.532 Q675.734 209.555 672.354 212.147 Q668.997 214.74 662.493 214.74 Q660.039 214.74 657.261 214.184 Q654.507 213.629 651.544 212.541 L651.544 207.726 Q654.391 209.323 657.123 210.133 Q659.854 210.944 662.493 210.944 Q666.498 210.944 668.673 209.37 Q670.849 207.796 670.849 204.879 Q670.849 202.333 669.275 200.897 Q667.724 199.462 664.16 198.745 L661.312 198.189 Q656.081 197.147 653.743 194.925 Q651.405 192.703 651.405 188.745 Q651.405 184.161 654.623 181.522 Q657.863 178.884 663.535 178.884 Q665.965 178.884 668.488 179.323 Q671.011 179.763 673.65 180.643 Z\" fill=\"#000000\" fill-rule=\"evenodd\" fill-opacity=\"1\" /><path clip-path=\"url(#clip180)\" d=\"M687.516 201.221 Q685.363 201.221 684.09 202.726 Q682.84 204.208 682.84 206.823 Q682.84 209.439 684.09 210.944 Q685.34 212.425 687.516 212.425 Q689.669 212.425 690.919 210.92 Q692.169 209.416 692.169 206.823 Q692.169 204.254 690.919 202.749 Q689.669 201.221 687.516 201.221 M687.516 199.208 Q691.011 199.208 693.002 201.221 Q695.016 203.235 695.016 206.823 Q695.016 210.388 693.002 212.425 Q691.011 214.439 687.516 214.439 Q683.997 214.439 682.007 212.425 Q680.016 210.388 680.016 206.823 Q680.016 203.235 682.007 201.221 Q683.997 199.208 687.516 199.208 Z\" fill=\"#000000\" fill-rule=\"evenodd\" fill-opacity=\"1\" /><path clip-path=\"url(#clip180)\" d=\"M703.002 192.541 L732.678 192.541 L732.678 196.43 L703.002 196.43 L703.002 192.541 M703.002 201.985 L732.678 201.985 L732.678 205.921 L703.002 205.921 L703.002 201.985 Z\" fill=\"#000000\" fill-rule=\"evenodd\" fill-opacity=\"1\" /><path clip-path=\"url(#clip180)\" d=\"M757.886 179.509 L776.242 179.509 L776.242 183.444 L762.168 183.444 L762.168 191.916 Q763.187 191.569 764.205 191.407 Q765.224 191.222 766.242 191.222 Q772.029 191.222 775.409 194.393 Q778.789 197.564 778.789 202.981 Q778.789 208.559 775.316 211.661 Q771.844 214.74 765.525 214.74 Q763.349 214.74 761.08 214.37 Q758.835 213.999 756.428 213.258 L756.428 208.559 Q758.511 209.694 760.733 210.249 Q762.955 210.805 765.432 210.805 Q769.437 210.805 771.775 208.698 Q774.113 206.592 774.113 202.981 Q774.113 199.37 771.775 197.263 Q769.437 195.157 765.432 195.157 Q763.557 195.157 761.682 195.573 Q759.83 195.99 757.886 196.87 L757.886 179.509 Z\" fill=\"#000000\" fill-rule=\"evenodd\" fill-opacity=\"1\" /><path clip-path=\"url(#clip180)\" d=\"M786.821 179.509 L809.043 179.509 L809.043 181.499 L796.497 214.069 L791.613 214.069 L803.418 183.444 L786.821 183.444 L786.821 179.509 Z\" fill=\"#000000\" fill-rule=\"evenodd\" fill-opacity=\"1\" /><path clip-path=\"url(#clip180)\" d=\"M818.163 208.189 L823.048 208.189 L823.048 214.069 L818.163 214.069 L818.163 208.189 Z\" fill=\"#000000\" fill-rule=\"evenodd\" fill-opacity=\"1\" /><path clip-path=\"url(#clip180)\" d=\"M833.372 213.351 L833.372 209.092 Q835.131 209.925 836.936 210.365 Q838.742 210.805 840.478 210.805 Q845.108 210.805 847.538 207.703 Q849.992 204.578 850.339 198.235 Q848.997 200.226 846.936 201.291 Q844.876 202.356 842.376 202.356 Q837.191 202.356 834.159 199.231 Q831.149 196.083 831.149 190.643 Q831.149 185.319 834.298 182.101 Q837.446 178.884 842.677 178.884 Q848.672 178.884 851.821 183.49 Q854.992 188.073 854.992 196.823 Q854.992 204.995 851.103 209.879 Q847.237 214.74 840.686 214.74 Q838.927 214.74 837.122 214.393 Q835.316 214.045 833.372 213.351 M842.677 198.698 Q845.825 198.698 847.654 196.546 Q849.506 194.393 849.506 190.643 Q849.506 186.916 847.654 184.763 Q845.825 182.587 842.677 182.587 Q839.529 182.587 837.677 184.763 Q835.848 186.916 835.848 190.643 Q835.848 194.393 837.677 196.546 Q839.529 198.698 842.677 198.698 Z\" fill=\"#000000\" fill-rule=\"evenodd\" fill-opacity=\"1\" /><path clip-path=\"url(#clip180)\" d=\"M867.422 210.133 L883.742 210.133 L883.742 214.069 L861.797 214.069 L861.797 210.133 Q864.459 207.379 869.043 202.749 Q873.649 198.096 874.83 196.754 Q877.075 194.231 877.955 192.495 Q878.857 190.735 878.857 189.046 Q878.857 186.291 876.913 184.555 Q874.992 182.819 871.89 182.819 Q869.691 182.819 867.237 183.583 Q864.807 184.347 862.029 185.897 L862.029 181.175 Q864.853 180.041 867.307 179.462 Q869.76 178.884 871.797 178.884 Q877.168 178.884 880.362 181.569 Q883.557 184.254 883.557 188.745 Q883.557 190.874 882.746 192.796 Q881.959 194.694 879.853 197.286 Q879.274 197.958 876.172 201.175 Q873.07 204.37 867.422 210.133 Z\" fill=\"#000000\" fill-rule=\"evenodd\" fill-opacity=\"1\" /><polyline clip-path=\"url(#clip180)\" style=\"stroke:#ef4035; stroke-linecap:round; stroke-linejoin:round; stroke-width:4; stroke-opacity:1; fill:none\" points=\"\n",
       "  300.571,248.629 443.747,248.629 \n",
       "  \"/>\n",
       "<path clip-path=\"url(#clip180)\" d=\"M483.235 247.274 Q486.591 247.992 488.466 250.261 Q490.364 252.529 490.364 255.862 Q490.364 260.978 486.846 263.779 Q483.327 266.58 476.846 266.58 Q474.67 266.58 472.355 266.14 Q470.063 265.723 467.61 264.867 L467.61 260.353 Q469.554 261.487 471.869 262.066 Q474.184 262.645 476.707 262.645 Q481.105 262.645 483.397 260.909 Q485.711 259.173 485.711 255.862 Q485.711 252.807 483.559 251.094 Q481.429 249.358 477.61 249.358 L473.582 249.358 L473.582 245.515 L477.795 245.515 Q481.244 245.515 483.073 244.149 Q484.901 242.761 484.901 240.168 Q484.901 237.506 483.003 236.094 Q481.128 234.659 477.61 234.659 Q475.688 234.659 473.489 235.075 Q471.29 235.492 468.651 236.372 L468.651 232.205 Q471.313 231.464 473.628 231.094 Q475.966 230.724 478.026 230.724 Q483.35 230.724 486.452 233.154 Q489.554 235.562 489.554 239.682 Q489.554 242.552 487.911 244.543 Q486.267 246.511 483.235 247.274 Z\" fill=\"#000000\" fill-rule=\"evenodd\" fill-opacity=\"1\" /><path clip-path=\"url(#clip180)\" d=\"M509.23 234.427 Q505.619 234.427 503.79 237.992 Q501.985 241.534 501.985 248.663 Q501.985 255.77 503.79 259.335 Q505.619 262.876 509.23 262.876 Q512.864 262.876 514.67 259.335 Q516.498 255.77 516.498 248.663 Q516.498 241.534 514.67 237.992 Q512.864 234.427 509.23 234.427 M509.23 230.724 Q515.04 230.724 518.096 235.33 Q521.174 239.913 521.174 248.663 Q521.174 257.39 518.096 261.997 Q515.04 266.58 509.23 266.58 Q503.42 266.58 500.341 261.997 Q497.285 257.39 497.285 248.663 Q497.285 239.913 500.341 235.33 Q503.42 230.724 509.23 230.724 Z\" fill=\"#000000\" fill-rule=\"evenodd\" fill-opacity=\"1\" /><path clip-path=\"url(#clip180)\" d=\"M548.72 235.191 L548.72 262.066 L554.368 262.066 Q561.521 262.066 564.831 258.825 Q568.165 255.585 568.165 248.594 Q568.165 241.649 564.831 238.432 Q561.521 235.191 554.368 235.191 L548.72 235.191 M544.044 231.349 L553.651 231.349 Q563.697 231.349 568.396 235.538 Q573.095 239.705 573.095 248.594 Q573.095 257.529 568.373 261.719 Q563.651 265.909 553.651 265.909 L544.044 265.909 L544.044 231.349 Z\" fill=\"#000000\" fill-rule=\"evenodd\" fill-opacity=\"1\" /><path clip-path=\"url(#clip180)\" d=\"M575.757 231.349 L604.993 231.349 L604.993 235.284 L592.725 235.284 L592.725 265.909 L588.026 265.909 L588.026 235.284 L575.757 235.284 L575.757 231.349 Z\" fill=\"#000000\" fill-rule=\"evenodd\" fill-opacity=\"1\" /><path clip-path=\"url(#clip180)\" d=\"M609.507 231.349 L631.359 231.349 L631.359 235.284 L614.183 235.284 L614.183 245.515 L630.641 245.515 L630.641 249.45 L614.183 249.45 L614.183 261.973 L631.775 261.973 L631.775 265.909 L609.507 265.909 L609.507 231.349 Z\" fill=\"#000000\" fill-rule=\"evenodd\" fill-opacity=\"1\" /><path clip-path=\"url(#clip180)\" d=\"M675.247 232.483 L675.247 237.043 Q672.585 235.77 670.224 235.145 Q667.863 234.52 665.664 234.52 Q661.845 234.52 659.761 236.001 Q657.701 237.483 657.701 240.214 Q657.701 242.506 659.067 243.687 Q660.456 244.844 664.298 245.562 L667.123 246.14 Q672.354 247.136 674.831 249.659 Q677.331 252.159 677.331 256.372 Q677.331 261.395 673.951 263.987 Q670.595 266.58 664.09 266.58 Q661.636 266.58 658.859 266.024 Q656.104 265.469 653.141 264.381 L653.141 259.566 Q655.988 261.163 658.72 261.973 Q661.451 262.784 664.09 262.784 Q668.095 262.784 670.271 261.21 Q672.447 259.636 672.447 256.719 Q672.447 254.173 670.872 252.737 Q669.322 251.302 665.757 250.585 L662.91 250.029 Q657.678 248.987 655.34 246.765 Q653.002 244.543 653.002 240.585 Q653.002 236.001 656.22 233.362 Q659.461 230.724 665.132 230.724 Q667.562 230.724 670.085 231.163 Q672.609 231.603 675.247 232.483 Z\" fill=\"#000000\" fill-rule=\"evenodd\" fill-opacity=\"1\" /><path clip-path=\"url(#clip180)\" d=\"M689.113 253.061 Q686.96 253.061 685.687 254.566 Q684.437 256.048 684.437 258.663 Q684.437 261.279 685.687 262.784 Q686.937 264.265 689.113 264.265 Q691.266 264.265 692.516 262.76 Q693.766 261.256 693.766 258.663 Q693.766 256.094 692.516 254.589 Q691.266 253.061 689.113 253.061 M689.113 251.048 Q692.608 251.048 694.599 253.061 Q696.613 255.075 696.613 258.663 Q696.613 262.228 694.599 264.265 Q692.608 266.279 689.113 266.279 Q685.595 266.279 683.604 264.265 Q681.613 262.228 681.613 258.663 Q681.613 255.075 683.604 253.061 Q685.595 251.048 689.113 251.048 Z\" fill=\"#000000\" fill-rule=\"evenodd\" fill-opacity=\"1\" /><path clip-path=\"url(#clip180)\" d=\"M704.599 244.381 L734.275 244.381 L734.275 248.27 L704.599 248.27 L704.599 244.381 M704.599 253.825 L734.275 253.825 L734.275 257.761 L704.599 257.761 L704.599 253.825 Z\" fill=\"#000000\" fill-rule=\"evenodd\" fill-opacity=\"1\" /><path clip-path=\"url(#clip180)\" d=\"M759.483 231.349 L777.84 231.349 L777.84 235.284 L763.766 235.284 L763.766 243.756 Q764.784 243.409 765.803 243.247 Q766.821 243.062 767.84 243.062 Q773.627 243.062 777.006 246.233 Q780.386 249.404 780.386 254.821 Q780.386 260.399 776.914 263.501 Q773.441 266.58 767.122 266.58 Q764.946 266.58 762.678 266.21 Q760.432 265.839 758.025 265.098 L758.025 260.399 Q760.108 261.534 762.33 262.089 Q764.553 262.645 767.029 262.645 Q771.034 262.645 773.372 260.538 Q775.71 258.432 775.71 254.821 Q775.71 251.21 773.372 249.103 Q771.034 246.997 767.029 246.997 Q765.154 246.997 763.279 247.413 Q761.428 247.83 759.483 248.71 L759.483 231.349 Z\" fill=\"#000000\" fill-rule=\"evenodd\" fill-opacity=\"1\" /><path clip-path=\"url(#clip180)\" d=\"M788.418 231.349 L810.64 231.349 L810.64 233.339 L798.094 265.909 L793.21 265.909 L805.015 235.284 L788.418 235.284 L788.418 231.349 Z\" fill=\"#000000\" fill-rule=\"evenodd\" fill-opacity=\"1\" /><path clip-path=\"url(#clip180)\" d=\"M819.761 260.029 L824.645 260.029 L824.645 265.909 L819.761 265.909 L819.761 260.029 Z\" fill=\"#000000\" fill-rule=\"evenodd\" fill-opacity=\"1\" /><path clip-path=\"url(#clip180)\" d=\"M834.969 265.191 L834.969 260.932 Q836.728 261.765 838.534 262.205 Q840.339 262.645 842.075 262.645 Q846.705 262.645 849.135 259.543 Q851.589 256.418 851.936 250.075 Q850.594 252.066 848.534 253.131 Q846.473 254.196 843.973 254.196 Q838.788 254.196 835.756 251.071 Q832.747 247.923 832.747 242.483 Q832.747 237.159 835.895 233.941 Q839.043 230.724 844.274 230.724 Q850.27 230.724 853.418 235.33 Q856.589 239.913 856.589 248.663 Q856.589 256.835 852.7 261.719 Q848.834 266.58 842.284 266.58 Q840.524 266.58 838.719 266.233 Q836.913 265.885 834.969 265.191 M844.274 250.538 Q847.422 250.538 849.251 248.386 Q851.103 246.233 851.103 242.483 Q851.103 238.756 849.251 236.603 Q847.422 234.427 844.274 234.427 Q841.126 234.427 839.274 236.603 Q837.446 238.756 837.446 242.483 Q837.446 246.233 839.274 248.386 Q841.126 250.538 844.274 250.538 Z\" fill=\"#000000\" fill-rule=\"evenodd\" fill-opacity=\"1\" /><path clip-path=\"url(#clip180)\" d=\"M869.02 261.973 L885.339 261.973 L885.339 265.909 L863.395 265.909 L863.395 261.973 Q866.057 259.219 870.64 254.589 Q875.246 249.936 876.427 248.594 Q878.672 246.071 879.552 244.335 Q880.455 242.575 880.455 240.886 Q880.455 238.131 878.51 236.395 Q876.589 234.659 873.487 234.659 Q871.288 234.659 868.834 235.423 Q866.404 236.187 863.626 237.737 L863.626 233.015 Q866.45 231.881 868.904 231.302 Q871.358 230.724 873.395 230.724 Q878.765 230.724 881.959 233.409 Q885.154 236.094 885.154 240.585 Q885.154 242.714 884.344 244.636 Q883.557 246.534 881.45 249.126 Q880.871 249.798 877.77 253.015 Q874.668 256.21 869.02 261.973 Z\" fill=\"#000000\" fill-rule=\"evenodd\" fill-opacity=\"1\" /><polyline clip-path=\"url(#clip180)\" style=\"stroke:#0068ac; stroke-linecap:round; stroke-linejoin:round; stroke-width:4; stroke-opacity:1; fill:none\" points=\"\n",
       "  300.571,300.469 443.747,300.469 \n",
       "  \"/>\n",
       "<path clip-path=\"url(#clip180)\" d=\"M469.068 283.189 L487.424 283.189 L487.424 287.124 L473.35 287.124 L473.35 295.596 Q474.369 295.249 475.387 295.087 Q476.406 294.902 477.424 294.902 Q483.211 294.902 486.591 298.073 Q489.971 301.244 489.971 306.661 Q489.971 312.239 486.498 315.341 Q483.026 318.42 476.707 318.42 Q474.531 318.42 472.262 318.05 Q470.017 317.679 467.61 316.938 L467.61 312.239 Q469.693 313.374 471.915 313.929 Q474.137 314.485 476.614 314.485 Q480.619 314.485 482.957 312.378 Q485.295 310.272 485.295 306.661 Q485.295 303.05 482.957 300.943 Q480.619 298.837 476.614 298.837 Q474.739 298.837 472.864 299.253 Q471.012 299.67 469.068 300.55 L469.068 283.189 Z\" fill=\"#000000\" fill-rule=\"evenodd\" fill-opacity=\"1\" /><path clip-path=\"url(#clip180)\" d=\"M509.184 301.337 Q505.85 301.337 503.929 303.119 Q502.031 304.901 502.031 308.026 Q502.031 311.151 503.929 312.934 Q505.85 314.716 509.184 314.716 Q512.517 314.716 514.438 312.934 Q516.359 311.128 516.359 308.026 Q516.359 304.901 514.438 303.119 Q512.54 301.337 509.184 301.337 M504.508 299.346 Q501.498 298.605 499.809 296.545 Q498.142 294.485 498.142 291.522 Q498.142 287.378 501.082 284.971 Q504.045 282.564 509.184 282.564 Q514.346 282.564 517.285 284.971 Q520.225 287.378 520.225 291.522 Q520.225 294.485 518.535 296.545 Q516.869 298.605 513.883 299.346 Q517.262 300.133 519.137 302.425 Q521.035 304.716 521.035 308.026 Q521.035 313.05 517.957 315.735 Q514.901 318.42 509.184 318.42 Q503.466 318.42 500.387 315.735 Q497.332 313.05 497.332 308.026 Q497.332 304.716 499.23 302.425 Q501.128 300.133 504.508 299.346 M502.795 291.962 Q502.795 294.647 504.461 296.152 Q506.151 297.656 509.184 297.656 Q512.193 297.656 513.883 296.152 Q515.596 294.647 515.596 291.962 Q515.596 289.277 513.883 287.772 Q512.193 286.267 509.184 286.267 Q506.151 286.267 504.461 287.772 Q502.795 289.277 502.795 291.962 Z\" fill=\"#000000\" fill-rule=\"evenodd\" fill-opacity=\"1\" /><path clip-path=\"url(#clip180)\" d=\"M548.674 287.031 L548.674 313.906 L554.322 313.906 Q561.475 313.906 564.785 310.665 Q568.118 307.425 568.118 300.434 Q568.118 293.489 564.785 290.272 Q561.475 287.031 554.322 287.031 L548.674 287.031 M543.998 283.189 L553.605 283.189 Q563.651 283.189 568.35 287.378 Q573.049 291.545 573.049 300.434 Q573.049 309.369 568.327 313.559 Q563.605 317.749 553.605 317.749 L543.998 317.749 L543.998 283.189 Z\" fill=\"#000000\" fill-rule=\"evenodd\" fill-opacity=\"1\" /><path clip-path=\"url(#clip180)\" d=\"M575.711 283.189 L604.947 283.189 L604.947 287.124 L592.678 287.124 L592.678 317.749 L587.979 317.749 L587.979 287.124 L575.711 287.124 L575.711 283.189 Z\" fill=\"#000000\" fill-rule=\"evenodd\" fill-opacity=\"1\" /><path clip-path=\"url(#clip180)\" d=\"M609.461 283.189 L631.313 283.189 L631.313 287.124 L614.137 287.124 L614.137 297.355 L630.595 297.355 L630.595 301.29 L614.137 301.29 L614.137 313.813 L631.729 313.813 L631.729 317.749 L609.461 317.749 L609.461 283.189 Z\" fill=\"#000000\" fill-rule=\"evenodd\" fill-opacity=\"1\" /><path clip-path=\"url(#clip180)\" d=\"M675.201 284.323 L675.201 288.883 Q672.539 287.61 670.178 286.985 Q667.817 286.36 665.618 286.36 Q661.798 286.36 659.715 287.841 Q657.655 289.323 657.655 292.054 Q657.655 294.346 659.021 295.527 Q660.41 296.684 664.252 297.402 L667.076 297.98 Q672.308 298.976 674.785 301.499 Q677.284 303.999 677.284 308.212 Q677.284 313.235 673.905 315.827 Q670.548 318.42 664.044 318.42 Q661.59 318.42 658.812 317.864 Q656.058 317.309 653.095 316.221 L653.095 311.406 Q655.942 313.003 658.673 313.813 Q661.405 314.624 664.044 314.624 Q668.048 314.624 670.224 313.05 Q672.4 311.476 672.4 308.559 Q672.4 306.013 670.826 304.577 Q669.275 303.142 665.71 302.425 L662.863 301.869 Q657.632 300.827 655.294 298.605 Q652.956 296.383 652.956 292.425 Q652.956 287.841 656.173 285.202 Q659.414 282.564 665.085 282.564 Q667.516 282.564 670.039 283.003 Q672.562 283.443 675.201 284.323 Z\" fill=\"#000000\" fill-rule=\"evenodd\" fill-opacity=\"1\" /><path clip-path=\"url(#clip180)\" d=\"M689.067 304.901 Q686.914 304.901 685.641 306.406 Q684.391 307.888 684.391 310.503 Q684.391 313.119 685.641 314.624 Q686.891 316.105 689.067 316.105 Q691.22 316.105 692.47 314.6 Q693.72 313.096 693.72 310.503 Q693.72 307.934 692.47 306.429 Q691.22 304.901 689.067 304.901 M689.067 302.888 Q692.562 302.888 694.553 304.901 Q696.567 306.915 696.567 310.503 Q696.567 314.068 694.553 316.105 Q692.562 318.119 689.067 318.119 Q685.548 318.119 683.558 316.105 Q681.567 314.068 681.567 310.503 Q681.567 306.915 683.558 304.901 Q685.548 302.888 689.067 302.888 Z\" fill=\"#000000\" fill-rule=\"evenodd\" fill-opacity=\"1\" /><path clip-path=\"url(#clip180)\" d=\"M704.553 296.221 L734.229 296.221 L734.229 300.11 L704.553 300.11 L704.553 296.221 M704.553 305.665 L734.229 305.665 L734.229 309.601 L704.553 309.601 L704.553 305.665 Z\" fill=\"#000000\" fill-rule=\"evenodd\" fill-opacity=\"1\" /><path clip-path=\"url(#clip180)\" d=\"M759.437 283.189 L777.793 283.189 L777.793 287.124 L763.719 287.124 L763.719 295.596 Q764.738 295.249 765.756 295.087 Q766.775 294.902 767.793 294.902 Q773.58 294.902 776.96 298.073 Q780.339 301.244 780.339 306.661 Q780.339 312.239 776.867 315.341 Q773.395 318.42 767.076 318.42 Q764.9 318.42 762.631 318.05 Q760.386 317.679 757.979 316.938 L757.979 312.239 Q760.062 313.374 762.284 313.929 Q764.506 314.485 766.983 314.485 Q770.988 314.485 773.326 312.378 Q775.664 310.272 775.664 306.661 Q775.664 303.05 773.326 300.943 Q770.988 298.837 766.983 298.837 Q765.108 298.837 763.233 299.253 Q761.381 299.67 759.437 300.55 L759.437 283.189 Z\" fill=\"#000000\" fill-rule=\"evenodd\" fill-opacity=\"1\" /><path clip-path=\"url(#clip180)\" d=\"M788.372 283.189 L810.594 283.189 L810.594 285.179 L798.048 317.749 L793.163 317.749 L804.969 287.124 L788.372 287.124 L788.372 283.189 Z\" fill=\"#000000\" fill-rule=\"evenodd\" fill-opacity=\"1\" /><path clip-path=\"url(#clip180)\" d=\"M819.714 311.869 L824.599 311.869 L824.599 317.749 L819.714 317.749 L819.714 311.869 Z\" fill=\"#000000\" fill-rule=\"evenodd\" fill-opacity=\"1\" /><path clip-path=\"url(#clip180)\" d=\"M834.923 317.031 L834.923 312.772 Q836.682 313.605 838.487 314.045 Q840.293 314.485 842.029 314.485 Q846.659 314.485 849.089 311.383 Q851.543 308.258 851.89 301.915 Q850.547 303.906 848.487 304.971 Q846.427 306.036 843.927 306.036 Q838.742 306.036 835.71 302.911 Q832.7 299.763 832.7 294.323 Q832.7 288.999 835.848 285.781 Q838.997 282.564 844.228 282.564 Q850.223 282.564 853.372 287.17 Q856.543 291.753 856.543 300.503 Q856.543 308.675 852.654 313.559 Q848.788 318.42 842.237 318.42 Q840.478 318.42 838.673 318.073 Q836.867 317.725 834.923 317.031 M844.228 302.378 Q847.376 302.378 849.205 300.226 Q851.057 298.073 851.057 294.323 Q851.057 290.596 849.205 288.443 Q847.376 286.267 844.228 286.267 Q841.08 286.267 839.228 288.443 Q837.399 290.596 837.399 294.323 Q837.399 298.073 839.228 300.226 Q841.08 302.378 844.228 302.378 Z\" fill=\"#000000\" fill-rule=\"evenodd\" fill-opacity=\"1\" /><path clip-path=\"url(#clip180)\" d=\"M868.973 313.813 L885.293 313.813 L885.293 317.749 L863.348 317.749 L863.348 313.813 Q866.01 311.059 870.594 306.429 Q875.2 301.776 876.381 300.434 Q878.626 297.911 879.506 296.175 Q880.408 294.415 880.408 292.726 Q880.408 289.971 878.464 288.235 Q876.543 286.499 873.441 286.499 Q871.242 286.499 868.788 287.263 Q866.358 288.027 863.58 289.577 L863.58 284.855 Q866.404 283.721 868.858 283.142 Q871.311 282.564 873.348 282.564 Q878.719 282.564 881.913 285.249 Q885.107 287.934 885.107 292.425 Q885.107 294.554 884.297 296.476 Q883.51 298.374 881.404 300.966 Q880.825 301.638 877.723 304.855 Q874.621 308.05 868.973 313.813 Z\" fill=\"#000000\" fill-rule=\"evenodd\" fill-opacity=\"1\" /></svg>\n"
      ]
     },
     "execution_count": 16,
     "metadata": {},
     "output_type": "execute_result"
    }
   ],
   "source": [
    "# make a plot of the value of the option -\n",
    "plot(data_array_part_b[:,2],data_array_part_b[:,3], lw=2, label=\"Intrinsic\", legend=:topleft, bg=\"floralwhite\", background_color_outside=\"white\", framestyle = :box, fg_legend = :transparent, c=:black, ls=:dash)\n",
    "scatter!(data_array_part_b[:,2],data_array_part_b[:,3],c=:black, label=\"\")\n",
    "plot!(data_array_part_c[:,2],data_array_part_c[:,4], lw=2,label=\"10 DTE Sₒ= 57.92\", c=colorant\"#6EB43F\")\n",
    "plot!(data_array_part_b[:,2],data_array_part_b[:,4], lw=2,label=\"30 DTE Sₒ= 57.92\", c=colorant\"#EF4035\")\n",
    "plot!(data_array_part_a[:,2],data_array_part_a[:,4], lw=2,label=\"58 DTE Sₒ= 57.92\", c=colorant\"#0068AC\")\n",
    "\n",
    "\n",
    "# add labels -\n",
    "xlabel!(\"Strike price K (USD/share)\", fontsize=18)\n",
    "ylabel!(\"Estimated CRR Option Price (USD/share)\", fontsize=18)\n",
    "\n",
    "# uncomment me to save figure -\n",
    "# savefig(joinpath(_PATH_TO_FIGS, \"Fig-Intrinsic-Extrinsic-Value-Put.pdf\"));"
   ]
  },
  {
   "cell_type": "code",
   "execution_count": null,
   "id": "358e8ba2-3e4f-43cd-b475-2aad4bc32f17",
   "metadata": {},
   "outputs": [],
   "source": []
  }
 ],
 "metadata": {
  "kernelspec": {
   "display_name": "Julia 1.8.0",
   "language": "julia",
   "name": "julia-1.8"
  },
  "language_info": {
   "file_extension": ".jl",
   "mimetype": "application/julia",
   "name": "julia",
   "version": "1.8.2"
  }
 },
 "nbformat": 4,
 "nbformat_minor": 5
}
