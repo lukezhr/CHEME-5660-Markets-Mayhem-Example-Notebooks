{
 "cells": [
  {
   "cell_type": "markdown",
   "id": "fa2827f6-9ce1-4540-8721-5b26b5781ccb",
   "metadata": {},
   "source": [
    "## CHEME 5660: Introduction to Dynamic Delta Hedging for American Option Contracts"
   ]
  },
  {
   "cell_type": "markdown",
   "id": "c07a2c57-9e94-4cbf-8010-ffa5e95770f6",
   "metadata": {},
   "source": [
    "### Introduction\n",
    "Fill me in"
   ]
  },
  {
   "cell_type": "markdown",
   "id": "75ab5b99-0276-432d-a92d-c029be07d041",
   "metadata": {},
   "source": [
    "### Lab 6 Setup"
   ]
  },
  {
   "cell_type": "code",
   "execution_count": 1,
   "id": "5f04fe1a-b26f-419d-9789-aff433a498e3",
   "metadata": {},
   "outputs": [
    {
     "name": "stderr",
     "output_type": "stream",
     "text": [
      "\u001b[32m\u001b[1m  Activating\u001b[22m\u001b[39m project at `~/Desktop/julia_work/CHEME-5660-Markets-Mayhem-Example-Notebooks/labs/lab-6-Dynamic-Delta-Hedging`\n",
      "\u001b[32m\u001b[1m  No Changes\u001b[22m\u001b[39m to `~/Desktop/julia_work/CHEME-5660-Markets-Mayhem-Example-Notebooks/labs/lab-6-Dynamic-Delta-Hedging/Project.toml`\n",
      "\u001b[32m\u001b[1m  No Changes\u001b[22m\u001b[39m to `~/Desktop/julia_work/CHEME-5660-Markets-Mayhem-Example-Notebooks/labs/lab-6-Dynamic-Delta-Hedging/Manifest.toml`\n"
     ]
    }
   ],
   "source": [
    "import Pkg; Pkg.activate(\".\"); Pkg.resolve(); Pkg.instantiate();"
   ]
  },
  {
   "cell_type": "code",
   "execution_count": 2,
   "id": "6fcf1d26-6e01-478d-8faf-0f76b1f92a76",
   "metadata": {},
   "outputs": [],
   "source": [
    "# packages that we need -\n",
    "using PQEcolaPoint\n",
    "using DataFrames\n",
    "using CSV\n",
    "using Statistics\n",
    "using Dates\n",
    "using Plots\n",
    "using Colors\n",
    "\n",
    "# paths -\n",
    "const _ROOT = pwd();\n",
    "const _PATH_TO_DATA = joinpath(_ROOT,\"data\");\n",
    "const _PATH_TO_FIGS = joinpath(_ROOT,\"figs\");"
   ]
  },
  {
   "cell_type": "markdown",
   "id": "c8f9d7a4-635a-4024-b241-ef6c802e64ec",
   "metadata": {},
   "source": [
    "### Additional Resources\n",
    "* [Hans Bühler, Lukas Gonon, Josef Teichmann, Ben Wood (2018). Deep Hedging. arXiv:1802.03042,\n",
    "DOI: https://doi.org/10.48550/arXiv.1802.03042](https://arxiv.org/abs/1802.03042)"
   ]
  },
  {
   "cell_type": "code",
   "execution_count": null,
   "id": "cbd4dc6f-b047-4027-82a7-0961e407abd5",
   "metadata": {},
   "outputs": [],
   "source": []
  }
 ],
 "metadata": {
  "kernelspec": {
   "display_name": "Julia 1.8.0",
   "language": "julia",
   "name": "julia-1.8"
  },
  "language_info": {
   "file_extension": ".jl",
   "mimetype": "application/julia",
   "name": "julia",
   "version": "1.8.2"
  }
 },
 "nbformat": 4,
 "nbformat_minor": 5
}
