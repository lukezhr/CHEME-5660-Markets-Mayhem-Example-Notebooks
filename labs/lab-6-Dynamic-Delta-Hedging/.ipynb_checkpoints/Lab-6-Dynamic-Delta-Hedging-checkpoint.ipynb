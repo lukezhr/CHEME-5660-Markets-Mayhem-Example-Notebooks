{
 "cells": [
  {
   "cell_type": "markdown",
   "id": "fa2827f6-9ce1-4540-8721-5b26b5781ccb",
   "metadata": {},
   "source": [
    "### CHEME 5660: Introduction to Dynamic Delta Hedging for American Option Contracts"
   ]
  },
  {
   "cell_type": "markdown",
   "id": "c8f9d7a4-635a-4024-b241-ef6c802e64ec",
   "metadata": {},
   "source": [
    "### Additional Resources\n",
    "* [Hans Bühler, Lukas Gonon, Josef Teichmann, Ben Wood (2018). Deep Hedging. arXiv:1802.03042,\n",
    "DOI: https://doi.org/10.48550/arXiv.1802.03042](https://arxiv.org/abs/1802.03042)"
   ]
  },
  {
   "cell_type": "code",
   "execution_count": null,
   "id": "cbd4dc6f-b047-4027-82a7-0961e407abd5",
   "metadata": {},
   "outputs": [],
   "source": []
  }
 ],
 "metadata": {
  "kernelspec": {
   "display_name": "Julia 1.8.0",
   "language": "julia",
   "name": "julia-1.8"
  },
  "language_info": {
   "file_extension": ".jl",
   "mimetype": "application/julia",
   "name": "julia",
   "version": "1.8.2"
  }
 },
 "nbformat": 4,
 "nbformat_minor": 5
}
