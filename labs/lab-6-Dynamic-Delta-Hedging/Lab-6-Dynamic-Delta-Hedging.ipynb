{
 "cells": [
  {
   "cell_type": "markdown",
   "id": "fa2827f6-9ce1-4540-8721-5b26b5781ccb",
   "metadata": {},
   "source": [
    "# CHEME 5660: Introduction to Delta Hedging for American Option Contracts"
   ]
  },
  {
   "cell_type": "markdown",
   "id": "c07a2c57-9e94-4cbf-8010-ffa5e95770f6",
   "metadata": {},
   "source": [
    "## Introduction\n",
    "Suppose we have a composite trade consisting of a combination of risky assets, i.e., shares of `XYZ`, and options contracts on `XYZ`. Let the assets for this trade be described by the set $\\mathcal{A}$. Then, the overall $\\Delta$ of the composite trade for asset set $\\mathcal{A}$ is given by:\n",
    "\n",
    "$$\\Delta = \\sum_{a\\in\\mathcal{A}}\\theta_{a}n_{a}\\hat{\\Delta}_{a}$$\n",
    "\n",
    "where $n_{a}$ denotes the copy number of asset $a$, i.e., the number of contracts or shares of asset $a$ in the portfolio, $\\hat{\\Delta}_{a}$ denotes the delta for asset $a$ and $\\theta_{a}$ denotes a direction parameter; $\\theta_{a} = 1$ if we purchased asset $a$, while $\\theta_{a} = -1$ if we sold asset $a$. A riskless (delta-hedged) portfolio with respect to the share price of `XYZ` satisfies the condition:\n",
    "\n",
    "$$\\Delta = 0$$\n",
    "\n",
    "The $\\hat{\\Delta}_{a}$ values for different asset classes.\n",
    "\n",
    "* If asset $a$ is an option contract, then $\\hat{\\Delta}_{a}$ takes the value $\\hat{\\Delta}_{a} = 100\\cdot\\Delta_{a}$ where $\\Delta_{a}$ is the delta value for a long position in option contract $a$.\n",
    "* If asset $a$ are shares of stock, then $\\hat{\\Delta}_{a}$ is given by $\\hat{\\Delta}_{a} = 1$\n",
    "\n",
    "### Problem\n",
    "Let's explore setting up a $\\Delta$-hedge on a short-strangle position on `NFLX`. We'll set up the hedge using values for `10/25/22` and look at how the hedged position performs today `10/26/22`."
   ]
  },
  {
   "cell_type": "markdown",
   "id": "75ab5b99-0276-432d-a92d-c029be07d041",
   "metadata": {},
   "source": [
    "## Lab 6 Setup\n",
    "The code block below installs (and loads) any [Julia](https://julialang.org) packages that we need to complete the calculations."
   ]
  },
  {
   "cell_type": "code",
   "execution_count": 1,
   "id": "5f04fe1a-b26f-419d-9789-aff433a498e3",
   "metadata": {},
   "outputs": [
    {
     "name": "stderr",
     "output_type": "stream",
     "text": [
      "\u001b[32m\u001b[1m  Activating\u001b[22m\u001b[39m project at `~/Desktop/julia_work/CHEME-5660-Markets-Mayhem-Example-Notebooks/labs/lab-6-Dynamic-Delta-Hedging`\n",
      "\u001b[32m\u001b[1m  No Changes\u001b[22m\u001b[39m to `~/Desktop/julia_work/CHEME-5660-Markets-Mayhem-Example-Notebooks/labs/lab-6-Dynamic-Delta-Hedging/Project.toml`\n",
      "\u001b[32m\u001b[1m  No Changes\u001b[22m\u001b[39m to `~/Desktop/julia_work/CHEME-5660-Markets-Mayhem-Example-Notebooks/labs/lab-6-Dynamic-Delta-Hedging/Manifest.toml`\n"
     ]
    }
   ],
   "source": [
    "import Pkg; Pkg.activate(\".\"); Pkg.resolve(); Pkg.instantiate();"
   ]
  },
  {
   "cell_type": "code",
   "execution_count": 2,
   "id": "6fcf1d26-6e01-478d-8faf-0f76b1f92a76",
   "metadata": {},
   "outputs": [],
   "source": [
    "# packages that we need -\n",
    "using PQEcolaPoint\n",
    "using DataFrames\n",
    "using CSV\n",
    "using Statistics\n",
    "using Dates\n",
    "using Plots\n",
    "using Colors\n",
    "using Distributions\n",
    "using PrettyTables\n",
    "\n",
    "# paths -\n",
    "const _ROOT = pwd();\n",
    "const _PATH_TO_DATA = joinpath(_ROOT,\"data\");\n",
    "const _PATH_TO_FIGS = joinpath(_ROOT,\"figs\");"
   ]
  },
  {
   "cell_type": "markdown",
   "id": "bbb72b1d-eb95-4b25-a823-f278d3fc7746",
   "metadata": {},
   "source": [
    "### Load the lab 6 code library\n",
    "The call to the `include` function loads the `CHEME-5660-Lab-6-Library.jl` library into the notebook; the library contains types and functions we use during the lab:\n",
    "\n",
    "__Functions__:\n",
    "* The function `ticker(type::String, underlying::String, expiration::Date, K::Float64)-->String` produces the [option ticker symbol](https://polygon.io/blog/how-to-read-a-stock-options-ticker/)."
   ]
  },
  {
   "cell_type": "code",
   "execution_count": 3,
   "id": "5b9c2817-47dd-4f76-919b-8a2f375c51f1",
   "metadata": {},
   "outputs": [],
   "source": [
    "include(\"CHEME-5660-Lab-6-Library.jl\");"
   ]
  },
  {
   "cell_type": "markdown",
   "id": "6bb59982-abce-46bd-9eec-15092a3ee727",
   "metadata": {},
   "source": [
    "## Sample calculation: $\\Delta$, $\\Theta$ and $\\mathcal{V}$ for Netflix Call and Put Option Contracts"
   ]
  },
  {
   "cell_type": "code",
   "execution_count": 4,
   "id": "b2adb6b1-d75f-48d7-87d1-c7c9a08f1a3d",
   "metadata": {},
   "outputs": [],
   "source": [
    "# setup constants\n",
    "DTE = 52.0         # number of days to expiration (assumes all options purchased on 10/25/22)\n",
    "μ̂ = 0.0423         # risk free rate \n",
    "L = 100            # number of levels in the tree\n",
    "B = 365.0;         # number of days in a year\n",
    "Sₒ = 289.26;       # initial share price "
   ]
  },
  {
   "cell_type": "markdown",
   "id": "0a01c967-4556-4246-8906-e6b7b3d58c2e",
   "metadata": {},
   "source": [
    "### Step 1: Build contract models"
   ]
  },
  {
   "cell_type": "code",
   "execution_count": 5,
   "id": "e8990750-7335-4ca6-9f24-9211ab98ffaa",
   "metadata": {},
   "outputs": [],
   "source": [
    "# Build the contracts (Call = 1, Put = 2)\n",
    "\n",
    "# Expiration dates -\n",
    "D₁ = Date(2022, 12, 16);\n",
    "D₂ = Date(2022, 12, 16);\n",
    "\n",
    "# Strike prices -\n",
    "K₁ = 315.0 # units: USD/share\n",
    "K₂ = 255.0 # units: USD/share\n",
    "\n",
    "# Build the tikers -\n",
    "T₁ = ticker(\"C\",\"NFLX\",D₁,K₁);\n",
    "T₂ = ticker(\"C\",\"NFLX\",D₂,K₂);\n",
    "\n",
    "# IV -\n",
    "IV₁ = (48.72/100.0);\n",
    "IV₂ = (55.21/100.0);\n",
    "\n",
    "# build the contracts \n",
    "netflix_call_contract_model = build(CallContractModel, (\n",
    "    ticker = T₁,\n",
    "    expiration_date = D₁,\n",
    "    strike_price = K₁,\n",
    "    premium = 0.0,\n",
    "    number_of_contracts = 1,\n",
    "    direction = 1, # Bug or feature? => always use 1 here (even if we are selling)\n",
    "    current_price = 0.0      \n",
    "));\n",
    "\n",
    "netflix_put_contract_model = build(PutContractModel, (\n",
    "    ticker = T₂,\n",
    "    expiration_date = D₂,\n",
    "    strike_price = K₂,\n",
    "    premium = 0.0,\n",
    "    number_of_contracts = 1,\n",
    "    direction = 1, # Bug or feature? => always use 1 here (even if we are selling)\n",
    "    current_price = 0.0      \n",
    "));"
   ]
  },
  {
   "cell_type": "markdown",
   "id": "1b490ab7-d928-4f9e-b307-37798383960b",
   "metadata": {},
   "source": [
    "### Step 2: Compute the Greeks for a Put and Call contract"
   ]
  },
  {
   "cell_type": "code",
   "execution_count": 6,
   "id": "07c7b441-cdf5-4bdd-bb1b-99d0f0e4d4c4",
   "metadata": {},
   "outputs": [],
   "source": [
    "# Delta Δ -\n",
    "Δ₁ = δ(netflix_call_contract_model; Sₒ= Sₒ, number_of_levels=(L+1), σ=IV₁, T=(DTE/B), μ=μ̂);\n",
    "Δ₂ = δ(netflix_put_contract_model; Sₒ= Sₒ, number_of_levels=(L+1), σ=IV₂, T=(DTE/B), μ=μ̂);"
   ]
  },
  {
   "cell_type": "code",
   "execution_count": 7,
   "id": "9efbe9b6-da35-4700-b1f4-cbf17998b6dd",
   "metadata": {},
   "outputs": [],
   "source": [
    "# Theta Θ -\n",
    "Θ₁ = θ(netflix_call_contract_model; Sₒ= Sₒ, number_of_levels=(L+1), σ=IV₁, T=(DTE/B), μ=μ̂);\n",
    "Θ₂ = θ(netflix_put_contract_model; Sₒ= Sₒ, number_of_levels=(L+1), σ=IV₂, T=(DTE/B), μ=μ̂);"
   ]
  },
  {
   "cell_type": "code",
   "execution_count": 8,
   "id": "5f7f6cf9-cf39-4ad7-94f5-6bda3372e174",
   "metadata": {},
   "outputs": [],
   "source": [
    "# Vega V -\n",
    "vega₁ = vega(netflix_call_contract_model; Sₒ= Sₒ, number_of_levels=(L+1), σ=IV₁, T=(DTE/B), μ=μ̂);\n",
    "vega₂ = vega(netflix_put_contract_model; Sₒ= Sₒ, number_of_levels=(L+1), σ=IV₂, T=(DTE/B), μ=μ̂);"
   ]
  },
  {
   "cell_type": "markdown",
   "id": "3fdad9fa-2cb3-4f0c-a39e-68f3e27c9420",
   "metadata": {},
   "source": [
    "### Step 3: Make a Table"
   ]
  },
  {
   "cell_type": "code",
   "execution_count": 9,
   "id": "aca4356a-e85f-4d58-a2e2-cc245390646c",
   "metadata": {},
   "outputs": [
    {
     "name": "stdout",
     "output_type": "stream",
     "text": [
      "┌───────┬────────────────────────────┬───────────────────────────┐\n",
      "│\u001b[1m Greek \u001b[0m│\u001b[1m NFLX Call K = 315.0 (long) \u001b[0m│\u001b[1m NFLX Put K = 255.0 (long) \u001b[0m│\n",
      "├───────┼────────────────────────────┼───────────────────────────┤\n",
      "│     Δ │                   0.353717 │                 -0.204809 │\n",
      "│     Θ │                  -0.200519 │                 -0.159098 │\n",
      "│  Vega │                   0.402955 │                  0.325732 │\n",
      "└───────┴────────────────────────────┴───────────────────────────┘\n"
     ]
    }
   ],
   "source": [
    "# Build a pretty table to display our greek values\n",
    "sample_greek_table_data = Array{Any,2}(undef, 3, 3);\n",
    "\n",
    "# rows: 1 = Delta, 2 = Theta, 3 = Vega\n",
    "# cols: 1 = Label, 2 = Call, 3 = Put\n",
    "\n",
    "# Delta -\n",
    "sample_greek_table_data[1,1] = \"Δ\"\n",
    "sample_greek_table_data[1,2] = Δ₁\n",
    "sample_greek_table_data[1,3] = Δ₂\n",
    "\n",
    "# Theta -\n",
    "sample_greek_table_data[2,1] = \"Θ\"\n",
    "sample_greek_table_data[2,2] = Θ₁\n",
    "sample_greek_table_data[2,3] = Θ₂\n",
    "\n",
    "# Vega -\n",
    "sample_greek_table_data[3,1] = \"Vega\"\n",
    "sample_greek_table_data[3,2] = vega₁\n",
    "sample_greek_table_data[3,3] = vega₂\n",
    "\n",
    "# header -\n",
    "sample_greek_table_header = ([\"Greek\", \"NFLX Call K = $(K₁) (long)\", \"NFLX Put K = $(K₂) (long)\"])\n",
    "\n",
    "# display -\n",
    "pretty_table(sample_greek_table_data; header = sample_greek_table_header)"
   ]
  },
  {
   "cell_type": "markdown",
   "id": "4c3c39cf-2fa4-423b-8e7b-6734ac1600ce",
   "metadata": {},
   "source": [
    "## Excercises"
   ]
  },
  {
   "cell_type": "markdown",
   "id": "ec7073cd-2e57-4a4b-8015-d3cd7276b735",
   "metadata": {},
   "source": [
    "### a) Compute the $\\Delta$ of a Short Strangle on Netflix `NFLX`\n",
    "Let the current share price of `NFLX` be $S_{\\circ}$. A short strangle position on `NFLX` can be constructed by selling two option contracts:\n",
    "* Sell one out of the money `Call` contract ($K_{1}>S_{\\circ}$)\n",
    "* Sell one out of the money `Put` contract ($K_{2} < S_{\\circ}$).\n",
    "\n",
    "Let's assume we sold the 315-Call and 255-Put on `NFLX` (with expirations on 12/16/22) at the close on 10/25/22. Thus, we can use the Greek data from the sample calculation."
   ]
  },
  {
   "cell_type": "code",
   "execution_count": 10,
   "id": "6a72090d-5fb6-408c-82d9-682adae94ff7",
   "metadata": {},
   "outputs": [],
   "source": [
    "# Compute the Δ of the position *before* the open on 10/26 -\n",
    "# Fill me in ..."
   ]
  },
  {
   "cell_type": "code",
   "execution_count": 11,
   "id": "0a8daa39-729e-4dbb-8438-08e8d987037c",
   "metadata": {},
   "outputs": [],
   "source": [
    "# How many shares do we need to buy (or sell) to Δ-hedge this positon?\n",
    "# Fill me in ..."
   ]
  },
  {
   "cell_type": "markdown",
   "id": "8aa08322-f50f-42c5-85b4-eaff9b2b50c5",
   "metadata": {},
   "source": [
    "### b) Compute the P/L of the hedged versus a non-hedged portfolio for $\\epsilon$ change in `NFLX` share price"
   ]
  },
  {
   "cell_type": "markdown",
   "id": "1e74c33b-3d95-4382-9396-edf62c590c84",
   "metadata": {},
   "source": [
    "##### Step 1: Recompute the option prices for the current market conditions"
   ]
  },
  {
   "cell_type": "code",
   "execution_count": 12,
   "id": "3b31b13d-34ae-418f-8fcb-8d3d3a154da6",
   "metadata": {},
   "outputs": [],
   "source": [
    "# Orignal option prices -\n",
    "P₁ = 12.70 # Call mark price (original price)\n",
    "P₂ = 8.50  # Put mark price (original price)\n",
    "\n",
    "# Update the share price -\n",
    "S_now = 302.85\n",
    "ϵ = (S_now - Sₒ)/Sₒ;  # change in price per share *after* market open on 10/26\n",
    "\n",
    "# what is the change in price?\n",
    "ΔS = Sₒ*ϵ;\n",
    "\n",
    "# Estimate the new option prices *after* market open on 10/26\n",
    "# Fill me in"
   ]
  },
  {
   "cell_type": "markdown",
   "id": "7301af70-7bbf-4ea6-8481-b185d2f943dd",
   "metadata": {},
   "source": [
    "##### Case 1: Without the hedge (now)\n",
    "What is the net profit (or loss) per share if we closed the `NFLX` short strangle now _without_ the $\\Delta$-hedge?"
   ]
  },
  {
   "cell_type": "code",
   "execution_count": 13,
   "id": "0737f31a-650f-4f0f-a857-7ecc865b987a",
   "metadata": {},
   "outputs": [],
   "source": [
    "# Fill me in ..."
   ]
  },
  {
   "cell_type": "markdown",
   "id": "d568946f-1a8e-4694-b6cd-8472dadcd4a1",
   "metadata": {},
   "source": [
    "##### Case 2: With the hedge (now)\n",
    "What is the net profit (or loss) per share if we closed the `NFLX` short strangle now _with_ the $\\Delta$-hedge?. \n",
    "* We purchased $n_{3}$ shares of `NFLX` at the close on `10/25/2022` at a price of $S_{close} = S_{\\circ}$ USD/share.\n",
    "* What happens if we can't get the shares unil the open of `10/26/22`?\n",
    "\n",
    "Now, the `NFLX` price is $S_{now}$ USD/share. "
   ]
  },
  {
   "cell_type": "code",
   "execution_count": 14,
   "id": "c1631739-d18b-4e2f-94b1-93be1175f274",
   "metadata": {},
   "outputs": [],
   "source": [
    "# Netflix price -\n",
    "S_close = Sₒ; # NFLX close price 10/25/22\n",
    "S_open = 293.54; # NFLX open price 10/26/22\n",
    "\n",
    "# Fill me in ..."
   ]
  },
  {
   "cell_type": "markdown",
   "id": "c8f9d7a4-635a-4024-b241-ef6c802e64ec",
   "metadata": {},
   "source": [
    "### Additional Resources\n",
    "* [Hans Bühler, Lukas Gonon, Josef Teichmann, Ben Wood (2018). Deep Hedging. arXiv:1802.03042,\n",
    "DOI: https://doi.org/10.48550/arXiv.1802.03042](https://arxiv.org/abs/1802.03042)"
   ]
  }
 ],
 "metadata": {
  "kernelspec": {
   "display_name": "Julia 1.8.0",
   "language": "julia",
   "name": "julia-1.8"
  },
  "language_info": {
   "file_extension": ".jl",
   "mimetype": "application/julia",
   "name": "julia",
   "version": "1.8.2"
  }
 },
 "nbformat": 4,
 "nbformat_minor": 5
}
