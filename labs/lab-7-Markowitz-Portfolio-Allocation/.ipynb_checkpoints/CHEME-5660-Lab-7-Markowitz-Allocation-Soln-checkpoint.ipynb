{
 "cells": [
  {
   "cell_type": "markdown",
   "id": "1a53cc8f-4745-4cbb-96de-c9278e40dcc9",
   "metadata": {},
   "source": [
    "## CHEME 5660: Does Markowitz portfolio allocation perform better than alternative approaches?"
   ]
  },
  {
   "cell_type": "markdown",
   "id": "92b131b6-9797-4ee1-a4a8-2c3656ac8e98",
   "metadata": {},
   "source": [
    "### Introduction\n",
    "Fill me in"
   ]
  },
  {
   "cell_type": "markdown",
   "id": "3fe93c92-7cc1-4b5b-98d7-3bd773948fe9",
   "metadata": {},
   "source": [
    "### Lab 7 setup"
   ]
  },
  {
   "cell_type": "code",
   "execution_count": 1,
   "id": "151052af-79a2-465c-b2e8-b60e1280b656",
   "metadata": {},
   "outputs": [
    {
     "name": "stderr",
     "output_type": "stream",
     "text": [
      "\u001b[32m\u001b[1m  Activating\u001b[22m\u001b[39m project at `~/Desktop/julia_work/CHEME-5660-Markets-Mayhem-Example-Notebooks/labs/lab-7-Markowitz-Portfolio-Allocation`\n",
      "\u001b[32m\u001b[1m  No Changes\u001b[22m\u001b[39m to `~/Desktop/julia_work/CHEME-5660-Markets-Mayhem-Example-Notebooks/labs/lab-7-Markowitz-Portfolio-Allocation/Project.toml`\n",
      "\u001b[32m\u001b[1m  No Changes\u001b[22m\u001b[39m to `~/Desktop/julia_work/CHEME-5660-Markets-Mayhem-Example-Notebooks/labs/lab-7-Markowitz-Portfolio-Allocation/Manifest.toml`\n"
     ]
    }
   ],
   "source": [
    "import Pkg; Pkg.activate(\".\"); Pkg.resolve(); Pkg.instantiate();"
   ]
  },
  {
   "cell_type": "code",
   "execution_count": 2,
   "id": "ee242110-bf71-4b0a-84ed-f246dafeb352",
   "metadata": {},
   "outputs": [],
   "source": [
    "# load req packages -\n",
    "using Convex\n",
    "using SCS\n",
    "using DataFrames\n",
    "using Dates\n",
    "using Colors\n",
    "using Plots\n",
    "using StatsPlots\n",
    "using Statistics\n",
    "using MathOptInterface\n",
    "using FileIO\n",
    "using JLD2\n",
    "using PrettyTables\n",
    "using Distributions\n",
    "using LinearAlgebra\n",
    "\n",
    "# setup paths -\n",
    "const _ROOT = pwd();\n",
    "const _PATH_TO_DATA = joinpath(_ROOT, \"data\");"
   ]
  },
  {
   "cell_type": "code",
   "execution_count": 3,
   "id": "8e0f6ace-4ff1-4ae9-a84c-3455fa540825",
   "metadata": {},
   "outputs": [],
   "source": [
    "include(\"CHEME-5660-Lab-7-CodeLib.jl\");"
   ]
  },
  {
   "cell_type": "markdown",
   "id": "86acd6b3-7a65-4cfe-b4a3-2f74a20cc5eb",
   "metadata": {},
   "source": [
    "#### Set constants for Lab 7"
   ]
  },
  {
   "cell_type": "code",
   "execution_count": 4,
   "id": "2cdc5cd8-1a78-40a2-a190-77b58e2920e9",
   "metadata": {},
   "outputs": [],
   "source": [
    "# daily risk-free rate -\n",
    "r̄ = 0.0403;\n",
    "risk_free_daily = ((1+r̄)^(1/365) - 1);\n",
    "\n",
    "# setup daily margin rate -\n",
    "b̂ = 0.065;\n",
    "margin_rate_daily = ((1+b̂)^(1/365) - 1);\n",
    "\n",
    "# What is our initial wealth?\n",
    "Wₒ = 10000.0; # units: USD\n",
    "\n",
    "# how many days of historical data are we using?\n",
    "m̂ = 299;\n",
    "λ̂ = 0.001; # Boltzmann weighting factor λ̂ = 0.0 gives unweigted"
   ]
  },
  {
   "cell_type": "markdown",
   "id": "36e9924a-386d-44f4-9b4d-ae9adac88cb4",
   "metadata": {},
   "source": [
    "### Lab 7 calculations"
   ]
  },
  {
   "cell_type": "markdown",
   "id": "a6207866-4712-4c21-b289-fb7f85c9a33f",
   "metadata": {},
   "source": [
    "#### Load and process the OHLC data set\n",
    "In the following code block we:\n",
    "* Exclude tickers from the data that don't have the same length as the market ticker `SPY`.\n",
    "* Define (and sort) the ticker array (holds an ordered list of ticker symbols potentially in our portfolio)\n",
    "* Partition the OHLC data into training and prediction data sets"
   ]
  },
  {
   "cell_type": "code",
   "execution_count": 5,
   "id": "4dfa7ef5-ebe5-4b61-a1cc-859bf07da75b",
   "metadata": {
    "jupyter": {
     "source_hidden": true
    },
    "tags": []
   },
   "outputs": [
    {
     "name": "stdout",
     "output_type": "stream",
     "text": [
      "Length violation: META was removed; dim(SPY) = 597 days and dim(META) = 247 days\n",
      "Length violation: BIIB was removed; dim(SPY) = 597 days and dim(BIIB) = 596 days\n"
     ]
    }
   ],
   "source": [
    "# load the JLD2 portfolio data file -\n",
    "price_data_dictionary = clean(load(joinpath(_PATH_TO_DATA, \"CHEME-5660-Portfolio-10-30-22.jld2\"))[\"dd\"]);\n",
    "\n",
    "# we have these ticker symbols in our data set -\n",
    "ticker_symbol_array = sort(keys(price_data_dictionary) |> collect);\n",
    "\n",
    "# How many ticker symbols do we have?\n",
    "Nₐ = length(ticker_symbol_array);\n",
    "\n",
    "# Partition the data into a training and prediction set\n",
    "(price_training_dict, price_prediction_dict) = partition(price_data_dictionary, (m̂+1));"
   ]
  },
  {
   "cell_type": "markdown",
   "id": "74650983-ccb7-45a1-96b0-995c18e46c4d",
   "metadata": {},
   "source": [
    "#### Estimate Single Index Models (SIMs) for each of the assets in the training set"
   ]
  },
  {
   "cell_type": "code",
   "execution_count": 6,
   "id": "605724eb-3d82-4b74-801c-ed1012c46284",
   "metadata": {
    "jupyter": {
     "source_hidden": true
    },
    "tags": []
   },
   "outputs": [],
   "source": [
    "# build the set of single index models using the *training* set -\n",
    "sim_model_dictionary = build(price_training_dict, ticker_symbol_array; \n",
    "    m̂ = m̂, λ̂ = λ̂, rf = risk_free_daily);\n",
    "\n",
    "# compute the excess market return for SPY (in the training data set)\n",
    "(Rₘ, R̂ₘ, W, μᵦ, pᵦ) = compute_excess_return(price_training_dict[\"SPY\"]; \n",
    "    m = m̂, rf = risk_free_daily, λ = λ̂);\n",
    "\n",
    "# compute the μ_vector -\n",
    "μ_vector = μ(sim_model_dictionary, R̂ₘ, ticker_symbol_array);\n",
    "\n",
    "# compute Σ -\n",
    "Σ_array = Σ(sim_model_dictionary, R̂ₘ, ticker_symbol_array);"
   ]
  },
  {
   "cell_type": "markdown",
   "id": "56235101-8904-4a22-b33c-078b90f3c145",
   "metadata": {},
   "source": [
    "#### Compute the Markowitz Allocation for Risky and Risky + Risk-free assets"
   ]
  },
  {
   "cell_type": "code",
   "execution_count": 7,
   "id": "7c3df2c3-b4e2-4954-bb65-beeb199f7d06",
   "metadata": {},
   "outputs": [],
   "source": [
    "# define the returns that we are going to simulate -\n",
    "target_return_array = 100 .*range(0.0, step=0.0001, stop = 0.004) |> collect # percentage\n",
    "L = length(target_return_array);"
   ]
  },
  {
   "cell_type": "markdown",
   "id": "3d6a6ea3-5bc2-49aa-ad70-5886f0a4cd95",
   "metadata": {},
   "source": [
    "##### Case I: Risky assets only"
   ]
  },
  {
   "cell_type": "code",
   "execution_count": 8,
   "id": "00a58a4f-bbb6-4715-97b2-cb14359795d6",
   "metadata": {},
   "outputs": [],
   "source": [
    "# Initialize MinVar array\n",
    "# row: return\n",
    "# col 1 -> risk\n",
    "# col 2 -> return\n",
    "# col 3 ... N -> allocation\n",
    "MinVarArray = Array{Float64,2}(undef,L, (Nₐ + 2));\n",
    "\n",
    "# main loop: pick a return, run the calculation. If solver converged, store results\n",
    "for i = 1:L\n",
    "\n",
    "    tr = target_return_array[i]\n",
    "    (status_flag, ω, opt_val, ret_val) = compute_minvar_portfolio_allocation(μ_vector, Σ_array, tr; w_lower = 0.0);\n",
    "\n",
    "    if (status_flag == MathOptInterface.OPTIMAL)\n",
    "        \n",
    "        MinVarArray[i,1] = sqrt(opt_val);\n",
    "        MinVarArray[i,2] = ret_val;\n",
    "        \n",
    "        # capture the allocation\n",
    "        for a ∈ 1:Nₐ\n",
    "            MinVarArray[i, 2+a] = ω[a]\n",
    "        end\n",
    "    end\n",
    "end"
   ]
  },
  {
   "cell_type": "markdown",
   "id": "eabf9dc9-9f4d-44cc-a131-878aa0956b73",
   "metadata": {},
   "source": [
    "##### Case II: Risky + A Single Risk Free Asset"
   ]
  },
  {
   "cell_type": "code",
   "execution_count": 9,
   "id": "2a2163ea-b162-408c-b902-0eba1635df25",
   "metadata": {},
   "outputs": [],
   "source": [
    "# Initialize MinVarRiskFree array\n",
    "# row: return\n",
    "# col 1 -> risk\n",
    "# col 2 -> return\n",
    "# col 3 ... N -> allocation\n",
    "MinVarRiskFreeArray = Array{Float64,2}(undef, L, (Nₐ + 2));\n",
    "\n",
    "# main loop: pick a return, run the calculation. If solver converged, store results\n",
    "for i = 1:L\n",
    "\n",
    "    tr = target_return_array[i]\n",
    "    (status_flag, ω, opt_val, ret_val) = compute_minvar_portfolio_allocation_risk_free(μ_vector, Σ_array, tr;\n",
    "        risk_free_return = risk_free_daily, w_lower =  0.0);\n",
    "\n",
    "    if (status_flag == MathOptInterface.OPTIMAL)\n",
    "        \n",
    "        # capture the risk and reward values -\n",
    "        MinVarRiskFreeArray[i,1] = sqrt(opt_val);\n",
    "        MinVarRiskFreeArray[i,2] = ret_val;\n",
    "        \n",
    "        # capture the allocation\n",
    "        for a ∈ 1:Nₐ\n",
    "            MinVarRiskFreeArray[i,2+a] = ω[a]\n",
    "        end\n",
    "    end\n",
    "end"
   ]
  },
  {
   "cell_type": "code",
   "execution_count": 10,
   "id": "400b7c49-2ae3-4cb4-814c-ad3ae60de0de",
   "metadata": {
    "jupyter": {
     "source_hidden": true
    },
    "tags": []
   },
   "outputs": [
    {
     "data": {
      "image/svg+xml": [
       "<?xml version=\"1.0\" encoding=\"utf-8\"?>\n",
       "<svg xmlns=\"http://www.w3.org/2000/svg\" xmlns:xlink=\"http://www.w3.org/1999/xlink\" width=\"600\" height=\"400\" viewBox=\"0 0 2400 1600\">\n",
       "<defs>\n",
       "  <clipPath id=\"clip120\">\n",
       "    <rect x=\"0\" y=\"0\" width=\"2400\" height=\"1600\"/>\n",
       "  </clipPath>\n",
       "</defs>\n",
       "<path clip-path=\"url(#clip120)\" d=\"\n",
       "M0 1600 L2400 1600 L2400 0 L0 0  Z\n",
       "  \" fill=\"#ffffff\" fill-rule=\"evenodd\" fill-opacity=\"1\"/>\n",
       "<defs>\n",
       "  <clipPath id=\"clip121\">\n",
       "    <rect x=\"480\" y=\"0\" width=\"1681\" height=\"1600\"/>\n",
       "  </clipPath>\n",
       "</defs>\n",
       "<path clip-path=\"url(#clip120)\" d=\"\n",
       "M219.866 1423.18 L2352.76 1423.18 L2352.76 47.2441 L219.866 47.2441  Z\n",
       "  \" fill=\"#fffaf0\" fill-rule=\"evenodd\" fill-opacity=\"1\"/>\n",
       "<defs>\n",
       "  <clipPath id=\"clip122\">\n",
       "    <rect x=\"219\" y=\"47\" width=\"2134\" height=\"1377\"/>\n",
       "  </clipPath>\n",
       "</defs>\n",
       "<polyline clip-path=\"url(#clip122)\" style=\"stroke:#000000; stroke-linecap:round; stroke-linejoin:round; stroke-width:2; stroke-opacity:0.1; fill:none\" points=\"\n",
       "  219.866,1423.18 219.866,47.2441 \n",
       "  \"/>\n",
       "<polyline clip-path=\"url(#clip122)\" style=\"stroke:#000000; stroke-linecap:round; stroke-linejoin:round; stroke-width:2; stroke-opacity:0.1; fill:none\" points=\"\n",
       "  930.829,1423.18 930.829,47.2441 \n",
       "  \"/>\n",
       "<polyline clip-path=\"url(#clip122)\" style=\"stroke:#000000; stroke-linecap:round; stroke-linejoin:round; stroke-width:2; stroke-opacity:0.1; fill:none\" points=\"\n",
       "  1641.79,1423.18 1641.79,47.2441 \n",
       "  \"/>\n",
       "<polyline clip-path=\"url(#clip122)\" style=\"stroke:#000000; stroke-linecap:round; stroke-linejoin:round; stroke-width:2; stroke-opacity:0.1; fill:none\" points=\"\n",
       "  2352.76,1423.18 2352.76,47.2441 \n",
       "  \"/>\n",
       "<polyline clip-path=\"url(#clip120)\" style=\"stroke:#000000; stroke-linecap:round; stroke-linejoin:round; stroke-width:4; stroke-opacity:1; fill:none\" points=\"\n",
       "  219.866,1423.18 2352.76,1423.18 \n",
       "  \"/>\n",
       "<polyline clip-path=\"url(#clip120)\" style=\"stroke:#000000; stroke-linecap:round; stroke-linejoin:round; stroke-width:4; stroke-opacity:1; fill:none\" points=\"\n",
       "  219.866,47.2441 2352.76,47.2441 \n",
       "  \"/>\n",
       "<polyline clip-path=\"url(#clip120)\" style=\"stroke:#000000; stroke-linecap:round; stroke-linejoin:round; stroke-width:4; stroke-opacity:1; fill:none\" points=\"\n",
       "  219.866,1423.18 219.866,1404.28 \n",
       "  \"/>\n",
       "<polyline clip-path=\"url(#clip120)\" style=\"stroke:#000000; stroke-linecap:round; stroke-linejoin:round; stroke-width:4; stroke-opacity:1; fill:none\" points=\"\n",
       "  930.829,1423.18 930.829,1404.28 \n",
       "  \"/>\n",
       "<polyline clip-path=\"url(#clip120)\" style=\"stroke:#000000; stroke-linecap:round; stroke-linejoin:round; stroke-width:4; stroke-opacity:1; fill:none\" points=\"\n",
       "  1641.79,1423.18 1641.79,1404.28 \n",
       "  \"/>\n",
       "<polyline clip-path=\"url(#clip120)\" style=\"stroke:#000000; stroke-linecap:round; stroke-linejoin:round; stroke-width:4; stroke-opacity:1; fill:none\" points=\"\n",
       "  2352.76,1423.18 2352.76,1404.28 \n",
       "  \"/>\n",
       "<polyline clip-path=\"url(#clip120)\" style=\"stroke:#000000; stroke-linecap:round; stroke-linejoin:round; stroke-width:4; stroke-opacity:1; fill:none\" points=\"\n",
       "  362.059,1423.18 362.059,1413.73 \n",
       "  \"/>\n",
       "<polyline clip-path=\"url(#clip120)\" style=\"stroke:#000000; stroke-linecap:round; stroke-linejoin:round; stroke-width:4; stroke-opacity:1; fill:none\" points=\"\n",
       "  504.252,1423.18 504.252,1413.73 \n",
       "  \"/>\n",
       "<polyline clip-path=\"url(#clip120)\" style=\"stroke:#000000; stroke-linecap:round; stroke-linejoin:round; stroke-width:4; stroke-opacity:1; fill:none\" points=\"\n",
       "  646.444,1423.18 646.444,1413.73 \n",
       "  \"/>\n",
       "<polyline clip-path=\"url(#clip120)\" style=\"stroke:#000000; stroke-linecap:round; stroke-linejoin:round; stroke-width:4; stroke-opacity:1; fill:none\" points=\"\n",
       "  788.637,1423.18 788.637,1413.73 \n",
       "  \"/>\n",
       "<polyline clip-path=\"url(#clip120)\" style=\"stroke:#000000; stroke-linecap:round; stroke-linejoin:round; stroke-width:4; stroke-opacity:1; fill:none\" points=\"\n",
       "  1073.02,1423.18 1073.02,1413.73 \n",
       "  \"/>\n",
       "<polyline clip-path=\"url(#clip120)\" style=\"stroke:#000000; stroke-linecap:round; stroke-linejoin:round; stroke-width:4; stroke-opacity:1; fill:none\" points=\"\n",
       "  1215.21,1423.18 1215.21,1413.73 \n",
       "  \"/>\n",
       "<polyline clip-path=\"url(#clip120)\" style=\"stroke:#000000; stroke-linecap:round; stroke-linejoin:round; stroke-width:4; stroke-opacity:1; fill:none\" points=\"\n",
       "  1357.41,1423.18 1357.41,1413.73 \n",
       "  \"/>\n",
       "<polyline clip-path=\"url(#clip120)\" style=\"stroke:#000000; stroke-linecap:round; stroke-linejoin:round; stroke-width:4; stroke-opacity:1; fill:none\" points=\"\n",
       "  1499.6,1423.18 1499.6,1413.73 \n",
       "  \"/>\n",
       "<polyline clip-path=\"url(#clip120)\" style=\"stroke:#000000; stroke-linecap:round; stroke-linejoin:round; stroke-width:4; stroke-opacity:1; fill:none\" points=\"\n",
       "  1783.99,1423.18 1783.99,1413.73 \n",
       "  \"/>\n",
       "<polyline clip-path=\"url(#clip120)\" style=\"stroke:#000000; stroke-linecap:round; stroke-linejoin:round; stroke-width:4; stroke-opacity:1; fill:none\" points=\"\n",
       "  1926.18,1423.18 1926.18,1413.73 \n",
       "  \"/>\n",
       "<polyline clip-path=\"url(#clip120)\" style=\"stroke:#000000; stroke-linecap:round; stroke-linejoin:round; stroke-width:4; stroke-opacity:1; fill:none\" points=\"\n",
       "  2068.37,1423.18 2068.37,1413.73 \n",
       "  \"/>\n",
       "<polyline clip-path=\"url(#clip120)\" style=\"stroke:#000000; stroke-linecap:round; stroke-linejoin:round; stroke-width:4; stroke-opacity:1; fill:none\" points=\"\n",
       "  2210.56,1423.18 2210.56,1413.73 \n",
       "  \"/>\n",
       "<path clip-path=\"url(#clip120)\" d=\"M219.866 1454.1 Q216.255 1454.1 214.426 1457.66 Q212.621 1461.2 212.621 1468.33 Q212.621 1475.44 214.426 1479.01 Q216.255 1482.55 219.866 1482.55 Q223.501 1482.55 225.306 1479.01 Q227.135 1475.44 227.135 1468.33 Q227.135 1461.2 225.306 1457.66 Q223.501 1454.1 219.866 1454.1 M219.866 1450.39 Q225.676 1450.39 228.732 1455 Q231.811 1459.58 231.811 1468.33 Q231.811 1477.06 228.732 1481.67 Q225.676 1486.25 219.866 1486.25 Q214.056 1486.25 210.977 1481.67 Q207.922 1477.06 207.922 1468.33 Q207.922 1459.58 210.977 1455 Q214.056 1450.39 219.866 1450.39 Z\" fill=\"#000000\" fill-rule=\"evenodd\" fill-opacity=\"1\" /><path clip-path=\"url(#clip120)\" d=\"M921.211 1481.64 L928.85 1481.64 L928.85 1455.28 L920.54 1456.95 L920.54 1452.69 L928.804 1451.02 L933.48 1451.02 L933.48 1481.64 L941.119 1481.64 L941.119 1485.58 L921.211 1485.58 L921.211 1481.64 Z\" fill=\"#000000\" fill-rule=\"evenodd\" fill-opacity=\"1\" /><path clip-path=\"url(#clip120)\" d=\"M1636.45 1481.64 L1652.76 1481.64 L1652.76 1485.58 L1630.82 1485.58 L1630.82 1481.64 Q1633.48 1478.89 1638.07 1474.26 Q1642.67 1469.61 1643.85 1468.27 Q1646.1 1465.74 1646.98 1464.01 Q1647.88 1462.25 1647.88 1460.56 Q1647.88 1457.8 1645.94 1456.07 Q1644.01 1454.33 1640.91 1454.33 Q1638.71 1454.33 1636.26 1455.09 Q1633.83 1455.86 1631.05 1457.41 L1631.05 1452.69 Q1633.88 1451.55 1636.33 1450.97 Q1638.78 1450.39 1640.82 1450.39 Q1646.19 1450.39 1649.39 1453.08 Q1652.58 1455.77 1652.58 1460.26 Q1652.58 1462.39 1651.77 1464.31 Q1650.98 1466.2 1648.88 1468.8 Q1648.3 1469.47 1645.2 1472.69 Q1642.09 1475.88 1636.45 1481.64 Z\" fill=\"#000000\" fill-rule=\"evenodd\" fill-opacity=\"1\" /><path clip-path=\"url(#clip120)\" d=\"M2357 1466.95 Q2360.36 1467.66 2362.24 1469.93 Q2364.13 1472.2 2364.13 1475.53 Q2364.13 1480.65 2360.61 1483.45 Q2357.1 1486.25 2350.61 1486.25 Q2348.44 1486.25 2346.12 1485.81 Q2343.83 1485.39 2341.38 1484.54 L2341.38 1480.02 Q2343.32 1481.16 2345.64 1481.74 Q2347.95 1482.32 2350.48 1482.32 Q2354.87 1482.32 2357.17 1480.58 Q2359.48 1478.84 2359.48 1475.53 Q2359.48 1472.48 2357.33 1470.77 Q2355.2 1469.03 2351.38 1469.03 L2347.35 1469.03 L2347.35 1465.19 L2351.56 1465.19 Q2355.01 1465.19 2356.84 1463.82 Q2358.67 1462.43 2358.67 1459.84 Q2358.67 1457.18 2356.77 1455.77 Q2354.9 1454.33 2351.38 1454.33 Q2349.46 1454.33 2347.26 1454.75 Q2345.06 1455.16 2342.42 1456.04 L2342.42 1451.88 Q2345.08 1451.14 2347.4 1450.77 Q2349.74 1450.39 2351.8 1450.39 Q2357.12 1450.39 2360.22 1452.83 Q2363.32 1455.23 2363.32 1459.35 Q2363.32 1462.22 2361.68 1464.21 Q2360.04 1466.18 2357 1466.95 Z\" fill=\"#000000\" fill-rule=\"evenodd\" fill-opacity=\"1\" /><path clip-path=\"url(#clip120)\" d=\"M968.264 1545.76 Q970.333 1546.46 972.275 1548.76 Q974.248 1551.05 976.222 1555.06 L982.746 1568.04 L975.84 1568.04 L969.76 1555.85 Q967.405 1551.08 965.177 1549.52 Q962.981 1547.96 959.162 1547.96 L952.159 1547.96 L952.159 1568.04 L945.73 1568.04 L945.73 1520.52 L960.244 1520.52 Q968.392 1520.52 972.402 1523.93 Q976.413 1527.34 976.413 1534.21 Q976.413 1538.7 974.312 1541.66 Q972.243 1544.62 968.264 1545.76 M952.159 1525.81 L952.159 1542.68 L960.244 1542.68 Q964.891 1542.68 967.246 1540.54 Q969.633 1538.38 969.633 1534.21 Q969.633 1530.04 967.246 1527.94 Q964.891 1525.81 960.244 1525.81 L952.159 1525.81 Z\" fill=\"#000000\" fill-rule=\"evenodd\" fill-opacity=\"1\" /><path clip-path=\"url(#clip120)\" d=\"M990.767 1532.4 L996.624 1532.4 L996.624 1568.04 L990.767 1568.04 L990.767 1532.4 M990.767 1518.52 L996.624 1518.52 L996.624 1525.93 L990.767 1525.93 L990.767 1518.52 Z\" fill=\"#000000\" fill-rule=\"evenodd\" fill-opacity=\"1\" /><path clip-path=\"url(#clip120)\" d=\"M1031.6 1533.45 L1031.6 1538.98 Q1029.12 1537.71 1026.45 1537.07 Q1023.77 1536.44 1020.91 1536.44 Q1016.55 1536.44 1014.35 1537.77 Q1012.19 1539.11 1012.19 1541.79 Q1012.19 1543.82 1013.75 1545 Q1015.31 1546.15 1020.02 1547.2 L1022.02 1547.64 Q1028.26 1548.98 1030.87 1551.43 Q1033.51 1553.85 1033.51 1558.21 Q1033.51 1563.17 1029.57 1566.07 Q1025.65 1568.97 1018.78 1568.97 Q1015.91 1568.97 1012.79 1568.39 Q1009.71 1567.85 1006.27 1566.74 L1006.27 1560.69 Q1009.51 1562.38 1012.67 1563.24 Q1015.82 1564.07 1018.9 1564.07 Q1023.04 1564.07 1025.27 1562.66 Q1027.5 1561.23 1027.5 1558.65 Q1027.5 1556.27 1025.87 1554.99 Q1024.28 1553.72 1018.84 1552.54 L1016.8 1552.07 Q1011.36 1550.92 1008.94 1548.56 Q1006.52 1546.18 1006.52 1542.04 Q1006.52 1537.01 1010.09 1534.27 Q1013.65 1531.54 1020.21 1531.54 Q1023.46 1531.54 1026.32 1532.01 Q1029.18 1532.49 1031.6 1533.45 Z\" fill=\"#000000\" fill-rule=\"evenodd\" fill-opacity=\"1\" /><path clip-path=\"url(#clip120)\" d=\"M1042.62 1518.52 L1048.5 1518.52 L1048.5 1547.77 L1065.98 1532.4 L1073.46 1532.4 L1054.55 1549.07 L1074.25 1568.04 L1066.61 1568.04 L1048.5 1550.63 L1048.5 1568.04 L1042.62 1568.04 L1042.62 1518.52 Z\" fill=\"#000000\" fill-rule=\"evenodd\" fill-opacity=\"1\" /><path clip-path=\"url(#clip120)\" d=\"M1129.06 1539.24 Q1131.26 1535.29 1134.31 1533.41 Q1137.37 1531.54 1141.51 1531.54 Q1147.08 1531.54 1150.1 1535.45 Q1153.12 1539.33 1153.12 1546.53 L1153.12 1568.04 L1147.24 1568.04 L1147.24 1546.72 Q1147.24 1541.59 1145.42 1539.11 Q1143.61 1536.63 1139.88 1536.63 Q1135.33 1536.63 1132.69 1539.65 Q1130.05 1542.68 1130.05 1547.9 L1130.05 1568.04 L1124.16 1568.04 L1124.16 1546.72 Q1124.16 1541.56 1122.35 1539.11 Q1120.53 1536.63 1116.74 1536.63 Q1112.26 1536.63 1109.61 1539.68 Q1106.97 1542.71 1106.97 1547.9 L1106.97 1568.04 L1101.08 1568.04 L1101.08 1532.4 L1106.97 1532.4 L1106.97 1537.93 Q1108.98 1534.66 1111.78 1533.1 Q1114.58 1531.54 1118.43 1531.54 Q1122.31 1531.54 1125.02 1533.51 Q1127.76 1535.48 1129.06 1539.24 Z\" fill=\"#000000\" fill-rule=\"evenodd\" fill-opacity=\"1\" /><path clip-path=\"url(#clip120)\" d=\"M1195.3 1548.76 L1195.3 1551.62 L1168.37 1551.62 Q1168.75 1557.67 1172 1560.85 Q1175.28 1564 1181.1 1564 Q1184.48 1564 1187.63 1563.17 Q1190.81 1562.35 1193.93 1560.69 L1193.93 1566.23 Q1190.78 1567.57 1187.47 1568.27 Q1184.16 1568.97 1180.75 1568.97 Q1172.22 1568.97 1167.22 1564 Q1162.26 1559.04 1162.26 1550.57 Q1162.26 1541.82 1166.97 1536.69 Q1171.71 1531.54 1179.73 1531.54 Q1186.93 1531.54 1191.1 1536.18 Q1195.3 1540.8 1195.3 1548.76 M1189.44 1547.04 Q1189.38 1542.23 1186.74 1539.37 Q1184.13 1536.5 1179.8 1536.5 Q1174.9 1536.5 1171.94 1539.27 Q1169.01 1542.04 1168.56 1547.07 L1189.44 1547.04 Z\" fill=\"#000000\" fill-rule=\"evenodd\" fill-opacity=\"1\" /><path clip-path=\"url(#clip120)\" d=\"M1221.11 1550.12 Q1214.01 1550.12 1211.28 1551.75 Q1208.54 1553.37 1208.54 1557.29 Q1208.54 1560.4 1210.58 1562.25 Q1212.64 1564.07 1216.18 1564.07 Q1221.05 1564.07 1223.97 1560.63 Q1226.93 1557.16 1226.93 1551.43 L1226.93 1550.12 L1221.11 1550.12 M1232.79 1547.71 L1232.79 1568.04 L1226.93 1568.04 L1226.93 1562.63 Q1224.93 1565.88 1221.94 1567.44 Q1218.95 1568.97 1214.62 1568.97 Q1209.14 1568.97 1205.9 1565.91 Q1202.68 1562.82 1202.68 1557.67 Q1202.68 1551.65 1206.69 1548.6 Q1210.73 1545.54 1218.72 1545.54 L1226.93 1545.54 L1226.93 1544.97 Q1226.93 1540.93 1224.26 1538.73 Q1221.62 1536.5 1216.81 1536.5 Q1213.76 1536.5 1210.86 1537.23 Q1207.97 1537.97 1205.29 1539.43 L1205.29 1534.02 Q1208.51 1532.78 1211.53 1532.17 Q1214.55 1531.54 1217.42 1531.54 Q1225.15 1531.54 1228.97 1535.55 Q1232.79 1539.56 1232.79 1547.71 Z\" fill=\"#000000\" fill-rule=\"evenodd\" fill-opacity=\"1\" /><path clip-path=\"url(#clip120)\" d=\"M1267.58 1533.45 L1267.58 1538.98 Q1265.1 1537.71 1262.42 1537.07 Q1259.75 1536.44 1256.89 1536.44 Q1252.53 1536.44 1250.33 1537.77 Q1248.16 1539.11 1248.16 1541.79 Q1248.16 1543.82 1249.72 1545 Q1251.28 1546.15 1255.99 1547.2 L1258 1547.64 Q1264.24 1548.98 1266.85 1551.43 Q1269.49 1553.85 1269.49 1558.21 Q1269.49 1563.17 1265.54 1566.07 Q1261.63 1568.97 1254.75 1568.97 Q1251.89 1568.97 1248.77 1568.39 Q1245.68 1567.85 1242.24 1566.74 L1242.24 1560.69 Q1245.49 1562.38 1248.64 1563.24 Q1251.79 1564.07 1254.88 1564.07 Q1259.02 1564.07 1261.25 1562.66 Q1263.47 1561.23 1263.47 1558.65 Q1263.47 1556.27 1261.85 1554.99 Q1260.26 1553.72 1254.82 1552.54 L1252.78 1552.07 Q1247.34 1550.92 1244.92 1548.56 Q1242.5 1546.18 1242.5 1542.04 Q1242.5 1537.01 1246.06 1534.27 Q1249.63 1531.54 1256.19 1531.54 Q1259.43 1531.54 1262.3 1532.01 Q1265.16 1532.49 1267.58 1533.45 Z\" fill=\"#000000\" fill-rule=\"evenodd\" fill-opacity=\"1\" /><path clip-path=\"url(#clip120)\" d=\"M1278.21 1553.98 L1278.21 1532.4 L1284.07 1532.4 L1284.07 1553.75 Q1284.07 1558.81 1286.04 1561.36 Q1288.01 1563.87 1291.96 1563.87 Q1296.7 1563.87 1299.44 1560.85 Q1302.21 1557.83 1302.21 1552.61 L1302.21 1532.4 L1308.07 1532.4 L1308.07 1568.04 L1302.21 1568.04 L1302.21 1562.57 Q1300.08 1565.82 1297.24 1567.41 Q1294.44 1568.97 1290.72 1568.97 Q1284.58 1568.97 1281.39 1565.15 Q1278.21 1561.33 1278.21 1553.98 M1292.95 1531.54 L1292.95 1531.54 Z\" fill=\"#000000\" fill-rule=\"evenodd\" fill-opacity=\"1\" /><path clip-path=\"url(#clip120)\" d=\"M1340.79 1537.87 Q1339.8 1537.3 1338.62 1537.04 Q1337.48 1536.76 1336.07 1536.76 Q1331.11 1536.76 1328.44 1540 Q1325.79 1543.22 1325.79 1549.27 L1325.79 1568.04 L1319.91 1568.04 L1319.91 1532.4 L1325.79 1532.4 L1325.79 1537.93 Q1327.64 1534.69 1330.6 1533.13 Q1333.56 1531.54 1337.79 1531.54 Q1338.4 1531.54 1339.13 1531.63 Q1339.86 1531.7 1340.75 1531.85 L1340.79 1537.87 Z\" fill=\"#000000\" fill-rule=\"evenodd\" fill-opacity=\"1\" /><path clip-path=\"url(#clip120)\" d=\"M1375.99 1548.76 L1375.99 1551.62 L1349.06 1551.62 Q1349.44 1557.67 1352.69 1560.85 Q1355.97 1564 1361.79 1564 Q1365.17 1564 1368.32 1563.17 Q1371.5 1562.35 1374.62 1560.69 L1374.62 1566.23 Q1371.47 1567.57 1368.16 1568.27 Q1364.85 1568.97 1361.44 1568.97 Q1352.91 1568.97 1347.92 1564 Q1342.95 1559.04 1342.95 1550.57 Q1342.95 1541.82 1347.66 1536.69 Q1352.4 1531.54 1360.42 1531.54 Q1367.62 1531.54 1371.79 1536.18 Q1375.99 1540.8 1375.99 1548.76 M1370.13 1547.04 Q1370.07 1542.23 1367.43 1539.37 Q1364.82 1536.5 1360.49 1536.5 Q1355.59 1536.5 1352.63 1539.27 Q1349.7 1542.04 1349.25 1547.07 L1370.13 1547.04 Z\" fill=\"#000000\" fill-rule=\"evenodd\" fill-opacity=\"1\" /><path clip-path=\"url(#clip120)\" d=\"M1420.39 1518.58 Q1416.12 1525.9 1414.05 1533.06 Q1411.99 1540.23 1411.99 1547.58 Q1411.99 1554.93 1414.05 1562.16 Q1416.16 1569.35 1420.39 1576.64 L1415.3 1576.64 Q1410.52 1569.16 1408.13 1561.93 Q1405.78 1554.71 1405.78 1547.58 Q1405.78 1540.48 1408.13 1533.29 Q1410.49 1526.09 1415.3 1518.58 L1420.39 1518.58 Z\" fill=\"#000000\" fill-rule=\"evenodd\" fill-opacity=\"1\" /><path clip-path=\"url(#clip120)\" d=\"M1445.57 1537.04 Q1440.73 1537.04 1438.12 1540.54 Q1435.38 1544.2 1435.38 1550.25 Q1435.38 1556.65 1438.09 1560.34 Q1440.82 1564 1445.57 1564 Q1450.24 1564 1452.98 1560.31 Q1455.72 1556.62 1455.72 1550.25 Q1455.72 1544.43 1452.98 1540.54 Q1450.47 1537.04 1445.57 1537.04 M1445.57 1532.4 L1465.01 1532.4 L1465.01 1538.25 L1458.46 1538.25 Q1461.93 1543.22 1461.93 1550.25 Q1461.93 1559 1457.56 1563.97 Q1453.2 1568.97 1445.57 1568.97 Q1437.89 1568.97 1433.57 1563.97 Q1429.21 1559 1429.21 1550.25 Q1429.21 1541.44 1433.57 1536.5 Q1437.16 1532.4 1445.57 1532.4 Z\" fill=\"#000000\" fill-rule=\"evenodd\" fill-opacity=\"1\" /><path clip-path=\"url(#clip120)\" d=\"M1470.1 1547.58 L1487.26 1547.58 L1487.26 1552.8 L1470.1 1552.8 L1470.1 1547.58 Z\" fill=\"#000000\" fill-rule=\"evenodd\" fill-opacity=\"1\" /><path clip-path=\"url(#clip120)\" d=\"M1517.24 1537.87 Q1516.26 1537.3 1515.08 1537.04 Q1513.93 1536.76 1512.53 1536.76 Q1507.57 1536.76 1504.89 1540 Q1502.25 1543.22 1502.25 1549.27 L1502.25 1568.04 L1496.36 1568.04 L1496.36 1532.4 L1502.25 1532.4 L1502.25 1537.93 Q1504.1 1534.69 1507.06 1533.13 Q1510.02 1531.54 1514.25 1531.54 Q1514.86 1531.54 1515.59 1531.63 Q1516.32 1531.7 1517.21 1531.85 L1517.24 1537.87 Z\" fill=\"#000000\" fill-rule=\"evenodd\" fill-opacity=\"1\" /><path clip-path=\"url(#clip120)\" d=\"M1523.39 1532.4 L1529.24 1532.4 L1529.24 1568.04 L1523.39 1568.04 L1523.39 1532.4 M1523.39 1518.52 L1529.24 1518.52 L1529.24 1525.93 L1523.39 1525.93 L1523.39 1518.52 Z\" fill=\"#000000\" fill-rule=\"evenodd\" fill-opacity=\"1\" /><path clip-path=\"url(#clip120)\" d=\"M1564.22 1533.45 L1564.22 1538.98 Q1561.74 1537.71 1559.07 1537.07 Q1556.39 1536.44 1553.53 1536.44 Q1549.17 1536.44 1546.97 1537.77 Q1544.81 1539.11 1544.81 1541.79 Q1544.81 1543.82 1546.37 1545 Q1547.93 1546.15 1552.64 1547.2 L1554.64 1547.64 Q1560.88 1548.98 1563.49 1551.43 Q1566.13 1553.85 1566.13 1558.21 Q1566.13 1563.17 1562.18 1566.07 Q1558.27 1568.97 1551.4 1568.97 Q1548.53 1568.97 1545.41 1568.39 Q1542.32 1567.85 1538.89 1566.74 L1538.89 1560.69 Q1542.13 1562.38 1545.28 1563.24 Q1548.43 1564.07 1551.52 1564.07 Q1555.66 1564.07 1557.89 1562.66 Q1560.12 1561.23 1560.12 1558.65 Q1560.12 1556.27 1558.49 1554.99 Q1556.9 1553.72 1551.46 1552.54 L1549.42 1552.07 Q1543.98 1550.92 1541.56 1548.56 Q1539.14 1546.18 1539.14 1542.04 Q1539.14 1537.01 1542.71 1534.27 Q1546.27 1531.54 1552.83 1531.54 Q1556.07 1531.54 1558.94 1532.01 Q1561.8 1532.49 1564.22 1533.45 Z\" fill=\"#000000\" fill-rule=\"evenodd\" fill-opacity=\"1\" /><path clip-path=\"url(#clip120)\" d=\"M1575.23 1518.52 L1581.12 1518.52 L1581.12 1547.77 L1598.6 1532.4 L1606.08 1532.4 L1587.17 1549.07 L1606.87 1568.04 L1599.23 1568.04 L1581.12 1550.63 L1581.12 1568.04 L1575.23 1568.04 L1575.23 1518.52 Z\" fill=\"#000000\" fill-rule=\"evenodd\" fill-opacity=\"1\" /><path clip-path=\"url(#clip120)\" d=\"M1612.28 1518.58 L1617.38 1518.58 Q1622.15 1526.09 1624.51 1533.29 Q1626.89 1540.48 1626.89 1547.58 Q1626.89 1554.71 1624.51 1561.93 Q1622.15 1569.16 1617.38 1576.64 L1612.28 1576.64 Q1616.52 1569.35 1618.59 1562.16 Q1620.69 1554.93 1620.69 1547.58 Q1620.69 1540.23 1618.59 1533.06 Q1616.52 1525.9 1612.28 1518.58 Z\" fill=\"#000000\" fill-rule=\"evenodd\" fill-opacity=\"1\" /><polyline clip-path=\"url(#clip122)\" style=\"stroke:#000000; stroke-linecap:round; stroke-linejoin:round; stroke-width:2; stroke-opacity:0.1; fill:none\" points=\"\n",
       "  219.866,1384.5 2352.76,1384.5 \n",
       "  \"/>\n",
       "<polyline clip-path=\"url(#clip122)\" style=\"stroke:#000000; stroke-linecap:round; stroke-linejoin:round; stroke-width:2; stroke-opacity:0.1; fill:none\" points=\"\n",
       "  219.866,1059.92 2352.76,1059.92 \n",
       "  \"/>\n",
       "<polyline clip-path=\"url(#clip122)\" style=\"stroke:#000000; stroke-linecap:round; stroke-linejoin:round; stroke-width:2; stroke-opacity:0.1; fill:none\" points=\"\n",
       "  219.866,735.352 2352.76,735.352 \n",
       "  \"/>\n",
       "<polyline clip-path=\"url(#clip122)\" style=\"stroke:#000000; stroke-linecap:round; stroke-linejoin:round; stroke-width:2; stroke-opacity:0.1; fill:none\" points=\"\n",
       "  219.866,410.78 2352.76,410.78 \n",
       "  \"/>\n",
       "<polyline clip-path=\"url(#clip122)\" style=\"stroke:#000000; stroke-linecap:round; stroke-linejoin:round; stroke-width:2; stroke-opacity:0.1; fill:none\" points=\"\n",
       "  219.866,86.2077 2352.76,86.2077 \n",
       "  \"/>\n",
       "<polyline clip-path=\"url(#clip120)\" style=\"stroke:#000000; stroke-linecap:round; stroke-linejoin:round; stroke-width:4; stroke-opacity:1; fill:none\" points=\"\n",
       "  219.866,1423.18 219.866,47.2441 \n",
       "  \"/>\n",
       "<polyline clip-path=\"url(#clip120)\" style=\"stroke:#000000; stroke-linecap:round; stroke-linejoin:round; stroke-width:4; stroke-opacity:1; fill:none\" points=\"\n",
       "  2352.76,1423.18 2352.76,47.2441 \n",
       "  \"/>\n",
       "<polyline clip-path=\"url(#clip120)\" style=\"stroke:#000000; stroke-linecap:round; stroke-linejoin:round; stroke-width:4; stroke-opacity:1; fill:none\" points=\"\n",
       "  219.866,1384.5 238.764,1384.5 \n",
       "  \"/>\n",
       "<polyline clip-path=\"url(#clip120)\" style=\"stroke:#000000; stroke-linecap:round; stroke-linejoin:round; stroke-width:4; stroke-opacity:1; fill:none\" points=\"\n",
       "  219.866,1059.92 238.764,1059.92 \n",
       "  \"/>\n",
       "<polyline clip-path=\"url(#clip120)\" style=\"stroke:#000000; stroke-linecap:round; stroke-linejoin:round; stroke-width:4; stroke-opacity:1; fill:none\" points=\"\n",
       "  219.866,735.352 238.764,735.352 \n",
       "  \"/>\n",
       "<polyline clip-path=\"url(#clip120)\" style=\"stroke:#000000; stroke-linecap:round; stroke-linejoin:round; stroke-width:4; stroke-opacity:1; fill:none\" points=\"\n",
       "  219.866,410.78 238.764,410.78 \n",
       "  \"/>\n",
       "<polyline clip-path=\"url(#clip120)\" style=\"stroke:#000000; stroke-linecap:round; stroke-linejoin:round; stroke-width:4; stroke-opacity:1; fill:none\" points=\"\n",
       "  219.866,86.2077 238.764,86.2077 \n",
       "  \"/>\n",
       "<polyline clip-path=\"url(#clip120)\" style=\"stroke:#000000; stroke-linecap:round; stroke-linejoin:round; stroke-width:4; stroke-opacity:1; fill:none\" points=\"\n",
       "  219.866,1319.58 229.315,1319.58 \n",
       "  \"/>\n",
       "<polyline clip-path=\"url(#clip120)\" style=\"stroke:#000000; stroke-linecap:round; stroke-linejoin:round; stroke-width:4; stroke-opacity:1; fill:none\" points=\"\n",
       "  219.866,1254.67 229.315,1254.67 \n",
       "  \"/>\n",
       "<polyline clip-path=\"url(#clip120)\" style=\"stroke:#000000; stroke-linecap:round; stroke-linejoin:round; stroke-width:4; stroke-opacity:1; fill:none\" points=\"\n",
       "  219.866,1189.75 229.315,1189.75 \n",
       "  \"/>\n",
       "<polyline clip-path=\"url(#clip120)\" style=\"stroke:#000000; stroke-linecap:round; stroke-linejoin:round; stroke-width:4; stroke-opacity:1; fill:none\" points=\"\n",
       "  219.866,1124.84 229.315,1124.84 \n",
       "  \"/>\n",
       "<polyline clip-path=\"url(#clip120)\" style=\"stroke:#000000; stroke-linecap:round; stroke-linejoin:round; stroke-width:4; stroke-opacity:1; fill:none\" points=\"\n",
       "  219.866,995.01 229.315,995.01 \n",
       "  \"/>\n",
       "<polyline clip-path=\"url(#clip120)\" style=\"stroke:#000000; stroke-linecap:round; stroke-linejoin:round; stroke-width:4; stroke-opacity:1; fill:none\" points=\"\n",
       "  219.866,930.096 229.315,930.096 \n",
       "  \"/>\n",
       "<polyline clip-path=\"url(#clip120)\" style=\"stroke:#000000; stroke-linecap:round; stroke-linejoin:round; stroke-width:4; stroke-opacity:1; fill:none\" points=\"\n",
       "  219.866,865.181 229.315,865.181 \n",
       "  \"/>\n",
       "<polyline clip-path=\"url(#clip120)\" style=\"stroke:#000000; stroke-linecap:round; stroke-linejoin:round; stroke-width:4; stroke-opacity:1; fill:none\" points=\"\n",
       "  219.866,800.267 229.315,800.267 \n",
       "  \"/>\n",
       "<polyline clip-path=\"url(#clip120)\" style=\"stroke:#000000; stroke-linecap:round; stroke-linejoin:round; stroke-width:4; stroke-opacity:1; fill:none\" points=\"\n",
       "  219.866,670.438 229.315,670.438 \n",
       "  \"/>\n",
       "<polyline clip-path=\"url(#clip120)\" style=\"stroke:#000000; stroke-linecap:round; stroke-linejoin:round; stroke-width:4; stroke-opacity:1; fill:none\" points=\"\n",
       "  219.866,605.524 229.315,605.524 \n",
       "  \"/>\n",
       "<polyline clip-path=\"url(#clip120)\" style=\"stroke:#000000; stroke-linecap:round; stroke-linejoin:round; stroke-width:4; stroke-opacity:1; fill:none\" points=\"\n",
       "  219.866,540.609 229.315,540.609 \n",
       "  \"/>\n",
       "<polyline clip-path=\"url(#clip120)\" style=\"stroke:#000000; stroke-linecap:round; stroke-linejoin:round; stroke-width:4; stroke-opacity:1; fill:none\" points=\"\n",
       "  219.866,475.695 229.315,475.695 \n",
       "  \"/>\n",
       "<polyline clip-path=\"url(#clip120)\" style=\"stroke:#000000; stroke-linecap:round; stroke-linejoin:round; stroke-width:4; stroke-opacity:1; fill:none\" points=\"\n",
       "  219.866,345.866 229.315,345.866 \n",
       "  \"/>\n",
       "<polyline clip-path=\"url(#clip120)\" style=\"stroke:#000000; stroke-linecap:round; stroke-linejoin:round; stroke-width:4; stroke-opacity:1; fill:none\" points=\"\n",
       "  219.866,280.951 229.315,280.951 \n",
       "  \"/>\n",
       "<polyline clip-path=\"url(#clip120)\" style=\"stroke:#000000; stroke-linecap:round; stroke-linejoin:round; stroke-width:4; stroke-opacity:1; fill:none\" points=\"\n",
       "  219.866,216.037 229.315,216.037 \n",
       "  \"/>\n",
       "<polyline clip-path=\"url(#clip120)\" style=\"stroke:#000000; stroke-linecap:round; stroke-linejoin:round; stroke-width:4; stroke-opacity:1; fill:none\" points=\"\n",
       "  219.866,151.122 229.315,151.122 \n",
       "  \"/>\n",
       "<path clip-path=\"url(#clip120)\" d=\"M126.691 1370.3 Q123.08 1370.3 121.251 1373.86 Q119.445 1377.4 119.445 1384.53 Q119.445 1391.64 121.251 1395.2 Q123.08 1398.74 126.691 1398.74 Q130.325 1398.74 132.13 1395.2 Q133.959 1391.64 133.959 1384.53 Q133.959 1377.4 132.13 1373.86 Q130.325 1370.3 126.691 1370.3 M126.691 1366.59 Q132.501 1366.59 135.556 1371.2 Q138.635 1375.78 138.635 1384.53 Q138.635 1393.26 135.556 1397.87 Q132.501 1402.45 126.691 1402.45 Q120.88 1402.45 117.802 1397.87 Q114.746 1393.26 114.746 1384.53 Q114.746 1375.78 117.802 1371.2 Q120.88 1366.59 126.691 1366.59 Z\" fill=\"#000000\" fill-rule=\"evenodd\" fill-opacity=\"1\" /><path clip-path=\"url(#clip120)\" d=\"M146.853 1395.9 L151.737 1395.9 L151.737 1401.78 L146.853 1401.78 L146.853 1395.9 Z\" fill=\"#000000\" fill-rule=\"evenodd\" fill-opacity=\"1\" /><path clip-path=\"url(#clip120)\" d=\"M171.922 1370.3 Q168.311 1370.3 166.482 1373.86 Q164.677 1377.4 164.677 1384.53 Q164.677 1391.64 166.482 1395.2 Q168.311 1398.74 171.922 1398.74 Q175.556 1398.74 177.362 1395.2 Q179.19 1391.64 179.19 1384.53 Q179.19 1377.4 177.362 1373.86 Q175.556 1370.3 171.922 1370.3 M171.922 1366.59 Q177.732 1366.59 180.788 1371.2 Q183.866 1375.78 183.866 1384.53 Q183.866 1393.26 180.788 1397.87 Q177.732 1402.45 171.922 1402.45 Q166.112 1402.45 163.033 1397.87 Q159.978 1393.26 159.978 1384.53 Q159.978 1375.78 163.033 1371.2 Q166.112 1366.59 171.922 1366.59 Z\" fill=\"#000000\" fill-rule=\"evenodd\" fill-opacity=\"1\" /><path clip-path=\"url(#clip120)\" d=\"M127.917 1045.72 Q124.306 1045.72 122.478 1049.29 Q120.672 1052.83 120.672 1059.96 Q120.672 1067.07 122.478 1070.63 Q124.306 1074.17 127.917 1074.17 Q131.552 1074.17 133.357 1070.63 Q135.186 1067.07 135.186 1059.96 Q135.186 1052.83 133.357 1049.29 Q131.552 1045.72 127.917 1045.72 M127.917 1042.02 Q133.728 1042.02 136.783 1046.63 Q139.862 1051.21 139.862 1059.96 Q139.862 1068.69 136.783 1073.29 Q133.728 1077.88 127.917 1077.88 Q122.107 1077.88 119.029 1073.29 Q115.973 1068.69 115.973 1059.96 Q115.973 1051.21 119.029 1046.63 Q122.107 1042.02 127.917 1042.02 Z\" fill=\"#000000\" fill-rule=\"evenodd\" fill-opacity=\"1\" /><path clip-path=\"url(#clip120)\" d=\"M148.079 1071.33 L152.964 1071.33 L152.964 1077.2 L148.079 1077.2 L148.079 1071.33 Z\" fill=\"#000000\" fill-rule=\"evenodd\" fill-opacity=\"1\" /><path clip-path=\"url(#clip120)\" d=\"M163.959 1073.27 L171.598 1073.27 L171.598 1046.9 L163.288 1048.57 L163.288 1044.31 L171.552 1042.64 L176.227 1042.64 L176.227 1073.27 L183.866 1073.27 L183.866 1077.2 L163.959 1077.2 L163.959 1073.27 Z\" fill=\"#000000\" fill-rule=\"evenodd\" fill-opacity=\"1\" /><path clip-path=\"url(#clip120)\" d=\"M128.288 721.151 Q124.677 721.151 122.848 724.716 Q121.043 728.258 121.043 735.387 Q121.043 742.494 122.848 746.058 Q124.677 749.6 128.288 749.6 Q131.922 749.6 133.728 746.058 Q135.556 742.494 135.556 735.387 Q135.556 728.258 133.728 724.716 Q131.922 721.151 128.288 721.151 M128.288 717.447 Q134.098 717.447 137.154 722.054 Q140.232 726.637 140.232 735.387 Q140.232 744.114 137.154 748.72 Q134.098 753.304 128.288 753.304 Q122.478 753.304 119.399 748.72 Q116.343 744.114 116.343 735.387 Q116.343 726.637 119.399 722.054 Q122.478 717.447 128.288 717.447 Z\" fill=\"#000000\" fill-rule=\"evenodd\" fill-opacity=\"1\" /><path clip-path=\"url(#clip120)\" d=\"M148.45 746.753 L153.334 746.753 L153.334 752.632 L148.45 752.632 L148.45 746.753 Z\" fill=\"#000000\" fill-rule=\"evenodd\" fill-opacity=\"1\" /><path clip-path=\"url(#clip120)\" d=\"M167.547 748.697 L183.866 748.697 L183.866 752.632 L161.922 752.632 L161.922 748.697 Q164.584 745.943 169.167 741.313 Q173.774 736.66 174.954 735.318 Q177.2 732.795 178.079 731.059 Q178.982 729.299 178.982 727.609 Q178.982 724.855 177.038 723.119 Q175.116 721.383 172.014 721.383 Q169.815 721.383 167.362 722.147 Q164.931 722.91 162.153 724.461 L162.153 719.739 Q164.977 718.605 167.431 718.026 Q169.885 717.447 171.922 717.447 Q177.292 717.447 180.487 720.133 Q183.681 722.818 183.681 727.309 Q183.681 729.438 182.871 731.359 Q182.084 733.258 179.977 735.85 Q179.399 736.521 176.297 739.739 Q173.195 742.933 167.547 748.697 Z\" fill=\"#000000\" fill-rule=\"evenodd\" fill-opacity=\"1\" /><path clip-path=\"url(#clip120)\" d=\"M127.339 396.579 Q123.728 396.579 121.899 400.144 Q120.093 403.685 120.093 410.815 Q120.093 417.921 121.899 421.486 Q123.728 425.028 127.339 425.028 Q130.973 425.028 132.779 421.486 Q134.607 417.921 134.607 410.815 Q134.607 403.685 132.779 400.144 Q130.973 396.579 127.339 396.579 M127.339 392.875 Q133.149 392.875 136.204 397.482 Q139.283 402.065 139.283 410.815 Q139.283 419.542 136.204 424.148 Q133.149 428.731 127.339 428.731 Q121.529 428.731 118.45 424.148 Q115.394 419.542 115.394 410.815 Q115.394 402.065 118.45 397.482 Q121.529 392.875 127.339 392.875 Z\" fill=\"#000000\" fill-rule=\"evenodd\" fill-opacity=\"1\" /><path clip-path=\"url(#clip120)\" d=\"M147.501 422.18 L152.385 422.18 L152.385 428.06 L147.501 428.06 L147.501 422.18 Z\" fill=\"#000000\" fill-rule=\"evenodd\" fill-opacity=\"1\" /><path clip-path=\"url(#clip120)\" d=\"M176.737 409.426 Q180.093 410.144 181.968 412.412 Q183.866 414.681 183.866 418.014 Q183.866 423.13 180.348 425.93 Q176.829 428.731 170.348 428.731 Q168.172 428.731 165.857 428.292 Q163.565 427.875 161.112 427.018 L161.112 422.505 Q163.056 423.639 165.371 424.218 Q167.686 424.796 170.209 424.796 Q174.607 424.796 176.899 423.06 Q179.214 421.324 179.214 418.014 Q179.214 414.958 177.061 413.245 Q174.931 411.509 171.112 411.509 L167.084 411.509 L167.084 407.667 L171.297 407.667 Q174.746 407.667 176.575 406.301 Q178.403 404.912 178.403 402.319 Q178.403 399.657 176.505 398.245 Q174.63 396.81 171.112 396.81 Q169.19 396.81 166.991 397.227 Q164.792 397.644 162.153 398.523 L162.153 394.357 Q164.815 393.616 167.13 393.245 Q169.468 392.875 171.528 392.875 Q176.852 392.875 179.954 395.306 Q183.056 397.713 183.056 401.833 Q183.056 404.704 181.413 406.694 Q179.769 408.662 176.737 409.426 Z\" fill=\"#000000\" fill-rule=\"evenodd\" fill-opacity=\"1\" /><path clip-path=\"url(#clip120)\" d=\"M126.205 72.0064 Q122.593 72.0064 120.765 75.5712 Q118.959 79.1128 118.959 86.2424 Q118.959 93.3489 120.765 96.9137 Q122.593 100.455 126.205 100.455 Q129.839 100.455 131.644 96.9137 Q133.473 93.3489 133.473 86.2424 Q133.473 79.1128 131.644 75.5712 Q129.839 72.0064 126.205 72.0064 M126.205 68.3027 Q132.015 68.3027 135.07 72.9092 Q138.149 77.4925 138.149 86.2424 Q138.149 94.9692 135.07 99.5757 Q132.015 104.159 126.205 104.159 Q120.394 104.159 117.316 99.5757 Q114.26 94.9692 114.26 86.2424 Q114.26 77.4925 117.316 72.9092 Q120.394 68.3027 126.205 68.3027 Z\" fill=\"#000000\" fill-rule=\"evenodd\" fill-opacity=\"1\" /><path clip-path=\"url(#clip120)\" d=\"M146.366 97.6081 L151.251 97.6081 L151.251 103.488 L146.366 103.488 L146.366 97.6081 Z\" fill=\"#000000\" fill-rule=\"evenodd\" fill-opacity=\"1\" /><path clip-path=\"url(#clip120)\" d=\"M174.283 73.0018 L162.477 91.4507 L174.283 91.4507 L174.283 73.0018 M173.056 68.9277 L178.936 68.9277 L178.936 91.4507 L183.866 91.4507 L183.866 95.3396 L178.936 95.3396 L178.936 103.488 L174.283 103.488 L174.283 95.3396 L158.681 95.3396 L158.681 90.8257 L173.056 68.9277 Z\" fill=\"#000000\" fill-rule=\"evenodd\" fill-opacity=\"1\" /><path clip-path=\"url(#clip120)\" d=\"M16.4842 1265.95 L16.4842 1235.91 L21.895 1235.91 L21.895 1259.52 L35.9632 1259.52 L35.9632 1236.89 L41.3741 1236.89 L41.3741 1259.52 L58.5933 1259.52 L58.5933 1235.33 L64.0042 1235.33 L64.0042 1265.95 L16.4842 1265.95 Z\" fill=\"#000000\" fill-rule=\"evenodd\" fill-opacity=\"1\" /><path clip-path=\"url(#clip120)\" d=\"M28.3562 1195.39 L45.7028 1208.28 L64.0042 1194.72 L64.0042 1201.63 L49.9996 1212 L64.0042 1222.38 L64.0042 1229.29 L45.3526 1215.44 L28.3562 1228.11 L28.3562 1221.2 L41.0558 1211.75 L28.3562 1202.3 L28.3562 1195.39 Z\" fill=\"#000000\" fill-rule=\"evenodd\" fill-opacity=\"1\" /><path clip-path=\"url(#clip120)\" d=\"M44.7161 1157.96 L47.5806 1157.96 L47.5806 1184.89 Q53.6281 1184.5 56.8109 1181.26 Q59.9619 1177.98 59.9619 1172.15 Q59.9619 1168.78 59.1344 1165.63 Q58.3069 1162.45 56.6518 1159.33 L62.1899 1159.33 Q63.5267 1162.48 64.227 1165.79 Q64.9272 1169.1 64.9272 1172.5 Q64.9272 1181.03 59.9619 1186.03 Q54.9967 1191 46.5303 1191 Q37.7774 1191 32.6531 1186.29 Q27.4968 1181.54 27.4968 1173.52 Q27.4968 1166.33 32.1438 1162.16 Q36.7589 1157.96 44.7161 1157.96 M42.9973 1163.81 Q38.1912 1163.88 35.3266 1166.52 Q32.4621 1169.13 32.4621 1173.46 Q32.4621 1178.36 35.2312 1181.32 Q38.0002 1184.25 43.0292 1184.69 L42.9973 1163.81 Z\" fill=\"#000000\" fill-rule=\"evenodd\" fill-opacity=\"1\" /><path clip-path=\"url(#clip120)\" d=\"M58.657 1142.68 L77.5631 1142.68 L77.5631 1148.57 L28.3562 1148.57 L28.3562 1142.68 L33.7671 1142.68 Q30.5842 1140.83 29.0564 1138.03 Q27.4968 1135.2 27.4968 1131.29 Q27.4968 1124.79 32.6531 1120.75 Q37.8093 1116.68 46.212 1116.68 Q54.6147 1116.68 59.771 1120.75 Q64.9272 1124.79 64.9272 1131.29 Q64.9272 1135.2 63.3994 1138.03 Q61.8398 1140.83 58.657 1142.68 M46.212 1122.76 Q39.7508 1122.76 36.0905 1125.43 Q32.3984 1128.07 32.3984 1132.72 Q32.3984 1137.37 36.0905 1140.04 Q39.7508 1142.68 46.212 1142.68 Q52.6732 1142.68 56.3653 1140.04 Q60.0256 1137.37 60.0256 1132.72 Q60.0256 1128.07 56.3653 1125.43 Q52.6732 1122.76 46.212 1122.76 Z\" fill=\"#000000\" fill-rule=\"evenodd\" fill-opacity=\"1\" /><path clip-path=\"url(#clip120)\" d=\"M29.7248 1081.32 L35.1993 1081.32 Q33.8307 1083.8 33.1623 1086.31 Q32.4621 1088.8 32.4621 1091.34 Q32.4621 1097.04 36.0905 1100.19 Q39.6872 1103.34 46.212 1103.34 Q52.7369 1103.34 56.3653 1100.19 Q59.9619 1097.04 59.9619 1091.34 Q59.9619 1088.8 59.2935 1086.31 Q58.5933 1083.8 57.2247 1081.32 L62.6355 1081.32 Q63.7814 1083.77 64.3543 1086.41 Q64.9272 1089.02 64.9272 1091.98 Q64.9272 1100.03 59.8664 1104.77 Q54.8057 1109.52 46.212 1109.52 Q37.491 1109.52 32.4939 1104.74 Q27.4968 1099.94 27.4968 1091.6 Q27.4968 1088.89 28.0697 1086.31 Q28.6108 1083.73 29.7248 1081.32 Z\" fill=\"#000000\" fill-rule=\"evenodd\" fill-opacity=\"1\" /><path clip-path=\"url(#clip120)\" d=\"M18.2347 1065.34 L28.3562 1065.34 L28.3562 1053.27 L32.9077 1053.27 L32.9077 1065.34 L52.2594 1065.34 Q56.6199 1065.34 57.8613 1064.16 Q59.1026 1062.95 59.1026 1059.29 L59.1026 1053.27 L64.0042 1053.27 L64.0042 1059.29 Q64.0042 1066.07 61.4897 1068.65 Q58.9434 1071.23 52.2594 1071.23 L32.9077 1071.23 L32.9077 1075.52 L28.3562 1075.52 L28.3562 1071.23 L18.2347 1071.23 L18.2347 1065.34 Z\" fill=\"#000000\" fill-rule=\"evenodd\" fill-opacity=\"1\" /><path clip-path=\"url(#clip120)\" d=\"M44.7161 1015.08 L47.5806 1015.08 L47.5806 1042.01 Q53.6281 1041.63 56.8109 1038.38 Q59.9619 1035.1 59.9619 1029.28 Q59.9619 1025.9 59.1344 1022.75 Q58.3069 1019.57 56.6518 1016.45 L62.1899 1016.45 Q63.5267 1019.6 64.227 1022.91 Q64.9272 1026.22 64.9272 1029.63 Q64.9272 1038.16 59.9619 1043.15 Q54.9967 1048.12 46.5303 1048.12 Q37.7774 1048.12 32.6531 1043.41 Q27.4968 1038.67 27.4968 1030.64 Q27.4968 1023.45 32.1438 1019.28 Q36.7589 1015.08 44.7161 1015.08 M42.9973 1020.94 Q38.1912 1021 35.3266 1023.64 Q32.4621 1026.25 32.4621 1030.58 Q32.4621 1035.48 35.2312 1038.44 Q38.0002 1041.37 43.0292 1041.82 L42.9973 1020.94 Z\" fill=\"#000000\" fill-rule=\"evenodd\" fill-opacity=\"1\" /><path clip-path=\"url(#clip120)\" d=\"M33.7671 982.01 L14.479 982.01 L14.479 976.154 L64.0042 976.154 L64.0042 982.01 L58.657 982.01 Q61.8398 983.856 63.3994 986.689 Q64.9272 989.49 64.9272 993.437 Q64.9272 999.898 59.771 1003.97 Q54.6147 1008.01 46.212 1008.01 Q37.8093 1008.01 32.6531 1003.97 Q27.4968 999.898 27.4968 993.437 Q27.4968 989.49 29.0564 986.689 Q30.5842 983.856 33.7671 982.01 M46.212 1001.97 Q52.6732 1001.97 56.3653 999.325 Q60.0256 996.652 60.0256 992.005 Q60.0256 987.358 56.3653 984.684 Q52.6732 982.01 46.212 982.01 Q39.7508 982.01 36.0905 984.684 Q32.3984 987.358 32.3984 992.005 Q32.3984 996.652 36.0905 999.325 Q39.7508 1001.97 46.212 1001.97 Z\" fill=\"#000000\" fill-rule=\"evenodd\" fill-opacity=\"1\" /><path clip-path=\"url(#clip120)\" d=\"M44.7161 912.879 L47.5806 912.879 L47.5806 939.806 Q53.6281 939.424 56.8109 936.177 Q59.9619 932.899 59.9619 927.074 Q59.9619 923.701 59.1344 920.55 Q58.3069 917.367 56.6518 914.247 L62.1899 914.247 Q63.5267 917.398 64.227 920.709 Q64.9272 924.019 64.9272 927.424 Q64.9272 935.955 59.9619 940.952 Q54.9967 945.917 46.5303 945.917 Q37.7774 945.917 32.6531 941.206 Q27.4968 936.464 27.4968 928.443 Q27.4968 921.25 32.1438 917.08 Q36.7589 912.879 44.7161 912.879 M42.9973 918.735 Q38.1912 918.799 35.3266 921.441 Q32.4621 924.051 32.4621 928.379 Q32.4621 933.281 35.2312 936.241 Q38.0002 939.169 43.0292 939.615 L42.9973 918.735 Z\" fill=\"#000000\" fill-rule=\"evenodd\" fill-opacity=\"1\" /><path clip-path=\"url(#clip120)\" d=\"M28.3562 874.78 L45.7028 887.671 L64.0042 874.112 L64.0042 881.018 L49.9996 891.395 L64.0042 901.771 L64.0042 908.677 L45.3526 894.832 L28.3562 907.5 L28.3562 900.593 L41.0558 891.14 L28.3562 881.687 L28.3562 874.78 Z\" fill=\"#000000\" fill-rule=\"evenodd\" fill-opacity=\"1\" /><path clip-path=\"url(#clip120)\" d=\"M29.7248 841.328 L35.1993 841.328 Q33.8307 843.811 33.1623 846.325 Q32.4621 848.808 32.4621 851.354 Q32.4621 857.052 36.0905 860.203 Q39.6872 863.354 46.212 863.354 Q52.7369 863.354 56.3653 860.203 Q59.9619 857.052 59.9619 851.354 Q59.9619 848.808 59.2935 846.325 Q58.5933 843.811 57.2247 841.328 L62.6355 841.328 Q63.7814 843.779 64.3543 846.421 Q64.9272 849.031 64.9272 851.991 Q64.9272 860.043 59.8664 864.786 Q54.8057 869.528 46.212 869.528 Q37.491 869.528 32.4939 864.754 Q27.4968 859.948 27.4968 851.609 Q27.4968 848.903 28.0697 846.325 Q28.6108 843.747 29.7248 841.328 Z\" fill=\"#000000\" fill-rule=\"evenodd\" fill-opacity=\"1\" /><path clip-path=\"url(#clip120)\" d=\"M44.7161 800.651 L47.5806 800.651 L47.5806 827.578 Q53.6281 827.196 56.8109 823.95 Q59.9619 820.672 59.9619 814.847 Q59.9619 811.473 59.1344 808.322 Q58.3069 805.139 56.6518 802.02 L62.1899 802.02 Q63.5267 805.171 64.227 808.481 Q64.9272 811.791 64.9272 815.197 Q64.9272 823.727 59.9619 828.724 Q54.9967 833.689 46.5303 833.689 Q37.7774 833.689 32.6531 828.979 Q27.4968 824.236 27.4968 816.216 Q27.4968 809.022 32.1438 804.853 Q36.7589 800.651 44.7161 800.651 M42.9973 806.508 Q38.1912 806.572 35.3266 809.213 Q32.4621 811.823 32.4621 816.152 Q32.4621 821.054 35.2312 824.014 Q38.0002 826.942 43.0292 827.387 L42.9973 806.508 Z\" fill=\"#000000\" fill-rule=\"evenodd\" fill-opacity=\"1\" /><path clip-path=\"url(#clip120)\" d=\"M29.4065 768.314 L34.9447 768.314 Q33.6716 770.796 33.035 773.47 Q32.3984 776.143 32.3984 779.008 Q32.3984 783.369 33.7352 785.565 Q35.072 787.729 37.7456 787.729 Q39.7826 787.729 40.9603 786.169 Q42.1061 784.61 43.1565 779.899 L43.6021 777.894 Q44.9389 771.656 47.3897 769.046 Q49.8086 766.404 54.1691 766.404 Q59.1344 766.404 62.0308 770.351 Q64.9272 774.266 64.9272 781.141 Q64.9272 784.005 64.3543 787.124 Q63.8132 790.212 62.6992 793.649 L56.6518 793.649 Q58.3387 790.403 59.198 787.252 Q60.0256 784.101 60.0256 781.013 Q60.0256 776.876 58.6251 774.648 Q57.1929 772.42 54.6147 772.42 Q52.2276 772.42 50.9545 774.043 Q49.6813 775.634 48.5037 781.077 L48.0262 783.114 Q46.8804 788.557 44.5251 790.976 Q42.138 793.395 38.0002 793.395 Q32.9713 793.395 30.2341 789.83 Q27.4968 786.265 27.4968 779.708 Q27.4968 776.462 27.9743 773.597 Q28.4517 770.733 29.4065 768.314 Z\" fill=\"#000000\" fill-rule=\"evenodd\" fill-opacity=\"1\" /><path clip-path=\"url(#clip120)\" d=\"M29.4065 734.353 L34.9447 734.353 Q33.6716 736.835 33.035 739.509 Q32.3984 742.182 32.3984 745.047 Q32.3984 749.407 33.7352 751.604 Q35.072 753.768 37.7456 753.768 Q39.7826 753.768 40.9603 752.208 Q42.1061 750.649 43.1565 745.938 L43.6021 743.933 Q44.9389 737.695 47.3897 735.085 Q49.8086 732.443 54.1691 732.443 Q59.1344 732.443 62.0308 736.39 Q64.9272 740.305 64.9272 747.179 Q64.9272 750.044 64.3543 753.163 Q63.8132 756.251 62.6992 759.688 L56.6518 759.688 Q58.3387 756.442 59.198 753.291 Q60.0256 750.14 60.0256 747.052 Q60.0256 742.914 58.6251 740.686 Q57.1929 738.458 54.6147 738.458 Q52.2276 738.458 50.9545 740.082 Q49.6813 741.673 48.5037 747.116 L48.0262 749.153 Q46.8804 754.596 44.5251 757.015 Q42.138 759.433 38.0002 759.433 Q32.9713 759.433 30.2341 755.869 Q27.4968 752.304 27.4968 745.747 Q27.4968 742.501 27.9743 739.636 Q28.4517 736.772 29.4065 734.353 Z\" fill=\"#000000\" fill-rule=\"evenodd\" fill-opacity=\"1\" /><path clip-path=\"url(#clip120)\" d=\"M33.7671 678.939 L14.479 678.939 L14.479 673.083 L64.0042 673.083 L64.0042 678.939 L58.657 678.939 Q61.8398 680.785 63.3994 683.618 Q64.9272 686.419 64.9272 690.366 Q64.9272 696.827 59.771 700.901 Q54.6147 704.943 46.212 704.943 Q37.8093 704.943 32.6531 700.901 Q27.4968 696.827 27.4968 690.366 Q27.4968 686.419 29.0564 683.618 Q30.5842 680.785 33.7671 678.939 M46.212 698.896 Q52.6732 698.896 56.3653 696.254 Q60.0256 693.58 60.0256 688.933 Q60.0256 684.286 56.3653 681.613 Q52.6732 678.939 46.212 678.939 Q39.7508 678.939 36.0905 681.613 Q32.3984 684.286 32.3984 688.933 Q32.3984 693.58 36.0905 696.254 Q39.7508 698.896 46.212 698.896 Z\" fill=\"#000000\" fill-rule=\"evenodd\" fill-opacity=\"1\" /><path clip-path=\"url(#clip120)\" d=\"M46.0847 644.819 Q46.0847 651.917 47.7079 654.654 Q49.3312 657.391 53.2461 657.391 Q56.3653 657.391 58.2114 655.354 Q60.0256 653.285 60.0256 649.752 Q60.0256 644.883 56.5881 641.954 Q53.1188 638.994 47.3897 638.994 L46.0847 638.994 L46.0847 644.819 M43.6657 633.138 L64.0042 633.138 L64.0042 638.994 L58.5933 638.994 Q61.8398 641 63.3994 643.991 Q64.9272 646.983 64.9272 651.312 Q64.9272 656.786 61.8716 660.033 Q58.7843 663.248 53.6281 663.248 Q47.6125 663.248 44.5569 659.237 Q41.5014 655.195 41.5014 647.206 L41.5014 638.994 L40.9285 638.994 Q36.8862 638.994 34.6901 641.668 Q32.4621 644.31 32.4621 649.116 Q32.4621 652.171 33.1941 655.068 Q33.9262 657.964 35.3903 660.638 L29.9795 660.638 Q28.7381 657.423 28.1334 654.399 Q27.4968 651.376 27.4968 648.511 Q27.4968 640.777 31.5072 636.957 Q35.5176 633.138 43.6657 633.138 Z\" fill=\"#000000\" fill-rule=\"evenodd\" fill-opacity=\"1\" /><path clip-path=\"url(#clip120)\" d=\"M28.3562 621.075 L28.3562 615.218 L64.0042 615.218 L64.0042 621.075 L28.3562 621.075 M14.479 621.075 L14.479 615.218 L21.895 615.218 L21.895 621.075 L14.479 621.075 Z\" fill=\"#000000\" fill-rule=\"evenodd\" fill-opacity=\"1\" /><path clip-path=\"url(#clip120)\" d=\"M14.479 602.964 L14.479 597.108 L64.0042 597.108 L64.0042 602.964 L14.479 602.964 Z\" fill=\"#000000\" fill-rule=\"evenodd\" fill-opacity=\"1\" /><path clip-path=\"url(#clip120)\" d=\"M67.3143 570.022 Q73.68 572.505 75.6216 574.86 Q77.5631 577.215 77.5631 581.162 L77.5631 585.841 L72.6615 585.841 L72.6615 582.403 Q72.6615 579.984 71.5157 578.647 Q70.3699 577.311 66.1048 575.687 L63.4312 574.637 L28.3562 589.055 L28.3562 582.849 L56.238 571.709 L28.3562 560.569 L28.3562 554.362 L67.3143 570.022 Z\" fill=\"#000000\" fill-rule=\"evenodd\" fill-opacity=\"1\" /><path clip-path=\"url(#clip120)\" d=\"M33.8307 504.901 Q33.2578 505.887 33.0032 507.065 Q32.7167 508.211 32.7167 509.611 Q32.7167 514.577 35.9632 517.25 Q39.1779 519.892 45.2253 519.892 L64.0042 519.892 L64.0042 525.78 L28.3562 525.78 L28.3562 519.892 L33.8944 519.892 Q30.6479 518.046 29.0883 515.086 Q27.4968 512.126 27.4968 507.893 Q27.4968 507.288 27.5923 506.556 Q27.656 505.824 27.8151 504.933 L33.8307 504.901 Z\" fill=\"#000000\" fill-rule=\"evenodd\" fill-opacity=\"1\" /><path clip-path=\"url(#clip120)\" d=\"M44.7161 469.698 L47.5806 469.698 L47.5806 496.625 Q53.6281 496.243 56.8109 492.997 Q59.9619 489.718 59.9619 483.894 Q59.9619 480.52 59.1344 477.369 Q58.3069 474.186 56.6518 471.067 L62.1899 471.067 Q63.5267 474.218 64.227 477.528 Q64.9272 480.838 64.9272 484.244 Q64.9272 492.774 59.9619 497.771 Q54.9967 502.736 46.5303 502.736 Q37.7774 502.736 32.6531 498.026 Q27.4968 493.283 27.4968 485.262 Q27.4968 478.069 32.1438 473.9 Q36.7589 469.698 44.7161 469.698 M42.9973 475.555 Q38.1912 475.618 35.3266 478.26 Q32.4621 480.87 32.4621 485.199 Q32.4621 490.1 35.2312 493.06 Q38.0002 495.989 43.0292 496.434 L42.9973 475.555 Z\" fill=\"#000000\" fill-rule=\"evenodd\" fill-opacity=\"1\" /><path clip-path=\"url(#clip120)\" d=\"M18.2347 454.293 L28.3562 454.293 L28.3562 442.23 L32.9077 442.23 L32.9077 454.293 L52.2594 454.293 Q56.6199 454.293 57.8613 453.116 Q59.1026 451.906 59.1026 448.246 L59.1026 442.23 L64.0042 442.23 L64.0042 448.246 Q64.0042 455.025 61.4897 457.604 Q58.9434 460.182 52.2594 460.182 L32.9077 460.182 L32.9077 464.478 L28.3562 464.478 L28.3562 460.182 L18.2347 460.182 L18.2347 454.293 Z\" fill=\"#000000\" fill-rule=\"evenodd\" fill-opacity=\"1\" /><path clip-path=\"url(#clip120)\" d=\"M49.9359 435.133 L28.3562 435.133 L28.3562 429.276 L49.7131 429.276 Q54.7739 429.276 57.3202 427.303 Q59.8346 425.329 59.8346 421.383 Q59.8346 416.64 56.8109 413.903 Q53.7872 411.134 48.5673 411.134 L28.3562 411.134 L28.3562 405.277 L64.0042 405.277 L64.0042 411.134 L58.5296 411.134 Q61.7762 413.266 63.3676 416.099 Q64.9272 418.9 64.9272 422.624 Q64.9272 428.767 61.1078 431.95 Q57.2883 435.133 49.9359 435.133 M27.4968 420.396 L27.4968 420.396 Z\" fill=\"#000000\" fill-rule=\"evenodd\" fill-opacity=\"1\" /><path clip-path=\"url(#clip120)\" d=\"M33.8307 372.558 Q33.2578 373.544 33.0032 374.722 Q32.7167 375.868 32.7167 377.268 Q32.7167 382.234 35.9632 384.907 Q39.1779 387.549 45.2253 387.549 L64.0042 387.549 L64.0042 393.437 L28.3562 393.437 L28.3562 387.549 L33.8944 387.549 Q30.6479 385.703 29.0883 382.743 Q27.4968 379.783 27.4968 375.55 Q27.4968 374.945 27.5923 374.213 Q27.656 373.481 27.8151 372.589 L33.8307 372.558 Z\" fill=\"#000000\" fill-rule=\"evenodd\" fill-opacity=\"1\" /><path clip-path=\"url(#clip120)\" d=\"M42.4881 337.928 L64.0042 337.928 L64.0042 343.785 L42.679 343.785 Q37.6183 343.785 35.1038 345.758 Q32.5894 347.731 32.5894 351.678 Q32.5894 356.421 35.6131 359.158 Q38.6368 361.895 43.8567 361.895 L64.0042 361.895 L64.0042 367.783 L28.3562 367.783 L28.3562 361.895 L33.8944 361.895 Q30.6797 359.794 29.0883 356.962 Q27.4968 354.097 27.4968 350.373 Q27.4968 344.23 31.3163 341.079 Q35.1038 337.928 42.4881 337.928 Z\" fill=\"#000000\" fill-rule=\"evenodd\" fill-opacity=\"1\" /><path clip-path=\"url(#clip120)\" d=\"M14.5426 291.459 Q21.8632 295.724 29.0246 297.792 Q36.186 299.861 43.5384 299.861 Q50.8908 299.861 58.1159 297.792 Q65.3091 295.692 72.5979 291.459 L72.5979 296.551 Q65.1182 301.325 57.8931 303.713 Q50.668 306.068 43.5384 306.068 Q36.4406 306.068 29.2474 303.713 Q22.0542 301.357 14.5426 296.551 L14.5426 291.459 Z\" fill=\"#000000\" fill-rule=\"evenodd\" fill-opacity=\"1\" /><path clip-path=\"url(#clip120)\" d=\"M43.0928 238.846 Q43.0928 241.615 45.4481 243.207 Q47.8034 244.766 52.0048 244.766 Q56.1425 244.766 58.5296 243.207 Q60.885 241.615 60.885 238.846 Q60.885 236.141 58.5296 234.581 Q56.1425 232.99 52.0048 232.99 Q47.8353 232.99 45.48 234.581 Q43.0928 236.141 43.0928 238.846 M39.0506 238.846 Q39.0506 233.817 42.5517 230.857 Q46.0529 227.897 52.0048 227.897 Q57.9567 227.897 61.4579 230.889 Q64.9272 233.849 64.9272 238.846 Q64.9272 243.939 61.4579 246.899 Q57.9567 249.859 52.0048 249.859 Q46.021 249.859 42.5517 246.899 Q39.0506 243.907 39.0506 238.846 M19.667 271.693 Q19.667 274.43 22.0542 276.022 Q24.4095 277.581 28.5472 277.581 Q32.7485 277.581 35.1038 276.022 Q37.4592 274.462 37.4592 271.693 Q37.4592 268.924 35.1038 267.364 Q32.7485 265.773 28.5472 265.773 Q24.4413 265.773 22.0542 267.364 Q19.667 268.956 19.667 271.693 M15.6248 242.952 L15.6248 237.859 L64.9272 267.587 L64.9272 272.68 L15.6248 242.952 M15.6248 271.693 Q15.6248 266.664 19.1259 263.672 Q22.5952 260.68 28.5472 260.68 Q34.5628 260.68 38.0321 263.672 Q41.5014 266.632 41.5014 271.693 Q41.5014 276.754 38.0321 279.714 Q34.5309 282.642 28.5472 282.642 Q22.6271 282.642 19.1259 279.682 Q15.6248 276.722 15.6248 271.693 Z\" fill=\"#000000\" fill-rule=\"evenodd\" fill-opacity=\"1\" /><path clip-path=\"url(#clip120)\" d=\"M14.5426 219.08 L14.5426 213.988 Q22.0542 209.214 29.2474 206.858 Q36.4406 204.471 43.5384 204.471 Q50.668 204.471 57.8931 206.858 Q65.1182 209.214 72.5979 213.988 L72.5979 219.08 Q65.3091 214.847 58.1159 212.778 Q50.8908 210.678 43.5384 210.678 Q36.186 210.678 29.0246 212.778 Q21.8632 214.847 14.5426 219.08 Z\" fill=\"#000000\" fill-rule=\"evenodd\" fill-opacity=\"1\" /><polyline clip-path=\"url(#clip122)\" style=\"stroke:#ef4035; stroke-linecap:round; stroke-linejoin:round; stroke-width:12; stroke-opacity:1; fill:none\" points=\"\n",
       "  434.536,1323.56 434.537,1323.56 434.547,1319.58 436.022,1287.17 440.377,1254.67 447.869,1222.21 458.644,1189.75 472.485,1157.3 489.397,1124.84 509.922,1092.38 \n",
       "  533.78,1059.93 560.475,1027.47 589.767,995.022 621.225,962.554 654.387,930.096 689.148,897.639 725.271,865.146 762.812,832.722 801.557,800.267 841.375,767.809 \n",
       "  882.179,735.352 923.984,702.895 966.614,670.439 1009.91,637.826 1054.01,605.543 1098.46,573.066 1143.46,540.539 1189.15,508.144 1235.38,475.711 1282.15,443.145 \n",
       "  1329.55,410.792 1377.29,378.33 1425.48,345.936 1473.93,313.272 1522.98,280.977 1572.47,248.678 1622.31,216.055 1672.7,183.247 1723.86,151.237 1775.36,118.686 \n",
       "  1827.29,86.1954 \n",
       "  \"/>\n",
       "<circle clip-path=\"url(#clip122)\" cx=\"434.536\" cy=\"1323.56\" r=\"14.4\" fill=\"#ffffff\" fill-rule=\"evenodd\" fill-opacity=\"1\" stroke=\"#ef4035\" stroke-opacity=\"1\" stroke-width=\"3.2\"/>\n",
       "<circle clip-path=\"url(#clip122)\" cx=\"434.537\" cy=\"1323.56\" r=\"14.4\" fill=\"#ffffff\" fill-rule=\"evenodd\" fill-opacity=\"1\" stroke=\"#ef4035\" stroke-opacity=\"1\" stroke-width=\"3.2\"/>\n",
       "<circle clip-path=\"url(#clip122)\" cx=\"434.547\" cy=\"1319.58\" r=\"14.4\" fill=\"#ffffff\" fill-rule=\"evenodd\" fill-opacity=\"1\" stroke=\"#ef4035\" stroke-opacity=\"1\" stroke-width=\"3.2\"/>\n",
       "<circle clip-path=\"url(#clip122)\" cx=\"436.022\" cy=\"1287.17\" r=\"14.4\" fill=\"#ffffff\" fill-rule=\"evenodd\" fill-opacity=\"1\" stroke=\"#ef4035\" stroke-opacity=\"1\" stroke-width=\"3.2\"/>\n",
       "<circle clip-path=\"url(#clip122)\" cx=\"440.377\" cy=\"1254.67\" r=\"14.4\" fill=\"#ffffff\" fill-rule=\"evenodd\" fill-opacity=\"1\" stroke=\"#ef4035\" stroke-opacity=\"1\" stroke-width=\"3.2\"/>\n",
       "<circle clip-path=\"url(#clip122)\" cx=\"447.869\" cy=\"1222.21\" r=\"14.4\" fill=\"#ffffff\" fill-rule=\"evenodd\" fill-opacity=\"1\" stroke=\"#ef4035\" stroke-opacity=\"1\" stroke-width=\"3.2\"/>\n",
       "<circle clip-path=\"url(#clip122)\" cx=\"458.644\" cy=\"1189.75\" r=\"14.4\" fill=\"#ffffff\" fill-rule=\"evenodd\" fill-opacity=\"1\" stroke=\"#ef4035\" stroke-opacity=\"1\" stroke-width=\"3.2\"/>\n",
       "<circle clip-path=\"url(#clip122)\" cx=\"472.485\" cy=\"1157.3\" r=\"14.4\" fill=\"#ffffff\" fill-rule=\"evenodd\" fill-opacity=\"1\" stroke=\"#ef4035\" stroke-opacity=\"1\" stroke-width=\"3.2\"/>\n",
       "<circle clip-path=\"url(#clip122)\" cx=\"489.397\" cy=\"1124.84\" r=\"14.4\" fill=\"#ffffff\" fill-rule=\"evenodd\" fill-opacity=\"1\" stroke=\"#ef4035\" stroke-opacity=\"1\" stroke-width=\"3.2\"/>\n",
       "<circle clip-path=\"url(#clip122)\" cx=\"509.922\" cy=\"1092.38\" r=\"14.4\" fill=\"#ffffff\" fill-rule=\"evenodd\" fill-opacity=\"1\" stroke=\"#ef4035\" stroke-opacity=\"1\" stroke-width=\"3.2\"/>\n",
       "<circle clip-path=\"url(#clip122)\" cx=\"533.78\" cy=\"1059.93\" r=\"14.4\" fill=\"#ffffff\" fill-rule=\"evenodd\" fill-opacity=\"1\" stroke=\"#ef4035\" stroke-opacity=\"1\" stroke-width=\"3.2\"/>\n",
       "<circle clip-path=\"url(#clip122)\" cx=\"560.475\" cy=\"1027.47\" r=\"14.4\" fill=\"#ffffff\" fill-rule=\"evenodd\" fill-opacity=\"1\" stroke=\"#ef4035\" stroke-opacity=\"1\" stroke-width=\"3.2\"/>\n",
       "<circle clip-path=\"url(#clip122)\" cx=\"589.767\" cy=\"995.022\" r=\"14.4\" fill=\"#ffffff\" fill-rule=\"evenodd\" fill-opacity=\"1\" stroke=\"#ef4035\" stroke-opacity=\"1\" stroke-width=\"3.2\"/>\n",
       "<circle clip-path=\"url(#clip122)\" cx=\"621.225\" cy=\"962.554\" r=\"14.4\" fill=\"#ffffff\" fill-rule=\"evenodd\" fill-opacity=\"1\" stroke=\"#ef4035\" stroke-opacity=\"1\" stroke-width=\"3.2\"/>\n",
       "<circle clip-path=\"url(#clip122)\" cx=\"654.387\" cy=\"930.096\" r=\"14.4\" fill=\"#ffffff\" fill-rule=\"evenodd\" fill-opacity=\"1\" stroke=\"#ef4035\" stroke-opacity=\"1\" stroke-width=\"3.2\"/>\n",
       "<circle clip-path=\"url(#clip122)\" cx=\"689.148\" cy=\"897.639\" r=\"14.4\" fill=\"#ffffff\" fill-rule=\"evenodd\" fill-opacity=\"1\" stroke=\"#ef4035\" stroke-opacity=\"1\" stroke-width=\"3.2\"/>\n",
       "<circle clip-path=\"url(#clip122)\" cx=\"725.271\" cy=\"865.146\" r=\"14.4\" fill=\"#ffffff\" fill-rule=\"evenodd\" fill-opacity=\"1\" stroke=\"#ef4035\" stroke-opacity=\"1\" stroke-width=\"3.2\"/>\n",
       "<circle clip-path=\"url(#clip122)\" cx=\"762.812\" cy=\"832.722\" r=\"14.4\" fill=\"#ffffff\" fill-rule=\"evenodd\" fill-opacity=\"1\" stroke=\"#ef4035\" stroke-opacity=\"1\" stroke-width=\"3.2\"/>\n",
       "<circle clip-path=\"url(#clip122)\" cx=\"801.557\" cy=\"800.267\" r=\"14.4\" fill=\"#ffffff\" fill-rule=\"evenodd\" fill-opacity=\"1\" stroke=\"#ef4035\" stroke-opacity=\"1\" stroke-width=\"3.2\"/>\n",
       "<circle clip-path=\"url(#clip122)\" cx=\"841.375\" cy=\"767.809\" r=\"14.4\" fill=\"#ffffff\" fill-rule=\"evenodd\" fill-opacity=\"1\" stroke=\"#ef4035\" stroke-opacity=\"1\" stroke-width=\"3.2\"/>\n",
       "<circle clip-path=\"url(#clip122)\" cx=\"882.179\" cy=\"735.352\" r=\"14.4\" fill=\"#ffffff\" fill-rule=\"evenodd\" fill-opacity=\"1\" stroke=\"#ef4035\" stroke-opacity=\"1\" stroke-width=\"3.2\"/>\n",
       "<circle clip-path=\"url(#clip122)\" cx=\"923.984\" cy=\"702.895\" r=\"14.4\" fill=\"#ffffff\" fill-rule=\"evenodd\" fill-opacity=\"1\" stroke=\"#ef4035\" stroke-opacity=\"1\" stroke-width=\"3.2\"/>\n",
       "<circle clip-path=\"url(#clip122)\" cx=\"966.614\" cy=\"670.439\" r=\"14.4\" fill=\"#ffffff\" fill-rule=\"evenodd\" fill-opacity=\"1\" stroke=\"#ef4035\" stroke-opacity=\"1\" stroke-width=\"3.2\"/>\n",
       "<circle clip-path=\"url(#clip122)\" cx=\"1009.91\" cy=\"637.826\" r=\"14.4\" fill=\"#ffffff\" fill-rule=\"evenodd\" fill-opacity=\"1\" stroke=\"#ef4035\" stroke-opacity=\"1\" stroke-width=\"3.2\"/>\n",
       "<circle clip-path=\"url(#clip122)\" cx=\"1054.01\" cy=\"605.543\" r=\"14.4\" fill=\"#ffffff\" fill-rule=\"evenodd\" fill-opacity=\"1\" stroke=\"#ef4035\" stroke-opacity=\"1\" stroke-width=\"3.2\"/>\n",
       "<circle clip-path=\"url(#clip122)\" cx=\"1098.46\" cy=\"573.066\" r=\"14.4\" fill=\"#ffffff\" fill-rule=\"evenodd\" fill-opacity=\"1\" stroke=\"#ef4035\" stroke-opacity=\"1\" stroke-width=\"3.2\"/>\n",
       "<circle clip-path=\"url(#clip122)\" cx=\"1143.46\" cy=\"540.539\" r=\"14.4\" fill=\"#ffffff\" fill-rule=\"evenodd\" fill-opacity=\"1\" stroke=\"#ef4035\" stroke-opacity=\"1\" stroke-width=\"3.2\"/>\n",
       "<circle clip-path=\"url(#clip122)\" cx=\"1189.15\" cy=\"508.144\" r=\"14.4\" fill=\"#ffffff\" fill-rule=\"evenodd\" fill-opacity=\"1\" stroke=\"#ef4035\" stroke-opacity=\"1\" stroke-width=\"3.2\"/>\n",
       "<circle clip-path=\"url(#clip122)\" cx=\"1235.38\" cy=\"475.711\" r=\"14.4\" fill=\"#ffffff\" fill-rule=\"evenodd\" fill-opacity=\"1\" stroke=\"#ef4035\" stroke-opacity=\"1\" stroke-width=\"3.2\"/>\n",
       "<circle clip-path=\"url(#clip122)\" cx=\"1282.15\" cy=\"443.145\" r=\"14.4\" fill=\"#ffffff\" fill-rule=\"evenodd\" fill-opacity=\"1\" stroke=\"#ef4035\" stroke-opacity=\"1\" stroke-width=\"3.2\"/>\n",
       "<circle clip-path=\"url(#clip122)\" cx=\"1329.55\" cy=\"410.792\" r=\"14.4\" fill=\"#ffffff\" fill-rule=\"evenodd\" fill-opacity=\"1\" stroke=\"#ef4035\" stroke-opacity=\"1\" stroke-width=\"3.2\"/>\n",
       "<circle clip-path=\"url(#clip122)\" cx=\"1377.29\" cy=\"378.33\" r=\"14.4\" fill=\"#ffffff\" fill-rule=\"evenodd\" fill-opacity=\"1\" stroke=\"#ef4035\" stroke-opacity=\"1\" stroke-width=\"3.2\"/>\n",
       "<circle clip-path=\"url(#clip122)\" cx=\"1425.48\" cy=\"345.936\" r=\"14.4\" fill=\"#ffffff\" fill-rule=\"evenodd\" fill-opacity=\"1\" stroke=\"#ef4035\" stroke-opacity=\"1\" stroke-width=\"3.2\"/>\n",
       "<circle clip-path=\"url(#clip122)\" cx=\"1473.93\" cy=\"313.272\" r=\"14.4\" fill=\"#ffffff\" fill-rule=\"evenodd\" fill-opacity=\"1\" stroke=\"#ef4035\" stroke-opacity=\"1\" stroke-width=\"3.2\"/>\n",
       "<circle clip-path=\"url(#clip122)\" cx=\"1522.98\" cy=\"280.977\" r=\"14.4\" fill=\"#ffffff\" fill-rule=\"evenodd\" fill-opacity=\"1\" stroke=\"#ef4035\" stroke-opacity=\"1\" stroke-width=\"3.2\"/>\n",
       "<circle clip-path=\"url(#clip122)\" cx=\"1572.47\" cy=\"248.678\" r=\"14.4\" fill=\"#ffffff\" fill-rule=\"evenodd\" fill-opacity=\"1\" stroke=\"#ef4035\" stroke-opacity=\"1\" stroke-width=\"3.2\"/>\n",
       "<circle clip-path=\"url(#clip122)\" cx=\"1622.31\" cy=\"216.055\" r=\"14.4\" fill=\"#ffffff\" fill-rule=\"evenodd\" fill-opacity=\"1\" stroke=\"#ef4035\" stroke-opacity=\"1\" stroke-width=\"3.2\"/>\n",
       "<circle clip-path=\"url(#clip122)\" cx=\"1672.7\" cy=\"183.247\" r=\"14.4\" fill=\"#ffffff\" fill-rule=\"evenodd\" fill-opacity=\"1\" stroke=\"#ef4035\" stroke-opacity=\"1\" stroke-width=\"3.2\"/>\n",
       "<circle clip-path=\"url(#clip122)\" cx=\"1723.86\" cy=\"151.237\" r=\"14.4\" fill=\"#ffffff\" fill-rule=\"evenodd\" fill-opacity=\"1\" stroke=\"#ef4035\" stroke-opacity=\"1\" stroke-width=\"3.2\"/>\n",
       "<circle clip-path=\"url(#clip122)\" cx=\"1775.36\" cy=\"118.686\" r=\"14.4\" fill=\"#ffffff\" fill-rule=\"evenodd\" fill-opacity=\"1\" stroke=\"#ef4035\" stroke-opacity=\"1\" stroke-width=\"3.2\"/>\n",
       "<circle clip-path=\"url(#clip122)\" cx=\"1827.29\" cy=\"86.1954\" r=\"14.4\" fill=\"#ffffff\" fill-rule=\"evenodd\" fill-opacity=\"1\" stroke=\"#ef4035\" stroke-opacity=\"1\" stroke-width=\"3.2\"/>\n",
       "<polyline clip-path=\"url(#clip122)\" style=\"stroke:#89cce2; stroke-linecap:round; stroke-linejoin:round; stroke-width:12; stroke-opacity:1; fill:none\" points=\"\n",
       "  221.461,1384.24 250.394,1352.04 281.242,1319.59 312.084,1287.13 342.934,1254.67 373.857,1222.2 404.703,1189.75 435.538,1157.29 466.406,1124.83 497.264,1092.38 \n",
       "  528.127,1059.91 558.965,1027.46 589.822,995.01 620.667,962.555 651.494,930.096 682.28,897.652 713.079,865.201 743.943,832.735 774.847,800.271 805.671,767.809 \n",
       "  836.485,735.358 867.34,702.899 898.208,670.439 929.041,637.952 959.884,605.513 990.787,573.071 1021.61,540.606 1052.43,508.18 1083.28,475.725 1114.14,443.258 \n",
       "  1145.02,410.771 1175.83,378.369 1206.77,345.934 1237.57,313.436 1268.45,280.961 1299.31,248.508 1330.15,216.06 1361.01,183.6 1391.86,151.152 1422.71,118.659 \n",
       "  1453.61,86.1857 \n",
       "  \"/>\n",
       "<path clip-path=\"url(#clip120)\" d=\"\n",
       "M1402.29 1377.32 L2281.66 1377.32 L2281.66 1221.8 L1402.29 1221.8  Z\n",
       "  \" fill=\"#fffaf0\" fill-rule=\"evenodd\" fill-opacity=\"1\"/>\n",
       "<polyline clip-path=\"url(#clip120)\" style=\"stroke:#000000; stroke-linecap:round; stroke-linejoin:round; stroke-width:4; stroke-opacity:0; fill:none\" points=\"\n",
       "  1402.29,1377.32 2281.66,1377.32 2281.66,1221.8 1402.29,1221.8 1402.29,1377.32 \n",
       "  \"/>\n",
       "<circle clip-path=\"url(#clip120)\" cx=\"1497.08\" cy=\"1273.64\" r=\"23.04\" fill=\"#ffffff\" fill-rule=\"evenodd\" fill-opacity=\"1\" stroke=\"#ef4035\" stroke-opacity=\"1\" stroke-width=\"5.12\"/>\n",
       "<path clip-path=\"url(#clip120)\" d=\"M1596.55 1260.2 L1596.55 1273.18 L1602.43 1273.18 Q1605.7 1273.18 1607.48 1271.49 Q1609.26 1269.8 1609.26 1266.68 Q1609.26 1263.58 1607.48 1261.89 Q1605.7 1260.2 1602.43 1260.2 L1596.55 1260.2 M1591.88 1256.36 L1602.43 1256.36 Q1608.24 1256.36 1611.21 1258.99 Q1614.19 1261.61 1614.19 1266.68 Q1614.19 1271.8 1611.21 1274.41 Q1608.24 1277.03 1602.43 1277.03 L1596.55 1277.03 L1596.55 1290.92 L1591.88 1290.92 L1591.88 1256.36 Z\" fill=\"#000000\" fill-rule=\"evenodd\" fill-opacity=\"1\" /><path clip-path=\"url(#clip120)\" d=\"M1628.64 1267.98 Q1625.21 1267.98 1623.22 1270.66 Q1621.23 1273.32 1621.23 1277.98 Q1621.23 1282.63 1623.2 1285.31 Q1625.19 1287.98 1628.64 1287.98 Q1632.04 1287.98 1634.03 1285.29 Q1636.02 1282.61 1636.02 1277.98 Q1636.02 1273.37 1634.03 1270.68 Q1632.04 1267.98 1628.64 1267.98 M1628.64 1264.36 Q1634.19 1264.36 1637.36 1267.98 Q1640.53 1271.59 1640.53 1277.98 Q1640.53 1284.34 1637.36 1287.98 Q1634.19 1291.59 1628.64 1291.59 Q1623.06 1291.59 1619.89 1287.98 Q1616.74 1284.34 1616.74 1277.98 Q1616.74 1271.59 1619.89 1267.98 Q1623.06 1264.36 1628.64 1264.36 Z\" fill=\"#000000\" fill-rule=\"evenodd\" fill-opacity=\"1\" /><path clip-path=\"url(#clip120)\" d=\"M1664.12 1265.75 L1664.12 1269.78 Q1662.32 1268.86 1660.37 1268.39 Q1658.43 1267.93 1656.34 1267.93 Q1653.17 1267.93 1651.58 1268.9 Q1650 1269.87 1650 1271.82 Q1650 1273.3 1651.14 1274.16 Q1652.27 1274.99 1655.7 1275.75 L1657.15 1276.08 Q1661.69 1277.05 1663.59 1278.83 Q1665.51 1280.59 1665.51 1283.76 Q1665.51 1287.37 1662.64 1289.48 Q1659.79 1291.59 1654.79 1291.59 Q1652.71 1291.59 1650.44 1291.17 Q1648.2 1290.78 1645.7 1289.97 L1645.7 1285.57 Q1648.06 1286.79 1650.35 1287.42 Q1652.64 1288.02 1654.89 1288.02 Q1657.89 1288.02 1659.51 1287 Q1661.14 1285.96 1661.14 1284.09 Q1661.14 1282.35 1659.95 1281.42 Q1658.8 1280.5 1654.84 1279.64 L1653.36 1279.3 Q1649.4 1278.46 1647.64 1276.75 Q1645.88 1275.01 1645.88 1272 Q1645.88 1268.35 1648.47 1266.36 Q1651.07 1264.36 1655.83 1264.36 Q1658.2 1264.36 1660.28 1264.71 Q1662.36 1265.06 1664.12 1265.75 Z\" fill=\"#000000\" fill-rule=\"evenodd\" fill-opacity=\"1\" /><path clip-path=\"url(#clip120)\" d=\"M1688.82 1265.75 L1688.82 1269.78 Q1687.01 1268.86 1685.07 1268.39 Q1683.13 1267.93 1681.04 1267.93 Q1677.87 1267.93 1676.27 1268.9 Q1674.7 1269.87 1674.7 1271.82 Q1674.7 1273.3 1675.83 1274.16 Q1676.97 1274.99 1680.39 1275.75 L1681.85 1276.08 Q1686.39 1277.05 1688.29 1278.83 Q1690.21 1280.59 1690.21 1283.76 Q1690.21 1287.37 1687.34 1289.48 Q1684.49 1291.59 1679.49 1291.59 Q1677.41 1291.59 1675.14 1291.17 Q1672.89 1290.78 1670.39 1289.97 L1670.39 1285.57 Q1672.76 1286.79 1675.05 1287.42 Q1677.34 1288.02 1679.58 1288.02 Q1682.59 1288.02 1684.21 1287 Q1685.83 1285.96 1685.83 1284.09 Q1685.83 1282.35 1684.65 1281.42 Q1683.5 1280.5 1679.54 1279.64 L1678.06 1279.3 Q1674.1 1278.46 1672.34 1276.75 Q1670.58 1275.01 1670.58 1272 Q1670.58 1268.35 1673.17 1266.36 Q1675.76 1264.36 1680.53 1264.36 Q1682.89 1264.36 1684.98 1264.71 Q1687.06 1265.06 1688.82 1265.75 Z\" fill=\"#000000\" fill-rule=\"evenodd\" fill-opacity=\"1\" /><path clip-path=\"url(#clip120)\" d=\"M1696.99 1264.99 L1701.25 1264.99 L1701.25 1290.92 L1696.99 1290.92 L1696.99 1264.99 M1696.99 1254.9 L1701.25 1254.9 L1701.25 1260.29 L1696.99 1260.29 L1696.99 1254.9 Z\" fill=\"#000000\" fill-rule=\"evenodd\" fill-opacity=\"1\" /><path clip-path=\"url(#clip120)\" d=\"M1728.77 1277.98 Q1728.77 1273.28 1726.83 1270.61 Q1724.91 1267.93 1721.53 1267.93 Q1718.15 1267.93 1716.2 1270.61 Q1714.28 1273.28 1714.28 1277.98 Q1714.28 1282.67 1716.2 1285.36 Q1718.15 1288.02 1721.53 1288.02 Q1724.91 1288.02 1726.83 1285.36 Q1728.77 1282.67 1728.77 1277.98 M1714.28 1268.92 Q1715.63 1266.61 1717.66 1265.5 Q1719.72 1264.36 1722.57 1264.36 Q1727.29 1264.36 1730.23 1268.11 Q1733.2 1271.86 1733.2 1277.98 Q1733.2 1284.09 1730.23 1287.84 Q1727.29 1291.59 1722.57 1291.59 Q1719.72 1291.59 1717.66 1290.48 Q1715.63 1289.34 1714.28 1287.03 L1714.28 1290.92 L1710 1290.92 L1710 1254.9 L1714.28 1254.9 L1714.28 1268.92 Z\" fill=\"#000000\" fill-rule=\"evenodd\" fill-opacity=\"1\" /><path clip-path=\"url(#clip120)\" d=\"M1740.26 1254.9 L1744.51 1254.9 L1744.51 1290.92 L1740.26 1290.92 L1740.26 1254.9 Z\" fill=\"#000000\" fill-rule=\"evenodd\" fill-opacity=\"1\" /><path clip-path=\"url(#clip120)\" d=\"M1775.6 1276.89 L1775.6 1278.97 L1756.02 1278.97 Q1756.3 1283.37 1758.66 1285.68 Q1761.04 1287.98 1765.28 1287.98 Q1767.73 1287.98 1770.02 1287.37 Q1772.34 1286.77 1774.61 1285.57 L1774.61 1289.6 Q1772.32 1290.57 1769.91 1291.08 Q1767.5 1291.59 1765.02 1291.59 Q1758.82 1291.59 1755.19 1287.98 Q1751.57 1284.36 1751.57 1278.21 Q1751.57 1271.84 1755 1268.11 Q1758.45 1264.36 1764.28 1264.36 Q1769.51 1264.36 1772.55 1267.74 Q1775.6 1271.1 1775.6 1276.89 M1771.34 1275.64 Q1771.3 1272.14 1769.38 1270.06 Q1767.48 1267.98 1764.33 1267.98 Q1760.76 1267.98 1758.61 1269.99 Q1756.48 1272 1756.16 1275.66 L1771.34 1275.64 Z\" fill=\"#000000\" fill-rule=\"evenodd\" fill-opacity=\"1\" /><path clip-path=\"url(#clip120)\" d=\"M1801.78 1287.03 L1801.78 1300.78 L1797.5 1300.78 L1797.5 1264.99 L1801.78 1264.99 L1801.78 1268.92 Q1803.13 1266.61 1805.16 1265.5 Q1807.22 1264.36 1810.07 1264.36 Q1814.79 1264.36 1817.73 1268.11 Q1820.69 1271.86 1820.69 1277.98 Q1820.69 1284.09 1817.73 1287.84 Q1814.79 1291.59 1810.07 1291.59 Q1807.22 1291.59 1805.16 1290.48 Q1803.13 1289.34 1801.78 1287.03 M1816.27 1277.98 Q1816.27 1273.28 1814.33 1270.61 Q1812.41 1267.93 1809.03 1267.93 Q1805.65 1267.93 1803.7 1270.61 Q1801.78 1273.28 1801.78 1277.98 Q1801.78 1282.67 1803.7 1285.36 Q1805.65 1288.02 1809.03 1288.02 Q1812.41 1288.02 1814.33 1285.36 Q1816.27 1282.67 1816.27 1277.98 Z\" fill=\"#000000\" fill-rule=\"evenodd\" fill-opacity=\"1\" /><path clip-path=\"url(#clip120)\" d=\"M1837.8 1267.98 Q1834.38 1267.98 1832.38 1270.66 Q1830.39 1273.32 1830.39 1277.98 Q1830.39 1282.63 1832.36 1285.31 Q1834.35 1287.98 1837.8 1287.98 Q1841.2 1287.98 1843.19 1285.29 Q1845.19 1282.61 1845.19 1277.98 Q1845.19 1273.37 1843.19 1270.68 Q1841.2 1267.98 1837.8 1267.98 M1837.8 1264.36 Q1843.36 1264.36 1846.53 1267.98 Q1849.7 1271.59 1849.7 1277.98 Q1849.7 1284.34 1846.53 1287.98 Q1843.36 1291.59 1837.8 1291.59 Q1832.22 1291.59 1829.05 1287.98 Q1825.9 1284.34 1825.9 1277.98 Q1825.9 1271.59 1829.05 1267.98 Q1832.22 1264.36 1837.8 1264.36 Z\" fill=\"#000000\" fill-rule=\"evenodd\" fill-opacity=\"1\" /><path clip-path=\"url(#clip120)\" d=\"M1871.78 1268.97 Q1871.06 1268.55 1870.21 1268.37 Q1869.37 1268.16 1868.36 1268.16 Q1864.75 1268.16 1862.8 1270.52 Q1860.88 1272.86 1860.88 1277.26 L1860.88 1290.92 L1856.6 1290.92 L1856.6 1264.99 L1860.88 1264.99 L1860.88 1269.02 Q1862.22 1266.66 1864.37 1265.52 Q1866.53 1264.36 1869.61 1264.36 Q1870.05 1264.36 1870.58 1264.43 Q1871.11 1264.48 1871.76 1264.6 L1871.78 1268.97 Z\" fill=\"#000000\" fill-rule=\"evenodd\" fill-opacity=\"1\" /><path clip-path=\"url(#clip120)\" d=\"M1880.46 1257.63 L1880.46 1264.99 L1889.24 1264.99 L1889.24 1268.3 L1880.46 1268.3 L1880.46 1282.37 Q1880.46 1285.54 1881.32 1286.45 Q1882.2 1287.35 1884.86 1287.35 L1889.24 1287.35 L1889.24 1290.92 L1884.86 1290.92 Q1879.93 1290.92 1878.06 1289.09 Q1876.18 1287.23 1876.18 1282.37 L1876.18 1268.3 L1873.06 1268.3 L1873.06 1264.99 L1876.18 1264.99 L1876.18 1257.63 L1880.46 1257.63 Z\" fill=\"#000000\" fill-rule=\"evenodd\" fill-opacity=\"1\" /><path clip-path=\"url(#clip120)\" d=\"M1907.96 1254.9 L1907.96 1258.44 L1903.89 1258.44 Q1901.6 1258.44 1900.69 1259.36 Q1899.81 1260.29 1899.81 1262.7 L1899.81 1264.99 L1906.83 1264.99 L1906.83 1268.3 L1899.81 1268.3 L1899.81 1290.92 L1895.53 1290.92 L1895.53 1268.3 L1891.46 1268.3 L1891.46 1264.99 L1895.53 1264.99 L1895.53 1263.18 Q1895.53 1258.86 1897.55 1256.89 Q1899.56 1254.9 1903.93 1254.9 L1907.96 1254.9 Z\" fill=\"#000000\" fill-rule=\"evenodd\" fill-opacity=\"1\" /><path clip-path=\"url(#clip120)\" d=\"M1921.57 1267.98 Q1918.15 1267.98 1916.16 1270.66 Q1914.17 1273.32 1914.17 1277.98 Q1914.17 1282.63 1916.13 1285.31 Q1918.12 1287.98 1921.57 1287.98 Q1924.98 1287.98 1926.97 1285.29 Q1928.96 1282.61 1928.96 1277.98 Q1928.96 1273.37 1926.97 1270.68 Q1924.98 1267.98 1921.57 1267.98 M1921.57 1264.36 Q1927.13 1264.36 1930.3 1267.98 Q1933.47 1271.59 1933.47 1277.98 Q1933.47 1284.34 1930.3 1287.98 Q1927.13 1291.59 1921.57 1291.59 Q1916 1291.59 1912.82 1287.98 Q1909.68 1284.34 1909.68 1277.98 Q1909.68 1271.59 1912.82 1267.98 Q1916 1264.36 1921.57 1264.36 Z\" fill=\"#000000\" fill-rule=\"evenodd\" fill-opacity=\"1\" /><path clip-path=\"url(#clip120)\" d=\"M1940.53 1254.9 L1944.79 1254.9 L1944.79 1290.92 L1940.53 1290.92 L1940.53 1254.9 Z\" fill=\"#000000\" fill-rule=\"evenodd\" fill-opacity=\"1\" /><path clip-path=\"url(#clip120)\" d=\"M1953.7 1264.99 L1957.96 1264.99 L1957.96 1290.92 L1953.7 1290.92 L1953.7 1264.99 M1953.7 1254.9 L1957.96 1254.9 L1957.96 1260.29 L1953.7 1260.29 L1953.7 1254.9 Z\" fill=\"#000000\" fill-rule=\"evenodd\" fill-opacity=\"1\" /><path clip-path=\"url(#clip120)\" d=\"M1976.92 1267.98 Q1973.49 1267.98 1971.5 1270.66 Q1969.51 1273.32 1969.51 1277.98 Q1969.51 1282.63 1971.48 1285.31 Q1973.47 1287.98 1976.92 1287.98 Q1980.32 1287.98 1982.31 1285.29 Q1984.3 1282.61 1984.3 1277.98 Q1984.3 1273.37 1982.31 1270.68 Q1980.32 1267.98 1976.92 1267.98 M1976.92 1264.36 Q1982.48 1264.36 1985.65 1267.98 Q1988.82 1271.59 1988.82 1277.98 Q1988.82 1284.34 1985.65 1287.98 Q1982.48 1291.59 1976.92 1291.59 Q1971.34 1291.59 1968.17 1287.98 Q1965.02 1284.34 1965.02 1277.98 Q1965.02 1271.59 1968.17 1267.98 Q1971.34 1264.36 1976.92 1264.36 Z\" fill=\"#000000\" fill-rule=\"evenodd\" fill-opacity=\"1\" /><polyline clip-path=\"url(#clip120)\" style=\"stroke:#89cce2; stroke-linecap:round; stroke-linejoin:round; stroke-width:4; stroke-opacity:1; fill:none\" points=\"\n",
       "  1425.99,1325.48 1568.18,1325.48 \n",
       "  \"/>\n",
       "<path clip-path=\"url(#clip120)\" d=\"M1619.75 1310.86 L1619.75 1315.79 Q1617.39 1313.59 1614.7 1312.5 Q1612.04 1311.41 1609.03 1311.41 Q1603.1 1311.41 1599.96 1315.05 Q1596.81 1318.66 1596.81 1325.51 Q1596.81 1332.34 1599.96 1335.97 Q1603.1 1339.58 1609.03 1339.58 Q1612.04 1339.58 1614.7 1338.5 Q1617.39 1337.41 1619.75 1335.21 L1619.75 1340.09 Q1617.29 1341.76 1614.54 1342.59 Q1611.81 1343.43 1608.75 1343.43 Q1600.9 1343.43 1596.39 1338.63 Q1591.88 1333.82 1591.88 1325.51 Q1591.88 1317.18 1596.39 1312.39 Q1600.9 1307.57 1608.75 1307.57 Q1611.85 1307.57 1614.58 1308.4 Q1617.34 1309.21 1619.75 1310.86 Z\" fill=\"#000000\" fill-rule=\"evenodd\" fill-opacity=\"1\" /><path clip-path=\"url(#clip120)\" d=\"M1638.57 1329.72 Q1633.4 1329.72 1631.41 1330.9 Q1629.42 1332.08 1629.42 1334.93 Q1629.42 1337.2 1630.9 1338.54 Q1632.41 1339.86 1634.98 1339.86 Q1638.52 1339.86 1640.65 1337.36 Q1642.8 1334.84 1642.8 1330.67 L1642.8 1329.72 L1638.57 1329.72 M1647.06 1327.96 L1647.06 1342.76 L1642.8 1342.76 L1642.8 1338.82 Q1641.34 1341.18 1639.17 1342.32 Q1636.99 1343.43 1633.84 1343.43 Q1629.86 1343.43 1627.5 1341.2 Q1625.16 1338.96 1625.16 1335.21 Q1625.16 1330.83 1628.08 1328.61 Q1631.02 1326.39 1636.83 1326.39 L1642.8 1326.39 L1642.8 1325.97 Q1642.8 1323.03 1640.86 1321.44 Q1638.94 1319.82 1635.44 1319.82 Q1633.22 1319.82 1631.11 1320.35 Q1629.01 1320.88 1627.06 1321.95 L1627.06 1318.01 Q1629.4 1317.11 1631.6 1316.67 Q1633.8 1316.2 1635.88 1316.2 Q1641.51 1316.2 1644.28 1319.12 Q1647.06 1322.04 1647.06 1327.96 Z\" fill=\"#000000\" fill-rule=\"evenodd\" fill-opacity=\"1\" /><path clip-path=\"url(#clip120)\" d=\"M1659.95 1338.87 L1659.95 1352.62 L1655.67 1352.62 L1655.67 1316.83 L1659.95 1316.83 L1659.95 1320.76 Q1661.3 1318.45 1663.33 1317.34 Q1665.39 1316.2 1668.24 1316.2 Q1672.96 1316.2 1675.9 1319.95 Q1678.87 1323.7 1678.87 1329.82 Q1678.87 1335.93 1675.9 1339.68 Q1672.96 1343.43 1668.24 1343.43 Q1665.39 1343.43 1663.33 1342.32 Q1661.3 1341.18 1659.95 1338.87 M1674.45 1329.82 Q1674.45 1325.12 1672.5 1322.45 Q1670.58 1319.77 1667.2 1319.77 Q1663.82 1319.77 1661.88 1322.45 Q1659.95 1325.12 1659.95 1329.82 Q1659.95 1334.51 1661.88 1337.2 Q1663.82 1339.86 1667.2 1339.86 Q1670.58 1339.86 1672.5 1337.2 Q1674.45 1334.51 1674.45 1329.82 Z\" fill=\"#000000\" fill-rule=\"evenodd\" fill-opacity=\"1\" /><path clip-path=\"url(#clip120)\" d=\"M1685.93 1316.83 L1690.19 1316.83 L1690.19 1342.76 L1685.93 1342.76 L1685.93 1316.83 M1685.93 1306.74 L1690.19 1306.74 L1690.19 1312.13 L1685.93 1312.13 L1685.93 1306.74 Z\" fill=\"#000000\" fill-rule=\"evenodd\" fill-opacity=\"1\" /><path clip-path=\"url(#clip120)\" d=\"M1703.31 1309.47 L1703.31 1316.83 L1712.08 1316.83 L1712.08 1320.14 L1703.31 1320.14 L1703.31 1334.21 Q1703.31 1337.38 1704.17 1338.29 Q1705.05 1339.19 1707.71 1339.19 L1712.08 1339.19 L1712.08 1342.76 L1707.71 1342.76 Q1702.78 1342.76 1700.9 1340.93 Q1699.03 1339.07 1699.03 1334.21 L1699.03 1320.14 L1695.9 1320.14 L1695.9 1316.83 L1699.03 1316.83 L1699.03 1309.47 L1703.31 1309.47 Z\" fill=\"#000000\" fill-rule=\"evenodd\" fill-opacity=\"1\" /><path clip-path=\"url(#clip120)\" d=\"M1727.73 1319.82 Q1724.31 1319.82 1722.32 1322.5 Q1720.32 1325.16 1720.32 1329.82 Q1720.32 1334.47 1722.29 1337.15 Q1724.28 1339.82 1727.73 1339.82 Q1731.13 1339.82 1733.13 1337.13 Q1735.12 1334.45 1735.12 1329.82 Q1735.12 1325.21 1733.13 1322.52 Q1731.13 1319.82 1727.73 1319.82 M1727.73 1316.2 Q1733.29 1316.2 1736.46 1319.82 Q1739.63 1323.43 1739.63 1329.82 Q1739.63 1336.18 1736.46 1339.82 Q1733.29 1343.43 1727.73 1343.43 Q1722.15 1343.43 1718.98 1339.82 Q1715.83 1336.18 1715.83 1329.82 Q1715.83 1323.43 1718.98 1319.82 Q1722.15 1316.2 1727.73 1316.2 Z\" fill=\"#000000\" fill-rule=\"evenodd\" fill-opacity=\"1\" /><path clip-path=\"url(#clip120)\" d=\"M1746.69 1306.74 L1750.95 1306.74 L1750.95 1342.76 L1746.69 1342.76 L1746.69 1306.74 Z\" fill=\"#000000\" fill-rule=\"evenodd\" fill-opacity=\"1\" /><path clip-path=\"url(#clip120)\" d=\"M1786.67 1312.8 L1780.32 1330 L1793.03 1330 L1786.67 1312.8 M1784.03 1308.2 L1789.33 1308.2 L1802.5 1342.76 L1797.64 1342.76 L1794.49 1333.89 L1778.91 1333.89 L1775.76 1342.76 L1770.83 1342.76 L1784.03 1308.2 Z\" fill=\"#000000\" fill-rule=\"evenodd\" fill-opacity=\"1\" /><path clip-path=\"url(#clip120)\" d=\"M1807.36 1306.74 L1811.62 1306.74 L1811.62 1342.76 L1807.36 1342.76 L1807.36 1306.74 Z\" fill=\"#000000\" fill-rule=\"evenodd\" fill-opacity=\"1\" /><path clip-path=\"url(#clip120)\" d=\"M1820.53 1306.74 L1824.79 1306.74 L1824.79 1342.76 L1820.53 1342.76 L1820.53 1306.74 Z\" fill=\"#000000\" fill-rule=\"evenodd\" fill-opacity=\"1\" /><path clip-path=\"url(#clip120)\" d=\"M1843.75 1319.82 Q1840.32 1319.82 1838.33 1322.5 Q1836.34 1325.16 1836.34 1329.82 Q1836.34 1334.47 1838.31 1337.15 Q1840.3 1339.82 1843.75 1339.82 Q1847.15 1339.82 1849.14 1337.13 Q1851.13 1334.45 1851.13 1329.82 Q1851.13 1325.21 1849.14 1322.52 Q1847.15 1319.82 1843.75 1319.82 M1843.75 1316.2 Q1849.31 1316.2 1852.48 1319.82 Q1855.65 1323.43 1855.65 1329.82 Q1855.65 1336.18 1852.48 1339.82 Q1849.31 1343.43 1843.75 1343.43 Q1838.17 1343.43 1835 1339.82 Q1831.85 1336.18 1831.85 1329.82 Q1831.85 1323.43 1835 1319.82 Q1838.17 1316.2 1843.75 1316.2 Z\" fill=\"#000000\" fill-rule=\"evenodd\" fill-opacity=\"1\" /><path clip-path=\"url(#clip120)\" d=\"M1881.37 1317.82 L1881.37 1321.81 Q1879.56 1320.81 1877.73 1320.32 Q1875.93 1319.82 1874.07 1319.82 Q1869.93 1319.82 1867.64 1322.45 Q1865.35 1325.07 1865.35 1329.82 Q1865.35 1334.56 1867.64 1337.2 Q1869.93 1339.82 1874.07 1339.82 Q1875.93 1339.82 1877.73 1339.33 Q1879.56 1338.82 1881.37 1337.82 L1881.37 1341.76 Q1879.58 1342.59 1877.66 1343.01 Q1875.76 1343.43 1873.61 1343.43 Q1867.75 1343.43 1864.31 1339.75 Q1860.86 1336.07 1860.86 1329.82 Q1860.86 1323.47 1864.33 1319.84 Q1867.82 1316.2 1873.89 1316.2 Q1875.86 1316.2 1877.73 1316.62 Q1879.61 1317.01 1881.37 1317.82 Z\" fill=\"#000000\" fill-rule=\"evenodd\" fill-opacity=\"1\" /><path clip-path=\"url(#clip120)\" d=\"M1900.56 1329.72 Q1895.39 1329.72 1893.4 1330.9 Q1891.41 1332.08 1891.41 1334.93 Q1891.41 1337.2 1892.89 1338.54 Q1894.4 1339.86 1896.97 1339.86 Q1900.51 1339.86 1902.64 1337.36 Q1904.79 1334.84 1904.79 1330.67 L1904.79 1329.72 L1900.56 1329.72 M1909.05 1327.96 L1909.05 1342.76 L1904.79 1342.76 L1904.79 1338.82 Q1903.33 1341.18 1901.16 1342.32 Q1898.98 1343.43 1895.83 1343.43 Q1891.85 1343.43 1889.49 1341.2 Q1887.15 1338.96 1887.15 1335.21 Q1887.15 1330.83 1890.07 1328.61 Q1893.01 1326.39 1898.82 1326.39 L1904.79 1326.39 L1904.79 1325.97 Q1904.79 1323.03 1902.85 1321.44 Q1900.93 1319.82 1897.43 1319.82 Q1895.21 1319.82 1893.1 1320.35 Q1891 1320.88 1889.05 1321.95 L1889.05 1318.01 Q1891.39 1317.11 1893.59 1316.67 Q1895.79 1316.2 1897.87 1316.2 Q1903.5 1316.2 1906.27 1319.12 Q1909.05 1322.04 1909.05 1327.96 Z\" fill=\"#000000\" fill-rule=\"evenodd\" fill-opacity=\"1\" /><path clip-path=\"url(#clip120)\" d=\"M1922.04 1309.47 L1922.04 1316.83 L1930.81 1316.83 L1930.81 1320.14 L1922.04 1320.14 L1922.04 1334.21 Q1922.04 1337.38 1922.89 1338.29 Q1923.77 1339.19 1926.43 1339.19 L1930.81 1339.19 L1930.81 1342.76 L1926.43 1342.76 Q1921.5 1342.76 1919.63 1340.93 Q1917.75 1339.07 1917.75 1334.21 L1917.75 1320.14 L1914.63 1320.14 L1914.63 1316.83 L1917.75 1316.83 L1917.75 1309.47 L1922.04 1309.47 Z\" fill=\"#000000\" fill-rule=\"evenodd\" fill-opacity=\"1\" /><path clip-path=\"url(#clip120)\" d=\"M1936.41 1316.83 L1940.67 1316.83 L1940.67 1342.76 L1936.41 1342.76 L1936.41 1316.83 M1936.41 1306.74 L1940.67 1306.74 L1940.67 1312.13 L1936.41 1312.13 L1936.41 1306.74 Z\" fill=\"#000000\" fill-rule=\"evenodd\" fill-opacity=\"1\" /><path clip-path=\"url(#clip120)\" d=\"M1959.63 1319.82 Q1956.2 1319.82 1954.21 1322.5 Q1952.22 1325.16 1952.22 1329.82 Q1952.22 1334.47 1954.19 1337.15 Q1956.18 1339.82 1959.63 1339.82 Q1963.03 1339.82 1965.02 1337.13 Q1967.01 1334.45 1967.01 1329.82 Q1967.01 1325.21 1965.02 1322.52 Q1963.03 1319.82 1959.63 1319.82 M1959.63 1316.2 Q1965.18 1316.2 1968.36 1319.82 Q1971.53 1323.43 1971.53 1329.82 Q1971.53 1336.18 1968.36 1339.82 Q1965.18 1343.43 1959.63 1343.43 Q1954.05 1343.43 1950.88 1339.82 Q1947.73 1336.18 1947.73 1329.82 Q1947.73 1323.43 1950.88 1319.82 Q1954.05 1316.2 1959.63 1316.2 Z\" fill=\"#000000\" fill-rule=\"evenodd\" fill-opacity=\"1\" /><path clip-path=\"url(#clip120)\" d=\"M2000.14 1327.11 L2000.14 1342.76 L1995.88 1342.76 L1995.88 1327.25 Q1995.88 1323.57 1994.44 1321.74 Q1993.01 1319.91 1990.14 1319.91 Q1986.69 1319.91 1984.7 1322.11 Q1982.71 1324.31 1982.71 1328.1 L1982.71 1342.76 L1978.43 1342.76 L1978.43 1316.83 L1982.71 1316.83 L1982.71 1320.86 Q1984.24 1318.52 1986.3 1317.36 Q1988.38 1316.2 1991.09 1316.2 Q1995.55 1316.2 1997.85 1318.98 Q2000.14 1321.74 2000.14 1327.11 Z\" fill=\"#000000\" fill-rule=\"evenodd\" fill-opacity=\"1\" /><path clip-path=\"url(#clip120)\" d=\"M2023.89 1308.2 L2028.56 1308.2 L2028.56 1338.82 L2045.39 1338.82 L2045.39 1342.76 L2023.89 1342.76 L2023.89 1308.2 Z\" fill=\"#000000\" fill-rule=\"evenodd\" fill-opacity=\"1\" /><path clip-path=\"url(#clip120)\" d=\"M2050.11 1316.83 L2054.37 1316.83 L2054.37 1342.76 L2050.11 1342.76 L2050.11 1316.83 M2050.11 1306.74 L2054.37 1306.74 L2054.37 1312.13 L2050.11 1312.13 L2050.11 1306.74 Z\" fill=\"#000000\" fill-rule=\"evenodd\" fill-opacity=\"1\" /><path clip-path=\"url(#clip120)\" d=\"M2084.84 1327.11 L2084.84 1342.76 L2080.58 1342.76 L2080.58 1327.25 Q2080.58 1323.57 2079.14 1321.74 Q2077.71 1319.91 2074.84 1319.91 Q2071.39 1319.91 2069.4 1322.11 Q2067.41 1324.31 2067.41 1328.1 L2067.41 1342.76 L2063.12 1342.76 L2063.12 1316.83 L2067.41 1316.83 L2067.41 1320.86 Q2068.93 1318.52 2070.99 1317.36 Q2073.08 1316.2 2075.79 1316.2 Q2080.25 1316.2 2082.55 1318.98 Q2084.84 1321.74 2084.84 1327.11 Z\" fill=\"#000000\" fill-rule=\"evenodd\" fill-opacity=\"1\" /><path clip-path=\"url(#clip120)\" d=\"M2115.51 1328.73 L2115.51 1330.81 L2095.92 1330.81 Q2096.2 1335.21 2098.56 1337.52 Q2100.95 1339.82 2105.18 1339.82 Q2107.64 1339.82 2109.93 1339.21 Q2112.24 1338.61 2114.51 1337.41 L2114.51 1341.44 Q2112.22 1342.41 2109.81 1342.92 Q2107.41 1343.43 2104.93 1343.43 Q2098.73 1343.43 2095.09 1339.82 Q2091.48 1336.2 2091.48 1330.05 Q2091.48 1323.68 2094.91 1319.95 Q2098.36 1316.2 2104.19 1316.2 Q2109.42 1316.2 2112.45 1319.58 Q2115.51 1322.94 2115.51 1328.73 M2111.25 1327.48 Q2111.2 1323.98 2109.28 1321.9 Q2107.38 1319.82 2104.23 1319.82 Q2100.67 1319.82 2098.52 1321.83 Q2096.39 1323.84 2096.06 1327.5 L2111.25 1327.48 Z\" fill=\"#000000\" fill-rule=\"evenodd\" fill-opacity=\"1\" /><path clip-path=\"url(#clip120)\" d=\"M2147.8 1306.78 Q2144.7 1312.11 2143.19 1317.32 Q2141.69 1322.52 2141.69 1327.87 Q2141.69 1333.22 2143.19 1338.47 Q2144.72 1343.7 2147.8 1349.01 L2144.1 1349.01 Q2140.62 1343.57 2138.89 1338.31 Q2137.17 1333.06 2137.17 1327.87 Q2137.17 1322.71 2138.89 1317.48 Q2140.6 1312.25 2144.1 1306.78 L2147.8 1306.78 Z\" fill=\"#000000\" fill-rule=\"evenodd\" fill-opacity=\"1\" /><path clip-path=\"url(#clip120)\" d=\"M2182.13 1310.86 L2182.13 1315.79 Q2179.77 1313.59 2177.08 1312.5 Q2174.42 1311.41 2171.41 1311.41 Q2165.48 1311.41 2162.34 1315.05 Q2159.19 1318.66 2159.19 1325.51 Q2159.19 1332.34 2162.34 1335.97 Q2165.48 1339.58 2171.41 1339.58 Q2174.42 1339.58 2177.08 1338.5 Q2179.77 1337.41 2182.13 1335.21 L2182.13 1340.09 Q2179.67 1341.76 2176.92 1342.59 Q2174.19 1343.43 2171.13 1343.43 Q2163.29 1343.43 2158.77 1338.63 Q2154.26 1333.82 2154.26 1325.51 Q2154.26 1317.18 2158.77 1312.39 Q2163.29 1307.57 2171.13 1307.57 Q2174.23 1307.57 2176.97 1308.4 Q2179.72 1309.21 2182.13 1310.86 Z\" fill=\"#000000\" fill-rule=\"evenodd\" fill-opacity=\"1\" /><path clip-path=\"url(#clip120)\" d=\"M2200.9 1312.8 L2194.56 1330 L2207.27 1330 L2200.9 1312.8 M2198.26 1308.2 L2203.56 1308.2 L2216.73 1342.76 L2211.87 1342.76 L2208.72 1333.89 L2193.15 1333.89 L2190 1342.76 L2185.07 1342.76 L2198.26 1308.2 Z\" fill=\"#000000\" fill-rule=\"evenodd\" fill-opacity=\"1\" /><path clip-path=\"url(#clip120)\" d=\"M2221.78 1308.2 L2226.46 1308.2 L2226.46 1338.82 L2243.28 1338.82 L2243.28 1342.76 L2221.78 1342.76 L2221.78 1308.2 Z\" fill=\"#000000\" fill-rule=\"evenodd\" fill-opacity=\"1\" /><path clip-path=\"url(#clip120)\" d=\"M2247.34 1306.78 L2251.04 1306.78 Q2254.51 1312.25 2256.22 1317.48 Q2257.96 1322.71 2257.96 1327.87 Q2257.96 1333.06 2256.22 1338.31 Q2254.51 1343.57 2251.04 1349.01 L2247.34 1349.01 Q2250.41 1343.7 2251.92 1338.47 Q2253.45 1333.22 2253.45 1327.87 Q2253.45 1322.52 2251.92 1317.32 Q2250.41 1312.11 2247.34 1306.78 Z\" fill=\"#000000\" fill-rule=\"evenodd\" fill-opacity=\"1\" /></svg>\n"
      ]
     },
     "execution_count": 10,
     "metadata": {},
     "output_type": "execute_result"
    }
   ],
   "source": [
    "# plot the risk-only portfolio -\n",
    "plot(MinVarArray[:,1], MinVarArray[:,2], label=\"\", c=colorant\"#EF4035\", legend=:bottomright, bg=\"floralwhite\", \n",
    "    background_color_outside=\"white\", framestyle = :box, fg_legend = :transparent, lw=3, minorticks=0.05, xlim=(0.0,3.0))\n",
    "scatter!(MinVarArray[:,1], MinVarArray[:,2], label=\"Possible portfolio\", mc=:white, msc=colorant\"#EF4035\")\n",
    "\n",
    "# plot the CAL -\n",
    "plot!(MinVarRiskFreeArray[:,1],  MinVarRiskFreeArray[:,2], lw=3, c=colorant\"#89CCE2\", label=\"Capitol Allocation Line (CAL)\")\n",
    "\n",
    "# axis labels -\n",
    "xlabel!(\"Risk measure (σ-risk)\", fontsize=18)\n",
    "ylabel!(\"Exepcted excess daily return (%)\", fontsize=18)"
   ]
  },
  {
   "cell_type": "markdown",
   "id": "2318dbdf-d415-4bed-bd6a-081f339ea3e2",
   "metadata": {},
   "source": [
    "### Simulate a portfolio using the prediction data set"
   ]
  },
  {
   "cell_type": "markdown",
   "id": "d4fbca22-f624-4fa8-8123-37235faf64fc",
   "metadata": {},
   "source": [
    "#### Which portfolio do you choose?"
   ]
  },
  {
   "cell_type": "code",
   "execution_count": 11,
   "id": "f0ff1ee2-ca8b-4060-94f2-27d98e281361",
   "metadata": {},
   "outputs": [
    {
     "name": "stdout",
     "output_type": "stream",
     "text": [
      "┌────────┬────────────┬─────────────┬──────────┐\n",
      "│\u001b[1m Ticker \u001b[0m│\u001b[1m     weight \u001b[0m│\u001b[1m        E(r) \u001b[0m│\u001b[1m        σ \u001b[0m│\n",
      "├────────┼────────────┼─────────────┼──────────┤\n",
      "│   AMGN │  0.0445846 │  0.00725444 │  1.89768 │\n",
      "│     BA │  0.0156632 │  -0.0145876 │  6.06275 │\n",
      "│    CLX │  0.0788842 │   0.0743217 │  2.08918 │\n",
      "│    COP │ 0.00430251 │  -0.0333819 │  5.96709 │\n",
      "│    CPB │  0.0822266 │   0.0456189 │   1.6202 │\n",
      "│    CVX │   0.023241 │  -0.0076195 │  3.26127 │\n",
      "│     ED │  0.0234476 │ -0.00331326 │  1.24862 │\n",
      "│    GIS │   0.060738 │   0.0142483 │  1.23362 │\n",
      "│   INTC │  0.0499384 │   0.0492051 │  4.21598 │\n",
      "│      K │  0.0652337 │    0.016003 │  1.10956 │\n",
      "│    KMB │   0.057639 │   0.0104511 │  1.02788 │\n",
      "│    LMT │   0.075202 │   0.0132823 │  1.30786 │\n",
      "│    MRK │  0.0306185 │ -0.00934799 │  1.00671 │\n",
      "│    PCG │  0.0441751 │   0.0527386 │   3.6747 │\n",
      "│      T │  0.0906761 │   0.0252184 │  1.08983 │\n",
      "│    VXX │   0.161498 │    0.559731 │   12.256 │\n",
      "│     VZ │  0.0770717 │   0.0019573 │ 0.630181 │\n",
      "│    XLE │ 0.00199689 │  -0.0369137 │   4.0753 │\n",
      "│    XOM │ 0.00436816 │  -0.0289916 │  3.88624 │\n",
      "│    XPO │ 0.00849501 │  0.00540144 │  12.8162 │\n",
      "│  Total │        1.0 │        0.11 │  0.47908 │\n",
      "└────────┴────────────┴─────────────┴──────────┘\n"
     ]
    }
   ],
   "source": [
    "# make a allocation table for risky+risk free asset case -\n",
    "\n",
    "# To search the risky only use data_array = MinVarArray\n",
    "# To search the risky + risky free use data_array = MinVarRiskFreeArray\n",
    "data_array = MinVarArray;\n",
    "\n",
    "# select an index to explore -\n",
    "portfolio_index = index(data_array, 0.5);\n",
    "\n",
    "# build the table -\n",
    "allocation_table_data = table(data_array, portfolio_index, Σ_array, μ_vector, ticker_symbol_array; δ = 0.001);\n",
    "\n",
    "# header -\n",
    "allocation_table_header = ([\"Ticker\", \"weight\", \"E(r)\", \"σ\"])\n",
    "\n",
    "# show the table -\n",
    "pretty_table(allocation_table_data; header = allocation_table_header)"
   ]
  },
  {
   "cell_type": "markdown",
   "id": "71f95fca-2b9a-4f7e-ac0b-b9f11113aff3",
   "metadata": {},
   "source": [
    "#### Compute the wealth for the prediction data set"
   ]
  },
  {
   "cell_type": "code",
   "execution_count": 12,
   "id": "b24f929e-0a45-4476-a94d-eb5ac5b9a3ad",
   "metadata": {},
   "outputs": [],
   "source": [
    "RR = compute_realized_return(price_prediction_dict, ticker_symbol_array; rf = risk_free_daily);"
   ]
  },
  {
   "cell_type": "code",
   "execution_count": 13,
   "id": "fcb2d2e0-1e40-44bc-9fa9-ca6897b3e905",
   "metadata": {},
   "outputs": [
    {
     "ename": "LoadError",
     "evalue": "DimensionMismatch: second dimension of A, 99, does not match length of x, 98",
     "output_type": "error",
     "traceback": [
      "DimensionMismatch: second dimension of A, 99, does not match length of x, 98",
      "",
      "Stacktrace:",
      " [1] gemv!(y::Vector{Float64}, tA::Char, A::Matrix{Float64}, x::Vector{Float64}, α::Bool, β::Bool)",
      "   @ LinearAlgebra /Applications/Julia-1.8.app/Contents/Resources/julia/share/julia/stdlib/v1.8/LinearAlgebra/src/matmul.jl:493",
      " [2] mul!",
      "   @ /Applications/Julia-1.8.app/Contents/Resources/julia/share/julia/stdlib/v1.8/LinearAlgebra/src/matmul.jl:93 [inlined]",
      " [3] mul!",
      "   @ /Applications/Julia-1.8.app/Contents/Resources/julia/share/julia/stdlib/v1.8/LinearAlgebra/src/matmul.jl:276 [inlined]",
      " [4] *",
      "   @ /Applications/Julia-1.8.app/Contents/Resources/julia/share/julia/stdlib/v1.8/LinearAlgebra/src/matmul.jl:86 [inlined]",
      " [5] wealth(R::Matrix{Float64}, ω::Vector{Float64}, Wₒ::Float64)",
      "   @ Main ~/Desktop/julia_work/CHEME-5660-Markets-Mayhem-Example-Notebooks/labs/lab-7-Markowitz-Portfolio-Allocation/CHEME-5660-Lab-7-CodeLib.jl:382",
      " [6] top-level scope",
      "   @ In[13]:5",
      " [7] eval",
      "   @ ./boot.jl:368 [inlined]",
      " [8] include_string(mapexpr::typeof(REPL.softscope), mod::Module, code::String, filename::String)",
      "   @ Base ./loading.jl:1428"
     ]
    }
   ],
   "source": [
    "# grab the allocation that we selected -\n",
    "ω =  data_array[portfolio_index,3:end]\n",
    "ω_rf = 1.0 - sum(w);\n",
    "\n",
    "# compute the wealth -\n",
    "WA = wealth(RR, ω, Wₒ)"
   ]
  },
  {
   "cell_type": "code",
   "execution_count": 14,
   "id": "a189853d-c040-4b0a-b153-be6b197cabb4",
   "metadata": {},
   "outputs": [
    {
     "ename": "LoadError",
     "evalue": "UndefVarError: WA not defined",
     "output_type": "error",
     "traceback": [
      "UndefVarError: WA not defined",
      "",
      "Stacktrace:",
      " [1] top-level scope",
      "   @ In[14]:1",
      " [2] eval",
      "   @ ./boot.jl:368 [inlined]",
      " [3] include_string(mapexpr::typeof(REPL.softscope), mod::Module, code::String, filename::String)",
      "   @ Base ./loading.jl:1428"
     ]
    }
   ],
   "source": [
    "plot(WA)"
   ]
  },
  {
   "cell_type": "code",
   "execution_count": 15,
   "id": "88a88d52-94e3-4253-a4eb-dd6978b22a2f",
   "metadata": {},
   "outputs": [
    {
     "ename": "LoadError",
     "evalue": "UndefVarError: WM not defined",
     "output_type": "error",
     "traceback": [
      "UndefVarError: WM not defined",
      "",
      "Stacktrace:",
      " [1] top-level scope",
      "   @ In[15]:1",
      " [2] eval",
      "   @ ./boot.jl:368 [inlined]",
      " [3] include_string(mapexpr::typeof(REPL.softscope), mod::Module, code::String, filename::String)",
      "   @ Base ./loading.jl:1428"
     ]
    }
   ],
   "source": [
    "plot(WM[:,1], WM[:,2]);\n",
    "plot!(WM[:,1], WM[:,3], c=:red)\n",
    "plot!(WM[:,1], WM[:,4], c=:green)"
   ]
  },
  {
   "cell_type": "code",
   "execution_count": null,
   "id": "a65addc8-fcc8-4775-8c43-b12b6347081d",
   "metadata": {},
   "outputs": [],
   "source": []
  }
 ],
 "metadata": {
  "kernelspec": {
   "display_name": "Julia 1.8.0",
   "language": "julia",
   "name": "julia-1.8"
  },
  "language_info": {
   "file_extension": ".jl",
   "mimetype": "application/julia",
   "name": "julia",
   "version": "1.8.2"
  },
  "toc-autonumbering": false,
  "toc-showmarkdowntxt": false
 },
 "nbformat": 4,
 "nbformat_minor": 5
}
