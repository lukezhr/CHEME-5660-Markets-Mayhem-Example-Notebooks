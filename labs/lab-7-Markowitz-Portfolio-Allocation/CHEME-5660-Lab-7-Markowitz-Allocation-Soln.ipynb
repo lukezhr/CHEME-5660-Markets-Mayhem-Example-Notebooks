{
 "cells": [
  {
   "cell_type": "markdown",
   "id": "1a53cc8f-4745-4cbb-96de-c9278e40dcc9",
   "metadata": {},
   "source": [
    "## CHEME 5660: Does Markowitz portfolio allocation perform better than alternative approaches?"
   ]
  },
  {
   "cell_type": "markdown",
   "id": "92b131b6-9797-4ee1-a4a8-2c3656ac8e98",
   "metadata": {},
   "source": [
    "### Introduction\n",
    "Fill me in"
   ]
  },
  {
   "cell_type": "markdown",
   "id": "3fe93c92-7cc1-4b5b-98d7-3bd773948fe9",
   "metadata": {},
   "source": [
    "### Lab 7 setup"
   ]
  },
  {
   "cell_type": "code",
   "execution_count": 1,
   "id": "151052af-79a2-465c-b2e8-b60e1280b656",
   "metadata": {},
   "outputs": [
    {
     "name": "stderr",
     "output_type": "stream",
     "text": [
      "\u001b[32m\u001b[1m  Activating\u001b[22m\u001b[39m project at `~/Desktop/julia_work/CHEME-5660-Markets-Mayhem-Example-Notebooks/labs/lab-7-Markowitz-Portfolio-Allocation`\n",
      "\u001b[32m\u001b[1m  No Changes\u001b[22m\u001b[39m to `~/Desktop/julia_work/CHEME-5660-Markets-Mayhem-Example-Notebooks/labs/lab-7-Markowitz-Portfolio-Allocation/Project.toml`\n",
      "\u001b[32m\u001b[1m  No Changes\u001b[22m\u001b[39m to `~/Desktop/julia_work/CHEME-5660-Markets-Mayhem-Example-Notebooks/labs/lab-7-Markowitz-Portfolio-Allocation/Manifest.toml`\n"
     ]
    }
   ],
   "source": [
    "import Pkg; Pkg.activate(\".\"); Pkg.resolve(); Pkg.instantiate();"
   ]
  },
  {
   "cell_type": "code",
   "execution_count": 2,
   "id": "ee242110-bf71-4b0a-84ed-f246dafeb352",
   "metadata": {},
   "outputs": [],
   "source": [
    "# load req packages -\n",
    "using Convex\n",
    "using SCS\n",
    "using DataFrames\n",
    "using Dates\n",
    "using Colors\n",
    "using Plots\n",
    "using StatsPlots\n",
    "using Statistics\n",
    "using MathOptInterface\n",
    "using FileIO\n",
    "using JLD2\n",
    "using PrettyTables\n",
    "using Distributions\n",
    "using LinearAlgebra\n",
    "\n",
    "# setup paths -\n",
    "const _ROOT = pwd();\n",
    "const _PATH_TO_DATA = joinpath(_ROOT, \"data\");"
   ]
  },
  {
   "cell_type": "code",
   "execution_count": 3,
   "id": "8e0f6ace-4ff1-4ae9-a84c-3455fa540825",
   "metadata": {},
   "outputs": [],
   "source": [
    "include(\"CHEME-5660-Lab-7-CodeLib.jl\");"
   ]
  },
  {
   "cell_type": "code",
   "execution_count": 4,
   "id": "2cdc5cd8-1a78-40a2-a190-77b58e2920e9",
   "metadata": {},
   "outputs": [],
   "source": [
    "# daily risk-free rate -\n",
    "r̄ = 0.0403;\n",
    "risk_free_daily = ((1+r̄)^(1/365) - 1);\n",
    "\n",
    "# how many days of historical data are we using?\n",
    "m̂ = 299;\n",
    "λ̂ = 0.001;"
   ]
  },
  {
   "cell_type": "markdown",
   "id": "a6207866-4712-4c21-b289-fb7f85c9a33f",
   "metadata": {},
   "source": [
    "#### Load the OHLC data set\n",
    "A data hygine issue: we exclude tickers from the data that don't have the same length as the market ticker `SPY`."
   ]
  },
  {
   "cell_type": "code",
   "execution_count": 5,
   "id": "4dfa7ef5-ebe5-4b61-a1cc-859bf07da75b",
   "metadata": {},
   "outputs": [],
   "source": [
    "# load the JLD2 portfolio data file -\n",
    "tmp = load(joinpath(_PATH_TO_DATA, \"CHEME-5660-Portfolio-10-30-22.jld2\"))[\"dd\"];"
   ]
  },
  {
   "cell_type": "code",
   "execution_count": 6,
   "id": "290209e1-e342-4693-a937-2bb61fd6612d",
   "metadata": {},
   "outputs": [
    {
     "name": "stdout",
     "output_type": "stream",
     "text": [
      "Length violation: META was removed; dim(SPY) = 597 days and dim(META) = 247 days\n",
      "Length violation: BIIB was removed; dim(SPY) = 597 days and dim(BIIB) = 596 days\n"
     ]
    }
   ],
   "source": [
    "price_data_dictionary = clean(tmp);"
   ]
  },
  {
   "cell_type": "code",
   "execution_count": 7,
   "id": "86f64ae3-1030-4b40-8e36-675f29438749",
   "metadata": {},
   "outputs": [],
   "source": [
    "# we have these ticker symbols in our data set -\n",
    "ticker_symbol_array = sort(keys(price_data_dictionary) |> collect);\n",
    "\n",
    "# how many ticker symbols do we have?\n",
    "Nₐ = length(ticker_symbol_array);"
   ]
  },
  {
   "cell_type": "code",
   "execution_count": 8,
   "id": "94dcfdc8-50e4-465c-a9a5-5157a7d8b515",
   "metadata": {},
   "outputs": [],
   "source": [
    "# Split the data into a training and prediction set\n",
    "(price_training_dict, price_prediction_dict) = partition(price_data_dictionary, (m̂+1));"
   ]
  },
  {
   "cell_type": "code",
   "execution_count": 9,
   "id": "605724eb-3d82-4b74-801c-ed1012c46284",
   "metadata": {},
   "outputs": [],
   "source": [
    "# build the set of single index models using the *training* set -\n",
    "sim_model_dictionary = build(price_training_dict, ticker_symbol_array; \n",
    "    m̂ = m̂, λ̂ = λ̂, rf = risk_free_daily);"
   ]
  },
  {
   "cell_type": "code",
   "execution_count": 10,
   "id": "82aa6a1b-00a4-4682-9bbb-82f55f2e7ef2",
   "metadata": {},
   "outputs": [],
   "source": [
    "# compute the excess nreturn for SPY (which is in the data set)\n",
    "(Rₘ, R̂ₘ, W, μᵦ, pᵦ) = compute_excess_return(price_training_dict[\"SPY\"]; \n",
    "    m = m̂, rf = risk_free_daily, λ = λ̂);"
   ]
  },
  {
   "cell_type": "code",
   "execution_count": 11,
   "id": "c594ab70-c770-4c39-a780-06b267cfbb81",
   "metadata": {},
   "outputs": [],
   "source": [
    "# compute the μ_vector -\n",
    "μ_vector = μ(sim_model_dictionary, R̂ₘ, ticker_symbol_array);"
   ]
  },
  {
   "cell_type": "code",
   "execution_count": 12,
   "id": "160d36fb-b466-4c1e-99f1-2d669e5ecc30",
   "metadata": {},
   "outputs": [],
   "source": [
    "# compute Σ -\n",
    "Σ_array = Σ(sim_model_dictionary, R̂ₘ, ticker_symbol_array);"
   ]
  },
  {
   "cell_type": "code",
   "execution_count": 13,
   "id": "7c3df2c3-b4e2-4954-bb65-beeb199f7d06",
   "metadata": {},
   "outputs": [],
   "source": [
    "# define the returns that we are going to simulate -\n",
    "target_return_array = 100 .*range(0.0, step=0.0001, stop = 0.003) |> collect # percentage\n",
    "L = length(target_return_array);"
   ]
  },
  {
   "cell_type": "code",
   "execution_count": null,
   "id": "00a58a4f-bbb6-4715-97b2-cb14359795d6",
   "metadata": {},
   "outputs": [],
   "source": [
    "# Initialize MinVar array\n",
    "# row: return\n",
    "# col 1 -> risk\n",
    "# col 2 -> return\n",
    "# col 3 ... N -> allocation\n",
    "MinVarArray = Array{Float64,2}(undef,L, (Nₐ + 2));\n",
    "\n",
    "# main loop: pick a return, run the calculation. If solver converged, store results\n",
    "for i = 1:L\n",
    "\n",
    "    tr = target_return_array[i]\n",
    "    (status_flag, ω, opt_val, ret_val) = compute_minvar_portfolio_allocation(μ_vector, Σ_array, tr; w_lower = 0.0);\n",
    "\n",
    "    if (status_flag == MathOptInterface.OPTIMAL)\n",
    "        \n",
    "        MinVarArray[i,1] = sqrt(opt_val);\n",
    "        MinVarArray[i,2] = ret_val;\n",
    "        \n",
    "        # capture the allocation\n",
    "        for a ∈ 1:Nₐ\n",
    "            MinVarArray[i,2+a] = ω[a]\n",
    "        end\n",
    "    end\n",
    "end"
   ]
  },
  {
   "cell_type": "code",
   "execution_count": null,
   "id": "2a2163ea-b162-408c-b902-0eba1635df25",
   "metadata": {},
   "outputs": [],
   "source": [
    "# Initialize MinVarRiskFree array\n",
    "# row: return\n",
    "# col 1 -> risk\n",
    "# col 2 -> return\n",
    "# col 3 ... N -> allocation\n",
    "MinVarRiskFreeArray = Array{Float64,2}(undef, L, (Nₐ + 2));\n",
    "\n",
    "# main loop: pick a return, run the calculation. If solver converged, store results\n",
    "for i = 1:L\n",
    "\n",
    "    tr = target_return_array[i]\n",
    "    (status_flag, ω, opt_val, ret_val) = compute_minvar_portfolio_allocation_risk_free(μ_vector, Σ_array, tr;\n",
    "        risk_free_return = risk_free_daily, w_lower =  0.0);\n",
    "\n",
    "    if (status_flag == MathOptInterface.OPTIMAL)\n",
    "        \n",
    "        # capture the risk and reward values -\n",
    "        MinVarRiskFreeArray[i,1] = sqrt(opt_val);\n",
    "        MinVarRiskFreeArray[i,2] = ret_val;\n",
    "        \n",
    "        # capture the allocation\n",
    "        for a ∈ 1:Nₐ\n",
    "            MinVarRiskFreeArray[i,2+a] = ω[a]\n",
    "        end\n",
    "    end\n",
    "end"
   ]
  },
  {
   "cell_type": "code",
   "execution_count": null,
   "id": "400b7c49-2ae3-4cb4-814c-ad3ae60de0de",
   "metadata": {},
   "outputs": [],
   "source": [
    "# plot the risk-only portfolio -\n",
    "plot(MinVarArray[:,1], MinVarArray[:,2], label=\"\", c=colorant\"#EF4035\", legend=:bottomright, bg=\"floralwhite\", \n",
    "    background_color_outside=\"white\", framestyle = :box, fg_legend = :transparent, lw=3, minorticks=0.05, xlim=(0.0,3.0))\n",
    "scatter!(MinVarArray[:,1], MinVarArray[:,2], label=\"Possible portfolio\", mc=:white, msc=colorant\"#EF4035\")\n",
    "\n",
    "# plot the CAL -\n",
    "plot!(MinVarRiskFreeArray[:,1],  MinVarRiskFreeArray[:,2], lw=3, c=colorant\"#89CCE2\", label=\"Capitol Allocation Line (CAL)\")\n",
    "\n",
    "# axis labels -\n",
    "xlabel!(\"Risk measure (σ-risk)\", fontsize=18)\n",
    "ylabel!(\"Exepcted excess daily return (%)\", fontsize=18)"
   ]
  },
  {
   "cell_type": "code",
   "execution_count": null,
   "id": "f0ff1ee2-ca8b-4060-94f2-27d98e281361",
   "metadata": {},
   "outputs": [],
   "source": [
    "# make a allocation table for risky+risk free asset case -\n",
    "\n",
    "# what portfolio index do we need?\n",
    "portfolio_index_rf = findall(x->x<=0.60, MinVarRiskFreeArray[:,1])[end]\n",
    "δ = 0.001; # what is my cutoff?\n",
    "\n",
    "# find the indexes of the assets that are \"not small\" -\n",
    "idx_not_small_rf = findall(x-> abs(x) >= δ, MinVarRiskFreeArray[portfolio_index_rf,3:end])\n",
    "A = length(idx_not_small_rf);\n",
    "\n",
    "# setup table -\n",
    "allocation_table_data_rf = Array{Any,2}(undef, A+1, 4);\n",
    "for a ∈ 1:A\n",
    "    \n",
    "    # grab the data -\n",
    "    idx = idx_not_small_rf[a];\n",
    "    ticker = ticker_symbol_array[idx]\n",
    "    ωₐ = MinVarRiskFreeArray[portfolio_index_rf,(idx .+ 2)];\n",
    "\n",
    "    # package -\n",
    "    allocation_table_data_rf[a,1] = ticker;\n",
    "    allocation_table_data_rf[a,2] = ωₐ\n",
    "    allocation_table_data_rf[a,3] = μ_vector[idx];\n",
    "    allocation_table_data_rf[a,4] = Σ_array[idx,idx];\n",
    "end\n",
    "\n",
    "# add a total row -\n",
    "allocation_table_data_rf[end,1] = \"Total\"\n",
    "allocation_table_data_rf[end,2] = sum(MinVarRiskFreeArray[portfolio_index_rf, (idx_not_small_rf .+ 2)])\n",
    "allocation_table_data_rf[end,3] = MinVarRiskFreeArray[portfolio_index_rf,2];\n",
    "allocation_table_data_rf[end,4] = MinVarRiskFreeArray[portfolio_index_rf,1];\n",
    "\n",
    "# header -\n",
    "allocation_table_header_rf = ([\"Ticker\", \"weight\", \"E(r)\", \"σ\"])\n",
    "\n",
    "# show the table -\n",
    "pretty_table(allocation_table_data_rf; header = allocation_table_header_rf)"
   ]
  },
  {
   "cell_type": "code",
   "execution_count": null,
   "id": "b24f929e-0a45-4476-a94d-eb5ac5b9a3ad",
   "metadata": {},
   "outputs": [],
   "source": [
    "RR = compute_realized_excess_return(price_prediction_dict, ticker_symbol_array; rf = risk_free_daily);"
   ]
  },
  {
   "cell_type": "code",
   "execution_count": null,
   "id": "48e32bd3-f35f-4453-9a7f-bd83d149b305",
   "metadata": {},
   "outputs": [],
   "source": [
    "RRT = transpose(RR)"
   ]
  },
  {
   "cell_type": "code",
   "execution_count": null,
   "id": "fcb2d2e0-1e40-44bc-9fa9-ca6897b3e905",
   "metadata": {},
   "outputs": [],
   "source": [
    "ω =  MinVarRiskFreeArray[portfolio_index_rf,3:end]\n",
    "Z = RRT*ω"
   ]
  },
  {
   "cell_type": "code",
   "execution_count": null,
   "id": "a189853d-c040-4b0a-b153-be6b197cabb4",
   "metadata": {},
   "outputs": [],
   "source": [
    "Wₒ = 10000.0;\n",
    "NZ = length(Z);\n",
    "WM = Array{Float64,2}(undef, NZ, 4);\n",
    "R_SPY = compute_realized_excess_return(price_prediction_dict, [\"SPY\"]; rf = risk_free_daily)\n",
    "R_AMD = compute_realized_excess_return(price_prediction_dict, [\"MMM\"]; rf = risk_free_daily)\n",
    "WM[1,1] = 0;\n",
    "WM[1,2] = Wₒ\n",
    "WM[1,3] = Wₒ\n",
    "WM[1,4] = Wₒ\n",
    "for i ∈ 1:NZ-1\n",
    "    \n",
    "    WM[i+1,1] = i;\n",
    "    WM[i+1,2] = (1+(Z[i] + risk_free_daily))*WM[i,2]\n",
    "    WM[i+1,3] = (1+(R_SPY[i] + risk_free_daily))*WM[i,3];\n",
    "    WM[i+1,4] = (1+(R_AMD[i] + risk_free_daily))*WM[i,4];\n",
    "end"
   ]
  },
  {
   "cell_type": "code",
   "execution_count": null,
   "id": "88a88d52-94e3-4253-a4eb-dd6978b22a2f",
   "metadata": {},
   "outputs": [],
   "source": [
    "plot(WM[:,1], WM[:,2]);\n",
    "plot!(WM[:,1], WM[:,3], c=:red)\n",
    "plot!(WM[:,1], WM[:,4], c=:green)"
   ]
  },
  {
   "cell_type": "code",
   "execution_count": null,
   "id": "a65addc8-fcc8-4775-8c43-b12b6347081d",
   "metadata": {},
   "outputs": [],
   "source": []
  }
 ],
 "metadata": {
  "kernelspec": {
   "display_name": "Julia 1.8.0",
   "language": "julia",
   "name": "julia-1.8"
  },
  "language_info": {
   "file_extension": ".jl",
   "mimetype": "application/julia",
   "name": "julia",
   "version": "1.8.2"
  }
 },
 "nbformat": 4,
 "nbformat_minor": 5
}
