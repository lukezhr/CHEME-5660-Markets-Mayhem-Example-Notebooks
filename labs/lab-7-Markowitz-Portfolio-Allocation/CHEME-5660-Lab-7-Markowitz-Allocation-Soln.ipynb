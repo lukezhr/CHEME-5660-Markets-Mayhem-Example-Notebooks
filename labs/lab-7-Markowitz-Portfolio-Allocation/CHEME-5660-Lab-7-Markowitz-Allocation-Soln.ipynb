{
 "cells": [
  {
   "cell_type": "markdown",
   "id": "1a53cc8f-4745-4cbb-96de-c9278e40dcc9",
   "metadata": {},
   "source": [
    "## CHEME 5660: Does Markowitz allocation perform better than alternative approaches?"
   ]
  },
  {
   "cell_type": "code",
   "execution_count": null,
   "id": "d05ece14-6001-4abb-b40b-27a044c1e56e",
   "metadata": {},
   "outputs": [],
   "source": []
  }
 ],
 "metadata": {
  "kernelspec": {
   "display_name": "Julia 1.8.0",
   "language": "julia",
   "name": "julia-1.8"
  },
  "language_info": {
   "file_extension": ".jl",
   "mimetype": "application/julia",
   "name": "julia",
   "version": "1.8.2"
  }
 },
 "nbformat": 4,
 "nbformat_minor": 5
}
