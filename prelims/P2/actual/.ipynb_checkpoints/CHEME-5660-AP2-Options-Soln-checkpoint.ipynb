{
 "cells": [
  {
   "cell_type": "markdown",
   "id": "283a8ec8-a829-463e-a7be-b9a7137e1e5b",
   "metadata": {},
   "source": [
    "## CHEME 5660 Actual Prelim 2 Options Question"
   ]
  },
  {
   "cell_type": "markdown",
   "id": "e698dce8-6671-40c4-b742-5f1f6203b0ee",
   "metadata": {},
   "source": [
    "A trader at Olin Financial, an up-and-coming hedge fund, sold a short strangle on firm XYZ with a `01/20/2023` expiration. \n",
    "\n",
    "__Assumptions__: (i) the short put (contract 1) has a strike price of $K_{1}$ = 230.0 USD/share and an implied volatility of 58.97\\%; (ii) the short call (contract 2) has a strike price of $K_{2}$ = 300.0 USD/share and an implied volatility of 52.59\\%; (iii) there are 78 days to 01/20/2023 (from today); (iv) the current share price of XYZ is 270.89 USD/share; (v) the risk-free rate is 4.10\\%.\n",
    "\n",
    "Use the Jupyter notebook `CHEME-5660-PP2-Options.ipynb`, and any associated data sets or other course materials to answer the following questions:\n",
    "\n",
    "* a) Compute the premiums for the put $\\mathcal{P}_{1}$ and call $\\mathcal{P}_{2}$ contracts for the `01/20/2023` short strangle on firm XYZ using the Cox, Ross, and Rubinstein (CRR) binomial lattice model. \n",
    "* b) Compute the maximum profit and break-even points for the Olin Financial short strangle position on XYZ.\n",
    "* c) Compute the probability of the profit at expiration for the short strangle position by sampling the share price distribution from the `Equity` notebook. "
   ]
  },
  {
   "cell_type": "markdown",
   "id": "29c91199-18ce-4378-89d9-7e3b575e5692",
   "metadata": {},
   "source": [
    "## Solution"
   ]
  },
  {
   "cell_type": "code",
   "execution_count": 1,
   "id": "e0aab0bc-2d02-4c2b-b26f-449f2f3ae9a9",
   "metadata": {},
   "outputs": [
    {
     "name": "stderr",
     "output_type": "stream",
     "text": [
      "\u001b[32m\u001b[1m  Activating\u001b[22m\u001b[39m project at `~/Desktop/julia_work/CHEME-5660-Markets-Mayhem-Example-Notebooks/prelims/P2/actual`\n",
      "\u001b[32m\u001b[1m  No Changes\u001b[22m\u001b[39m to `~/Desktop/julia_work/CHEME-5660-Markets-Mayhem-Example-Notebooks/prelims/P2/actual/Project.toml`\n",
      "\u001b[32m\u001b[1m  No Changes\u001b[22m\u001b[39m to `~/Desktop/julia_work/CHEME-5660-Markets-Mayhem-Example-Notebooks/prelims/P2/actual/Manifest.toml`\n"
     ]
    }
   ],
   "source": [
    "import Pkg; Pkg.activate(\".\"); Pkg.resolve(); Pkg.instantiate();"
   ]
  },
  {
   "cell_type": "code",
   "execution_count": 2,
   "id": "37954965-9612-40d7-b6e1-c9ca357cc150",
   "metadata": {},
   "outputs": [],
   "source": [
    "# load external packages that are required for the calculations -\n",
    "using DataFrames\n",
    "using CSV\n",
    "using Dates\n",
    "using Statistics\n",
    "using LinearAlgebra\n",
    "using Plots\n",
    "using Colors\n",
    "using Distributions\n",
    "using StatsPlots\n",
    "using PQEcolaPoint\n",
    "using PrettyTables\n",
    "\n",
    "# setup paths to load XYZ OHLC data set -\n",
    "const _NOTEBOOK_ROOT = pwd();\n",
    "const _PATH_TO_DATA = joinpath(_NOTEBOOK_ROOT, \"data\");"
   ]
  },
  {
   "cell_type": "code",
   "execution_count": 3,
   "id": "1b72d182-69eb-48a3-b8bf-e4f1cab82639",
   "metadata": {},
   "outputs": [],
   "source": [
    "include(\"CHEME-5560-AP2-CodeLib.jl\"); # Look inside me to find out what I have!"
   ]
  },
  {
   "cell_type": "code",
   "execution_count": 4,
   "id": "e4ef16e3-0be3-4019-b887-f8a087f252a2",
   "metadata": {},
   "outputs": [],
   "source": [
    "# Date -\n",
    "D = Date(2022, 12, 16); # date when contracts expire \n",
    "\n",
    "# contract 1 parameters -\n",
    "IV₁ = 58.97; # implied volatility for contract 1 (short put)\n",
    "K₁ = 230.0;   # strike price short put\n",
    "T₁ = ticker(\"P\", \"XYZ\", D, K₁);\n",
    "\n",
    "# contract 2 parameters -\n",
    "IV₂ = 52.59; # implied volatility for contract 2 (short call)\n",
    "K₂ = 300.50;  # strike price short call\n",
    "T₂ = ticker(\"C\", \"XYZ\", D, K₂);\n",
    "\n",
    "# setup some shared constants\n",
    "B = 365.0;   # number of days in a year\n",
    "μ = 0.0410;  # risk-free rate\n",
    "DTE = 78.0;  # days to expiration\n",
    "\n",
    "# What is the current share price?\n",
    "Sₒ = 270.89;\n",
    "\n",
    "# How many levels on the tree?\n",
    "L = 100;\n",
    "\n",
    "# How many sample do we have?\n",
    "number_of_samples = 10000;"
   ]
  },
  {
   "cell_type": "markdown",
   "id": "fdc4434c-333c-40e4-9c6d-089f526e8687",
   "metadata": {},
   "source": [
    "### a) Estimate the price of the call and put contracts"
   ]
  },
  {
   "cell_type": "code",
   "execution_count": 5,
   "id": "3ae9e3d6-4a83-4165-93d3-934f06e5c339",
   "metadata": {},
   "outputs": [],
   "source": [
    "# build the contracts for the trades - \n",
    "\n",
    "# Put contract -\n",
    "xyz_put_contract_model = build(PutContractModel, (\n",
    "    ticker = T₁,\n",
    "    expiration_date = D,\n",
    "    strike_price = K₁,\n",
    "    premium = 0.0,\n",
    "    number_of_contracts = 1,\n",
    "    direction = 1, # Bug or feature? => always use 1 here (even if we are selling)\n",
    "    current_price = 0.0      \n",
    "));\n",
    "\n",
    "# Call contract - \n",
    "xyz_call_contract_model = build(CallContractModel, (\n",
    "    ticker = T₂,\n",
    "    expiration_date = D,\n",
    "    strike_price = K₂,\n",
    "    premium = 0.0,\n",
    "    number_of_contracts = 1,\n",
    "    direction = 1, # Bug or feature? => always use 1 here (even if we are selling)\n",
    "    current_price = 0.0      \n",
    "));"
   ]
  },
  {
   "cell_type": "code",
   "execution_count": 6,
   "id": "2a48048a-67be-47b5-8792-9bd9213c1013",
   "metadata": {},
   "outputs": [],
   "source": [
    "# build lattice models -\n",
    "my_put_lattice_model = build(CRRLatticeModel; number_of_levels=(L+1), Sₒ = Sₒ, σ = (IV₁/100), μ = μ, T = (DTE/B));\n",
    "my_call_lattice_model = build(CRRLatticeModel; number_of_levels=(L+1), Sₒ = Sₒ, σ = (IV₂/100), μ = μ, T = (DTE/B));"
   ]
  },
  {
   "cell_type": "code",
   "execution_count": 7,
   "id": "a690be55-5133-4378-bdb6-8b445e277072",
   "metadata": {},
   "outputs": [],
   "source": [
    "# compute the price of the put contract using the premium method\n",
    "P₁ = premium(xyz_put_contract_model, my_put_lattice_model);"
   ]
  },
  {
   "cell_type": "code",
   "execution_count": 8,
   "id": "c3f41b6a-e411-4f29-9d3c-8e7e09c0cbfd",
   "metadata": {},
   "outputs": [],
   "source": [
    "# compute the price of the call contract using the premium method\n",
    "P₂ = premium(xyz_call_contract_model, my_call_lattice_model);"
   ]
  },
  {
   "cell_type": "code",
   "execution_count": 17,
   "id": "d07d9e6f-d526-41b2-af43-024b103f4098",
   "metadata": {},
   "outputs": [
    {
     "name": "stdout",
     "output_type": "stream",
     "text": [
      "┌─────────────────────────────────┬───────────┐\n",
      "│\u001b[1m                            Item \u001b[0m│\u001b[1m USD/share \u001b[0m│\n",
      "├─────────────────────────────────┼───────────┤\n",
      "│  Premium Short Put (contract 1) │   10.6792 │\n",
      "│ Premium Short Call (contract 2) │   15.9402 │\n",
      "│                           Total │   26.6194 │\n",
      "└─────────────────────────────────┴───────────┘\n"
     ]
    }
   ],
   "source": [
    "# table for part A -\n",
    "part_A_table_data = Array{Any, 2}(undef, 3,2);\n",
    "part_A_table_data[1,1] = \"Premium Short Put (contract 1)\"\n",
    "part_A_table_data[1,2] = P₁;\n",
    "\n",
    "part_A_table_data[2,1] = \"Premium Short Call (contract 2)\"\n",
    "part_A_table_data[2,2] = P₂\n",
    "\n",
    "part_A_table_data[3,1] = \"Total\"\n",
    "part_A_table_data[3,2] = P₁+P₂\n",
    "\n",
    "# header part B -\n",
    "header_table_part_A = ([\"Item\", \"USD/share\"]);\n",
    "\n",
    "# make table -\n",
    "pretty_table(part_A_table_data; header = header_table_part_A)"
   ]
  },
  {
   "cell_type": "markdown",
   "id": "ce13cbcd-50ed-48c8-bff0-4b404420ca84",
   "metadata": {},
   "source": [
    "### b) Compute the maximum profit and breakeven points for the short strangle at expiration"
   ]
  },
  {
   "cell_type": "code",
   "execution_count": 9,
   "id": "5b11bbd6-2b30-4a53-8584-8b3124e2eb23",
   "metadata": {},
   "outputs": [],
   "source": [
    "# max profit is the sum of the premiums (we make this when we open the trade)\n",
    "max_profit_xyz_short_strangle = P₁+P₂;"
   ]
  },
  {
   "cell_type": "code",
   "execution_count": 10,
   "id": "f9d0cb6d-10a4-4848-a0e1-03117011e00b",
   "metadata": {},
   "outputs": [],
   "source": [
    "# breakeven low B₁ -\n",
    "B₁ = K₁ - max_profit_xyz_short_strangle;"
   ]
  },
  {
   "cell_type": "code",
   "execution_count": 11,
   "id": "c93bb616-698f-4f1d-bb6a-53497383d95d",
   "metadata": {},
   "outputs": [],
   "source": [
    "# breakeven high B₂ -\n",
    "B₂ = K₂ + max_profit_xyz_short_strangle;"
   ]
  },
  {
   "cell_type": "code",
   "execution_count": 16,
   "id": "977b7e04-af64-4639-955d-d4d3000dddd4",
   "metadata": {},
   "outputs": [
    {
     "name": "stdout",
     "output_type": "stream",
     "text": [
      "┌──────────────────────┬───────────┐\n",
      "│\u001b[1m                 Item \u001b[0m│\u001b[1m USD/share \u001b[0m│\n",
      "├──────────────────────┼───────────┤\n",
      "│           Max profit │   26.6194 │\n",
      "│  B₁ (low break-even) │   203.381 │\n",
      "│ B₂ (high break-even) │   327.119 │\n",
      "└──────────────────────┴───────────┘\n"
     ]
    }
   ],
   "source": [
    "# build a table with the max profit and break-even values -\n",
    "part_B_table_data = Array{Any, 2}(undef, 3,2);\n",
    "part_B_table_data[1,1] = \"Max profit\"\n",
    "part_B_table_data[1,2] = max_profit_xyz_short_strangle;\n",
    "part_B_table_data[2,1] = \"B₁ (low break-even)\"\n",
    "part_B_table_data[2,2] = B₁\n",
    "part_B_table_data[3,1] = \"B₂ (high break-even)\"\n",
    "part_B_table_data[3,2] = B₂\n",
    "\n",
    "# header part B -\n",
    "header_table_part_B = ([\"Item\", \"USD/share\"]);\n",
    "\n",
    "# make table -\n",
    "pretty_table(part_B_table_data; header = header_table_part_B)"
   ]
  },
  {
   "cell_type": "markdown",
   "id": "efab6aa8-8430-44b9-ba43-746a860f6896",
   "metadata": {},
   "source": [
    "### c) Compute the probability of profit at expiration \n",
    "The probability of profit for a short strangle is the probability that we close between the low and high break-even points. Thus, we are looking for the value:\n",
    "\n",
    "$$P(B_{1}<X\\leq{B_{2}}) = F_{X}(B_{2}) - F_{X}(B_{1})$$\n",
    "\n",
    "where $B_{\\star}$ denotes the respective break-even points, and $F_{X}(x)$ is:\n",
    "\n",
    "$$F_{X}(x) = P(X\\leq{x})$$\n",
    "\n",
    "that is, the probability that a random-variable $X$ is less than (or equal) to a specified value $x$. Check out the `P` function in the CodeLib to estimate $P(X\\leq{x})$ or to fit a cumulative distribution, see [the Distributions.jl documentation](https://juliastats.org/Distributions.jl/stable/univariate/#Distributions.cdf-Tuple{UnivariateDistribution,%20Real})."
   ]
  },
  {
   "cell_type": "code",
   "execution_count": 18,
   "id": "7be0864e-e54c-4dad-8ef3-3c2ae10627ef",
   "metadata": {},
   "outputs": [],
   "source": [
    "# build a log normal distribution from the previous GBM simulations \n",
    "\n",
    "# from Q1\n",
    "μ̂ = 5.108608304369271;\n",
    "σ̂ = 0.3971754813129187;\n",
    "\n",
    "# build -\n",
    "d = LogNormal(μ̂, σ̂);"
   ]
  },
  {
   "cell_type": "code",
   "execution_count": 19,
   "id": "b6516df7-6730-45df-92a5-5639b653506f",
   "metadata": {},
   "outputs": [],
   "source": [
    "# sample the future price distribution -\n",
    "pop_samples = rand(d, number_of_samples);"
   ]
  },
  {
   "cell_type": "code",
   "execution_count": 25,
   "id": "27368ce1-b6a1-498d-a1db-f028255e44a5",
   "metadata": {},
   "outputs": [
    {
     "data": {
      "text/plain": [
       "0.698415287032371"
      ]
     },
     "execution_count": 25,
     "metadata": {},
     "output_type": "execute_result"
    }
   ],
   "source": [
    "# compute the probability of profit -\n",
    "P_B₁ = cdf(d, B₁) # probability that we will close *below* B1 - "
   ]
  },
  {
   "cell_type": "code",
   "execution_count": null,
   "id": "76800e6d-93da-48c9-bfaa-ed6ce7cf2a6c",
   "metadata": {},
   "outputs": [],
   "source": [
    "P_B1 = cdf(d, B\\_2) # probability that we will close *below* B1 - "
   ]
  },
  {
   "cell_type": "code",
   "execution_count": 24,
   "id": "077cdca0-5614-4112-adf8-b62d4a15b0b2",
   "metadata": {},
   "outputs": [
    {
     "data": {
      "text/plain": [
       "0.259"
      ]
     },
     "execution_count": 24,
     "metadata": {},
     "output_type": "execute_result"
    }
   ],
   "source": [
    "probability_of_profit = Fₓ_B₂ - Fₓ_B₁"
   ]
  },
  {
   "cell_type": "code",
   "execution_count": null,
   "id": "7cedc740-62ef-454b-a3f4-d33b21dfdff9",
   "metadata": {},
   "outputs": [],
   "source": []
  }
 ],
 "metadata": {
  "kernelspec": {
   "display_name": "Julia 1.8.0",
   "language": "julia",
   "name": "julia-1.8"
  },
  "language_info": {
   "file_extension": ".jl",
   "mimetype": "application/julia",
   "name": "julia",
   "version": "1.8.2"
  }
 },
 "nbformat": 4,
 "nbformat_minor": 5
}
