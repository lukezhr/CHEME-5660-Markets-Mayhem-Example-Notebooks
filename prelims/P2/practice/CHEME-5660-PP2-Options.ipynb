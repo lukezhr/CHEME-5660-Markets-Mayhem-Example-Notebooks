{
 "cells": [
  {
   "cell_type": "markdown",
   "id": "283a8ec8-a829-463e-a7be-b9a7137e1e5b",
   "metadata": {},
   "source": [
    "## CHEME 5660 Practice Prelim 2 Options Question"
   ]
  },
  {
   "cell_type": "markdown",
   "id": "e698dce8-6671-40c4-b742-5f1f6203b0ee",
   "metadata": {},
   "source": [
    "A trader at Olin Financial, an up-and-coming hedge fund, sold a short strangle on firm XYZ with a 12/16 expiration. \n",
    "\n",
    "__Assumptions__: (i) the short put (contract 1) has a strike price of $K_{1}$ = 50.0 USD/share and an implied volatility of 50.79\\%;\n",
    "(ii) the short call (contract 2) has a strike price of $K_{2}$ = 57.50 USD/share and an implied volatility of 46.79\\%;\n",
    "(iii) there are 49 days to 12/16; (iv) the current share price of XYZ is 53.60 USD/share; (v) the risk-free rate is 4.05\\%.\n",
    "\n",
    "Use the Jupyter notebook `CHEME-5660-PP2-Options.ipynb`, and any associated data sets, to answer the following questions:\n",
    "\n",
    "* a) Compute the premiums for the put $\\mathcal{P}_{1}$ and call $\\mathcal{P}_{2}$ contracts for the 12/16 short strangle on firm XYZ using the Cox, Ross, and Rubinstein (CRR) binomial lattice model. \n",
    "* b) Compute the maximum profit and break-even points for the Olin Financial short strangle position on XYZ.\n",
    "* c) Compute the probability of the profit at expiration for the short strangle position using the share price distribution from the `Equity` notebook. "
   ]
  },
  {
   "cell_type": "markdown",
   "id": "29c91199-18ce-4378-89d9-7e3b575e5692",
   "metadata": {},
   "source": [
    "## Solution"
   ]
  },
  {
   "cell_type": "code",
   "execution_count": 1,
   "id": "e0aab0bc-2d02-4c2b-b26f-449f2f3ae9a9",
   "metadata": {},
   "outputs": [
    {
     "name": "stderr",
     "output_type": "stream",
     "text": [
      "\u001b[32m\u001b[1m  Activating\u001b[22m\u001b[39m project at `~/Desktop/julia_work/CHEME-5660-Markets-Mayhem-Example-Notebooks/prelims/P2/practice`\n",
      "\u001b[32m\u001b[1m  No Changes\u001b[22m\u001b[39m to `~/Desktop/julia_work/CHEME-5660-Markets-Mayhem-Example-Notebooks/prelims/P2/practice/Project.toml`\n",
      "\u001b[32m\u001b[1m  No Changes\u001b[22m\u001b[39m to `~/Desktop/julia_work/CHEME-5660-Markets-Mayhem-Example-Notebooks/prelims/P2/practice/Manifest.toml`\n"
     ]
    }
   ],
   "source": [
    "import Pkg; Pkg.activate(\".\"); Pkg.resolve(); Pkg.instantiate();"
   ]
  },
  {
   "cell_type": "code",
   "execution_count": 2,
   "id": "37954965-9612-40d7-b6e1-c9ca357cc150",
   "metadata": {},
   "outputs": [],
   "source": [
    "# load external packages that are required for the calculations -\n",
    "using DataFrames\n",
    "using CSV\n",
    "using Dates\n",
    "using Statistics\n",
    "using LinearAlgebra\n",
    "using Plots\n",
    "using Colors\n",
    "using Distributions\n",
    "using StatsPlots\n",
    "using PQEcolaPoint\n",
    "\n",
    "# setup paths to load XYZ OHLC data set -\n",
    "const _NOTEBOOK_ROOT = pwd();\n",
    "const _PATH_TO_DATA = joinpath(_NOTEBOOK_ROOT, \"data\");"
   ]
  },
  {
   "cell_type": "code",
   "execution_count": 3,
   "id": "1b72d182-69eb-48a3-b8bf-e4f1cab82639",
   "metadata": {},
   "outputs": [],
   "source": [
    "include(\"CHEME-5560-PP2-CodeLib.jl\");"
   ]
  },
  {
   "cell_type": "code",
   "execution_count": 4,
   "id": "e4ef16e3-0be3-4019-b887-f8a087f252a2",
   "metadata": {},
   "outputs": [],
   "source": [
    "# Date -\n",
    "D = Date(2022, 12, 16); # date when contracts expire \n",
    "\n",
    "# contract 1 parameters -\n",
    "IV₁ = 50.79; # implied volatility for contract 1 (short put)\n",
    "K₁ = 50.0;   # strike price short put\n",
    "T₁ = ticker(\"P\", \"XYZ\", D, K₁);\n",
    "\n",
    "# contract 2 parameters -\n",
    "IV₂ = 46.79; # implied volatility for contract 2 (short call)\n",
    "K₂ = 57.50;  # strike price short call\n",
    "T₂ = ticker(\"C\", \"XYZ\", D, K₂);\n",
    "\n",
    "# setup some shared constants\n",
    "B = 365.0;   # number of days in a year\n",
    "μ = 0.0405;  # risk-free rate\n",
    "DTE = 49.0;  # days to expiration\n",
    "\n",
    "# What is the current share price?\n",
    "Sₒ = 53.60;\n",
    "\n",
    "# How many levels on the tree?\n",
    "L = 100;"
   ]
  },
  {
   "cell_type": "markdown",
   "id": "fdc4434c-333c-40e4-9c6d-089f526e8687",
   "metadata": {},
   "source": [
    "### a) Estimate the price of the call and put contracts"
   ]
  },
  {
   "cell_type": "code",
   "execution_count": 5,
   "id": "3ae9e3d6-4a83-4165-93d3-934f06e5c339",
   "metadata": {},
   "outputs": [],
   "source": [
    "# build the contracts \n",
    "put_contract_model = build(PutContractModel, (\n",
    "    ticker = T₁,\n",
    "    expiration_date = D,\n",
    "    strike_price = K₁,\n",
    "    premium = 0.0,\n",
    "    number_of_contracts = 1,\n",
    "    direction = 1, # Bug or feature? => always use 1 here (even if we are selling)\n",
    "    current_price = 0.0      \n",
    "));\n",
    "\n",
    "call_contract_model = build(CallContractModel, (\n",
    "    ticker = T₂,\n",
    "    expiration_date = D,\n",
    "    strike_price = K₂,\n",
    "    premium = 0.0,\n",
    "    number_of_contracts = 1,\n",
    "    direction = 1, # Bug or feature? => always use 1 here (even if we are selling)\n",
    "    current_price = 0.0      \n",
    "));"
   ]
  },
  {
   "cell_type": "code",
   "execution_count": 6,
   "id": "2a48048a-67be-47b5-8792-9bd9213c1013",
   "metadata": {},
   "outputs": [],
   "source": [
    "# build the lattice models -\n",
    "lattice_model_put = build(CRRLatticeModel; number_of_levels=(L+1), Sₒ = Sₒ, σ = (IV₁/100.0), μ = μ, T = (DTE/B));\n",
    "lattice_model_call = build(CRRLatticeModel; number_of_levels=(L+1), Sₒ = Sₒ, σ = (IV₂/100.0), μ = μ, T = (DTE/B));"
   ]
  },
  {
   "cell_type": "code",
   "execution_count": 7,
   "id": "a690be55-5133-4378-bdb6-8b445e277072",
   "metadata": {},
   "outputs": [
    {
     "name": "stdout",
     "output_type": "stream",
     "text": [
      "Put contract price = 2.1925398489525816 (USD/share)\n"
     ]
    }
   ],
   "source": [
    "# compute the price of the put contract -\n",
    "price_put_contract = premium(put_contract_model, lattice_model_put);\n",
    "println(\"Put contract price = $(price_put_contract) (USD/share)\")"
   ]
  },
  {
   "cell_type": "code",
   "execution_count": 8,
   "id": "c3f41b6a-e411-4f29-9d3c-8e7e09c0cbfd",
   "metadata": {},
   "outputs": [
    {
     "name": "stdout",
     "output_type": "stream",
     "text": [
      "Call contract price = 2.2322342690115713 (USD/share)\n"
     ]
    }
   ],
   "source": [
    "# compute the price of the call contract -\n",
    "price_call_contract = premium(call_contract_model, lattice_model_call);\n",
    "println(\"Call contract price = $(price_call_contract) (USD/share)\")"
   ]
  },
  {
   "cell_type": "markdown",
   "id": "ce13cbcd-50ed-48c8-bff0-4b404420ca84",
   "metadata": {},
   "source": [
    "### b) Compute the maximum profit and breakeven points for the short strangle at expiration"
   ]
  },
  {
   "cell_type": "code",
   "execution_count": 9,
   "id": "5b11bbd6-2b30-4a53-8584-8b3124e2eb23",
   "metadata": {},
   "outputs": [
    {
     "name": "stdout",
     "output_type": "stream",
     "text": [
      "Max profit = 4.424774117964153 (USD/share)\n"
     ]
    }
   ],
   "source": [
    "# max profit occurs when trade is opened -\n",
    "max_profit = (price_put_contract + price_call_contract)\n",
    "println(\"Max profit = $(max_profit) (USD/share)\")"
   ]
  },
  {
   "cell_type": "code",
   "execution_count": 10,
   "id": "f4c4bba3-47f5-4eb6-9f84-e3f2d2c63dab",
   "metadata": {},
   "outputs": [
    {
     "name": "stdout",
     "output_type": "stream",
     "text": [
      "Break-even share price (low) B₁ = 45.575225882035845 (USD/share)\n"
     ]
    }
   ],
   "source": [
    "# Break even 1 (low) -\n",
    "B₁ = K₁ - (price_call_contract + price_put_contract)\n",
    "println(\"Break-even share price (low) B₁ = $(B₁) (USD/share)\")"
   ]
  },
  {
   "cell_type": "code",
   "execution_count": 11,
   "id": "b43ad267-0c5c-4774-8436-21bc4f469e08",
   "metadata": {},
   "outputs": [
    {
     "name": "stdout",
     "output_type": "stream",
     "text": [
      "Break-even share price (high) B₂= 61.924774117964155 (USD/share)\n"
     ]
    }
   ],
   "source": [
    "# Break even 2 (high) -\n",
    "B₂ = K₂ + (price_call_contract + price_put_contract)\n",
    "println(\"Break-even share price (high) B₂= $(B₂) (USD/share)\")"
   ]
  },
  {
   "cell_type": "markdown",
   "id": "efab6aa8-8430-44b9-ba43-746a860f6896",
   "metadata": {},
   "source": [
    "### c) Compute the probability of profit at expiration "
   ]
  },
  {
   "cell_type": "code",
   "execution_count": 12,
   "id": "7be0864e-e54c-4dad-8ef3-3c2ae10627ef",
   "metadata": {},
   "outputs": [],
   "source": [
    "# build a log normal distribution from the previous GBM simulations \n",
    "μ̂ = 3.823\n",
    "σ̂ = 0.1846\n",
    "d = LogNormal(μ̂, σ̂);"
   ]
  },
  {
   "cell_type": "code",
   "execution_count": 13,
   "id": "b6516df7-6730-45df-92a5-5639b653506f",
   "metadata": {},
   "outputs": [],
   "source": [
    "# sample the distribution -\n",
    "N = 10000;\n",
    "S_expiration = rand(d,N);"
   ]
  },
  {
   "cell_type": "code",
   "execution_count": 14,
   "id": "27368ce1-b6a1-498d-a1db-f028255e44a5",
   "metadata": {},
   "outputs": [],
   "source": [
    "# compute the probability of profit -\n",
    "\n",
    "# we are profitable if we close between the break even prices -\n",
    "prob_less_than_B1 = P(S_expiration, B₁);\n",
    "prob_less_than_B2 = P(S_expiration, B₂);"
   ]
  },
  {
   "cell_type": "code",
   "execution_count": 15,
   "id": "834ca46e-daae-4df4-bc12-18a5e04c99bf",
   "metadata": {},
   "outputs": [
    {
     "data": {
      "text/plain": [
       "0.45949999999999996"
      ]
     },
     "execution_count": 15,
     "metadata": {},
     "output_type": "execute_result"
    }
   ],
   "source": [
    "POP = prob_less_than_B2 - prob_less_than_B1"
   ]
  },
  {
   "cell_type": "code",
   "execution_count": null,
   "id": "5eea43ff-82b5-47ff-86be-47c2c8325a07",
   "metadata": {},
   "outputs": [],
   "source": []
  }
 ],
 "metadata": {
  "kernelspec": {
   "display_name": "Julia 1.8.0",
   "language": "julia",
   "name": "julia-1.8"
  },
  "language_info": {
   "file_extension": ".jl",
   "mimetype": "application/julia",
   "name": "julia",
   "version": "1.8.2"
  }
 },
 "nbformat": 4,
 "nbformat_minor": 5
}
